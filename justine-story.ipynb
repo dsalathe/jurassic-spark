{
 "cells": [
  {
   "cell_type": "code",
   "execution_count": 1,
   "metadata": {},
   "outputs": [],
   "source": [
    "import pickle\n",
    "import pandas as pd\n",
    "import seaborn as sns\n",
    "import matplotlib.pyplot as plt"
   ]
  },
  {
   "cell_type": "code",
   "execution_count": 2,
   "metadata": {},
   "outputs": [],
   "source": [
    "df = pd.read_pickle(\"data/final_df.pkl\")"
   ]
  },
  {
   "cell_type": "code",
   "execution_count": 3,
   "metadata": {},
   "outputs": [],
   "source": [
    "# We decide to remove the item_trades for an analysis on the item_crops to avoid duplicates\n",
    "df_crops = df.drop(['item_trades', 'export_v', 'export_q', 'import_v', 'import_q'], axis=1).drop_duplicates()"
   ]
  },
  {
   "cell_type": "code",
   "execution_count": 4,
   "metadata": {},
   "outputs": [],
   "source": [
    "df_2016 = df_crops[df_crops.year==2016]\n",
    "df_1961 = df_crops[df_crops.year==1961]"
   ]
  },
  {
   "cell_type": "code",
   "execution_count": 5,
   "metadata": {},
   "outputs": [
    {
     "data": {
      "text/html": [
       "<div>\n",
       "<style scoped>\n",
       "    .dataframe tbody tr th:only-of-type {\n",
       "        vertical-align: middle;\n",
       "    }\n",
       "\n",
       "    .dataframe tbody tr th {\n",
       "        vertical-align: top;\n",
       "    }\n",
       "\n",
       "    .dataframe thead th {\n",
       "        text-align: right;\n",
       "    }\n",
       "</style>\n",
       "<table border=\"1\" class=\"dataframe\">\n",
       "  <thead>\n",
       "    <tr style=\"text-align: right;\">\n",
       "      <th></th>\n",
       "      <th>area_code</th>\n",
       "      <th>area_crops</th>\n",
       "      <th>item_crops</th>\n",
       "      <th>year</th>\n",
       "      <th>area_harvested</th>\n",
       "      <th>production</th>\n",
       "      <th>yield</th>\n",
       "      <th>hs12_code</th>\n",
       "      <th>parent_group</th>\n",
       "      <th>child_group</th>\n",
       "      <th>parent_description</th>\n",
       "      <th>child_description</th>\n",
       "    </tr>\n",
       "  </thead>\n",
       "  <tbody>\n",
       "    <tr>\n",
       "      <td>0</td>\n",
       "      <td>1</td>\n",
       "      <td>Armenia</td>\n",
       "      <td>Wheat</td>\n",
       "      <td>1992</td>\n",
       "      <td>65500.0</td>\n",
       "      <td>141483.0</td>\n",
       "      <td>21600.0</td>\n",
       "      <td>100111</td>\n",
       "      <td>10</td>\n",
       "      <td>1001</td>\n",
       "      <td>Cereals</td>\n",
       "      <td>Wheat and meslin</td>\n",
       "    </tr>\n",
       "    <tr>\n",
       "      <td>1</td>\n",
       "      <td>1</td>\n",
       "      <td>Armenia</td>\n",
       "      <td>Wheat</td>\n",
       "      <td>1993</td>\n",
       "      <td>97900.0</td>\n",
       "      <td>217900.0</td>\n",
       "      <td>22257.0</td>\n",
       "      <td>100111</td>\n",
       "      <td>10</td>\n",
       "      <td>1001</td>\n",
       "      <td>Cereals</td>\n",
       "      <td>Wheat and meslin</td>\n",
       "    </tr>\n",
       "    <tr>\n",
       "      <td>3</td>\n",
       "      <td>1</td>\n",
       "      <td>Armenia</td>\n",
       "      <td>Wheat</td>\n",
       "      <td>1994</td>\n",
       "      <td>85697.0</td>\n",
       "      <td>152900.0</td>\n",
       "      <td>17842.0</td>\n",
       "      <td>100111</td>\n",
       "      <td>10</td>\n",
       "      <td>1001</td>\n",
       "      <td>Cereals</td>\n",
       "      <td>Wheat and meslin</td>\n",
       "    </tr>\n",
       "  </tbody>\n",
       "</table>\n",
       "</div>"
      ],
      "text/plain": [
       "   area_code area_crops item_crops  year  area_harvested  production    yield  \\\n",
       "0          1    Armenia      Wheat  1992         65500.0    141483.0  21600.0   \n",
       "1          1    Armenia      Wheat  1993         97900.0    217900.0  22257.0   \n",
       "3          1    Armenia      Wheat  1994         85697.0    152900.0  17842.0   \n",
       "\n",
       "  hs12_code parent_group child_group parent_description child_description  \n",
       "0    100111           10        1001            Cereals  Wheat and meslin  \n",
       "1    100111           10        1001            Cereals  Wheat and meslin  \n",
       "3    100111           10        1001            Cereals  Wheat and meslin  "
      ]
     },
     "execution_count": 5,
     "metadata": {},
     "output_type": "execute_result"
    }
   ],
   "source": [
    "df_crops.head(3)"
   ]
  },
  {
   "cell_type": "code",
   "execution_count": 6,
   "metadata": {},
   "outputs": [
    {
     "data": {
      "text/plain": [
       "125"
      ]
     },
     "execution_count": 6,
     "metadata": {},
     "output_type": "execute_result"
    }
   ],
   "source": [
    "df_crops.item_crops.nunique()"
   ]
  },
  {
   "cell_type": "code",
   "execution_count": 7,
   "metadata": {},
   "outputs": [],
   "source": [
    "# Countries\n",
    "countries = df_crops.area_crops.unique()"
   ]
  },
  {
   "cell_type": "code",
   "execution_count": 8,
   "metadata": {},
   "outputs": [
    {
     "data": {
      "text/html": [
       "<div>\n",
       "<style scoped>\n",
       "    .dataframe tbody tr th:only-of-type {\n",
       "        vertical-align: middle;\n",
       "    }\n",
       "\n",
       "    .dataframe tbody tr th {\n",
       "        vertical-align: top;\n",
       "    }\n",
       "\n",
       "    .dataframe thead th {\n",
       "        text-align: right;\n",
       "    }\n",
       "</style>\n",
       "<table border=\"1\" class=\"dataframe\">\n",
       "  <thead>\n",
       "    <tr style=\"text-align: right;\">\n",
       "      <th></th>\n",
       "      <th></th>\n",
       "      <th></th>\n",
       "      <th>area_harvested</th>\n",
       "      <th>production</th>\n",
       "      <th>yield</th>\n",
       "    </tr>\n",
       "    <tr>\n",
       "      <th>area_crops</th>\n",
       "      <th>area_code</th>\n",
       "      <th>year</th>\n",
       "      <th></th>\n",
       "      <th></th>\n",
       "      <th></th>\n",
       "    </tr>\n",
       "  </thead>\n",
       "  <tbody>\n",
       "    <tr>\n",
       "      <td rowspan=\"5\" valign=\"top\">Afghanistan</td>\n",
       "      <td rowspan=\"5\" valign=\"top\">2</td>\n",
       "      <td>1961</td>\n",
       "      <td>6933739.0</td>\n",
       "      <td>8491473.0</td>\n",
       "      <td>884228.0</td>\n",
       "    </tr>\n",
       "    <tr>\n",
       "      <td>1962</td>\n",
       "      <td>7156590.0</td>\n",
       "      <td>8506573.0</td>\n",
       "      <td>878654.0</td>\n",
       "    </tr>\n",
       "    <tr>\n",
       "      <td>1963</td>\n",
       "      <td>7157440.0</td>\n",
       "      <td>7919773.0</td>\n",
       "      <td>892562.0</td>\n",
       "    </tr>\n",
       "    <tr>\n",
       "      <td>1964</td>\n",
       "      <td>7211010.0</td>\n",
       "      <td>8735560.0</td>\n",
       "      <td>986156.0</td>\n",
       "    </tr>\n",
       "    <tr>\n",
       "      <td>1965</td>\n",
       "      <td>7222200.0</td>\n",
       "      <td>8921760.0</td>\n",
       "      <td>1018809.0</td>\n",
       "    </tr>\n",
       "    <tr>\n",
       "      <td>...</td>\n",
       "      <td>...</td>\n",
       "      <td>...</td>\n",
       "      <td>...</td>\n",
       "      <td>...</td>\n",
       "      <td>...</td>\n",
       "    </tr>\n",
       "    <tr>\n",
       "      <td rowspan=\"5\" valign=\"top\">Zimbabwe</td>\n",
       "      <td rowspan=\"5\" valign=\"top\">181</td>\n",
       "      <td>2013</td>\n",
       "      <td>4340473.0</td>\n",
       "      <td>4185714.0</td>\n",
       "      <td>2853526.0</td>\n",
       "    </tr>\n",
       "    <tr>\n",
       "      <td>2014</td>\n",
       "      <td>3613056.0</td>\n",
       "      <td>4291655.0</td>\n",
       "      <td>2782044.0</td>\n",
       "    </tr>\n",
       "    <tr>\n",
       "      <td>2015</td>\n",
       "      <td>3519812.0</td>\n",
       "      <td>3388545.0</td>\n",
       "      <td>2587166.0</td>\n",
       "    </tr>\n",
       "    <tr>\n",
       "      <td>2016</td>\n",
       "      <td>4372424.0</td>\n",
       "      <td>3973117.0</td>\n",
       "      <td>2562953.0</td>\n",
       "    </tr>\n",
       "    <tr>\n",
       "      <td>2017</td>\n",
       "      <td>4275269.0</td>\n",
       "      <td>4066000.0</td>\n",
       "      <td>2535935.0</td>\n",
       "    </tr>\n",
       "  </tbody>\n",
       "</table>\n",
       "<p>12588 rows × 3 columns</p>\n",
       "</div>"
      ],
      "text/plain": [
       "                            area_harvested  production      yield\n",
       "area_crops  area_code year                                       \n",
       "Afghanistan 2         1961       6933739.0   8491473.0   884228.0\n",
       "                      1962       7156590.0   8506573.0   878654.0\n",
       "                      1963       7157440.0   7919773.0   892562.0\n",
       "                      1964       7211010.0   8735560.0   986156.0\n",
       "                      1965       7222200.0   8921760.0  1018809.0\n",
       "...                                    ...         ...        ...\n",
       "Zimbabwe    181       2013       4340473.0   4185714.0  2853526.0\n",
       "                      2014       3613056.0   4291655.0  2782044.0\n",
       "                      2015       3519812.0   3388545.0  2587166.0\n",
       "                      2016       4372424.0   3973117.0  2562953.0\n",
       "                      2017       4275269.0   4066000.0  2535935.0\n",
       "\n",
       "[12588 rows x 3 columns]"
      ]
     },
     "execution_count": 8,
     "metadata": {},
     "output_type": "execute_result"
    }
   ],
   "source": [
    "# Rank countries\n",
    "df_crops.groupby(['area_crops', 'area_code', 'year']).sum()"
   ]
  },
  {
   "cell_type": "code",
   "execution_count": 9,
   "metadata": {},
   "outputs": [
    {
     "data": {
      "text/html": [
       "<div>\n",
       "<style scoped>\n",
       "    .dataframe tbody tr th:only-of-type {\n",
       "        vertical-align: middle;\n",
       "    }\n",
       "\n",
       "    .dataframe tbody tr th {\n",
       "        vertical-align: top;\n",
       "    }\n",
       "\n",
       "    .dataframe thead th {\n",
       "        text-align: right;\n",
       "    }\n",
       "</style>\n",
       "<table border=\"1\" class=\"dataframe\">\n",
       "  <thead>\n",
       "    <tr style=\"text-align: right;\">\n",
       "      <th></th>\n",
       "      <th>area_code</th>\n",
       "      <th>year</th>\n",
       "      <th>area_harvested</th>\n",
       "      <th>production</th>\n",
       "      <th>yield</th>\n",
       "    </tr>\n",
       "    <tr>\n",
       "      <th>area_crops</th>\n",
       "      <th></th>\n",
       "      <th></th>\n",
       "      <th></th>\n",
       "      <th></th>\n",
       "      <th></th>\n",
       "    </tr>\n",
       "  </thead>\n",
       "  <tbody>\n",
       "    <tr>\n",
       "      <td>Afghanistan</td>\n",
       "      <td>2938</td>\n",
       "      <td>2924409</td>\n",
       "      <td>3.518493e+08</td>\n",
       "      <td>5.875219e+08</td>\n",
       "      <td>75832916.0</td>\n",
       "    </tr>\n",
       "    <tr>\n",
       "      <td>Africa</td>\n",
       "      <td>31380300</td>\n",
       "      <td>12238663</td>\n",
       "      <td>1.424796e+10</td>\n",
       "      <td>3.435675e+10</td>\n",
       "      <td>351132923.0</td>\n",
       "    </tr>\n",
       "    <tr>\n",
       "      <td>Albania</td>\n",
       "      <td>4908</td>\n",
       "      <td>3268814</td>\n",
       "      <td>2.595804e+07</td>\n",
       "      <td>1.216131e+08</td>\n",
       "      <td>167564898.0</td>\n",
       "    </tr>\n",
       "    <tr>\n",
       "      <td>Algeria</td>\n",
       "      <td>11304</td>\n",
       "      <td>5626263</td>\n",
       "      <td>3.822382e+08</td>\n",
       "      <td>8.134551e+08</td>\n",
       "      <td>169551278.0</td>\n",
       "    </tr>\n",
       "    <tr>\n",
       "      <td>American Samoa</td>\n",
       "      <td>1950</td>\n",
       "      <td>775668</td>\n",
       "      <td>2.509810e+05</td>\n",
       "      <td>7.093590e+05</td>\n",
       "      <td>12841481.0</td>\n",
       "    </tr>\n",
       "    <tr>\n",
       "      <td>...</td>\n",
       "      <td>...</td>\n",
       "      <td>...</td>\n",
       "      <td>...</td>\n",
       "      <td>...</td>\n",
       "      <td>...</td>\n",
       "    </tr>\n",
       "    <tr>\n",
       "      <td>World</td>\n",
       "      <td>34910000</td>\n",
       "      <td>13883894</td>\n",
       "      <td>1.246644e+11</td>\n",
       "      <td>4.331248e+11</td>\n",
       "      <td>674826695.0</td>\n",
       "    </tr>\n",
       "    <tr>\n",
       "      <td>Yemen</td>\n",
       "      <td>445710</td>\n",
       "      <td>3570292</td>\n",
       "      <td>1.113600e+08</td>\n",
       "      <td>1.762279e+08</td>\n",
       "      <td>116114448.0</td>\n",
       "    </tr>\n",
       "    <tr>\n",
       "      <td>Yugoslav SFR</td>\n",
       "      <td>353896</td>\n",
       "      <td>2821289</td>\n",
       "      <td>3.588162e+08</td>\n",
       "      <td>1.404725e+09</td>\n",
       "      <td>69070211.0</td>\n",
       "    </tr>\n",
       "    <tr>\n",
       "      <td>Zambia</td>\n",
       "      <td>369221</td>\n",
       "      <td>2928732</td>\n",
       "      <td>1.327529e+08</td>\n",
       "      <td>2.827912e+08</td>\n",
       "      <td>59050906.0</td>\n",
       "    </tr>\n",
       "    <tr>\n",
       "      <td>Zimbabwe</td>\n",
       "      <td>490510</td>\n",
       "      <td>5400672</td>\n",
       "      <td>2.363956e+08</td>\n",
       "      <td>2.720592e+08</td>\n",
       "      <td>115918224.0</td>\n",
       "    </tr>\n",
       "  </tbody>\n",
       "</table>\n",
       "<p>244 rows × 5 columns</p>\n",
       "</div>"
      ],
      "text/plain": [
       "                area_code      year  area_harvested    production        yield\n",
       "area_crops                                                                    \n",
       "Afghanistan          2938   2924409    3.518493e+08  5.875219e+08   75832916.0\n",
       "Africa           31380300  12238663    1.424796e+10  3.435675e+10  351132923.0\n",
       "Albania              4908   3268814    2.595804e+07  1.216131e+08  167564898.0\n",
       "Algeria             11304   5626263    3.822382e+08  8.134551e+08  169551278.0\n",
       "American Samoa       1950    775668    2.509810e+05  7.093590e+05   12841481.0\n",
       "...                   ...       ...             ...           ...          ...\n",
       "World            34910000  13883894    1.246644e+11  4.331248e+11  674826695.0\n",
       "Yemen              445710   3570292    1.113600e+08  1.762279e+08  116114448.0\n",
       "Yugoslav SFR       353896   2821289    3.588162e+08  1.404725e+09   69070211.0\n",
       "Zambia             369221   2928732    1.327529e+08  2.827912e+08   59050906.0\n",
       "Zimbabwe           490510   5400672    2.363956e+08  2.720592e+08  115918224.0\n",
       "\n",
       "[244 rows x 5 columns]"
      ]
     },
     "execution_count": 9,
     "metadata": {},
     "output_type": "execute_result"
    }
   ],
   "source": [
    "# Rank crops\n",
    "df_crops.groupby('area_crops').sum()"
   ]
  },
  {
   "cell_type": "code",
   "execution_count": 10,
   "metadata": {},
   "outputs": [],
   "source": [
    "# Time analysis"
   ]
  },
  {
   "cell_type": "markdown",
   "metadata": {},
   "source": [
    "Ideas\n",
    "- Tobacco\n",
    "- Wine / Grapes"
   ]
  },
  {
   "cell_type": "markdown",
   "metadata": {},
   "source": [
    "### Number of countries per crops"
   ]
  },
  {
   "cell_type": "markdown",
   "metadata": {},
   "source": [
    "Attention : biased because 'World' (and others) is included in the countries"
   ]
  },
  {
   "cell_type": "code",
   "execution_count": 11,
   "metadata": {},
   "outputs": [
    {
     "data": {
      "text/plain": [
       "item_crops           year\n",
       "Almonds, with shell  1961     27\n",
       "                     1962     27\n",
       "                     1963     27\n",
       "                     1964     27\n",
       "                     1965     27\n",
       "                            ... \n",
       "Wheat                2013    156\n",
       "                     2014    153\n",
       "                     2015    155\n",
       "                     2016    156\n",
       "                     2017    125\n",
       "Name: area_crops, Length: 7106, dtype: int64"
      ]
     },
     "execution_count": 11,
     "metadata": {},
     "output_type": "execute_result"
    }
   ],
   "source": [
    "# Count nb of countries in which products are produced\n",
    "df_crops.groupby(['item_crops', 'year']).area_crops.nunique()"
   ]
  },
  {
   "cell_type": "code",
   "execution_count": 12,
   "metadata": {},
   "outputs": [
    {
     "data": {
      "text/html": [
       "<div>\n",
       "<style scoped>\n",
       "    .dataframe tbody tr th:only-of-type {\n",
       "        vertical-align: middle;\n",
       "    }\n",
       "\n",
       "    .dataframe tbody tr th {\n",
       "        vertical-align: top;\n",
       "    }\n",
       "\n",
       "    .dataframe thead th {\n",
       "        text-align: right;\n",
       "    }\n",
       "</style>\n",
       "<table border=\"1\" class=\"dataframe\">\n",
       "  <thead>\n",
       "    <tr style=\"text-align: right;\">\n",
       "      <th></th>\n",
       "      <th>item_crops</th>\n",
       "      <th>#countries</th>\n",
       "    </tr>\n",
       "  </thead>\n",
       "  <tbody>\n",
       "    <tr>\n",
       "      <td>0</td>\n",
       "      <td>Vegetables Primary</td>\n",
       "      <td>205</td>\n",
       "    </tr>\n",
       "    <tr>\n",
       "      <td>1</td>\n",
       "      <td>Vegetables, fresh nes</td>\n",
       "      <td>197</td>\n",
       "    </tr>\n",
       "    <tr>\n",
       "      <td>2</td>\n",
       "      <td>Cereals (Rice Milled Eqv)</td>\n",
       "      <td>173</td>\n",
       "    </tr>\n",
       "    <tr>\n",
       "      <td>3</td>\n",
       "      <td>Roots and Tubers,Total</td>\n",
       "      <td>171</td>\n",
       "    </tr>\n",
       "    <tr>\n",
       "      <td>4</td>\n",
       "      <td>Maize</td>\n",
       "      <td>169</td>\n",
       "    </tr>\n",
       "    <tr>\n",
       "      <td>5</td>\n",
       "      <td>Tomatoes</td>\n",
       "      <td>155</td>\n",
       "    </tr>\n",
       "    <tr>\n",
       "      <td>6</td>\n",
       "      <td>Potatoes</td>\n",
       "      <td>152</td>\n",
       "    </tr>\n",
       "    <tr>\n",
       "      <td>7</td>\n",
       "      <td>Tobacco, unmanufactured</td>\n",
       "      <td>144</td>\n",
       "    </tr>\n",
       "    <tr>\n",
       "      <td>8</td>\n",
       "      <td>Rice, paddy</td>\n",
       "      <td>139</td>\n",
       "    </tr>\n",
       "    <tr>\n",
       "      <td>9</td>\n",
       "      <td>Onions, dry</td>\n",
       "      <td>132</td>\n",
       "    </tr>\n",
       "  </tbody>\n",
       "</table>\n",
       "</div>"
      ],
      "text/plain": [
       "                  item_crops  #countries\n",
       "0         Vegetables Primary         205\n",
       "1      Vegetables, fresh nes         197\n",
       "2  Cereals (Rice Milled Eqv)         173\n",
       "3     Roots and Tubers,Total         171\n",
       "4                      Maize         169\n",
       "5                   Tomatoes         155\n",
       "6                   Potatoes         152\n",
       "7    Tobacco, unmanufactured         144\n",
       "8                Rice, paddy         139\n",
       "9                Onions, dry         132"
      ]
     },
     "execution_count": 12,
     "metadata": {},
     "output_type": "execute_result"
    }
   ],
   "source": [
    "# Count nb of countries in which products are produced in 1961\n",
    "df_1961.groupby(['item_crops']).area_crops.nunique().sort_values(ascending=False).reset_index(name='#countries').head(10)"
   ]
  },
  {
   "cell_type": "code",
   "execution_count": 13,
   "metadata": {},
   "outputs": [
    {
     "data": {
      "text/html": [
       "<div>\n",
       "<style scoped>\n",
       "    .dataframe tbody tr th:only-of-type {\n",
       "        vertical-align: middle;\n",
       "    }\n",
       "\n",
       "    .dataframe tbody tr th {\n",
       "        vertical-align: top;\n",
       "    }\n",
       "\n",
       "    .dataframe thead th {\n",
       "        text-align: right;\n",
       "    }\n",
       "</style>\n",
       "<table border=\"1\" class=\"dataframe\">\n",
       "  <thead>\n",
       "    <tr style=\"text-align: right;\">\n",
       "      <th></th>\n",
       "      <th>item_crops</th>\n",
       "      <th>#countries</th>\n",
       "    </tr>\n",
       "  </thead>\n",
       "  <tbody>\n",
       "    <tr>\n",
       "      <td>0</td>\n",
       "      <td>Vegetables Primary</td>\n",
       "      <td>232</td>\n",
       "    </tr>\n",
       "    <tr>\n",
       "      <td>1</td>\n",
       "      <td>Vegetables, fresh nes</td>\n",
       "      <td>228</td>\n",
       "    </tr>\n",
       "    <tr>\n",
       "      <td>2</td>\n",
       "      <td>Cereals (Rice Milled Eqv)</td>\n",
       "      <td>213</td>\n",
       "    </tr>\n",
       "    <tr>\n",
       "      <td>3</td>\n",
       "      <td>Roots and Tubers,Total</td>\n",
       "      <td>209</td>\n",
       "    </tr>\n",
       "    <tr>\n",
       "      <td>4</td>\n",
       "      <td>Tomatoes</td>\n",
       "      <td>202</td>\n",
       "    </tr>\n",
       "    <tr>\n",
       "      <td>5</td>\n",
       "      <td>Maize</td>\n",
       "      <td>197</td>\n",
       "    </tr>\n",
       "    <tr>\n",
       "      <td>6</td>\n",
       "      <td>Potatoes</td>\n",
       "      <td>190</td>\n",
       "    </tr>\n",
       "    <tr>\n",
       "      <td>7</td>\n",
       "      <td>Fruit, fresh nes</td>\n",
       "      <td>188</td>\n",
       "    </tr>\n",
       "    <tr>\n",
       "      <td>8</td>\n",
       "      <td>Cabbages and other brassicas</td>\n",
       "      <td>175</td>\n",
       "    </tr>\n",
       "    <tr>\n",
       "      <td>9</td>\n",
       "      <td>Onions, dry</td>\n",
       "      <td>165</td>\n",
       "    </tr>\n",
       "  </tbody>\n",
       "</table>\n",
       "</div>"
      ],
      "text/plain": [
       "                     item_crops  #countries\n",
       "0            Vegetables Primary         232\n",
       "1         Vegetables, fresh nes         228\n",
       "2     Cereals (Rice Milled Eqv)         213\n",
       "3        Roots and Tubers,Total         209\n",
       "4                      Tomatoes         202\n",
       "5                         Maize         197\n",
       "6                      Potatoes         190\n",
       "7              Fruit, fresh nes         188\n",
       "8  Cabbages and other brassicas         175\n",
       "9                   Onions, dry         165"
      ]
     },
     "execution_count": 13,
     "metadata": {},
     "output_type": "execute_result"
    }
   ],
   "source": [
    "# Count nb of countries in which products are produced in 2017\n",
    "df_2016.groupby(['item_crops']).area_crops.nunique().sort_values(ascending=False).reset_index(name='#countries').head(10)"
   ]
  },
  {
   "cell_type": "markdown",
   "metadata": {},
   "source": [
    "**Could be interesting:**\n",
    "- fruit"
   ]
  },
  {
   "cell_type": "markdown",
   "metadata": {},
   "source": [
    "### Yield per crops"
   ]
  },
  {
   "cell_type": "code",
   "execution_count": 14,
   "metadata": {},
   "outputs": [],
   "source": [
    "# Sum yield on which products are produced in 1961\n",
    "crop_yield_1961 = df_1961[df_1961.area_crops=='World']\\\n",
    "                        .groupby(['item_crops'])['yield']\\\n",
    "                        .sum()\\\n",
    "                        .sort_values(ascending=False)\\\n",
    "                        .reset_index(name='total_yield')"
   ]
  },
  {
   "cell_type": "code",
   "execution_count": 15,
   "metadata": {},
   "outputs": [],
   "source": [
    "# Sum yield on which products are produced in 2016\n",
    "crop_yield_2016 = df_2016[df_2016.area_crops=='World']\\\n",
    "                        .groupby(['item_crops'])['yield']\\\n",
    "                        .sum()\\\n",
    "                        .sort_values(ascending=False)\\\n",
    "                        .reset_index(name='total_yield')"
   ]
  },
  {
   "cell_type": "code",
   "execution_count": 16,
   "metadata": {},
   "outputs": [],
   "source": [
    "comp_crop_yield = crop_yield_1961\\\n",
    "                    .merge(crop_yield_2016, how='outer', on=['item_crops'], suffixes=['_1961', '_2016'])"
   ]
  },
  {
   "cell_type": "code",
   "execution_count": 17,
   "metadata": {},
   "outputs": [],
   "source": [
    "comp_crop_yield['diff'] = comp_crop_yield['total_yield_2016']-comp_crop_yield['total_yield_1961']"
   ]
  },
  {
   "cell_type": "code",
   "execution_count": 18,
   "metadata": {},
   "outputs": [
    {
     "data": {
      "text/html": [
       "<div>\n",
       "<style scoped>\n",
       "    .dataframe tbody tr th:only-of-type {\n",
       "        vertical-align: middle;\n",
       "    }\n",
       "\n",
       "    .dataframe tbody tr th {\n",
       "        vertical-align: top;\n",
       "    }\n",
       "\n",
       "    .dataframe thead th {\n",
       "        text-align: right;\n",
       "    }\n",
       "</style>\n",
       "<table border=\"1\" class=\"dataframe\">\n",
       "  <thead>\n",
       "    <tr style=\"text-align: right;\">\n",
       "      <th></th>\n",
       "      <th>item_crops</th>\n",
       "      <th>total_yield_1961</th>\n",
       "      <th>total_yield_2016</th>\n",
       "      <th>diff</th>\n",
       "    </tr>\n",
       "  </thead>\n",
       "  <tbody>\n",
       "    <tr>\n",
       "      <td>0</td>\n",
       "      <td>Mushrooms and truffles</td>\n",
       "      <td>1678397.0</td>\n",
       "      <td>3702230.0</td>\n",
       "      <td>2023833.0</td>\n",
       "    </tr>\n",
       "    <tr>\n",
       "      <td>4</td>\n",
       "      <td>Sugar beet</td>\n",
       "      <td>231735.0</td>\n",
       "      <td>605397.0</td>\n",
       "      <td>373662.0</td>\n",
       "    </tr>\n",
       "    <tr>\n",
       "      <td>27</td>\n",
       "      <td>Cucumbers and gherkins</td>\n",
       "      <td>94308.0</td>\n",
       "      <td>362965.0</td>\n",
       "      <td>268657.0</td>\n",
       "    </tr>\n",
       "    <tr>\n",
       "      <td>30</td>\n",
       "      <td>Watermelons</td>\n",
       "      <td>91267.0</td>\n",
       "      <td>333436.0</td>\n",
       "      <td>242169.0</td>\n",
       "    </tr>\n",
       "    <tr>\n",
       "      <td>8</td>\n",
       "      <td>Tomatoes</td>\n",
       "      <td>164346.0</td>\n",
       "      <td>370488.0</td>\n",
       "      <td>206142.0</td>\n",
       "    </tr>\n",
       "    <tr>\n",
       "      <td>...</td>\n",
       "      <td>...</td>\n",
       "      <td>...</td>\n",
       "      <td>...</td>\n",
       "      <td>...</td>\n",
       "    </tr>\n",
       "    <tr>\n",
       "      <td>2</td>\n",
       "      <td>Currants</td>\n",
       "      <td>393254.0</td>\n",
       "      <td>54814.0</td>\n",
       "      <td>-338440.0</td>\n",
       "    </tr>\n",
       "    <tr>\n",
       "      <td>1</td>\n",
       "      <td>Maté</td>\n",
       "      <td>525751.0</td>\n",
       "      <td>38607.0</td>\n",
       "      <td>-487144.0</td>\n",
       "    </tr>\n",
       "    <tr>\n",
       "      <td>39</td>\n",
       "      <td>Peppermint</td>\n",
       "      <td>82976.0</td>\n",
       "      <td>NaN</td>\n",
       "      <td>NaN</td>\n",
       "    </tr>\n",
       "    <tr>\n",
       "      <td>116</td>\n",
       "      <td>Fibre Crops Primary</td>\n",
       "      <td>3892.0</td>\n",
       "      <td>NaN</td>\n",
       "      <td>NaN</td>\n",
       "    </tr>\n",
       "    <tr>\n",
       "      <td>124</td>\n",
       "      <td>Triticale</td>\n",
       "      <td>NaN</td>\n",
       "      <td>36757.0</td>\n",
       "      <td>NaN</td>\n",
       "    </tr>\n",
       "  </tbody>\n",
       "</table>\n",
       "<p>125 rows × 4 columns</p>\n",
       "</div>"
      ],
      "text/plain": [
       "                 item_crops  total_yield_1961  total_yield_2016       diff\n",
       "0    Mushrooms and truffles         1678397.0         3702230.0  2023833.0\n",
       "4                Sugar beet          231735.0          605397.0   373662.0\n",
       "27   Cucumbers and gherkins           94308.0          362965.0   268657.0\n",
       "30              Watermelons           91267.0          333436.0   242169.0\n",
       "8                  Tomatoes          164346.0          370488.0   206142.0\n",
       "..                      ...               ...               ...        ...\n",
       "2                  Currants          393254.0           54814.0  -338440.0\n",
       "1                      Maté          525751.0           38607.0  -487144.0\n",
       "39               Peppermint           82976.0               NaN        NaN\n",
       "116     Fibre Crops Primary            3892.0               NaN        NaN\n",
       "124               Triticale               NaN           36757.0        NaN\n",
       "\n",
       "[125 rows x 4 columns]"
      ]
     },
     "execution_count": 18,
     "metadata": {},
     "output_type": "execute_result"
    }
   ],
   "source": [
    "comp_crop_yield.sort_values('diff', ascending=False)"
   ]
  },
  {
   "cell_type": "markdown",
   "metadata": {},
   "source": [
    "### Area harvested"
   ]
  },
  {
   "cell_type": "code",
   "execution_count": 19,
   "metadata": {},
   "outputs": [],
   "source": [
    "#TODO sort countries by area for crops"
   ]
  },
  {
   "cell_type": "code",
   "execution_count": 26,
   "metadata": {},
   "outputs": [],
   "source": [
    "crop_area_1961 = df_1961[df_1961.area_crops=='World']\\\n",
    "                        .groupby(['item_crops'])['area_harvested']\\\n",
    "                        .sum()\\\n",
    "                        .sort_values(ascending=False)\\\n",
    "                        .reset_index(name='total_area')\n",
    "\n",
    "crop_area_2016 = df_2016[df_2016.area_crops=='World']\\\n",
    "                        .groupby(['item_crops'])['area_harvested']\\\n",
    "                        .sum()\\\n",
    "                        .sort_values(ascending=False)\\\n",
    "                        .reset_index(name='total_area')\n",
    "\n",
    "comp_crop_area = crop_area_1961\\\n",
    "                    .merge(crop_area_2016, how='outer', on=['item_crops'], suffixes=['_1961', '_2016'])"
   ]
  },
  {
   "cell_type": "code",
   "execution_count": 27,
   "metadata": {},
   "outputs": [
    {
     "data": {
      "text/html": [
       "<div>\n",
       "<style scoped>\n",
       "    .dataframe tbody tr th:only-of-type {\n",
       "        vertical-align: middle;\n",
       "    }\n",
       "\n",
       "    .dataframe tbody tr th {\n",
       "        vertical-align: top;\n",
       "    }\n",
       "\n",
       "    .dataframe thead th {\n",
       "        text-align: right;\n",
       "    }\n",
       "</style>\n",
       "<table border=\"1\" class=\"dataframe\">\n",
       "  <thead>\n",
       "    <tr style=\"text-align: right;\">\n",
       "      <th></th>\n",
       "      <th>item_crops</th>\n",
       "      <th>total_area_1961</th>\n",
       "      <th>total_area_2016</th>\n",
       "    </tr>\n",
       "  </thead>\n",
       "  <tbody>\n",
       "    <tr>\n",
       "      <td>0</td>\n",
       "      <td>Cereals (Rice Milled Eqv)</td>\n",
       "      <td>647997350.0</td>\n",
       "      <td>733340825.0</td>\n",
       "    </tr>\n",
       "    <tr>\n",
       "      <td>1</td>\n",
       "      <td>Coarse Grain, Total</td>\n",
       "      <td>328422765.0</td>\n",
       "      <td>347868958.0</td>\n",
       "    </tr>\n",
       "    <tr>\n",
       "      <td>2</td>\n",
       "      <td>Wheat</td>\n",
       "      <td>204209450.0</td>\n",
       "      <td>220252643.0</td>\n",
       "    </tr>\n",
       "    <tr>\n",
       "      <td>3</td>\n",
       "      <td>Rice, paddy</td>\n",
       "      <td>115365135.0</td>\n",
       "      <td>165219224.0</td>\n",
       "    </tr>\n",
       "    <tr>\n",
       "      <td>4</td>\n",
       "      <td>Maize</td>\n",
       "      <td>105559708.0</td>\n",
       "      <td>195363162.0</td>\n",
       "    </tr>\n",
       "    <tr>\n",
       "      <td>...</td>\n",
       "      <td>...</td>\n",
       "      <td>...</td>\n",
       "      <td>...</td>\n",
       "    </tr>\n",
       "    <tr>\n",
       "      <td>120</td>\n",
       "      <td>Maté</td>\n",
       "      <td>5300.0</td>\n",
       "      <td>259900.0</td>\n",
       "    </tr>\n",
       "    <tr>\n",
       "      <td>121</td>\n",
       "      <td>Blueberries</td>\n",
       "      <td>3023.0</td>\n",
       "      <td>116375.0</td>\n",
       "    </tr>\n",
       "    <tr>\n",
       "      <td>122</td>\n",
       "      <td>Mushrooms and truffles</td>\n",
       "      <td>2950.0</td>\n",
       "      <td>26524.0</td>\n",
       "    </tr>\n",
       "    <tr>\n",
       "      <td>123</td>\n",
       "      <td>Brazil nuts, with shell</td>\n",
       "      <td>1800.0</td>\n",
       "      <td>11897.0</td>\n",
       "    </tr>\n",
       "    <tr>\n",
       "      <td>124</td>\n",
       "      <td>Triticale</td>\n",
       "      <td>NaN</td>\n",
       "      <td>4234298.0</td>\n",
       "    </tr>\n",
       "  </tbody>\n",
       "</table>\n",
       "<p>125 rows × 3 columns</p>\n",
       "</div>"
      ],
      "text/plain": [
       "                    item_crops  total_area_1961  total_area_2016\n",
       "0    Cereals (Rice Milled Eqv)      647997350.0      733340825.0\n",
       "1          Coarse Grain, Total      328422765.0      347868958.0\n",
       "2                        Wheat      204209450.0      220252643.0\n",
       "3                  Rice, paddy      115365135.0      165219224.0\n",
       "4                        Maize      105559708.0      195363162.0\n",
       "..                         ...              ...              ...\n",
       "120                       Maté           5300.0         259900.0\n",
       "121                Blueberries           3023.0         116375.0\n",
       "122     Mushrooms and truffles           2950.0          26524.0\n",
       "123    Brazil nuts, with shell           1800.0          11897.0\n",
       "124                  Triticale              NaN        4234298.0\n",
       "\n",
       "[125 rows x 3 columns]"
      ]
     },
     "execution_count": 27,
     "metadata": {},
     "output_type": "execute_result"
    }
   ],
   "source": [
    "comp_crop_area"
   ]
  },
  {
   "cell_type": "code",
   "execution_count": 28,
   "metadata": {},
   "outputs": [],
   "source": [
    "comp_crop_area['diff'] = comp_crop_area['total_area_2016']-comp_crop_area['total_area_1961']\n",
    "comp_crop_area['ratio_diff_1961'] = comp_crop_area['diff']/comp_crop_area['total_area_2016']"
   ]
  },
  {
   "cell_type": "code",
   "execution_count": 29,
   "metadata": {},
   "outputs": [
    {
     "data": {
      "text/plain": [
       "0.2603766948959538"
      ]
     },
     "execution_count": 29,
     "metadata": {},
     "output_type": "execute_result"
    }
   ],
   "source": [
    "total_area_world_2016 = df_2016[df_2016.area_crops=='World'].area_harvested.sum()\n",
    "total_area_world_1961 = df_1961[df_1961.area_crops=='World'].area_harvested.sum()\n",
    "avg_increase = (total_area_world_2016 - total_area_world_1961)/ total_area_world_1961\n",
    "avg_increase"
   ]
  },
  {
   "cell_type": "code",
   "execution_count": 30,
   "metadata": {},
   "outputs": [],
   "source": [
    "# This allows to see how much the increase is different from the global one\n",
    "comp_crop_area['ratio_diff_global'] = comp_crop_area['diff']/avg_increase"
   ]
  },
  {
   "cell_type": "code",
   "execution_count": 31,
   "metadata": {},
   "outputs": [
    {
     "data": {
      "text/html": [
       "<div>\n",
       "<style scoped>\n",
       "    .dataframe tbody tr th:only-of-type {\n",
       "        vertical-align: middle;\n",
       "    }\n",
       "\n",
       "    .dataframe tbody tr th {\n",
       "        vertical-align: top;\n",
       "    }\n",
       "\n",
       "    .dataframe thead th {\n",
       "        text-align: right;\n",
       "    }\n",
       "</style>\n",
       "<table border=\"1\" class=\"dataframe\">\n",
       "  <thead>\n",
       "    <tr style=\"text-align: right;\">\n",
       "      <th></th>\n",
       "      <th>item_crops</th>\n",
       "      <th>total_area_1961</th>\n",
       "      <th>total_area_2016</th>\n",
       "      <th>diff</th>\n",
       "      <th>ratio_diff_1961</th>\n",
       "      <th>ratio_diff_global</th>\n",
       "    </tr>\n",
       "  </thead>\n",
       "  <tbody>\n",
       "    <tr>\n",
       "      <td>12</td>\n",
       "      <td>Soybeans</td>\n",
       "      <td>23818820.0</td>\n",
       "      <td>121848237.0</td>\n",
       "      <td>98029417.0</td>\n",
       "      <td>0.804521</td>\n",
       "      <td>3.764907e+08</td>\n",
       "    </tr>\n",
       "    <tr>\n",
       "      <td>4</td>\n",
       "      <td>Maize</td>\n",
       "      <td>105559708.0</td>\n",
       "      <td>195363162.0</td>\n",
       "      <td>89803454.0</td>\n",
       "      <td>0.459674</td>\n",
       "      <td>3.448982e+08</td>\n",
       "    </tr>\n",
       "    <tr>\n",
       "      <td>0</td>\n",
       "      <td>Cereals (Rice Milled Eqv)</td>\n",
       "      <td>647997350.0</td>\n",
       "      <td>733340825.0</td>\n",
       "      <td>85343475.0</td>\n",
       "      <td>0.116376</td>\n",
       "      <td>3.277693e+08</td>\n",
       "    </tr>\n",
       "    <tr>\n",
       "      <td>3</td>\n",
       "      <td>Rice, paddy</td>\n",
       "      <td>115365135.0</td>\n",
       "      <td>165219224.0</td>\n",
       "      <td>49854089.0</td>\n",
       "      <td>0.301745</td>\n",
       "      <td>1.914691e+08</td>\n",
       "    </tr>\n",
       "    <tr>\n",
       "      <td>15</td>\n",
       "      <td>Vegetables Primary</td>\n",
       "      <td>21152288.0</td>\n",
       "      <td>57694664.0</td>\n",
       "      <td>36542376.0</td>\n",
       "      <td>0.633375</td>\n",
       "      <td>1.403443e+08</td>\n",
       "    </tr>\n",
       "  </tbody>\n",
       "</table>\n",
       "</div>"
      ],
      "text/plain": [
       "                   item_crops  total_area_1961  total_area_2016        diff  \\\n",
       "12                   Soybeans       23818820.0      121848237.0  98029417.0   \n",
       "4                       Maize      105559708.0      195363162.0  89803454.0   \n",
       "0   Cereals (Rice Milled Eqv)      647997350.0      733340825.0  85343475.0   \n",
       "3                 Rice, paddy      115365135.0      165219224.0  49854089.0   \n",
       "15         Vegetables Primary       21152288.0       57694664.0  36542376.0   \n",
       "\n",
       "    ratio_diff_1961  ratio_diff_global  \n",
       "12         0.804521       3.764907e+08  \n",
       "4          0.459674       3.448982e+08  \n",
       "0          0.116376       3.277693e+08  \n",
       "3          0.301745       1.914691e+08  \n",
       "15         0.633375       1.403443e+08  "
      ]
     },
     "execution_count": 31,
     "metadata": {},
     "output_type": "execute_result"
    }
   ],
   "source": [
    "comp_crop_area.sort_values('diff', ascending=False).head(5)"
   ]
  },
  {
   "cell_type": "code",
   "execution_count": 32,
   "metadata": {},
   "outputs": [
    {
     "data": {
      "text/html": [
       "<div>\n",
       "<style scoped>\n",
       "    .dataframe tbody tr th:only-of-type {\n",
       "        vertical-align: middle;\n",
       "    }\n",
       "\n",
       "    .dataframe tbody tr th {\n",
       "        vertical-align: top;\n",
       "    }\n",
       "\n",
       "    .dataframe thead th {\n",
       "        text-align: right;\n",
       "    }\n",
       "</style>\n",
       "<table border=\"1\" class=\"dataframe\">\n",
       "  <thead>\n",
       "    <tr style=\"text-align: right;\">\n",
       "      <th></th>\n",
       "      <th>item_crops</th>\n",
       "      <th>total_area_1961</th>\n",
       "      <th>total_area_2016</th>\n",
       "      <th>diff</th>\n",
       "      <th>ratio_diff_1961</th>\n",
       "      <th>ratio_diff_global</th>\n",
       "    </tr>\n",
       "  </thead>\n",
       "  <tbody>\n",
       "    <tr>\n",
       "      <td>23</td>\n",
       "      <td>Linseed</td>\n",
       "      <td>7505107.0</td>\n",
       "      <td>2748483.0</td>\n",
       "      <td>-4756624.0</td>\n",
       "      <td>-1.730636</td>\n",
       "      <td>-1.826824e+07</td>\n",
       "    </tr>\n",
       "    <tr>\n",
       "      <td>5</td>\n",
       "      <td>Barley</td>\n",
       "      <td>54518640.0</td>\n",
       "      <td>47661470.0</td>\n",
       "      <td>-6857170.0</td>\n",
       "      <td>-0.143872</td>\n",
       "      <td>-2.633558e+07</td>\n",
       "    </tr>\n",
       "    <tr>\n",
       "      <td>8</td>\n",
       "      <td>Millet</td>\n",
       "      <td>43401259.0</td>\n",
       "      <td>31565003.0</td>\n",
       "      <td>-11836256.0</td>\n",
       "      <td>-0.374980</td>\n",
       "      <td>-4.545820e+07</td>\n",
       "    </tr>\n",
       "    <tr>\n",
       "      <td>11</td>\n",
       "      <td>Rye</td>\n",
       "      <td>30254816.0</td>\n",
       "      <td>4482238.0</td>\n",
       "      <td>-25772578.0</td>\n",
       "      <td>-5.749935</td>\n",
       "      <td>-9.898189e+07</td>\n",
       "    </tr>\n",
       "    <tr>\n",
       "      <td>10</td>\n",
       "      <td>Oats</td>\n",
       "      <td>38260751.0</td>\n",
       "      <td>9545842.0</td>\n",
       "      <td>-28714909.0</td>\n",
       "      <td>-3.008106</td>\n",
       "      <td>-1.102822e+08</td>\n",
       "    </tr>\n",
       "    <tr>\n",
       "      <td>9</td>\n",
       "      <td>Fibre Crops Primary</td>\n",
       "      <td>38730307.0</td>\n",
       "      <td>NaN</td>\n",
       "      <td>NaN</td>\n",
       "      <td>NaN</td>\n",
       "      <td>NaN</td>\n",
       "    </tr>\n",
       "    <tr>\n",
       "      <td>117</td>\n",
       "      <td>Peppermint</td>\n",
       "      <td>12969.0</td>\n",
       "      <td>NaN</td>\n",
       "      <td>NaN</td>\n",
       "      <td>NaN</td>\n",
       "      <td>NaN</td>\n",
       "    </tr>\n",
       "    <tr>\n",
       "      <td>124</td>\n",
       "      <td>Triticale</td>\n",
       "      <td>NaN</td>\n",
       "      <td>4234298.0</td>\n",
       "      <td>NaN</td>\n",
       "      <td>NaN</td>\n",
       "      <td>NaN</td>\n",
       "    </tr>\n",
       "  </tbody>\n",
       "</table>\n",
       "</div>"
      ],
      "text/plain": [
       "              item_crops  total_area_1961  total_area_2016        diff  \\\n",
       "23               Linseed        7505107.0        2748483.0  -4756624.0   \n",
       "5                 Barley       54518640.0       47661470.0  -6857170.0   \n",
       "8                 Millet       43401259.0       31565003.0 -11836256.0   \n",
       "11                   Rye       30254816.0        4482238.0 -25772578.0   \n",
       "10                  Oats       38260751.0        9545842.0 -28714909.0   \n",
       "9    Fibre Crops Primary       38730307.0              NaN         NaN   \n",
       "117           Peppermint          12969.0              NaN         NaN   \n",
       "124            Triticale              NaN        4234298.0         NaN   \n",
       "\n",
       "     ratio_diff_1961  ratio_diff_global  \n",
       "23         -1.730636      -1.826824e+07  \n",
       "5          -0.143872      -2.633558e+07  \n",
       "8          -0.374980      -4.545820e+07  \n",
       "11         -5.749935      -9.898189e+07  \n",
       "10         -3.008106      -1.102822e+08  \n",
       "9                NaN                NaN  \n",
       "117              NaN                NaN  \n",
       "124              NaN                NaN  "
      ]
     },
     "execution_count": 32,
     "metadata": {},
     "output_type": "execute_result"
    }
   ],
   "source": [
    "comp_crop_area.sort_values('diff', ascending=False).tail(8)"
   ]
  },
  {
   "cell_type": "code",
   "execution_count": 33,
   "metadata": {},
   "outputs": [
    {
     "data": {
      "text/html": [
       "<div>\n",
       "<style scoped>\n",
       "    .dataframe tbody tr th:only-of-type {\n",
       "        vertical-align: middle;\n",
       "    }\n",
       "\n",
       "    .dataframe tbody tr th {\n",
       "        vertical-align: top;\n",
       "    }\n",
       "\n",
       "    .dataframe thead th {\n",
       "        text-align: right;\n",
       "    }\n",
       "</style>\n",
       "<table border=\"1\" class=\"dataframe\">\n",
       "  <thead>\n",
       "    <tr style=\"text-align: right;\">\n",
       "      <th></th>\n",
       "      <th>item_crops</th>\n",
       "      <th>total_area_1961</th>\n",
       "      <th>total_area_2016</th>\n",
       "      <th>diff</th>\n",
       "      <th>ratio_diff_1961</th>\n",
       "      <th>ratio_diff_global</th>\n",
       "    </tr>\n",
       "  </thead>\n",
       "  <tbody>\n",
       "    <tr>\n",
       "      <td>120</td>\n",
       "      <td>Maté</td>\n",
       "      <td>5300.0</td>\n",
       "      <td>259900.0</td>\n",
       "      <td>254600.0</td>\n",
       "      <td>0.979608</td>\n",
       "      <td>9.778141e+05</td>\n",
       "    </tr>\n",
       "    <tr>\n",
       "      <td>121</td>\n",
       "      <td>Blueberries</td>\n",
       "      <td>3023.0</td>\n",
       "      <td>116375.0</td>\n",
       "      <td>113352.0</td>\n",
       "      <td>0.974024</td>\n",
       "      <td>4.353385e+05</td>\n",
       "    </tr>\n",
       "    <tr>\n",
       "      <td>112</td>\n",
       "      <td>Nuts, nes</td>\n",
       "      <td>33849.0</td>\n",
       "      <td>712075.0</td>\n",
       "      <td>678226.0</td>\n",
       "      <td>0.952464</td>\n",
       "      <td>2.604788e+06</td>\n",
       "    </tr>\n",
       "    <tr>\n",
       "      <td>111</td>\n",
       "      <td>Pistachios</td>\n",
       "      <td>35393.0</td>\n",
       "      <td>693380.0</td>\n",
       "      <td>657987.0</td>\n",
       "      <td>0.948956</td>\n",
       "      <td>2.527058e+06</td>\n",
       "    </tr>\n",
       "    <tr>\n",
       "      <td>119</td>\n",
       "      <td>Currants</td>\n",
       "      <td>7683.0</td>\n",
       "      <td>120728.0</td>\n",
       "      <td>113045.0</td>\n",
       "      <td>0.936361</td>\n",
       "      <td>4.341594e+05</td>\n",
       "    </tr>\n",
       "  </tbody>\n",
       "</table>\n",
       "</div>"
      ],
      "text/plain": [
       "      item_crops  total_area_1961  total_area_2016      diff  ratio_diff_1961  \\\n",
       "120         Maté           5300.0         259900.0  254600.0         0.979608   \n",
       "121  Blueberries           3023.0         116375.0  113352.0         0.974024   \n",
       "112    Nuts, nes          33849.0         712075.0  678226.0         0.952464   \n",
       "111   Pistachios          35393.0         693380.0  657987.0         0.948956   \n",
       "119     Currants           7683.0         120728.0  113045.0         0.936361   \n",
       "\n",
       "     ratio_diff_global  \n",
       "120       9.778141e+05  \n",
       "121       4.353385e+05  \n",
       "112       2.604788e+06  \n",
       "111       2.527058e+06  \n",
       "119       4.341594e+05  "
      ]
     },
     "execution_count": 33,
     "metadata": {},
     "output_type": "execute_result"
    }
   ],
   "source": [
    "comp_crop_area.sort_values('ratio_diff_1961', ascending=False).head(5)"
   ]
  },
  {
   "cell_type": "code",
   "execution_count": 34,
   "metadata": {},
   "outputs": [
    {
     "data": {
      "text/html": [
       "<div>\n",
       "<style scoped>\n",
       "    .dataframe tbody tr th:only-of-type {\n",
       "        vertical-align: middle;\n",
       "    }\n",
       "\n",
       "    .dataframe tbody tr th {\n",
       "        vertical-align: top;\n",
       "    }\n",
       "\n",
       "    .dataframe thead th {\n",
       "        text-align: right;\n",
       "    }\n",
       "</style>\n",
       "<table border=\"1\" class=\"dataframe\">\n",
       "  <thead>\n",
       "    <tr style=\"text-align: right;\">\n",
       "      <th></th>\n",
       "      <th>item_crops</th>\n",
       "      <th>total_area_1961</th>\n",
       "      <th>total_area_2016</th>\n",
       "      <th>diff</th>\n",
       "      <th>ratio_diff_1961</th>\n",
       "      <th>ratio_diff_global</th>\n",
       "    </tr>\n",
       "  </thead>\n",
       "  <tbody>\n",
       "    <tr>\n",
       "      <td>23</td>\n",
       "      <td>Linseed</td>\n",
       "      <td>7505107.0</td>\n",
       "      <td>2748483.0</td>\n",
       "      <td>-4756624.0</td>\n",
       "      <td>-1.730636</td>\n",
       "      <td>-1.826824e+07</td>\n",
       "    </tr>\n",
       "    <tr>\n",
       "      <td>37</td>\n",
       "      <td>Grain, mixed</td>\n",
       "      <td>3059440.0</td>\n",
       "      <td>1000495.0</td>\n",
       "      <td>-2058945.0</td>\n",
       "      <td>-2.057926</td>\n",
       "      <td>-7.907563e+06</td>\n",
       "    </tr>\n",
       "    <tr>\n",
       "      <td>10</td>\n",
       "      <td>Oats</td>\n",
       "      <td>38260751.0</td>\n",
       "      <td>9545842.0</td>\n",
       "      <td>-28714909.0</td>\n",
       "      <td>-3.008106</td>\n",
       "      <td>-1.102822e+08</td>\n",
       "    </tr>\n",
       "    <tr>\n",
       "      <td>11</td>\n",
       "      <td>Rye</td>\n",
       "      <td>30254816.0</td>\n",
       "      <td>4482238.0</td>\n",
       "      <td>-25772578.0</td>\n",
       "      <td>-5.749935</td>\n",
       "      <td>-9.898189e+07</td>\n",
       "    </tr>\n",
       "    <tr>\n",
       "      <td>41</td>\n",
       "      <td>Flax fibre and tow</td>\n",
       "      <td>2041125.0</td>\n",
       "      <td>222031.0</td>\n",
       "      <td>-1819094.0</td>\n",
       "      <td>-8.192973</td>\n",
       "      <td>-6.986393e+06</td>\n",
       "    </tr>\n",
       "    <tr>\n",
       "      <td>9</td>\n",
       "      <td>Fibre Crops Primary</td>\n",
       "      <td>38730307.0</td>\n",
       "      <td>NaN</td>\n",
       "      <td>NaN</td>\n",
       "      <td>NaN</td>\n",
       "      <td>NaN</td>\n",
       "    </tr>\n",
       "    <tr>\n",
       "      <td>117</td>\n",
       "      <td>Peppermint</td>\n",
       "      <td>12969.0</td>\n",
       "      <td>NaN</td>\n",
       "      <td>NaN</td>\n",
       "      <td>NaN</td>\n",
       "      <td>NaN</td>\n",
       "    </tr>\n",
       "    <tr>\n",
       "      <td>124</td>\n",
       "      <td>Triticale</td>\n",
       "      <td>NaN</td>\n",
       "      <td>4234298.0</td>\n",
       "      <td>NaN</td>\n",
       "      <td>NaN</td>\n",
       "      <td>NaN</td>\n",
       "    </tr>\n",
       "  </tbody>\n",
       "</table>\n",
       "</div>"
      ],
      "text/plain": [
       "              item_crops  total_area_1961  total_area_2016        diff  \\\n",
       "23               Linseed        7505107.0        2748483.0  -4756624.0   \n",
       "37          Grain, mixed        3059440.0        1000495.0  -2058945.0   \n",
       "10                  Oats       38260751.0        9545842.0 -28714909.0   \n",
       "11                   Rye       30254816.0        4482238.0 -25772578.0   \n",
       "41    Flax fibre and tow        2041125.0         222031.0  -1819094.0   \n",
       "9    Fibre Crops Primary       38730307.0              NaN         NaN   \n",
       "117           Peppermint          12969.0              NaN         NaN   \n",
       "124            Triticale              NaN        4234298.0         NaN   \n",
       "\n",
       "     ratio_diff_1961  ratio_diff_global  \n",
       "23         -1.730636      -1.826824e+07  \n",
       "37         -2.057926      -7.907563e+06  \n",
       "10         -3.008106      -1.102822e+08  \n",
       "11         -5.749935      -9.898189e+07  \n",
       "41         -8.192973      -6.986393e+06  \n",
       "9                NaN                NaN  \n",
       "117              NaN                NaN  \n",
       "124              NaN                NaN  "
      ]
     },
     "execution_count": 34,
     "metadata": {},
     "output_type": "execute_result"
    }
   ],
   "source": [
    "comp_crop_area.sort_values('ratio_diff_1961', ascending=False).tail(8)"
   ]
  },
  {
   "cell_type": "markdown",
   "metadata": {},
   "source": [
    "**Conclusion:** \n",
    "\n",
    "Primary items for which the area has most increased from 1961 to 2017\n",
    "- Cereals (Rice Milled Eqv)\n",
    "- Maize\n",
    "- Soybeans\n",
    "- Rice, paddy\n",
    "- Vegetables Primary\n",
    "\n",
    "Primary items for which the area has most decreased from 1961 to 2017\n",
    "- Coarse Grain, Total\n",
    "- Oats\n",
    "- Rye\n",
    "- Barley\n",
    "- Millet\n",
    "\n",
    "Primary items for which the area has most increased from 1961 to 2017, scale to the original quantity in 1961\n",
    "- Maté\n",
    "- Blueberries\n",
    "- Pistachios\n",
    "- Nuts, nes\n",
    "- Currants\n",
    "\n",
    "Primary items for which the area has most decreased from 1961 to 2017, scale to the original quantity in 1961\n",
    "- Flax fibre and tow\n",
    "- Rye\n",
    "- Oats\n",
    "- Grain, mixed\n",
    "- Linseed"
   ]
  },
  {
   "cell_type": "markdown",
   "metadata": {},
   "source": [
    "### Focus on a particular item "
   ]
  },
  {
   "cell_type": "code",
   "execution_count": 35,
   "metadata": {},
   "outputs": [],
   "source": [
    "def plot_by_year(item, sum_column):\n",
    "    y_axis_name = sum_column+'_sum'\n",
    "    \n",
    "    item_df = df[df.item_crops == item]\n",
    "    \n",
    "    #areas_item = item_df.groupby('year')[sum_column].sum().reset_index(name=y_axis_name)\n",
    "    areas_item = item_df[item_df.area_crops=='World'].groupby('year')[sum_column].sum().reset_index(name=y_axis_name)\n",
    "    \n",
    "    sns.set_style('whitegrid')\n",
    "    plt.figure(figsize=(20, 5))\n",
    "\n",
    "    g = sns.barplot(x='year', y=y_axis_name, data=areas_item, color='salmon')\n",
    "    g.set_title(item + ': ' + sum_column)\n",
    "    plt.xticks(rotation=90);"
   ]
  },
  {
   "cell_type": "code",
   "execution_count": 36,
   "metadata": {},
   "outputs": [
    {
     "data": {
      "image/png": "[encoded data removed]",
      "text/plain": [
       "<Figure size 1440x360 with 1 Axes>"
      ]
     },
     "metadata": {},
     "output_type": "display_data"
    }
   ],
   "source": [
    "plot_by_year('Soybeans', 'area_harvested')"
   ]
  },
  {
   "cell_type": "code",
   "execution_count": 37,
   "metadata": {},
   "outputs": [
    {
     "data": {
      "image/png": "[encoded data removed]",
      "text/plain": [
       "<Figure size 1440x360 with 1 Axes>"
      ]
     },
     "metadata": {},
     "output_type": "display_data"
    }
   ],
   "source": [
    "plot_by_year('Rapeseed', 'area_harvested')"
   ]
  },
  {
   "cell_type": "code",
   "execution_count": 38,
   "metadata": {},
   "outputs": [
    {
     "data": {
      "image/png": "[encoded data removed]",
      "text/plain": [
       "<Figure size 1440x360 with 1 Axes>"
      ]
     },
     "metadata": {},
     "output_type": "display_data"
    }
   ],
   "source": [
    "plot_by_year('Oil palm fruit', 'area_harvested')"
   ]
  },
  {
   "cell_type": "code",
   "execution_count": 39,
   "metadata": {},
   "outputs": [
    {
     "data": {
      "image/png": "[encoded data removed]",
      "text/plain": [
       "<Figure size 1440x360 with 1 Axes>"
      ]
     },
     "metadata": {},
     "output_type": "display_data"
    }
   ],
   "source": [
    "plot_by_year('Maté', 'area_harvested')"
   ]
  },
  {
   "cell_type": "code",
   "execution_count": 40,
   "metadata": {},
   "outputs": [
    {
     "data": {
      "image/png": "[encoded data removed]",
      "text/plain": [
       "<Figure size 1440x360 with 1 Axes>"
      ]
     },
     "metadata": {},
     "output_type": "display_data"
    }
   ],
   "source": [
    "plot_by_year('Pistachios', 'area_harvested')"
   ]
  },
  {
   "cell_type": "code",
   "execution_count": 41,
   "metadata": {},
   "outputs": [
    {
     "data": {
      "image/png": "[encoded data removed]",
      "text/plain": [
       "<Figure size 1440x360 with 1 Axes>"
      ]
     },
     "metadata": {},
     "output_type": "display_data"
    }
   ],
   "source": [
    "plot_by_year('Flax fibre and tow', 'area_harvested')"
   ]
  },
  {
   "cell_type": "markdown",
   "metadata": {},
   "source": [
    "**Conclusion:**\n",
    "\n",
    "- Argentina is a new producer for Maté in 1980 \n",
    "- Brazil is a new producer for Maté in 1981\n",
    "\n",
    "Check if Argentina is simply absent from the dataset before 1980"
   ]
  },
  {
   "cell_type": "code",
   "execution_count": 42,
   "metadata": {},
   "outputs": [
    {
     "data": {
      "text/plain": [
       "array([1961, 1962, 1963, 1964, 1965, 1966, 1967, 1968, 1969, 1970, 1971,\n",
       "       1972, 1973, 1974, 1975, 1976, 1977, 1978, 1979, 1980, 1981, 1982,\n",
       "       1983, 1984, 1985, 1986, 1987, 1988, 1989, 1990, 1991, 1992, 1993,\n",
       "       1994, 1995, 1996, 1997, 1998, 1999, 2000, 2001, 2002, 2003, 2004,\n",
       "       2005, 2006, 2007, 2008, 2009, 2010, 2011, 2012, 2013, 2014, 2015,\n",
       "       2016, 2017])"
      ]
     },
     "execution_count": 42,
     "metadata": {},
     "output_type": "execute_result"
    }
   ],
   "source": [
    "df_crops[df_crops.area_crops=='Argentina'].year.unique()"
   ]
  },
  {
   "cell_type": "markdown",
   "metadata": {},
   "source": [
    "Argentina is present for all years"
   ]
  },
  {
   "cell_type": "code",
   "execution_count": 43,
   "metadata": {},
   "outputs": [],
   "source": [
    "df_crops[df_crops.area_crops=='Argentina'].groupby('year').item_crops.nunique();"
   ]
  },
  {
   "cell_type": "markdown",
   "metadata": {},
   "source": [
    "Sudden increase of nb of items for Argentina >> seems weird (in 1980 and 1985 for ex)."
   ]
  },
  {
   "cell_type": "code",
   "execution_count": 44,
   "metadata": {},
   "outputs": [],
   "source": [
    "# Idea : keep only combinations (item, countries) which appear in each year"
   ]
  },
  {
   "cell_type": "markdown",
   "metadata": {},
   "source": [
    "### Countries irregularities"
   ]
  },
  {
   "cell_type": "code",
   "execution_count": 45,
   "metadata": {},
   "outputs": [],
   "source": [
    "def countries_diff(item):\n",
    "    item_df = df_crops[(df_crops.item_crops==item)]\n",
    "    \n",
    "    cntry_set = set(item_df[item_df.year==1961].area_crops.unique())\n",
    "    \n",
    "    diff_dict = {}\n",
    "    \n",
    "    for y in item_df.year.unique():\n",
    "        new_cntry_set = set(item_df[item_df.year==y].area_crops.unique())\n",
    "        if new_cntry_set - cntry_set:\n",
    "            diff_dict[y] = new_cntry_set - cntry_set\n",
    "        cntry_set = new_cntry_set\n",
    "        \n",
    "    return diff_dict"
   ]
  },
  {
   "cell_type": "markdown",
   "metadata": {},
   "source": [
    "#### Check Maté countries"
   ]
  },
  {
   "cell_type": "code",
   "execution_count": 46,
   "metadata": {},
   "outputs": [
    {
     "data": {
      "text/plain": [
       "{1980: {'Argentina'},\n",
       " 1981: {'Brazil'},\n",
       " 1961: {'Americas',\n",
       "  'Land Locked Developing Countries',\n",
       "  'South America',\n",
       "  'World'}}"
      ]
     },
     "execution_count": 46,
     "metadata": {},
     "output_type": "execute_result"
    }
   ],
   "source": [
    "countries_diff('Maté')"
   ]
  },
  {
   "cell_type": "code",
   "execution_count": 47,
   "metadata": {},
   "outputs": [
    {
     "data": {
      "text/html": [
       "<div>\n",
       "<style scoped>\n",
       "    .dataframe tbody tr th:only-of-type {\n",
       "        vertical-align: middle;\n",
       "    }\n",
       "\n",
       "    .dataframe tbody tr th {\n",
       "        vertical-align: top;\n",
       "    }\n",
       "\n",
       "    .dataframe thead th {\n",
       "        text-align: right;\n",
       "    }\n",
       "</style>\n",
       "<table border=\"1\" class=\"dataframe\">\n",
       "  <thead>\n",
       "    <tr style=\"text-align: right;\">\n",
       "      <th></th>\n",
       "      <th>area_code</th>\n",
       "      <th>area_crops</th>\n",
       "      <th>item_crops</th>\n",
       "      <th>year</th>\n",
       "      <th>area_harvested</th>\n",
       "      <th>production</th>\n",
       "      <th>yield</th>\n",
       "      <th>hs12_code</th>\n",
       "      <th>parent_group</th>\n",
       "      <th>child_group</th>\n",
       "      <th>parent_description</th>\n",
       "      <th>child_description</th>\n",
       "    </tr>\n",
       "  </thead>\n",
       "  <tbody>\n",
       "    <tr>\n",
       "      <td>24023</td>\n",
       "      <td>9</td>\n",
       "      <td>Argentina</td>\n",
       "      <td>Maté</td>\n",
       "      <td>1980</td>\n",
       "      <td>79344.0</td>\n",
       "      <td>134813.0</td>\n",
       "      <td>16991.0</td>\n",
       "      <td>090300</td>\n",
       "      <td>09</td>\n",
       "      <td>0903</td>\n",
       "      <td>Coffee, tea, mate and spices</td>\n",
       "      <td>Mate</td>\n",
       "    </tr>\n",
       "  </tbody>\n",
       "</table>\n",
       "</div>"
      ],
      "text/plain": [
       "       area_code area_crops item_crops  year  area_harvested  production  \\\n",
       "24023          9  Argentina       Maté  1980         79344.0    134813.0   \n",
       "\n",
       "         yield hs12_code parent_group child_group  \\\n",
       "24023  16991.0    090300           09        0903   \n",
       "\n",
       "                 parent_description child_description  \n",
       "24023  Coffee, tea, mate and spices              Mate  "
      ]
     },
     "execution_count": 47,
     "metadata": {},
     "output_type": "execute_result"
    }
   ],
   "source": [
    "# Check first time Argentina appears\n",
    "df_crops.loc[(df_crops.item_crops=='Maté') & (df_crops.area_crops=='Argentina') & (df_crops.year==1980)]"
   ]
  },
  {
   "cell_type": "markdown",
   "metadata": {},
   "source": [
    "**Conclusion:**\n",
    "First time Argentina is a producer of Maté, the production value is already very high ! Probably not relevant."
   ]
  },
  {
   "cell_type": "markdown",
   "metadata": {},
   "source": [
    "#### Check countries in general"
   ]
  },
  {
   "cell_type": "code",
   "execution_count": 48,
   "metadata": {},
   "outputs": [
    {
     "data": {
      "text/html": [
       "<div>\n",
       "<style scoped>\n",
       "    .dataframe tbody tr th:only-of-type {\n",
       "        vertical-align: middle;\n",
       "    }\n",
       "\n",
       "    .dataframe tbody tr th {\n",
       "        vertical-align: top;\n",
       "    }\n",
       "\n",
       "    .dataframe thead th {\n",
       "        text-align: right;\n",
       "    }\n",
       "</style>\n",
       "<table border=\"1\" class=\"dataframe\">\n",
       "  <thead>\n",
       "    <tr style=\"text-align: right;\">\n",
       "      <th></th>\n",
       "      <th>area_crops</th>\n",
       "      <th>#countries</th>\n",
       "    </tr>\n",
       "  </thead>\n",
       "  <tbody>\n",
       "    <tr>\n",
       "      <td>0</td>\n",
       "      <td>World</td>\n",
       "      <td>125</td>\n",
       "    </tr>\n",
       "    <tr>\n",
       "      <td>1</td>\n",
       "      <td>Asia</td>\n",
       "      <td>120</td>\n",
       "    </tr>\n",
       "    <tr>\n",
       "      <td>2</td>\n",
       "      <td>Net Food Importing Developing Countries</td>\n",
       "      <td>119</td>\n",
       "    </tr>\n",
       "    <tr>\n",
       "      <td>3</td>\n",
       "      <td>Americas</td>\n",
       "      <td>118</td>\n",
       "    </tr>\n",
       "    <tr>\n",
       "      <td>4</td>\n",
       "      <td>Land Locked Developing Countries</td>\n",
       "      <td>117</td>\n",
       "    </tr>\n",
       "    <tr>\n",
       "      <td>...</td>\n",
       "      <td>...</td>\n",
       "      <td>...</td>\n",
       "    </tr>\n",
       "    <tr>\n",
       "      <td>239</td>\n",
       "      <td>Tuvalu</td>\n",
       "      <td>3</td>\n",
       "    </tr>\n",
       "    <tr>\n",
       "      <td>240</td>\n",
       "      <td>British Virgin Islands</td>\n",
       "      <td>2</td>\n",
       "    </tr>\n",
       "    <tr>\n",
       "      <td>241</td>\n",
       "      <td>Faroe Islands</td>\n",
       "      <td>2</td>\n",
       "    </tr>\n",
       "    <tr>\n",
       "      <td>242</td>\n",
       "      <td>Saint Pierre and Miquelon</td>\n",
       "      <td>2</td>\n",
       "    </tr>\n",
       "    <tr>\n",
       "      <td>243</td>\n",
       "      <td>China, Macao SAR</td>\n",
       "      <td>1</td>\n",
       "    </tr>\n",
       "  </tbody>\n",
       "</table>\n",
       "<p>244 rows × 2 columns</p>\n",
       "</div>"
      ],
      "text/plain": [
       "                                  area_crops  #countries\n",
       "0                                      World         125\n",
       "1                                       Asia         120\n",
       "2    Net Food Importing Developing Countries         119\n",
       "3                                   Americas         118\n",
       "4           Land Locked Developing Countries         117\n",
       "..                                       ...         ...\n",
       "239                                   Tuvalu           3\n",
       "240                   British Virgin Islands           2\n",
       "241                            Faroe Islands           2\n",
       "242                Saint Pierre and Miquelon           2\n",
       "243                         China, Macao SAR           1\n",
       "\n",
       "[244 rows x 2 columns]"
      ]
     },
     "execution_count": 48,
     "metadata": {},
     "output_type": "execute_result"
    }
   ],
   "source": [
    "df_crops.groupby('area_crops').nunique().sort_values('item_crops', ascending=False).item_crops.reset_index(name='#countries')"
   ]
  },
  {
   "cell_type": "code",
   "execution_count": 49,
   "metadata": {},
   "outputs": [
    {
     "data": {
      "text/plain": [
       "array(['Pepper (piper spp.)'], dtype=object)"
      ]
     },
     "execution_count": 49,
     "metadata": {},
     "output_type": "execute_result"
    }
   ],
   "source": [
    "# Macau has only one crop > curious about what it could be !\n",
    "df_crops[df_crops.area_crops=='China, Macao SAR'].item_crops.unique()"
   ]
  },
  {
   "cell_type": "markdown",
   "metadata": {},
   "source": [
    "#### Check Palm Oil fruit countries"
   ]
  },
  {
   "cell_type": "code",
   "execution_count": 50,
   "metadata": {},
   "outputs": [
    {
     "data": {
      "text/plain": [
       "{1968: {'Nicaragua'},\n",
       " 1970: {'Peru'},\n",
       " 1971: {'Papua New Guinea'},\n",
       " 1973: {'Madagascar'},\n",
       " 1974: {'Suriname'},\n",
       " 1980: {'Venezuela (Bolivarian Republic of)'},\n",
       " 1983: {'Guatemala'},\n",
       " 1985: {'China', 'China, mainland', 'Eastern Asia'},\n",
       " 1988: {'Suriname'},\n",
       " 1989: {'Caribbean', 'Dominican Republic'},\n",
       " 1991: {'Cambodia'},\n",
       " 1995: {'Guinea'},\n",
       " 1996: {'Ghana'},\n",
       " 1997: {'Panama'},\n",
       " 1999: {'Gambia'},\n",
       " 2014: {'Guinea-Bissau'}}"
      ]
     },
     "execution_count": 50,
     "metadata": {},
     "output_type": "execute_result"
    }
   ],
   "source": [
    "countries_diff('Oil palm fruit')"
   ]
  },
  {
   "cell_type": "code",
   "execution_count": 51,
   "metadata": {},
   "outputs": [
    {
     "data": {
      "text/html": [
       "<div>\n",
       "<style scoped>\n",
       "    .dataframe tbody tr th:only-of-type {\n",
       "        vertical-align: middle;\n",
       "    }\n",
       "\n",
       "    .dataframe tbody tr th {\n",
       "        vertical-align: top;\n",
       "    }\n",
       "\n",
       "    .dataframe thead th {\n",
       "        text-align: right;\n",
       "    }\n",
       "</style>\n",
       "<table border=\"1\" class=\"dataframe\">\n",
       "  <thead>\n",
       "    <tr style=\"text-align: right;\">\n",
       "      <th></th>\n",
       "      <th>area_code</th>\n",
       "      <th>area_crops</th>\n",
       "      <th>item_crops</th>\n",
       "      <th>year</th>\n",
       "      <th>area_harvested</th>\n",
       "      <th>production</th>\n",
       "      <th>yield</th>\n",
       "      <th>hs12_code</th>\n",
       "      <th>parent_group</th>\n",
       "      <th>child_group</th>\n",
       "      <th>parent_description</th>\n",
       "      <th>child_description</th>\n",
       "    </tr>\n",
       "  </thead>\n",
       "  <tbody>\n",
       "    <tr>\n",
       "      <td>446193</td>\n",
       "      <td>157</td>\n",
       "      <td>Nicaragua</td>\n",
       "      <td>Oil palm fruit</td>\n",
       "      <td>1968</td>\n",
       "      <td>1050.0</td>\n",
       "      <td>9000.0</td>\n",
       "      <td>85714.0</td>\n",
       "      <td>NaN</td>\n",
       "      <td>NaN</td>\n",
       "      <td>NaN</td>\n",
       "      <td>NaN</td>\n",
       "      <td>NaN</td>\n",
       "    </tr>\n",
       "  </tbody>\n",
       "</table>\n",
       "</div>"
      ],
      "text/plain": [
       "        area_code area_crops      item_crops  year  area_harvested  \\\n",
       "446193        157  Nicaragua  Oil palm fruit  1968          1050.0   \n",
       "\n",
       "        production    yield hs12_code parent_group child_group  \\\n",
       "446193      9000.0  85714.0       NaN          NaN         NaN   \n",
       "\n",
       "       parent_description child_description  \n",
       "446193                NaN               NaN  "
      ]
     },
     "execution_count": 51,
     "metadata": {},
     "output_type": "execute_result"
    }
   ],
   "source": [
    "# Check first time Argentina appears\n",
    "df_crops.loc[(df_crops.item_crops=='Oil palm fruit') & (df_crops.area_crops=='Nicaragua') & (df_crops.year==1968)]"
   ]
  },
  {
   "cell_type": "code",
   "execution_count": 52,
   "metadata": {},
   "outputs": [
    {
     "data": {
      "text/html": [
       "<div>\n",
       "<style scoped>\n",
       "    .dataframe tbody tr th:only-of-type {\n",
       "        vertical-align: middle;\n",
       "    }\n",
       "\n",
       "    .dataframe tbody tr th {\n",
       "        vertical-align: top;\n",
       "    }\n",
       "\n",
       "    .dataframe thead th {\n",
       "        text-align: right;\n",
       "    }\n",
       "</style>\n",
       "<table border=\"1\" class=\"dataframe\">\n",
       "  <thead>\n",
       "    <tr style=\"text-align: right;\">\n",
       "      <th></th>\n",
       "      <th>area_code</th>\n",
       "      <th>area_crops</th>\n",
       "      <th>item_crops</th>\n",
       "      <th>year</th>\n",
       "      <th>area_harvested</th>\n",
       "      <th>production</th>\n",
       "      <th>yield</th>\n",
       "      <th>hs12_code</th>\n",
       "      <th>parent_group</th>\n",
       "      <th>child_group</th>\n",
       "      <th>parent_description</th>\n",
       "      <th>child_description</th>\n",
       "    </tr>\n",
       "  </thead>\n",
       "  <tbody>\n",
       "    <tr>\n",
       "      <td>484784</td>\n",
       "      <td>170</td>\n",
       "      <td>Peru</td>\n",
       "      <td>Oil palm fruit</td>\n",
       "      <td>1970</td>\n",
       "      <td>31.0</td>\n",
       "      <td>278.0</td>\n",
       "      <td>89677.0</td>\n",
       "      <td>NaN</td>\n",
       "      <td>NaN</td>\n",
       "      <td>NaN</td>\n",
       "      <td>NaN</td>\n",
       "      <td>NaN</td>\n",
       "    </tr>\n",
       "  </tbody>\n",
       "</table>\n",
       "</div>"
      ],
      "text/plain": [
       "        area_code area_crops      item_crops  year  area_harvested  \\\n",
       "484784        170       Peru  Oil palm fruit  1970            31.0   \n",
       "\n",
       "        production    yield hs12_code parent_group child_group  \\\n",
       "484784       278.0  89677.0       NaN          NaN         NaN   \n",
       "\n",
       "       parent_description child_description  \n",
       "484784                NaN               NaN  "
      ]
     },
     "execution_count": 52,
     "metadata": {},
     "output_type": "execute_result"
    }
   ],
   "source": [
    "df_crops.loc[(df_crops.item_crops=='Oil palm fruit') & (df_crops.area_crops=='Peru') & (df_crops.year==1970)]"
   ]
  },
  {
   "cell_type": "code",
   "execution_count": 53,
   "metadata": {},
   "outputs": [],
   "source": [
    "# etc..."
   ]
  },
  {
   "cell_type": "markdown",
   "metadata": {},
   "source": [
    "### Check quantities"
   ]
  },
  {
   "cell_type": "code",
   "execution_count": 54,
   "metadata": {},
   "outputs": [],
   "source": [
    "crop_production_1961 = df_1961[df_1961.area_crops=='World']\\\n",
    "                        .groupby(['item_crops'])['production']\\\n",
    "                        .sum()\\\n",
    "                        .sort_values(ascending=False)\\\n",
    "                        .reset_index(name='total_prod')\n",
    "\n",
    "crop_production_2016 = df_2016[df_2016.area_crops=='World']\\\n",
    "                        .groupby(['item_crops'])['production']\\\n",
    "                        .sum()\\\n",
    "                        .sort_values(ascending=False)\\\n",
    "                        .reset_index(name='total_prod')\n",
    "\n",
    "\n",
    "comp_crop_prod = crop_production_1961\\\n",
    "                    .merge(crop_production_2016, how='outer', on=['item_crops'], suffixes=['_1961', '_2016'])\n",
    "\n",
    "comp_crop_prod['diff'] = comp_crop_prod['total_prod_2016']-comp_crop_prod['total_prod_1961']\n",
    "comp_crop_prod['ratio_diff_1961'] = comp_crop_prod['diff']/comp_crop_prod['total_prod_2016']"
   ]
  },
  {
   "cell_type": "code",
   "execution_count": 55,
   "metadata": {},
   "outputs": [
    {
     "data": {
      "text/plain": [
       "2.2953461046099957"
      ]
     },
     "execution_count": 55,
     "metadata": {},
     "output_type": "execute_result"
    }
   ],
   "source": [
    "total_prod_world_2016 = df_2016[df_2016.area_crops=='World'].production.sum()\n",
    "total_prod_world_1961 = df_1961[df_1961.area_crops=='World'].production.sum()\n",
    "avg_prod_increase = (total_prod_world_2016 - total_prod_world_1961)/ total_prod_world_1961\n",
    "avg_prod_increase"
   ]
  },
  {
   "cell_type": "code",
   "execution_count": 56,
   "metadata": {},
   "outputs": [],
   "source": [
    "# This allows to see how much the increase is different from the global one\n",
    "comp_crop_prod['ratio_diff_global'] = comp_crop_prod['diff']/avg_prod_increase"
   ]
  },
  {
   "cell_type": "code",
   "execution_count": 57,
   "metadata": {},
   "outputs": [
    {
     "data": {
      "text/html": [
       "<div>\n",
       "<style scoped>\n",
       "    .dataframe tbody tr th:only-of-type {\n",
       "        vertical-align: middle;\n",
       "    }\n",
       "\n",
       "    .dataframe tbody tr th {\n",
       "        vertical-align: top;\n",
       "    }\n",
       "\n",
       "    .dataframe thead th {\n",
       "        text-align: right;\n",
       "    }\n",
       "</style>\n",
       "<table border=\"1\" class=\"dataframe\">\n",
       "  <thead>\n",
       "    <tr style=\"text-align: right;\">\n",
       "      <th></th>\n",
       "      <th>item_crops</th>\n",
       "      <th>total_prod_1961</th>\n",
       "      <th>total_prod_2016</th>\n",
       "      <th>diff</th>\n",
       "      <th>ratio_diff_1961</th>\n",
       "      <th>ratio_diff_global</th>\n",
       "    </tr>\n",
       "  </thead>\n",
       "  <tbody>\n",
       "    <tr>\n",
       "      <td>120</td>\n",
       "      <td>Pistachios</td>\n",
       "      <td>20714.0</td>\n",
       "      <td>1166767.0</td>\n",
       "      <td>1146053.0</td>\n",
       "      <td>0.982247</td>\n",
       "      <td>4.992942e+05</td>\n",
       "    </tr>\n",
       "    <tr>\n",
       "      <td>113</td>\n",
       "      <td>Ginger</td>\n",
       "      <td>60360.0</td>\n",
       "      <td>3171518.0</td>\n",
       "      <td>3111158.0</td>\n",
       "      <td>0.980968</td>\n",
       "      <td>1.355420e+06</td>\n",
       "    </tr>\n",
       "    <tr>\n",
       "      <td>30</td>\n",
       "      <td>Oil palm fruit</td>\n",
       "      <td>13636250.0</td>\n",
       "      <td>296821512.0</td>\n",
       "      <td>283185262.0</td>\n",
       "      <td>0.954059</td>\n",
       "      <td>1.233737e+08</td>\n",
       "    </tr>\n",
       "    <tr>\n",
       "      <td>94</td>\n",
       "      <td>Mushrooms and truffles</td>\n",
       "      <td>495127.0</td>\n",
       "      <td>9819831.0</td>\n",
       "      <td>9324704.0</td>\n",
       "      <td>0.949579</td>\n",
       "      <td>4.062439e+06</td>\n",
       "    </tr>\n",
       "    <tr>\n",
       "      <td>56</td>\n",
       "      <td>Rapeseed</td>\n",
       "      <td>3595525.0</td>\n",
       "      <td>68085491.0</td>\n",
       "      <td>64489966.0</td>\n",
       "      <td>0.947191</td>\n",
       "      <td>2.809597e+07</td>\n",
       "    </tr>\n",
       "  </tbody>\n",
       "</table>\n",
       "</div>"
      ],
      "text/plain": [
       "                 item_crops  total_prod_1961  total_prod_2016         diff  \\\n",
       "120              Pistachios          20714.0        1166767.0    1146053.0   \n",
       "113                  Ginger          60360.0        3171518.0    3111158.0   \n",
       "30           Oil palm fruit       13636250.0      296821512.0  283185262.0   \n",
       "94   Mushrooms and truffles         495127.0        9819831.0    9324704.0   \n",
       "56                 Rapeseed        3595525.0       68085491.0   64489966.0   \n",
       "\n",
       "     ratio_diff_1961  ratio_diff_global  \n",
       "120         0.982247       4.992942e+05  \n",
       "113         0.980968       1.355420e+06  \n",
       "30          0.954059       1.233737e+08  \n",
       "94          0.949579       4.062439e+06  \n",
       "56          0.947191       2.809597e+07  "
      ]
     },
     "execution_count": 57,
     "metadata": {},
     "output_type": "execute_result"
    }
   ],
   "source": [
    "comp_crop_prod.sort_values('ratio_diff_1961', ascending=False).head(5)"
   ]
  },
  {
   "cell_type": "code",
   "execution_count": 58,
   "metadata": {},
   "outputs": [
    {
     "data": {
      "text/html": [
       "<div>\n",
       "<style scoped>\n",
       "    .dataframe tbody tr th:only-of-type {\n",
       "        vertical-align: middle;\n",
       "    }\n",
       "\n",
       "    .dataframe tbody tr th {\n",
       "        vertical-align: top;\n",
       "    }\n",
       "\n",
       "    .dataframe thead th {\n",
       "        text-align: right;\n",
       "    }\n",
       "</style>\n",
       "<table border=\"1\" class=\"dataframe\">\n",
       "  <thead>\n",
       "    <tr style=\"text-align: right;\">\n",
       "      <th></th>\n",
       "      <th>item_crops</th>\n",
       "      <th>total_prod_1961</th>\n",
       "      <th>total_prod_2016</th>\n",
       "      <th>diff</th>\n",
       "      <th>ratio_diff_1961</th>\n",
       "      <th>ratio_diff_global</th>\n",
       "    </tr>\n",
       "  </thead>\n",
       "  <tbody>\n",
       "    <tr>\n",
       "      <td>100</td>\n",
       "      <td>Maté</td>\n",
       "      <td>278648.0</td>\n",
       "      <td>1003390.0</td>\n",
       "      <td>724742.0</td>\n",
       "      <td>0.722293</td>\n",
       "      <td>315744.104362</td>\n",
       "    </tr>\n",
       "  </tbody>\n",
       "</table>\n",
       "</div>"
      ],
      "text/plain": [
       "    item_crops  total_prod_1961  total_prod_2016      diff  ratio_diff_1961  \\\n",
       "100       Maté         278648.0        1003390.0  724742.0         0.722293   \n",
       "\n",
       "     ratio_diff_global  \n",
       "100      315744.104362  "
      ]
     },
     "execution_count": 58,
     "metadata": {},
     "output_type": "execute_result"
    }
   ],
   "source": [
    "comp_crop_prod[comp_crop_prod.item_crops=='Maté']"
   ]
  },
  {
   "cell_type": "code",
   "execution_count": 59,
   "metadata": {},
   "outputs": [
    {
     "data": {
      "image/png": "[encoded data removed]",
      "text/plain": [
       "<Figure size 1440x360 with 1 Axes>"
      ]
     },
     "metadata": {},
     "output_type": "display_data"
    }
   ],
   "source": [
    "plot_by_year('Maté', 'production')"
   ]
  },
  {
   "cell_type": "markdown",
   "metadata": {},
   "source": [
    "### Else"
   ]
  },
  {
   "cell_type": "code",
   "execution_count": 364,
   "metadata": {},
   "outputs": [
    {
     "data": {
      "text/plain": [
       "{'Fibre Crops Primary', 'Peppermint'}"
      ]
     },
     "execution_count": 364,
     "metadata": {},
     "output_type": "execute_result"
    }
   ],
   "source": [
    "set(df_1961[df_1961.area_crops=='World'].item_crops.unique())- set(df_2016[df_2016.area_crops=='World'].item_crops.unique())"
   ]
  }
 ],
 "metadata": {
  "kernelspec": {
   "display_name": "Python 3",
   "language": "python",
   "name": "python3"
  },
  "language_info": {
   "codemirror_mode": {
    "name": "ipython",
    "version": 3
   },
   "file_extension": ".py",
   "mimetype": "text/x-python",
   "name": "python",
   "nbconvert_exporter": "python",
   "pygments_lexer": "ipython3",
   "version": "3.6.5"
  }
 },
 "nbformat": 4,
 "nbformat_minor": 4
}
