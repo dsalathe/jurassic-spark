{
 "cells": [
  {
   "cell_type": "markdown",
   "metadata": {},
   "source": [
    "# Milestone 2 - Data Collection and description"
   ]
  },
  {
   "cell_type": "markdown",
   "metadata": {},
   "source": [
    "## Imports"
   ]
  },
  {
   "cell_type": "code",
   "execution_count": 1,
   "metadata": {},
   "outputs": [],
   "source": [
    "import pandas as pd"
   ]
  },
  {
   "cell_type": "markdown",
   "metadata": {},
   "source": [
    "## Loading"
   ]
  },
  {
   "cell_type": "markdown",
   "metadata": {},
   "source": [
    "Reference of dataset : http://www.fao.org/faostat/en/#data\n",
    "\n",
    "We choose to work with two tables : \n",
    "- Crops (from production) \n",
    "- Crops and livestock products (from trades)"
   ]
  },
  {
   "cell_type": "code",
   "execution_count": 20,
   "metadata": {},
   "outputs": [],
   "source": [
    "raw_crops = pd.read_csv('data/crops_production.csv',encoding = \"ISO-8859-1\")\n",
    "raw_trade = pd.read_csv('data/crops_trades.csv',encoding = \"ISO-8859-1\")"
   ]
  },
  {
   "cell_type": "code",
   "execution_count": 22,
   "metadata": {},
   "outputs": [
    {
     "data": {
      "text/html": [
       "<div>\n",
       "<style scoped>\n",
       "    .dataframe tbody tr th:only-of-type {\n",
       "        vertical-align: middle;\n",
       "    }\n",
       "\n",
       "    .dataframe tbody tr th {\n",
       "        vertical-align: top;\n",
       "    }\n",
       "\n",
       "    .dataframe thead th {\n",
       "        text-align: right;\n",
       "    }\n",
       "</style>\n",
       "<table border=\"1\" class=\"dataframe\">\n",
       "  <thead>\n",
       "    <tr style=\"text-align: right;\">\n",
       "      <th></th>\n",
       "      <th>Area Code</th>\n",
       "      <th>Area</th>\n",
       "      <th>Item Code</th>\n",
       "      <th>Item</th>\n",
       "      <th>Element Code</th>\n",
       "      <th>Element</th>\n",
       "      <th>Year Code</th>\n",
       "      <th>Year</th>\n",
       "      <th>Unit</th>\n",
       "      <th>Value</th>\n",
       "      <th>Flag</th>\n",
       "    </tr>\n",
       "  </thead>\n",
       "  <tbody>\n",
       "    <tr>\n",
       "      <td>0</td>\n",
       "      <td>2</td>\n",
       "      <td>Afghanistan</td>\n",
       "      <td>221</td>\n",
       "      <td>Almonds, with shell</td>\n",
       "      <td>5312</td>\n",
       "      <td>Area harvested</td>\n",
       "      <td>1975</td>\n",
       "      <td>1975</td>\n",
       "      <td>ha</td>\n",
       "      <td>0.0</td>\n",
       "      <td>F</td>\n",
       "    </tr>\n",
       "    <tr>\n",
       "      <td>1</td>\n",
       "      <td>2</td>\n",
       "      <td>Afghanistan</td>\n",
       "      <td>221</td>\n",
       "      <td>Almonds, with shell</td>\n",
       "      <td>5312</td>\n",
       "      <td>Area harvested</td>\n",
       "      <td>1976</td>\n",
       "      <td>1976</td>\n",
       "      <td>ha</td>\n",
       "      <td>5900.0</td>\n",
       "      <td>F</td>\n",
       "    </tr>\n",
       "    <tr>\n",
       "      <td>2</td>\n",
       "      <td>2</td>\n",
       "      <td>Afghanistan</td>\n",
       "      <td>221</td>\n",
       "      <td>Almonds, with shell</td>\n",
       "      <td>5312</td>\n",
       "      <td>Area harvested</td>\n",
       "      <td>1977</td>\n",
       "      <td>1977</td>\n",
       "      <td>ha</td>\n",
       "      <td>6000.0</td>\n",
       "      <td>F</td>\n",
       "    </tr>\n",
       "    <tr>\n",
       "      <td>3</td>\n",
       "      <td>2</td>\n",
       "      <td>Afghanistan</td>\n",
       "      <td>221</td>\n",
       "      <td>Almonds, with shell</td>\n",
       "      <td>5312</td>\n",
       "      <td>Area harvested</td>\n",
       "      <td>1978</td>\n",
       "      <td>1978</td>\n",
       "      <td>ha</td>\n",
       "      <td>6000.0</td>\n",
       "      <td>F</td>\n",
       "    </tr>\n",
       "    <tr>\n",
       "      <td>4</td>\n",
       "      <td>2</td>\n",
       "      <td>Afghanistan</td>\n",
       "      <td>221</td>\n",
       "      <td>Almonds, with shell</td>\n",
       "      <td>5312</td>\n",
       "      <td>Area harvested</td>\n",
       "      <td>1979</td>\n",
       "      <td>1979</td>\n",
       "      <td>ha</td>\n",
       "      <td>6000.0</td>\n",
       "      <td>F</td>\n",
       "    </tr>\n",
       "  </tbody>\n",
       "</table>\n",
       "</div>"
      ],
      "text/plain": [
       "   Area Code         Area  Item Code                 Item  Element Code  \\\n",
       "0          2  Afghanistan        221  Almonds, with shell          5312   \n",
       "1          2  Afghanistan        221  Almonds, with shell          5312   \n",
       "2          2  Afghanistan        221  Almonds, with shell          5312   \n",
       "3          2  Afghanistan        221  Almonds, with shell          5312   \n",
       "4          2  Afghanistan        221  Almonds, with shell          5312   \n",
       "\n",
       "          Element  Year Code  Year Unit   Value Flag  \n",
       "0  Area harvested       1975  1975   ha     0.0    F  \n",
       "1  Area harvested       1976  1976   ha  5900.0    F  \n",
       "2  Area harvested       1977  1977   ha  6000.0    F  \n",
       "3  Area harvested       1978  1978   ha  6000.0    F  \n",
       "4  Area harvested       1979  1979   ha  6000.0    F  "
      ]
     },
     "execution_count": 22,
     "metadata": {},
     "output_type": "execute_result"
    }
   ],
   "source": [
    "raw_crops.head()"
   ]
  },
  {
   "cell_type": "code",
   "execution_count": 21,
   "metadata": {},
   "outputs": [
    {
     "data": {
      "text/html": [
       "<div>\n",
       "<style scoped>\n",
       "    .dataframe tbody tr th:only-of-type {\n",
       "        vertical-align: middle;\n",
       "    }\n",
       "\n",
       "    .dataframe tbody tr th {\n",
       "        vertical-align: top;\n",
       "    }\n",
       "\n",
       "    .dataframe thead th {\n",
       "        text-align: right;\n",
       "    }\n",
       "</style>\n",
       "<table border=\"1\" class=\"dataframe\">\n",
       "  <thead>\n",
       "    <tr style=\"text-align: right;\">\n",
       "      <th></th>\n",
       "      <th>Area Code</th>\n",
       "      <th>Area</th>\n",
       "      <th>Item Code</th>\n",
       "      <th>Item</th>\n",
       "      <th>Element Code</th>\n",
       "      <th>Element</th>\n",
       "      <th>Year Code</th>\n",
       "      <th>Year</th>\n",
       "      <th>Unit</th>\n",
       "      <th>Value</th>\n",
       "      <th>Flag</th>\n",
       "    </tr>\n",
       "  </thead>\n",
       "  <tbody>\n",
       "    <tr>\n",
       "      <td>0</td>\n",
       "      <td>2</td>\n",
       "      <td>Afghanistan</td>\n",
       "      <td>231</td>\n",
       "      <td>Almonds shelled</td>\n",
       "      <td>5610</td>\n",
       "      <td>Import Quantity</td>\n",
       "      <td>2014</td>\n",
       "      <td>2014</td>\n",
       "      <td>tonnes</td>\n",
       "      <td>167.0</td>\n",
       "      <td>R</td>\n",
       "    </tr>\n",
       "    <tr>\n",
       "      <td>1</td>\n",
       "      <td>2</td>\n",
       "      <td>Afghanistan</td>\n",
       "      <td>231</td>\n",
       "      <td>Almonds shelled</td>\n",
       "      <td>5610</td>\n",
       "      <td>Import Quantity</td>\n",
       "      <td>2015</td>\n",
       "      <td>2015</td>\n",
       "      <td>tonnes</td>\n",
       "      <td>181.0</td>\n",
       "      <td>R</td>\n",
       "    </tr>\n",
       "    <tr>\n",
       "      <td>2</td>\n",
       "      <td>2</td>\n",
       "      <td>Afghanistan</td>\n",
       "      <td>231</td>\n",
       "      <td>Almonds shelled</td>\n",
       "      <td>5610</td>\n",
       "      <td>Import Quantity</td>\n",
       "      <td>2016</td>\n",
       "      <td>2016</td>\n",
       "      <td>tonnes</td>\n",
       "      <td>845.0</td>\n",
       "      <td>R</td>\n",
       "    </tr>\n",
       "    <tr>\n",
       "      <td>3</td>\n",
       "      <td>2</td>\n",
       "      <td>Afghanistan</td>\n",
       "      <td>231</td>\n",
       "      <td>Almonds shelled</td>\n",
       "      <td>5622</td>\n",
       "      <td>Import Value</td>\n",
       "      <td>2014</td>\n",
       "      <td>2014</td>\n",
       "      <td>1000 US$</td>\n",
       "      <td>1116.0</td>\n",
       "      <td>R</td>\n",
       "    </tr>\n",
       "    <tr>\n",
       "      <td>4</td>\n",
       "      <td>2</td>\n",
       "      <td>Afghanistan</td>\n",
       "      <td>231</td>\n",
       "      <td>Almonds shelled</td>\n",
       "      <td>5622</td>\n",
       "      <td>Import Value</td>\n",
       "      <td>2015</td>\n",
       "      <td>2015</td>\n",
       "      <td>1000 US$</td>\n",
       "      <td>1377.0</td>\n",
       "      <td>R</td>\n",
       "    </tr>\n",
       "  </tbody>\n",
       "</table>\n",
       "</div>"
      ],
      "text/plain": [
       "   Area Code         Area  Item Code             Item  Element Code  \\\n",
       "0          2  Afghanistan        231  Almonds shelled          5610   \n",
       "1          2  Afghanistan        231  Almonds shelled          5610   \n",
       "2          2  Afghanistan        231  Almonds shelled          5610   \n",
       "3          2  Afghanistan        231  Almonds shelled          5622   \n",
       "4          2  Afghanistan        231  Almonds shelled          5622   \n",
       "\n",
       "           Element  Year Code  Year      Unit   Value Flag  \n",
       "0  Import Quantity       2014  2014    tonnes   167.0    R  \n",
       "1  Import Quantity       2015  2015    tonnes   181.0    R  \n",
       "2  Import Quantity       2016  2016    tonnes   845.0    R  \n",
       "3     Import Value       2014  2014  1000 US$  1116.0    R  \n",
       "4     Import Value       2015  2015  1000 US$  1377.0    R  "
      ]
     },
     "execution_count": 21,
     "metadata": {},
     "output_type": "execute_result"
    }
   ],
   "source": [
    "raw_trade.head()"
   ]
  },
  {
   "cell_type": "markdown",
   "metadata": {},
   "source": [
    "## Data exploration and cleaning"
   ]
  },
  {
   "cell_type": "markdown",
   "metadata": {},
   "source": [
    "- Value format (flota instead of int)\n",
    "- Null values"
   ]
  },
  {
   "cell_type": "markdown",
   "metadata": {},
   "source": [
    "### Format\n",
    "We Want to check the format of the columns (e.g. if the column represent a number, is the value really a number of a string ?)."
   ]
  },
  {
   "cell_type": "markdown",
   "metadata": {},
   "source": [
    "#### Unit"
   ]
  },
  {
   "cell_type": "markdown",
   "metadata": {},
   "source": [
    "### Dataframe comparison \n",
    "Before cleaning, we will keep only rows we are interested in, among the two datasets. As we want combine information from the two, we want to compare them and see how they can be combined."
   ]
  },
  {
   "cell_type": "markdown",
   "metadata": {},
   "source": [
    "#### Overview"
   ]
  },
  {
   "cell_type": "code",
   "execution_count": 72,
   "metadata": {},
   "outputs": [
    {
     "data": {
      "text/plain": [
       "Area Code          258\n",
       "Area               258\n",
       "Item Code          180\n",
       "Item               180\n",
       "Element Code         3\n",
       "Element              3\n",
       "Year Code           57\n",
       "Year                57\n",
       "Unit                 3\n",
       "Value           520310\n",
       "Flag                 6\n",
       "dtype: int64"
      ]
     },
     "execution_count": 72,
     "metadata": {},
     "output_type": "execute_result"
    }
   ],
   "source": [
    "raw_crops.nunique()"
   ]
  },
  {
   "cell_type": "code",
   "execution_count": 73,
   "metadata": {},
   "outputs": [
    {
     "data": {
      "text/plain": [
       "Area Code          253\n",
       "Area               253\n",
       "Item Code          471\n",
       "Item               471\n",
       "Element Code         4\n",
       "Element              4\n",
       "Year Code           56\n",
       "Year                56\n",
       "Unit                 2\n",
       "Value           770923\n",
       "Flag                 6\n",
       "dtype: int64"
      ]
     },
     "execution_count": 73,
     "metadata": {},
     "output_type": "execute_result"
    }
   ],
   "source": [
    "raw_trade.nunique()"
   ]
  },
  {
   "cell_type": "markdown",
   "metadata": {},
   "source": [
    "**Conclusion:** TODO\n",
    "\n",
    "---"
   ]
  },
  {
   "cell_type": "markdown",
   "metadata": {},
   "source": [
    "#### Years"
   ]
  },
  {
   "cell_type": "code",
   "execution_count": 25,
   "metadata": {},
   "outputs": [
    {
     "data": {
      "text/plain": [
       "array([1961, 1962, 1963, 1964, 1965, 1966, 1967, 1968, 1969, 1970, 1971,\n",
       "       1972, 1973, 1974, 1975, 1976, 1977, 1978, 1979, 1980, 1981, 1982,\n",
       "       1983, 1984, 1985, 1986, 1987, 1988, 1989, 1990, 1991, 1992, 1993,\n",
       "       1994, 1995, 1996, 1997, 1998, 1999, 2000, 2001, 2002, 2003, 2004,\n",
       "       2005, 2006, 2007, 2008, 2009, 2010, 2011, 2012, 2013, 2014, 2015,\n",
       "       2016, 2017])"
      ]
     },
     "execution_count": 25,
     "metadata": {},
     "output_type": "execute_result"
    }
   ],
   "source": [
    "raw_crops_years = raw_crops.Year.unique()\n",
    "raw_crops_years.sort()\n",
    "raw_crops_years"
   ]
  },
  {
   "cell_type": "code",
   "execution_count": 28,
   "metadata": {},
   "outputs": [
    {
     "data": {
      "text/plain": [
       "array([1961, 1962, 1963, 1964, 1965, 1966, 1967, 1968, 1969, 1970, 1971,\n",
       "       1972, 1973, 1974, 1975, 1976, 1977, 1978, 1979, 1980, 1981, 1982,\n",
       "       1983, 1984, 1985, 1986, 1987, 1988, 1989, 1990, 1991, 1992, 1993,\n",
       "       1994, 1995, 1996, 1997, 1998, 1999, 2000, 2001, 2002, 2003, 2004,\n",
       "       2005, 2006, 2007, 2008, 2009, 2010, 2011, 2012, 2013, 2014, 2015,\n",
       "       2016])"
      ]
     },
     "execution_count": 28,
     "metadata": {},
     "output_type": "execute_result"
    }
   ],
   "source": [
    "raw_trade_years = raw_trade.Year.unique()\n",
    "raw_trade_years.sort()\n",
    "raw_trade_years"
   ]
  },
  {
   "cell_type": "markdown",
   "metadata": {},
   "source": [
    "**Observations:** \n",
    "- the production crops dataframe have data from years 1961 until 2017\n",
    "- the trade dataframe doesn't have any data for year 2017 (only until 2016)"
   ]
  },
  {
   "cell_type": "markdown",
   "metadata": {},
   "source": [
    "##### Quantity of information per year\n",
    "Let's see the quantity of information we have for each year."
   ]
  },
  {
   "cell_type": "code",
   "execution_count": 74,
   "metadata": {},
   "outputs": [],
   "source": [
    "import seaborn as sns"
   ]
  },
  {
   "cell_type": "markdown",
   "metadata": {},
   "source": [
    "**Crops production**"
   ]
  },
  {
   "cell_type": "code",
   "execution_count": 62,
   "metadata": {},
   "outputs": [
    {
     "data": {
      "text/html": [
       "<div>\n",
       "<style scoped>\n",
       "    .dataframe tbody tr th:only-of-type {\n",
       "        vertical-align: middle;\n",
       "    }\n",
       "\n",
       "    .dataframe tbody tr th {\n",
       "        vertical-align: top;\n",
       "    }\n",
       "\n",
       "    .dataframe thead th {\n",
       "        text-align: right;\n",
       "    }\n",
       "</style>\n",
       "<table border=\"1\" class=\"dataframe\">\n",
       "  <thead>\n",
       "    <tr style=\"text-align: right;\">\n",
       "      <th></th>\n",
       "      <th>Area Code</th>\n",
       "      <th>Area</th>\n",
       "      <th>Item Code</th>\n",
       "      <th>Item</th>\n",
       "      <th>Element Code</th>\n",
       "      <th>Element</th>\n",
       "      <th>Year Code</th>\n",
       "      <th>Unit</th>\n",
       "      <th>Value</th>\n",
       "      <th>Flag</th>\n",
       "    </tr>\n",
       "    <tr>\n",
       "      <th>Year</th>\n",
       "      <th></th>\n",
       "      <th></th>\n",
       "      <th></th>\n",
       "      <th></th>\n",
       "      <th></th>\n",
       "      <th></th>\n",
       "      <th></th>\n",
       "      <th></th>\n",
       "      <th></th>\n",
       "      <th></th>\n",
       "    </tr>\n",
       "  </thead>\n",
       "  <tbody>\n",
       "    <tr>\n",
       "      <td>1961</td>\n",
       "      <td>37850</td>\n",
       "      <td>37850</td>\n",
       "      <td>37850</td>\n",
       "      <td>37850</td>\n",
       "      <td>37850</td>\n",
       "      <td>37850</td>\n",
       "      <td>37850</td>\n",
       "      <td>37850</td>\n",
       "      <td>33947</td>\n",
       "      <td>31333</td>\n",
       "    </tr>\n",
       "    <tr>\n",
       "      <td>1962</td>\n",
       "      <td>37884</td>\n",
       "      <td>37884</td>\n",
       "      <td>37884</td>\n",
       "      <td>37884</td>\n",
       "      <td>37884</td>\n",
       "      <td>37884</td>\n",
       "      <td>37884</td>\n",
       "      <td>37884</td>\n",
       "      <td>33977</td>\n",
       "      <td>31337</td>\n",
       "    </tr>\n",
       "    <tr>\n",
       "      <td>1963</td>\n",
       "      <td>37882</td>\n",
       "      <td>37882</td>\n",
       "      <td>37882</td>\n",
       "      <td>37882</td>\n",
       "      <td>37882</td>\n",
       "      <td>37882</td>\n",
       "      <td>37882</td>\n",
       "      <td>37882</td>\n",
       "      <td>33975</td>\n",
       "      <td>31112</td>\n",
       "    </tr>\n",
       "    <tr>\n",
       "      <td>1964</td>\n",
       "      <td>37907</td>\n",
       "      <td>37907</td>\n",
       "      <td>37907</td>\n",
       "      <td>37907</td>\n",
       "      <td>37907</td>\n",
       "      <td>37907</td>\n",
       "      <td>37907</td>\n",
       "      <td>37907</td>\n",
       "      <td>34003</td>\n",
       "      <td>31036</td>\n",
       "    </tr>\n",
       "    <tr>\n",
       "      <td>1965</td>\n",
       "      <td>37901</td>\n",
       "      <td>37901</td>\n",
       "      <td>37901</td>\n",
       "      <td>37901</td>\n",
       "      <td>37901</td>\n",
       "      <td>37901</td>\n",
       "      <td>37901</td>\n",
       "      <td>37901</td>\n",
       "      <td>33994</td>\n",
       "      <td>30804</td>\n",
       "    </tr>\n",
       "  </tbody>\n",
       "</table>\n",
       "</div>"
      ],
      "text/plain": [
       "      Area Code   Area  Item Code   Item  Element Code  Element  Year Code  \\\n",
       "Year                                                                         \n",
       "1961      37850  37850      37850  37850         37850    37850      37850   \n",
       "1962      37884  37884      37884  37884         37884    37884      37884   \n",
       "1963      37882  37882      37882  37882         37882    37882      37882   \n",
       "1964      37907  37907      37907  37907         37907    37907      37907   \n",
       "1965      37901  37901      37901  37901         37901    37901      37901   \n",
       "\n",
       "       Unit  Value   Flag  \n",
       "Year                       \n",
       "1961  37850  33947  31333  \n",
       "1962  37884  33977  31337  \n",
       "1963  37882  33975  31112  \n",
       "1964  37907  34003  31036  \n",
       "1965  37901  33994  30804  "
      ]
     },
     "execution_count": 62,
     "metadata": {},
     "output_type": "execute_result"
    }
   ],
   "source": [
    "# Compute the number of row per year\n",
    "raw_crops.groupby('Year').count().head()"
   ]
  },
  {
   "cell_type": "markdown",
   "metadata": {},
   "source": [
    "It seems like the count value is the same for the first columns. We keep column 'Item' as reference as intuitively it is the one which is less probable to be null (otherwise the line doesn't give any information)."
   ]
  },
  {
   "cell_type": "code",
   "execution_count": 68,
   "metadata": {},
   "outputs": [
    {
     "data": {
      "text/plain": [
       "Year\n",
       "1961    179\n",
       "1962    179\n",
       "1963    179\n",
       "1964    179\n",
       "1965    179\n",
       "Name: Item, dtype: int64"
      ]
     },
     "execution_count": 68,
     "metadata": {},
     "output_type": "execute_result"
    }
   ],
   "source": [
    "# Compute the number of items per year\n",
    "raw_crops.groupby('Year').Item.nunique().head()"
   ]
  },
  {
   "cell_type": "code",
   "execution_count": 65,
   "metadata": {},
   "outputs": [
    {
     "data": {
      "image/png": "[encoded data removed]",
      "text/plain": [
       "<Figure size 432x288 with 1 Axes>"
      ]
     },
     "metadata": {
      "needs_background": "light"
     },
     "output_type": "display_data"
    }
   ],
   "source": [
    "#TODO : make plot better\n",
    "df = raw_crops.groupby('Year').Item.nunique()\n",
    "sns.barplot(df.index, df.values);"
   ]
  },
  {
   "cell_type": "markdown",
   "metadata": {},
   "source": [
    "**Crops trades:**"
   ]
  },
  {
   "cell_type": "code",
   "execution_count": 75,
   "metadata": {},
   "outputs": [
    {
     "data": {
      "text/html": [
       "<div>\n",
       "<style scoped>\n",
       "    .dataframe tbody tr th:only-of-type {\n",
       "        vertical-align: middle;\n",
       "    }\n",
       "\n",
       "    .dataframe tbody tr th {\n",
       "        vertical-align: top;\n",
       "    }\n",
       "\n",
       "    .dataframe thead th {\n",
       "        text-align: right;\n",
       "    }\n",
       "</style>\n",
       "<table border=\"1\" class=\"dataframe\">\n",
       "  <thead>\n",
       "    <tr style=\"text-align: right;\">\n",
       "      <th></th>\n",
       "      <th>Area Code</th>\n",
       "      <th>Area</th>\n",
       "      <th>Item Code</th>\n",
       "      <th>Item</th>\n",
       "      <th>Element Code</th>\n",
       "      <th>Element</th>\n",
       "      <th>Year Code</th>\n",
       "      <th>Unit</th>\n",
       "      <th>Value</th>\n",
       "      <th>Flag</th>\n",
       "    </tr>\n",
       "    <tr>\n",
       "      <th>Year</th>\n",
       "      <th></th>\n",
       "      <th></th>\n",
       "      <th></th>\n",
       "      <th></th>\n",
       "      <th></th>\n",
       "      <th></th>\n",
       "      <th></th>\n",
       "      <th></th>\n",
       "      <th></th>\n",
       "      <th></th>\n",
       "    </tr>\n",
       "  </thead>\n",
       "  <tbody>\n",
       "    <tr>\n",
       "      <td>1961</td>\n",
       "      <td>258706</td>\n",
       "      <td>258706</td>\n",
       "      <td>258706</td>\n",
       "      <td>258706</td>\n",
       "      <td>258706</td>\n",
       "      <td>258706</td>\n",
       "      <td>258706</td>\n",
       "      <td>258706</td>\n",
       "      <td>192999</td>\n",
       "      <td>157860</td>\n",
       "    </tr>\n",
       "    <tr>\n",
       "      <td>1962</td>\n",
       "      <td>258706</td>\n",
       "      <td>258706</td>\n",
       "      <td>258706</td>\n",
       "      <td>258706</td>\n",
       "      <td>258706</td>\n",
       "      <td>258706</td>\n",
       "      <td>258706</td>\n",
       "      <td>258706</td>\n",
       "      <td>193001</td>\n",
       "      <td>155656</td>\n",
       "    </tr>\n",
       "    <tr>\n",
       "      <td>1963</td>\n",
       "      <td>258706</td>\n",
       "      <td>258706</td>\n",
       "      <td>258706</td>\n",
       "      <td>258706</td>\n",
       "      <td>258706</td>\n",
       "      <td>258706</td>\n",
       "      <td>258706</td>\n",
       "      <td>258706</td>\n",
       "      <td>193007</td>\n",
       "      <td>155044</td>\n",
       "    </tr>\n",
       "    <tr>\n",
       "      <td>1964</td>\n",
       "      <td>258706</td>\n",
       "      <td>258706</td>\n",
       "      <td>258706</td>\n",
       "      <td>258706</td>\n",
       "      <td>258706</td>\n",
       "      <td>258706</td>\n",
       "      <td>258706</td>\n",
       "      <td>258706</td>\n",
       "      <td>193008</td>\n",
       "      <td>154845</td>\n",
       "    </tr>\n",
       "    <tr>\n",
       "      <td>1965</td>\n",
       "      <td>258706</td>\n",
       "      <td>258706</td>\n",
       "      <td>258706</td>\n",
       "      <td>258706</td>\n",
       "      <td>258706</td>\n",
       "      <td>258706</td>\n",
       "      <td>258706</td>\n",
       "      <td>258706</td>\n",
       "      <td>193008</td>\n",
       "      <td>154291</td>\n",
       "    </tr>\n",
       "  </tbody>\n",
       "</table>\n",
       "</div>"
      ],
      "text/plain": [
       "      Area Code    Area  Item Code    Item  Element Code  Element  Year Code  \\\n",
       "Year                                                                           \n",
       "1961     258706  258706     258706  258706        258706   258706     258706   \n",
       "1962     258706  258706     258706  258706        258706   258706     258706   \n",
       "1963     258706  258706     258706  258706        258706   258706     258706   \n",
       "1964     258706  258706     258706  258706        258706   258706     258706   \n",
       "1965     258706  258706     258706  258706        258706   258706     258706   \n",
       "\n",
       "        Unit   Value    Flag  \n",
       "Year                          \n",
       "1961  258706  192999  157860  \n",
       "1962  258706  193001  155656  \n",
       "1963  258706  193007  155044  \n",
       "1964  258706  193008  154845  \n",
       "1965  258706  193008  154291  "
      ]
     },
     "execution_count": 75,
     "metadata": {},
     "output_type": "execute_result"
    }
   ],
   "source": [
    "# Compute the number of row per year\n",
    "raw_trade.groupby('Year').count().head()"
   ]
  },
  {
   "cell_type": "code",
   "execution_count": 77,
   "metadata": {},
   "outputs": [
    {
     "data": {
      "text/plain": [
       "Year\n",
       "1961    466\n",
       "1962    466\n",
       "1963    466\n",
       "1964    466\n",
       "1965    466\n",
       "Name: Item, dtype: int64"
      ]
     },
     "execution_count": 77,
     "metadata": {},
     "output_type": "execute_result"
    }
   ],
   "source": [
    "# Compute the number of items per year\n",
    "raw_trade.groupby('Year').Item.nunique().head()"
   ]
  },
  {
   "cell_type": "code",
   "execution_count": 81,
   "metadata": {},
   "outputs": [
    {
     "data": {
      "image/png": "[encoded data removed]",
      "text/plain": [
       "<Figure size 432x288 with 1 Axes>"
      ]
     },
     "metadata": {
      "needs_background": "light"
     },
     "output_type": "display_data"
    }
   ],
   "source": [
    "#TODO : make plot better\n",
    "df2 = raw_trade.groupby('Year').Item.nunique()\n",
    "sns.barplot(df2.index, df2.values);"
   ]
  },
  {
   "cell_type": "markdown",
   "metadata": {},
   "source": [
    "The plot is quite messy. We may want to visualize the distribution by decade."
   ]
  },
  {
   "cell_type": "markdown",
   "metadata": {},
   "source": [
    "TODO : interpretation sur le fait qu'il y a énormément de lignes par item"
   ]
  },
  {
   "cell_type": "markdown",
   "metadata": {},
   "source": [
    "**Conclusion:** \n",
    "- We want to have data on trades for year 2017\n",
    "- We want to add a decade column\n",
    "\n",
    "We are not applying these modifications right away, because it may be unefficient if we don't do them in the right order. The idea is to reduce the number of rows before applying the other operations.\n",
    "\n",
    "---"
   ]
  },
  {
   "cell_type": "markdown",
   "metadata": {},
   "source": [
    "#### Items"
   ]
  },
  {
   "cell_type": "code",
   "execution_count": 59,
   "metadata": {},
   "outputs": [],
   "source": [
    "items_raw_crops = raw_crops.Item.value_counts()"
   ]
  },
  {
   "cell_type": "code",
   "execution_count": 60,
   "metadata": {},
   "outputs": [
    {
     "data": {
      "text/plain": [
       "count      180.000000\n",
       "mean     13473.750000\n",
       "std       9519.913009\n",
       "min        270.000000\n",
       "25%       5969.750000\n",
       "50%      12042.000000\n",
       "75%      19158.750000\n",
       "max      38636.000000\n",
       "Name: Item, dtype: float64"
      ]
     },
     "execution_count": 60,
     "metadata": {},
     "output_type": "execute_result"
    }
   ],
   "source": [
    "items_raw_crops.describe()"
   ]
  },
  {
   "cell_type": "code",
   "execution_count": 54,
   "metadata": {},
   "outputs": [],
   "source": [
    "# Percentage of \n",
    "df = raw_crops.groupby('Year').Item.value_counts(normalize=True)"
   ]
  },
  {
   "cell_type": "code",
   "execution_count": 55,
   "metadata": {},
   "outputs": [
    {
     "data": {
      "text/plain": [
       "Year  Item                    \n",
       "1961  Vegetables Primary          0.017015\n",
       "      Fruit Primary               0.016724\n",
       "      Roots and Tubers,Total      0.016697\n",
       "      Vegetables, fresh nes       0.016592\n",
       "      Oilcrops, Oil Equivalent    0.015984\n",
       "                                    ...   \n",
       "2017  Cassava leaves              0.000465\n",
       "      Coir                        0.000377\n",
       "      Kapok fruit                 0.000332\n",
       "      Tallowtree seed             0.000332\n",
       "      Jojoba seed                 0.000266\n",
       "Name: Item, Length: 10197, dtype: float64"
      ]
     },
     "execution_count": 55,
     "metadata": {},
     "output_type": "execute_result"
    }
   ],
   "source": [
    "df"
   ]
  },
  {
   "cell_type": "markdown",
   "metadata": {},
   "source": [
    "----"
   ]
  },
  {
   "cell_type": "markdown",
   "metadata": {},
   "source": [
    "# Rest\n",
    "Things I consider interesting to look at, but not analysed yet."
   ]
  },
  {
   "cell_type": "code",
   "execution_count": 70,
   "metadata": {},
   "outputs": [
    {
     "data": {
      "text/html": [
       "<div>\n",
       "<style scoped>\n",
       "    .dataframe tbody tr th:only-of-type {\n",
       "        vertical-align: middle;\n",
       "    }\n",
       "\n",
       "    .dataframe tbody tr th {\n",
       "        vertical-align: top;\n",
       "    }\n",
       "\n",
       "    .dataframe thead th {\n",
       "        text-align: right;\n",
       "    }\n",
       "</style>\n",
       "<table border=\"1\" class=\"dataframe\">\n",
       "  <thead>\n",
       "    <tr style=\"text-align: right;\">\n",
       "      <th></th>\n",
       "      <th>Area Code</th>\n",
       "      <th>Area</th>\n",
       "      <th>Item Code</th>\n",
       "      <th>Item</th>\n",
       "      <th>Element Code</th>\n",
       "      <th>Element</th>\n",
       "      <th>Year Code</th>\n",
       "      <th>Year</th>\n",
       "      <th>Unit</th>\n",
       "      <th>Value</th>\n",
       "      <th>Flag</th>\n",
       "    </tr>\n",
       "    <tr>\n",
       "      <th>Year</th>\n",
       "      <th></th>\n",
       "      <th></th>\n",
       "      <th></th>\n",
       "      <th></th>\n",
       "      <th></th>\n",
       "      <th></th>\n",
       "      <th></th>\n",
       "      <th></th>\n",
       "      <th></th>\n",
       "      <th></th>\n",
       "      <th></th>\n",
       "    </tr>\n",
       "  </thead>\n",
       "  <tbody>\n",
       "    <tr>\n",
       "      <td>1961</td>\n",
       "      <td>224</td>\n",
       "      <td>224</td>\n",
       "      <td>179</td>\n",
       "      <td>179</td>\n",
       "      <td>3</td>\n",
       "      <td>3</td>\n",
       "      <td>1</td>\n",
       "      <td>1</td>\n",
       "      <td>3</td>\n",
       "      <td>18574</td>\n",
       "      <td>5</td>\n",
       "    </tr>\n",
       "    <tr>\n",
       "      <td>1962</td>\n",
       "      <td>224</td>\n",
       "      <td>224</td>\n",
       "      <td>179</td>\n",
       "      <td>179</td>\n",
       "      <td>3</td>\n",
       "      <td>3</td>\n",
       "      <td>1</td>\n",
       "      <td>1</td>\n",
       "      <td>3</td>\n",
       "      <td>18867</td>\n",
       "      <td>5</td>\n",
       "    </tr>\n",
       "    <tr>\n",
       "      <td>1963</td>\n",
       "      <td>224</td>\n",
       "      <td>224</td>\n",
       "      <td>179</td>\n",
       "      <td>179</td>\n",
       "      <td>3</td>\n",
       "      <td>3</td>\n",
       "      <td>1</td>\n",
       "      <td>1</td>\n",
       "      <td>3</td>\n",
       "      <td>19035</td>\n",
       "      <td>5</td>\n",
       "    </tr>\n",
       "    <tr>\n",
       "      <td>1964</td>\n",
       "      <td>224</td>\n",
       "      <td>224</td>\n",
       "      <td>179</td>\n",
       "      <td>179</td>\n",
       "      <td>3</td>\n",
       "      <td>3</td>\n",
       "      <td>1</td>\n",
       "      <td>1</td>\n",
       "      <td>3</td>\n",
       "      <td>19421</td>\n",
       "      <td>5</td>\n",
       "    </tr>\n",
       "    <tr>\n",
       "      <td>1965</td>\n",
       "      <td>224</td>\n",
       "      <td>224</td>\n",
       "      <td>179</td>\n",
       "      <td>179</td>\n",
       "      <td>3</td>\n",
       "      <td>3</td>\n",
       "      <td>1</td>\n",
       "      <td>1</td>\n",
       "      <td>3</td>\n",
       "      <td>19676</td>\n",
       "      <td>5</td>\n",
       "    </tr>\n",
       "  </tbody>\n",
       "</table>\n",
       "</div>"
      ],
      "text/plain": [
       "      Area Code  Area  Item Code  Item  Element Code  Element  Year Code  \\\n",
       "Year                                                                       \n",
       "1961        224   224        179   179             3        3          1   \n",
       "1962        224   224        179   179             3        3          1   \n",
       "1963        224   224        179   179             3        3          1   \n",
       "1964        224   224        179   179             3        3          1   \n",
       "1965        224   224        179   179             3        3          1   \n",
       "\n",
       "      Year  Unit  Value  Flag  \n",
       "Year                           \n",
       "1961     1     3  18574     5  \n",
       "1962     1     3  18867     5  \n",
       "1963     1     3  19035     5  \n",
       "1964     1     3  19421     5  \n",
       "1965     1     3  19676     5  "
      ]
     },
     "execution_count": 70,
     "metadata": {},
     "output_type": "execute_result"
    }
   ],
   "source": [
    "raw_crops.groupby('Year').nunique().head()"
   ]
  },
  {
   "cell_type": "code",
   "execution_count": 8,
   "metadata": {},
   "outputs": [
    {
     "data": {
      "text/html": [
       "<div>\n",
       "<style scoped>\n",
       "    .dataframe tbody tr th:only-of-type {\n",
       "        vertical-align: middle;\n",
       "    }\n",
       "\n",
       "    .dataframe tbody tr th {\n",
       "        vertical-align: top;\n",
       "    }\n",
       "\n",
       "    .dataframe thead th {\n",
       "        text-align: right;\n",
       "    }\n",
       "</style>\n",
       "<table border=\"1\" class=\"dataframe\">\n",
       "  <thead>\n",
       "    <tr style=\"text-align: right;\">\n",
       "      <th></th>\n",
       "      <th>Area Code</th>\n",
       "      <th>Item Code</th>\n",
       "      <th>Element Code</th>\n",
       "      <th>Year Code</th>\n",
       "      <th>Year</th>\n",
       "      <th>Value</th>\n",
       "    </tr>\n",
       "  </thead>\n",
       "  <tbody>\n",
       "    <tr>\n",
       "      <td>count</td>\n",
       "      <td>2.425275e+06</td>\n",
       "      <td>2.425275e+06</td>\n",
       "      <td>2.425275e+06</td>\n",
       "      <td>2.425275e+06</td>\n",
       "      <td>2.425275e+06</td>\n",
       "      <td>2.286683e+06</td>\n",
       "    </tr>\n",
       "    <tr>\n",
       "      <td>mean</td>\n",
       "      <td>1.569183e+03</td>\n",
       "      <td>6.102060e+02</td>\n",
       "      <td>5.415041e+03</td>\n",
       "      <td>1.990384e+03</td>\n",
       "      <td>1.990384e+03</td>\n",
       "      <td>1.823040e+06</td>\n",
       "    </tr>\n",
       "    <tr>\n",
       "      <td>std</td>\n",
       "      <td>2.347083e+03</td>\n",
       "      <td>5.426334e+02</td>\n",
       "      <td>8.250871e+01</td>\n",
       "      <td>1.635972e+01</td>\n",
       "      <td>1.635972e+01</td>\n",
       "      <td>2.314048e+07</td>\n",
       "    </tr>\n",
       "    <tr>\n",
       "      <td>min</td>\n",
       "      <td>1.000000e+00</td>\n",
       "      <td>1.500000e+01</td>\n",
       "      <td>5.312000e+03</td>\n",
       "      <td>1.961000e+03</td>\n",
       "      <td>1.961000e+03</td>\n",
       "      <td>0.000000e+00</td>\n",
       "    </tr>\n",
       "    <tr>\n",
       "      <td>25%</td>\n",
       "      <td>9.000000e+01</td>\n",
       "      <td>2.360000e+02</td>\n",
       "      <td>5.312000e+03</td>\n",
       "      <td>1.976000e+03</td>\n",
       "      <td>1.976000e+03</td>\n",
       "      <td>4.700000e+03</td>\n",
       "    </tr>\n",
       "    <tr>\n",
       "      <td>50%</td>\n",
       "      <td>1.730000e+02</td>\n",
       "      <td>4.460000e+02</td>\n",
       "      <td>5.419000e+03</td>\n",
       "      <td>1.992000e+03</td>\n",
       "      <td>1.992000e+03</td>\n",
       "      <td>2.800000e+04</td>\n",
       "    </tr>\n",
       "    <tr>\n",
       "      <td>75%</td>\n",
       "      <td>5.101000e+03</td>\n",
       "      <td>6.610000e+02</td>\n",
       "      <td>5.510000e+03</td>\n",
       "      <td>2.005000e+03</td>\n",
       "      <td>2.005000e+03</td>\n",
       "      <td>1.424285e+05</td>\n",
       "    </tr>\n",
       "    <tr>\n",
       "      <td>max</td>\n",
       "      <td>5.817000e+03</td>\n",
       "      <td>1.841000e+03</td>\n",
       "      <td>5.510000e+03</td>\n",
       "      <td>2.017000e+03</td>\n",
       "      <td>2.017000e+03</td>\n",
       "      <td>2.980175e+09</td>\n",
       "    </tr>\n",
       "  </tbody>\n",
       "</table>\n",
       "</div>"
      ],
      "text/plain": [
       "          Area Code     Item Code  Element Code     Year Code          Year  \\\n",
       "count  2.425275e+06  2.425275e+06  2.425275e+06  2.425275e+06  2.425275e+06   \n",
       "mean   1.569183e+03  6.102060e+02  5.415041e+03  1.990384e+03  1.990384e+03   \n",
       "std    2.347083e+03  5.426334e+02  8.250871e+01  1.635972e+01  1.635972e+01   \n",
       "min    1.000000e+00  1.500000e+01  5.312000e+03  1.961000e+03  1.961000e+03   \n",
       "25%    9.000000e+01  2.360000e+02  5.312000e+03  1.976000e+03  1.976000e+03   \n",
       "50%    1.730000e+02  4.460000e+02  5.419000e+03  1.992000e+03  1.992000e+03   \n",
       "75%    5.101000e+03  6.610000e+02  5.510000e+03  2.005000e+03  2.005000e+03   \n",
       "max    5.817000e+03  1.841000e+03  5.510000e+03  2.017000e+03  2.017000e+03   \n",
       "\n",
       "              Value  \n",
       "count  2.286683e+06  \n",
       "mean   1.823040e+06  \n",
       "std    2.314048e+07  \n",
       "min    0.000000e+00  \n",
       "25%    4.700000e+03  \n",
       "50%    2.800000e+04  \n",
       "75%    1.424285e+05  \n",
       "max    2.980175e+09  "
      ]
     },
     "execution_count": 8,
     "metadata": {},
     "output_type": "execute_result"
    }
   ],
   "source": [
    "Raw_Crops.describe()"
   ]
  },
  {
   "cell_type": "code",
   "execution_count": 12,
   "metadata": {},
   "outputs": [],
   "source": [
    "crops_items = Raw_Crops.Item.unique()"
   ]
  },
  {
   "cell_type": "code",
   "execution_count": 13,
   "metadata": {},
   "outputs": [
    {
     "data": {
      "text/plain": [
       "180"
      ]
     },
     "execution_count": 13,
     "metadata": {},
     "output_type": "execute_result"
    }
   ],
   "source": [
    "len(crops_items)"
   ]
  },
  {
   "cell_type": "code",
   "execution_count": 18,
   "metadata": {},
   "outputs": [],
   "source": [
    "trade_items = Raw_Trade.Item.unique()"
   ]
  },
  {
   "cell_type": "code",
   "execution_count": 19,
   "metadata": {},
   "outputs": [
    {
     "data": {
      "text/plain": [
       "471"
      ]
     },
     "execution_count": 19,
     "metadata": {},
     "output_type": "execute_result"
    }
   ],
   "source": [
    "len(trade_items)"
   ]
  },
  {
   "cell_type": "code",
   "execution_count": 18,
   "metadata": {},
   "outputs": [],
   "source": [
    "#Remove items not in crops\n",
    "traded_crops_raw = Raw_Trade.loc[Raw_Trade['Item'].isin(crops_items)]"
   ]
  },
  {
   "cell_type": "code",
   "execution_count": 19,
   "metadata": {},
   "outputs": [
    {
     "data": {
      "text/plain": [
       "121"
      ]
     },
     "execution_count": 19,
     "metadata": {},
     "output_type": "execute_result"
    }
   ],
   "source": [
    "len(traded_crops_raw.Item.unique())"
   ]
  },
  {
   "cell_type": "code",
   "execution_count": 20,
   "metadata": {},
   "outputs": [
    {
     "data": {
      "text/html": [
       "<div>\n",
       "<style scoped>\n",
       "    .dataframe tbody tr th:only-of-type {\n",
       "        vertical-align: middle;\n",
       "    }\n",
       "\n",
       "    .dataframe tbody tr th {\n",
       "        vertical-align: top;\n",
       "    }\n",
       "\n",
       "    .dataframe thead th {\n",
       "        text-align: right;\n",
       "    }\n",
       "</style>\n",
       "<table border=\"1\" class=\"dataframe\">\n",
       "  <thead>\n",
       "    <tr style=\"text-align: right;\">\n",
       "      <th></th>\n",
       "      <th>Area Code</th>\n",
       "      <th>Area</th>\n",
       "      <th>Item Code</th>\n",
       "      <th>Item</th>\n",
       "      <th>Element Code</th>\n",
       "      <th>Element</th>\n",
       "      <th>Year Code</th>\n",
       "      <th>Year</th>\n",
       "      <th>Unit</th>\n",
       "      <th>Value</th>\n",
       "      <th>Flag</th>\n",
       "    </tr>\n",
       "  </thead>\n",
       "  <tbody>\n",
       "    <tr>\n",
       "      <td>118</td>\n",
       "      <td>2</td>\n",
       "      <td>Afghanistan</td>\n",
       "      <td>711</td>\n",
       "      <td>Anise, badian, fennel, coriander</td>\n",
       "      <td>5610</td>\n",
       "      <td>Import Quantity</td>\n",
       "      <td>2014</td>\n",
       "      <td>2014</td>\n",
       "      <td>tonnes</td>\n",
       "      <td>284.0</td>\n",
       "      <td>R</td>\n",
       "    </tr>\n",
       "    <tr>\n",
       "      <td>119</td>\n",
       "      <td>2</td>\n",
       "      <td>Afghanistan</td>\n",
       "      <td>711</td>\n",
       "      <td>Anise, badian, fennel, coriander</td>\n",
       "      <td>5610</td>\n",
       "      <td>Import Quantity</td>\n",
       "      <td>2015</td>\n",
       "      <td>2015</td>\n",
       "      <td>tonnes</td>\n",
       "      <td>1000.0</td>\n",
       "      <td>R</td>\n",
       "    </tr>\n",
       "    <tr>\n",
       "      <td>120</td>\n",
       "      <td>2</td>\n",
       "      <td>Afghanistan</td>\n",
       "      <td>711</td>\n",
       "      <td>Anise, badian, fennel, coriander</td>\n",
       "      <td>5610</td>\n",
       "      <td>Import Quantity</td>\n",
       "      <td>2016</td>\n",
       "      <td>2016</td>\n",
       "      <td>tonnes</td>\n",
       "      <td>815.0</td>\n",
       "      <td>R</td>\n",
       "    </tr>\n",
       "    <tr>\n",
       "      <td>121</td>\n",
       "      <td>2</td>\n",
       "      <td>Afghanistan</td>\n",
       "      <td>711</td>\n",
       "      <td>Anise, badian, fennel, coriander</td>\n",
       "      <td>5622</td>\n",
       "      <td>Import Value</td>\n",
       "      <td>2014</td>\n",
       "      <td>2014</td>\n",
       "      <td>1000 US$</td>\n",
       "      <td>599.0</td>\n",
       "      <td>R</td>\n",
       "    </tr>\n",
       "    <tr>\n",
       "      <td>122</td>\n",
       "      <td>2</td>\n",
       "      <td>Afghanistan</td>\n",
       "      <td>711</td>\n",
       "      <td>Anise, badian, fennel, coriander</td>\n",
       "      <td>5622</td>\n",
       "      <td>Import Value</td>\n",
       "      <td>2015</td>\n",
       "      <td>2015</td>\n",
       "      <td>1000 US$</td>\n",
       "      <td>2041.0</td>\n",
       "      <td>R</td>\n",
       "    </tr>\n",
       "  </tbody>\n",
       "</table>\n",
       "</div>"
      ],
      "text/plain": [
       "     Area Code         Area  Item Code                              Item  \\\n",
       "118          2  Afghanistan        711  Anise, badian, fennel, coriander   \n",
       "119          2  Afghanistan        711  Anise, badian, fennel, coriander   \n",
       "120          2  Afghanistan        711  Anise, badian, fennel, coriander   \n",
       "121          2  Afghanistan        711  Anise, badian, fennel, coriander   \n",
       "122          2  Afghanistan        711  Anise, badian, fennel, coriander   \n",
       "\n",
       "     Element Code          Element  Year Code  Year      Unit   Value Flag  \n",
       "118          5610  Import Quantity       2014  2014    tonnes   284.0    R  \n",
       "119          5610  Import Quantity       2015  2015    tonnes  1000.0    R  \n",
       "120          5610  Import Quantity       2016  2016    tonnes   815.0    R  \n",
       "121          5622     Import Value       2014  2014  1000 US$   599.0    R  \n",
       "122          5622     Import Value       2015  2015  1000 US$  2041.0    R  "
      ]
     },
     "execution_count": 20,
     "metadata": {},
     "output_type": "execute_result"
    }
   ],
   "source": [
    "traded_crops_raw.head()"
   ]
  },
  {
   "cell_type": "markdown",
   "metadata": {},
   "source": [
    "**Raw Trade 2017**"
   ]
  },
  {
   "cell_type": "code",
   "execution_count": 15,
   "metadata": {},
   "outputs": [],
   "source": [
    "Raw_Trade_2017 = pd.read_csv('data/crops_trades_2017.csv')"
   ]
  },
  {
   "cell_type": "code",
   "execution_count": 16,
   "metadata": {},
   "outputs": [
    {
     "data": {
      "text/plain": [
       "372"
      ]
     },
     "execution_count": 16,
     "metadata": {},
     "output_type": "execute_result"
    }
   ],
   "source": [
    "len(Raw_Trade_2017.Item.unique())"
   ]
  },
  {
   "cell_type": "code",
   "execution_count": 17,
   "metadata": {},
   "outputs": [],
   "source": [
    "traded_crops_2017 = Raw_Trade_2017.loc[Raw_Trade_2017['Item'].isin(crops_items)]"
   ]
  },
  {
   "cell_type": "code",
   "execution_count": 76,
   "metadata": {},
   "outputs": [
    {
     "data": {
      "text/plain": [
       "118"
      ]
     },
     "execution_count": 76,
     "metadata": {},
     "output_type": "execute_result"
    }
   ],
   "source": [
    "len(traded_crops_2017.Item.unique())"
   ]
  },
  {
   "cell_type": "code",
   "execution_count": 77,
   "metadata": {},
   "outputs": [],
   "source": [
    "traded_crops_2017_2 = Raw_Trade_2017.loc[Raw_Trade_2017['Item'].isin(traded_crops.Item.unique())]"
   ]
  },
  {
   "cell_type": "code",
   "execution_count": 78,
   "metadata": {},
   "outputs": [
    {
     "data": {
      "text/plain": [
       "111"
      ]
     },
     "execution_count": 78,
     "metadata": {},
     "output_type": "execute_result"
    }
   ],
   "source": [
    "len(traded_crops_2017_2.Item.unique())"
   ]
  },
  {
   "cell_type": "code",
   "execution_count": 81,
   "metadata": {},
   "outputs": [
    {
     "data": {
      "text/plain": [
       "{'Almonds, with shell',\n",
       " 'Areca nuts',\n",
       " 'Coir',\n",
       " 'Fibre crops nes',\n",
       " 'Hazelnuts, with shell',\n",
       " 'Karite nuts (sheanuts)',\n",
       " 'Quinoa'}"
      ]
     },
     "execution_count": 81,
     "metadata": {},
     "output_type": "execute_result"
    }
   ],
   "source": [
    "set(traded_crops_2017.Item.unique())-set(traded_crops_2017_2.Item.unique())"
   ]
  },
  {
   "cell_type": "code",
   "execution_count": 82,
   "metadata": {},
   "outputs": [
    {
     "data": {
      "text/plain": [
       "set()"
      ]
     },
     "execution_count": 82,
     "metadata": {},
     "output_type": "execute_result"
    }
   ],
   "source": [
    "set(traded_crops_2017_2.Item.unique())-set(traded_crops_2017.Item.unique())"
   ]
  },
  {
   "cell_type": "markdown",
   "metadata": {},
   "source": [
    "**Concat**"
   ]
  },
  {
   "cell_type": "code",
   "execution_count": 22,
   "metadata": {},
   "outputs": [],
   "source": [
    "#TODO : check if we merge traded_crops_2017 or traded_crops_2017_2\n",
    "traded_crops = pd.concat([traded_crops_raw,traded_crops_2017],axis=0,ignore_index=True, sort=False)"
   ]
  },
  {
   "cell_type": "code",
   "execution_count": 25,
   "metadata": {},
   "outputs": [
    {
     "data": {
      "text/html": [
       "<div>\n",
       "<style scoped>\n",
       "    .dataframe tbody tr th:only-of-type {\n",
       "        vertical-align: middle;\n",
       "    }\n",
       "\n",
       "    .dataframe tbody tr th {\n",
       "        vertical-align: top;\n",
       "    }\n",
       "\n",
       "    .dataframe thead th {\n",
       "        text-align: right;\n",
       "    }\n",
       "</style>\n",
       "<table border=\"1\" class=\"dataframe\">\n",
       "  <thead>\n",
       "    <tr style=\"text-align: right;\">\n",
       "      <th></th>\n",
       "      <th>Area Code</th>\n",
       "      <th>Area</th>\n",
       "      <th>Item Code</th>\n",
       "      <th>Item</th>\n",
       "      <th>Element Code</th>\n",
       "      <th>Element</th>\n",
       "      <th>Year Code</th>\n",
       "      <th>Year</th>\n",
       "      <th>Unit</th>\n",
       "      <th>Value</th>\n",
       "      <th>Flag</th>\n",
       "      <th>Domain Code</th>\n",
       "      <th>Domain</th>\n",
       "      <th>Flag Description</th>\n",
       "    </tr>\n",
       "  </thead>\n",
       "  <tbody>\n",
       "    <tr>\n",
       "      <td>0</td>\n",
       "      <td>2</td>\n",
       "      <td>Afghanistan</td>\n",
       "      <td>711</td>\n",
       "      <td>Anise, badian, fennel, coriander</td>\n",
       "      <td>5610</td>\n",
       "      <td>Import Quantity</td>\n",
       "      <td>2014</td>\n",
       "      <td>2014</td>\n",
       "      <td>tonnes</td>\n",
       "      <td>284.0</td>\n",
       "      <td>R</td>\n",
       "      <td>NaN</td>\n",
       "      <td>NaN</td>\n",
       "      <td>NaN</td>\n",
       "    </tr>\n",
       "    <tr>\n",
       "      <td>1</td>\n",
       "      <td>2</td>\n",
       "      <td>Afghanistan</td>\n",
       "      <td>711</td>\n",
       "      <td>Anise, badian, fennel, coriander</td>\n",
       "      <td>5610</td>\n",
       "      <td>Import Quantity</td>\n",
       "      <td>2015</td>\n",
       "      <td>2015</td>\n",
       "      <td>tonnes</td>\n",
       "      <td>1000.0</td>\n",
       "      <td>R</td>\n",
       "      <td>NaN</td>\n",
       "      <td>NaN</td>\n",
       "      <td>NaN</td>\n",
       "    </tr>\n",
       "    <tr>\n",
       "      <td>2</td>\n",
       "      <td>2</td>\n",
       "      <td>Afghanistan</td>\n",
       "      <td>711</td>\n",
       "      <td>Anise, badian, fennel, coriander</td>\n",
       "      <td>5610</td>\n",
       "      <td>Import Quantity</td>\n",
       "      <td>2016</td>\n",
       "      <td>2016</td>\n",
       "      <td>tonnes</td>\n",
       "      <td>815.0</td>\n",
       "      <td>R</td>\n",
       "      <td>NaN</td>\n",
       "      <td>NaN</td>\n",
       "      <td>NaN</td>\n",
       "    </tr>\n",
       "    <tr>\n",
       "      <td>3</td>\n",
       "      <td>2</td>\n",
       "      <td>Afghanistan</td>\n",
       "      <td>711</td>\n",
       "      <td>Anise, badian, fennel, coriander</td>\n",
       "      <td>5622</td>\n",
       "      <td>Import Value</td>\n",
       "      <td>2014</td>\n",
       "      <td>2014</td>\n",
       "      <td>1000 US$</td>\n",
       "      <td>599.0</td>\n",
       "      <td>R</td>\n",
       "      <td>NaN</td>\n",
       "      <td>NaN</td>\n",
       "      <td>NaN</td>\n",
       "    </tr>\n",
       "    <tr>\n",
       "      <td>4</td>\n",
       "      <td>2</td>\n",
       "      <td>Afghanistan</td>\n",
       "      <td>711</td>\n",
       "      <td>Anise, badian, fennel, coriander</td>\n",
       "      <td>5622</td>\n",
       "      <td>Import Value</td>\n",
       "      <td>2015</td>\n",
       "      <td>2015</td>\n",
       "      <td>1000 US$</td>\n",
       "      <td>2041.0</td>\n",
       "      <td>R</td>\n",
       "      <td>NaN</td>\n",
       "      <td>NaN</td>\n",
       "      <td>NaN</td>\n",
       "    </tr>\n",
       "  </tbody>\n",
       "</table>\n",
       "</div>"
      ],
      "text/plain": [
       "   Area Code         Area  Item Code                              Item  \\\n",
       "0          2  Afghanistan        711  Anise, badian, fennel, coriander   \n",
       "1          2  Afghanistan        711  Anise, badian, fennel, coriander   \n",
       "2          2  Afghanistan        711  Anise, badian, fennel, coriander   \n",
       "3          2  Afghanistan        711  Anise, badian, fennel, coriander   \n",
       "4          2  Afghanistan        711  Anise, badian, fennel, coriander   \n",
       "\n",
       "   Element Code          Element  Year Code  Year      Unit   Value Flag  \\\n",
       "0          5610  Import Quantity       2014  2014    tonnes   284.0    R   \n",
       "1          5610  Import Quantity       2015  2015    tonnes  1000.0    R   \n",
       "2          5610  Import Quantity       2016  2016    tonnes   815.0    R   \n",
       "3          5622     Import Value       2014  2014  1000 US$   599.0    R   \n",
       "4          5622     Import Value       2015  2015  1000 US$  2041.0    R   \n",
       "\n",
       "  Domain Code Domain Flag Description  \n",
       "0         NaN    NaN              NaN  \n",
       "1         NaN    NaN              NaN  \n",
       "2         NaN    NaN              NaN  \n",
       "3         NaN    NaN              NaN  \n",
       "4         NaN    NaN              NaN  "
      ]
     },
     "execution_count": 25,
     "metadata": {},
     "output_type": "execute_result"
    }
   ],
   "source": [
    "traded_crops.head()"
   ]
  },
  {
   "cell_type": "markdown",
   "metadata": {},
   "source": [
    "TODO : \n",
    "\n",
    "- Check that we don't have teo times the same lines for one food, for example estimated values and official values \n",
    "- Check nan\n",
    "- Check stats on quantity / values >> see if we keep only one of the two"
   ]
  },
  {
   "cell_type": "code",
   "execution_count": 26,
   "metadata": {},
   "outputs": [
    {
     "data": {
      "text/html": [
       "<div>\n",
       "<style scoped>\n",
       "    .dataframe tbody tr th:only-of-type {\n",
       "        vertical-align: middle;\n",
       "    }\n",
       "\n",
       "    .dataframe tbody tr th {\n",
       "        vertical-align: top;\n",
       "    }\n",
       "\n",
       "    .dataframe thead th {\n",
       "        text-align: right;\n",
       "    }\n",
       "</style>\n",
       "<table border=\"1\" class=\"dataframe\">\n",
       "  <thead>\n",
       "    <tr style=\"text-align: right;\">\n",
       "      <th></th>\n",
       "      <th>Area Code</th>\n",
       "      <th>Area</th>\n",
       "      <th>Item Code</th>\n",
       "      <th>Item</th>\n",
       "      <th>Element Code</th>\n",
       "      <th>Element</th>\n",
       "      <th>Year Code</th>\n",
       "      <th>Year</th>\n",
       "      <th>Unit</th>\n",
       "      <th>Value</th>\n",
       "      <th>Flag</th>\n",
       "    </tr>\n",
       "  </thead>\n",
       "  <tbody>\n",
       "    <tr>\n",
       "      <td>48007</td>\n",
       "      <td>9</td>\n",
       "      <td>Argentina</td>\n",
       "      <td>572</td>\n",
       "      <td>Avocados</td>\n",
       "      <td>5312</td>\n",
       "      <td>Area harvested</td>\n",
       "      <td>1961</td>\n",
       "      <td>1961</td>\n",
       "      <td>ha</td>\n",
       "      <td>NaN</td>\n",
       "      <td>M</td>\n",
       "    </tr>\n",
       "    <tr>\n",
       "      <td>48008</td>\n",
       "      <td>9</td>\n",
       "      <td>Argentina</td>\n",
       "      <td>572</td>\n",
       "      <td>Avocados</td>\n",
       "      <td>5312</td>\n",
       "      <td>Area harvested</td>\n",
       "      <td>1962</td>\n",
       "      <td>1962</td>\n",
       "      <td>ha</td>\n",
       "      <td>NaN</td>\n",
       "      <td>M</td>\n",
       "    </tr>\n",
       "    <tr>\n",
       "      <td>48009</td>\n",
       "      <td>9</td>\n",
       "      <td>Argentina</td>\n",
       "      <td>572</td>\n",
       "      <td>Avocados</td>\n",
       "      <td>5312</td>\n",
       "      <td>Area harvested</td>\n",
       "      <td>1963</td>\n",
       "      <td>1963</td>\n",
       "      <td>ha</td>\n",
       "      <td>NaN</td>\n",
       "      <td>M</td>\n",
       "    </tr>\n",
       "    <tr>\n",
       "      <td>48010</td>\n",
       "      <td>9</td>\n",
       "      <td>Argentina</td>\n",
       "      <td>572</td>\n",
       "      <td>Avocados</td>\n",
       "      <td>5312</td>\n",
       "      <td>Area harvested</td>\n",
       "      <td>1964</td>\n",
       "      <td>1964</td>\n",
       "      <td>ha</td>\n",
       "      <td>NaN</td>\n",
       "      <td>M</td>\n",
       "    </tr>\n",
       "    <tr>\n",
       "      <td>48011</td>\n",
       "      <td>9</td>\n",
       "      <td>Argentina</td>\n",
       "      <td>572</td>\n",
       "      <td>Avocados</td>\n",
       "      <td>5312</td>\n",
       "      <td>Area harvested</td>\n",
       "      <td>1965</td>\n",
       "      <td>1965</td>\n",
       "      <td>ha</td>\n",
       "      <td>NaN</td>\n",
       "      <td>M</td>\n",
       "    </tr>\n",
       "    <tr>\n",
       "      <td>...</td>\n",
       "      <td>...</td>\n",
       "      <td>...</td>\n",
       "      <td>...</td>\n",
       "      <td>...</td>\n",
       "      <td>...</td>\n",
       "      <td>...</td>\n",
       "      <td>...</td>\n",
       "      <td>...</td>\n",
       "      <td>...</td>\n",
       "      <td>...</td>\n",
       "      <td>...</td>\n",
       "    </tr>\n",
       "    <tr>\n",
       "      <td>2399702</td>\n",
       "      <td>5817</td>\n",
       "      <td>Net Food Importing Developing Countries</td>\n",
       "      <td>572</td>\n",
       "      <td>Avocados</td>\n",
       "      <td>5510</td>\n",
       "      <td>Production</td>\n",
       "      <td>2013</td>\n",
       "      <td>2013</td>\n",
       "      <td>tonnes</td>\n",
       "      <td>1367948.0</td>\n",
       "      <td>A</td>\n",
       "    </tr>\n",
       "    <tr>\n",
       "      <td>2399703</td>\n",
       "      <td>5817</td>\n",
       "      <td>Net Food Importing Developing Countries</td>\n",
       "      <td>572</td>\n",
       "      <td>Avocados</td>\n",
       "      <td>5510</td>\n",
       "      <td>Production</td>\n",
       "      <td>2014</td>\n",
       "      <td>2014</td>\n",
       "      <td>tonnes</td>\n",
       "      <td>1660381.0</td>\n",
       "      <td>A</td>\n",
       "    </tr>\n",
       "    <tr>\n",
       "      <td>2399704</td>\n",
       "      <td>5817</td>\n",
       "      <td>Net Food Importing Developing Countries</td>\n",
       "      <td>572</td>\n",
       "      <td>Avocados</td>\n",
       "      <td>5510</td>\n",
       "      <td>Production</td>\n",
       "      <td>2015</td>\n",
       "      <td>2015</td>\n",
       "      <td>tonnes</td>\n",
       "      <td>1641125.0</td>\n",
       "      <td>A</td>\n",
       "    </tr>\n",
       "    <tr>\n",
       "      <td>2399705</td>\n",
       "      <td>5817</td>\n",
       "      <td>Net Food Importing Developing Countries</td>\n",
       "      <td>572</td>\n",
       "      <td>Avocados</td>\n",
       "      <td>5510</td>\n",
       "      <td>Production</td>\n",
       "      <td>2016</td>\n",
       "      <td>2016</td>\n",
       "      <td>tonnes</td>\n",
       "      <td>1842254.0</td>\n",
       "      <td>A</td>\n",
       "    </tr>\n",
       "    <tr>\n",
       "      <td>2399706</td>\n",
       "      <td>5817</td>\n",
       "      <td>Net Food Importing Developing Countries</td>\n",
       "      <td>572</td>\n",
       "      <td>Avocados</td>\n",
       "      <td>5510</td>\n",
       "      <td>Production</td>\n",
       "      <td>2017</td>\n",
       "      <td>2017</td>\n",
       "      <td>tonnes</td>\n",
       "      <td>1931735.0</td>\n",
       "      <td>A</td>\n",
       "    </tr>\n",
       "  </tbody>\n",
       "</table>\n",
       "<p>15178 rows × 11 columns</p>\n",
       "</div>"
      ],
      "text/plain": [
       "         Area Code                                     Area  Item Code  \\\n",
       "48007            9                                Argentina        572   \n",
       "48008            9                                Argentina        572   \n",
       "48009            9                                Argentina        572   \n",
       "48010            9                                Argentina        572   \n",
       "48011            9                                Argentina        572   \n",
       "...            ...                                      ...        ...   \n",
       "2399702       5817  Net Food Importing Developing Countries        572   \n",
       "2399703       5817  Net Food Importing Developing Countries        572   \n",
       "2399704       5817  Net Food Importing Developing Countries        572   \n",
       "2399705       5817  Net Food Importing Developing Countries        572   \n",
       "2399706       5817  Net Food Importing Developing Countries        572   \n",
       "\n",
       "             Item  Element Code         Element  Year Code  Year    Unit  \\\n",
       "48007    Avocados          5312  Area harvested       1961  1961      ha   \n",
       "48008    Avocados          5312  Area harvested       1962  1962      ha   \n",
       "48009    Avocados          5312  Area harvested       1963  1963      ha   \n",
       "48010    Avocados          5312  Area harvested       1964  1964      ha   \n",
       "48011    Avocados          5312  Area harvested       1965  1965      ha   \n",
       "...           ...           ...             ...        ...   ...     ...   \n",
       "2399702  Avocados          5510      Production       2013  2013  tonnes   \n",
       "2399703  Avocados          5510      Production       2014  2014  tonnes   \n",
       "2399704  Avocados          5510      Production       2015  2015  tonnes   \n",
       "2399705  Avocados          5510      Production       2016  2016  tonnes   \n",
       "2399706  Avocados          5510      Production       2017  2017  tonnes   \n",
       "\n",
       "             Value Flag  \n",
       "48007          NaN    M  \n",
       "48008          NaN    M  \n",
       "48009          NaN    M  \n",
       "48010          NaN    M  \n",
       "48011          NaN    M  \n",
       "...            ...  ...  \n",
       "2399702  1367948.0    A  \n",
       "2399703  1660381.0    A  \n",
       "2399704  1641125.0    A  \n",
       "2399705  1842254.0    A  \n",
       "2399706  1931735.0    A  \n",
       "\n",
       "[15178 rows x 11 columns]"
      ]
     },
     "execution_count": 26,
     "metadata": {},
     "output_type": "execute_result"
    }
   ],
   "source": [
    "df_Avocados = Raw_Crops[Raw_Crops.Item == 'Avocados']\n",
    "df_Avocados\n"
   ]
  },
  {
   "cell_type": "code",
   "execution_count": 27,
   "metadata": {},
   "outputs": [
    {
     "data": {
      "text/html": [
       "<div>\n",
       "<style scoped>\n",
       "    .dataframe tbody tr th:only-of-type {\n",
       "        vertical-align: middle;\n",
       "    }\n",
       "\n",
       "    .dataframe tbody tr th {\n",
       "        vertical-align: top;\n",
       "    }\n",
       "\n",
       "    .dataframe thead th {\n",
       "        text-align: right;\n",
       "    }\n",
       "</style>\n",
       "<table border=\"1\" class=\"dataframe\">\n",
       "  <thead>\n",
       "    <tr style=\"text-align: right;\">\n",
       "      <th></th>\n",
       "      <th>Area Code</th>\n",
       "      <th>Area</th>\n",
       "      <th>Item Code</th>\n",
       "      <th>Item</th>\n",
       "      <th>Element Code</th>\n",
       "      <th>Element</th>\n",
       "      <th>Year Code</th>\n",
       "      <th>Year</th>\n",
       "      <th>Unit</th>\n",
       "      <th>Value</th>\n",
       "      <th>Flag</th>\n",
       "    </tr>\n",
       "  </thead>\n",
       "  <tbody>\n",
       "    <tr>\n",
       "      <td>48097</td>\n",
       "      <td>9</td>\n",
       "      <td>Argentina</td>\n",
       "      <td>572</td>\n",
       "      <td>Avocados</td>\n",
       "      <td>5510</td>\n",
       "      <td>Production</td>\n",
       "      <td>1961</td>\n",
       "      <td>1961</td>\n",
       "      <td>tonnes</td>\n",
       "      <td>2000.0</td>\n",
       "      <td>NaN</td>\n",
       "    </tr>\n",
       "    <tr>\n",
       "      <td>48098</td>\n",
       "      <td>9</td>\n",
       "      <td>Argentina</td>\n",
       "      <td>572</td>\n",
       "      <td>Avocados</td>\n",
       "      <td>5510</td>\n",
       "      <td>Production</td>\n",
       "      <td>1962</td>\n",
       "      <td>1962</td>\n",
       "      <td>tonnes</td>\n",
       "      <td>3000.0</td>\n",
       "      <td>NaN</td>\n",
       "    </tr>\n",
       "    <tr>\n",
       "      <td>48099</td>\n",
       "      <td>9</td>\n",
       "      <td>Argentina</td>\n",
       "      <td>572</td>\n",
       "      <td>Avocados</td>\n",
       "      <td>5510</td>\n",
       "      <td>Production</td>\n",
       "      <td>1963</td>\n",
       "      <td>1963</td>\n",
       "      <td>tonnes</td>\n",
       "      <td>2900.0</td>\n",
       "      <td>NaN</td>\n",
       "    </tr>\n",
       "    <tr>\n",
       "      <td>48100</td>\n",
       "      <td>9</td>\n",
       "      <td>Argentina</td>\n",
       "      <td>572</td>\n",
       "      <td>Avocados</td>\n",
       "      <td>5510</td>\n",
       "      <td>Production</td>\n",
       "      <td>1964</td>\n",
       "      <td>1964</td>\n",
       "      <td>tonnes</td>\n",
       "      <td>3030.0</td>\n",
       "      <td>NaN</td>\n",
       "    </tr>\n",
       "    <tr>\n",
       "      <td>48101</td>\n",
       "      <td>9</td>\n",
       "      <td>Argentina</td>\n",
       "      <td>572</td>\n",
       "      <td>Avocados</td>\n",
       "      <td>5510</td>\n",
       "      <td>Production</td>\n",
       "      <td>1965</td>\n",
       "      <td>1965</td>\n",
       "      <td>tonnes</td>\n",
       "      <td>3520.0</td>\n",
       "      <td>NaN</td>\n",
       "    </tr>\n",
       "    <tr>\n",
       "      <td>...</td>\n",
       "      <td>...</td>\n",
       "      <td>...</td>\n",
       "      <td>...</td>\n",
       "      <td>...</td>\n",
       "      <td>...</td>\n",
       "      <td>...</td>\n",
       "      <td>...</td>\n",
       "      <td>...</td>\n",
       "      <td>...</td>\n",
       "      <td>...</td>\n",
       "      <td>...</td>\n",
       "    </tr>\n",
       "    <tr>\n",
       "      <td>2399702</td>\n",
       "      <td>5817</td>\n",
       "      <td>Net Food Importing Developing Countries</td>\n",
       "      <td>572</td>\n",
       "      <td>Avocados</td>\n",
       "      <td>5510</td>\n",
       "      <td>Production</td>\n",
       "      <td>2013</td>\n",
       "      <td>2013</td>\n",
       "      <td>tonnes</td>\n",
       "      <td>1367948.0</td>\n",
       "      <td>A</td>\n",
       "    </tr>\n",
       "    <tr>\n",
       "      <td>2399703</td>\n",
       "      <td>5817</td>\n",
       "      <td>Net Food Importing Developing Countries</td>\n",
       "      <td>572</td>\n",
       "      <td>Avocados</td>\n",
       "      <td>5510</td>\n",
       "      <td>Production</td>\n",
       "      <td>2014</td>\n",
       "      <td>2014</td>\n",
       "      <td>tonnes</td>\n",
       "      <td>1660381.0</td>\n",
       "      <td>A</td>\n",
       "    </tr>\n",
       "    <tr>\n",
       "      <td>2399704</td>\n",
       "      <td>5817</td>\n",
       "      <td>Net Food Importing Developing Countries</td>\n",
       "      <td>572</td>\n",
       "      <td>Avocados</td>\n",
       "      <td>5510</td>\n",
       "      <td>Production</td>\n",
       "      <td>2015</td>\n",
       "      <td>2015</td>\n",
       "      <td>tonnes</td>\n",
       "      <td>1641125.0</td>\n",
       "      <td>A</td>\n",
       "    </tr>\n",
       "    <tr>\n",
       "      <td>2399705</td>\n",
       "      <td>5817</td>\n",
       "      <td>Net Food Importing Developing Countries</td>\n",
       "      <td>572</td>\n",
       "      <td>Avocados</td>\n",
       "      <td>5510</td>\n",
       "      <td>Production</td>\n",
       "      <td>2016</td>\n",
       "      <td>2016</td>\n",
       "      <td>tonnes</td>\n",
       "      <td>1842254.0</td>\n",
       "      <td>A</td>\n",
       "    </tr>\n",
       "    <tr>\n",
       "      <td>2399706</td>\n",
       "      <td>5817</td>\n",
       "      <td>Net Food Importing Developing Countries</td>\n",
       "      <td>572</td>\n",
       "      <td>Avocados</td>\n",
       "      <td>5510</td>\n",
       "      <td>Production</td>\n",
       "      <td>2017</td>\n",
       "      <td>2017</td>\n",
       "      <td>tonnes</td>\n",
       "      <td>1931735.0</td>\n",
       "      <td>A</td>\n",
       "    </tr>\n",
       "  </tbody>\n",
       "</table>\n",
       "<p>5475 rows × 11 columns</p>\n",
       "</div>"
      ],
      "text/plain": [
       "         Area Code                                     Area  Item Code  \\\n",
       "48097            9                                Argentina        572   \n",
       "48098            9                                Argentina        572   \n",
       "48099            9                                Argentina        572   \n",
       "48100            9                                Argentina        572   \n",
       "48101            9                                Argentina        572   \n",
       "...            ...                                      ...        ...   \n",
       "2399702       5817  Net Food Importing Developing Countries        572   \n",
       "2399703       5817  Net Food Importing Developing Countries        572   \n",
       "2399704       5817  Net Food Importing Developing Countries        572   \n",
       "2399705       5817  Net Food Importing Developing Countries        572   \n",
       "2399706       5817  Net Food Importing Developing Countries        572   \n",
       "\n",
       "             Item  Element Code     Element  Year Code  Year    Unit  \\\n",
       "48097    Avocados          5510  Production       1961  1961  tonnes   \n",
       "48098    Avocados          5510  Production       1962  1962  tonnes   \n",
       "48099    Avocados          5510  Production       1963  1963  tonnes   \n",
       "48100    Avocados          5510  Production       1964  1964  tonnes   \n",
       "48101    Avocados          5510  Production       1965  1965  tonnes   \n",
       "...           ...           ...         ...        ...   ...     ...   \n",
       "2399702  Avocados          5510  Production       2013  2013  tonnes   \n",
       "2399703  Avocados          5510  Production       2014  2014  tonnes   \n",
       "2399704  Avocados          5510  Production       2015  2015  tonnes   \n",
       "2399705  Avocados          5510  Production       2016  2016  tonnes   \n",
       "2399706  Avocados          5510  Production       2017  2017  tonnes   \n",
       "\n",
       "             Value Flag  \n",
       "48097       2000.0  NaN  \n",
       "48098       3000.0  NaN  \n",
       "48099       2900.0  NaN  \n",
       "48100       3030.0  NaN  \n",
       "48101       3520.0  NaN  \n",
       "...            ...  ...  \n",
       "2399702  1367948.0    A  \n",
       "2399703  1660381.0    A  \n",
       "2399704  1641125.0    A  \n",
       "2399705  1842254.0    A  \n",
       "2399706  1931735.0    A  \n",
       "\n",
       "[5475 rows x 11 columns]"
      ]
     },
     "execution_count": 27,
     "metadata": {},
     "output_type": "execute_result"
    }
   ],
   "source": [
    "df_Avocados_production = df_Avocados[df_Avocados.Element == 'Production']\n",
    "df_Avocados_production\n",
    "#df_Avocados_production[df_Avocados_production.Area == 'Peru']"
   ]
  },
  {
   "cell_type": "code",
   "execution_count": 28,
   "metadata": {},
   "outputs": [
    {
     "data": {
      "text/plain": [
       "Area Code            0\n",
       "Area                 0\n",
       "Item Code            0\n",
       "Item                 0\n",
       "Element Code         0\n",
       "Element              0\n",
       "Year Code            0\n",
       "Year                 0\n",
       "Unit                 0\n",
       "Value           138592\n",
       "dtype: int64"
      ]
     },
     "execution_count": 28,
     "metadata": {},
     "output_type": "execute_result"
    }
   ],
   "source": [
    "#Null values cleaning, elements that are the most and the least imported\n",
    "Raw_Crops.drop('Flag',axis=1).isnull().sum()"
   ]
  },
  {
   "cell_type": "code",
   "execution_count": 29,
   "metadata": {},
   "outputs": [
    {
     "data": {
      "text/plain": [
       "61665"
      ]
     },
     "execution_count": 29,
     "metadata": {},
     "output_type": "execute_result"
    }
   ],
   "source": [
    "sum(Raw_Crops[Raw_Crops.drop('Flag',axis=1).Value.isnull()].Element =='Production')\n"
   ]
  },
  {
   "cell_type": "code",
   "execution_count": 30,
   "metadata": {},
   "outputs": [
    {
     "data": {
      "text/plain": [
       "76927"
      ]
     },
     "execution_count": 30,
     "metadata": {},
     "output_type": "execute_result"
    }
   ],
   "source": [
    "sum(Raw_Crops[Raw_Crops.drop('Flag',axis=1).Value.isnull()].Element =='Area harvested')\n"
   ]
  },
  {
   "cell_type": "markdown",
   "metadata": {},
   "source": [
    "### Statistics on the data"
   ]
  },
  {
   "cell_type": "markdown",
   "metadata": {},
   "source": [
    "- Format\n",
    "- Distribution\n",
    "- Missing values"
   ]
  },
  {
   "cell_type": "code",
   "execution_count": null,
   "metadata": {},
   "outputs": [],
   "source": []
  },
  {
   "cell_type": "markdown",
   "metadata": {},
   "source": [
    "### Our plan"
   ]
  },
  {
   "cell_type": "markdown",
   "metadata": {},
   "source": [
    "- update of plan based on above data acquaintance\n",
    "- discuss how your data suits your project needs\n",
    "- discuss the methods you’re going to use, giving their essential mathematical details in the notebook"
   ]
  },
  {
   "cell_type": "code",
   "execution_count": null,
   "metadata": {},
   "outputs": [],
   "source": []
  },
  {
   "cell_type": "markdown",
   "metadata": {},
   "source": [
    "### Conclusion"
   ]
  },
  {
   "cell_type": "markdown",
   "metadata": {},
   "source": [
    "- show our plan for analysis and communication is now reasonable and sound\n",
    "- discussing alternatives to our choice and say alternatives that we considered but dropped"
   ]
  },
  {
   "cell_type": "code",
   "execution_count": null,
   "metadata": {},
   "outputs": [],
   "source": []
  }
 ],
 "metadata": {
  "kernelspec": {
   "display_name": "Python 3",
   "language": "python",
   "name": "python3"
  },
  "language_info": {
   "codemirror_mode": {
    "name": "ipython",
    "version": 3
   },
   "file_extension": ".py",
   "mimetype": "text/x-python",
   "name": "python",
   "nbconvert_exporter": "python",
   "pygments_lexer": "ipython3",
   "version": "3.6.5"
  }
 },
 "nbformat": 4,
 "nbformat_minor": 4
}
