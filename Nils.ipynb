{
 "cells": [
  {
   "cell_type": "markdown",
   "metadata": {},
   "source": [
    "# Milestone 2 - Data Collection and description"
   ]
  },
  {
   "cell_type": "markdown",
   "metadata": {},
   "source": [
    "## Imports"
   ]
  },
  {
   "cell_type": "code",
   "execution_count": 1,
   "metadata": {},
   "outputs": [],
   "source": [
    "import pandas as pd\n",
    "import matplotlib.pyplot as plt\n",
    "import seaborn as sns"
   ]
  },
  {
   "cell_type": "markdown",
   "metadata": {},
   "source": [
    "## Table of content\n",
    "[1. Loading](#Loading)<br>\n",
    "\n",
    "[2. Data exploration and cleaning](#cleaning) <br>\n",
    "&nbsp;&nbsp;&nbsp;&nbsp;[2.A Raw Crops](#cleaning-crops) <br>\n",
    "&nbsp;&nbsp;&nbsp;&nbsp;[2.B Raw Trades](#cleaning-trades) <br>\n",
    "&nbsp;&nbsp;&nbsp;&nbsp;[2.C Raw Trades 2017](#cleaning-trades-2017) <br>\n",
    "&nbsp;&nbsp;&nbsp;&nbsp;[2.D Missing Values](#cleaning-missing-values) <br>\n",
    "&nbsp;&nbsp;&nbsp;&nbsp;&nbsp;&nbsp;&nbsp;&nbsp;&nbsp;&nbsp;&nbsp;&nbsp;[Crops](#cleaning-missing-values-crops) <br>\n",
    "&nbsp;&nbsp;&nbsp;&nbsp;&nbsp;&nbsp;&nbsp;&nbsp;&nbsp;&nbsp;&nbsp;&nbsp;[Trades](#cleaning-missing-values-trades) <br>\n",
    "&nbsp;&nbsp;&nbsp;&nbsp;&nbsp;&nbsp;&nbsp;&nbsp;&nbsp;&nbsp;&nbsp;&nbsp;[Trades 2017](#cleaning-missing-values-trades-2017) <br>\n",
    "\n",
    "[3. Merge Dataframes](#merge) <br>\n",
    "&nbsp;&nbsp;&nbsp;&nbsp;[3.A Trades and Trades 2017](#merge-trades) <br>\n",
    "&nbsp;&nbsp;&nbsp;&nbsp;[3.B Item Labelling](#merge-items) <br>\n",
    "&nbsp;&nbsp;&nbsp;&nbsp;&nbsp;&nbsp;&nbsp;&nbsp;&nbsp;&nbsp;&nbsp;&nbsp;[Introduction to the problem](#merge-items-intro) <br>\n",
    "&nbsp;&nbsp;&nbsp;&nbsp;&nbsp;&nbsp;&nbsp;&nbsp;&nbsp;&nbsp;&nbsp;&nbsp;[Try first word as key word](#extraction1) <br>\n",
    "&nbsp;&nbsp;&nbsp;&nbsp;&nbsp;&nbsp;&nbsp;&nbsp;&nbsp;&nbsp;&nbsp;&nbsp;[Implementation with stemmer and fixes](#extraction2) <br>\n",
    "\n",
    "[4. Group by countries](#group-countries) <br>\n",
    "\n",
    "[5. Group by crops](#group-crops) <br>\n",
    "\n",
    "[6. Plots](#plots) <br>\n"
   ]
  },
  {
   "cell_type": "markdown",
   "metadata": {},
   "source": [
    "<a id='Loading'></a>\n",
    "## 1. Loading\n",
    "\n",
    "Reference of dataset : http://www.fao.org/faostat/en/#data\n",
    "\n",
    "We choose to work with three tables : \n",
    "- Crops (from production) [download here](http://fenixservices.fao.org/faostat/static/bulkdownloads/Production_Crops_E_All_Data_(Normalized).zip)\n",
    "- Crops and livestock products (from trades) for all years normalized [download here](http://fenixservices.fao.org/faostat/static/bulkdownloads/Trade_Crops_Livestock_E_All_Data_(Normalized).zip) \n",
    "- Crops and livestock products (from trades) for the year 2017 normalized\n",
    "\n",
    "**Description of the datasets :**\n",
    "\n",
    "The Crops dataframe contains all the crops and groups of crops produced for each country during a period between 1961 and 2017. For each country, each year and a specific crop, we can see three different type of values : \n",
    "   - The production [tonnes]\n",
    "   - The yield [hg/ha]\n",
    "   - The surface area [ha]\n",
    "\n",
    "Each Item (a crop basically) has an associated ID and the same for every countries. The file has also a `Flag` column which describes the origin of the data. \n",
    "\n",
    "Different types of `Flag` : \n",
    "- 'M' : Missing \n",
    "- 'A' : Aggregate, may include official, semi-official, estimated or calculated data\n",
    "- 'F' : FAO estimate\n",
    "- 'Im' : FAO data based on imputation methodology - \n",
    "- 'Fc' : Calculated data\n",
    "\n",
    "Regarding the `Flag`, the data may also come from an official source and the field is left empty in the .csv file so when it is uploaded with pandas those will `np.nan`\n",
    "\n",
    "The second file focuses on the trading of Crops but also livestocks products. The file is downloaded on the same website. We have the following element (type of data) for each item (crops or products) for each country and each year : \n",
    "   - The import value [1000 \\$]\n",
    "   - The import quantity [tonnes]\n",
    "   - The export value [1000 \\$]\n",
    "   - The export quantity [tonnes]\n",
    "   \n",
    "  \n",
    "We included the last file from the FAOSTAT because when we downloaded the file \"Crops and livestock products\" the last year with records was the year 2016. So, to be consistent with the crops production file which stop in 2017 we decided to add this year as well in the trades"
   ]
  },
  {
   "cell_type": "code",
   "execution_count": 2,
   "metadata": {},
   "outputs": [],
   "source": [
    "raw_crops = pd.read_csv('data/crops_production.csv',encoding = \"ISO-8859-1\")\n",
    "raw_trade = pd.read_csv('data/crops_trades.csv',encoding = \"ISO-8859-1\")\n",
    "raw_trade_2017 = pd.read_csv('data/crops_trades_2017.csv')"
   ]
  },
  {
   "cell_type": "markdown",
   "metadata": {},
   "source": [
    "For consistency, we put all columns titles to lower case and use underscores. We will stick to this for the whole notebook."
   ]
  },
  {
   "cell_type": "code",
   "execution_count": 3,
   "metadata": {},
   "outputs": [],
   "source": [
    "raw_crops.columns = map(lambda name : name.lower().replace(' ', '_'), raw_crops.columns) #Column names to lower case\n",
    "raw_trade.columns = map(lambda name : name.lower().replace(' ', '_'), raw_trade.columns) #Column names to lower case\n",
    "raw_trade_2017.columns = map(lambda name : name.lower().replace(' ', '_'), raw_trade_2017.columns) #Column names to lower case"
   ]
  },
  {
   "cell_type": "code",
   "execution_count": 4,
   "metadata": {},
   "outputs": [
    {
     "name": "stdout",
     "output_type": "stream",
     "text": [
      "(2425275, 11)\n"
     ]
    },
    {
     "data": {
      "text/html": [
       "<div>\n",
       "<style scoped>\n",
       "    .dataframe tbody tr th:only-of-type {\n",
       "        vertical-align: middle;\n",
       "    }\n",
       "\n",
       "    .dataframe tbody tr th {\n",
       "        vertical-align: top;\n",
       "    }\n",
       "\n",
       "    .dataframe thead th {\n",
       "        text-align: right;\n",
       "    }\n",
       "</style>\n",
       "<table border=\"1\" class=\"dataframe\">\n",
       "  <thead>\n",
       "    <tr style=\"text-align: right;\">\n",
       "      <th></th>\n",
       "      <th>area_code</th>\n",
       "      <th>area</th>\n",
       "      <th>item_code</th>\n",
       "      <th>item</th>\n",
       "      <th>element_code</th>\n",
       "      <th>element</th>\n",
       "      <th>year_code</th>\n",
       "      <th>year</th>\n",
       "      <th>unit</th>\n",
       "      <th>value</th>\n",
       "      <th>flag</th>\n",
       "    </tr>\n",
       "  </thead>\n",
       "  <tbody>\n",
       "    <tr>\n",
       "      <td>0</td>\n",
       "      <td>2</td>\n",
       "      <td>Afghanistan</td>\n",
       "      <td>221</td>\n",
       "      <td>Almonds, with shell</td>\n",
       "      <td>5312</td>\n",
       "      <td>Area harvested</td>\n",
       "      <td>1975</td>\n",
       "      <td>1975</td>\n",
       "      <td>ha</td>\n",
       "      <td>0.0</td>\n",
       "      <td>F</td>\n",
       "    </tr>\n",
       "    <tr>\n",
       "      <td>1</td>\n",
       "      <td>2</td>\n",
       "      <td>Afghanistan</td>\n",
       "      <td>221</td>\n",
       "      <td>Almonds, with shell</td>\n",
       "      <td>5312</td>\n",
       "      <td>Area harvested</td>\n",
       "      <td>1976</td>\n",
       "      <td>1976</td>\n",
       "      <td>ha</td>\n",
       "      <td>5900.0</td>\n",
       "      <td>F</td>\n",
       "    </tr>\n",
       "    <tr>\n",
       "      <td>2</td>\n",
       "      <td>2</td>\n",
       "      <td>Afghanistan</td>\n",
       "      <td>221</td>\n",
       "      <td>Almonds, with shell</td>\n",
       "      <td>5312</td>\n",
       "      <td>Area harvested</td>\n",
       "      <td>1977</td>\n",
       "      <td>1977</td>\n",
       "      <td>ha</td>\n",
       "      <td>6000.0</td>\n",
       "      <td>F</td>\n",
       "    </tr>\n",
       "    <tr>\n",
       "      <td>3</td>\n",
       "      <td>2</td>\n",
       "      <td>Afghanistan</td>\n",
       "      <td>221</td>\n",
       "      <td>Almonds, with shell</td>\n",
       "      <td>5312</td>\n",
       "      <td>Area harvested</td>\n",
       "      <td>1978</td>\n",
       "      <td>1978</td>\n",
       "      <td>ha</td>\n",
       "      <td>6000.0</td>\n",
       "      <td>F</td>\n",
       "    </tr>\n",
       "    <tr>\n",
       "      <td>4</td>\n",
       "      <td>2</td>\n",
       "      <td>Afghanistan</td>\n",
       "      <td>221</td>\n",
       "      <td>Almonds, with shell</td>\n",
       "      <td>5312</td>\n",
       "      <td>Area harvested</td>\n",
       "      <td>1979</td>\n",
       "      <td>1979</td>\n",
       "      <td>ha</td>\n",
       "      <td>6000.0</td>\n",
       "      <td>F</td>\n",
       "    </tr>\n",
       "  </tbody>\n",
       "</table>\n",
       "</div>"
      ],
      "text/plain": [
       "   area_code         area  item_code                 item  element_code  \\\n",
       "0          2  Afghanistan        221  Almonds, with shell          5312   \n",
       "1          2  Afghanistan        221  Almonds, with shell          5312   \n",
       "2          2  Afghanistan        221  Almonds, with shell          5312   \n",
       "3          2  Afghanistan        221  Almonds, with shell          5312   \n",
       "4          2  Afghanistan        221  Almonds, with shell          5312   \n",
       "\n",
       "          element  year_code  year unit   value flag  \n",
       "0  Area harvested       1975  1975   ha     0.0    F  \n",
       "1  Area harvested       1976  1976   ha  5900.0    F  \n",
       "2  Area harvested       1977  1977   ha  6000.0    F  \n",
       "3  Area harvested       1978  1978   ha  6000.0    F  \n",
       "4  Area harvested       1979  1979   ha  6000.0    F  "
      ]
     },
     "execution_count": 4,
     "metadata": {},
     "output_type": "execute_result"
    }
   ],
   "source": [
    "print(raw_crops.shape)\n",
    "raw_crops.head()"
   ]
  },
  {
   "cell_type": "code",
   "execution_count": 5,
   "metadata": {},
   "outputs": [
    {
     "name": "stdout",
     "output_type": "stream",
     "text": [
      "(15386177, 11)\n"
     ]
    },
    {
     "data": {
      "text/html": [
       "<div>\n",
       "<style scoped>\n",
       "    .dataframe tbody tr th:only-of-type {\n",
       "        vertical-align: middle;\n",
       "    }\n",
       "\n",
       "    .dataframe tbody tr th {\n",
       "        vertical-align: top;\n",
       "    }\n",
       "\n",
       "    .dataframe thead th {\n",
       "        text-align: right;\n",
       "    }\n",
       "</style>\n",
       "<table border=\"1\" class=\"dataframe\">\n",
       "  <thead>\n",
       "    <tr style=\"text-align: right;\">\n",
       "      <th></th>\n",
       "      <th>area_code</th>\n",
       "      <th>area</th>\n",
       "      <th>item_code</th>\n",
       "      <th>item</th>\n",
       "      <th>element_code</th>\n",
       "      <th>element</th>\n",
       "      <th>year_code</th>\n",
       "      <th>year</th>\n",
       "      <th>unit</th>\n",
       "      <th>value</th>\n",
       "      <th>flag</th>\n",
       "    </tr>\n",
       "  </thead>\n",
       "  <tbody>\n",
       "    <tr>\n",
       "      <td>0</td>\n",
       "      <td>2</td>\n",
       "      <td>Afghanistan</td>\n",
       "      <td>231</td>\n",
       "      <td>Almonds shelled</td>\n",
       "      <td>5610</td>\n",
       "      <td>Import Quantity</td>\n",
       "      <td>2014</td>\n",
       "      <td>2014</td>\n",
       "      <td>tonnes</td>\n",
       "      <td>167.0</td>\n",
       "      <td>R</td>\n",
       "    </tr>\n",
       "    <tr>\n",
       "      <td>1</td>\n",
       "      <td>2</td>\n",
       "      <td>Afghanistan</td>\n",
       "      <td>231</td>\n",
       "      <td>Almonds shelled</td>\n",
       "      <td>5610</td>\n",
       "      <td>Import Quantity</td>\n",
       "      <td>2015</td>\n",
       "      <td>2015</td>\n",
       "      <td>tonnes</td>\n",
       "      <td>181.0</td>\n",
       "      <td>R</td>\n",
       "    </tr>\n",
       "    <tr>\n",
       "      <td>2</td>\n",
       "      <td>2</td>\n",
       "      <td>Afghanistan</td>\n",
       "      <td>231</td>\n",
       "      <td>Almonds shelled</td>\n",
       "      <td>5610</td>\n",
       "      <td>Import Quantity</td>\n",
       "      <td>2016</td>\n",
       "      <td>2016</td>\n",
       "      <td>tonnes</td>\n",
       "      <td>845.0</td>\n",
       "      <td>R</td>\n",
       "    </tr>\n",
       "    <tr>\n",
       "      <td>3</td>\n",
       "      <td>2</td>\n",
       "      <td>Afghanistan</td>\n",
       "      <td>231</td>\n",
       "      <td>Almonds shelled</td>\n",
       "      <td>5622</td>\n",
       "      <td>Import Value</td>\n",
       "      <td>2014</td>\n",
       "      <td>2014</td>\n",
       "      <td>1000 US$</td>\n",
       "      <td>1116.0</td>\n",
       "      <td>R</td>\n",
       "    </tr>\n",
       "    <tr>\n",
       "      <td>4</td>\n",
       "      <td>2</td>\n",
       "      <td>Afghanistan</td>\n",
       "      <td>231</td>\n",
       "      <td>Almonds shelled</td>\n",
       "      <td>5622</td>\n",
       "      <td>Import Value</td>\n",
       "      <td>2015</td>\n",
       "      <td>2015</td>\n",
       "      <td>1000 US$</td>\n",
       "      <td>1377.0</td>\n",
       "      <td>R</td>\n",
       "    </tr>\n",
       "  </tbody>\n",
       "</table>\n",
       "</div>"
      ],
      "text/plain": [
       "   area_code         area  item_code             item  element_code  \\\n",
       "0          2  Afghanistan        231  Almonds shelled          5610   \n",
       "1          2  Afghanistan        231  Almonds shelled          5610   \n",
       "2          2  Afghanistan        231  Almonds shelled          5610   \n",
       "3          2  Afghanistan        231  Almonds shelled          5622   \n",
       "4          2  Afghanistan        231  Almonds shelled          5622   \n",
       "\n",
       "           element  year_code  year      unit   value flag  \n",
       "0  Import Quantity       2014  2014    tonnes   167.0    R  \n",
       "1  Import Quantity       2015  2015    tonnes   181.0    R  \n",
       "2  Import Quantity       2016  2016    tonnes   845.0    R  \n",
       "3     Import Value       2014  2014  1000 US$  1116.0    R  \n",
       "4     Import Value       2015  2015  1000 US$  1377.0    R  "
      ]
     },
     "execution_count": 5,
     "metadata": {},
     "output_type": "execute_result"
    }
   ],
   "source": [
    "print(raw_trade.shape)\n",
    "raw_trade.head()"
   ]
  },
  {
   "cell_type": "code",
   "execution_count": 6,
   "metadata": {},
   "outputs": [
    {
     "name": "stdout",
     "output_type": "stream",
     "text": [
      "(175158, 14)\n"
     ]
    },
    {
     "data": {
      "text/html": [
       "<div>\n",
       "<style scoped>\n",
       "    .dataframe tbody tr th:only-of-type {\n",
       "        vertical-align: middle;\n",
       "    }\n",
       "\n",
       "    .dataframe tbody tr th {\n",
       "        vertical-align: top;\n",
       "    }\n",
       "\n",
       "    .dataframe thead th {\n",
       "        text-align: right;\n",
       "    }\n",
       "</style>\n",
       "<table border=\"1\" class=\"dataframe\">\n",
       "  <thead>\n",
       "    <tr style=\"text-align: right;\">\n",
       "      <th></th>\n",
       "      <th>domain_code</th>\n",
       "      <th>domain</th>\n",
       "      <th>area_code</th>\n",
       "      <th>area</th>\n",
       "      <th>element_code</th>\n",
       "      <th>element</th>\n",
       "      <th>item_code</th>\n",
       "      <th>item</th>\n",
       "      <th>year_code</th>\n",
       "      <th>year</th>\n",
       "      <th>unit</th>\n",
       "      <th>value</th>\n",
       "      <th>flag</th>\n",
       "      <th>flag_description</th>\n",
       "    </tr>\n",
       "  </thead>\n",
       "  <tbody>\n",
       "    <tr>\n",
       "      <td>0</td>\n",
       "      <td>TP</td>\n",
       "      <td>Crops and livestock products</td>\n",
       "      <td>2</td>\n",
       "      <td>Afghanistan</td>\n",
       "      <td>5610</td>\n",
       "      <td>Import Quantity</td>\n",
       "      <td>231</td>\n",
       "      <td>Almonds shelled</td>\n",
       "      <td>2017</td>\n",
       "      <td>2017</td>\n",
       "      <td>tonnes</td>\n",
       "      <td>102.0</td>\n",
       "      <td>R</td>\n",
       "      <td>Estimated data using trading partners database</td>\n",
       "    </tr>\n",
       "    <tr>\n",
       "      <td>1</td>\n",
       "      <td>TP</td>\n",
       "      <td>Crops and livestock products</td>\n",
       "      <td>2</td>\n",
       "      <td>Afghanistan</td>\n",
       "      <td>5622</td>\n",
       "      <td>Import Value</td>\n",
       "      <td>231</td>\n",
       "      <td>Almonds shelled</td>\n",
       "      <td>2017</td>\n",
       "      <td>2017</td>\n",
       "      <td>1000 US$</td>\n",
       "      <td>758.0</td>\n",
       "      <td>R</td>\n",
       "      <td>Estimated data using trading partners database</td>\n",
       "    </tr>\n",
       "    <tr>\n",
       "      <td>2</td>\n",
       "      <td>TP</td>\n",
       "      <td>Crops and livestock products</td>\n",
       "      <td>2</td>\n",
       "      <td>Afghanistan</td>\n",
       "      <td>5910</td>\n",
       "      <td>Export Quantity</td>\n",
       "      <td>231</td>\n",
       "      <td>Almonds shelled</td>\n",
       "      <td>2017</td>\n",
       "      <td>2017</td>\n",
       "      <td>tonnes</td>\n",
       "      <td>3335.0</td>\n",
       "      <td>NaN</td>\n",
       "      <td>Official data</td>\n",
       "    </tr>\n",
       "    <tr>\n",
       "      <td>3</td>\n",
       "      <td>TP</td>\n",
       "      <td>Crops and livestock products</td>\n",
       "      <td>2</td>\n",
       "      <td>Afghanistan</td>\n",
       "      <td>5922</td>\n",
       "      <td>Export Value</td>\n",
       "      <td>231</td>\n",
       "      <td>Almonds shelled</td>\n",
       "      <td>2017</td>\n",
       "      <td>2017</td>\n",
       "      <td>1000 US$</td>\n",
       "      <td>23248.0</td>\n",
       "      <td>NaN</td>\n",
       "      <td>Official data</td>\n",
       "    </tr>\n",
       "    <tr>\n",
       "      <td>4</td>\n",
       "      <td>TP</td>\n",
       "      <td>Crops and livestock products</td>\n",
       "      <td>2</td>\n",
       "      <td>Afghanistan</td>\n",
       "      <td>5610</td>\n",
       "      <td>Import Quantity</td>\n",
       "      <td>221</td>\n",
       "      <td>Almonds, with shell</td>\n",
       "      <td>2017</td>\n",
       "      <td>2017</td>\n",
       "      <td>tonnes</td>\n",
       "      <td>41.0</td>\n",
       "      <td>R</td>\n",
       "      <td>Estimated data using trading partners database</td>\n",
       "    </tr>\n",
       "  </tbody>\n",
       "</table>\n",
       "</div>"
      ],
      "text/plain": [
       "  domain_code                        domain  area_code         area  \\\n",
       "0          TP  Crops and livestock products          2  Afghanistan   \n",
       "1          TP  Crops and livestock products          2  Afghanistan   \n",
       "2          TP  Crops and livestock products          2  Afghanistan   \n",
       "3          TP  Crops and livestock products          2  Afghanistan   \n",
       "4          TP  Crops and livestock products          2  Afghanistan   \n",
       "\n",
       "   element_code          element  item_code                 item  year_code  \\\n",
       "0          5610  Import Quantity        231      Almonds shelled       2017   \n",
       "1          5622     Import Value        231      Almonds shelled       2017   \n",
       "2          5910  Export Quantity        231      Almonds shelled       2017   \n",
       "3          5922     Export Value        231      Almonds shelled       2017   \n",
       "4          5610  Import Quantity        221  Almonds, with shell       2017   \n",
       "\n",
       "   year      unit    value flag  \\\n",
       "0  2017    tonnes    102.0    R   \n",
       "1  2017  1000 US$    758.0    R   \n",
       "2  2017    tonnes   3335.0  NaN   \n",
       "3  2017  1000 US$  23248.0  NaN   \n",
       "4  2017    tonnes     41.0    R   \n",
       "\n",
       "                                 flag_description  \n",
       "0  Estimated data using trading partners database  \n",
       "1  Estimated data using trading partners database  \n",
       "2                                   Official data  \n",
       "3                                   Official data  \n",
       "4  Estimated data using trading partners database  "
      ]
     },
     "execution_count": 6,
     "metadata": {},
     "output_type": "execute_result"
    }
   ],
   "source": [
    "print(raw_trade_2017.shape)\n",
    "raw_trade_2017.head()"
   ]
  },
  {
   "cell_type": "markdown",
   "metadata": {},
   "source": [
    "<a id='cleaning'></a>\n",
    "## 2. Data exploration and cleaning\n",
    "\n",
    "- Value format (flota instead of int)\n",
    "- Null values"
   ]
  },
  {
   "cell_type": "markdown",
   "metadata": {},
   "source": [
    "<a id='cleaning-crops'></a>\n",
    "### 2.A. Raw Crops"
   ]
  },
  {
   "cell_type": "code",
   "execution_count": 7,
   "metadata": {},
   "outputs": [
    {
     "data": {
      "text/plain": [
       "area_code         int64\n",
       "area             object\n",
       "item_code         int64\n",
       "item             object\n",
       "element_code      int64\n",
       "element          object\n",
       "year_code         int64\n",
       "year              int64\n",
       "unit             object\n",
       "value           float64\n",
       "flag             object\n",
       "dtype: object"
      ]
     },
     "execution_count": 7,
     "metadata": {},
     "output_type": "execute_result"
    }
   ],
   "source": [
    "raw_crops.dtypes"
   ]
  },
  {
   "cell_type": "markdown",
   "metadata": {},
   "source": [
    "Number of Areas :"
   ]
  },
  {
   "cell_type": "code",
   "execution_count": 8,
   "metadata": {},
   "outputs": [
    {
     "data": {
      "text/plain": [
       "258"
      ]
     },
     "execution_count": 8,
     "metadata": {},
     "output_type": "execute_result"
    }
   ],
   "source": [
    "raw_crops.area.nunique()"
   ]
  },
  {
   "cell_type": "markdown",
   "metadata": {},
   "source": [
    "Numer of Items :"
   ]
  },
  {
   "cell_type": "code",
   "execution_count": 9,
   "metadata": {},
   "outputs": [
    {
     "data": {
      "text/plain": [
       "180"
      ]
     },
     "execution_count": 9,
     "metadata": {},
     "output_type": "execute_result"
    }
   ],
   "source": [
    "raw_crops.item.nunique()"
   ]
  },
  {
   "cell_type": "markdown",
   "metadata": {},
   "source": [
    "<a id='cleaning-trades'></a>\n",
    "### 2.B. Raw Trades"
   ]
  },
  {
   "cell_type": "code",
   "execution_count": 10,
   "metadata": {},
   "outputs": [
    {
     "data": {
      "text/plain": [
       "area_code         int64\n",
       "area             object\n",
       "item_code         int64\n",
       "item             object\n",
       "element_code      int64\n",
       "element          object\n",
       "year_code         int64\n",
       "year              int64\n",
       "unit             object\n",
       "value           float64\n",
       "flag             object\n",
       "dtype: object"
      ]
     },
     "execution_count": 10,
     "metadata": {},
     "output_type": "execute_result"
    }
   ],
   "source": [
    "# For Raw Trades\n",
    "raw_trade.dtypes"
   ]
  },
  {
   "cell_type": "markdown",
   "metadata": {},
   "source": [
    "Number of Areas :"
   ]
  },
  {
   "cell_type": "code",
   "execution_count": 12,
   "metadata": {},
   "outputs": [
    {
     "data": {
      "text/plain": [
       "253"
      ]
     },
     "execution_count": 12,
     "metadata": {},
     "output_type": "execute_result"
    }
   ],
   "source": [
    "raw_trade.area.nunique()"
   ]
  },
  {
   "cell_type": "markdown",
   "metadata": {},
   "source": [
    "Number of Items :"
   ]
  },
  {
   "cell_type": "code",
   "execution_count": 13,
   "metadata": {},
   "outputs": [
    {
     "data": {
      "text/plain": [
       "471"
      ]
     },
     "execution_count": 13,
     "metadata": {},
     "output_type": "execute_result"
    }
   ],
   "source": [
    "raw_trade.item.nunique()"
   ]
  },
  {
   "cell_type": "markdown",
   "metadata": {},
   "source": [
    "<a id='cleaning-trades-2017'></a>\n",
    "### 2.C. Raw Trades 2017"
   ]
  },
  {
   "cell_type": "code",
   "execution_count": 14,
   "metadata": {},
   "outputs": [
    {
     "data": {
      "text/plain": [
       "domain_code          object\n",
       "domain               object\n",
       "area_code             int64\n",
       "area                 object\n",
       "element_code          int64\n",
       "element              object\n",
       "item_code             int64\n",
       "item                 object\n",
       "year_code             int64\n",
       "year                  int64\n",
       "unit                 object\n",
       "value               float64\n",
       "flag                 object\n",
       "flag_description     object\n",
       "dtype: object"
      ]
     },
     "execution_count": 14,
     "metadata": {},
     "output_type": "execute_result"
    }
   ],
   "source": [
    "# For raw trade 2017\n",
    "raw_trade_2017.dtypes"
   ]
  },
  {
   "cell_type": "markdown",
   "metadata": {},
   "source": [
    "Number of Areas :"
   ]
  },
  {
   "cell_type": "code",
   "execution_count": 16,
   "metadata": {},
   "outputs": [
    {
     "data": {
      "text/plain": [
       "206"
      ]
     },
     "execution_count": 16,
     "metadata": {},
     "output_type": "execute_result"
    }
   ],
   "source": [
    "raw_trade_2017.area.nunique()"
   ]
  },
  {
   "cell_type": "markdown",
   "metadata": {},
   "source": [
    "Numer of Items :"
   ]
  },
  {
   "cell_type": "code",
   "execution_count": 17,
   "metadata": {},
   "outputs": [
    {
     "data": {
      "text/plain": [
       "372"
      ]
     },
     "execution_count": 17,
     "metadata": {},
     "output_type": "execute_result"
    }
   ],
   "source": [
    "raw_trade_2017.item.nunique()"
   ]
  },
  {
   "cell_type": "markdown",
   "metadata": {},
   "source": [
    "**Conclusions:**\n",
    "\n",
    "- We notice that the number of `Areas` for the `crops` is the biggest where as its smaller for the `trades`\n",
    "\n",
    "- Because all the official data will contains `np.nan`, we will first remove the values with the flag M which corresponds to Missing values "
   ]
  },
  {
   "cell_type": "markdown",
   "metadata": {},
   "source": [
    "<a id='cleaning-missing-values'></a>\n",
    "### 2.D Missing values"
   ]
  },
  {
   "cell_type": "code",
   "execution_count": 19,
   "metadata": {},
   "outputs": [],
   "source": [
    "cleaned_crops = raw_crops[raw_crops.flag !='M'].drop(['year_code'],axis=1)"
   ]
  },
  {
   "cell_type": "code",
   "execution_count": 20,
   "metadata": {},
   "outputs": [],
   "source": [
    "cleaned_trade = raw_trade[raw_trade.flag !='M'].drop(['year_code'],axis=1)"
   ]
  },
  {
   "cell_type": "code",
   "execution_count": 21,
   "metadata": {},
   "outputs": [],
   "source": [
    "cleaned_trade_2017 = raw_trade_2017[raw_trade_2017.flag !='M'].drop(['year_code','flag_description'],axis=1)"
   ]
  },
  {
   "cell_type": "markdown",
   "metadata": {},
   "source": [
    "<a id='cleaning-missing-values-crops'></a>\n",
    "\n",
    "Let's look at the null values for each dataframe :\n",
    "\n",
    "**Crops**"
   ]
  },
  {
   "cell_type": "code",
   "execution_count": 22,
   "metadata": {},
   "outputs": [
    {
     "data": {
      "text/plain": [
       "area_code            0\n",
       "area                 0\n",
       "item_code            0\n",
       "item                 0\n",
       "element_code         0\n",
       "element              0\n",
       "year                 0\n",
       "unit                 0\n",
       "value            28712\n",
       "flag            512959\n",
       "dtype: int64"
      ]
     },
     "execution_count": 22,
     "metadata": {},
     "output_type": "execute_result"
    }
   ],
   "source": [
    "# Where are the Nan values from :\n",
    "cleaned_crops.isnull().sum()"
   ]
  },
  {
   "cell_type": "markdown",
   "metadata": {},
   "source": [
    "For the crops Dataframe there's a quite significant number of entries that are null is Value and in Flag. For the Flag, the entries correespond to official data where the flag is empty in the original dataset and Nan value in the dataset. For the Values, we suspect that they correspond to entries (products) that were not produced during this year, we'll go into more details to see if we can delete those rows or if we set the replace the value by 0."
   ]
  },
  {
   "cell_type": "code",
   "execution_count": 24,
   "metadata": {},
   "outputs": [],
   "source": [
    "df_crops_null = cleaned_crops[cleaned_crops.value.isnull()]"
   ]
  },
  {
   "cell_type": "code",
   "execution_count": 25,
   "metadata": {},
   "outputs": [
    {
     "data": {
      "image/png": "[encoded data removed]",
      "text/plain": [
       "<Figure size 720x360 with 1 Axes>"
      ]
     },
     "metadata": {
      "needs_background": "light"
     },
     "output_type": "display_data"
    }
   ],
   "source": [
    "fig,ax=plt.subplots(figsize=(10,5))\n",
    "plt.bar(pd.DataFrame(df_crops_null.year.value_counts()).sort_index().index.values, \n",
    "        pd.DataFrame(df_crops_null.year.value_counts()).sort_index().iloc[:,0].values)\n",
    "plt.xlabel('Year'),plt.ylabel('# of Nan'), plt.title('Number of Nan values per year')\n",
    "plt.show()"
   ]
  },
  {
   "cell_type": "code",
   "execution_count": 27,
   "metadata": {},
   "outputs": [
    {
     "data": {
      "text/html": [
       "<div>\n",
       "<style scoped>\n",
       "    .dataframe tbody tr th:only-of-type {\n",
       "        vertical-align: middle;\n",
       "    }\n",
       "\n",
       "    .dataframe tbody tr th {\n",
       "        vertical-align: top;\n",
       "    }\n",
       "\n",
       "    .dataframe thead th {\n",
       "        text-align: right;\n",
       "    }\n",
       "</style>\n",
       "<table border=\"1\" class=\"dataframe\">\n",
       "  <thead>\n",
       "    <tr style=\"text-align: right;\">\n",
       "      <th></th>\n",
       "      <th></th>\n",
       "      <th>min</th>\n",
       "      <th>max</th>\n",
       "      <th>count</th>\n",
       "    </tr>\n",
       "    <tr>\n",
       "      <th>area</th>\n",
       "      <th>item</th>\n",
       "      <th></th>\n",
       "      <th></th>\n",
       "      <th></th>\n",
       "    </tr>\n",
       "  </thead>\n",
       "  <tbody>\n",
       "    <tr>\n",
       "      <td rowspan=\"5\" valign=\"top\">Africa</td>\n",
       "      <td>Areca nuts</td>\n",
       "      <td>1961</td>\n",
       "      <td>1985</td>\n",
       "      <td>25</td>\n",
       "    </tr>\n",
       "    <tr>\n",
       "      <td>Blueberries</td>\n",
       "      <td>1961</td>\n",
       "      <td>1988</td>\n",
       "      <td>28</td>\n",
       "    </tr>\n",
       "    <tr>\n",
       "      <td>Cassava leaves</td>\n",
       "      <td>1961</td>\n",
       "      <td>1989</td>\n",
       "      <td>58</td>\n",
       "    </tr>\n",
       "    <tr>\n",
       "      <td>Chestnut</td>\n",
       "      <td>1961</td>\n",
       "      <td>1984</td>\n",
       "      <td>48</td>\n",
       "    </tr>\n",
       "    <tr>\n",
       "      <td>Coir</td>\n",
       "      <td>1961</td>\n",
       "      <td>1989</td>\n",
       "      <td>29</td>\n",
       "    </tr>\n",
       "    <tr>\n",
       "      <td>...</td>\n",
       "      <td>...</td>\n",
       "      <td>...</td>\n",
       "      <td>...</td>\n",
       "      <td>...</td>\n",
       "    </tr>\n",
       "    <tr>\n",
       "      <td rowspan=\"2\" valign=\"top\">World</td>\n",
       "      <td>Tallowtree seed</td>\n",
       "      <td>1961</td>\n",
       "      <td>1984</td>\n",
       "      <td>24</td>\n",
       "    </tr>\n",
       "    <tr>\n",
       "      <td>Triticale</td>\n",
       "      <td>1961</td>\n",
       "      <td>1974</td>\n",
       "      <td>28</td>\n",
       "    </tr>\n",
       "    <tr>\n",
       "      <td rowspan=\"2\" valign=\"top\">Yugoslav SFR</td>\n",
       "      <td>Citrus Fruit,Total</td>\n",
       "      <td>1961</td>\n",
       "      <td>1984</td>\n",
       "      <td>24</td>\n",
       "    </tr>\n",
       "    <tr>\n",
       "      <td>Treenuts,Total</td>\n",
       "      <td>1961</td>\n",
       "      <td>1984</td>\n",
       "      <td>24</td>\n",
       "    </tr>\n",
       "    <tr>\n",
       "      <td>Zimbabwe</td>\n",
       "      <td>Treenuts,Total</td>\n",
       "      <td>1961</td>\n",
       "      <td>1978</td>\n",
       "      <td>36</td>\n",
       "    </tr>\n",
       "  </tbody>\n",
       "</table>\n",
       "<p>735 rows × 3 columns</p>\n",
       "</div>"
      ],
      "text/plain": [
       "                                  min   max  count\n",
       "area         item                                 \n",
       "Africa       Areca nuts          1961  1985     25\n",
       "             Blueberries         1961  1988     28\n",
       "             Cassava leaves      1961  1989     58\n",
       "             Chestnut            1961  1984     48\n",
       "             Coir                1961  1989     29\n",
       "...                               ...   ...    ...\n",
       "World        Tallowtree seed     1961  1984     24\n",
       "             Triticale           1961  1974     28\n",
       "Yugoslav SFR Citrus Fruit,Total  1961  1984     24\n",
       "             Treenuts,Total      1961  1984     24\n",
       "Zimbabwe     Treenuts,Total      1961  1978     36\n",
       "\n",
       "[735 rows x 3 columns]"
      ]
     },
     "execution_count": 27,
     "metadata": {},
     "output_type": "execute_result"
    }
   ],
   "source": [
    "df_crops_null.groupby(['area','item']).agg(['min','max','count']).year"
   ]
  },
  {
   "cell_type": "code",
   "execution_count": 28,
   "metadata": {},
   "outputs": [
    {
     "data": {
      "text/plain": [
       "[<matplotlib.lines.Line2D at 0x1283d1e48>]"
      ]
     },
     "execution_count": 28,
     "metadata": {},
     "output_type": "execute_result"
    },
    {
     "data": {
      "image/png": "[encoded data removed]",
      "text/plain": [
       "<Figure size 432x288 with 1 Axes>"
      ]
     },
     "metadata": {
      "needs_background": "light"
     },
     "output_type": "display_data"
    }
   ],
   "source": [
    "plt.plot(df_crops_null.groupby(['area','item']).agg(['min','max','count']).year['min'].value_counts(),'x')"
   ]
  },
  {
   "cell_type": "markdown",
   "metadata": {},
   "source": [
    "<a id='cleaning-missing-values-trades'></a>\n",
    "\n",
    "**Trades**"
   ]
  },
  {
   "cell_type": "code",
   "execution_count": 29,
   "metadata": {},
   "outputs": [
    {
     "data": {
      "text/plain": [
       "(414679, 10)"
      ]
     },
     "execution_count": 29,
     "metadata": {},
     "output_type": "execute_result"
    }
   ],
   "source": [
    "# Where are the Nan values from :\n",
    "df_trade_null = cleaned_trade[cleaned_trade.value.isnull()]\n",
    "df_trade_null.shape"
   ]
  },
  {
   "cell_type": "code",
   "execution_count": 30,
   "metadata": {},
   "outputs": [
    {
     "data": {
      "image/png": "[encoded data removed]",
      "text/plain": [
       "<Figure size 720x360 with 1 Axes>"
      ]
     },
     "metadata": {
      "needs_background": "light"
     },
     "output_type": "display_data"
    }
   ],
   "source": [
    "fig,ax=plt.subplots(figsize=(10,5))\n",
    "plt.bar(pd.DataFrame(cleaned_trade.year.value_counts()).sort_index().index.values, \n",
    "        pd.DataFrame(cleaned_trade.year.value_counts()).sort_index().iloc[:,0].values)\n",
    "plt.xlabel('Year'),plt.ylabel('# of Nan'), plt.title('Number of Nan values per year')\n",
    "plt.show()"
   ]
  },
  {
   "cell_type": "code",
   "execution_count": 31,
   "metadata": {},
   "outputs": [
    {
     "data": {
      "text/html": [
       "<div>\n",
       "<style scoped>\n",
       "    .dataframe tbody tr th:only-of-type {\n",
       "        vertical-align: middle;\n",
       "    }\n",
       "\n",
       "    .dataframe tbody tr th {\n",
       "        vertical-align: top;\n",
       "    }\n",
       "\n",
       "    .dataframe thead th {\n",
       "        text-align: right;\n",
       "    }\n",
       "</style>\n",
       "<table border=\"1\" class=\"dataframe\">\n",
       "  <thead>\n",
       "    <tr style=\"text-align: right;\">\n",
       "      <th></th>\n",
       "      <th></th>\n",
       "      <th>min</th>\n",
       "      <th>max</th>\n",
       "      <th>count</th>\n",
       "    </tr>\n",
       "    <tr>\n",
       "      <th>area</th>\n",
       "      <th>item</th>\n",
       "      <th></th>\n",
       "      <th></th>\n",
       "      <th></th>\n",
       "    </tr>\n",
       "  </thead>\n",
       "  <tbody>\n",
       "    <tr>\n",
       "      <td rowspan=\"5\" valign=\"top\">Afghanistan</td>\n",
       "      <td>Cereals</td>\n",
       "      <td>1961</td>\n",
       "      <td>2008</td>\n",
       "      <td>96</td>\n",
       "    </tr>\n",
       "    <tr>\n",
       "      <td>Cereals and Preparations</td>\n",
       "      <td>1961</td>\n",
       "      <td>2008</td>\n",
       "      <td>48</td>\n",
       "    </tr>\n",
       "    <tr>\n",
       "      <td>Dairy Products+Eggs</td>\n",
       "      <td>1961</td>\n",
       "      <td>2008</td>\n",
       "      <td>48</td>\n",
       "    </tr>\n",
       "    <tr>\n",
       "      <td>Fodder &amp; Feeding stuff</td>\n",
       "      <td>1961</td>\n",
       "      <td>2008</td>\n",
       "      <td>96</td>\n",
       "    </tr>\n",
       "    <tr>\n",
       "      <td>Meat Sheep Fresh</td>\n",
       "      <td>1961</td>\n",
       "      <td>2010</td>\n",
       "      <td>100</td>\n",
       "    </tr>\n",
       "    <tr>\n",
       "      <td>...</td>\n",
       "      <td>...</td>\n",
       "      <td>...</td>\n",
       "      <td>...</td>\n",
       "      <td>...</td>\n",
       "    </tr>\n",
       "    <tr>\n",
       "      <td rowspan=\"5\" valign=\"top\">Zimbabwe</td>\n",
       "      <td>Cassava Equivalent</td>\n",
       "      <td>1961</td>\n",
       "      <td>1993</td>\n",
       "      <td>66</td>\n",
       "    </tr>\n",
       "    <tr>\n",
       "      <td>Crude Materials nes</td>\n",
       "      <td>1961</td>\n",
       "      <td>2003</td>\n",
       "      <td>86</td>\n",
       "    </tr>\n",
       "    <tr>\n",
       "      <td>Eggs Liquid,Dried</td>\n",
       "      <td>1961</td>\n",
       "      <td>1994</td>\n",
       "      <td>34</td>\n",
       "    </tr>\n",
       "    <tr>\n",
       "      <td>Flax Fib+Tow+W</td>\n",
       "      <td>1961</td>\n",
       "      <td>1993</td>\n",
       "      <td>67</td>\n",
       "    </tr>\n",
       "    <tr>\n",
       "      <td>Silk</td>\n",
       "      <td>1961</td>\n",
       "      <td>1996</td>\n",
       "      <td>104</td>\n",
       "    </tr>\n",
       "  </tbody>\n",
       "</table>\n",
       "<p>5949 rows × 3 columns</p>\n",
       "</div>"
      ],
      "text/plain": [
       "                                       min   max  count\n",
       "area        item                                       \n",
       "Afghanistan Cereals                   1961  2008     96\n",
       "            Cereals and Preparations  1961  2008     48\n",
       "            Dairy Products+Eggs       1961  2008     48\n",
       "            Fodder & Feeding stuff    1961  2008     96\n",
       "            Meat Sheep Fresh          1961  2010    100\n",
       "...                                    ...   ...    ...\n",
       "Zimbabwe    Cassava Equivalent        1961  1993     66\n",
       "            Crude Materials nes       1961  2003     86\n",
       "            Eggs Liquid,Dried         1961  1994     34\n",
       "            Flax Fib+Tow+W            1961  1993     67\n",
       "            Silk                      1961  1996    104\n",
       "\n",
       "[5949 rows x 3 columns]"
      ]
     },
     "execution_count": 31,
     "metadata": {},
     "output_type": "execute_result"
    }
   ],
   "source": [
    "df_trade_null.groupby(['area','item']).agg(['min','max','count']).year"
   ]
  },
  {
   "cell_type": "code",
   "execution_count": 32,
   "metadata": {},
   "outputs": [
    {
     "data": {
      "text/plain": [
       "[<matplotlib.lines.Line2D at 0x12894be48>]"
      ]
     },
     "execution_count": 32,
     "metadata": {},
     "output_type": "execute_result"
    },
    {
     "data": {
      "image/png": "[encoded data removed]",
      "text/plain": [
       "<Figure size 432x288 with 1 Axes>"
      ]
     },
     "metadata": {
      "needs_background": "light"
     },
     "output_type": "display_data"
    }
   ],
   "source": [
    "plt.plot(df_trade_null.groupby(['area','item']).agg(['min','max','count']).year['min'].value_counts(),'x')"
   ]
  },
  {
   "cell_type": "code",
   "execution_count": 33,
   "metadata": {},
   "outputs": [
    {
     "data": {
      "text/html": [
       "<div>\n",
       "<style scoped>\n",
       "    .dataframe tbody tr th:only-of-type {\n",
       "        vertical-align: middle;\n",
       "    }\n",
       "\n",
       "    .dataframe tbody tr th {\n",
       "        vertical-align: top;\n",
       "    }\n",
       "\n",
       "    .dataframe thead th {\n",
       "        text-align: right;\n",
       "    }\n",
       "</style>\n",
       "<table border=\"1\" class=\"dataframe\">\n",
       "  <thead>\n",
       "    <tr style=\"text-align: right;\">\n",
       "      <th></th>\n",
       "      <th></th>\n",
       "      <th>min</th>\n",
       "      <th>max</th>\n",
       "      <th>count</th>\n",
       "    </tr>\n",
       "    <tr>\n",
       "      <th>area</th>\n",
       "      <th>item</th>\n",
       "      <th></th>\n",
       "      <th></th>\n",
       "      <th></th>\n",
       "    </tr>\n",
       "  </thead>\n",
       "  <tbody>\n",
       "    <tr>\n",
       "      <td rowspan=\"5\" valign=\"top\">Afghanistan</td>\n",
       "      <td>Cereals</td>\n",
       "      <td>1961</td>\n",
       "      <td>2008</td>\n",
       "      <td>96</td>\n",
       "    </tr>\n",
       "    <tr>\n",
       "      <td>Cereals and Preparations</td>\n",
       "      <td>1961</td>\n",
       "      <td>2008</td>\n",
       "      <td>48</td>\n",
       "    </tr>\n",
       "    <tr>\n",
       "      <td>Dairy Products+Eggs</td>\n",
       "      <td>1961</td>\n",
       "      <td>2008</td>\n",
       "      <td>48</td>\n",
       "    </tr>\n",
       "    <tr>\n",
       "      <td>Fodder &amp; Feeding stuff</td>\n",
       "      <td>1961</td>\n",
       "      <td>2008</td>\n",
       "      <td>96</td>\n",
       "    </tr>\n",
       "    <tr>\n",
       "      <td>Meat Sheep Fresh</td>\n",
       "      <td>1961</td>\n",
       "      <td>2010</td>\n",
       "      <td>100</td>\n",
       "    </tr>\n",
       "  </tbody>\n",
       "</table>\n",
       "</div>"
      ],
      "text/plain": [
       "                                       min   max  count\n",
       "area        item                                       \n",
       "Afghanistan Cereals                   1961  2008     96\n",
       "            Cereals and Preparations  1961  2008     48\n",
       "            Dairy Products+Eggs       1961  2008     48\n",
       "            Fodder & Feeding stuff    1961  2008     96\n",
       "            Meat Sheep Fresh          1961  2010    100"
      ]
     },
     "execution_count": 33,
     "metadata": {},
     "output_type": "execute_result"
    }
   ],
   "source": [
    "df_trade_groupby_area_item = df_trade_null.groupby(['area','item']).agg(['min','max','count']).year\n",
    "df_trade_groupby_area_item.head()"
   ]
  },
  {
   "cell_type": "code",
   "execution_count": 34,
   "metadata": {},
   "outputs": [
    {
     "data": {
      "text/plain": [
       "1961    4102\n",
       "1992    1117\n",
       "1994     151\n",
       "2000     143\n",
       "1993     109\n",
       "Name: min, dtype: int64"
      ]
     },
     "execution_count": 34,
     "metadata": {},
     "output_type": "execute_result"
    }
   ],
   "source": [
    "df_trade_groupby_area_item['min'].value_counts().head()"
   ]
  },
  {
   "cell_type": "code",
   "execution_count": 35,
   "metadata": {},
   "outputs": [
    {
     "data": {
      "text/plain": [
       "Index(['Armenia', 'Asia', 'Azerbaijan', 'Belarus', 'Bosnia and Herzegovina',\n",
       "       'Central Asia', 'China', 'Croatia', 'Eastern Asia', 'Eastern Europe',\n",
       "       'Estonia', 'Europe', 'European Union', 'Georgia', 'Kazakhstan',\n",
       "       'Kyrgyzstan', 'Land Locked Developing Countries', 'Latvia', 'Lithuania',\n",
       "       'Low Income Food Deficit Countries', 'Melanesia', 'Northern Europe',\n",
       "       'Republic of Moldova', 'Romania', 'Russian Federation',\n",
       "       'Saint Vincent and the Grenadines', 'Serbia and Montenegro', 'Slovenia',\n",
       "       'Southern Europe', 'Tajikistan',\n",
       "       'The former Yugoslav Republic of Macedonia', 'Turkmenistan', 'Ukraine',\n",
       "       'Uzbekistan', 'Western Asia', 'World'],\n",
       "      dtype='object', name='area')"
      ]
     },
     "execution_count": 35,
     "metadata": {},
     "output_type": "execute_result"
    }
   ],
   "source": [
    "df_trade_groupby_area_item[df_trade_groupby_area_item['min']==1992].index.get_level_values('area').unique()"
   ]
  },
  {
   "cell_type": "markdown",
   "metadata": {},
   "source": [
    "# TODO \n",
    "Comments : \n",
    "\n",
    "Country from eastern block during cold war"
   ]
  },
  {
   "cell_type": "markdown",
   "metadata": {},
   "source": [
    "<a id='cleaning-missing-values-trades-2017'></a>\n",
    "\n",
    "**Trades 2017**"
   ]
  },
  {
   "cell_type": "code",
   "execution_count": 36,
   "metadata": {},
   "outputs": [
    {
     "data": {
      "text/plain": [
       "domain_code          0\n",
       "domain               0\n",
       "area_code            0\n",
       "area                 0\n",
       "element_code         0\n",
       "element              0\n",
       "item_code            0\n",
       "item                 0\n",
       "year                 0\n",
       "unit                 0\n",
       "value                0\n",
       "flag            123608\n",
       "dtype: int64"
      ]
     },
     "execution_count": 36,
     "metadata": {},
     "output_type": "execute_result"
    }
   ],
   "source": [
    "cleaned_trade_2017.isnull().sum()"
   ]
  },
  {
   "cell_type": "markdown",
   "metadata": {},
   "source": [
    "**Conclusion**"
   ]
  },
  {
   "cell_type": "markdown",
   "metadata": {},
   "source": [
    "We can remove nan values. Because incomplete are for dummies, because we only want complete entries of each type "
   ]
  },
  {
   "cell_type": "code",
   "execution_count": 37,
   "metadata": {},
   "outputs": [],
   "source": [
    "cleaned_crops = cleaned_crops[~cleaned_crops.drop(['flag'],axis=1).isnull()]"
   ]
  },
  {
   "cell_type": "code",
   "execution_count": 38,
   "metadata": {},
   "outputs": [
    {
     "data": {
      "text/html": [
       "<div>\n",
       "<style scoped>\n",
       "    .dataframe tbody tr th:only-of-type {\n",
       "        vertical-align: middle;\n",
       "    }\n",
       "\n",
       "    .dataframe tbody tr th {\n",
       "        vertical-align: top;\n",
       "    }\n",
       "\n",
       "    .dataframe thead th {\n",
       "        text-align: right;\n",
       "    }\n",
       "</style>\n",
       "<table border=\"1\" class=\"dataframe\">\n",
       "  <thead>\n",
       "    <tr style=\"text-align: right;\">\n",
       "      <th></th>\n",
       "      <th>area_code</th>\n",
       "      <th>area</th>\n",
       "      <th>item_code</th>\n",
       "      <th>item</th>\n",
       "      <th>element_code</th>\n",
       "      <th>element</th>\n",
       "      <th>year</th>\n",
       "      <th>unit</th>\n",
       "      <th>value</th>\n",
       "      <th>flag</th>\n",
       "    </tr>\n",
       "  </thead>\n",
       "  <tbody>\n",
       "    <tr>\n",
       "      <td>0</td>\n",
       "      <td>2</td>\n",
       "      <td>Afghanistan</td>\n",
       "      <td>221</td>\n",
       "      <td>Almonds, with shell</td>\n",
       "      <td>5312</td>\n",
       "      <td>Area harvested</td>\n",
       "      <td>1975</td>\n",
       "      <td>ha</td>\n",
       "      <td>0.0</td>\n",
       "      <td>NaN</td>\n",
       "    </tr>\n",
       "    <tr>\n",
       "      <td>1</td>\n",
       "      <td>2</td>\n",
       "      <td>Afghanistan</td>\n",
       "      <td>221</td>\n",
       "      <td>Almonds, with shell</td>\n",
       "      <td>5312</td>\n",
       "      <td>Area harvested</td>\n",
       "      <td>1976</td>\n",
       "      <td>ha</td>\n",
       "      <td>5900.0</td>\n",
       "      <td>NaN</td>\n",
       "    </tr>\n",
       "    <tr>\n",
       "      <td>2</td>\n",
       "      <td>2</td>\n",
       "      <td>Afghanistan</td>\n",
       "      <td>221</td>\n",
       "      <td>Almonds, with shell</td>\n",
       "      <td>5312</td>\n",
       "      <td>Area harvested</td>\n",
       "      <td>1977</td>\n",
       "      <td>ha</td>\n",
       "      <td>6000.0</td>\n",
       "      <td>NaN</td>\n",
       "    </tr>\n",
       "    <tr>\n",
       "      <td>3</td>\n",
       "      <td>2</td>\n",
       "      <td>Afghanistan</td>\n",
       "      <td>221</td>\n",
       "      <td>Almonds, with shell</td>\n",
       "      <td>5312</td>\n",
       "      <td>Area harvested</td>\n",
       "      <td>1978</td>\n",
       "      <td>ha</td>\n",
       "      <td>6000.0</td>\n",
       "      <td>NaN</td>\n",
       "    </tr>\n",
       "    <tr>\n",
       "      <td>4</td>\n",
       "      <td>2</td>\n",
       "      <td>Afghanistan</td>\n",
       "      <td>221</td>\n",
       "      <td>Almonds, with shell</td>\n",
       "      <td>5312</td>\n",
       "      <td>Area harvested</td>\n",
       "      <td>1979</td>\n",
       "      <td>ha</td>\n",
       "      <td>6000.0</td>\n",
       "      <td>NaN</td>\n",
       "    </tr>\n",
       "  </tbody>\n",
       "</table>\n",
       "</div>"
      ],
      "text/plain": [
       "   area_code         area  item_code                 item  element_code  \\\n",
       "0          2  Afghanistan        221  Almonds, with shell          5312   \n",
       "1          2  Afghanistan        221  Almonds, with shell          5312   \n",
       "2          2  Afghanistan        221  Almonds, with shell          5312   \n",
       "3          2  Afghanistan        221  Almonds, with shell          5312   \n",
       "4          2  Afghanistan        221  Almonds, with shell          5312   \n",
       "\n",
       "          element  year unit   value flag  \n",
       "0  Area harvested  1975   ha     0.0  NaN  \n",
       "1  Area harvested  1976   ha  5900.0  NaN  \n",
       "2  Area harvested  1977   ha  6000.0  NaN  \n",
       "3  Area harvested  1978   ha  6000.0  NaN  \n",
       "4  Area harvested  1979   ha  6000.0  NaN  "
      ]
     },
     "execution_count": 38,
     "metadata": {},
     "output_type": "execute_result"
    }
   ],
   "source": [
    "cleaned_crops.head()"
   ]
  },
  {
   "cell_type": "code",
   "execution_count": 40,
   "metadata": {},
   "outputs": [],
   "source": [
    "cleaned_trade = cleaned_trade[~cleaned_trade.drop(['flag'],axis=1).isnull()]"
   ]
  },
  {
   "cell_type": "code",
   "execution_count": 41,
   "metadata": {},
   "outputs": [
    {
     "data": {
      "text/html": [
       "<div>\n",
       "<style scoped>\n",
       "    .dataframe tbody tr th:only-of-type {\n",
       "        vertical-align: middle;\n",
       "    }\n",
       "\n",
       "    .dataframe tbody tr th {\n",
       "        vertical-align: top;\n",
       "    }\n",
       "\n",
       "    .dataframe thead th {\n",
       "        text-align: right;\n",
       "    }\n",
       "</style>\n",
       "<table border=\"1\" class=\"dataframe\">\n",
       "  <thead>\n",
       "    <tr style=\"text-align: right;\">\n",
       "      <th></th>\n",
       "      <th>area_code</th>\n",
       "      <th>area</th>\n",
       "      <th>item_code</th>\n",
       "      <th>item</th>\n",
       "      <th>element_code</th>\n",
       "      <th>element</th>\n",
       "      <th>year</th>\n",
       "      <th>unit</th>\n",
       "      <th>value</th>\n",
       "      <th>flag</th>\n",
       "    </tr>\n",
       "  </thead>\n",
       "  <tbody>\n",
       "    <tr>\n",
       "      <td>0</td>\n",
       "      <td>2</td>\n",
       "      <td>Afghanistan</td>\n",
       "      <td>231</td>\n",
       "      <td>Almonds shelled</td>\n",
       "      <td>5610</td>\n",
       "      <td>Import Quantity</td>\n",
       "      <td>2014</td>\n",
       "      <td>tonnes</td>\n",
       "      <td>167.0</td>\n",
       "      <td>NaN</td>\n",
       "    </tr>\n",
       "    <tr>\n",
       "      <td>1</td>\n",
       "      <td>2</td>\n",
       "      <td>Afghanistan</td>\n",
       "      <td>231</td>\n",
       "      <td>Almonds shelled</td>\n",
       "      <td>5610</td>\n",
       "      <td>Import Quantity</td>\n",
       "      <td>2015</td>\n",
       "      <td>tonnes</td>\n",
       "      <td>181.0</td>\n",
       "      <td>NaN</td>\n",
       "    </tr>\n",
       "    <tr>\n",
       "      <td>2</td>\n",
       "      <td>2</td>\n",
       "      <td>Afghanistan</td>\n",
       "      <td>231</td>\n",
       "      <td>Almonds shelled</td>\n",
       "      <td>5610</td>\n",
       "      <td>Import Quantity</td>\n",
       "      <td>2016</td>\n",
       "      <td>tonnes</td>\n",
       "      <td>845.0</td>\n",
       "      <td>NaN</td>\n",
       "    </tr>\n",
       "    <tr>\n",
       "      <td>3</td>\n",
       "      <td>2</td>\n",
       "      <td>Afghanistan</td>\n",
       "      <td>231</td>\n",
       "      <td>Almonds shelled</td>\n",
       "      <td>5622</td>\n",
       "      <td>Import Value</td>\n",
       "      <td>2014</td>\n",
       "      <td>1000 US$</td>\n",
       "      <td>1116.0</td>\n",
       "      <td>NaN</td>\n",
       "    </tr>\n",
       "    <tr>\n",
       "      <td>4</td>\n",
       "      <td>2</td>\n",
       "      <td>Afghanistan</td>\n",
       "      <td>231</td>\n",
       "      <td>Almonds shelled</td>\n",
       "      <td>5622</td>\n",
       "      <td>Import Value</td>\n",
       "      <td>2015</td>\n",
       "      <td>1000 US$</td>\n",
       "      <td>1377.0</td>\n",
       "      <td>NaN</td>\n",
       "    </tr>\n",
       "  </tbody>\n",
       "</table>\n",
       "</div>"
      ],
      "text/plain": [
       "   area_code         area  item_code             item  element_code  \\\n",
       "0          2  Afghanistan        231  Almonds shelled          5610   \n",
       "1          2  Afghanistan        231  Almonds shelled          5610   \n",
       "2          2  Afghanistan        231  Almonds shelled          5610   \n",
       "3          2  Afghanistan        231  Almonds shelled          5622   \n",
       "4          2  Afghanistan        231  Almonds shelled          5622   \n",
       "\n",
       "           element  year      unit   value flag  \n",
       "0  Import Quantity  2014    tonnes   167.0  NaN  \n",
       "1  Import Quantity  2015    tonnes   181.0  NaN  \n",
       "2  Import Quantity  2016    tonnes   845.0  NaN  \n",
       "3     Import Value  2014  1000 US$  1116.0  NaN  \n",
       "4     Import Value  2015  1000 US$  1377.0  NaN  "
      ]
     },
     "execution_count": 41,
     "metadata": {},
     "output_type": "execute_result"
    }
   ],
   "source": [
    "cleaned_trade.head()"
   ]
  },
  {
   "cell_type": "code",
   "execution_count": 42,
   "metadata": {},
   "outputs": [],
   "source": [
    "cleaned_trade_2017 = cleaned_trade_2017[~cleaned_trade_2017.drop(['flag'],axis=1).isnull()]"
   ]
  },
  {
   "cell_type": "code",
   "execution_count": 43,
   "metadata": {},
   "outputs": [
    {
     "data": {
      "text/html": [
       "<div>\n",
       "<style scoped>\n",
       "    .dataframe tbody tr th:only-of-type {\n",
       "        vertical-align: middle;\n",
       "    }\n",
       "\n",
       "    .dataframe tbody tr th {\n",
       "        vertical-align: top;\n",
       "    }\n",
       "\n",
       "    .dataframe thead th {\n",
       "        text-align: right;\n",
       "    }\n",
       "</style>\n",
       "<table border=\"1\" class=\"dataframe\">\n",
       "  <thead>\n",
       "    <tr style=\"text-align: right;\">\n",
       "      <th></th>\n",
       "      <th>domain_code</th>\n",
       "      <th>domain</th>\n",
       "      <th>area_code</th>\n",
       "      <th>area</th>\n",
       "      <th>element_code</th>\n",
       "      <th>element</th>\n",
       "      <th>item_code</th>\n",
       "      <th>item</th>\n",
       "      <th>year</th>\n",
       "      <th>unit</th>\n",
       "      <th>value</th>\n",
       "      <th>flag</th>\n",
       "    </tr>\n",
       "  </thead>\n",
       "  <tbody>\n",
       "    <tr>\n",
       "      <td>0</td>\n",
       "      <td>TP</td>\n",
       "      <td>Crops and livestock products</td>\n",
       "      <td>2</td>\n",
       "      <td>Afghanistan</td>\n",
       "      <td>5610</td>\n",
       "      <td>Import Quantity</td>\n",
       "      <td>231</td>\n",
       "      <td>Almonds shelled</td>\n",
       "      <td>2017</td>\n",
       "      <td>tonnes</td>\n",
       "      <td>102.0</td>\n",
       "      <td>NaN</td>\n",
       "    </tr>\n",
       "    <tr>\n",
       "      <td>1</td>\n",
       "      <td>TP</td>\n",
       "      <td>Crops and livestock products</td>\n",
       "      <td>2</td>\n",
       "      <td>Afghanistan</td>\n",
       "      <td>5622</td>\n",
       "      <td>Import Value</td>\n",
       "      <td>231</td>\n",
       "      <td>Almonds shelled</td>\n",
       "      <td>2017</td>\n",
       "      <td>1000 US$</td>\n",
       "      <td>758.0</td>\n",
       "      <td>NaN</td>\n",
       "    </tr>\n",
       "    <tr>\n",
       "      <td>2</td>\n",
       "      <td>TP</td>\n",
       "      <td>Crops and livestock products</td>\n",
       "      <td>2</td>\n",
       "      <td>Afghanistan</td>\n",
       "      <td>5910</td>\n",
       "      <td>Export Quantity</td>\n",
       "      <td>231</td>\n",
       "      <td>Almonds shelled</td>\n",
       "      <td>2017</td>\n",
       "      <td>tonnes</td>\n",
       "      <td>3335.0</td>\n",
       "      <td>NaN</td>\n",
       "    </tr>\n",
       "    <tr>\n",
       "      <td>3</td>\n",
       "      <td>TP</td>\n",
       "      <td>Crops and livestock products</td>\n",
       "      <td>2</td>\n",
       "      <td>Afghanistan</td>\n",
       "      <td>5922</td>\n",
       "      <td>Export Value</td>\n",
       "      <td>231</td>\n",
       "      <td>Almonds shelled</td>\n",
       "      <td>2017</td>\n",
       "      <td>1000 US$</td>\n",
       "      <td>23248.0</td>\n",
       "      <td>NaN</td>\n",
       "    </tr>\n",
       "    <tr>\n",
       "      <td>4</td>\n",
       "      <td>TP</td>\n",
       "      <td>Crops and livestock products</td>\n",
       "      <td>2</td>\n",
       "      <td>Afghanistan</td>\n",
       "      <td>5610</td>\n",
       "      <td>Import Quantity</td>\n",
       "      <td>221</td>\n",
       "      <td>Almonds, with shell</td>\n",
       "      <td>2017</td>\n",
       "      <td>tonnes</td>\n",
       "      <td>41.0</td>\n",
       "      <td>NaN</td>\n",
       "    </tr>\n",
       "  </tbody>\n",
       "</table>\n",
       "</div>"
      ],
      "text/plain": [
       "  domain_code                        domain  area_code         area  \\\n",
       "0          TP  Crops and livestock products          2  Afghanistan   \n",
       "1          TP  Crops and livestock products          2  Afghanistan   \n",
       "2          TP  Crops and livestock products          2  Afghanistan   \n",
       "3          TP  Crops and livestock products          2  Afghanistan   \n",
       "4          TP  Crops and livestock products          2  Afghanistan   \n",
       "\n",
       "   element_code          element  item_code                 item  year  \\\n",
       "0          5610  Import Quantity        231      Almonds shelled  2017   \n",
       "1          5622     Import Value        231      Almonds shelled  2017   \n",
       "2          5910  Export Quantity        231      Almonds shelled  2017   \n",
       "3          5922     Export Value        231      Almonds shelled  2017   \n",
       "4          5610  Import Quantity        221  Almonds, with shell  2017   \n",
       "\n",
       "       unit    value flag  \n",
       "0    tonnes    102.0  NaN  \n",
       "1  1000 US$    758.0  NaN  \n",
       "2    tonnes   3335.0  NaN  \n",
       "3  1000 US$  23248.0  NaN  \n",
       "4    tonnes     41.0  NaN  "
      ]
     },
     "execution_count": 43,
     "metadata": {},
     "output_type": "execute_result"
    }
   ],
   "source": [
    "cleaned_trade_2017.head()"
   ]
  },
  {
   "cell_type": "markdown",
   "metadata": {},
   "source": [
    "<a id='merge'></a>\n",
    "\n",
    "## 3. Merge Dataframes"
   ]
  },
  {
   "cell_type": "markdown",
   "metadata": {},
   "source": [
    "<a id='merge-trades'></a>\n",
    "\n",
    "### 3.A. Trades and Trades 2017"
   ]
  },
  {
   "cell_type": "markdown",
   "metadata": {},
   "source": [
    "We will keep only Item codes and Items which are represented in both dataframe. (the rest will not be useful to us) Indeed, if we have only one prodcut that appears in 2017 and not before it does not make sense to analyse it and the same if we have one product up to 2016 but not in 2017 it doesn't make sense to analyse it."
   ]
  },
  {
   "cell_type": "code",
   "execution_count": 44,
   "metadata": {},
   "outputs": [],
   "source": [
    "raw_trade_filtered = cleaned_trade.loc[(cleaned_trade['item'].isin(cleaned_trade_2017.item.unique())) \n",
    "                                   & (cleaned_trade['item_code'].isin(cleaned_trade_2017.item_code.unique()))]"
   ]
  },
  {
   "cell_type": "code",
   "execution_count": 45,
   "metadata": {},
   "outputs": [],
   "source": [
    "raw_trade_2017_filtered = cleaned_trade_2017.loc[(cleaned_trade_2017['item'].isin(cleaned_trade.item.unique())) \n",
    "                                   & (cleaned_trade_2017['item_code'].isin(cleaned_trade.item_code.unique()))]"
   ]
  },
  {
   "cell_type": "code",
   "execution_count": 886,
   "metadata": {},
   "outputs": [],
   "source": [
    "trades_df = pd.concat([raw_trade_filtered,raw_trade_2017_filtered],axis=0,ignore_index=True, sort=False)"
   ]
  },
  {
   "cell_type": "markdown",
   "metadata": {},
   "source": [
    "\n",
    "- Let's remove the non essential columns for the moment. \n",
    "    - As stated in the description of the DataFrame, the `Flag`contains only the origin of the data and can be easily removed. "
   ]
  },
  {
   "cell_type": "code",
   "execution_count": 47,
   "metadata": {},
   "outputs": [],
   "source": [
    "trades_df.drop(['flag','domain_code','domain'],axis=1,inplace=True)"
   ]
  },
  {
   "cell_type": "code",
   "execution_count": 48,
   "metadata": {},
   "outputs": [
    {
     "data": {
      "text/html": [
       "<div>\n",
       "<style scoped>\n",
       "    .dataframe tbody tr th:only-of-type {\n",
       "        vertical-align: middle;\n",
       "    }\n",
       "\n",
       "    .dataframe tbody tr th {\n",
       "        vertical-align: top;\n",
       "    }\n",
       "\n",
       "    .dataframe thead th {\n",
       "        text-align: right;\n",
       "    }\n",
       "</style>\n",
       "<table border=\"1\" class=\"dataframe\">\n",
       "  <thead>\n",
       "    <tr style=\"text-align: right;\">\n",
       "      <th></th>\n",
       "      <th>area_code</th>\n",
       "      <th>area</th>\n",
       "      <th>item_code</th>\n",
       "      <th>item</th>\n",
       "      <th>element_code</th>\n",
       "      <th>element</th>\n",
       "      <th>year</th>\n",
       "      <th>unit</th>\n",
       "      <th>value</th>\n",
       "    </tr>\n",
       "  </thead>\n",
       "  <tbody>\n",
       "    <tr>\n",
       "      <td>0</td>\n",
       "      <td>2</td>\n",
       "      <td>Afghanistan</td>\n",
       "      <td>231</td>\n",
       "      <td>Almonds shelled</td>\n",
       "      <td>5610</td>\n",
       "      <td>Import Quantity</td>\n",
       "      <td>2014</td>\n",
       "      <td>tonnes</td>\n",
       "      <td>167.0</td>\n",
       "    </tr>\n",
       "    <tr>\n",
       "      <td>1</td>\n",
       "      <td>2</td>\n",
       "      <td>Afghanistan</td>\n",
       "      <td>231</td>\n",
       "      <td>Almonds shelled</td>\n",
       "      <td>5610</td>\n",
       "      <td>Import Quantity</td>\n",
       "      <td>2015</td>\n",
       "      <td>tonnes</td>\n",
       "      <td>181.0</td>\n",
       "    </tr>\n",
       "    <tr>\n",
       "      <td>2</td>\n",
       "      <td>2</td>\n",
       "      <td>Afghanistan</td>\n",
       "      <td>231</td>\n",
       "      <td>Almonds shelled</td>\n",
       "      <td>5610</td>\n",
       "      <td>Import Quantity</td>\n",
       "      <td>2016</td>\n",
       "      <td>tonnes</td>\n",
       "      <td>845.0</td>\n",
       "    </tr>\n",
       "    <tr>\n",
       "      <td>3</td>\n",
       "      <td>2</td>\n",
       "      <td>Afghanistan</td>\n",
       "      <td>231</td>\n",
       "      <td>Almonds shelled</td>\n",
       "      <td>5622</td>\n",
       "      <td>Import Value</td>\n",
       "      <td>2014</td>\n",
       "      <td>1000 US$</td>\n",
       "      <td>1116.0</td>\n",
       "    </tr>\n",
       "    <tr>\n",
       "      <td>4</td>\n",
       "      <td>2</td>\n",
       "      <td>Afghanistan</td>\n",
       "      <td>231</td>\n",
       "      <td>Almonds shelled</td>\n",
       "      <td>5622</td>\n",
       "      <td>Import Value</td>\n",
       "      <td>2015</td>\n",
       "      <td>1000 US$</td>\n",
       "      <td>1377.0</td>\n",
       "    </tr>\n",
       "  </tbody>\n",
       "</table>\n",
       "</div>"
      ],
      "text/plain": [
       "   area_code         area  item_code             item  element_code  \\\n",
       "0          2  Afghanistan        231  Almonds shelled          5610   \n",
       "1          2  Afghanistan        231  Almonds shelled          5610   \n",
       "2          2  Afghanistan        231  Almonds shelled          5610   \n",
       "3          2  Afghanistan        231  Almonds shelled          5622   \n",
       "4          2  Afghanistan        231  Almonds shelled          5622   \n",
       "\n",
       "           element  year      unit   value  \n",
       "0  Import Quantity  2014    tonnes   167.0  \n",
       "1  Import Quantity  2015    tonnes   181.0  \n",
       "2  Import Quantity  2016    tonnes   845.0  \n",
       "3     Import Value  2014  1000 US$  1116.0  \n",
       "4     Import Value  2015  1000 US$  1377.0  "
      ]
     },
     "execution_count": 48,
     "metadata": {},
     "output_type": "execute_result"
    }
   ],
   "source": [
    "trades_df.head()"
   ]
  },
  {
   "cell_type": "markdown",
   "metadata": {},
   "source": [
    "<a id='merge-items'></a>\n",
    "\n",
    "### 3.B. Item labelling"
   ]
  },
  {
   "cell_type": "markdown",
   "metadata": {},
   "source": [
    "For the rest of the notebook, we rename the crops dataframe."
   ]
  },
  {
   "cell_type": "code",
   "execution_count": 49,
   "metadata": {},
   "outputs": [],
   "source": [
    "crops_df = cleaned_crops"
   ]
  },
  {
   "cell_type": "markdown",
   "metadata": {},
   "source": [
    "# TODO !\n",
    "- dans 1.A : plus d'items dans\n",
    "- regarder ce qui est différents >> bcp de produits transformés\n",
    "- pour faire l'analyse on doit matcher ces produits aux corresponding crops (e.g. 'Cotton lint' should be matched to cotton)."
   ]
  },
  {
   "cell_type": "code",
   "execution_count": 50,
   "metadata": {},
   "outputs": [],
   "source": [
    "crops_df.columns = map(lambda name : name.lower().replace(' ', '_'), crops_df.columns) #Column names to lower case\n",
    "trades_df.columns = map(lambda name : name.lower().replace(' ', '_'), trades_df.columns) #Column names to lower case"
   ]
  },
  {
   "cell_type": "markdown",
   "metadata": {},
   "source": [
    "<a id='merge-items-intro'></a>\n",
    "\n",
    "#### Intro, problem explanation"
   ]
  },
  {
   "cell_type": "code",
   "execution_count": 51,
   "metadata": {},
   "outputs": [
    {
     "data": {
      "text/html": [
       "<div>\n",
       "<style scoped>\n",
       "    .dataframe tbody tr th:only-of-type {\n",
       "        vertical-align: middle;\n",
       "    }\n",
       "\n",
       "    .dataframe tbody tr th {\n",
       "        vertical-align: top;\n",
       "    }\n",
       "\n",
       "    .dataframe thead th {\n",
       "        text-align: right;\n",
       "    }\n",
       "</style>\n",
       "<table border=\"1\" class=\"dataframe\">\n",
       "  <thead>\n",
       "    <tr style=\"text-align: right;\">\n",
       "      <th></th>\n",
       "      <th>area_code</th>\n",
       "      <th>area</th>\n",
       "      <th>item_code</th>\n",
       "      <th>item</th>\n",
       "      <th>element_code</th>\n",
       "      <th>element</th>\n",
       "      <th>year</th>\n",
       "      <th>unit</th>\n",
       "      <th>value</th>\n",
       "      <th>flag</th>\n",
       "    </tr>\n",
       "  </thead>\n",
       "  <tbody>\n",
       "    <tr>\n",
       "      <td>0</td>\n",
       "      <td>2</td>\n",
       "      <td>Afghanistan</td>\n",
       "      <td>221</td>\n",
       "      <td>Almonds, with shell</td>\n",
       "      <td>5312</td>\n",
       "      <td>Area harvested</td>\n",
       "      <td>1975</td>\n",
       "      <td>ha</td>\n",
       "      <td>0.0</td>\n",
       "      <td>NaN</td>\n",
       "    </tr>\n",
       "    <tr>\n",
       "      <td>1</td>\n",
       "      <td>2</td>\n",
       "      <td>Afghanistan</td>\n",
       "      <td>221</td>\n",
       "      <td>Almonds, with shell</td>\n",
       "      <td>5312</td>\n",
       "      <td>Area harvested</td>\n",
       "      <td>1976</td>\n",
       "      <td>ha</td>\n",
       "      <td>5900.0</td>\n",
       "      <td>NaN</td>\n",
       "    </tr>\n",
       "    <tr>\n",
       "      <td>2</td>\n",
       "      <td>2</td>\n",
       "      <td>Afghanistan</td>\n",
       "      <td>221</td>\n",
       "      <td>Almonds, with shell</td>\n",
       "      <td>5312</td>\n",
       "      <td>Area harvested</td>\n",
       "      <td>1977</td>\n",
       "      <td>ha</td>\n",
       "      <td>6000.0</td>\n",
       "      <td>NaN</td>\n",
       "    </tr>\n",
       "    <tr>\n",
       "      <td>3</td>\n",
       "      <td>2</td>\n",
       "      <td>Afghanistan</td>\n",
       "      <td>221</td>\n",
       "      <td>Almonds, with shell</td>\n",
       "      <td>5312</td>\n",
       "      <td>Area harvested</td>\n",
       "      <td>1978</td>\n",
       "      <td>ha</td>\n",
       "      <td>6000.0</td>\n",
       "      <td>NaN</td>\n",
       "    </tr>\n",
       "    <tr>\n",
       "      <td>4</td>\n",
       "      <td>2</td>\n",
       "      <td>Afghanistan</td>\n",
       "      <td>221</td>\n",
       "      <td>Almonds, with shell</td>\n",
       "      <td>5312</td>\n",
       "      <td>Area harvested</td>\n",
       "      <td>1979</td>\n",
       "      <td>ha</td>\n",
       "      <td>6000.0</td>\n",
       "      <td>NaN</td>\n",
       "    </tr>\n",
       "  </tbody>\n",
       "</table>\n",
       "</div>"
      ],
      "text/plain": [
       "   area_code         area  item_code                 item  element_code  \\\n",
       "0          2  Afghanistan        221  Almonds, with shell          5312   \n",
       "1          2  Afghanistan        221  Almonds, with shell          5312   \n",
       "2          2  Afghanistan        221  Almonds, with shell          5312   \n",
       "3          2  Afghanistan        221  Almonds, with shell          5312   \n",
       "4          2  Afghanistan        221  Almonds, with shell          5312   \n",
       "\n",
       "          element  year unit   value flag  \n",
       "0  Area harvested  1975   ha     0.0  NaN  \n",
       "1  Area harvested  1976   ha  5900.0  NaN  \n",
       "2  Area harvested  1977   ha  6000.0  NaN  \n",
       "3  Area harvested  1978   ha  6000.0  NaN  \n",
       "4  Area harvested  1979   ha  6000.0  NaN  "
      ]
     },
     "execution_count": 51,
     "metadata": {},
     "output_type": "execute_result"
    }
   ],
   "source": [
    "crops_df[crops_df['item'] == 'Almonds, with shell'].head()"
   ]
  },
  {
   "cell_type": "code",
   "execution_count": 52,
   "metadata": {},
   "outputs": [
    {
     "data": {
      "text/html": [
       "<div>\n",
       "<style scoped>\n",
       "    .dataframe tbody tr th:only-of-type {\n",
       "        vertical-align: middle;\n",
       "    }\n",
       "\n",
       "    .dataframe tbody tr th {\n",
       "        vertical-align: top;\n",
       "    }\n",
       "\n",
       "    .dataframe thead th {\n",
       "        text-align: right;\n",
       "    }\n",
       "</style>\n",
       "<table border=\"1\" class=\"dataframe\">\n",
       "  <thead>\n",
       "    <tr style=\"text-align: right;\">\n",
       "      <th></th>\n",
       "      <th>area_code</th>\n",
       "      <th>area</th>\n",
       "      <th>item_code</th>\n",
       "      <th>item</th>\n",
       "      <th>element_code</th>\n",
       "      <th>element</th>\n",
       "      <th>year</th>\n",
       "      <th>unit</th>\n",
       "      <th>value</th>\n",
       "    </tr>\n",
       "  </thead>\n",
       "  <tbody>\n",
       "    <tr>\n",
       "      <td>0</td>\n",
       "      <td>2</td>\n",
       "      <td>Afghanistan</td>\n",
       "      <td>231</td>\n",
       "      <td>Almonds shelled</td>\n",
       "      <td>5610</td>\n",
       "      <td>Import Quantity</td>\n",
       "      <td>2014</td>\n",
       "      <td>tonnes</td>\n",
       "      <td>167.0</td>\n",
       "    </tr>\n",
       "    <tr>\n",
       "      <td>1</td>\n",
       "      <td>2</td>\n",
       "      <td>Afghanistan</td>\n",
       "      <td>231</td>\n",
       "      <td>Almonds shelled</td>\n",
       "      <td>5610</td>\n",
       "      <td>Import Quantity</td>\n",
       "      <td>2015</td>\n",
       "      <td>tonnes</td>\n",
       "      <td>181.0</td>\n",
       "    </tr>\n",
       "    <tr>\n",
       "      <td>2</td>\n",
       "      <td>2</td>\n",
       "      <td>Afghanistan</td>\n",
       "      <td>231</td>\n",
       "      <td>Almonds shelled</td>\n",
       "      <td>5610</td>\n",
       "      <td>Import Quantity</td>\n",
       "      <td>2016</td>\n",
       "      <td>tonnes</td>\n",
       "      <td>845.0</td>\n",
       "    </tr>\n",
       "    <tr>\n",
       "      <td>3</td>\n",
       "      <td>2</td>\n",
       "      <td>Afghanistan</td>\n",
       "      <td>231</td>\n",
       "      <td>Almonds shelled</td>\n",
       "      <td>5622</td>\n",
       "      <td>Import Value</td>\n",
       "      <td>2014</td>\n",
       "      <td>1000 US$</td>\n",
       "      <td>1116.0</td>\n",
       "    </tr>\n",
       "    <tr>\n",
       "      <td>4</td>\n",
       "      <td>2</td>\n",
       "      <td>Afghanistan</td>\n",
       "      <td>231</td>\n",
       "      <td>Almonds shelled</td>\n",
       "      <td>5622</td>\n",
       "      <td>Import Value</td>\n",
       "      <td>2015</td>\n",
       "      <td>1000 US$</td>\n",
       "      <td>1377.0</td>\n",
       "    </tr>\n",
       "  </tbody>\n",
       "</table>\n",
       "</div>"
      ],
      "text/plain": [
       "   area_code         area  item_code             item  element_code  \\\n",
       "0          2  Afghanistan        231  Almonds shelled          5610   \n",
       "1          2  Afghanistan        231  Almonds shelled          5610   \n",
       "2          2  Afghanistan        231  Almonds shelled          5610   \n",
       "3          2  Afghanistan        231  Almonds shelled          5622   \n",
       "4          2  Afghanistan        231  Almonds shelled          5622   \n",
       "\n",
       "           element  year      unit   value  \n",
       "0  Import Quantity  2014    tonnes   167.0  \n",
       "1  Import Quantity  2015    tonnes   181.0  \n",
       "2  Import Quantity  2016    tonnes   845.0  \n",
       "3     Import Value  2014  1000 US$  1116.0  \n",
       "4     Import Value  2015  1000 US$  1377.0  "
      ]
     },
     "execution_count": 52,
     "metadata": {},
     "output_type": "execute_result"
    }
   ],
   "source": [
    "trades_df[trades_df['item'] == 'Almonds shelled'].head()"
   ]
  },
  {
   "cell_type": "markdown",
   "metadata": {},
   "source": [
    "<a id='merge-items-observations'></a>\n",
    "\n",
    "#### Observations"
   ]
  },
  {
   "cell_type": "code",
   "execution_count": 53,
   "metadata": {},
   "outputs": [],
   "source": [
    "crops_items = crops_df.item.unique()"
   ]
  },
  {
   "cell_type": "code",
   "execution_count": 54,
   "metadata": {},
   "outputs": [],
   "source": [
    "trades_items = trades_df.item.unique()"
   ]
  },
  {
   "cell_type": "markdown",
   "metadata": {
    "colab_type": "text",
    "id": "jX9bHJOmxxjn"
   },
   "source": [
    "We notice that in the `trades_df` dataframe the items are more numerous and different than in the `crops_df`. The items are various commodities, some manufactured products and some raw products from animal and agricultural exploitation. \n",
    "\n",
    "As we are interested in the crops, our goal is to keep all the items, manufactured and raw, that come from an agricultural product."
   ]
  },
  {
   "cell_type": "markdown",
   "metadata": {
    "colab_type": "text",
    "id": "GgFF5x_6yY9q"
   },
   "source": [
    "**We thus make an assumption:** the first word of the items in the prod_items list is significant enough to illustrate the product. We will find those keywords, and use them to find the raw products linked to the manufactured one in the trade dataframe."
   ]
  },
  {
   "cell_type": "markdown",
   "metadata": {},
   "source": [
    "*Disclaimer: This part contains a lot of prints and describes the whole process. If you want to skip the details, you can go directly to the result [here](#end-stemmer).* "
   ]
  },
  {
   "cell_type": "markdown",
   "metadata": {},
   "source": [
    "<a id='extraction1'></a>\n",
    "\n",
    "#### Try first word as key word"
   ]
  },
  {
   "cell_type": "code",
   "execution_count": 55,
   "metadata": {
    "colab": {},
    "colab_type": "code",
    "id": "c-t_BxtH_U4z"
   },
   "outputs": [],
   "source": [
    "import re\n",
    "key_words = []\n",
    "item_to_key = {}\n",
    "for item in crops_items:\n",
    "    #Clean the word, to lower case, with no special characters\n",
    "    splitted_item = re.sub('[^A-Za-z0-9 ]+', '', item.lower()).split()\n",
    "    key = ''\n",
    "    ind = 0\n",
    "    #While the 'core' word is already taken or if it is empty\n",
    "    while key in key_words or key == '':\n",
    "        if ind > 0 :\n",
    "            key += ' '\n",
    "        # We build the core word by taking the first words in the item, as we observed \n",
    "        # that the first word is significant enough  \n",
    "        key += splitted_item[ind]\n",
    "        ind += 1\n",
    "    key_words.append(key)\n",
    "    item_to_key[item] = key"
   ]
  },
  {
   "cell_type": "markdown",
   "metadata": {},
   "source": [
    "Result snapshot"
   ]
  },
  {
   "cell_type": "code",
   "execution_count": 56,
   "metadata": {
    "colab": {
     "base_uri": "https://localhost:8080/",
     "height": 1000
    },
    "colab_type": "code",
    "id": "6HGuudp8QnS-",
    "outputId": "b2f11012-f661-46be-a48b-bddf31d521c1"
   },
   "outputs": [
    {
     "data": {
      "text/plain": [
       "{'Almonds, with shell': 'almonds',\n",
       " 'Anise, badian, fennel, coriander': 'anise',\n",
       " 'Apples': 'apples',\n",
       " 'Apricots': 'apricots',\n",
       " 'Barley': 'barley',\n",
       " 'Berries nes': 'berries',\n",
       " 'Cotton lint': 'cotton',\n",
       " 'Cottonseed': 'cottonseed',\n",
       " 'Figs': 'figs',\n",
       " 'Fruit, citrus nes': 'fruit'}"
      ]
     },
     "execution_count": 56,
     "metadata": {},
     "output_type": "execute_result"
    }
   ],
   "source": [
    "dict(list(item_to_key.items())[:10]) #Print the head of the dictionnary"
   ]
  },
  {
   "cell_type": "markdown",
   "metadata": {
    "colab_type": "text",
    "id": "cH8ien4NzcPD"
   },
   "source": [
    "The result is mostly positive. We can note some issues: the key word for the sugar beet is *sugar*, for example."
   ]
  },
  {
   "cell_type": "markdown",
   "metadata": {
    "colab_type": "text",
    "id": "EWaCKwxK0D-a"
   },
   "source": [
    "We now want to apply what we did to extract the key words from the trade items."
   ]
  },
  {
   "cell_type": "code",
   "execution_count": 57,
   "metadata": {
    "colab": {},
    "colab_type": "code",
    "id": "ik-u92iNTVL0"
   },
   "outputs": [],
   "source": [
    "#We will check if the key word is in the item's name. \n",
    "#We then sort the core_words list to have the multiple words key words being checked first.\n",
    "key_words.sort(key=lambda w : len(w), reverse=True)"
   ]
  },
  {
   "cell_type": "code",
   "execution_count": 58,
   "metadata": {
    "colab": {},
    "colab_type": "code",
    "id": "s1YKS47vQu5o"
   },
   "outputs": [],
   "source": [
    "#Sad words that did not found their match in the key words\n",
    "unwanted = []\n",
    "\n",
    "trade_item_to_key = {}\n",
    "for item in trades_items:\n",
    "    cleaned_item = re.sub('[^A-Za-z0-9 ]+', '', item.lower())\n",
    "    for word in key_words:\n",
    "        if word in cleaned_item:\n",
    "            trade_item_to_key[item] = word\n",
    "            break\n",
    "\n",
    "    if trade_item_to_key.get(item, '') == '':\n",
    "        trade_item_to_key[item] = 'NAC' #NAC = Not a crop\n",
    "        unwanted.append(cleaned_item)"
   ]
  },
  {
   "cell_type": "code",
   "execution_count": 59,
   "metadata": {
    "colab": {
     "base_uri": "https://localhost:8080/",
     "height": 1000
    },
    "colab_type": "code",
    "id": "iaHvRifEUm15",
    "outputId": "7d5f7956-1514-4f8b-d2c2-bb43f5adab99"
   },
   "outputs": [
    {
     "data": {
      "text/plain": [
       "(['bacon and ham',\n",
       "  'beeswax',\n",
       "  'beet pulp',\n",
       "  'beverages distilled alcoholic',\n",
       "  'beverages non alcoholic',\n",
       "  'bread',\n",
       "  'buttermilk curdled acidified milk',\n",
       "  'cake copra',\n",
       "  'cheese processed',\n",
       "  'chocolate products nes'],\n",
       " 111)"
      ]
     },
     "execution_count": 59,
     "metadata": {},
     "output_type": "execute_result"
    }
   ],
   "source": [
    "unwanted[:10], len(unwanted)"
   ]
  },
  {
   "cell_type": "markdown",
   "metadata": {
    "colab_type": "text",
    "id": "Z-Yas1K7gYL-"
   },
   "source": [
    "By studying the unwanted list, we can see some items that could be *wanted*. For example, the word *potato* is unwanted, while *potatoes* is a key word. We could use a stemmer to keep these types of unwanted words."
   ]
  },
  {
   "cell_type": "markdown",
   "metadata": {},
   "source": [
    "<a id='extraction2'></a>\n",
    "\n",
    "#### Implementation with stemmer and fixes"
   ]
  },
  {
   "cell_type": "code",
   "execution_count": 60,
   "metadata": {
    "colab": {
     "base_uri": "https://localhost:8080/",
     "height": 1000
    },
    "colab_type": "code",
    "id": "PEF_LfuTcpwi",
    "outputId": "f3339bf8-0cc0-437f-b3f1-9c4e433daf8a"
   },
   "outputs": [
    {
     "data": {
      "text/plain": [
       "{'Almonds, with shell': 'almond',\n",
       " 'Anise, badian, fennel, coriander': 'anis',\n",
       " 'Apples': 'appl',\n",
       " 'Apricots': 'apricot',\n",
       " 'Barley': 'barley',\n",
       " 'Berries nes': 'berri',\n",
       " 'Cotton lint': 'cotton',\n",
       " 'Cottonseed': 'cottonse',\n",
       " 'Figs': 'fig',\n",
       " 'Fruit, citrus nes': 'fruit'}"
      ]
     },
     "execution_count": 60,
     "metadata": {},
     "output_type": "execute_result"
    }
   ],
   "source": [
    "import nltk\n",
    "\n",
    "p = nltk.PorterStemmer()\n",
    "\n",
    "item_to_stemmed_key = {}\n",
    "for item in crops_items:\n",
    "    splitted_item = re.sub('[^A-Za-z0-9 ]+', '', item.lower()\\\n",
    "                         .replace(',', ' ').replace('  ', ' '))\\\n",
    "                         .split()\n",
    "    key = ''\n",
    "    ind = 0\n",
    "    while key in item_to_stemmed_key.values() or key == '':\n",
    "        if ind > 0 :\n",
    "            key += ' '\n",
    "        key += p.stem(splitted_item[ind])\n",
    "        ind += 1\n",
    "    item_to_stemmed_key[item] = key\n",
    "dict(list(item_to_stemmed_key.items())[:10]) #Print the head of the dictionnary"
   ]
  },
  {
   "cell_type": "code",
   "execution_count": 61,
   "metadata": {
    "colab": {},
    "colab_type": "code",
    "id": "ZtN0Qxpr1Lv0"
   },
   "outputs": [],
   "source": [
    "item_to_stemmed_key['Sweet potatoes'] = 'sweet potato' #'sweet' was the core word of Sweet potatoes which can be misunderstood (ex: sweet corn)\n",
    "item_to_stemmed_key['Sugar beet'] = 'sugar beet' #'sugar' was the core word of Sugar beets and sugar can also come from sugar cane.\n",
    "item_to_stemmed_key['Cow peas, dry'] = 'cow pea' #'cow' was the core word of Cow peas, dry and could then be matched with cow milk produces.\n",
    "\n",
    "item_to_stemmed_key['Chillies and peppers, dry'] = 'pepper dri' #precision is needed \n",
    "item_to_stemmed_key['Chillies and peppers, green'] = 'pepper green'#in this case\n",
    "\n",
    "item_to_stemmed_key['Onions, shallots, green'] = 'onion' #We switch the 2 values\n",
    "item_to_stemmed_key['Onions, dry'] = 'onion dri'         #as dry is more specific than multiple types of onions\n",
    "\n",
    "item_to_stemmed_key['Vegetables Primary'] = 'veget' #Primary becomes the general stopword because there are more infos on it\n",
    "item_to_stemmed_key['Vegetables, fresh nes'] = 'veget fresh'\n",
    "\n",
    "item_to_stemmed_key['Chick peas'] = 'chick pea' #added pea as 'chick' can be the key word for 'chicken'"
   ]
  },
  {
   "cell_type": "code",
   "execution_count": 62,
   "metadata": {
    "colab": {
     "base_uri": "https://localhost:8080/",
     "height": 1000
    },
    "colab_type": "code",
    "id": "zibhQYiVkEO4",
    "outputId": "36050f9b-5a15-40cc-aa45-6a1ac7146e49"
   },
   "outputs": [
    {
     "data": {
      "text/plain": [
       "{'Almonds shelled': 'almond',\n",
       " 'Anise, badian, fennel, coriander': 'anis',\n",
       " 'Apples': 'appl',\n",
       " 'Apricots': 'apricot',\n",
       " 'Apricots, dry': 'apricot',\n",
       " 'Artichokes': 'artichok',\n",
       " 'Asparagus': 'asparagu',\n",
       " 'Avocados': 'avocado',\n",
       " 'Bananas': 'banana',\n",
       " 'Barley': 'barley'}"
      ]
     },
     "execution_count": 62,
     "metadata": {},
     "output_type": "execute_result"
    }
   ],
   "source": [
    "stemmed_key_words = list(item_to_stemmed_key.values())\n",
    "stemmed_key_words.sort(key=lambda w : len(w), reverse=True)\n",
    "\n",
    "unwanted2 = []\n",
    "trade_item_to_stemmed_key = {}\n",
    "\n",
    "for item in trades_items:\n",
    "    cleaned_item = [p.stem(word) for word in re.sub('[^A-Za-z0-9 ]+', '', item\\\n",
    "                                              .lower())\\\n",
    "                                              .replace('+', ' ')\\\n",
    "                                              .replace(',', ' ')\\\n",
    "                                              .replace('  ', ' ')\\\n",
    "                                              .split()]\n",
    "    cleaned_item = ' '.join(cleaned_item)\n",
    "    for word in stemmed_key_words:\n",
    "        if word in cleaned_item:\n",
    "            trade_item_to_stemmed_key[item] = word\n",
    "            break\n",
    "\n",
    "    if trade_item_to_stemmed_key.get(item, '') == '':\n",
    "        unwanted2.append(item)\n",
    "        \n",
    "dict(list(trade_item_to_stemmed_key.items())[:10]) #Print the head of the dictionnary"
   ]
  },
  {
   "cell_type": "code",
   "execution_count": 63,
   "metadata": {},
   "outputs": [
    {
     "data": {
      "text/plain": [
       "343"
      ]
     },
     "execution_count": 63,
     "metadata": {},
     "output_type": "execute_result"
    }
   ],
   "source": [
    "len(trades_items)"
   ]
  },
  {
   "cell_type": "code",
   "execution_count": 64,
   "metadata": {},
   "outputs": [
    {
     "data": {
      "text/plain": [
       "['Bacon and ham',\n",
       " 'Beeswax',\n",
       " 'Beet pulp',\n",
       " 'Beverages, distilled alcoholic',\n",
       " 'Beverages, non alcoholic',\n",
       " 'Bread',\n",
       " 'Butter, cow milk',\n",
       " 'Buttermilk, curdled, acidified milk',\n",
       " 'Cake, copra',\n",
       " 'Cheese, processed',\n",
       " 'Cheese, whole cow milk',\n",
       " 'Chocolate products nes',\n",
       " 'Cider etc',\n",
       " 'Cigarettes',\n",
       " 'Cocoons, unreelable & waste',\n",
       " 'Copra',\n",
       " 'Cream fresh',\n",
       " 'Eggs, dried',\n",
       " 'Eggs, hen, in shell',\n",
       " 'Eggs, liquid',\n",
       " 'Eggs, other bird, in shell',\n",
       " 'Fat, cattle',\n",
       " 'Fat, liver prepared (foie gras)',\n",
       " 'Fatty acids',\n",
       " 'Fatty substance residues',\n",
       " 'Food prep nes',\n",
       " 'Food preparations, flour, malt extract',\n",
       " 'Food wastes',\n",
       " 'Forage products',\n",
       " 'Fructose and syrup, other',\n",
       " 'Glucose and dextrose',\n",
       " 'Grease incl. lanolin wool',\n",
       " 'Hair, fine',\n",
       " 'Hides, cattle, wet salted',\n",
       " 'Honey, natural',\n",
       " 'Ice cream and edible ice',\n",
       " 'Infant food',\n",
       " 'Lactose',\n",
       " 'Lard',\n",
       " 'Macaroni',\n",
       " 'Malt',\n",
       " 'Maple sugar and syrups',\n",
       " 'Margarine, liquid',\n",
       " 'Margarine, short',\n",
       " 'Meal, meat',\n",
       " 'Meat, beef and veal sausages',\n",
       " 'Meat, beef, preparations',\n",
       " 'Meat, cattle',\n",
       " 'Meat, cattle, boneless (beef & veal)',\n",
       " 'Meat, chicken',\n",
       " 'Meat, chicken, canned',\n",
       " 'Meat, dried nes',\n",
       " 'Meat, duck',\n",
       " 'Meat, game',\n",
       " 'Meat, goose and guinea fowl',\n",
       " 'Meat, pig',\n",
       " 'Meat, pig sausages',\n",
       " 'Meat, pig, preparations',\n",
       " 'Meat, pork',\n",
       " 'Meat, rabbit',\n",
       " 'Meat, sheep',\n",
       " 'Meat, turkey',\n",
       " 'Milk, products of natural constituents nes',\n",
       " 'Milk, skimmed cow',\n",
       " 'Milk, skimmed dried',\n",
       " 'Milk, whole condensed',\n",
       " 'Milk, whole dried',\n",
       " 'Milk, whole evaporated',\n",
       " 'Milk, whole fresh cow',\n",
       " 'Mixes and doughs',\n",
       " 'Molasses',\n",
       " 'Offals, edible, cattle',\n",
       " 'Offals, liver chicken',\n",
       " 'Offals, pigs, edible',\n",
       " 'Offals, sheep,edible',\n",
       " 'Pastry',\n",
       " 'Pet food',\n",
       " 'Raisins',\n",
       " 'Silk-worm cocoons, reelable',\n",
       " 'Skins, calve, wet salted',\n",
       " 'Skins, sheep, dry salted',\n",
       " 'Skins, sheep, with wool',\n",
       " 'Soya sauce',\n",
       " 'Straw husks',\n",
       " 'Sugar confectionery',\n",
       " 'Sugar Raw Centrifugal',\n",
       " 'Sugar refined',\n",
       " 'Sweet corn frozen',\n",
       " 'Sweet corn prep or preserved',\n",
       " 'Tallow',\n",
       " 'Vermouths & similar',\n",
       " 'Wafers',\n",
       " 'Waters,ice etc',\n",
       " 'Whey, dry',\n",
       " 'Wine',\n",
       " 'Wool, degreased',\n",
       " 'Wool, greasy',\n",
       " 'Wool, hair waste',\n",
       " 'Yoghurt, concentrated or not',\n",
       " 'Alfalfa meal and pellets',\n",
       " 'Dregs from brewing, distillation',\n",
       " 'Fat, pigs',\n",
       " 'Feed and meal, gluten',\n",
       " 'Meat, horse',\n",
       " 'Offals, liver duck',\n",
       " 'Skins, sheep, wet salted',\n",
       " 'Feed supplements',\n",
       " 'Offals, liver geese',\n",
       " 'Whey, condensed',\n",
       " 'Hay (unspecified)',\n",
       " 'Cheese, sheep milk',\n",
       " 'Bulgur',\n",
       " 'Soya paste',\n",
       " 'Sugar non-centrifugal']"
      ]
     },
     "execution_count": 64,
     "metadata": {},
     "output_type": "execute_result"
    }
   ],
   "source": [
    "unwanted2"
   ]
  },
  {
   "cell_type": "markdown",
   "metadata": {
    "colab_type": "text",
    "id": "YeM2AUK31xtp"
   },
   "source": [
    "Some obvious products should stay unwanted, and we will filter them in a hardcoded manner. The rest will be to define."
   ]
  },
  {
   "cell_type": "code",
   "execution_count": 66,
   "metadata": {
    "colab": {
     "base_uri": "https://localhost:8080/",
     "height": 731
    },
    "colab_type": "code",
    "id": "4X_fqVTSkxZR",
    "outputId": "ca717d92-4870-4646-e857-6df0fedee9c6"
   },
   "outputs": [
    {
     "data": {
      "text/plain": [
       "(29,\n",
       " ['Beet pulp',\n",
       "  'Cake, copra',\n",
       "  'Chocolate products nes',\n",
       "  'Cider etc',\n",
       "  'Cigarettes',\n",
       "  'Copra',\n",
       "  'Malt',\n",
       "  'Maple sugar and syrups',\n",
       "  'Molasses',\n",
       "  'Raisins',\n",
       "  'Soya sauce',\n",
       "  'Sugar confectionery',\n",
       "  'Sugar Raw Centrifugal',\n",
       "  'Sugar refined',\n",
       "  'Sweet corn frozen',\n",
       "  'Sweet corn prep or preserved',\n",
       "  'Vermouths & similar',\n",
       "  'Wafers',\n",
       "  'Waters,ice etc',\n",
       "  'Whey, dry',\n",
       "  'Wine',\n",
       "  'Yoghurt, concentrated or not',\n",
       "  'Alfalfa meal and pellets',\n",
       "  'Dregs from brewing, distillation',\n",
       "  'Whey, condensed',\n",
       "  'Hay (unspecified)',\n",
       "  'Bulgur',\n",
       "  'Soya paste',\n",
       "  'Sugar non-centrifugal'])"
      ]
     },
     "execution_count": 66,
     "metadata": {},
     "output_type": "execute_result"
    }
   ],
   "source": [
    "to_define = list(filter(lambda item : \\\n",
    "            not 'meat' in re.sub('[^A-Za-z0-9 ]+', '', item.lower()) and\\\n",
    "            not 'milk' in re.sub('[^A-Za-z0-9 ]+', '', item.lower()) and\\\n",
    "            not 'egg' in re.sub('[^A-Za-z0-9 ]+', '', item.lower()) and\\\n",
    "            not 'ham' in re.sub('[^A-Za-z0-9 ]+', '', item.lower()) and\\\n",
    "            not 'cheese' in re.sub('[^A-Za-z0-9 ]+', '', item.lower()) and\\\n",
    "            not 'fat' in re.sub('[^A-Za-z0-9 ]+', '', item.lower()) and\\\n",
    "            not 'liver' in re.sub('[^A-Za-z0-9 ]+', '', item.lower()) and\\\n",
    "            not 'animal' in re.sub('[^A-Za-z0-9 ]+', '', item.lower()) and\\\n",
    "            not 'skin' in re.sub('[^A-Za-z0-9 ]+', '', item.lower()) and\\\n",
    "            not 'cream' in re.sub('[^A-Za-z0-9 ]+', '', item.lower()) and\\\n",
    "            not 'waste' in re.sub('[^A-Za-z0-9 ]+', '', item.lower()) and\\\n",
    "            not 'lard' in re.sub('[^A-Za-z0-9 ]+', '', item.lower()) and\\\n",
    "            not 'lactose' in re.sub('[^A-Za-z0-9 ]+', '', item.lower()) and\\\n",
    "            not 'bees' in re.sub('[^A-Za-z0-9 ]+', '', item.lower()) and\\\n",
    "            not 'bread' in re.sub('[^A-Za-z0-9 ]+', '', item.lower()) and\\\n",
    "            not 'food' in re.sub('[^A-Za-z0-9 ]+', '', item.lower()) and\\\n",
    "            not 'feed' in re.sub('[^A-Za-z0-9 ]+', '', item.lower()) and\\\n",
    "            not 'glucose' in re.sub('[^A-Za-z0-9 ]+', '', item.lower()) and\\\n",
    "            not 'honey' in re.sub('[^A-Za-z0-9 ]+', '', item.lower()) and\\\n",
    "            not 'forage' in re.sub('[^A-Za-z0-9 ]+', '', item.lower()) and\\\n",
    "            not 'pastry' in re.sub('[^A-Za-z0-9 ]+', '', item.lower()) and\\\n",
    "            not 'mixes' in re.sub('[^A-Za-z0-9 ]+', '', item.lower()) and\\\n",
    "            not 'silk' in re.sub('[^A-Za-z0-9 ]+', '', item.lower()) and\\\n",
    "            not 'fructose' in re.sub('[^A-Za-z0-9 ]+', '', item.lower()) and\\\n",
    "            not 'hides' in re.sub('[^A-Za-z0-9 ]+', '', item.lower()) and\\\n",
    "            not 'macaroni' in re.sub('[^A-Za-z0-9 ]+', '', item.lower()) and\\\n",
    "            not 'beverage' in re.sub('[^A-Za-z0-9 ]+', '', item.lower()) and\\\n",
    "            not 'margarin' in re.sub('[^A-Za-z0-9 ]+', '', item.lower()) and\\\n",
    "            not 'offals' in re.sub('[^A-Za-z0-9 ]+', '', item.lower()) and\\\n",
    "            not 'husk' in re.sub('[^A-Za-z0-9 ]+', '', item.lower()) and\\\n",
    "            not 'lanolin' in re.sub('[^A-Za-z0-9 ]+', '', item.lower()) and\\\n",
    "            not 'hair' in re.sub('[^A-Za-z0-9 ]+', '', item.lower()) and\\\n",
    "            not 'butter' in re.sub('[^A-Za-z0-9 ]+', '', item.lower()) and\\\n",
    "            not 'tallow' in re.sub('[^A-Za-z0-9 ]+', '', item.lower()) and\\\n",
    "            not 'wool' in re.sub('[^A-Za-z0-9 ]+', '', item.lower()) and\\\n",
    "            True, unwanted2))\n",
    "len(to_define), to_define"
   ]
  },
  {
   "cell_type": "markdown",
   "metadata": {
    "colab_type": "text",
    "id": "MxhO-tU9reJX"
   },
   "source": [
    "After a cleanup, we can make some assumptions:\n",
    "\n",
    "\n",
    "* beetpulp is made out of sugar beets (https://en.wikipedia.org/wiki/Beet_pulp), it should be mapped to the same stemmed core words as the *sugar beet*\n",
    "* copra is a product from *coconuts*\n",
    "* chocolate is from *cocoa seed*\n",
    "* cider is a product related to *apples*\n",
    "* cigarettes are related to *tobacco*\n",
    "* malt is a cereal usually made from *barley*\n",
    "* molasses come from *sugar beets* and *sugar canes*\n",
    "* raisins come from *grapes*\n",
    "* soya sauce, curd and paste comes from *soybeans*\n",
    "* vermouth is related to wine, which comes from *grapes*\n",
    "* wafers are manufactured cakes, there is not one major ingredient that comes out of it\n",
    "* waters, ice, etc is not made from crops\n",
    "* whey comes from milk so not from crops\n",
    "* wine comes from *grapes*\n",
    "* beer is mostly *barley*\n",
    "* dregs come from yeast, so it is not a conscern for us \n",
    "* bulgur is a whole grain, that comes from a special type of *wheat*\n",
    "* cane tops ?\n",
    "* turnips are part of *carrot and turnips*\n",
    "* vitamins is manufactured from too many ingredients to find a crop\n",
    "* popcorn comes from a special type of *corn*\n",
    "* Sweet corn is related to *Maize*\n",
    "* All the sugars come from multiple origins:\n",
    "  *   Maple sugar comes from maple, which is not in our production dataset\n",
    "  * There are no generalities to where the other sugars are from (sugar beet or sugar canes, thus we will link the sugar to both)\n",
    "\n",
    "\n",
    "\n",
    "\n"
   ]
  },
  {
   "cell_type": "markdown",
   "metadata": {
    "colab_type": "text",
    "id": "hxCfQ073vj-l"
   },
   "source": [
    "From these observations, some unwanted words can be linked to a \"core stemmed\" word. Some are not as obvious."
   ]
  },
  {
   "cell_type": "code",
   "execution_count": 67,
   "metadata": {
    "colab": {},
    "colab_type": "code",
    "id": "16v4Tw1kq4U_"
   },
   "outputs": [],
   "source": [
    "trade_item_to_stemmed_key['Beet pulp'] = item_to_stemmed_key['Sugar beet']\n",
    "trade_item_to_stemmed_key['Cake, copra'] = item_to_stemmed_key['Coconuts']\n",
    "trade_item_to_stemmed_key['Chocolate products nes'] = item_to_stemmed_key['Cocoa, beans']\n",
    "trade_item_to_stemmed_key['Cider etc'] = item_to_stemmed_key['Apples']\n",
    "trade_item_to_stemmed_key['Cigarettes'] = item_to_stemmed_key['Tobacco, unmanufactured']\n",
    "trade_item_to_stemmed_key['Copra'] = item_to_stemmed_key['Coconuts']\n",
    "trade_item_to_stemmed_key['Malt'] = item_to_stemmed_key['Barley']\n",
    "trade_item_to_stemmed_key['Molasses'] = item_to_stemmed_key['Sugar beet'] + ' | ' + item_to_stemmed_key['Sugar cane']\n",
    "trade_item_to_stemmed_key['Raisins'] = item_to_stemmed_key['Grapes']\n",
    "trade_item_to_stemmed_key['Soya sauce'] = item_to_stemmed_key['Soybeans']\n",
    "trade_item_to_stemmed_key['Vermouths & similar'] = item_to_stemmed_key['Grapes']\n",
    "trade_item_to_stemmed_key['Wine'] = item_to_stemmed_key['Grapes']\n",
    "trade_item_to_stemmed_key['Beer'] = item_to_stemmed_key['Barley']\n",
    "trade_item_to_stemmed_key['Wine+Vermouth+Sim.'] = item_to_stemmed_key['Grapes']\n",
    "trade_item_to_stemmed_key['Bulgur'] = item_to_stemmed_key['Wheat']\n",
    "trade_item_to_stemmed_key['Cane tops'] = item_to_stemmed_key['Sugar cane']\n",
    "#trade_item_to_stemmed_key['Soya curd'] = item_to_stemmed_key['Soybeans']\n",
    "trade_item_to_stemmed_key['Soya paste'] = item_to_stemmed_key['Soybeans']\n",
    "trade_item_to_stemmed_key['Turnips for fodder'] = item_to_stemmed_key['Carrots and turnips']\n",
    "trade_item_to_stemmed_key['Popcorn'] = item_to_stemmed_key['Maize']\n",
    "\n",
    "trade_item_to_stemmed_key['Sugar confectionery'] = item_to_stemmed_key['Sugar beet'] + ' | ' + item_to_stemmed_key['Sugar cane']\n",
    "trade_item_to_stemmed_key['Sugar Raw Centrifugal'] = item_to_stemmed_key['Sugar beet'] + ' | ' + item_to_stemmed_key['Sugar cane']\n",
    "trade_item_to_stemmed_key['Sugar refined'] = item_to_stemmed_key['Sugar beet'] + ' | ' + item_to_stemmed_key['Sugar cane']\n",
    "trade_item_to_stemmed_key['Sugar, nes'] = item_to_stemmed_key['Sugar beet'] + ' | ' + item_to_stemmed_key['Sugar cane']\n",
    "trade_item_to_stemmed_key['Sugar,Total (Raw Equiv.)'] = item_to_stemmed_key['Sugar beet'] + ' | ' + item_to_stemmed_key['Sugar cane']\n",
    "trade_item_to_stemmed_key['Sugar non-centrifugal'] = item_to_stemmed_key['Sugar beet'] + ' | ' + item_to_stemmed_key['Sugar cane']\n",
    "trade_item_to_stemmed_key['Sweet corn frozen'] = item_to_stemmed_key['Maize']\n",
    "trade_item_to_stemmed_key['Sweet corn prep or preserved'] = item_to_stemmed_key['Maize']"
   ]
  },
  {
   "cell_type": "code",
   "execution_count": 68,
   "metadata": {
    "colab": {
     "base_uri": "https://localhost:8080/",
     "height": 102
    },
    "colab_type": "code",
    "id": "eZ1Dr-aYUFNr",
    "outputId": "03e73aa3-a9b2-4cd2-931e-b6953e517a33"
   },
   "outputs": [
    {
     "name": "stdout",
     "output_type": "stream",
     "text": [
      "Meat, goat\n",
      "Oats\n",
      "Oats rolled\n",
      "Offals, edible, goats\n"
     ]
    }
   ],
   "source": [
    "#Oat can be the key word for 'goat'\n",
    "for key in trade_item_to_stemmed_key.keys():\n",
    "    if trade_item_to_stemmed_key[key] == 'oat':\n",
    "        print(key)"
   ]
  },
  {
   "cell_type": "code",
   "execution_count": 69,
   "metadata": {
    "colab": {},
    "colab_type": "code",
    "id": "T7q7LDJE2ij0"
   },
   "outputs": [],
   "source": [
    "#Crude Materials got the key word mat related to the product Maté\n",
    "del trade_item_to_stemmed_key['Crude materials']\n",
    "\n",
    "#Goat deletion\n",
    "del trade_item_to_stemmed_key['Meat, goat']\n",
    "del trade_item_to_stemmed_key['Offals, edible, goats']"
   ]
  },
  {
   "cell_type": "code",
   "execution_count": 70,
   "metadata": {
    "colab": {
     "base_uri": "https://localhost:8080/",
     "height": 34
    },
    "colab_type": "code",
    "id": "d6UGrx15UkK5",
    "outputId": "5994ca9a-e88b-47f2-e644-1fb29aab2011"
   },
   "outputs": [
    {
     "data": {
      "text/plain": [
       "'groundnut'"
      ]
     },
     "execution_count": 70,
     "metadata": {},
     "output_type": "execute_result"
    }
   ],
   "source": [
    "trade_item_to_stemmed_key['Nuts, prepared (exc. groundnuts)']"
   ]
  },
  {
   "cell_type": "code",
   "execution_count": 71,
   "metadata": {
    "colab": {},
    "colab_type": "code",
    "id": "xSkOy0LOUsUG"
   },
   "outputs": [],
   "source": [
    "#Groundnut was selected here, while it is specified 'excluded'\n",
    "trade_item_to_stemmed_key['Nuts, prepared (exc. groundnuts)'] = item_to_stemmed_key['Nuts, nes']"
   ]
  },
  {
   "cell_type": "code",
   "execution_count": 72,
   "metadata": {},
   "outputs": [],
   "source": [
    "crops_df['item_key'] = crops_df.item.map(lambda item: item_to_stemmed_key.get(item, 'NAC')) #NAC = Not A Crop\n",
    "trades_df['item_key'] = trades_df.item.map(lambda item: trade_item_to_stemmed_key.get(item, 'NAC'))"
   ]
  },
  {
   "cell_type": "markdown",
   "metadata": {},
   "source": [
    "<a id='end-stemmer'></a>"
   ]
  },
  {
   "cell_type": "markdown",
   "metadata": {},
   "source": [
    "Now the key item from the crops is added to the trades  "
   ]
  },
  {
   "cell_type": "code",
   "execution_count": 148,
   "metadata": {},
   "outputs": [
    {
     "data": {
      "text/html": [
       "<div>\n",
       "<style scoped>\n",
       "    .dataframe tbody tr th:only-of-type {\n",
       "        vertical-align: middle;\n",
       "    }\n",
       "\n",
       "    .dataframe tbody tr th {\n",
       "        vertical-align: top;\n",
       "    }\n",
       "\n",
       "    .dataframe thead th {\n",
       "        text-align: right;\n",
       "    }\n",
       "</style>\n",
       "<table border=\"1\" class=\"dataframe\">\n",
       "  <thead>\n",
       "    <tr style=\"text-align: right;\">\n",
       "      <th></th>\n",
       "      <th>item</th>\n",
       "      <th>item_key</th>\n",
       "    </tr>\n",
       "  </thead>\n",
       "  <tbody>\n",
       "    <tr>\n",
       "      <td>0</td>\n",
       "      <td>Almonds, with shell</td>\n",
       "      <td>almond</td>\n",
       "    </tr>\n",
       "    <tr>\n",
       "      <td>1</td>\n",
       "      <td>Almonds, with shell</td>\n",
       "      <td>almond</td>\n",
       "    </tr>\n",
       "    <tr>\n",
       "      <td>2</td>\n",
       "      <td>Almonds, with shell</td>\n",
       "      <td>almond</td>\n",
       "    </tr>\n",
       "    <tr>\n",
       "      <td>3</td>\n",
       "      <td>Almonds, with shell</td>\n",
       "      <td>almond</td>\n",
       "    </tr>\n",
       "    <tr>\n",
       "      <td>4</td>\n",
       "      <td>Almonds, with shell</td>\n",
       "      <td>almond</td>\n",
       "    </tr>\n",
       "  </tbody>\n",
       "</table>\n",
       "</div>"
      ],
      "text/plain": [
       "                  item item_key\n",
       "0  Almonds, with shell   almond\n",
       "1  Almonds, with shell   almond\n",
       "2  Almonds, with shell   almond\n",
       "3  Almonds, with shell   almond\n",
       "4  Almonds, with shell   almond"
      ]
     },
     "execution_count": 148,
     "metadata": {},
     "output_type": "execute_result"
    }
   ],
   "source": [
    "crops_df[['item', 'item_key']].head()"
   ]
  },
  {
   "cell_type": "code",
   "execution_count": 144,
   "metadata": {},
   "outputs": [
    {
     "data": {
      "text/html": [
       "<div>\n",
       "<style scoped>\n",
       "    .dataframe tbody tr th:only-of-type {\n",
       "        vertical-align: middle;\n",
       "    }\n",
       "\n",
       "    .dataframe tbody tr th {\n",
       "        vertical-align: top;\n",
       "    }\n",
       "\n",
       "    .dataframe thead th {\n",
       "        text-align: right;\n",
       "    }\n",
       "</style>\n",
       "<table border=\"1\" class=\"dataframe\">\n",
       "  <thead>\n",
       "    <tr style=\"text-align: right;\">\n",
       "      <th></th>\n",
       "      <th>item</th>\n",
       "      <th>item_key</th>\n",
       "    </tr>\n",
       "  </thead>\n",
       "  <tbody>\n",
       "    <tr>\n",
       "      <td>0</td>\n",
       "      <td>Almonds shelled</td>\n",
       "      <td>almond</td>\n",
       "    </tr>\n",
       "    <tr>\n",
       "      <td>1</td>\n",
       "      <td>Almonds shelled</td>\n",
       "      <td>almond</td>\n",
       "    </tr>\n",
       "    <tr>\n",
       "      <td>2</td>\n",
       "      <td>Almonds shelled</td>\n",
       "      <td>almond</td>\n",
       "    </tr>\n",
       "    <tr>\n",
       "      <td>3</td>\n",
       "      <td>Almonds shelled</td>\n",
       "      <td>almond</td>\n",
       "    </tr>\n",
       "    <tr>\n",
       "      <td>4</td>\n",
       "      <td>Almonds shelled</td>\n",
       "      <td>almond</td>\n",
       "    </tr>\n",
       "  </tbody>\n",
       "</table>\n",
       "</div>"
      ],
      "text/plain": [
       "              item item_key\n",
       "0  Almonds shelled   almond\n",
       "1  Almonds shelled   almond\n",
       "2  Almonds shelled   almond\n",
       "3  Almonds shelled   almond\n",
       "4  Almonds shelled   almond"
      ]
     },
     "execution_count": 144,
     "metadata": {},
     "output_type": "execute_result"
    }
   ],
   "source": [
    "trades_df[['item', 'item_key']].head()"
   ]
  },
  {
   "cell_type": "code",
   "execution_count": null,
   "metadata": {},
   "outputs": [],
   "source": [
    "#trades_df.merge(crops_df, on=['item_key'], how='outer',suffixes=('_trades', '_crops'))"
   ]
  },
  {
   "cell_type": "markdown",
   "metadata": {},
   "source": [
    "We would now want to merge the two dataframes based on the `item_key` column. The above cell is very computanionally heavy and we will probably use pyspark to do it, if we need it later on."
   ]
  },
  {
   "cell_type": "markdown",
   "metadata": {},
   "source": [
    "<a id='group-countries'></a>\n",
    "\n",
    "## 4. Group by countries"
   ]
  },
  {
   "cell_type": "markdown",
   "metadata": {},
   "source": [
    "The idea behind grouping by countries is to analyse some crops and some commodities trades such as the exportation or the importation by groups. Grouping by countries will allow to vizualise the production or the importation for example on a larger scale. We will first analyse the continents ie. Africa or Asia ...e and then look at more detailed statistics on the country level if it's relvant. \n",
    "\n",
    "In order to do so, we have downloaded an extra dataset which contains all the different groups of countries (Continents, Sub-Continents, Economic Entities ... ) and which contries are part of it. The file can be dowloaded [here](http://www.fao.org/faostat/en/#data/TP) its under the `Country Group` when one click on the `Definitions and standards - Crops and livestock products` button.\n",
    "\n",
    "It's really a nice file because one can find the countries belonging to each group as well as their Country Code that can be used with the previous dataset or the ISO 02 or ISO 03 codes that can be useful when some mapping need to be done."
   ]
  },
  {
   "cell_type": "code",
   "execution_count": 75,
   "metadata": {},
   "outputs": [
    {
     "data": {
      "text/html": [
       "<div>\n",
       "<style scoped>\n",
       "    .dataframe tbody tr th:only-of-type {\n",
       "        vertical-align: middle;\n",
       "    }\n",
       "\n",
       "    .dataframe tbody tr th {\n",
       "        vertical-align: top;\n",
       "    }\n",
       "\n",
       "    .dataframe thead th {\n",
       "        text-align: right;\n",
       "    }\n",
       "</style>\n",
       "<table border=\"1\" class=\"dataframe\">\n",
       "  <thead>\n",
       "    <tr style=\"text-align: right;\">\n",
       "      <th></th>\n",
       "      <th>country_group_code</th>\n",
       "      <th>country_group</th>\n",
       "      <th>country_code</th>\n",
       "      <th>country</th>\n",
       "      <th>m49_code</th>\n",
       "      <th>iso2_code</th>\n",
       "      <th>iso3_code</th>\n",
       "    </tr>\n",
       "  </thead>\n",
       "  <tbody>\n",
       "    <tr>\n",
       "      <td>0</td>\n",
       "      <td>5100</td>\n",
       "      <td>Africa</td>\n",
       "      <td>4</td>\n",
       "      <td>Algeria</td>\n",
       "      <td>12</td>\n",
       "      <td>DZ</td>\n",
       "      <td>DZA</td>\n",
       "    </tr>\n",
       "    <tr>\n",
       "      <td>1</td>\n",
       "      <td>5100</td>\n",
       "      <td>Africa</td>\n",
       "      <td>7</td>\n",
       "      <td>Angola</td>\n",
       "      <td>24</td>\n",
       "      <td>AO</td>\n",
       "      <td>AGO</td>\n",
       "    </tr>\n",
       "    <tr>\n",
       "      <td>2</td>\n",
       "      <td>5100</td>\n",
       "      <td>Africa</td>\n",
       "      <td>53</td>\n",
       "      <td>Benin</td>\n",
       "      <td>204</td>\n",
       "      <td>BJ</td>\n",
       "      <td>BEN</td>\n",
       "    </tr>\n",
       "    <tr>\n",
       "      <td>3</td>\n",
       "      <td>5100</td>\n",
       "      <td>Africa</td>\n",
       "      <td>20</td>\n",
       "      <td>Botswana</td>\n",
       "      <td>72</td>\n",
       "      <td>BW</td>\n",
       "      <td>BWA</td>\n",
       "    </tr>\n",
       "    <tr>\n",
       "      <td>4</td>\n",
       "      <td>5100</td>\n",
       "      <td>Africa</td>\n",
       "      <td>233</td>\n",
       "      <td>Burkina Faso</td>\n",
       "      <td>854</td>\n",
       "      <td>BF</td>\n",
       "      <td>BFA</td>\n",
       "    </tr>\n",
       "  </tbody>\n",
       "</table>\n",
       "</div>"
      ],
      "text/plain": [
       "   country_group_code country_group  country_code       country  m49_code  \\\n",
       "0                5100        Africa             4       Algeria        12   \n",
       "1                5100        Africa             7        Angola        24   \n",
       "2                5100        Africa            53         Benin       204   \n",
       "3                5100        Africa            20      Botswana        72   \n",
       "4                5100        Africa           233  Burkina Faso       854   \n",
       "\n",
       "  iso2_code iso3_code  \n",
       "0        DZ       DZA  \n",
       "1        AO       AGO  \n",
       "2        BJ       BEN  \n",
       "3        BW       BWA  \n",
       "4        BF       BFA  "
      ]
     },
     "execution_count": 75,
     "metadata": {},
     "output_type": "execute_result"
    }
   ],
   "source": [
    "# Load the dataset\n",
    "df_country = pd.read_csv('Data/GroupsCountry.csv')\n",
    "df_country.columns = map(lambda name : name.lower().replace(' ', '_'), df_country.columns) #Column names to lower case\n",
    "df_country.head()"
   ]
  },
  {
   "cell_type": "code",
   "execution_count": 76,
   "metadata": {},
   "outputs": [],
   "source": [
    "# Unique Coutry Group id, ie. 5100 for Africa, 5000 for World, 5500 for Oceania ...\n",
    "list_group = df_country['country_group_code'].unique()"
   ]
  },
  {
   "cell_type": "code",
   "execution_count": 77,
   "metadata": {},
   "outputs": [
    {
     "data": {
      "text/plain": [
       "array([  4,   7,  53,  20, 233,  29,  35,  32,  37,  39,  45,  46, 107,\n",
       "       250,  72,  59,  61, 178, 209, 238,  62,  74,  75,  81,  90, 175,\n",
       "       114, 122, 123, 124, 129, 130, 133, 136, 137, 143, 144, 147, 158,\n",
       "       159, 184, 193, 195, 196, 197, 201, 202, 277, 276, 206, 217, 222,\n",
       "       226, 215, 251, 181])"
      ]
     },
     "execution_count": 77,
     "metadata": {},
     "output_type": "execute_result"
    }
   ],
   "source": [
    "# Display the id of the countries that are in the first item of the group (0)\n",
    "df_country[df_country['country_group_code']==list_group[0]]['country_code'].unique()"
   ]
  },
  {
   "cell_type": "code",
   "execution_count": 78,
   "metadata": {},
   "outputs": [],
   "source": [
    "# Create a dictionnary that regroup all the countries in one country group\n",
    "dicts = {}\n",
    "keys = list_group\n",
    "for i in range(len(list_group)):\n",
    "    dicts[list_group[i]]= df_country[df_country['country_group_code']==list_group[i]]['country_code'].unique()"
   ]
  },
  {
   "cell_type": "code",
   "execution_count": 79,
   "metadata": {},
   "outputs": [],
   "source": [
    "# Get the name of each country group\n",
    "list_country_code = df_country['country_code'].unique()"
   ]
  },
  {
   "cell_type": "code",
   "execution_count": 80,
   "metadata": {},
   "outputs": [],
   "source": [
    "# Create dictionnary for name + subregions\n",
    "dicts_country = {}\n",
    "keys = list_group\n",
    "for i in range(len(list_group)):\n",
    "    dicts_country[list_group[i]] = list_country_code[i]"
   ]
  },
  {
   "cell_type": "code",
   "execution_count": 139,
   "metadata": {},
   "outputs": [
    {
     "data": {
      "text/html": [
       "<div>\n",
       "<style scoped>\n",
       "    .dataframe tbody tr th:only-of-type {\n",
       "        vertical-align: middle;\n",
       "    }\n",
       "\n",
       "    .dataframe tbody tr th {\n",
       "        vertical-align: top;\n",
       "    }\n",
       "\n",
       "    .dataframe thead th {\n",
       "        text-align: right;\n",
       "    }\n",
       "</style>\n",
       "<table border=\"1\" class=\"dataframe\">\n",
       "  <thead>\n",
       "    <tr style=\"text-align: right;\">\n",
       "      <th></th>\n",
       "      <th>regions</th>\n",
       "    </tr>\n",
       "  </thead>\n",
       "  <tbody>\n",
       "    <tr>\n",
       "      <td>5100</td>\n",
       "      <td>4</td>\n",
       "    </tr>\n",
       "    <tr>\n",
       "      <td>5200</td>\n",
       "      <td>7</td>\n",
       "    </tr>\n",
       "    <tr>\n",
       "      <td>5300</td>\n",
       "      <td>53</td>\n",
       "    </tr>\n",
       "    <tr>\n",
       "      <td>5501</td>\n",
       "      <td>20</td>\n",
       "    </tr>\n",
       "    <tr>\n",
       "      <td>5206</td>\n",
       "      <td>233</td>\n",
       "    </tr>\n",
       "  </tbody>\n",
       "</table>\n",
       "</div>"
      ],
      "text/plain": [
       "      regions\n",
       "5100        4\n",
       "5200        7\n",
       "5300       53\n",
       "5501       20\n",
       "5206      233"
      ]
     },
     "execution_count": 139,
     "metadata": {},
     "output_type": "execute_result"
    }
   ],
   "source": [
    "# Display all the suregions and their name\n",
    "pd.DataFrame.from_dict(dicts_country,orient='index',columns=['regions']).head()"
   ]
  },
  {
   "cell_type": "markdown",
   "metadata": {},
   "source": [
    "Let's print an example. On the cell below we want isolate all the countries in `Northern Europe : 5402` on the dictionnary above."
   ]
  },
  {
   "cell_type": "code",
   "execution_count": 82,
   "metadata": {},
   "outputs": [
    {
     "data": {
      "text/html": [
       "<div>\n",
       "<style scoped>\n",
       "    .dataframe tbody tr th:only-of-type {\n",
       "        vertical-align: middle;\n",
       "    }\n",
       "\n",
       "    .dataframe tbody tr th {\n",
       "        vertical-align: top;\n",
       "    }\n",
       "\n",
       "    .dataframe thead th {\n",
       "        text-align: right;\n",
       "    }\n",
       "</style>\n",
       "<table border=\"1\" class=\"dataframe\">\n",
       "  <thead>\n",
       "    <tr style=\"text-align: right;\">\n",
       "      <th></th>\n",
       "      <th>area_code</th>\n",
       "      <th>area</th>\n",
       "      <th>item_code</th>\n",
       "      <th>item</th>\n",
       "      <th>element_code</th>\n",
       "      <th>element</th>\n",
       "      <th>year</th>\n",
       "      <th>unit</th>\n",
       "      <th>value</th>\n",
       "      <th>flag</th>\n",
       "      <th>item_key</th>\n",
       "    </tr>\n",
       "  </thead>\n",
       "  <tbody>\n",
       "    <tr>\n",
       "      <td>471636</td>\n",
       "      <td>54</td>\n",
       "      <td>Denmark</td>\n",
       "      <td>711</td>\n",
       "      <td>Anise, badian, fennel, coriander</td>\n",
       "      <td>5312</td>\n",
       "      <td>Area harvested</td>\n",
       "      <td>1961</td>\n",
       "      <td>ha</td>\n",
       "      <td>85.0</td>\n",
       "      <td>NaN</td>\n",
       "      <td>anis</td>\n",
       "    </tr>\n",
       "    <tr>\n",
       "      <td>471637</td>\n",
       "      <td>54</td>\n",
       "      <td>Denmark</td>\n",
       "      <td>711</td>\n",
       "      <td>Anise, badian, fennel, coriander</td>\n",
       "      <td>5312</td>\n",
       "      <td>Area harvested</td>\n",
       "      <td>1962</td>\n",
       "      <td>ha</td>\n",
       "      <td>161.0</td>\n",
       "      <td>NaN</td>\n",
       "      <td>anis</td>\n",
       "    </tr>\n",
       "    <tr>\n",
       "      <td>471638</td>\n",
       "      <td>54</td>\n",
       "      <td>Denmark</td>\n",
       "      <td>711</td>\n",
       "      <td>Anise, badian, fennel, coriander</td>\n",
       "      <td>5312</td>\n",
       "      <td>Area harvested</td>\n",
       "      <td>1963</td>\n",
       "      <td>ha</td>\n",
       "      <td>154.0</td>\n",
       "      <td>NaN</td>\n",
       "      <td>anis</td>\n",
       "    </tr>\n",
       "    <tr>\n",
       "      <td>471639</td>\n",
       "      <td>54</td>\n",
       "      <td>Denmark</td>\n",
       "      <td>711</td>\n",
       "      <td>Anise, badian, fennel, coriander</td>\n",
       "      <td>5312</td>\n",
       "      <td>Area harvested</td>\n",
       "      <td>1964</td>\n",
       "      <td>ha</td>\n",
       "      <td>135.0</td>\n",
       "      <td>NaN</td>\n",
       "      <td>anis</td>\n",
       "    </tr>\n",
       "    <tr>\n",
       "      <td>471640</td>\n",
       "      <td>54</td>\n",
       "      <td>Denmark</td>\n",
       "      <td>711</td>\n",
       "      <td>Anise, badian, fennel, coriander</td>\n",
       "      <td>5312</td>\n",
       "      <td>Area harvested</td>\n",
       "      <td>1965</td>\n",
       "      <td>ha</td>\n",
       "      <td>192.0</td>\n",
       "      <td>NaN</td>\n",
       "      <td>anis</td>\n",
       "    </tr>\n",
       "    <tr>\n",
       "      <td>...</td>\n",
       "      <td>...</td>\n",
       "      <td>...</td>\n",
       "      <td>...</td>\n",
       "      <td>...</td>\n",
       "      <td>...</td>\n",
       "      <td>...</td>\n",
       "      <td>...</td>\n",
       "      <td>...</td>\n",
       "      <td>...</td>\n",
       "      <td>...</td>\n",
       "      <td>...</td>\n",
       "    </tr>\n",
       "    <tr>\n",
       "      <td>1642406</td>\n",
       "      <td>229</td>\n",
       "      <td>United Kingdom</td>\n",
       "      <td>1735</td>\n",
       "      <td>Vegetables Primary</td>\n",
       "      <td>5510</td>\n",
       "      <td>Production</td>\n",
       "      <td>2013</td>\n",
       "      <td>tonnes</td>\n",
       "      <td>2593779.0</td>\n",
       "      <td>NaN</td>\n",
       "      <td>veget</td>\n",
       "    </tr>\n",
       "    <tr>\n",
       "      <td>1642407</td>\n",
       "      <td>229</td>\n",
       "      <td>United Kingdom</td>\n",
       "      <td>1735</td>\n",
       "      <td>Vegetables Primary</td>\n",
       "      <td>5510</td>\n",
       "      <td>Production</td>\n",
       "      <td>2014</td>\n",
       "      <td>tonnes</td>\n",
       "      <td>2802695.0</td>\n",
       "      <td>NaN</td>\n",
       "      <td>veget</td>\n",
       "    </tr>\n",
       "    <tr>\n",
       "      <td>1642408</td>\n",
       "      <td>229</td>\n",
       "      <td>United Kingdom</td>\n",
       "      <td>1735</td>\n",
       "      <td>Vegetables Primary</td>\n",
       "      <td>5510</td>\n",
       "      <td>Production</td>\n",
       "      <td>2015</td>\n",
       "      <td>tonnes</td>\n",
       "      <td>2564931.0</td>\n",
       "      <td>NaN</td>\n",
       "      <td>veget</td>\n",
       "    </tr>\n",
       "    <tr>\n",
       "      <td>1642409</td>\n",
       "      <td>229</td>\n",
       "      <td>United Kingdom</td>\n",
       "      <td>1735</td>\n",
       "      <td>Vegetables Primary</td>\n",
       "      <td>5510</td>\n",
       "      <td>Production</td>\n",
       "      <td>2016</td>\n",
       "      <td>tonnes</td>\n",
       "      <td>2608460.0</td>\n",
       "      <td>NaN</td>\n",
       "      <td>veget</td>\n",
       "    </tr>\n",
       "    <tr>\n",
       "      <td>1642410</td>\n",
       "      <td>229</td>\n",
       "      <td>United Kingdom</td>\n",
       "      <td>1735</td>\n",
       "      <td>Vegetables Primary</td>\n",
       "      <td>5510</td>\n",
       "      <td>Production</td>\n",
       "      <td>2017</td>\n",
       "      <td>tonnes</td>\n",
       "      <td>2735925.0</td>\n",
       "      <td>NaN</td>\n",
       "      <td>veget</td>\n",
       "    </tr>\n",
       "  </tbody>\n",
       "</table>\n",
       "<p>52892 rows × 11 columns</p>\n",
       "</div>"
      ],
      "text/plain": [
       "         area_code            area  item_code  \\\n",
       "471636          54         Denmark        711   \n",
       "471637          54         Denmark        711   \n",
       "471638          54         Denmark        711   \n",
       "471639          54         Denmark        711   \n",
       "471640          54         Denmark        711   \n",
       "...            ...             ...        ...   \n",
       "1642406        229  United Kingdom       1735   \n",
       "1642407        229  United Kingdom       1735   \n",
       "1642408        229  United Kingdom       1735   \n",
       "1642409        229  United Kingdom       1735   \n",
       "1642410        229  United Kingdom       1735   \n",
       "\n",
       "                                     item  element_code         element  year  \\\n",
       "471636   Anise, badian, fennel, coriander          5312  Area harvested  1961   \n",
       "471637   Anise, badian, fennel, coriander          5312  Area harvested  1962   \n",
       "471638   Anise, badian, fennel, coriander          5312  Area harvested  1963   \n",
       "471639   Anise, badian, fennel, coriander          5312  Area harvested  1964   \n",
       "471640   Anise, badian, fennel, coriander          5312  Area harvested  1965   \n",
       "...                                   ...           ...             ...   ...   \n",
       "1642406                Vegetables Primary          5510      Production  2013   \n",
       "1642407                Vegetables Primary          5510      Production  2014   \n",
       "1642408                Vegetables Primary          5510      Production  2015   \n",
       "1642409                Vegetables Primary          5510      Production  2016   \n",
       "1642410                Vegetables Primary          5510      Production  2017   \n",
       "\n",
       "           unit      value flag item_key  \n",
       "471636       ha       85.0  NaN     anis  \n",
       "471637       ha      161.0  NaN     anis  \n",
       "471638       ha      154.0  NaN     anis  \n",
       "471639       ha      135.0  NaN     anis  \n",
       "471640       ha      192.0  NaN     anis  \n",
       "...         ...        ...  ...      ...  \n",
       "1642406  tonnes  2593779.0  NaN    veget  \n",
       "1642407  tonnes  2802695.0  NaN    veget  \n",
       "1642408  tonnes  2564931.0  NaN    veget  \n",
       "1642409  tonnes  2608460.0  NaN    veget  \n",
       "1642410  tonnes  2735925.0  NaN    veget  \n",
       "\n",
       "[52892 rows x 11 columns]"
      ]
     },
     "execution_count": 82,
     "metadata": {},
     "output_type": "execute_result"
    }
   ],
   "source": [
    "# TODO : CHANGE MAYBE Get Crops\n",
    "crops_df[crops_df['area_code'].isin(dicts.get(5402))]"
   ]
  },
  {
   "cell_type": "code",
   "execution_count": 83,
   "metadata": {},
   "outputs": [
    {
     "data": {
      "text/html": [
       "<div>\n",
       "<style scoped>\n",
       "    .dataframe tbody tr th:only-of-type {\n",
       "        vertical-align: middle;\n",
       "    }\n",
       "\n",
       "    .dataframe tbody tr th {\n",
       "        vertical-align: top;\n",
       "    }\n",
       "\n",
       "    .dataframe thead th {\n",
       "        text-align: right;\n",
       "    }\n",
       "</style>\n",
       "<table border=\"1\" class=\"dataframe\">\n",
       "  <thead>\n",
       "    <tr style=\"text-align: right;\">\n",
       "      <th></th>\n",
       "      <th>area_code</th>\n",
       "      <th>area</th>\n",
       "      <th>item_code</th>\n",
       "      <th>item</th>\n",
       "      <th>element_code</th>\n",
       "      <th>element</th>\n",
       "      <th>year</th>\n",
       "      <th>unit</th>\n",
       "      <th>value</th>\n",
       "      <th>item_key</th>\n",
       "    </tr>\n",
       "  </thead>\n",
       "  <tbody>\n",
       "    <tr>\n",
       "      <td>36020</td>\n",
       "      <td>4</td>\n",
       "      <td>Algeria</td>\n",
       "      <td>862</td>\n",
       "      <td>Alfalfa meal and pellets</td>\n",
       "      <td>5610</td>\n",
       "      <td>Import Quantity</td>\n",
       "      <td>1968</td>\n",
       "      <td>tonnes</td>\n",
       "      <td>135.0</td>\n",
       "      <td>NAC</td>\n",
       "    </tr>\n",
       "    <tr>\n",
       "      <td>36021</td>\n",
       "      <td>4</td>\n",
       "      <td>Algeria</td>\n",
       "      <td>862</td>\n",
       "      <td>Alfalfa meal and pellets</td>\n",
       "      <td>5610</td>\n",
       "      <td>Import Quantity</td>\n",
       "      <td>1969</td>\n",
       "      <td>tonnes</td>\n",
       "      <td>680.0</td>\n",
       "      <td>NAC</td>\n",
       "    </tr>\n",
       "    <tr>\n",
       "      <td>36022</td>\n",
       "      <td>4</td>\n",
       "      <td>Algeria</td>\n",
       "      <td>862</td>\n",
       "      <td>Alfalfa meal and pellets</td>\n",
       "      <td>5610</td>\n",
       "      <td>Import Quantity</td>\n",
       "      <td>1970</td>\n",
       "      <td>tonnes</td>\n",
       "      <td>234.0</td>\n",
       "      <td>NAC</td>\n",
       "    </tr>\n",
       "    <tr>\n",
       "      <td>36023</td>\n",
       "      <td>4</td>\n",
       "      <td>Algeria</td>\n",
       "      <td>862</td>\n",
       "      <td>Alfalfa meal and pellets</td>\n",
       "      <td>5610</td>\n",
       "      <td>Import Quantity</td>\n",
       "      <td>1971</td>\n",
       "      <td>tonnes</td>\n",
       "      <td>46.0</td>\n",
       "      <td>NAC</td>\n",
       "    </tr>\n",
       "    <tr>\n",
       "      <td>36024</td>\n",
       "      <td>4</td>\n",
       "      <td>Algeria</td>\n",
       "      <td>862</td>\n",
       "      <td>Alfalfa meal and pellets</td>\n",
       "      <td>5610</td>\n",
       "      <td>Import Quantity</td>\n",
       "      <td>1972</td>\n",
       "      <td>tonnes</td>\n",
       "      <td>70.0</td>\n",
       "      <td>NAC</td>\n",
       "    </tr>\n",
       "    <tr>\n",
       "      <td>...</td>\n",
       "      <td>...</td>\n",
       "      <td>...</td>\n",
       "      <td>...</td>\n",
       "      <td>...</td>\n",
       "      <td>...</td>\n",
       "      <td>...</td>\n",
       "      <td>...</td>\n",
       "      <td>...</td>\n",
       "      <td>...</td>\n",
       "      <td>...</td>\n",
       "    </tr>\n",
       "    <tr>\n",
       "      <td>9805019</td>\n",
       "      <td>181</td>\n",
       "      <td>Zimbabwe</td>\n",
       "      <td>988</td>\n",
       "      <td>Wool, degreased</td>\n",
       "      <td>5622</td>\n",
       "      <td>Import Value</td>\n",
       "      <td>2017</td>\n",
       "      <td>1000 US$</td>\n",
       "      <td>2.0</td>\n",
       "      <td>NAC</td>\n",
       "    </tr>\n",
       "    <tr>\n",
       "      <td>9805020</td>\n",
       "      <td>181</td>\n",
       "      <td>Zimbabwe</td>\n",
       "      <td>987</td>\n",
       "      <td>Wool, greasy</td>\n",
       "      <td>5610</td>\n",
       "      <td>Import Quantity</td>\n",
       "      <td>2017</td>\n",
       "      <td>tonnes</td>\n",
       "      <td>1.0</td>\n",
       "      <td>NAC</td>\n",
       "    </tr>\n",
       "    <tr>\n",
       "      <td>9805021</td>\n",
       "      <td>181</td>\n",
       "      <td>Zimbabwe</td>\n",
       "      <td>987</td>\n",
       "      <td>Wool, greasy</td>\n",
       "      <td>5622</td>\n",
       "      <td>Import Value</td>\n",
       "      <td>2017</td>\n",
       "      <td>1000 US$</td>\n",
       "      <td>2.0</td>\n",
       "      <td>NAC</td>\n",
       "    </tr>\n",
       "    <tr>\n",
       "      <td>9805022</td>\n",
       "      <td>181</td>\n",
       "      <td>Zimbabwe</td>\n",
       "      <td>892</td>\n",
       "      <td>Yoghurt, concentrated or not</td>\n",
       "      <td>5910</td>\n",
       "      <td>Export Quantity</td>\n",
       "      <td>2017</td>\n",
       "      <td>tonnes</td>\n",
       "      <td>2.0</td>\n",
       "      <td>NAC</td>\n",
       "    </tr>\n",
       "    <tr>\n",
       "      <td>9805023</td>\n",
       "      <td>181</td>\n",
       "      <td>Zimbabwe</td>\n",
       "      <td>892</td>\n",
       "      <td>Yoghurt, concentrated or not</td>\n",
       "      <td>5922</td>\n",
       "      <td>Export Value</td>\n",
       "      <td>2017</td>\n",
       "      <td>1000 US$</td>\n",
       "      <td>3.0</td>\n",
       "      <td>NAC</td>\n",
       "    </tr>\n",
       "  </tbody>\n",
       "</table>\n",
       "<p>1534679 rows × 10 columns</p>\n",
       "</div>"
      ],
      "text/plain": [
       "         area_code      area  item_code                          item  \\\n",
       "36020            4   Algeria        862      Alfalfa meal and pellets   \n",
       "36021            4   Algeria        862      Alfalfa meal and pellets   \n",
       "36022            4   Algeria        862      Alfalfa meal and pellets   \n",
       "36023            4   Algeria        862      Alfalfa meal and pellets   \n",
       "36024            4   Algeria        862      Alfalfa meal and pellets   \n",
       "...            ...       ...        ...                           ...   \n",
       "9805019        181  Zimbabwe        988               Wool, degreased   \n",
       "9805020        181  Zimbabwe        987                  Wool, greasy   \n",
       "9805021        181  Zimbabwe        987                  Wool, greasy   \n",
       "9805022        181  Zimbabwe        892  Yoghurt, concentrated or not   \n",
       "9805023        181  Zimbabwe        892  Yoghurt, concentrated or not   \n",
       "\n",
       "         element_code          element  year      unit  value item_key  \n",
       "36020            5610  Import Quantity  1968    tonnes  135.0      NAC  \n",
       "36021            5610  Import Quantity  1969    tonnes  680.0      NAC  \n",
       "36022            5610  Import Quantity  1970    tonnes  234.0      NAC  \n",
       "36023            5610  Import Quantity  1971    tonnes   46.0      NAC  \n",
       "36024            5610  Import Quantity  1972    tonnes   70.0      NAC  \n",
       "...               ...              ...   ...       ...    ...      ...  \n",
       "9805019          5622     Import Value  2017  1000 US$    2.0      NAC  \n",
       "9805020          5610  Import Quantity  2017    tonnes    1.0      NAC  \n",
       "9805021          5622     Import Value  2017  1000 US$    2.0      NAC  \n",
       "9805022          5910  Export Quantity  2017    tonnes    2.0      NAC  \n",
       "9805023          5922     Export Value  2017  1000 US$    3.0      NAC  \n",
       "\n",
       "[1534679 rows x 10 columns]"
      ]
     },
     "execution_count": 83,
     "metadata": {},
     "output_type": "execute_result"
    }
   ],
   "source": [
    "# TODO : CHANGE MAYBE Get Trades\n",
    "trades_df[trades_df['area_code'].isin(dicts.get(5100))]"
   ]
  },
  {
   "cell_type": "markdown",
   "metadata": {},
   "source": [
    "<a id='group-crops'></a>\n",
    "\n",
    "## 5. Group by crops "
   ]
  },
  {
   "cell_type": "markdown",
   "metadata": {},
   "source": [
    "Grouping crops by category or type could be interesting to look for trends. There are a lot a different Items in crops both in the trades and the crops dataset which can make the vizualization difficult. \n",
    "\n",
    "On the website : http://www.fao.org/faostat/en/#data/TP when we download the file `Item Group` in `Definitions and standards - Crops and livestock products` we observe all the item codes for the different crops. The Item Group Code is the main category which contains many different crops. However those categories look a lot unbalanced, with the number 1882 - Agricult.Products, Total containing most of the crops and the vegetables. \n",
    "\n",
    "Let's take an example for the quinoa. This is what we got :"
   ]
  },
  {
   "cell_type": "code",
   "execution_count": 863,
   "metadata": {},
   "outputs": [
    {
     "data": {
      "text/plain": [
       "(2415, 9)"
      ]
     },
     "execution_count": 863,
     "metadata": {},
     "output_type": "execute_result"
    }
   ],
   "source": [
    "#Quickly load the data : \n",
    "group_crops_df = pd.read_csv('data/GroupCrops.csv')\n",
    "group_crops_df.columns = map(lambda name : name.lower().replace(' ', '_'), group_crops_df.columns) #Column names to lower case\n",
    "group_crops_df.shape"
   ]
  },
  {
   "cell_type": "code",
   "execution_count": 864,
   "metadata": {},
   "outputs": [
    {
     "data": {
      "text/html": [
       "<div>\n",
       "<style scoped>\n",
       "    .dataframe tbody tr th:only-of-type {\n",
       "        vertical-align: middle;\n",
       "    }\n",
       "\n",
       "    .dataframe tbody tr th {\n",
       "        vertical-align: top;\n",
       "    }\n",
       "\n",
       "    .dataframe thead th {\n",
       "        text-align: right;\n",
       "    }\n",
       "</style>\n",
       "<table border=\"1\" class=\"dataframe\">\n",
       "  <thead>\n",
       "    <tr style=\"text-align: right;\">\n",
       "      <th></th>\n",
       "      <th>item_group_code</th>\n",
       "      <th>item_group</th>\n",
       "      <th>item_code</th>\n",
       "      <th>item</th>\n",
       "      <th>factor</th>\n",
       "      <th>hs_code</th>\n",
       "      <th>hs07_code</th>\n",
       "      <th>hs12_code</th>\n",
       "      <th>cpc_code</th>\n",
       "    </tr>\n",
       "  </thead>\n",
       "  <tbody>\n",
       "    <tr>\n",
       "      <td>448</td>\n",
       "      <td>1882</td>\n",
       "      <td>Agricult.Products, Total</td>\n",
       "      <td>92</td>\n",
       "      <td>Quinoa</td>\n",
       "      <td>1.0</td>\n",
       "      <td>NaN</td>\n",
       "      <td>100890</td>\n",
       "      <td>100850</td>\n",
       "      <td>01194</td>\n",
       "    </tr>\n",
       "    <tr>\n",
       "      <td>696</td>\n",
       "      <td>1944</td>\n",
       "      <td>Cereals</td>\n",
       "      <td>92</td>\n",
       "      <td>Quinoa</td>\n",
       "      <td>1.0</td>\n",
       "      <td>NaN</td>\n",
       "      <td>100890</td>\n",
       "      <td>100850</td>\n",
       "      <td>01194</td>\n",
       "    </tr>\n",
       "    <tr>\n",
       "      <td>743</td>\n",
       "      <td>1888</td>\n",
       "      <td>Cereals and Preparations</td>\n",
       "      <td>92</td>\n",
       "      <td>Quinoa</td>\n",
       "      <td>1.0</td>\n",
       "      <td>NaN</td>\n",
       "      <td>100890</td>\n",
       "      <td>100850</td>\n",
       "      <td>01194</td>\n",
       "    </tr>\n",
       "    <tr>\n",
       "      <td>760</td>\n",
       "      <td>1948</td>\n",
       "      <td>Cereals nes</td>\n",
       "      <td>92</td>\n",
       "      <td>Quinoa</td>\n",
       "      <td>1.0</td>\n",
       "      <td>NaN</td>\n",
       "      <td>100890</td>\n",
       "      <td>100850</td>\n",
       "      <td>01194</td>\n",
       "    </tr>\n",
       "    <tr>\n",
       "      <td>1362</td>\n",
       "      <td>1883</td>\n",
       "      <td>Food and Animals</td>\n",
       "      <td>92</td>\n",
       "      <td>Quinoa</td>\n",
       "      <td>1.0</td>\n",
       "      <td>NaN</td>\n",
       "      <td>100890</td>\n",
       "      <td>100850</td>\n",
       "      <td>01194</td>\n",
       "    </tr>\n",
       "    <tr>\n",
       "      <td>1741</td>\n",
       "      <td>1982</td>\n",
       "      <td>Food Excl Fish</td>\n",
       "      <td>92</td>\n",
       "      <td>Quinoa</td>\n",
       "      <td>1.0</td>\n",
       "      <td>NaN</td>\n",
       "      <td>100890</td>\n",
       "      <td>100850</td>\n",
       "      <td>01194</td>\n",
       "    </tr>\n",
       "  </tbody>\n",
       "</table>\n",
       "</div>"
      ],
      "text/plain": [
       "      item_group_code                item_group  item_code    item  factor  \\\n",
       "448              1882  Agricult.Products, Total         92  Quinoa     1.0   \n",
       "696              1944                   Cereals         92  Quinoa     1.0   \n",
       "743              1888  Cereals and Preparations         92  Quinoa     1.0   \n",
       "760              1948               Cereals nes         92  Quinoa     1.0   \n",
       "1362             1883          Food and Animals         92  Quinoa     1.0   \n",
       "1741             1982            Food Excl Fish         92  Quinoa     1.0   \n",
       "\n",
       "      hs_code hs07_code hs12_code cpc_code  \n",
       "448       NaN    100890    100850    01194  \n",
       "696       NaN    100890    100850    01194  \n",
       "743       NaN    100890    100850    01194  \n",
       "760       NaN    100890    100850    01194  \n",
       "1362      NaN    100890    100850    01194  \n",
       "1741      NaN    100890    100850    01194  "
      ]
     },
     "execution_count": 864,
     "metadata": {},
     "output_type": "execute_result"
    }
   ],
   "source": [
    "#Look at the item Quinoa :\n",
    "group_crops_df[group_crops_df.item=='Quinoa']"
   ]
  },
  {
   "cell_type": "markdown",
   "metadata": {},
   "source": [
    "We see that the quinoa which has always the same `Item Code = 92`, belongs to different `Item Group Code` ( Agricult.Products, Total, Cereals , ...). Hence using the `Item Group Code` to properly classify the group in which the quinoa belongs is not correct. If we add the contribution of all the main groups then the total will be bigger than the real production if the same crops or products can be found in multiple groups. \n",
    "\n",
    "As a solution, decided to use the HS12 Code, which give for each product an unique ID and each product belongs to one group. The HS12 data which can be donwloaded [here](http://unstats.un.org/unsd/tradekb/Attachment439.aspx?AttachmentType=1) is a system based by the UN Commerce and Trading \n",
    "\n",
    "We have the folowing product : `100890` (Quinoa)\n",
    "\n",
    "There is two aggreagation levels : \n",
    "\n",
    "- If we take the first two numbers (10) then we will have the main category (Cereals). \n",
    "- If we take the four first numbers (1008) then we go more specific category (BuckWheat, Millet, and canary seeds; other cereals). For example, the other groups in the cereals category are : Oats, Rice, Maize (Corn), Wheat and Meslin, Barley and Rye. "
   ]
  },
  {
   "cell_type": "code",
   "execution_count": 865,
   "metadata": {},
   "outputs": [],
   "source": [
    "# Load the UN Comtrade Commodity Classifications :\n",
    "UNCCC_df = pd.read_excel('data/UNCCC.xlsx')"
   ]
  },
  {
   "cell_type": "code",
   "execution_count": 866,
   "metadata": {},
   "outputs": [],
   "source": [
    "HS12_df = UNCCC_df[UNCCC_df.Classification=='H4'] # H4 corresponds to HS12, H3 to HS07 ..."
   ]
  },
  {
   "cell_type": "code",
   "execution_count": 867,
   "metadata": {},
   "outputs": [
    {
     "data": {
      "text/html": [
       "<div>\n",
       "<style scoped>\n",
       "    .dataframe tbody tr th:only-of-type {\n",
       "        vertical-align: middle;\n",
       "    }\n",
       "\n",
       "    .dataframe tbody tr th {\n",
       "        vertical-align: top;\n",
       "    }\n",
       "\n",
       "    .dataframe thead th {\n",
       "        text-align: right;\n",
       "    }\n",
       "</style>\n",
       "<table border=\"1\" class=\"dataframe\">\n",
       "  <thead>\n",
       "    <tr style=\"text-align: right;\">\n",
       "      <th></th>\n",
       "      <th>Classification</th>\n",
       "      <th>Code</th>\n",
       "      <th>Description</th>\n",
       "      <th>Code Parent</th>\n",
       "      <th>Level</th>\n",
       "      <th>isLeaf</th>\n",
       "    </tr>\n",
       "  </thead>\n",
       "  <tbody>\n",
       "    <tr>\n",
       "      <td>25827</td>\n",
       "      <td>H4</td>\n",
       "      <td>01</td>\n",
       "      <td>Animals; live</td>\n",
       "      <td>TOTAL</td>\n",
       "      <td>2</td>\n",
       "      <td>0</td>\n",
       "    </tr>\n",
       "    <tr>\n",
       "      <td>25828</td>\n",
       "      <td>H4</td>\n",
       "      <td>0101</td>\n",
       "      <td>Horses, asses, mules and hinnies; live</td>\n",
       "      <td>01</td>\n",
       "      <td>4</td>\n",
       "      <td>0</td>\n",
       "    </tr>\n",
       "    <tr>\n",
       "      <td>25829</td>\n",
       "      <td>H4</td>\n",
       "      <td>010121</td>\n",
       "      <td>Horses; live, pure-bred breeding animals</td>\n",
       "      <td>0101</td>\n",
       "      <td>6</td>\n",
       "      <td>1</td>\n",
       "    </tr>\n",
       "    <tr>\n",
       "      <td>25830</td>\n",
       "      <td>H4</td>\n",
       "      <td>010129</td>\n",
       "      <td>Horses; live, other than pure-bred breeding an...</td>\n",
       "      <td>0101</td>\n",
       "      <td>6</td>\n",
       "      <td>1</td>\n",
       "    </tr>\n",
       "    <tr>\n",
       "      <td>25831</td>\n",
       "      <td>H4</td>\n",
       "      <td>010130</td>\n",
       "      <td>Asses; live</td>\n",
       "      <td>0101</td>\n",
       "      <td>6</td>\n",
       "      <td>1</td>\n",
       "    </tr>\n",
       "    <tr>\n",
       "      <td>...</td>\n",
       "      <td>...</td>\n",
       "      <td>...</td>\n",
       "      <td>...</td>\n",
       "      <td>...</td>\n",
       "      <td>...</td>\n",
       "      <td>...</td>\n",
       "    </tr>\n",
       "    <tr>\n",
       "      <td>32351</td>\n",
       "      <td>H4</td>\n",
       "      <td>970600</td>\n",
       "      <td>Antiques; of an age exceeding one hundred years</td>\n",
       "      <td>9706</td>\n",
       "      <td>6</td>\n",
       "      <td>1</td>\n",
       "    </tr>\n",
       "    <tr>\n",
       "      <td>32352</td>\n",
       "      <td>H4</td>\n",
       "      <td>99</td>\n",
       "      <td>Commodities not specified according to kind</td>\n",
       "      <td>TOTAL</td>\n",
       "      <td>2</td>\n",
       "      <td>0</td>\n",
       "    </tr>\n",
       "    <tr>\n",
       "      <td>32353</td>\n",
       "      <td>H4</td>\n",
       "      <td>9999</td>\n",
       "      <td>Commodities not specified according to kind</td>\n",
       "      <td>99</td>\n",
       "      <td>4</td>\n",
       "      <td>0</td>\n",
       "    </tr>\n",
       "    <tr>\n",
       "      <td>32354</td>\n",
       "      <td>H4</td>\n",
       "      <td>999999</td>\n",
       "      <td>Commodities not specified according to kind</td>\n",
       "      <td>9999</td>\n",
       "      <td>6</td>\n",
       "      <td>1</td>\n",
       "    </tr>\n",
       "    <tr>\n",
       "      <td>32355</td>\n",
       "      <td>H4</td>\n",
       "      <td>TOTAL</td>\n",
       "      <td>All Commodities</td>\n",
       "      <td>NaN</td>\n",
       "      <td>5</td>\n",
       "      <td>0</td>\n",
       "    </tr>\n",
       "  </tbody>\n",
       "</table>\n",
       "<p>6529 rows × 6 columns</p>\n",
       "</div>"
      ],
      "text/plain": [
       "      Classification    Code  \\\n",
       "25827             H4      01   \n",
       "25828             H4    0101   \n",
       "25829             H4  010121   \n",
       "25830             H4  010129   \n",
       "25831             H4  010130   \n",
       "...              ...     ...   \n",
       "32351             H4  970600   \n",
       "32352             H4      99   \n",
       "32353             H4    9999   \n",
       "32354             H4  999999   \n",
       "32355             H4   TOTAL   \n",
       "\n",
       "                                             Description Code Parent  Level  \\\n",
       "25827                                      Animals; live       TOTAL      2   \n",
       "25828             Horses, asses, mules and hinnies; live          01      4   \n",
       "25829           Horses; live, pure-bred breeding animals        0101      6   \n",
       "25830  Horses; live, other than pure-bred breeding an...        0101      6   \n",
       "25831                                        Asses; live        0101      6   \n",
       "...                                                  ...         ...    ...   \n",
       "32351    Antiques; of an age exceeding one hundred years        9706      6   \n",
       "32352        Commodities not specified according to kind       TOTAL      2   \n",
       "32353        Commodities not specified according to kind          99      4   \n",
       "32354        Commodities not specified according to kind        9999      6   \n",
       "32355                                    All Commodities         NaN      5   \n",
       "\n",
       "       isLeaf  \n",
       "25827       0  \n",
       "25828       0  \n",
       "25829       1  \n",
       "25830       1  \n",
       "25831       1  \n",
       "...       ...  \n",
       "32351       1  \n",
       "32352       0  \n",
       "32353       0  \n",
       "32354       1  \n",
       "32355       0  \n",
       "\n",
       "[6529 rows x 6 columns]"
      ]
     },
     "execution_count": 867,
     "metadata": {},
     "output_type": "execute_result"
    }
   ],
   "source": [
    "# Let's have a snapshot of the dataset :\n",
    "HS12_df"
   ]
  },
  {
   "cell_type": "markdown",
   "metadata": {},
   "source": [
    "For example, we want to look if we can retrieve our main category for the quinoa that we looked at before : "
   ]
  },
  {
   "cell_type": "code",
   "execution_count": 868,
   "metadata": {},
   "outputs": [
    {
     "data": {
      "text/html": [
       "<div>\n",
       "<style scoped>\n",
       "    .dataframe tbody tr th:only-of-type {\n",
       "        vertical-align: middle;\n",
       "    }\n",
       "\n",
       "    .dataframe tbody tr th {\n",
       "        vertical-align: top;\n",
       "    }\n",
       "\n",
       "    .dataframe thead th {\n",
       "        text-align: right;\n",
       "    }\n",
       "</style>\n",
       "<table border=\"1\" class=\"dataframe\">\n",
       "  <thead>\n",
       "    <tr style=\"text-align: right;\">\n",
       "      <th></th>\n",
       "      <th>Classification</th>\n",
       "      <th>Code</th>\n",
       "      <th>Description</th>\n",
       "      <th>Code Parent</th>\n",
       "      <th>Level</th>\n",
       "      <th>isLeaf</th>\n",
       "    </tr>\n",
       "  </thead>\n",
       "  <tbody>\n",
       "    <tr>\n",
       "      <td>26445</td>\n",
       "      <td>H4</td>\n",
       "      <td>10</td>\n",
       "      <td>Cereals</td>\n",
       "      <td>TOTAL</td>\n",
       "      <td>2</td>\n",
       "      <td>0</td>\n",
       "    </tr>\n",
       "  </tbody>\n",
       "</table>\n",
       "</div>"
      ],
      "text/plain": [
       "      Classification Code Description Code Parent  Level  isLeaf\n",
       "26445             H4   10     Cereals       TOTAL      2       0"
      ]
     },
     "execution_count": 868,
     "metadata": {},
     "output_type": "execute_result"
    }
   ],
   "source": [
    "HS12_df[HS12_df.Code=='10'] # Let's recall that the category 10 is for cereals"
   ]
  },
  {
   "cell_type": "markdown",
   "metadata": {},
   "source": [
    "Clean this dataset : "
   ]
  },
  {
   "cell_type": "code",
   "execution_count": 869,
   "metadata": {},
   "outputs": [
    {
     "data": {
      "text/plain": [
       "item_group_code       0\n",
       "item_group            0\n",
       "item_code             0\n",
       "item                  0\n",
       "factor                2\n",
       "hs_code            2415\n",
       "hs07_code            16\n",
       "hs12_code            16\n",
       "cpc_code             18\n",
       "dtype: int64"
      ]
     },
     "execution_count": 869,
     "metadata": {},
     "output_type": "execute_result"
    }
   ],
   "source": [
    "# Number of null items in the \"HS12 Code\"\n",
    "group_crops_df.isnull().sum()"
   ]
  },
  {
   "cell_type": "code",
   "execution_count": 870,
   "metadata": {},
   "outputs": [
    {
     "data": {
      "text/html": [
       "<div>\n",
       "<style scoped>\n",
       "    .dataframe tbody tr th:only-of-type {\n",
       "        vertical-align: middle;\n",
       "    }\n",
       "\n",
       "    .dataframe tbody tr th {\n",
       "        vertical-align: top;\n",
       "    }\n",
       "\n",
       "    .dataframe thead th {\n",
       "        text-align: right;\n",
       "    }\n",
       "</style>\n",
       "<table border=\"1\" class=\"dataframe\">\n",
       "  <thead>\n",
       "    <tr style=\"text-align: right;\">\n",
       "      <th></th>\n",
       "      <th>item_group_code</th>\n",
       "      <th>item_group</th>\n",
       "      <th>item_code</th>\n",
       "      <th>item</th>\n",
       "      <th>factor</th>\n",
       "      <th>hs_code</th>\n",
       "      <th>hs07_code</th>\n",
       "      <th>hs12_code</th>\n",
       "      <th>cpc_code</th>\n",
       "    </tr>\n",
       "  </thead>\n",
       "  <tbody>\n",
       "    <tr>\n",
       "      <td>140</td>\n",
       "      <td>1882</td>\n",
       "      <td>Agricult.Products, Total</td>\n",
       "      <td>654</td>\n",
       "      <td>Dregs from brewing, distillation</td>\n",
       "      <td>1.0</td>\n",
       "      <td>NaN</td>\n",
       "      <td>NaN</td>\n",
       "      <td>NaN</td>\n",
       "      <td>39160</td>\n",
       "    </tr>\n",
       "    <tr>\n",
       "      <td>289</td>\n",
       "      <td>1882</td>\n",
       "      <td>Agricult.Products, Total</td>\n",
       "      <td>389</td>\n",
       "      <td>Juice, tomato, concentrated</td>\n",
       "      <td>1.0</td>\n",
       "      <td>NaN</td>\n",
       "      <td>NaN</td>\n",
       "      <td>NaN</td>\n",
       "      <td>NaN</td>\n",
       "    </tr>\n",
       "    <tr>\n",
       "      <td>384</td>\n",
       "      <td>1882</td>\n",
       "      <td>Agricult.Products, Total</td>\n",
       "      <td>1159</td>\n",
       "      <td>Offals, other camelids</td>\n",
       "      <td>1.0</td>\n",
       "      <td>NaN</td>\n",
       "      <td>NaN</td>\n",
       "      <td>NaN</td>\n",
       "      <td>NaN</td>\n",
       "    </tr>\n",
       "    <tr>\n",
       "      <td>454</td>\n",
       "      <td>1882</td>\n",
       "      <td>Agricult.Products, Total</td>\n",
       "      <td>30</td>\n",
       "      <td>Rice - total  (Rice milled equivalent)</td>\n",
       "      <td>NaN</td>\n",
       "      <td>NaN</td>\n",
       "      <td>NaN</td>\n",
       "      <td>NaN</td>\n",
       "      <td>NaN</td>\n",
       "    </tr>\n",
       "    <tr>\n",
       "      <td>983</td>\n",
       "      <td>1892</td>\n",
       "      <td>Fodder &amp; Feeding stuff</td>\n",
       "      <td>654</td>\n",
       "      <td>Dregs from brewing, distillation</td>\n",
       "      <td>1.0</td>\n",
       "      <td>NaN</td>\n",
       "      <td>NaN</td>\n",
       "      <td>NaN</td>\n",
       "      <td>39160</td>\n",
       "    </tr>\n",
       "    <tr>\n",
       "      <td>1135</td>\n",
       "      <td>1883</td>\n",
       "      <td>Food and Animals</td>\n",
       "      <td>654</td>\n",
       "      <td>Dregs from brewing, distillation</td>\n",
       "      <td>1.0</td>\n",
       "      <td>NaN</td>\n",
       "      <td>NaN</td>\n",
       "      <td>NaN</td>\n",
       "      <td>39160</td>\n",
       "    </tr>\n",
       "    <tr>\n",
       "      <td>1241</td>\n",
       "      <td>1883</td>\n",
       "      <td>Food and Animals</td>\n",
       "      <td>389</td>\n",
       "      <td>Juice, tomato, concentrated</td>\n",
       "      <td>1.0</td>\n",
       "      <td>NaN</td>\n",
       "      <td>NaN</td>\n",
       "      <td>NaN</td>\n",
       "      <td>NaN</td>\n",
       "    </tr>\n",
       "    <tr>\n",
       "      <td>1326</td>\n",
       "      <td>1883</td>\n",
       "      <td>Food and Animals</td>\n",
       "      <td>1159</td>\n",
       "      <td>Offals, other camelids</td>\n",
       "      <td>1.0</td>\n",
       "      <td>NaN</td>\n",
       "      <td>NaN</td>\n",
       "      <td>NaN</td>\n",
       "      <td>NaN</td>\n",
       "    </tr>\n",
       "    <tr>\n",
       "      <td>1604</td>\n",
       "      <td>1982</td>\n",
       "      <td>Food Excl Fish</td>\n",
       "      <td>389</td>\n",
       "      <td>Juice, tomato, concentrated</td>\n",
       "      <td>1.0</td>\n",
       "      <td>NaN</td>\n",
       "      <td>NaN</td>\n",
       "      <td>NaN</td>\n",
       "      <td>NaN</td>\n",
       "    </tr>\n",
       "    <tr>\n",
       "      <td>1689</td>\n",
       "      <td>1982</td>\n",
       "      <td>Food Excl Fish</td>\n",
       "      <td>1159</td>\n",
       "      <td>Offals, other camelids</td>\n",
       "      <td>1.0</td>\n",
       "      <td>NaN</td>\n",
       "      <td>NaN</td>\n",
       "      <td>NaN</td>\n",
       "      <td>NaN</td>\n",
       "    </tr>\n",
       "    <tr>\n",
       "      <td>1746</td>\n",
       "      <td>1982</td>\n",
       "      <td>Food Excl Fish</td>\n",
       "      <td>30</td>\n",
       "      <td>Rice - total  (Rice milled equivalent)</td>\n",
       "      <td>NaN</td>\n",
       "      <td>NaN</td>\n",
       "      <td>NaN</td>\n",
       "      <td>NaN</td>\n",
       "      <td>NaN</td>\n",
       "    </tr>\n",
       "    <tr>\n",
       "      <td>1898</td>\n",
       "      <td>1889</td>\n",
       "      <td>Fruit and Vegetables</td>\n",
       "      <td>389</td>\n",
       "      <td>Juice, tomato, concentrated</td>\n",
       "      <td>1.0</td>\n",
       "      <td>NaN</td>\n",
       "      <td>NaN</td>\n",
       "      <td>NaN</td>\n",
       "      <td>NaN</td>\n",
       "    </tr>\n",
       "    <tr>\n",
       "      <td>2021</td>\n",
       "      <td>1758</td>\n",
       "      <td>Livestock Products Prim</td>\n",
       "      <td>1159</td>\n",
       "      <td>Offals, other camelids</td>\n",
       "      <td>1.0</td>\n",
       "      <td>NaN</td>\n",
       "      <td>NaN</td>\n",
       "      <td>NaN</td>\n",
       "      <td>NaN</td>\n",
       "    </tr>\n",
       "    <tr>\n",
       "      <td>2075</td>\n",
       "      <td>1885</td>\n",
       "      <td>Meat and Meat Preparations</td>\n",
       "      <td>1159</td>\n",
       "      <td>Offals, other camelids</td>\n",
       "      <td>1.0</td>\n",
       "      <td>NaN</td>\n",
       "      <td>NaN</td>\n",
       "      <td>NaN</td>\n",
       "      <td>NaN</td>\n",
       "    </tr>\n",
       "    <tr>\n",
       "      <td>2109</td>\n",
       "      <td>1923</td>\n",
       "      <td>Meat Fresh+Ch+Frozen</td>\n",
       "      <td>1159</td>\n",
       "      <td>Offals, other camelids</td>\n",
       "      <td>1.0</td>\n",
       "      <td>NaN</td>\n",
       "      <td>NaN</td>\n",
       "      <td>NaN</td>\n",
       "      <td>NaN</td>\n",
       "    </tr>\n",
       "    <tr>\n",
       "      <td>2122</td>\n",
       "      <td>1928</td>\n",
       "      <td>Meat Offals Fr nes</td>\n",
       "      <td>1159</td>\n",
       "      <td>Offals, other camelids</td>\n",
       "      <td>1.0</td>\n",
       "      <td>NaN</td>\n",
       "      <td>NaN</td>\n",
       "      <td>NaN</td>\n",
       "      <td>NaN</td>\n",
       "    </tr>\n",
       "  </tbody>\n",
       "</table>\n",
       "</div>"
      ],
      "text/plain": [
       "      item_group_code                  item_group  item_code  \\\n",
       "140              1882    Agricult.Products, Total        654   \n",
       "289              1882    Agricult.Products, Total        389   \n",
       "384              1882    Agricult.Products, Total       1159   \n",
       "454              1882    Agricult.Products, Total         30   \n",
       "983              1892      Fodder & Feeding stuff        654   \n",
       "1135             1883            Food and Animals        654   \n",
       "1241             1883            Food and Animals        389   \n",
       "1326             1883            Food and Animals       1159   \n",
       "1604             1982              Food Excl Fish        389   \n",
       "1689             1982              Food Excl Fish       1159   \n",
       "1746             1982              Food Excl Fish         30   \n",
       "1898             1889        Fruit and Vegetables        389   \n",
       "2021             1758     Livestock Products Prim       1159   \n",
       "2075             1885  Meat and Meat Preparations       1159   \n",
       "2109             1923        Meat Fresh+Ch+Frozen       1159   \n",
       "2122             1928          Meat Offals Fr nes       1159   \n",
       "\n",
       "                                        item  factor  hs_code hs07_code  \\\n",
       "140         Dregs from brewing, distillation     1.0      NaN       NaN   \n",
       "289              Juice, tomato, concentrated     1.0      NaN       NaN   \n",
       "384                   Offals, other camelids     1.0      NaN       NaN   \n",
       "454   Rice - total  (Rice milled equivalent)     NaN      NaN       NaN   \n",
       "983         Dregs from brewing, distillation     1.0      NaN       NaN   \n",
       "1135        Dregs from brewing, distillation     1.0      NaN       NaN   \n",
       "1241             Juice, tomato, concentrated     1.0      NaN       NaN   \n",
       "1326                  Offals, other camelids     1.0      NaN       NaN   \n",
       "1604             Juice, tomato, concentrated     1.0      NaN       NaN   \n",
       "1689                  Offals, other camelids     1.0      NaN       NaN   \n",
       "1746  Rice - total  (Rice milled equivalent)     NaN      NaN       NaN   \n",
       "1898             Juice, tomato, concentrated     1.0      NaN       NaN   \n",
       "2021                  Offals, other camelids     1.0      NaN       NaN   \n",
       "2075                  Offals, other camelids     1.0      NaN       NaN   \n",
       "2109                  Offals, other camelids     1.0      NaN       NaN   \n",
       "2122                  Offals, other camelids     1.0      NaN       NaN   \n",
       "\n",
       "     hs12_code cpc_code  \n",
       "140        NaN    39160  \n",
       "289        NaN      NaN  \n",
       "384        NaN      NaN  \n",
       "454        NaN      NaN  \n",
       "983        NaN    39160  \n",
       "1135       NaN    39160  \n",
       "1241       NaN      NaN  \n",
       "1326       NaN      NaN  \n",
       "1604       NaN      NaN  \n",
       "1689       NaN      NaN  \n",
       "1746       NaN      NaN  \n",
       "1898       NaN      NaN  \n",
       "2021       NaN      NaN  \n",
       "2075       NaN      NaN  \n",
       "2109       NaN      NaN  \n",
       "2122       NaN      NaN  "
      ]
     },
     "execution_count": 870,
     "metadata": {},
     "output_type": "execute_result"
    }
   ],
   "source": [
    "group_crops_df[group_crops_df['hs12_code'].isnull()]"
   ]
  },
  {
   "cell_type": "markdown",
   "metadata": {},
   "source": [
    "We observed that some entries of this dataset are `np.nan`. Because there are only few of them and we cannot even map any them to any of the HS07 or HS12 code, we decided to remove them. Also, if we look at the `Rice - total` which cannot be mapped one can found the `Rice` by looking at its Id so it's not an issue to delete it. "
   ]
  },
  {
   "cell_type": "code",
   "execution_count": 871,
   "metadata": {},
   "outputs": [
    {
     "data": {
      "text/html": [
       "<div>\n",
       "<style scoped>\n",
       "    .dataframe tbody tr th:only-of-type {\n",
       "        vertical-align: middle;\n",
       "    }\n",
       "\n",
       "    .dataframe tbody tr th {\n",
       "        vertical-align: top;\n",
       "    }\n",
       "\n",
       "    .dataframe thead th {\n",
       "        text-align: right;\n",
       "    }\n",
       "</style>\n",
       "<table border=\"1\" class=\"dataframe\">\n",
       "  <thead>\n",
       "    <tr style=\"text-align: right;\">\n",
       "      <th></th>\n",
       "      <th>item_group_code</th>\n",
       "      <th>item_group</th>\n",
       "      <th>item_code</th>\n",
       "      <th>item</th>\n",
       "      <th>factor</th>\n",
       "      <th>hs_code</th>\n",
       "      <th>hs07_code</th>\n",
       "      <th>hs12_code</th>\n",
       "      <th>cpc_code</th>\n",
       "    </tr>\n",
       "  </thead>\n",
       "  <tbody>\n",
       "    <tr>\n",
       "      <td>456</td>\n",
       "      <td>1882</td>\n",
       "      <td>Agricult.Products, Total</td>\n",
       "      <td>28</td>\n",
       "      <td>Rice, husked</td>\n",
       "      <td>1.0</td>\n",
       "      <td>NaN</td>\n",
       "      <td>100620</td>\n",
       "      <td>100620</td>\n",
       "      <td>23162</td>\n",
       "    </tr>\n",
       "    <tr>\n",
       "      <td>698</td>\n",
       "      <td>1944</td>\n",
       "      <td>Cereals</td>\n",
       "      <td>28</td>\n",
       "      <td>Rice, husked</td>\n",
       "      <td>1.0</td>\n",
       "      <td>NaN</td>\n",
       "      <td>100620</td>\n",
       "      <td>100620</td>\n",
       "      <td>23162</td>\n",
       "    </tr>\n",
       "    <tr>\n",
       "      <td>745</td>\n",
       "      <td>1888</td>\n",
       "      <td>Cereals and Preparations</td>\n",
       "      <td>28</td>\n",
       "      <td>Rice, husked</td>\n",
       "      <td>1.0</td>\n",
       "      <td>NaN</td>\n",
       "      <td>100620</td>\n",
       "      <td>100620</td>\n",
       "      <td>23162</td>\n",
       "    </tr>\n",
       "    <tr>\n",
       "      <td>1367</td>\n",
       "      <td>1883</td>\n",
       "      <td>Food and Animals</td>\n",
       "      <td>28</td>\n",
       "      <td>Rice, husked</td>\n",
       "      <td>1.0</td>\n",
       "      <td>NaN</td>\n",
       "      <td>100620</td>\n",
       "      <td>100620</td>\n",
       "      <td>23162</td>\n",
       "    </tr>\n",
       "    <tr>\n",
       "      <td>1748</td>\n",
       "      <td>1982</td>\n",
       "      <td>Food Excl Fish</td>\n",
       "      <td>28</td>\n",
       "      <td>Rice, husked</td>\n",
       "      <td>1.0</td>\n",
       "      <td>NaN</td>\n",
       "      <td>100620</td>\n",
       "      <td>100620</td>\n",
       "      <td>23162</td>\n",
       "    </tr>\n",
       "    <tr>\n",
       "      <td>2321</td>\n",
       "      <td>1946</td>\n",
       "      <td>Rice</td>\n",
       "      <td>28</td>\n",
       "      <td>Rice, husked</td>\n",
       "      <td>1.0</td>\n",
       "      <td>NaN</td>\n",
       "      <td>100620</td>\n",
       "      <td>100620</td>\n",
       "      <td>23162</td>\n",
       "    </tr>\n",
       "  </tbody>\n",
       "</table>\n",
       "</div>"
      ],
      "text/plain": [
       "      item_group_code                item_group  item_code          item  \\\n",
       "456              1882  Agricult.Products, Total         28  Rice, husked   \n",
       "698              1944                   Cereals         28  Rice, husked   \n",
       "745              1888  Cereals and Preparations         28  Rice, husked   \n",
       "1367             1883          Food and Animals         28  Rice, husked   \n",
       "1748             1982            Food Excl Fish         28  Rice, husked   \n",
       "2321             1946                      Rice         28  Rice, husked   \n",
       "\n",
       "      factor  hs_code hs07_code hs12_code cpc_code  \n",
       "456      1.0      NaN    100620    100620    23162  \n",
       "698      1.0      NaN    100620    100620    23162  \n",
       "745      1.0      NaN    100620    100620    23162  \n",
       "1367     1.0      NaN    100620    100620    23162  \n",
       "1748     1.0      NaN    100620    100620    23162  \n",
       "2321     1.0      NaN    100620    100620    23162  "
      ]
     },
     "execution_count": 871,
     "metadata": {},
     "output_type": "execute_result"
    }
   ],
   "source": [
    "group_crops_df[group_crops_df['hs12_code']=='100620']"
   ]
  },
  {
   "cell_type": "code",
   "execution_count": 872,
   "metadata": {},
   "outputs": [],
   "source": [
    "# df group crops with the nan values removed\n",
    "group_crops_cleaned_df = group_crops_df[~group_crops_df['hs12_code'].isnull()]"
   ]
  },
  {
   "cell_type": "code",
   "execution_count": 873,
   "metadata": {},
   "outputs": [],
   "source": [
    "# If the items is assigned mutliple labels, we only keep the first one\n",
    "HS12_Code = group_crops_cleaned_df['hs12_code'].str.split(', ',expand=True).loc[:,0]"
   ]
  },
  {
   "cell_type": "code",
   "execution_count": 874,
   "metadata": {},
   "outputs": [],
   "source": [
    "group_crops_cleaned_df = pd\\\n",
    "                            .concat([group_crops_cleaned_df,HS12_Code],axis=1)\\\n",
    "                            .drop(['factor','hs_code','hs07_code','cpc_code','hs12_code'],axis=1)"
   ]
  },
  {
   "cell_type": "code",
   "execution_count": 875,
   "metadata": {},
   "outputs": [],
   "source": [
    "group_crops_cleaned_df.rename(columns={0:'hs12_code'},inplace=True)"
   ]
  },
  {
   "cell_type": "markdown",
   "metadata": {},
   "source": [
    "We add two new columns, the first `Parent Group` will contain the main group specified by the first two digits and the second column `Child Group` will show a more specific group with a lower hierarchical order with the first four digits. "
   ]
  },
  {
   "cell_type": "code",
   "execution_count": 876,
   "metadata": {},
   "outputs": [],
   "source": [
    "group_crops_cleaned_df['parent_group'] = group_crops_cleaned_df['hs12_code'].str[:2].astype(int)\n",
    "group_crops_cleaned_df['child_group'] = group_crops_cleaned_df['hs12_code'].str[:4].astype(int)"
   ]
  },
  {
   "cell_type": "code",
   "execution_count": 877,
   "metadata": {},
   "outputs": [
    {
     "data": {
      "text/html": [
       "<div>\n",
       "<style scoped>\n",
       "    .dataframe tbody tr th:only-of-type {\n",
       "        vertical-align: middle;\n",
       "    }\n",
       "\n",
       "    .dataframe tbody tr th {\n",
       "        vertical-align: top;\n",
       "    }\n",
       "\n",
       "    .dataframe thead th {\n",
       "        text-align: right;\n",
       "    }\n",
       "</style>\n",
       "<table border=\"1\" class=\"dataframe\">\n",
       "  <thead>\n",
       "    <tr style=\"text-align: right;\">\n",
       "      <th></th>\n",
       "      <th>item_group_code</th>\n",
       "      <th>item_group</th>\n",
       "      <th>item_code</th>\n",
       "      <th>item</th>\n",
       "      <th>hs12_code</th>\n",
       "      <th>parent_group</th>\n",
       "      <th>child_group</th>\n",
       "    </tr>\n",
       "  </thead>\n",
       "  <tbody>\n",
       "    <tr>\n",
       "      <td>0</td>\n",
       "      <td>1882</td>\n",
       "      <td>Agricult.Products, Total</td>\n",
       "      <td>800</td>\n",
       "      <td>Agave fibres nes</td>\n",
       "      <td>530500</td>\n",
       "      <td>53</td>\n",
       "      <td>5305</td>\n",
       "    </tr>\n",
       "    <tr>\n",
       "      <td>1</td>\n",
       "      <td>1882</td>\n",
       "      <td>Agricult.Products, Total</td>\n",
       "      <td>862</td>\n",
       "      <td>Alfalfa meal and pellets</td>\n",
       "      <td>121410</td>\n",
       "      <td>12</td>\n",
       "      <td>1214</td>\n",
       "    </tr>\n",
       "    <tr>\n",
       "      <td>2</td>\n",
       "      <td>1882</td>\n",
       "      <td>Agricult.Products, Total</td>\n",
       "      <td>231</td>\n",
       "      <td>Almonds shelled</td>\n",
       "      <td>080212</td>\n",
       "      <td>8</td>\n",
       "      <td>802</td>\n",
       "    </tr>\n",
       "    <tr>\n",
       "      <td>3</td>\n",
       "      <td>1882</td>\n",
       "      <td>Agricult.Products, Total</td>\n",
       "      <td>221</td>\n",
       "      <td>Almonds, with shell</td>\n",
       "      <td>080211</td>\n",
       "      <td>8</td>\n",
       "      <td>802</td>\n",
       "    </tr>\n",
       "    <tr>\n",
       "      <td>4</td>\n",
       "      <td>1882</td>\n",
       "      <td>Agricult.Products, Total</td>\n",
       "      <td>1171</td>\n",
       "      <td>Animals live nes</td>\n",
       "      <td>010611</td>\n",
       "      <td>1</td>\n",
       "      <td>106</td>\n",
       "    </tr>\n",
       "  </tbody>\n",
       "</table>\n",
       "</div>"
      ],
      "text/plain": [
       "   item_group_code                item_group  item_code  \\\n",
       "0             1882  Agricult.Products, Total        800   \n",
       "1             1882  Agricult.Products, Total        862   \n",
       "2             1882  Agricult.Products, Total        231   \n",
       "3             1882  Agricult.Products, Total        221   \n",
       "4             1882  Agricult.Products, Total       1171   \n",
       "\n",
       "                       item hs12_code  parent_group  child_group  \n",
       "0          Agave fibres nes    530500            53         5305  \n",
       "1  Alfalfa meal and pellets    121410            12         1214  \n",
       "2           Almonds shelled    080212             8          802  \n",
       "3       Almonds, with shell    080211             8          802  \n",
       "4          Animals live nes    010611             1          106  "
      ]
     },
     "execution_count": 877,
     "metadata": {},
     "output_type": "execute_result"
    }
   ],
   "source": [
    "# Let's look at a snpashot : \n",
    "group_crops_cleaned_df.head()"
   ]
  },
  {
   "cell_type": "code",
   "execution_count": 878,
   "metadata": {},
   "outputs": [
    {
     "data": {
      "text/plain": [
       "item_group_code     int64\n",
       "item_group         object\n",
       "item_code           int64\n",
       "item               object\n",
       "hs12_code          object\n",
       "parent_group        int32\n",
       "child_group         int32\n",
       "dtype: object"
      ]
     },
     "execution_count": 878,
     "metadata": {},
     "output_type": "execute_result"
    }
   ],
   "source": [
    "# Check that the columns Parent Group and Child Group are of type int or float\n",
    "group_crops_cleaned_df.dtypes"
   ]
  },
  {
   "cell_type": "code",
   "execution_count": 879,
   "metadata": {},
   "outputs": [
    {
     "name": "stdout",
     "output_type": "stream",
     "text": [
      " Number of Parent Group : 29\n"
     ]
    }
   ],
   "source": [
    "# Number of parent groups \n",
    "print(f' Number of Parent Group : {group_crops_cleaned_df.parent_group.nunique()}')"
   ]
  },
  {
   "cell_type": "code",
   "execution_count": 882,
   "metadata": {},
   "outputs": [],
   "source": [
    "# Final dataset used for the mapping of each crop : \n",
    "group_crops_cleaned_df = group_crops_cleaned_df\\\n",
    "                            .drop(['item_group_code','item_group'],axis=1)\\\n",
    "                            .groupby(['item','item_code','hs12_code','parent_group','child_group'])\\\n",
    "                            .count()\\\n",
    "                            .reset_index()"
   ]
  },
  {
   "cell_type": "code",
   "execution_count": 884,
   "metadata": {},
   "outputs": [
    {
     "name": "stdout",
     "output_type": "stream",
     "text": [
      "(563, 5)\n"
     ]
    },
    {
     "data": {
      "text/html": [
       "<div>\n",
       "<style scoped>\n",
       "    .dataframe tbody tr th:only-of-type {\n",
       "        vertical-align: middle;\n",
       "    }\n",
       "\n",
       "    .dataframe tbody tr th {\n",
       "        vertical-align: top;\n",
       "    }\n",
       "\n",
       "    .dataframe thead th {\n",
       "        text-align: right;\n",
       "    }\n",
       "</style>\n",
       "<table border=\"1\" class=\"dataframe\">\n",
       "  <thead>\n",
       "    <tr style=\"text-align: right;\">\n",
       "      <th></th>\n",
       "      <th>item</th>\n",
       "      <th>item_code</th>\n",
       "      <th>hs12_code</th>\n",
       "      <th>parent_group</th>\n",
       "      <th>child_group</th>\n",
       "    </tr>\n",
       "  </thead>\n",
       "  <tbody>\n",
       "    <tr>\n",
       "      <td>0</td>\n",
       "      <td>Agave fibres nes</td>\n",
       "      <td>800</td>\n",
       "      <td>530500</td>\n",
       "      <td>53</td>\n",
       "      <td>5305</td>\n",
       "    </tr>\n",
       "    <tr>\n",
       "      <td>1</td>\n",
       "      <td>Alfalfa meal and pellets</td>\n",
       "      <td>862</td>\n",
       "      <td>121410</td>\n",
       "      <td>12</td>\n",
       "      <td>1214</td>\n",
       "    </tr>\n",
       "    <tr>\n",
       "      <td>2</td>\n",
       "      <td>Almonds shelled</td>\n",
       "      <td>231</td>\n",
       "      <td>080212</td>\n",
       "      <td>8</td>\n",
       "      <td>802</td>\n",
       "    </tr>\n",
       "    <tr>\n",
       "      <td>3</td>\n",
       "      <td>Almonds, with shell</td>\n",
       "      <td>221</td>\n",
       "      <td>080211</td>\n",
       "      <td>8</td>\n",
       "      <td>802</td>\n",
       "    </tr>\n",
       "    <tr>\n",
       "      <td>4</td>\n",
       "      <td>Animals live nes</td>\n",
       "      <td>1171</td>\n",
       "      <td>010611</td>\n",
       "      <td>1</td>\n",
       "      <td>106</td>\n",
       "    </tr>\n",
       "  </tbody>\n",
       "</table>\n",
       "</div>"
      ],
      "text/plain": [
       "                       item  item_code hs12_code  parent_group  child_group\n",
       "0          Agave fibres nes        800    530500            53         5305\n",
       "1  Alfalfa meal and pellets        862    121410            12         1214\n",
       "2           Almonds shelled        231    080212             8          802\n",
       "3       Almonds, with shell        221    080211             8          802\n",
       "4          Animals live nes       1171    010611             1          106"
      ]
     },
     "execution_count": 884,
     "metadata": {},
     "output_type": "execute_result"
    }
   ],
   "source": [
    "print(group_crops_cleaned_df.shape)\n",
    "\n",
    "group_crops_cleaned_df.head()"
   ]
  },
  {
   "cell_type": "code",
   "execution_count": 890,
   "metadata": {},
   "outputs": [
    {
     "ename": "KeyboardInterrupt",
     "evalue": "",
     "output_type": "error",
     "traceback": [
      "\u001b[1;31m---------------------------------------------------------------------------\u001b[0m",
      "\u001b[1;31mKeyboardInterrupt\u001b[0m                         Traceback (most recent call last)",
      "\u001b[1;31mKeyboardInterrupt\u001b[0m: "
     ]
    }
   ],
   "source": [
    "# Merging on item_code only for the trade_df at the moment\n",
    "df_final = trades_df.merge(group_crops_cleaned_df, left_on='Item Code',right_on='item_code')\n",
    "df_final.head()"
   ]
  },
  {
   "cell_type": "code",
   "execution_count": 894,
   "metadata": {},
   "outputs": [
    {
     "data": {
      "text/plain": [
       "array([ 8,  9,  7,  2, 10, 22, 15, 23, 19,  4, 18, 24, 50, 21, 12, 52,  5,\n",
       "       16, 38, 53, 11, 17, 20, 51, 41, 40, 14], dtype=int64)"
      ]
     },
     "execution_count": 894,
     "metadata": {},
     "output_type": "execute_result"
    }
   ],
   "source": [
    "# Printing the main categories (parent_group)\n",
    "df_final['parent_group'].unique()"
   ]
  },
  {
   "cell_type": "markdown",
   "metadata": {},
   "source": [
    "List of all the main categories : \n",
    "\n",
    "- 02 : Meat and edible meat offal\n",
    "- 04 : Dairy produce; birds' eggs; natural honey; edible products of animal origin, not elsewhere -specified or included\n",
    "- 05 : Animal originated products; not elsewhere specified or included\n",
    "- 07 : Vegetables and certain roots and tubers; edible\n",
    "- 08 : Fruit and nuts, edible; peel of citrus fruit or melons  \n",
    "- 09 : Coffee, tea, mate and spices\n",
    "- 10 : Cereals\n",
    "- 11 : Products of the milling industry; malt, starches, inulin, wheat gluten\n",
    "- 12 : Oil seeds and oleaginous fruits; miscellaneous grains, seeds and fruit, industrial or medicinal plants; straw and fodder\n",
    "- 14 : Vegetable plaiting materials; vegetable products not elsewhere specified or included\n",
    "- 15 : Animal or vegetable fats and oils and their cleavage products; prepared animal fats; animal or vegetable waxes\n",
    "- 16 : Meat, fish or crustaceans, molluscs or other aquatic invertebrates; preparations thereof\n",
    "- 17 : Sugars and sugar confectionery\n",
    "- 18 : Cocoa and cocoa preparations\n",
    "- 19 : Preparations of cereals, flour, starch or milk; pastrycooks' products\n",
    "- 20 : Preparations of vegetables, fruit, nuts or other parts of plants\n",
    "- 21 : Miscellaneous edible preparations\n",
    "- 22 : Beverages, spirits and vinegar \n",
    "- 23 : Food industries, residues and wastes thereof; prepared animal fodder\n",
    "- 24 : Tobacco and manufactured tobacco substitutes\n",
    "- 38 : Chemical products n.e.c.\n",
    "- 40 : Rubber and articles thereof\n",
    "- 41 : Raw hides and skins (other than furskins) and leather\n",
    "- 50 : Silk\n",
    "- 51 : Wool, fine or coarse animal hair; horsehair yarn and woven fabric\n",
    "- 52 : Cotton\n",
    "- 53 : Vegetable textile fibres; paper yarn and woven fabrics of paper yarn"
   ]
  },
  {
   "cell_type": "markdown",
   "metadata": {},
   "source": [
    "**Example** : It's really easy to extract in two line of codes all the crops in group 10 (Cereals)"
   ]
  },
  {
   "cell_type": "code",
   "execution_count": 895,
   "metadata": {},
   "outputs": [],
   "source": [
    "list_crops_group = df_final[df_final['parent_group']==10]['child_group'].unique() # TODO : check with UNCCC to print the name"
   ]
  },
  {
   "cell_type": "code",
   "execution_count": 896,
   "metadata": {},
   "outputs": [],
   "source": [
    "example = df_final[df_final['child_group'].isin(list_crops_group)]"
   ]
  },
  {
   "cell_type": "code",
   "execution_count": 897,
   "metadata": {},
   "outputs": [
    {
     "data": {
      "text/html": [
       "<div>\n",
       "<style scoped>\n",
       "    .dataframe tbody tr th:only-of-type {\n",
       "        vertical-align: middle;\n",
       "    }\n",
       "\n",
       "    .dataframe tbody tr th {\n",
       "        vertical-align: top;\n",
       "    }\n",
       "\n",
       "    .dataframe thead th {\n",
       "        text-align: right;\n",
       "    }\n",
       "</style>\n",
       "<table border=\"1\" class=\"dataframe\">\n",
       "  <thead>\n",
       "    <tr style=\"text-align: right;\">\n",
       "      <th></th>\n",
       "      <th>Area Code</th>\n",
       "      <th>Area</th>\n",
       "      <th>Item Code</th>\n",
       "      <th>Item</th>\n",
       "      <th>Element Code</th>\n",
       "      <th>Element</th>\n",
       "      <th>Year</th>\n",
       "      <th>Unit</th>\n",
       "      <th>Value</th>\n",
       "      <th>Flag</th>\n",
       "      <th>Domain Code</th>\n",
       "      <th>Domain</th>\n",
       "      <th>item</th>\n",
       "      <th>item_code</th>\n",
       "      <th>hs12_code</th>\n",
       "      <th>parent_group</th>\n",
       "      <th>child_group</th>\n",
       "    </tr>\n",
       "  </thead>\n",
       "  <tbody>\n",
       "    <tr>\n",
       "      <td>307762</td>\n",
       "      <td>2</td>\n",
       "      <td>Afghanistan</td>\n",
       "      <td>44</td>\n",
       "      <td>Barley</td>\n",
       "      <td>5610</td>\n",
       "      <td>Import Quantity</td>\n",
       "      <td>1995</td>\n",
       "      <td>tonnes</td>\n",
       "      <td>3800.0</td>\n",
       "      <td>NaN</td>\n",
       "      <td>NaN</td>\n",
       "      <td>NaN</td>\n",
       "      <td>Barley</td>\n",
       "      <td>44</td>\n",
       "      <td>100310</td>\n",
       "      <td>10</td>\n",
       "      <td>1003</td>\n",
       "    </tr>\n",
       "    <tr>\n",
       "      <td>307763</td>\n",
       "      <td>2</td>\n",
       "      <td>Afghanistan</td>\n",
       "      <td>44</td>\n",
       "      <td>Barley</td>\n",
       "      <td>5610</td>\n",
       "      <td>Import Quantity</td>\n",
       "      <td>1996</td>\n",
       "      <td>tonnes</td>\n",
       "      <td>0.0</td>\n",
       "      <td>NaN</td>\n",
       "      <td>NaN</td>\n",
       "      <td>NaN</td>\n",
       "      <td>Barley</td>\n",
       "      <td>44</td>\n",
       "      <td>100310</td>\n",
       "      <td>10</td>\n",
       "      <td>1003</td>\n",
       "    </tr>\n",
       "    <tr>\n",
       "      <td>307764</td>\n",
       "      <td>2</td>\n",
       "      <td>Afghanistan</td>\n",
       "      <td>44</td>\n",
       "      <td>Barley</td>\n",
       "      <td>5610</td>\n",
       "      <td>Import Quantity</td>\n",
       "      <td>1997</td>\n",
       "      <td>tonnes</td>\n",
       "      <td>0.0</td>\n",
       "      <td>NaN</td>\n",
       "      <td>NaN</td>\n",
       "      <td>NaN</td>\n",
       "      <td>Barley</td>\n",
       "      <td>44</td>\n",
       "      <td>100310</td>\n",
       "      <td>10</td>\n",
       "      <td>1003</td>\n",
       "    </tr>\n",
       "    <tr>\n",
       "      <td>307765</td>\n",
       "      <td>2</td>\n",
       "      <td>Afghanistan</td>\n",
       "      <td>44</td>\n",
       "      <td>Barley</td>\n",
       "      <td>5610</td>\n",
       "      <td>Import Quantity</td>\n",
       "      <td>1998</td>\n",
       "      <td>tonnes</td>\n",
       "      <td>0.0</td>\n",
       "      <td>NaN</td>\n",
       "      <td>NaN</td>\n",
       "      <td>NaN</td>\n",
       "      <td>Barley</td>\n",
       "      <td>44</td>\n",
       "      <td>100310</td>\n",
       "      <td>10</td>\n",
       "      <td>1003</td>\n",
       "    </tr>\n",
       "    <tr>\n",
       "      <td>307766</td>\n",
       "      <td>2</td>\n",
       "      <td>Afghanistan</td>\n",
       "      <td>44</td>\n",
       "      <td>Barley</td>\n",
       "      <td>5610</td>\n",
       "      <td>Import Quantity</td>\n",
       "      <td>1999</td>\n",
       "      <td>tonnes</td>\n",
       "      <td>0.0</td>\n",
       "      <td>NaN</td>\n",
       "      <td>NaN</td>\n",
       "      <td>NaN</td>\n",
       "      <td>Barley</td>\n",
       "      <td>44</td>\n",
       "      <td>100310</td>\n",
       "      <td>10</td>\n",
       "      <td>1003</td>\n",
       "    </tr>\n",
       "  </tbody>\n",
       "</table>\n",
       "</div>"
      ],
      "text/plain": [
       "        Area Code         Area  Item Code    Item  Element Code  \\\n",
       "307762          2  Afghanistan         44  Barley          5610   \n",
       "307763          2  Afghanistan         44  Barley          5610   \n",
       "307764          2  Afghanistan         44  Barley          5610   \n",
       "307765          2  Afghanistan         44  Barley          5610   \n",
       "307766          2  Afghanistan         44  Barley          5610   \n",
       "\n",
       "                Element  Year    Unit   Value Flag Domain Code Domain    item  \\\n",
       "307762  Import Quantity  1995  tonnes  3800.0  NaN         NaN    NaN  Barley   \n",
       "307763  Import Quantity  1996  tonnes     0.0  NaN         NaN    NaN  Barley   \n",
       "307764  Import Quantity  1997  tonnes     0.0  NaN         NaN    NaN  Barley   \n",
       "307765  Import Quantity  1998  tonnes     0.0  NaN         NaN    NaN  Barley   \n",
       "307766  Import Quantity  1999  tonnes     0.0  NaN         NaN    NaN  Barley   \n",
       "\n",
       "        item_code hs12_code  parent_group  child_group  \n",
       "307762         44    100310            10         1003  \n",
       "307763         44    100310            10         1003  \n",
       "307764         44    100310            10         1003  \n",
       "307765         44    100310            10         1003  \n",
       "307766         44    100310            10         1003  "
      ]
     },
     "execution_count": 897,
     "metadata": {},
     "output_type": "execute_result"
    }
   ],
   "source": [
    "example.head()"
   ]
  },
  {
   "cell_type": "markdown",
   "metadata": {},
   "source": [
    "<a id='import'></a>\n",
    "\n",
    "## 6. Import-export Dataframe"
   ]
  },
  {
   "cell_type": "markdown",
   "metadata": {},
   "source": [
    "The main motive behind this part is to change how the value are presented. Indeed, at the moment all different values (Import or Export quantities ... ) are presented below each other which is not efficient to make some calculations between them. To solve this issue and make our life easier, we'll create dummies with the `get_dummies`method and a custom aggregation function will group all the data per element per year.  "
   ]
  },
  {
   "cell_type": "code",
   "execution_count": 899,
   "metadata": {},
   "outputs": [],
   "source": [
    "df_dummy = pd.get_dummies(df_final.Element)"
   ]
  },
  {
   "cell_type": "code",
   "execution_count": 900,
   "metadata": {},
   "outputs": [
    {
     "data": {
      "text/html": [
       "<div>\n",
       "<style scoped>\n",
       "    .dataframe tbody tr th:only-of-type {\n",
       "        vertical-align: middle;\n",
       "    }\n",
       "\n",
       "    .dataframe tbody tr th {\n",
       "        vertical-align: top;\n",
       "    }\n",
       "\n",
       "    .dataframe thead th {\n",
       "        text-align: right;\n",
       "    }\n",
       "</style>\n",
       "<table border=\"1\" class=\"dataframe\">\n",
       "  <thead>\n",
       "    <tr style=\"text-align: right;\">\n",
       "      <th></th>\n",
       "      <th>Export Quantity</th>\n",
       "      <th>Export Value</th>\n",
       "      <th>Import Quantity</th>\n",
       "      <th>Import Value</th>\n",
       "    </tr>\n",
       "  </thead>\n",
       "  <tbody>\n",
       "    <tr>\n",
       "      <td>0</td>\n",
       "      <td>0</td>\n",
       "      <td>0</td>\n",
       "      <td>1</td>\n",
       "      <td>0</td>\n",
       "    </tr>\n",
       "    <tr>\n",
       "      <td>1</td>\n",
       "      <td>0</td>\n",
       "      <td>0</td>\n",
       "      <td>1</td>\n",
       "      <td>0</td>\n",
       "    </tr>\n",
       "    <tr>\n",
       "      <td>2</td>\n",
       "      <td>0</td>\n",
       "      <td>0</td>\n",
       "      <td>1</td>\n",
       "      <td>0</td>\n",
       "    </tr>\n",
       "    <tr>\n",
       "      <td>3</td>\n",
       "      <td>0</td>\n",
       "      <td>0</td>\n",
       "      <td>0</td>\n",
       "      <td>1</td>\n",
       "    </tr>\n",
       "    <tr>\n",
       "      <td>4</td>\n",
       "      <td>0</td>\n",
       "      <td>0</td>\n",
       "      <td>0</td>\n",
       "      <td>1</td>\n",
       "    </tr>\n",
       "  </tbody>\n",
       "</table>\n",
       "</div>"
      ],
      "text/plain": [
       "   Export Quantity  Export Value  Import Quantity  Import Value\n",
       "0                0             0                1             0\n",
       "1                0             0                1             0\n",
       "2                0             0                1             0\n",
       "3                0             0                0             1\n",
       "4                0             0                0             1"
      ]
     },
     "execution_count": 900,
     "metadata": {},
     "output_type": "execute_result"
    }
   ],
   "source": [
    "df_dummy.head()"
   ]
  },
  {
   "cell_type": "code",
   "execution_count": null,
   "metadata": {},
   "outputs": [],
   "source": [
    "df_merged_dummies = pd.concat([df_final, df_dummy],axis=1)\n",
    "df_merged_dummies.columns = map(lambda name : name.lower().replace(' ', '_'), df_merged_dummies.columns) #Column names to lower case\n",
    "df_merged_dummies.head()"
   ]
  },
  {
   "cell_type": "code",
   "execution_count": null,
   "metadata": {},
   "outputs": [],
   "source": [
    "# This cell assign the actual corresponding value to the dummies \n",
    "df_merged_dummies.loc[df_merged_dummies['import_quantity']==1,'import_quantity'] = df_merged_dummies.loc[df_merged_dummies['import_quantity']==1,'value']\n",
    "df_merged_dummies.loc[df_merged_dummies['import_value']==1,'import_value'] = df_merged_dummies.loc[df_merged_dummies['import_value']==1,'value']\n",
    "df_merged_dummies.loc[df_merged_dummies['export_quantity']==1,'export_quantity'] = df_merged_dummies.loc[df_merged_dummies['export_quantity']==1,'value']\n",
    "df_merged_dummies.loc[df_merged_dummies['export_value']==1,'export_value'] = df_merged_dummies.loc[df_merged_dummies['export_value']==1,'value']"
   ]
  },
  {
   "cell_type": "code",
   "execution_count": null,
   "metadata": {},
   "outputs": [],
   "source": [
    "list_features_to_drop = ['item_code','element_code','element','value','flag','domain_code','domain','item_y']"
   ]
  },
  {
   "cell_type": "code",
   "execution_count": null,
   "metadata": {},
   "outputs": [],
   "source": [
    "df_import_export = df_merged_dummies.groupby(['area','item_x','year']).agg({\n",
    "    'area_code' : 'first',\n",
    "    'unit' : 'first',\n",
    "    'hs12_code' : 'first',\n",
    "    'parent_group' : 'first',\n",
    "    'child_group' : 'first',\n",
    "    'export_quantity' : 'sum',\n",
    "    'export_value' : 'sum',\n",
    "    'import_quantity' : 'sum',\n",
    "    'import_value'  : 'sum'    \n",
    "}).reset_index()"
   ]
  },
  {
   "cell_type": "code",
   "execution_count": null,
   "metadata": {},
   "outputs": [],
   "source": [
    "df_import_export.head()"
   ]
  },
  {
   "cell_type": "markdown",
   "metadata": {},
   "source": [
    "Here is the final dataframe for the `trades`."
   ]
  },
  {
   "cell_type": "markdown",
   "metadata": {},
   "source": [
    "<a id='plots'></a>\n",
    "\n",
    "## 7. Plots\n",
    "\n",
    "With the dataframe that we have above, our possibillities are endless. We can plot for example, the import of cereals in Europe during the time period, we can look at each of the products inside that category. We can for example look at the exportations of the cereals from Africa also. \n",
    "\n",
    "We can also compute some new features : `Profit` which is the difference of value for the import export ....\n"
   ]
  },
  {
   "cell_type": "markdown",
   "metadata": {},
   "source": [
    "### 7.A First Example : Biggest importers and exporters "
   ]
  },
  {
   "cell_type": "code",
   "execution_count": null,
   "metadata": {},
   "outputs": [],
   "source": [
    "df_cereals = df_import_export[df_import_export['parent_group']==10]"
   ]
  },
  {
   "cell_type": "code",
   "execution_count": null,
   "metadata": {},
   "outputs": [],
   "source": [
    "df_cereals_2017 = df_cereals[df_cereals.year==2017].groupby(['area','area_code'])['export_quantity','export_value','import_quantity','import_value'].sum().reset_index()\n",
    "df_cereals_2017.head()"
   ]
  },
  {
   "cell_type": "code",
   "execution_count": null,
   "metadata": {},
   "outputs": [],
   "source": [
    "# Let's print the 10 biggest importers and exporters : \n",
    "df_cereals_2017.sort_values(['import_quantity'],ascending=False).head(10)"
   ]
  },
  {
   "cell_type": "code",
   "execution_count": null,
   "metadata": {},
   "outputs": [],
   "source": [
    "df_cereals_2017.sort_values(['export_quantity'],ascending=False).head(10)"
   ]
  },
  {
   "cell_type": "markdown",
   "metadata": {},
   "source": [
    "### 7.B Second Example : Net Exported quantity and profit in Europe"
   ]
  },
  {
   "cell_type": "code",
   "execution_count": null,
   "metadata": {},
   "outputs": [],
   "source": [
    "df_cereals_2017['diff_quantity'] = df_cereals_2017['export_quantity'] - df_cereals_2017['import_quantity']\n",
    "df_cereals_2017['profit'] = df_cereals_2017['export_value'] - df_cereals_2017['import_value']\n",
    "df_cereals_2017"
   ]
  },
  {
   "cell_type": "code",
   "execution_count": null,
   "metadata": {},
   "outputs": [],
   "source": [
    "#import pickle\n",
    "#df_cereals_2017.to_pickle('df_cereals_2017.pkl')"
   ]
  },
  {
   "cell_type": "code",
   "execution_count": null,
   "metadata": {},
   "outputs": [],
   "source": [
    "# Let's print value for Europe (5400) : \n",
    "df_cereals_2017_europe = df_cereals_2017[df_cereals_2017['Area Code'].isin(dicts.get(5400))]\n",
    "df_cereals_2017_europe.head(10)"
   ]
  },
  {
   "cell_type": "markdown",
   "metadata": {},
   "source": [
    "**Load GeoPandas**"
   ]
  },
  {
   "cell_type": "code",
   "execution_count": 715,
   "metadata": {},
   "outputs": [],
   "source": [
    "import geopandas\n",
    "from shapely.geometry import Polygon"
   ]
  },
  {
   "cell_type": "code",
   "execution_count": 716,
   "metadata": {},
   "outputs": [],
   "source": [
    "world = geopandas.read_file(geopandas.datasets.get_path('naturalearth_lowres')) # Load earth file\n",
    "europe = world[world.continent == \"Europe\"].copy() # Kepp only europe "
   ]
  },
  {
   "cell_type": "code",
   "execution_count": 717,
   "metadata": {},
   "outputs": [],
   "source": [
    "europe = europe.merge(df_country[['ISO3 Code','Country Code']],left_on='iso_a3',right_on='ISO3 Code')"
   ]
  },
  {
   "cell_type": "code",
   "execution_count": 718,
   "metadata": {},
   "outputs": [
    {
     "data": {
      "text/html": [
       "<div>\n",
       "<style scoped>\n",
       "    .dataframe tbody tr th:only-of-type {\n",
       "        vertical-align: middle;\n",
       "    }\n",
       "\n",
       "    .dataframe tbody tr th {\n",
       "        vertical-align: top;\n",
       "    }\n",
       "\n",
       "    .dataframe thead th {\n",
       "        text-align: right;\n",
       "    }\n",
       "</style>\n",
       "<table border=\"1\" class=\"dataframe\">\n",
       "  <thead>\n",
       "    <tr style=\"text-align: right;\">\n",
       "      <th></th>\n",
       "      <th>pop_est</th>\n",
       "      <th>continent</th>\n",
       "      <th>name</th>\n",
       "      <th>iso_a3</th>\n",
       "      <th>gdp_md_est</th>\n",
       "      <th>geometry</th>\n",
       "      <th>ISO3 Code</th>\n",
       "      <th>Country Code</th>\n",
       "    </tr>\n",
       "  </thead>\n",
       "  <tbody>\n",
       "    <tr>\n",
       "      <td>0</td>\n",
       "      <td>3639453.0</td>\n",
       "      <td>Europe</td>\n",
       "      <td>Albania</td>\n",
       "      <td>ALB</td>\n",
       "      <td>21810.0</td>\n",
       "      <td>POLYGON ((5200402.756686697 2145424.254511977,...</td>\n",
       "      <td>ALB</td>\n",
       "      <td>3</td>\n",
       "    </tr>\n",
       "    <tr>\n",
       "      <td>1</td>\n",
       "      <td>3639453.0</td>\n",
       "      <td>Europe</td>\n",
       "      <td>Albania</td>\n",
       "      <td>ALB</td>\n",
       "      <td>21810.0</td>\n",
       "      <td>POLYGON ((5200402.756686697 2145424.254511977,...</td>\n",
       "      <td>ALB</td>\n",
       "      <td>3</td>\n",
       "    </tr>\n",
       "    <tr>\n",
       "      <td>2</td>\n",
       "      <td>3639453.0</td>\n",
       "      <td>Europe</td>\n",
       "      <td>Albania</td>\n",
       "      <td>ALB</td>\n",
       "      <td>21810.0</td>\n",
       "      <td>POLYGON ((5200402.756686697 2145424.254511977,...</td>\n",
       "      <td>ALB</td>\n",
       "      <td>3</td>\n",
       "    </tr>\n",
       "    <tr>\n",
       "      <td>3</td>\n",
       "      <td>8210281.0</td>\n",
       "      <td>Europe</td>\n",
       "      <td>Austria</td>\n",
       "      <td>AUT</td>\n",
       "      <td>329500.0</td>\n",
       "      <td>POLYGON ((4839987.968179951 2803428.635664629,...</td>\n",
       "      <td>AUT</td>\n",
       "      <td>11</td>\n",
       "    </tr>\n",
       "    <tr>\n",
       "      <td>4</td>\n",
       "      <td>8210281.0</td>\n",
       "      <td>Europe</td>\n",
       "      <td>Austria</td>\n",
       "      <td>AUT</td>\n",
       "      <td>329500.0</td>\n",
       "      <td>POLYGON ((4839987.968179951 2803428.635664629,...</td>\n",
       "      <td>AUT</td>\n",
       "      <td>11</td>\n",
       "    </tr>\n",
       "  </tbody>\n",
       "</table>\n",
       "</div>"
      ],
      "text/plain": [
       "     pop_est continent     name iso_a3  gdp_md_est  \\\n",
       "0  3639453.0    Europe  Albania    ALB     21810.0   \n",
       "1  3639453.0    Europe  Albania    ALB     21810.0   \n",
       "2  3639453.0    Europe  Albania    ALB     21810.0   \n",
       "3  8210281.0    Europe  Austria    AUT    329500.0   \n",
       "4  8210281.0    Europe  Austria    AUT    329500.0   \n",
       "\n",
       "                                            geometry ISO3 Code  Country Code  \n",
       "0  POLYGON ((5200402.756686697 2145424.254511977,...       ALB             3  \n",
       "1  POLYGON ((5200402.756686697 2145424.254511977,...       ALB             3  \n",
       "2  POLYGON ((5200402.756686697 2145424.254511977,...       ALB             3  \n",
       "3  POLYGON ((4839987.968179951 2803428.635664629,...       AUT            11  \n",
       "4  POLYGON ((4839987.968179951 2803428.635664629,...       AUT            11  "
      ]
     },
     "execution_count": 718,
     "metadata": {},
     "output_type": "execute_result"
    }
   ],
   "source": [
    "europe['geometry'] = europe.geometry.intersection(Polygon([(-15,35), (50,35), (50,70), (-15, 70)])) # Set boundaries\n",
    "europe = europe.to_crs({'init':'epsg:3035'}) # change projection \n",
    "europe.head()"
   ]
  },
  {
   "cell_type": "code",
   "execution_count": 720,
   "metadata": {},
   "outputs": [],
   "source": [
    "# Merge \n",
    "europe = europe.merge(df_cereals_2017_europe[['Area Code','Profit','diff Quantity']],left_on='Country Code',right_on='Area Code')"
   ]
  },
  {
   "cell_type": "code",
   "execution_count": 891,
   "metadata": {},
   "outputs": [
    {
     "data": {
      "text/plain": [
       "Text(0.5, 1.0, 'Net Exportation Value for Europe')"
      ]
     },
     "execution_count": 891,
     "metadata": {},
     "output_type": "execute_result"
    },
    {
     "data": {
      "image/png": "[encoded data removed]",
      "text/plain": [
       "<Figure size 1440x1080 with 2 Axes>"
      ]
     },
     "metadata": {
      "needs_background": "light"
     },
     "output_type": "display_data"
    }
   ],
   "source": [
    "ax = europe.boundary.plot(color='white', edgecolor='black',figsize=(20,15))\n",
    "europe.plot(ax = ax, edgecolor='black',column='Profit',cmap='RdYlGn',legend=True);\n",
    "ax.set_title('Net Exportation Value for Europe in 1000$')"
   ]
  },
  {
   "cell_type": "code",
   "execution_count": 892,
   "metadata": {},
   "outputs": [
    {
     "data": {
      "text/plain": [
       "Text(0.5, 1.0, 'Net Exportation Quantity for Europe in 1000$')"
      ]
     },
     "execution_count": 892,
     "metadata": {},
     "output_type": "execute_result"
    },
    {
     "data": {
      "image/png": "[encoded data removed]",
      "text/plain": [
       "<Figure size 1440x1080 with 2 Axes>"
      ]
     },
     "metadata": {
      "needs_background": "light"
     },
     "output_type": "display_data"
    }
   ],
   "source": [
    "ax = europe.boundary.plot(color='white', edgecolor='black',figsize=(20,15))\n",
    "europe.plot(ax = ax, edgecolor='black',column='diff Quantity',cmap='RdYlGn',legend=True);\n",
    "ax.set_title('Net Exportation Quantity for Europe in 1000$')"
   ]
  },
  {
   "cell_type": "markdown",
   "metadata": {},
   "source": [
    "### 7.C Third Example : Time Series for Net Exported quantity and profit in Europe"
   ]
  },
  {
   "cell_type": "code",
   "execution_count": 734,
   "metadata": {},
   "outputs": [
    {
     "data": {
      "text/html": [
       "<div>\n",
       "<style scoped>\n",
       "    .dataframe tbody tr th:only-of-type {\n",
       "        vertical-align: middle;\n",
       "    }\n",
       "\n",
       "    .dataframe tbody tr th {\n",
       "        vertical-align: top;\n",
       "    }\n",
       "\n",
       "    .dataframe thead th {\n",
       "        text-align: right;\n",
       "    }\n",
       "</style>\n",
       "<table border=\"1\" class=\"dataframe\">\n",
       "  <thead>\n",
       "    <tr style=\"text-align: right;\">\n",
       "      <th></th>\n",
       "      <th>Year</th>\n",
       "      <th>Export Quantity</th>\n",
       "      <th>Export Value</th>\n",
       "      <th>Import Quantity</th>\n",
       "      <th>Import Value</th>\n",
       "      <th>diff Quantity</th>\n",
       "      <th>Profit</th>\n",
       "    </tr>\n",
       "  </thead>\n",
       "  <tbody>\n",
       "    <tr>\n",
       "      <td>0</td>\n",
       "      <td>1961</td>\n",
       "      <td>14954780.0</td>\n",
       "      <td>893913.0</td>\n",
       "      <td>38892948.0</td>\n",
       "      <td>2459411.0</td>\n",
       "      <td>-23938168.0</td>\n",
       "      <td>-1565498.0</td>\n",
       "    </tr>\n",
       "    <tr>\n",
       "      <td>1</td>\n",
       "      <td>1962</td>\n",
       "      <td>13905441.0</td>\n",
       "      <td>944620.0</td>\n",
       "      <td>42223069.0</td>\n",
       "      <td>2734470.0</td>\n",
       "      <td>-28317628.0</td>\n",
       "      <td>-1789850.0</td>\n",
       "    </tr>\n",
       "    <tr>\n",
       "      <td>2</td>\n",
       "      <td>1963</td>\n",
       "      <td>15218486.0</td>\n",
       "      <td>1031295.0</td>\n",
       "      <td>43469386.0</td>\n",
       "      <td>2858280.0</td>\n",
       "      <td>-28250900.0</td>\n",
       "      <td>-1826985.0</td>\n",
       "    </tr>\n",
       "    <tr>\n",
       "      <td>3</td>\n",
       "      <td>1964</td>\n",
       "      <td>13783309.0</td>\n",
       "      <td>939085.0</td>\n",
       "      <td>48654611.0</td>\n",
       "      <td>3295668.0</td>\n",
       "      <td>-34871302.0</td>\n",
       "      <td>-2356583.0</td>\n",
       "    </tr>\n",
       "    <tr>\n",
       "      <td>4</td>\n",
       "      <td>1965</td>\n",
       "      <td>15698172.0</td>\n",
       "      <td>1063646.0</td>\n",
       "      <td>51880377.0</td>\n",
       "      <td>3495503.0</td>\n",
       "      <td>-36182205.0</td>\n",
       "      <td>-2431857.0</td>\n",
       "    </tr>\n",
       "  </tbody>\n",
       "</table>\n",
       "</div>"
      ],
      "text/plain": [
       "   Year  Export Quantity  Export Value  Import Quantity  Import Value  \\\n",
       "0  1961       14954780.0      893913.0       38892948.0     2459411.0   \n",
       "1  1962       13905441.0      944620.0       42223069.0     2734470.0   \n",
       "2  1963       15218486.0     1031295.0       43469386.0     2858280.0   \n",
       "3  1964       13783309.0      939085.0       48654611.0     3295668.0   \n",
       "4  1965       15698172.0     1063646.0       51880377.0     3495503.0   \n",
       "\n",
       "   diff Quantity     Profit  \n",
       "0    -23938168.0 -1565498.0  \n",
       "1    -28317628.0 -1789850.0  \n",
       "2    -28250900.0 -1826985.0  \n",
       "3    -34871302.0 -2356583.0  \n",
       "4    -36182205.0 -2431857.0  "
      ]
     },
     "execution_count": 734,
     "metadata": {},
     "output_type": "execute_result"
    }
   ],
   "source": [
    "df_cereals_europe = df_cereals[df_cereals['Area Code'].isin(dicts.get(5400))]\n",
    "df_cereals_europe = df_cereals_europe.groupby('Year')['Export Quantity','Export Value','Import Quantity','Import Value'].sum().reset_index()\n",
    "\n",
    "df_cereals_europe['diff Quantity'] = df_cereals_europe['Export Quantity'] - df_cereals_europe['Import Quantity']\n",
    "df_cereals_europe['Profit'] = df_cereals_europe['Export Value'] - df_cereals_europe['Import Value']\n",
    "df_cereals_europe.head()"
   ]
  },
  {
   "cell_type": "code",
   "execution_count": 752,
   "metadata": {},
   "outputs": [
    {
     "data": {
      "image/png": "[encoded data removed]",
      "text/plain": [
       "<Figure size 864x720 with 2 Axes>"
      ]
     },
     "metadata": {
      "needs_background": "light"
     },
     "output_type": "display_data"
    }
   ],
   "source": [
    "fig, ax = plt.subplots(2,1,figsize=(12,10))\n",
    "\n",
    "ax[0].bar(df_cereals_europe.Year,df_cereals_europe['diff Quantity'])\n",
    "ax[0].set_title('Net Exportation Ratio for cereals in Europe')\n",
    "ax[0].set_ylabel('in Tonnes')\n",
    "ax[1].bar(df_cereals_europe.Year,df_cereals_europe['Profit'])\n",
    "ax[1].set_title('Net Profit for cereals in Europe')\n",
    "ax[1].set_ylabel('in 1000 $')\n",
    "ax[0].grid()\n",
    "ax[1].grid()"
   ]
  },
  {
   "cell_type": "markdown",
   "metadata": {},
   "source": [
    "### 7.D Fourth Example : Most Exported Crop in Africa"
   ]
  },
  {
   "cell_type": "code",
   "execution_count": 760,
   "metadata": {},
   "outputs": [
    {
     "data": {
      "text/html": [
       "<div>\n",
       "<style scoped>\n",
       "    .dataframe tbody tr th:only-of-type {\n",
       "        vertical-align: middle;\n",
       "    }\n",
       "\n",
       "    .dataframe tbody tr th {\n",
       "        vertical-align: top;\n",
       "    }\n",
       "\n",
       "    .dataframe thead th {\n",
       "        text-align: right;\n",
       "    }\n",
       "</style>\n",
       "<table border=\"1\" class=\"dataframe\">\n",
       "  <thead>\n",
       "    <tr style=\"text-align: right;\">\n",
       "      <th></th>\n",
       "      <th>Area</th>\n",
       "      <th>Item_x</th>\n",
       "      <th>Year</th>\n",
       "      <th>Area Code</th>\n",
       "      <th>Unit</th>\n",
       "      <th>HS12 Code</th>\n",
       "      <th>Parent Group</th>\n",
       "      <th>Child Group</th>\n",
       "      <th>Export Quantity</th>\n",
       "      <th>Export Value</th>\n",
       "      <th>Import Quantity</th>\n",
       "      <th>Import Value</th>\n",
       "    </tr>\n",
       "  </thead>\n",
       "  <tbody>\n",
       "    <tr>\n",
       "      <td>34269</td>\n",
       "      <td>Algeria</td>\n",
       "      <td>Alfalfa meal and pellets</td>\n",
       "      <td>1968</td>\n",
       "      <td>4</td>\n",
       "      <td>tonnes</td>\n",
       "      <td>121410</td>\n",
       "      <td>12</td>\n",
       "      <td>1214</td>\n",
       "      <td>0.0</td>\n",
       "      <td>0.0</td>\n",
       "      <td>135.0</td>\n",
       "      <td>10.0</td>\n",
       "    </tr>\n",
       "    <tr>\n",
       "      <td>34270</td>\n",
       "      <td>Algeria</td>\n",
       "      <td>Alfalfa meal and pellets</td>\n",
       "      <td>1969</td>\n",
       "      <td>4</td>\n",
       "      <td>tonnes</td>\n",
       "      <td>121410</td>\n",
       "      <td>12</td>\n",
       "      <td>1214</td>\n",
       "      <td>0.0</td>\n",
       "      <td>0.0</td>\n",
       "      <td>680.0</td>\n",
       "      <td>50.0</td>\n",
       "    </tr>\n",
       "    <tr>\n",
       "      <td>34271</td>\n",
       "      <td>Algeria</td>\n",
       "      <td>Alfalfa meal and pellets</td>\n",
       "      <td>1970</td>\n",
       "      <td>4</td>\n",
       "      <td>tonnes</td>\n",
       "      <td>121410</td>\n",
       "      <td>12</td>\n",
       "      <td>1214</td>\n",
       "      <td>0.0</td>\n",
       "      <td>0.0</td>\n",
       "      <td>234.0</td>\n",
       "      <td>18.0</td>\n",
       "    </tr>\n",
       "    <tr>\n",
       "      <td>34272</td>\n",
       "      <td>Algeria</td>\n",
       "      <td>Alfalfa meal and pellets</td>\n",
       "      <td>1971</td>\n",
       "      <td>4</td>\n",
       "      <td>tonnes</td>\n",
       "      <td>121410</td>\n",
       "      <td>12</td>\n",
       "      <td>1214</td>\n",
       "      <td>0.0</td>\n",
       "      <td>0.0</td>\n",
       "      <td>46.0</td>\n",
       "      <td>4.0</td>\n",
       "    </tr>\n",
       "    <tr>\n",
       "      <td>34273</td>\n",
       "      <td>Algeria</td>\n",
       "      <td>Alfalfa meal and pellets</td>\n",
       "      <td>1972</td>\n",
       "      <td>4</td>\n",
       "      <td>tonnes</td>\n",
       "      <td>121410</td>\n",
       "      <td>12</td>\n",
       "      <td>1214</td>\n",
       "      <td>0.0</td>\n",
       "      <td>0.0</td>\n",
       "      <td>70.0</td>\n",
       "      <td>5.0</td>\n",
       "    </tr>\n",
       "    <tr>\n",
       "      <td>...</td>\n",
       "      <td>...</td>\n",
       "      <td>...</td>\n",
       "      <td>...</td>\n",
       "      <td>...</td>\n",
       "      <td>...</td>\n",
       "      <td>...</td>\n",
       "      <td>...</td>\n",
       "      <td>...</td>\n",
       "      <td>...</td>\n",
       "      <td>...</td>\n",
       "      <td>...</td>\n",
       "      <td>...</td>\n",
       "    </tr>\n",
       "    <tr>\n",
       "      <td>2968617</td>\n",
       "      <td>Zimbabwe</td>\n",
       "      <td>Yoghurt, concentrated or not</td>\n",
       "      <td>2013</td>\n",
       "      <td>181</td>\n",
       "      <td>tonnes</td>\n",
       "      <td>040310</td>\n",
       "      <td>4</td>\n",
       "      <td>403</td>\n",
       "      <td>4.0</td>\n",
       "      <td>11.0</td>\n",
       "      <td>719.0</td>\n",
       "      <td>1249.0</td>\n",
       "    </tr>\n",
       "    <tr>\n",
       "      <td>2968618</td>\n",
       "      <td>Zimbabwe</td>\n",
       "      <td>Yoghurt, concentrated or not</td>\n",
       "      <td>2014</td>\n",
       "      <td>181</td>\n",
       "      <td>tonnes</td>\n",
       "      <td>040310</td>\n",
       "      <td>4</td>\n",
       "      <td>403</td>\n",
       "      <td>8.0</td>\n",
       "      <td>12.0</td>\n",
       "      <td>530.0</td>\n",
       "      <td>766.0</td>\n",
       "    </tr>\n",
       "    <tr>\n",
       "      <td>2968619</td>\n",
       "      <td>Zimbabwe</td>\n",
       "      <td>Yoghurt, concentrated or not</td>\n",
       "      <td>2015</td>\n",
       "      <td>181</td>\n",
       "      <td>tonnes</td>\n",
       "      <td>040310</td>\n",
       "      <td>4</td>\n",
       "      <td>403</td>\n",
       "      <td>9.0</td>\n",
       "      <td>15.0</td>\n",
       "      <td>161.0</td>\n",
       "      <td>185.0</td>\n",
       "    </tr>\n",
       "    <tr>\n",
       "      <td>2968620</td>\n",
       "      <td>Zimbabwe</td>\n",
       "      <td>Yoghurt, concentrated or not</td>\n",
       "      <td>2016</td>\n",
       "      <td>181</td>\n",
       "      <td>tonnes</td>\n",
       "      <td>040310</td>\n",
       "      <td>4</td>\n",
       "      <td>403</td>\n",
       "      <td>0.0</td>\n",
       "      <td>0.0</td>\n",
       "      <td>163.0</td>\n",
       "      <td>143.0</td>\n",
       "    </tr>\n",
       "    <tr>\n",
       "      <td>2968621</td>\n",
       "      <td>Zimbabwe</td>\n",
       "      <td>Yoghurt, concentrated or not</td>\n",
       "      <td>2017</td>\n",
       "      <td>181</td>\n",
       "      <td>tonnes</td>\n",
       "      <td>040310</td>\n",
       "      <td>4</td>\n",
       "      <td>403</td>\n",
       "      <td>2.0</td>\n",
       "      <td>3.0</td>\n",
       "      <td>0.0</td>\n",
       "      <td>0.0</td>\n",
       "    </tr>\n",
       "  </tbody>\n",
       "</table>\n",
       "<p>531351 rows × 12 columns</p>\n",
       "</div>"
      ],
      "text/plain": [
       "             Area                        Item_x  Year  Area Code    Unit  \\\n",
       "34269     Algeria      Alfalfa meal and pellets  1968          4  tonnes   \n",
       "34270     Algeria      Alfalfa meal and pellets  1969          4  tonnes   \n",
       "34271     Algeria      Alfalfa meal and pellets  1970          4  tonnes   \n",
       "34272     Algeria      Alfalfa meal and pellets  1971          4  tonnes   \n",
       "34273     Algeria      Alfalfa meal and pellets  1972          4  tonnes   \n",
       "...           ...                           ...   ...        ...     ...   \n",
       "2968617  Zimbabwe  Yoghurt, concentrated or not  2013        181  tonnes   \n",
       "2968618  Zimbabwe  Yoghurt, concentrated or not  2014        181  tonnes   \n",
       "2968619  Zimbabwe  Yoghurt, concentrated or not  2015        181  tonnes   \n",
       "2968620  Zimbabwe  Yoghurt, concentrated or not  2016        181  tonnes   \n",
       "2968621  Zimbabwe  Yoghurt, concentrated or not  2017        181  tonnes   \n",
       "\n",
       "        HS12 Code  Parent Group  Child Group  Export Quantity  Export Value  \\\n",
       "34269      121410            12         1214              0.0           0.0   \n",
       "34270      121410            12         1214              0.0           0.0   \n",
       "34271      121410            12         1214              0.0           0.0   \n",
       "34272      121410            12         1214              0.0           0.0   \n",
       "34273      121410            12         1214              0.0           0.0   \n",
       "...           ...           ...          ...              ...           ...   \n",
       "2968617    040310             4          403              4.0          11.0   \n",
       "2968618    040310             4          403              8.0          12.0   \n",
       "2968619    040310             4          403              9.0          15.0   \n",
       "2968620    040310             4          403              0.0           0.0   \n",
       "2968621    040310             4          403              2.0           3.0   \n",
       "\n",
       "         Import Quantity  Import Value  \n",
       "34269              135.0          10.0  \n",
       "34270              680.0          50.0  \n",
       "34271              234.0          18.0  \n",
       "34272               46.0           4.0  \n",
       "34273               70.0           5.0  \n",
       "...                  ...           ...  \n",
       "2968617            719.0        1249.0  \n",
       "2968618            530.0         766.0  \n",
       "2968619            161.0         185.0  \n",
       "2968620            163.0         143.0  \n",
       "2968621              0.0           0.0  \n",
       "\n",
       "[531351 rows x 12 columns]"
      ]
     },
     "execution_count": 760,
     "metadata": {},
     "output_type": "execute_result"
    }
   ],
   "source": [
    "df_import_export[df_import_export['Area Code'].isin(dicts.get(list_group[0]))]"
   ]
  },
  {
   "cell_type": "code",
   "execution_count": 761,
   "metadata": {},
   "outputs": [],
   "source": [
    "tmp = df_import_export[df_import_export['Area Code'].isin(dicts.get(list_group[0]))]"
   ]
  },
  {
   "cell_type": "code",
   "execution_count": 767,
   "metadata": {},
   "outputs": [],
   "source": [
    "tmp = tmp.groupby(['Parent Group','Year'])['Export Quantity','Export Value','Import Quantity','Import Value'].sum().reset_index()"
   ]
  },
  {
   "cell_type": "code",
   "execution_count": 768,
   "metadata": {},
   "outputs": [
    {
     "data": {
      "text/html": [
       "<div>\n",
       "<style scoped>\n",
       "    .dataframe tbody tr th:only-of-type {\n",
       "        vertical-align: middle;\n",
       "    }\n",
       "\n",
       "    .dataframe tbody tr th {\n",
       "        vertical-align: top;\n",
       "    }\n",
       "\n",
       "    .dataframe thead th {\n",
       "        text-align: right;\n",
       "    }\n",
       "</style>\n",
       "<table border=\"1\" class=\"dataframe\">\n",
       "  <thead>\n",
       "    <tr style=\"text-align: right;\">\n",
       "      <th></th>\n",
       "      <th>Parent Group</th>\n",
       "      <th>Year</th>\n",
       "      <th>Export Quantity</th>\n",
       "      <th>Export Value</th>\n",
       "      <th>Import Quantity</th>\n",
       "      <th>Import Value</th>\n",
       "    </tr>\n",
       "  </thead>\n",
       "  <tbody>\n",
       "    <tr>\n",
       "      <td>0</td>\n",
       "      <td>2</td>\n",
       "      <td>1961</td>\n",
       "      <td>68935.0</td>\n",
       "      <td>34380.0</td>\n",
       "      <td>78020.0</td>\n",
       "      <td>54827.0</td>\n",
       "    </tr>\n",
       "    <tr>\n",
       "      <td>1</td>\n",
       "      <td>2</td>\n",
       "      <td>1962</td>\n",
       "      <td>75678.0</td>\n",
       "      <td>38140.0</td>\n",
       "      <td>58010.0</td>\n",
       "      <td>42305.0</td>\n",
       "    </tr>\n",
       "    <tr>\n",
       "      <td>2</td>\n",
       "      <td>2</td>\n",
       "      <td>1963</td>\n",
       "      <td>76577.0</td>\n",
       "      <td>38536.0</td>\n",
       "      <td>54835.0</td>\n",
       "      <td>37266.0</td>\n",
       "    </tr>\n",
       "    <tr>\n",
       "      <td>3</td>\n",
       "      <td>2</td>\n",
       "      <td>1964</td>\n",
       "      <td>87423.0</td>\n",
       "      <td>46832.0</td>\n",
       "      <td>49738.0</td>\n",
       "      <td>33376.0</td>\n",
       "    </tr>\n",
       "    <tr>\n",
       "      <td>4</td>\n",
       "      <td>2</td>\n",
       "      <td>1965</td>\n",
       "      <td>95198.0</td>\n",
       "      <td>55602.0</td>\n",
       "      <td>51433.0</td>\n",
       "      <td>38760.0</td>\n",
       "    </tr>\n",
       "  </tbody>\n",
       "</table>\n",
       "</div>"
      ],
      "text/plain": [
       "   Parent Group  Year  Export Quantity  Export Value  Import Quantity  \\\n",
       "0             2  1961          68935.0       34380.0          78020.0   \n",
       "1             2  1962          75678.0       38140.0          58010.0   \n",
       "2             2  1963          76577.0       38536.0          54835.0   \n",
       "3             2  1964          87423.0       46832.0          49738.0   \n",
       "4             2  1965          95198.0       55602.0          51433.0   \n",
       "\n",
       "   Import Value  \n",
       "0       54827.0  \n",
       "1       42305.0  \n",
       "2       37266.0  \n",
       "3       33376.0  \n",
       "4       38760.0  "
      ]
     },
     "execution_count": 768,
     "metadata": {},
     "output_type": "execute_result"
    }
   ],
   "source": [
    "tmp.head()"
   ]
  },
  {
   "cell_type": "code",
   "execution_count": 770,
   "metadata": {},
   "outputs": [],
   "source": [
    "tmp = tmp[tmp.Year==2017]"
   ]
  },
  {
   "cell_type": "code",
   "execution_count": 771,
   "metadata": {},
   "outputs": [
    {
     "data": {
      "text/html": [
       "<div>\n",
       "<style scoped>\n",
       "    .dataframe tbody tr th:only-of-type {\n",
       "        vertical-align: middle;\n",
       "    }\n",
       "\n",
       "    .dataframe tbody tr th {\n",
       "        vertical-align: top;\n",
       "    }\n",
       "\n",
       "    .dataframe thead th {\n",
       "        text-align: right;\n",
       "    }\n",
       "</style>\n",
       "<table border=\"1\" class=\"dataframe\">\n",
       "  <thead>\n",
       "    <tr style=\"text-align: right;\">\n",
       "      <th></th>\n",
       "      <th>Parent Group</th>\n",
       "      <th>Year</th>\n",
       "      <th>Export Quantity</th>\n",
       "      <th>Export Value</th>\n",
       "      <th>Import Quantity</th>\n",
       "      <th>Import Value</th>\n",
       "      <th>diff Quantity</th>\n",
       "      <th>Profit</th>\n",
       "    </tr>\n",
       "  </thead>\n",
       "  <tbody>\n",
       "    <tr>\n",
       "      <td>56</td>\n",
       "      <td>2</td>\n",
       "      <td>2017</td>\n",
       "      <td>208998.0</td>\n",
       "      <td>557252.0</td>\n",
       "      <td>3061083.0</td>\n",
       "      <td>4561150.0</td>\n",
       "      <td>-2852085.0</td>\n",
       "      <td>-4003898.0</td>\n",
       "    </tr>\n",
       "    <tr>\n",
       "      <td>113</td>\n",
       "      <td>4</td>\n",
       "      <td>2017</td>\n",
       "      <td>1032637.0</td>\n",
       "      <td>1955309.0</td>\n",
       "      <td>3391459.0</td>\n",
       "      <td>7667755.0</td>\n",
       "      <td>-2358822.0</td>\n",
       "      <td>-5712446.0</td>\n",
       "    </tr>\n",
       "    <tr>\n",
       "      <td>170</td>\n",
       "      <td>5</td>\n",
       "      <td>2017</td>\n",
       "      <td>0.0</td>\n",
       "      <td>1756005.0</td>\n",
       "      <td>0.0</td>\n",
       "      <td>795210.0</td>\n",
       "      <td>0.0</td>\n",
       "      <td>960795.0</td>\n",
       "    </tr>\n",
       "    <tr>\n",
       "      <td>227</td>\n",
       "      <td>7</td>\n",
       "      <td>2017</td>\n",
       "      <td>4988073.0</td>\n",
       "      <td>3891677.0</td>\n",
       "      <td>4314921.0</td>\n",
       "      <td>2781166.0</td>\n",
       "      <td>673152.0</td>\n",
       "      <td>1110511.0</td>\n",
       "    </tr>\n",
       "    <tr>\n",
       "      <td>284</td>\n",
       "      <td>8</td>\n",
       "      <td>2017</td>\n",
       "      <td>9450441.0</td>\n",
       "      <td>10365206.0</td>\n",
       "      <td>1614369.0</td>\n",
       "      <td>1596414.0</td>\n",
       "      <td>7836072.0</td>\n",
       "      <td>8768792.0</td>\n",
       "    </tr>\n",
       "  </tbody>\n",
       "</table>\n",
       "</div>"
      ],
      "text/plain": [
       "     Parent Group  Year  Export Quantity  Export Value  Import Quantity  \\\n",
       "56              2  2017         208998.0      557252.0        3061083.0   \n",
       "113             4  2017        1032637.0     1955309.0        3391459.0   \n",
       "170             5  2017              0.0     1756005.0              0.0   \n",
       "227             7  2017        4988073.0     3891677.0        4314921.0   \n",
       "284             8  2017        9450441.0    10365206.0        1614369.0   \n",
       "\n",
       "     Import Value  diff Quantity     Profit  \n",
       "56      4561150.0     -2852085.0 -4003898.0  \n",
       "113     7667755.0     -2358822.0 -5712446.0  \n",
       "170      795210.0            0.0   960795.0  \n",
       "227     2781166.0       673152.0  1110511.0  \n",
       "284     1596414.0      7836072.0  8768792.0  "
      ]
     },
     "execution_count": 771,
     "metadata": {},
     "output_type": "execute_result"
    }
   ],
   "source": [
    "tmp['diff Quantity'] = tmp['Export Quantity'] - tmp['Import Quantity']\n",
    "tmp['Profit'] = tmp['Export Value'] - tmp['Import Value']\n",
    "tmp.head()"
   ]
  },
  {
   "cell_type": "code",
   "execution_count": 772,
   "metadata": {},
   "outputs": [
    {
     "data": {
      "text/html": [
       "<div>\n",
       "<style scoped>\n",
       "    .dataframe tbody tr th:only-of-type {\n",
       "        vertical-align: middle;\n",
       "    }\n",
       "\n",
       "    .dataframe tbody tr th {\n",
       "        vertical-align: top;\n",
       "    }\n",
       "\n",
       "    .dataframe thead th {\n",
       "        text-align: right;\n",
       "    }\n",
       "</style>\n",
       "<table border=\"1\" class=\"dataframe\">\n",
       "  <thead>\n",
       "    <tr style=\"text-align: right;\">\n",
       "      <th></th>\n",
       "      <th>Parent Group</th>\n",
       "      <th>Year</th>\n",
       "      <th>Export Quantity</th>\n",
       "      <th>Export Value</th>\n",
       "      <th>Import Quantity</th>\n",
       "      <th>Import Value</th>\n",
       "      <th>diff Quantity</th>\n",
       "      <th>Profit</th>\n",
       "    </tr>\n",
       "  </thead>\n",
       "  <tbody>\n",
       "    <tr>\n",
       "      <td>284</td>\n",
       "      <td>8</td>\n",
       "      <td>2017</td>\n",
       "      <td>9450441.0</td>\n",
       "      <td>10365206.0</td>\n",
       "      <td>1614369.0</td>\n",
       "      <td>1596414.0</td>\n",
       "      <td>7836072.0</td>\n",
       "      <td>8768792.0</td>\n",
       "    </tr>\n",
       "    <tr>\n",
       "      <td>797</td>\n",
       "      <td>18</td>\n",
       "      <td>2017</td>\n",
       "      <td>3443503.0</td>\n",
       "      <td>8880991.0</td>\n",
       "      <td>212784.0</td>\n",
       "      <td>702242.0</td>\n",
       "      <td>3230719.0</td>\n",
       "      <td>8178749.0</td>\n",
       "    </tr>\n",
       "    <tr>\n",
       "      <td>1481</td>\n",
       "      <td>52</td>\n",
       "      <td>2017</td>\n",
       "      <td>1145031.0</td>\n",
       "      <td>1779002.0</td>\n",
       "      <td>232937.0</td>\n",
       "      <td>390276.0</td>\n",
       "      <td>912094.0</td>\n",
       "      <td>1388726.0</td>\n",
       "    </tr>\n",
       "    <tr>\n",
       "      <td>1253</td>\n",
       "      <td>40</td>\n",
       "      <td>2017</td>\n",
       "      <td>903614.0</td>\n",
       "      <td>1228274.0</td>\n",
       "      <td>72406.0</td>\n",
       "      <td>139201.0</td>\n",
       "      <td>831208.0</td>\n",
       "      <td>1089073.0</td>\n",
       "    </tr>\n",
       "    <tr>\n",
       "      <td>227</td>\n",
       "      <td>7</td>\n",
       "      <td>2017</td>\n",
       "      <td>4988073.0</td>\n",
       "      <td>3891677.0</td>\n",
       "      <td>4314921.0</td>\n",
       "      <td>2781166.0</td>\n",
       "      <td>673152.0</td>\n",
       "      <td>1110511.0</td>\n",
       "    </tr>\n",
       "    <tr>\n",
       "      <td>341</td>\n",
       "      <td>9</td>\n",
       "      <td>2017</td>\n",
       "      <td>1569946.0</td>\n",
       "      <td>5258081.0</td>\n",
       "      <td>911262.0</td>\n",
       "      <td>2364475.0</td>\n",
       "      <td>658684.0</td>\n",
       "      <td>2893606.0</td>\n",
       "    </tr>\n",
       "    <tr>\n",
       "      <td>1139</td>\n",
       "      <td>24</td>\n",
       "      <td>2017</td>\n",
       "      <td>580390.0</td>\n",
       "      <td>2848695.0</td>\n",
       "      <td>306173.0</td>\n",
       "      <td>2535171.0</td>\n",
       "      <td>274217.0</td>\n",
       "      <td>313524.0</td>\n",
       "    </tr>\n",
       "    <tr>\n",
       "      <td>1424</td>\n",
       "      <td>51</td>\n",
       "      <td>2017</td>\n",
       "      <td>75403.0</td>\n",
       "      <td>413123.0</td>\n",
       "      <td>15602.0</td>\n",
       "      <td>70199.0</td>\n",
       "      <td>59801.0</td>\n",
       "      <td>342924.0</td>\n",
       "    </tr>\n",
       "    <tr>\n",
       "      <td>1310</td>\n",
       "      <td>41</td>\n",
       "      <td>2017</td>\n",
       "      <td>80958.0</td>\n",
       "      <td>149102.0</td>\n",
       "      <td>32410.0</td>\n",
       "      <td>31829.0</td>\n",
       "      <td>48548.0</td>\n",
       "      <td>117273.0</td>\n",
       "    </tr>\n",
       "    <tr>\n",
       "      <td>569</td>\n",
       "      <td>14</td>\n",
       "      <td>2017</td>\n",
       "      <td>8947.0</td>\n",
       "      <td>11937.0</td>\n",
       "      <td>633.0</td>\n",
       "      <td>1108.0</td>\n",
       "      <td>8314.0</td>\n",
       "      <td>10829.0</td>\n",
       "    </tr>\n",
       "    <tr>\n",
       "      <td>1538</td>\n",
       "      <td>53</td>\n",
       "      <td>2017</td>\n",
       "      <td>47486.0</td>\n",
       "      <td>61584.0</td>\n",
       "      <td>41763.0</td>\n",
       "      <td>59918.0</td>\n",
       "      <td>5723.0</td>\n",
       "      <td>1666.0</td>\n",
       "    </tr>\n",
       "    <tr>\n",
       "      <td>170</td>\n",
       "      <td>5</td>\n",
       "      <td>2017</td>\n",
       "      <td>0.0</td>\n",
       "      <td>1756005.0</td>\n",
       "      <td>0.0</td>\n",
       "      <td>795210.0</td>\n",
       "      <td>0.0</td>\n",
       "      <td>960795.0</td>\n",
       "    </tr>\n",
       "    <tr>\n",
       "      <td>1367</td>\n",
       "      <td>50</td>\n",
       "      <td>2017</td>\n",
       "      <td>23.0</td>\n",
       "      <td>65.0</td>\n",
       "      <td>178.0</td>\n",
       "      <td>2393.0</td>\n",
       "      <td>-155.0</td>\n",
       "      <td>-2328.0</td>\n",
       "    </tr>\n",
       "    <tr>\n",
       "      <td>512</td>\n",
       "      <td>12</td>\n",
       "      <td>2017</td>\n",
       "      <td>2545220.0</td>\n",
       "      <td>1847075.0</td>\n",
       "      <td>2560884.0</td>\n",
       "      <td>1683557.0</td>\n",
       "      <td>-15664.0</td>\n",
       "      <td>163518.0</td>\n",
       "    </tr>\n",
       "    <tr>\n",
       "      <td>968</td>\n",
       "      <td>21</td>\n",
       "      <td>2017</td>\n",
       "      <td>39281.0</td>\n",
       "      <td>181564.0</td>\n",
       "      <td>93689.0</td>\n",
       "      <td>365002.0</td>\n",
       "      <td>-54408.0</td>\n",
       "      <td>-183438.0</td>\n",
       "    </tr>\n",
       "    <tr>\n",
       "      <td>683</td>\n",
       "      <td>16</td>\n",
       "      <td>2017</td>\n",
       "      <td>29683.0</td>\n",
       "      <td>67640.0</td>\n",
       "      <td>158135.0</td>\n",
       "      <td>318389.0</td>\n",
       "      <td>-128452.0</td>\n",
       "      <td>-250749.0</td>\n",
       "    </tr>\n",
       "    <tr>\n",
       "      <td>1196</td>\n",
       "      <td>38</td>\n",
       "      <td>2017</td>\n",
       "      <td>47345.0</td>\n",
       "      <td>38561.0</td>\n",
       "      <td>259829.0</td>\n",
       "      <td>212569.0</td>\n",
       "      <td>-212484.0</td>\n",
       "      <td>-174008.0</td>\n",
       "    </tr>\n",
       "    <tr>\n",
       "      <td>1025</td>\n",
       "      <td>22</td>\n",
       "      <td>2017</td>\n",
       "      <td>1914536.0</td>\n",
       "      <td>1692148.0</td>\n",
       "      <td>2413740.0</td>\n",
       "      <td>2564720.0</td>\n",
       "      <td>-499204.0</td>\n",
       "      <td>-872572.0</td>\n",
       "    </tr>\n",
       "    <tr>\n",
       "      <td>911</td>\n",
       "      <td>20</td>\n",
       "      <td>2017</td>\n",
       "      <td>734177.0</td>\n",
       "      <td>760011.0</td>\n",
       "      <td>1269915.0</td>\n",
       "      <td>1354988.0</td>\n",
       "      <td>-535738.0</td>\n",
       "      <td>-594977.0</td>\n",
       "    </tr>\n",
       "    <tr>\n",
       "      <td>854</td>\n",
       "      <td>19</td>\n",
       "      <td>2017</td>\n",
       "      <td>549498.0</td>\n",
       "      <td>679723.0</td>\n",
       "      <td>2040705.0</td>\n",
       "      <td>2808340.0</td>\n",
       "      <td>-1491207.0</td>\n",
       "      <td>-2128617.0</td>\n",
       "    </tr>\n",
       "    <tr>\n",
       "      <td>113</td>\n",
       "      <td>4</td>\n",
       "      <td>2017</td>\n",
       "      <td>1032637.0</td>\n",
       "      <td>1955309.0</td>\n",
       "      <td>3391459.0</td>\n",
       "      <td>7667755.0</td>\n",
       "      <td>-2358822.0</td>\n",
       "      <td>-5712446.0</td>\n",
       "    </tr>\n",
       "    <tr>\n",
       "      <td>56</td>\n",
       "      <td>2</td>\n",
       "      <td>2017</td>\n",
       "      <td>208998.0</td>\n",
       "      <td>557252.0</td>\n",
       "      <td>3061083.0</td>\n",
       "      <td>4561150.0</td>\n",
       "      <td>-2852085.0</td>\n",
       "      <td>-4003898.0</td>\n",
       "    </tr>\n",
       "    <tr>\n",
       "      <td>455</td>\n",
       "      <td>11</td>\n",
       "      <td>2017</td>\n",
       "      <td>1136616.0</td>\n",
       "      <td>519102.0</td>\n",
       "      <td>4189946.0</td>\n",
       "      <td>1810159.0</td>\n",
       "      <td>-3053330.0</td>\n",
       "      <td>-1291057.0</td>\n",
       "    </tr>\n",
       "    <tr>\n",
       "      <td>1082</td>\n",
       "      <td>23</td>\n",
       "      <td>2017</td>\n",
       "      <td>3056779.0</td>\n",
       "      <td>656214.0</td>\n",
       "      <td>7662521.0</td>\n",
       "      <td>2970688.0</td>\n",
       "      <td>-4605742.0</td>\n",
       "      <td>-2314474.0</td>\n",
       "    </tr>\n",
       "    <tr>\n",
       "      <td>626</td>\n",
       "      <td>15</td>\n",
       "      <td>2017</td>\n",
       "      <td>1472332.0</td>\n",
       "      <td>1983374.0</td>\n",
       "      <td>12156512.0</td>\n",
       "      <td>11088133.0</td>\n",
       "      <td>-10684180.0</td>\n",
       "      <td>-9104759.0</td>\n",
       "    </tr>\n",
       "    <tr>\n",
       "      <td>740</td>\n",
       "      <td>17</td>\n",
       "      <td>2017</td>\n",
       "      <td>4950110.0</td>\n",
       "      <td>2644833.0</td>\n",
       "      <td>15877458.0</td>\n",
       "      <td>8041354.0</td>\n",
       "      <td>-10927348.0</td>\n",
       "      <td>-5396521.0</td>\n",
       "    </tr>\n",
       "    <tr>\n",
       "      <td>398</td>\n",
       "      <td>10</td>\n",
       "      <td>2017</td>\n",
       "      <td>4129959.0</td>\n",
       "      <td>1096100.0</td>\n",
       "      <td>85695362.0</td>\n",
       "      <td>23100279.0</td>\n",
       "      <td>-81565403.0</td>\n",
       "      <td>-22004179.0</td>\n",
       "    </tr>\n",
       "  </tbody>\n",
       "</table>\n",
       "</div>"
      ],
      "text/plain": [
       "      Parent Group  Year  Export Quantity  Export Value  Import Quantity  \\\n",
       "284              8  2017        9450441.0    10365206.0        1614369.0   \n",
       "797             18  2017        3443503.0     8880991.0         212784.0   \n",
       "1481            52  2017        1145031.0     1779002.0         232937.0   \n",
       "1253            40  2017         903614.0     1228274.0          72406.0   \n",
       "227              7  2017        4988073.0     3891677.0        4314921.0   \n",
       "341              9  2017        1569946.0     5258081.0         911262.0   \n",
       "1139            24  2017         580390.0     2848695.0         306173.0   \n",
       "1424            51  2017          75403.0      413123.0          15602.0   \n",
       "1310            41  2017          80958.0      149102.0          32410.0   \n",
       "569             14  2017           8947.0       11937.0            633.0   \n",
       "1538            53  2017          47486.0       61584.0          41763.0   \n",
       "170              5  2017              0.0     1756005.0              0.0   \n",
       "1367            50  2017             23.0          65.0            178.0   \n",
       "512             12  2017        2545220.0     1847075.0        2560884.0   \n",
       "968             21  2017          39281.0      181564.0          93689.0   \n",
       "683             16  2017          29683.0       67640.0         158135.0   \n",
       "1196            38  2017          47345.0       38561.0         259829.0   \n",
       "1025            22  2017        1914536.0     1692148.0        2413740.0   \n",
       "911             20  2017         734177.0      760011.0        1269915.0   \n",
       "854             19  2017         549498.0      679723.0        2040705.0   \n",
       "113              4  2017        1032637.0     1955309.0        3391459.0   \n",
       "56               2  2017         208998.0      557252.0        3061083.0   \n",
       "455             11  2017        1136616.0      519102.0        4189946.0   \n",
       "1082            23  2017        3056779.0      656214.0        7662521.0   \n",
       "626             15  2017        1472332.0     1983374.0       12156512.0   \n",
       "740             17  2017        4950110.0     2644833.0       15877458.0   \n",
       "398             10  2017        4129959.0     1096100.0       85695362.0   \n",
       "\n",
       "      Import Value  diff Quantity      Profit  \n",
       "284      1596414.0      7836072.0   8768792.0  \n",
       "797       702242.0      3230719.0   8178749.0  \n",
       "1481      390276.0       912094.0   1388726.0  \n",
       "1253      139201.0       831208.0   1089073.0  \n",
       "227      2781166.0       673152.0   1110511.0  \n",
       "341      2364475.0       658684.0   2893606.0  \n",
       "1139     2535171.0       274217.0    313524.0  \n",
       "1424       70199.0        59801.0    342924.0  \n",
       "1310       31829.0        48548.0    117273.0  \n",
       "569         1108.0         8314.0     10829.0  \n",
       "1538       59918.0         5723.0      1666.0  \n",
       "170       795210.0            0.0    960795.0  \n",
       "1367        2393.0         -155.0     -2328.0  \n",
       "512      1683557.0       -15664.0    163518.0  \n",
       "968       365002.0       -54408.0   -183438.0  \n",
       "683       318389.0      -128452.0   -250749.0  \n",
       "1196      212569.0      -212484.0   -174008.0  \n",
       "1025     2564720.0      -499204.0   -872572.0  \n",
       "911      1354988.0      -535738.0   -594977.0  \n",
       "854      2808340.0     -1491207.0  -2128617.0  \n",
       "113      7667755.0     -2358822.0  -5712446.0  \n",
       "56       4561150.0     -2852085.0  -4003898.0  \n",
       "455      1810159.0     -3053330.0  -1291057.0  \n",
       "1082     2970688.0     -4605742.0  -2314474.0  \n",
       "626     11088133.0    -10684180.0  -9104759.0  \n",
       "740      8041354.0    -10927348.0  -5396521.0  \n",
       "398     23100279.0    -81565403.0 -22004179.0  "
      ]
     },
     "execution_count": 772,
     "metadata": {},
     "output_type": "execute_result"
    }
   ],
   "source": [
    "tmp.sort_values('diff Quantity',ascending=False)"
   ]
  },
  {
   "cell_type": "markdown",
   "metadata": {},
   "source": [
    "Comments : \"Fruit and nuts, edible; peel of citrus fruit or melons\" that are the most exported and cereals that are the most imported"
   ]
  },
  {
   "cell_type": "code",
   "execution_count": null,
   "metadata": {},
   "outputs": [],
   "source": [
    "import folium"
   ]
  },
  {
   "cell_type": "code",
   "execution_count": 773,
   "metadata": {},
   "outputs": [],
   "source": [
    "from IPython.display import IFrame"
   ]
  },
  {
   "cell_type": "code",
   "execution_count": 778,
   "metadata": {},
   "outputs": [
    {
     "data": {
      "text/html": [
       "\n",
       "        <iframe\n",
       "            width=\"800\"\n",
       "            height=\"800\"\n",
       "            src=\"data/Countries_Cereals_2017_Quantity.html\"\n",
       "            frameborder=\"0\"\n",
       "            allowfullscreen\n",
       "        ></iframe>\n",
       "        "
      ],
      "text/plain": [
       "<IPython.lib.display.IFrame at 0x178adb7a630>"
      ]
     },
     "execution_count": 778,
     "metadata": {},
     "output_type": "execute_result"
    }
   ],
   "source": [
    "IFrame(src='data/Countries_Cereals_2017_Quantity.html', width=800, height=800)"
   ]
  },
  {
   "cell_type": "code",
   "execution_count": 774,
   "metadata": {},
   "outputs": [
    {
     "data": {
      "text/html": [
       "\n",
       "        <iframe\n",
       "            width=\"700\"\n",
       "            height=\"600\"\n",
       "            src=\"data/Countries_Cereals_2017_Profit.html\"\n",
       "            frameborder=\"0\"\n",
       "            allowfullscreen\n",
       "        ></iframe>\n",
       "        "
      ],
      "text/plain": [
       "<IPython.lib.display.IFrame at 0x174d74c3d30>"
      ]
     },
     "execution_count": 774,
     "metadata": {},
     "output_type": "execute_result"
    }
   ],
   "source": [
    "IFrame(src='data/Countries_Cereals_2017_Profit.html', width=700, height=600)"
   ]
  },
  {
   "cell_type": "code",
   "execution_count": null,
   "metadata": {},
   "outputs": [],
   "source": []
  }
 ],
 "metadata": {
  "kernelspec": {
   "display_name": "Python 3",
   "language": "python",
   "name": "python3"
  },
  "language_info": {
   "codemirror_mode": {
    "name": "ipython",
    "version": 3
   },
   "file_extension": ".py",
   "mimetype": "text/x-python",
   "name": "python",
   "nbconvert_exporter": "python",
   "pygments_lexer": "ipython3",
   "version": "3.7.3"
  }
 },
 "nbformat": 4,
 "nbformat_minor": 4
}
