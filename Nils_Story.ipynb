{
 "cells": [
  {
   "cell_type": "code",
   "execution_count": 521,
   "metadata": {},
   "outputs": [],
   "source": [
    "import pickle\n",
    "import pandas as pd\n",
    "import seaborn as sns\n",
    "sns.set_style('darkgrid')\n",
    "import matplotlib.pyplot as plt\n",
    "import numpy as np\n",
    "\n",
    "import plotly.graph_objects as go\n",
    "import plotly.express as px\n",
    "from plotly.subplots import make_subplots\n",
    "import plotly\n",
    "import math"
   ]
  },
  {
   "cell_type": "markdown",
   "metadata": {},
   "source": [
    "## Introduction"
   ]
  },
  {
   "cell_type": "markdown",
   "metadata": {},
   "source": [
    "Load the merged Dataframe"
   ]
  },
  {
   "cell_type": "code",
   "execution_count": 522,
   "metadata": {},
   "outputs": [],
   "source": [
    "df = pd.read_pickle(\"data/final_df.pkl\")"
   ]
  },
  {
   "cell_type": "markdown",
   "metadata": {},
   "source": [
    "Load the extra csv file to be able to regroup the countries by region"
   ]
  },
  {
   "cell_type": "code",
   "execution_count": 523,
   "metadata": {},
   "outputs": [],
   "source": [
    "df_country = pd.read_csv('Data/GroupsCountry.csv')\n",
    "df_country.columns = map(lambda name : name.lower().replace(' ', '_'), df_country.columns) #Column names to lower case"
   ]
  },
  {
   "cell_type": "markdown",
   "metadata": {},
   "source": [
    "Create a dictionnary that regroup all the countries in one country group. Each country group has an unique id ie. 5100 for Africa, 5000 for World, 5500 for Oceania ..."
   ]
  },
  {
   "cell_type": "code",
   "execution_count": 524,
   "metadata": {},
   "outputs": [],
   "source": [
    "dicts = {}\n",
    "keys = df_country['country_group_code'].unique()\n",
    "for i in range(len(list_group)):\n",
    "    dicts[list_group[i]]= df_country[df_country['country_group_code']==list_group[i]]['country_code'].unique()"
   ]
  },
  {
   "cell_type": "code",
   "execution_count": 525,
   "metadata": {},
   "outputs": [],
   "source": [
    "# The key 5000 corresponds to the \"world\", we do that \n",
    "df_world = df[df.area_code.isin(dicts.get(5000))]"
   ]
  },
  {
   "cell_type": "code",
   "execution_count": 526,
   "metadata": {},
   "outputs": [
    {
     "data": {
      "text/html": [
       "<div>\n",
       "<style scoped>\n",
       "    .dataframe tbody tr th:only-of-type {\n",
       "        vertical-align: middle;\n",
       "    }\n",
       "\n",
       "    .dataframe tbody tr th {\n",
       "        vertical-align: top;\n",
       "    }\n",
       "\n",
       "    .dataframe thead th {\n",
       "        text-align: right;\n",
       "    }\n",
       "</style>\n",
       "<table border=\"1\" class=\"dataframe\">\n",
       "  <thead>\n",
       "    <tr style=\"text-align: right;\">\n",
       "      <th></th>\n",
       "      <th>area_code</th>\n",
       "      <th>area_crops</th>\n",
       "      <th>item_crops</th>\n",
       "      <th>year</th>\n",
       "      <th>item_trades</th>\n",
       "      <th>area_harvested</th>\n",
       "      <th>production</th>\n",
       "      <th>yield</th>\n",
       "      <th>export_q</th>\n",
       "      <th>export_v</th>\n",
       "      <th>import_q</th>\n",
       "      <th>import_v</th>\n",
       "      <th>hs12_code</th>\n",
       "      <th>parent_group</th>\n",
       "      <th>child_group</th>\n",
       "      <th>parent_description</th>\n",
       "      <th>child_description</th>\n",
       "      <th>ISO3 Code</th>\n",
       "    </tr>\n",
       "  </thead>\n",
       "  <tbody>\n",
       "    <tr>\n",
       "      <td>0</td>\n",
       "      <td>1</td>\n",
       "      <td>Armenia</td>\n",
       "      <td>Wheat</td>\n",
       "      <td>1992</td>\n",
       "      <td>Wheat</td>\n",
       "      <td>65500.0</td>\n",
       "      <td>141483.0</td>\n",
       "      <td>21600.0</td>\n",
       "      <td>NaN</td>\n",
       "      <td>NaN</td>\n",
       "      <td>400000.0</td>\n",
       "      <td>60000.0</td>\n",
       "      <td>100111</td>\n",
       "      <td>10</td>\n",
       "      <td>1001</td>\n",
       "      <td>Cereals</td>\n",
       "      <td>Wheat and meslin</td>\n",
       "      <td>ARM</td>\n",
       "    </tr>\n",
       "    <tr>\n",
       "      <td>1</td>\n",
       "      <td>1</td>\n",
       "      <td>Armenia</td>\n",
       "      <td>Wheat</td>\n",
       "      <td>1993</td>\n",
       "      <td>Wheat</td>\n",
       "      <td>97900.0</td>\n",
       "      <td>217900.0</td>\n",
       "      <td>22257.0</td>\n",
       "      <td>NaN</td>\n",
       "      <td>NaN</td>\n",
       "      <td>408000.0</td>\n",
       "      <td>59000.0</td>\n",
       "      <td>100111</td>\n",
       "      <td>10</td>\n",
       "      <td>1001</td>\n",
       "      <td>Cereals</td>\n",
       "      <td>Wheat and meslin</td>\n",
       "      <td>ARM</td>\n",
       "    </tr>\n",
       "    <tr>\n",
       "      <td>2</td>\n",
       "      <td>1</td>\n",
       "      <td>Armenia</td>\n",
       "      <td>Wheat</td>\n",
       "      <td>1993</td>\n",
       "      <td>Flour, wheat</td>\n",
       "      <td>97900.0</td>\n",
       "      <td>217900.0</td>\n",
       "      <td>22257.0</td>\n",
       "      <td>NaN</td>\n",
       "      <td>NaN</td>\n",
       "      <td>46000.0</td>\n",
       "      <td>9400.0</td>\n",
       "      <td>100111</td>\n",
       "      <td>10</td>\n",
       "      <td>1001</td>\n",
       "      <td>Cereals</td>\n",
       "      <td>Wheat and meslin</td>\n",
       "      <td>ARM</td>\n",
       "    </tr>\n",
       "    <tr>\n",
       "      <td>3</td>\n",
       "      <td>1</td>\n",
       "      <td>Armenia</td>\n",
       "      <td>Wheat</td>\n",
       "      <td>1994</td>\n",
       "      <td>Wheat</td>\n",
       "      <td>85697.0</td>\n",
       "      <td>152900.0</td>\n",
       "      <td>17842.0</td>\n",
       "      <td>NaN</td>\n",
       "      <td>NaN</td>\n",
       "      <td>327000.0</td>\n",
       "      <td>52000.0</td>\n",
       "      <td>100111</td>\n",
       "      <td>10</td>\n",
       "      <td>1001</td>\n",
       "      <td>Cereals</td>\n",
       "      <td>Wheat and meslin</td>\n",
       "      <td>ARM</td>\n",
       "    </tr>\n",
       "    <tr>\n",
       "      <td>4</td>\n",
       "      <td>1</td>\n",
       "      <td>Armenia</td>\n",
       "      <td>Wheat</td>\n",
       "      <td>1994</td>\n",
       "      <td>Flour, wheat</td>\n",
       "      <td>85697.0</td>\n",
       "      <td>152900.0</td>\n",
       "      <td>17842.0</td>\n",
       "      <td>NaN</td>\n",
       "      <td>NaN</td>\n",
       "      <td>55000.0</td>\n",
       "      <td>14700.0</td>\n",
       "      <td>100111</td>\n",
       "      <td>10</td>\n",
       "      <td>1001</td>\n",
       "      <td>Cereals</td>\n",
       "      <td>Wheat and meslin</td>\n",
       "      <td>ARM</td>\n",
       "    </tr>\n",
       "  </tbody>\n",
       "</table>\n",
       "</div>"
      ],
      "text/plain": [
       "   area_code area_crops item_crops  year   item_trades  area_harvested  \\\n",
       "0          1    Armenia      Wheat  1992         Wheat         65500.0   \n",
       "1          1    Armenia      Wheat  1993         Wheat         97900.0   \n",
       "2          1    Armenia      Wheat  1993  Flour, wheat         97900.0   \n",
       "3          1    Armenia      Wheat  1994         Wheat         85697.0   \n",
       "4          1    Armenia      Wheat  1994  Flour, wheat         85697.0   \n",
       "\n",
       "   production    yield  export_q  export_v  import_q  import_v hs12_code  \\\n",
       "0    141483.0  21600.0       NaN       NaN  400000.0   60000.0    100111   \n",
       "1    217900.0  22257.0       NaN       NaN  408000.0   59000.0    100111   \n",
       "2    217900.0  22257.0       NaN       NaN   46000.0    9400.0    100111   \n",
       "3    152900.0  17842.0       NaN       NaN  327000.0   52000.0    100111   \n",
       "4    152900.0  17842.0       NaN       NaN   55000.0   14700.0    100111   \n",
       "\n",
       "  parent_group child_group parent_description child_description ISO3 Code  \n",
       "0           10        1001            Cereals  Wheat and meslin       ARM  \n",
       "1           10        1001            Cereals  Wheat and meslin       ARM  \n",
       "2           10        1001            Cereals  Wheat and meslin       ARM  \n",
       "3           10        1001            Cereals  Wheat and meslin       ARM  \n",
       "4           10        1001            Cereals  Wheat and meslin       ARM  "
      ]
     },
     "execution_count": 526,
     "metadata": {},
     "output_type": "execute_result"
    }
   ],
   "source": [
    "df_world.head()"
   ]
  },
  {
   "cell_type": "code",
   "execution_count": 527,
   "metadata": {},
   "outputs": [],
   "source": [
    "# Creation of the dataset to analyze the production\n",
    "df_world_unique = df_world.drop_duplicates(subset=['area_crops','item_crops','year'],keep='first')"
   ]
  },
  {
   "cell_type": "code",
   "execution_count": 528,
   "metadata": {},
   "outputs": [],
   "source": [
    "# Group the dataframe by parent_group (categories are presented below)\n",
    "df_groups = df_world_unique.groupby(['parent_group','year']).sum().reset_index()\n",
    "df_groups_norm = df_groups.pivot(index='year', columns='parent_group', values='production').reset_index()"
   ]
  },
  {
   "cell_type": "markdown",
   "metadata": {},
   "source": [
    "List of all the main categories : \n",
    "\n",
    "- 02 : Meat and edible meat offal\n",
    "- 04 : Dairy produce; birds' eggs; natural honey; edible products of animal origin, not elsewhere -specified or included\n",
    "- 05 : Animal originated products; not elsewhere specified or included\n",
    "- 07 : Vegetables and certain roots and tubers; edible\n",
    "- 08 : Fruit and nuts, edible; peel of citrus fruit or melons  \n",
    "- 09 : Coffee, tea, mate and spices\n",
    "- 10 : Cereals\n",
    "- 11 : Products of the milling industry; malt, starches, inulin, wheat gluten\n",
    "- 12 : Oil seeds and oleaginous fruits; miscellaneous grains, seeds and fruit, industrial or medicinal plants; straw and fodder\n",
    "- 14 : Vegetable plaiting materials; vegetable products not elsewhere specified or included\n",
    "- 15 : Animal or vegetable fats and oils and their cleavage products; prepared animal fats; animal or vegetable waxes\n",
    "- 16 : Meat, fish or crustaceans, molluscs or other aquatic invertebrates; preparations thereof\n",
    "- 17 : Sugars and sugar confectionery\n",
    "- 18 : Cocoa and cocoa preparations\n",
    "- 19 : Preparations of cereals, flour, starch or milk; pastrycooks' products\n",
    "- 20 : Preparations of vegetables, fruit, nuts or other parts of plants\n",
    "- 21 : Miscellaneous edible preparations\n",
    "- 22 : Beverages, spirits and vinegar \n",
    "- 23 : Food industries, residues and wastes thereof; prepared animal fodder\n",
    "- 24 : Tobacco and manufactured tobacco substitutes\n",
    "- 38 : Chemical products n.e.c.\n",
    "- 40 : Rubber and articles thereof\n",
    "- 41 : Raw hides and skins (other than furskins) and leather\n",
    "- 50 : Silk\n",
    "- 51 : Wool, fine or coarse animal hair; horsehair yarn and woven fabric\n",
    "- 52 : Cotton\n",
    "- 53 : Vegetable textile fibres; paper yarn and woven fabrics of paper yarn"
   ]
  },
  {
   "cell_type": "code",
   "execution_count": 529,
   "metadata": {},
   "outputs": [],
   "source": [
    "# Import World population\n",
    "WorldPopulation = pd.read_excel('data/WorldPopulation.xlsx').sort_values(by='Year').reset_index().drop('index',axis=1)"
   ]
  },
  {
   "cell_type": "markdown",
   "metadata": {},
   "source": [
    "**Plot the evolution of the production for each grop of crops and the world population:**"
   ]
  },
  {
   "cell_type": "code",
   "execution_count": 530,
   "metadata": {},
   "outputs": [],
   "source": [
    "df_groups_px = df_groups.pivot(index='year', columns='parent_group', values='production').reset_index()"
   ]
  },
  {
   "cell_type": "code",
   "execution_count": 531,
   "metadata": {},
   "outputs": [],
   "source": [
    "parent_group_legend = ['Vegetables','Fruit and nuts','Coffee, tea, mate','Cereals','Oil seeds',\n",
    "       'Cocoa','Tobacco','Rubber','Vegetable textile fibres']\n",
    "list_parent_group = ['07','08','09','10','12','18','24','40','53']"
   ]
  },
  {
   "cell_type": "code",
   "execution_count": 532,
   "metadata": {},
   "outputs": [
    {
     "data": {
      "application/vnd.plotly.v1+json": {
       "config": {
        "plotlyServerURL": "https://plot.ly"
       },
       "data": [
        {
         "name": "Vegetables",
         "type": "scatter",
         "x": [
          1961,
          1962,
          1963,
          1964,
          1965,
          1966,
          1967,
          1968,
          1969,
          1970,
          1971,
          1972,
          1973,
          1974,
          1975,
          1976,
          1977,
          1978,
          1979,
          1980,
          1981,
          1982,
          1983,
          1984,
          1985,
          1986,
          1987,
          1988,
          1989,
          1990,
          1991,
          1992,
          1993,
          1994,
          1995,
          1996,
          1997,
          1998,
          1999,
          2000,
          2001,
          2002,
          2003,
          2004,
          2005,
          2006,
          2007,
          2008,
          2009,
          2010,
          2011,
          2012,
          2013,
          2014,
          2015,
          2016,
          2017
         ],
         "xaxis": "x",
         "y": [
          629266096,
          626569980,
          640337464,
          656466100,
          660962400,
          684802951,
          707664111,
          726284401,
          711282303,
          742768372,
          726157692,
          711360463,
          790104839,
          760655473,
          756623976,
          756900074,
          788219801,
          828334892,
          817913298,
          765453983,
          794311183,
          815176500,
          830544249,
          878150825,
          866572819,
          887469144,
          903977982,
          893494865,
          921340225,
          920086454,
          909307107,
          932728698,
          999429365,
          990160551,
          1038692715,
          1104550909,
          1089369659,
          1120965574,
          1179679815,
          1278680677,
          1281463141,
          1307173169,
          1334441833,
          1372723506,
          1382859160,
          1385263792,
          1492779834,
          1544271078,
          1579012716,
          1607445802,
          1696849335,
          1741174444,
          1777529601,
          1834905822,
          1856247669,
          1884043410,
          1928446482
         ],
         "yaxis": "y"
        },
        {
         "name": "Fruit and nuts",
         "type": "scatter",
         "x": [
          1961,
          1962,
          1963,
          1964,
          1965,
          1966,
          1967,
          1968,
          1969,
          1970,
          1971,
          1972,
          1973,
          1974,
          1975,
          1976,
          1977,
          1978,
          1979,
          1980,
          1981,
          1982,
          1983,
          1984,
          1985,
          1986,
          1987,
          1988,
          1989,
          1990,
          1991,
          1992,
          1993,
          1994,
          1995,
          1996,
          1997,
          1998,
          1999,
          2000,
          2001,
          2002,
          2003,
          2004,
          2005,
          2006,
          2007,
          2008,
          2009,
          2010,
          2011,
          2012,
          2013,
          2014,
          2015,
          2016,
          2017
         ],
         "xaxis": "x",
         "y": [
          193506328,
          212160446,
          207613156,
          217412144,
          225039422,
          227661928,
          236611377,
          242852170,
          244505960,
          252270488,
          259658150,
          258007838,
          276597972,
          275449532,
          284102300,
          293910308,
          286801876,
          296791508,
          317482343,
          326534790,
          326773239,
          341743226,
          341521267,
          340998061,
          375839832,
          398489653,
          401824839,
          401721096,
          410664596,
          410968931,
          412204903,
          444196991,
          459436062,
          467589611,
          487010351,
          514897779,
          544614780,
          543317500,
          580733790,
          598161687,
          613792642,
          632776256,
          646051105,
          672909942,
          694195956,
          721364129,
          741140886,
          760921675,
          778465807,
          795970003,
          820660148,
          839536606,
          872246813,
          883578060,
          895299878,
          907258536,
          919289501
         ],
         "yaxis": "y"
        },
        {
         "name": "Coffee, tea, mate",
         "type": "scatter",
         "x": [
          1961,
          1962,
          1963,
          1964,
          1965,
          1966,
          1967,
          1968,
          1969,
          1970,
          1971,
          1972,
          1973,
          1974,
          1975,
          1976,
          1977,
          1978,
          1979,
          1980,
          1981,
          1982,
          1983,
          1984,
          1985,
          1986,
          1987,
          1988,
          1989,
          1990,
          1991,
          1992,
          1993,
          1994,
          1995,
          1996,
          1997,
          1998,
          1999,
          2000,
          2001,
          2002,
          2003,
          2004,
          2005,
          2006,
          2007,
          2008,
          2009,
          2010,
          2011,
          2012,
          2013,
          2014,
          2015,
          2016,
          2017
         ],
         "xaxis": "x",
         "y": [
          6612024,
          6800071,
          6515976,
          6157514,
          7277612,
          6533834,
          6902539,
          6539720,
          6879704,
          6665586,
          7490113,
          7489610,
          7274368,
          7828280,
          7858706,
          6814298,
          8177225,
          8627719,
          8859967,
          8918400,
          10220329,
          9283210,
          10091007,
          9997150,
          11038335,
          10372418,
          11559222,
          11248997,
          11626135,
          11857082,
          12272293,
          12608638,
          12380196,
          12291736,
          12369725,
          13538042,
          13547110,
          14796787,
          15272763,
          16024132,
          16444073,
          16992092,
          16679051,
          17451617,
          17401779,
          18438375,
          19122103,
          19607087,
          19000245,
          20171017,
          21162551,
          22137861,
          22726698,
          23027192,
          24230736,
          25260650,
          26176558
         ],
         "yaxis": "y"
        },
        {
         "name": "Cereals",
         "type": "scatter",
         "x": [
          1961,
          1962,
          1963,
          1964,
          1965,
          1966,
          1967,
          1968,
          1969,
          1970,
          1971,
          1972,
          1973,
          1974,
          1975,
          1976,
          1977,
          1978,
          1979,
          1980,
          1981,
          1982,
          1983,
          1984,
          1985,
          1986,
          1987,
          1988,
          1989,
          1990,
          1991,
          1992,
          1993,
          1994,
          1995,
          1996,
          1997,
          1998,
          1999,
          2000,
          2001,
          2002,
          2003,
          2004,
          2005,
          2006,
          2007,
          2008,
          2009,
          2010,
          2011,
          2012,
          2013,
          2014,
          2015,
          2016,
          2017
         ],
         "xaxis": "x",
         "y": [
          868008875,
          924483599,
          941711917,
          991744666,
          990067736,
          1069303765,
          1114904116,
          1151685075,
          1161468538,
          1183950679,
          1291077876,
          1250054278,
          1346565607,
          1317925145,
          1353580360,
          1455357997,
          1449096372,
          1574542697,
          1530831719,
          1542566754,
          1625420309,
          1684781663,
          1619047854,
          1779613308,
          1813221557,
          1826749568,
          1762430625,
          1719851453,
          1862153629,
          1943035637,
          1882416696,
          1961485655,
          1896120742,
          1939547790,
          1890092111,
          2053071131,
          2086385971,
          2076686361,
          2073757710,
          2053810422,
          2099911470,
          2048748678,
          2068902018,
          2280446168,
          2259505987,
          2249641267,
          2341864409,
          2515335648,
          2484927500,
          2458196819,
          2581182343,
          2555176073,
          2760606981,
          2806106539,
          2846510986,
          2896853091,
          2967778898
         ],
         "yaxis": "y"
        },
        {
         "name": "Oil seeds",
         "type": "scatter",
         "x": [
          1961,
          1962,
          1963,
          1964,
          1965,
          1966,
          1967,
          1968,
          1969,
          1970,
          1971,
          1972,
          1973,
          1974,
          1975,
          1976,
          1977,
          1978,
          1979,
          1980,
          1981,
          1982,
          1983,
          1984,
          1985,
          1986,
          1987,
          1988,
          1989,
          1990,
          1991,
          1992,
          1993,
          1994,
          1995,
          1996,
          1997,
          1998,
          1999,
          2000,
          2001,
          2002,
          2003,
          2004,
          2005,
          2006,
          2007,
          2008,
          2009,
          2010,
          2011,
          2012,
          2013,
          2014,
          2015,
          2016,
          2017
         ],
         "xaxis": "x",
         "y": [
          155360281,
          151544777,
          171196370,
          187091152,
          180880359,
          197969122,
          207663880,
          219262967,
          214977339,
          219385624,
          233215373,
          236299889,
          252087126,
          240378349,
          277946288,
          279535235,
          298670345,
          298931933,
          312351956,
          305285188,
          353792056,
          354156426,
          311386983,
          346040019,
          355058171,
          356834341,
          367531549,
          360174111,
          383906956,
          396434544,
          392723785,
          446363861,
          447286183,
          435800612,
          439157529,
          465986699,
          507117256,
          525089526,
          530738988,
          519745504,
          508161945,
          541506023,
          532396957,
          575744677,
          597963781,
          599098091,
          590433994,
          594253856,
          594006221,
          638739191,
          696406609,
          664158428,
          702607261,
          752773184,
          736274432,
          784674416,
          837630616
         ],
         "yaxis": "y"
        },
        {
         "name": "Cocoa",
         "type": "scatter",
         "x": [
          1961,
          1962,
          1963,
          1964,
          1965,
          1966,
          1967,
          1968,
          1969,
          1970,
          1971,
          1972,
          1973,
          1974,
          1975,
          1976,
          1977,
          1978,
          1979,
          1980,
          1981,
          1982,
          1983,
          1984,
          1985,
          1986,
          1987,
          1988,
          1989,
          1990,
          1991,
          1992,
          1993,
          1994,
          1995,
          1996,
          1997,
          1998,
          1999,
          2000,
          2001,
          2002,
          2003,
          2004,
          2005,
          2006,
          2007,
          2008,
          2009,
          2010,
          2011,
          2012,
          2013,
          2014,
          2015,
          2016,
          2017
         ],
         "xaxis": "x",
         "y": [
          1186164,
          1213239,
          1280116,
          1544399,
          1228939,
          1344197,
          1390336,
          1246428,
          1418717,
          1543348,
          1638800,
          1510670,
          1402028,
          1556404,
          1561591,
          1366478,
          1452499,
          1495368,
          1659904,
          1670664,
          1735287,
          1615353,
          1604638,
          1810586,
          2013930,
          2118385,
          2055860,
          2563334,
          2641010,
          2532132,
          2521935,
          2677029,
          2672285,
          2671270,
          2985733,
          3237639,
          3017051,
          3302606,
          2975312,
          3338315,
          3222420,
          3298071,
          3705062,
          4069676,
          4043909,
          4299865,
          3898929,
          4265879,
          4211292,
          4329304,
          4614837,
          4613384,
          4484796,
          4710222,
          4791708,
          4658994,
          5201077
         ],
         "yaxis": "y"
        },
        {
         "name": "Tobacco",
         "type": "scatter",
         "x": [
          1961,
          1962,
          1963,
          1964,
          1965,
          1966,
          1967,
          1968,
          1969,
          1970,
          1971,
          1972,
          1973,
          1974,
          1975,
          1976,
          1977,
          1978,
          1979,
          1980,
          1981,
          1982,
          1983,
          1984,
          1985,
          1986,
          1987,
          1988,
          1989,
          1990,
          1991,
          1992,
          1993,
          1994,
          1995,
          1996,
          1997,
          1998,
          1999,
          2000,
          2001,
          2002,
          2003,
          2004,
          2005,
          2006,
          2007,
          2008,
          2009,
          2010,
          2011,
          2012,
          2013,
          2014,
          2015,
          2016,
          2017
         ],
         "xaxis": "x",
         "y": [
          3561020,
          3921729,
          4249642,
          4646174,
          4338386,
          4583890,
          4885858,
          4760917,
          4671555,
          4660128,
          4565178,
          4931220,
          4946894,
          5296176,
          5416564,
          5730764,
          5580614,
          5985926,
          5432431,
          5257187,
          5980514,
          6948084,
          5987433,
          6553804,
          7048632,
          6007544,
          6177630,
          6839479,
          7065217,
          7137504,
          7555080,
          8327233,
          8339400,
          6450889,
          6269742,
          7393347,
          8944123,
          6879301,
          6970695,
          6686383,
          6105175,
          6409521,
          5998432,
          6558214,
          6721268,
          6542254,
          6165553,
          6647499,
          7142330,
          6944832,
          7481128,
          7593913,
          7606699,
          7305105,
          6838641,
          6398885,
          6501611
         ],
         "yaxis": "y"
        },
        {
         "name": "Rubber",
         "type": "scatter",
         "x": [
          1961,
          1962,
          1963,
          1964,
          1965,
          1966,
          1967,
          1968,
          1969,
          1970,
          1971,
          1972,
          1973,
          1974,
          1975,
          1976,
          1977,
          1978,
          1979,
          1980,
          1981,
          1982,
          1983,
          1984,
          1985,
          1986,
          1987,
          1988,
          1989,
          1990,
          1991,
          1992,
          1993,
          1994,
          1995,
          1996,
          1997,
          1998,
          1999,
          2000,
          2001,
          2002,
          2003,
          2004,
          2005,
          2006,
          2007,
          2008,
          2009,
          2010,
          2011,
          2012,
          2013,
          2014,
          2015,
          2016,
          2017
         ],
         "xaxis": "x",
         "y": [
          2082019,
          2120092,
          2183599,
          2250956,
          2325253,
          2412385,
          2414250,
          2617789,
          2850436,
          2901996,
          2947721,
          2971712,
          3316656,
          3286981,
          3169311,
          3464591,
          3478057,
          3534435,
          3650971,
          3601785,
          3591083,
          3572181,
          3821740,
          3869822,
          4242001,
          4612328,
          4820852,
          5110874,
          5134102,
          5214364,
          5171962,
          5407428,
          5594534,
          5809548,
          6067753,
          6335260,
          6502153,
          6557727,
          6721422,
          7083048,
          7471708,
          7707146,
          8398302,
          9248750,
          9511138,
          10360193,
          10591048,
          10737558,
          10255513,
          10824704,
          11578102,
          12645063,
          12988701,
          13246060,
          13255767,
          13480593,
          14236366
         ],
         "yaxis": "y"
        },
        {
         "name": "Vegetable textile fibres",
         "type": "scatter",
         "x": [
          1961,
          1962,
          1963,
          1964,
          1965,
          1966,
          1967,
          1968,
          1969,
          1970,
          1971,
          1972,
          1973,
          1974,
          1975,
          1976,
          1977,
          1978,
          1979,
          1980,
          1981,
          1982,
          1983,
          1984,
          1985,
          1986,
          1987,
          1988,
          1989,
          1990,
          1991,
          1992,
          1993,
          1994,
          1995,
          1996,
          1997,
          1998,
          1999,
          2000,
          2001,
          2002,
          2003,
          2004,
          2005,
          2006,
          2007,
          2008,
          2009,
          2010,
          2011,
          2012,
          2013,
          2014,
          2015,
          2016,
          2017
         ],
         "xaxis": "x",
         "y": [
          3382303,
          3146312,
          3191133,
          3078433,
          3214370,
          3307027,
          3484294,
          2578169,
          3443998,
          3144392,
          2865173,
          3192845,
          3420528,
          2666855,
          2803654,
          3122261,
          3218841,
          3586218,
          3417039,
          3325633,
          3330688,
          3088595,
          3373554,
          3520129,
          5310409,
          4255601,
          3772210,
          3531342,
          3459745,
          3523420,
          4000598,
          3558848,
          3374699,
          3595613,
          3492083,
          3881326,
          3951986,
          3352816,
          3437613,
          3560862,
          3849203,
          4139388,
          4098442,
          4108114,
          4355611,
          4055941,
          3808620,
          3747095,
          3783450,
          3511987,
          4151870,
          4251075,
          4174388,
          4225602,
          4074212,
          4190018,
          4374047
         ],
         "yaxis": "y"
        },
        {
         "name": "World Population",
         "type": "scatter",
         "x": [
          1961,
          1962,
          1963,
          1964,
          1965,
          1966,
          1967,
          1968,
          1969,
          1970,
          1971,
          1972,
          1973,
          1974,
          1975,
          1976,
          1977,
          1978,
          1979,
          1980,
          1981,
          1982,
          1983,
          1984,
          1985,
          1986,
          1987,
          1988,
          1989,
          1990,
          1991,
          1992,
          1993,
          1994,
          1995,
          1996,
          1997,
          1998,
          1999,
          2000,
          2001,
          2002,
          2003,
          2004,
          2005,
          2006,
          2007,
          2008,
          2009,
          2010,
          2011,
          2012,
          2013,
          2014,
          2015,
          2016,
          2017
         ],
         "xaxis": "x",
         "y": [
          3091843507,
          3150420795,
          3211001009,
          3273978338,
          3339583597,
          3407922630,
          3478769962,
          3551599127,
          3625680627,
          3700437046,
          3775759617,
          3851650245,
          3927780238,
          4003794172,
          4079480606,
          4154666864,
          4229506060,
          4304533501,
          4380506100,
          4458003514,
          4536996762,
          4617386542,
          4699569304,
          4784011621,
          4870921740,
          4960567912,
          5052522147,
          5145426008,
          5237441558,
          5327231061,
          5414289444,
          5498919809,
          5581597546,
          5663150427,
          5744212979,
          5824891951,
          5905045788,
          5984793942,
          6064239055,
          6143493823,
          6222626606,
          6301773188,
          6381185114,
          6461159389,
          6541907027,
          6623517833,
          6705946610,
          6789088686,
          6872767093,
          6956823603,
          7041194301,
          7125828059,
          7210581976,
          7295290765,
          7379797139,
          7464022049,
          7547858925
         ],
         "yaxis": "y2"
        }
       ],
       "layout": {
        "legend": {
         "font": {
          "size": 10
         }
        },
        "template": {
         "data": {
          "bar": [
           {
            "error_x": {
             "color": "#2a3f5f"
            },
            "error_y": {
             "color": "#2a3f5f"
            },
            "marker": {
             "line": {
              "color": "#E5ECF6",
              "width": 0.5
             }
            },
            "type": "bar"
           }
          ],
          "barpolar": [
           {
            "marker": {
             "line": {
              "color": "#E5ECF6",
              "width": 0.5
             }
            },
            "type": "barpolar"
           }
          ],
          "carpet": [
           {
            "aaxis": {
             "endlinecolor": "#2a3f5f",
             "gridcolor": "white",
             "linecolor": "white",
             "minorgridcolor": "white",
             "startlinecolor": "#2a3f5f"
            },
            "baxis": {
             "endlinecolor": "#2a3f5f",
             "gridcolor": "white",
             "linecolor": "white",
             "minorgridcolor": "white",
             "startlinecolor": "#2a3f5f"
            },
            "type": "carpet"
           }
          ],
          "choropleth": [
           {
            "colorbar": {
             "outlinewidth": 0,
             "ticks": ""
            },
            "type": "choropleth"
           }
          ],
          "contour": [
           {
            "colorbar": {
             "outlinewidth": 0,
             "ticks": ""
            },
            "colorscale": [
             [
              0,
              "#0d0887"
             ],
             [
              0.1111111111111111,
              "#46039f"
             ],
             [
              0.2222222222222222,
              "#7201a8"
             ],
             [
              0.3333333333333333,
              "#9c179e"
             ],
             [
              0.4444444444444444,
              "#bd3786"
             ],
             [
              0.5555555555555556,
              "#d8576b"
             ],
             [
              0.6666666666666666,
              "#ed7953"
             ],
             [
              0.7777777777777778,
              "#fb9f3a"
             ],
             [
              0.8888888888888888,
              "#fdca26"
             ],
             [
              1,
              "#f0f921"
             ]
            ],
            "type": "contour"
           }
          ],
          "contourcarpet": [
           {
            "colorbar": {
             "outlinewidth": 0,
             "ticks": ""
            },
            "type": "contourcarpet"
           }
          ],
          "heatmap": [
           {
            "colorbar": {
             "outlinewidth": 0,
             "ticks": ""
            },
            "colorscale": [
             [
              0,
              "#0d0887"
             ],
             [
              0.1111111111111111,
              "#46039f"
             ],
             [
              0.2222222222222222,
              "#7201a8"
             ],
             [
              0.3333333333333333,
              "#9c179e"
             ],
             [
              0.4444444444444444,
              "#bd3786"
             ],
             [
              0.5555555555555556,
              "#d8576b"
             ],
             [
              0.6666666666666666,
              "#ed7953"
             ],
             [
              0.7777777777777778,
              "#fb9f3a"
             ],
             [
              0.8888888888888888,
              "#fdca26"
             ],
             [
              1,
              "#f0f921"
             ]
            ],
            "type": "heatmap"
           }
          ],
          "heatmapgl": [
           {
            "colorbar": {
             "outlinewidth": 0,
             "ticks": ""
            },
            "colorscale": [
             [
              0,
              "#0d0887"
             ],
             [
              0.1111111111111111,
              "#46039f"
             ],
             [
              0.2222222222222222,
              "#7201a8"
             ],
             [
              0.3333333333333333,
              "#9c179e"
             ],
             [
              0.4444444444444444,
              "#bd3786"
             ],
             [
              0.5555555555555556,
              "#d8576b"
             ],
             [
              0.6666666666666666,
              "#ed7953"
             ],
             [
              0.7777777777777778,
              "#fb9f3a"
             ],
             [
              0.8888888888888888,
              "#fdca26"
             ],
             [
              1,
              "#f0f921"
             ]
            ],
            "type": "heatmapgl"
           }
          ],
          "histogram": [
           {
            "marker": {
             "colorbar": {
              "outlinewidth": 0,
              "ticks": ""
             }
            },
            "type": "histogram"
           }
          ],
          "histogram2d": [
           {
            "colorbar": {
             "outlinewidth": 0,
             "ticks": ""
            },
            "colorscale": [
             [
              0,
              "#0d0887"
             ],
             [
              0.1111111111111111,
              "#46039f"
             ],
             [
              0.2222222222222222,
              "#7201a8"
             ],
             [
              0.3333333333333333,
              "#9c179e"
             ],
             [
              0.4444444444444444,
              "#bd3786"
             ],
             [
              0.5555555555555556,
              "#d8576b"
             ],
             [
              0.6666666666666666,
              "#ed7953"
             ],
             [
              0.7777777777777778,
              "#fb9f3a"
             ],
             [
              0.8888888888888888,
              "#fdca26"
             ],
             [
              1,
              "#f0f921"
             ]
            ],
            "type": "histogram2d"
           }
          ],
          "histogram2dcontour": [
           {
            "colorbar": {
             "outlinewidth": 0,
             "ticks": ""
            },
            "colorscale": [
             [
              0,
              "#0d0887"
             ],
             [
              0.1111111111111111,
              "#46039f"
             ],
             [
              0.2222222222222222,
              "#7201a8"
             ],
             [
              0.3333333333333333,
              "#9c179e"
             ],
             [
              0.4444444444444444,
              "#bd3786"
             ],
             [
              0.5555555555555556,
              "#d8576b"
             ],
             [
              0.6666666666666666,
              "#ed7953"
             ],
             [
              0.7777777777777778,
              "#fb9f3a"
             ],
             [
              0.8888888888888888,
              "#fdca26"
             ],
             [
              1,
              "#f0f921"
             ]
            ],
            "type": "histogram2dcontour"
           }
          ],
          "mesh3d": [
           {
            "colorbar": {
             "outlinewidth": 0,
             "ticks": ""
            },
            "type": "mesh3d"
           }
          ],
          "parcoords": [
           {
            "line": {
             "colorbar": {
              "outlinewidth": 0,
              "ticks": ""
             }
            },
            "type": "parcoords"
           }
          ],
          "pie": [
           {
            "automargin": true,
            "type": "pie"
           }
          ],
          "scatter": [
           {
            "marker": {
             "colorbar": {
              "outlinewidth": 0,
              "ticks": ""
             }
            },
            "type": "scatter"
           }
          ],
          "scatter3d": [
           {
            "line": {
             "colorbar": {
              "outlinewidth": 0,
              "ticks": ""
             }
            },
            "marker": {
             "colorbar": {
              "outlinewidth": 0,
              "ticks": ""
             }
            },
            "type": "scatter3d"
           }
          ],
          "scattercarpet": [
           {
            "marker": {
             "colorbar": {
              "outlinewidth": 0,
              "ticks": ""
             }
            },
            "type": "scattercarpet"
           }
          ],
          "scattergeo": [
           {
            "marker": {
             "colorbar": {
              "outlinewidth": 0,
              "ticks": ""
             }
            },
            "type": "scattergeo"
           }
          ],
          "scattergl": [
           {
            "marker": {
             "colorbar": {
              "outlinewidth": 0,
              "ticks": ""
             }
            },
            "type": "scattergl"
           }
          ],
          "scattermapbox": [
           {
            "marker": {
             "colorbar": {
              "outlinewidth": 0,
              "ticks": ""
             }
            },
            "type": "scattermapbox"
           }
          ],
          "scatterpolar": [
           {
            "marker": {
             "colorbar": {
              "outlinewidth": 0,
              "ticks": ""
             }
            },
            "type": "scatterpolar"
           }
          ],
          "scatterpolargl": [
           {
            "marker": {
             "colorbar": {
              "outlinewidth": 0,
              "ticks": ""
             }
            },
            "type": "scatterpolargl"
           }
          ],
          "scatterternary": [
           {
            "marker": {
             "colorbar": {
              "outlinewidth": 0,
              "ticks": ""
             }
            },
            "type": "scatterternary"
           }
          ],
          "surface": [
           {
            "colorbar": {
             "outlinewidth": 0,
             "ticks": ""
            },
            "colorscale": [
             [
              0,
              "#0d0887"
             ],
             [
              0.1111111111111111,
              "#46039f"
             ],
             [
              0.2222222222222222,
              "#7201a8"
             ],
             [
              0.3333333333333333,
              "#9c179e"
             ],
             [
              0.4444444444444444,
              "#bd3786"
             ],
             [
              0.5555555555555556,
              "#d8576b"
             ],
             [
              0.6666666666666666,
              "#ed7953"
             ],
             [
              0.7777777777777778,
              "#fb9f3a"
             ],
             [
              0.8888888888888888,
              "#fdca26"
             ],
             [
              1,
              "#f0f921"
             ]
            ],
            "type": "surface"
           }
          ],
          "table": [
           {
            "cells": {
             "fill": {
              "color": "#EBF0F8"
             },
             "line": {
              "color": "white"
             }
            },
            "header": {
             "fill": {
              "color": "#C8D4E3"
             },
             "line": {
              "color": "white"
             }
            },
            "type": "table"
           }
          ]
         },
         "layout": {
          "annotationdefaults": {
           "arrowcolor": "#2a3f5f",
           "arrowhead": 0,
           "arrowwidth": 1
          },
          "coloraxis": {
           "colorbar": {
            "outlinewidth": 0,
            "ticks": ""
           }
          },
          "colorscale": {
           "diverging": [
            [
             0,
             "#8e0152"
            ],
            [
             0.1,
             "#c51b7d"
            ],
            [
             0.2,
             "#de77ae"
            ],
            [
             0.3,
             "#f1b6da"
            ],
            [
             0.4,
             "#fde0ef"
            ],
            [
             0.5,
             "#f7f7f7"
            ],
            [
             0.6,
             "#e6f5d0"
            ],
            [
             0.7,
             "#b8e186"
            ],
            [
             0.8,
             "#7fbc41"
            ],
            [
             0.9,
             "#4d9221"
            ],
            [
             1,
             "#276419"
            ]
           ],
           "sequential": [
            [
             0,
             "#0d0887"
            ],
            [
             0.1111111111111111,
             "#46039f"
            ],
            [
             0.2222222222222222,
             "#7201a8"
            ],
            [
             0.3333333333333333,
             "#9c179e"
            ],
            [
             0.4444444444444444,
             "#bd3786"
            ],
            [
             0.5555555555555556,
             "#d8576b"
            ],
            [
             0.6666666666666666,
             "#ed7953"
            ],
            [
             0.7777777777777778,
             "#fb9f3a"
            ],
            [
             0.8888888888888888,
             "#fdca26"
            ],
            [
             1,
             "#f0f921"
            ]
           ],
           "sequentialminus": [
            [
             0,
             "#0d0887"
            ],
            [
             0.1111111111111111,
             "#46039f"
            ],
            [
             0.2222222222222222,
             "#7201a8"
            ],
            [
             0.3333333333333333,
             "#9c179e"
            ],
            [
             0.4444444444444444,
             "#bd3786"
            ],
            [
             0.5555555555555556,
             "#d8576b"
            ],
            [
             0.6666666666666666,
             "#ed7953"
            ],
            [
             0.7777777777777778,
             "#fb9f3a"
            ],
            [
             0.8888888888888888,
             "#fdca26"
            ],
            [
             1,
             "#f0f921"
            ]
           ]
          },
          "colorway": [
           "#636efa",
           "#EF553B",
           "#00cc96",
           "#ab63fa",
           "#FFA15A",
           "#19d3f3",
           "#FF6692",
           "#B6E880",
           "#FF97FF",
           "#FECB52"
          ],
          "font": {
           "color": "#2a3f5f"
          },
          "geo": {
           "bgcolor": "white",
           "lakecolor": "white",
           "landcolor": "#E5ECF6",
           "showlakes": true,
           "showland": true,
           "subunitcolor": "white"
          },
          "hoverlabel": {
           "align": "left"
          },
          "hovermode": "closest",
          "mapbox": {
           "style": "light"
          },
          "paper_bgcolor": "white",
          "plot_bgcolor": "#E5ECF6",
          "polar": {
           "angularaxis": {
            "gridcolor": "white",
            "linecolor": "white",
            "ticks": ""
           },
           "bgcolor": "#E5ECF6",
           "radialaxis": {
            "gridcolor": "white",
            "linecolor": "white",
            "ticks": ""
           }
          },
          "scene": {
           "xaxis": {
            "backgroundcolor": "#E5ECF6",
            "gridcolor": "white",
            "gridwidth": 2,
            "linecolor": "white",
            "showbackground": true,
            "ticks": "",
            "zerolinecolor": "white"
           },
           "yaxis": {
            "backgroundcolor": "#E5ECF6",
            "gridcolor": "white",
            "gridwidth": 2,
            "linecolor": "white",
            "showbackground": true,
            "ticks": "",
            "zerolinecolor": "white"
           },
           "zaxis": {
            "backgroundcolor": "#E5ECF6",
            "gridcolor": "white",
            "gridwidth": 2,
            "linecolor": "white",
            "showbackground": true,
            "ticks": "",
            "zerolinecolor": "white"
           }
          },
          "shapedefaults": {
           "line": {
            "color": "#2a3f5f"
           }
          },
          "ternary": {
           "aaxis": {
            "gridcolor": "white",
            "linecolor": "white",
            "ticks": ""
           },
           "baxis": {
            "gridcolor": "white",
            "linecolor": "white",
            "ticks": ""
           },
           "bgcolor": "#E5ECF6",
           "caxis": {
            "gridcolor": "white",
            "linecolor": "white",
            "ticks": ""
           }
          },
          "title": {
           "x": 0.05
          },
          "xaxis": {
           "automargin": true,
           "gridcolor": "white",
           "linecolor": "white",
           "ticks": "",
           "title": {
            "standoff": 15
           },
           "zerolinecolor": "white",
           "zerolinewidth": 2
          },
          "yaxis": {
           "automargin": true,
           "gridcolor": "white",
           "linecolor": "white",
           "ticks": "",
           "title": {
            "standoff": 15
           },
           "zerolinecolor": "white",
           "zerolinewidth": 2
          }
         }
        },
        "title": {
         "text": "Production of Crops per Category"
        },
        "xaxis": {
         "anchor": "y",
         "domain": [
          0,
          0.94
         ]
        },
        "yaxis": {
         "anchor": "x",
         "domain": [
          0,
          1
         ],
         "range": [
          0,
          8000000000
         ],
         "title": {
          "text": "Production [tonnes]"
         }
        },
        "yaxis2": {
         "anchor": "x",
         "overlaying": "y",
         "range": [
          0,
          8000000000
         ],
         "side": "right",
         "title": {
          "text": "World Population [people]"
         }
        }
       }
      },
      "text/html": [
       "<div>\n",
       "        \n",
       "        \n",
       "            <div id=\"90b63945-9c93-493b-9e62-2bb4b40dab38\" class=\"plotly-graph-div\" style=\"height:525px; width:100%;\"></div>\n",
       "            <script type=\"text/javascript\">\n",
       "                require([\"plotly\"], function(Plotly) {\n",
       "                    window.PLOTLYENV=window.PLOTLYENV || {};\n",
       "                    \n",
       "                if (document.getElementById(\"90b63945-9c93-493b-9e62-2bb4b40dab38\")) {\n",
       "                    Plotly.newPlot(\n",
       "                        '90b63945-9c93-493b-9e62-2bb4b40dab38',\n",
       "                        [{\"name\": \"Vegetables\", \"type\": \"scatter\", \"x\": [1961, 1962, 1963, 1964, 1965, 1966, 1967, 1968, 1969, 1970, 1971, 1972, 1973, 1974, 1975, 1976, 1977, 1978, 1979, 1980, 1981, 1982, 1983, 1984, 1985, 1986, 1987, 1988, 1989, 1990, 1991, 1992, 1993, 1994, 1995, 1996, 1997, 1998, 1999, 2000, 2001, 2002, 2003, 2004, 2005, 2006, 2007, 2008, 2009, 2010, 2011, 2012, 2013, 2014, 2015, 2016, 2017], \"xaxis\": \"x\", \"y\": [629266096.0, 626569980.0, 640337464.0, 656466100.0, 660962400.0, 684802951.0, 707664111.0, 726284401.0, 711282303.0, 742768372.0, 726157692.0, 711360463.0, 790104839.0, 760655473.0, 756623976.0, 756900074.0, 788219801.0, 828334892.0, 817913298.0, 765453983.0, 794311183.0, 815176500.0, 830544249.0, 878150825.0, 866572819.0, 887469144.0, 903977982.0, 893494865.0, 921340225.0, 920086454.0, 909307107.0, 932728698.0, 999429365.0, 990160551.0, 1038692715.0, 1104550909.0, 1089369659.0, 1120965574.0, 1179679815.0, 1278680677.0, 1281463141.0, 1307173169.0, 1334441833.0, 1372723506.0, 1382859160.0, 1385263792.0, 1492779834.0, 1544271078.0, 1579012716.0, 1607445802.0, 1696849335.0, 1741174444.0, 1777529601.0, 1834905822.0, 1856247669.0, 1884043410.0, 1928446482.0], \"yaxis\": \"y\"}, {\"name\": \"Fruit and nuts\", \"type\": \"scatter\", \"x\": [1961, 1962, 1963, 1964, 1965, 1966, 1967, 1968, 1969, 1970, 1971, 1972, 1973, 1974, 1975, 1976, 1977, 1978, 1979, 1980, 1981, 1982, 1983, 1984, 1985, 1986, 1987, 1988, 1989, 1990, 1991, 1992, 1993, 1994, 1995, 1996, 1997, 1998, 1999, 2000, 2001, 2002, 2003, 2004, 2005, 2006, 2007, 2008, 2009, 2010, 2011, 2012, 2013, 2014, 2015, 2016, 2017], \"xaxis\": \"x\", \"y\": [193506328.0, 212160446.0, 207613156.0, 217412144.0, 225039422.0, 227661928.0, 236611377.0, 242852170.0, 244505960.0, 252270488.0, 259658150.0, 258007838.0, 276597972.0, 275449532.0, 284102300.0, 293910308.0, 286801876.0, 296791508.0, 317482343.0, 326534790.0, 326773239.0, 341743226.0, 341521267.0, 340998061.0, 375839832.0, 398489653.0, 401824839.0, 401721096.0, 410664596.0, 410968931.0, 412204903.0, 444196991.0, 459436062.0, 467589611.0, 487010351.0, 514897779.0, 544614780.0, 543317500.0, 580733790.0, 598161687.0, 613792642.0, 632776256.0, 646051105.0, 672909942.0, 694195956.0, 721364129.0, 741140886.0, 760921675.0, 778465807.0, 795970003.0, 820660148.0, 839536606.0, 872246813.0, 883578060.0, 895299878.0, 907258536.0, 919289501.0], \"yaxis\": \"y\"}, {\"name\": \"Coffee, tea, mate\", \"type\": \"scatter\", \"x\": [1961, 1962, 1963, 1964, 1965, 1966, 1967, 1968, 1969, 1970, 1971, 1972, 1973, 1974, 1975, 1976, 1977, 1978, 1979, 1980, 1981, 1982, 1983, 1984, 1985, 1986, 1987, 1988, 1989, 1990, 1991, 1992, 1993, 1994, 1995, 1996, 1997, 1998, 1999, 2000, 2001, 2002, 2003, 2004, 2005, 2006, 2007, 2008, 2009, 2010, 2011, 2012, 2013, 2014, 2015, 2016, 2017], \"xaxis\": \"x\", \"y\": [6612024.0, 6800071.0, 6515976.0, 6157514.0, 7277612.0, 6533834.0, 6902539.0, 6539720.0, 6879704.0, 6665586.0, 7490113.0, 7489610.0, 7274368.0, 7828280.0, 7858706.0, 6814298.0, 8177225.0, 8627719.0, 8859967.0, 8918400.0, 10220329.0, 9283210.0, 10091007.0, 9997150.0, 11038335.0, 10372418.0, 11559222.0, 11248997.0, 11626135.0, 11857082.0, 12272293.0, 12608638.0, 12380196.0, 12291736.0, 12369725.0, 13538042.0, 13547110.0, 14796787.0, 15272763.0, 16024132.0, 16444073.0, 16992092.0, 16679051.0, 17451617.0, 17401779.0, 18438375.0, 19122103.0, 19607087.0, 19000245.0, 20171017.0, 21162551.0, 22137861.0, 22726698.0, 23027192.0, 24230736.0, 25260650.0, 26176558.0], \"yaxis\": \"y\"}, {\"name\": \"Cereals\", \"type\": \"scatter\", \"x\": [1961, 1962, 1963, 1964, 1965, 1966, 1967, 1968, 1969, 1970, 1971, 1972, 1973, 1974, 1975, 1976, 1977, 1978, 1979, 1980, 1981, 1982, 1983, 1984, 1985, 1986, 1987, 1988, 1989, 1990, 1991, 1992, 1993, 1994, 1995, 1996, 1997, 1998, 1999, 2000, 2001, 2002, 2003, 2004, 2005, 2006, 2007, 2008, 2009, 2010, 2011, 2012, 2013, 2014, 2015, 2016, 2017], \"xaxis\": \"x\", \"y\": [868008875.0, 924483599.0, 941711917.0, 991744666.0, 990067736.0, 1069303765.0, 1114904116.0, 1151685075.0, 1161468538.0, 1183950679.0, 1291077876.0, 1250054278.0, 1346565607.0, 1317925145.0, 1353580360.0, 1455357997.0, 1449096372.0, 1574542697.0, 1530831719.0, 1542566754.0, 1625420309.0, 1684781663.0, 1619047854.0, 1779613308.0, 1813221557.0, 1826749568.0, 1762430625.0, 1719851453.0, 1862153629.0, 1943035637.0, 1882416696.0, 1961485655.0, 1896120742.0, 1939547790.0, 1890092111.0, 2053071131.0, 2086385971.0, 2076686361.0, 2073757710.0, 2053810422.0, 2099911470.0, 2048748678.0, 2068902018.0, 2280446168.0, 2259505987.0, 2249641267.0, 2341864409.0, 2515335648.0, 2484927500.0, 2458196819.0, 2581182343.0, 2555176073.0, 2760606981.0, 2806106539.0, 2846510986.0, 2896853091.0, 2967778898.0], \"yaxis\": \"y\"}, {\"name\": \"Oil seeds\", \"type\": \"scatter\", \"x\": [1961, 1962, 1963, 1964, 1965, 1966, 1967, 1968, 1969, 1970, 1971, 1972, 1973, 1974, 1975, 1976, 1977, 1978, 1979, 1980, 1981, 1982, 1983, 1984, 1985, 1986, 1987, 1988, 1989, 1990, 1991, 1992, 1993, 1994, 1995, 1996, 1997, 1998, 1999, 2000, 2001, 2002, 2003, 2004, 2005, 2006, 2007, 2008, 2009, 2010, 2011, 2012, 2013, 2014, 2015, 2016, 2017], \"xaxis\": \"x\", \"y\": [155360281.0, 151544777.0, 171196370.0, 187091152.0, 180880359.0, 197969122.0, 207663880.0, 219262967.0, 214977339.0, 219385624.0, 233215373.0, 236299889.0, 252087126.0, 240378349.0, 277946288.0, 279535235.0, 298670345.0, 298931933.0, 312351956.0, 305285188.0, 353792056.0, 354156426.0, 311386983.0, 346040019.0, 355058171.0, 356834341.0, 367531549.0, 360174111.0, 383906956.0, 396434544.0, 392723785.0, 446363861.0, 447286183.0, 435800612.0, 439157529.0, 465986699.0, 507117256.0, 525089526.0, 530738988.0, 519745504.0, 508161945.0, 541506023.0, 532396957.0, 575744677.0, 597963781.0, 599098091.0, 590433994.0, 594253856.0, 594006221.0, 638739191.0, 696406609.0, 664158428.0, 702607261.0, 752773184.0, 736274432.0, 784674416.0, 837630616.0], \"yaxis\": \"y\"}, {\"name\": \"Cocoa\", \"type\": \"scatter\", \"x\": [1961, 1962, 1963, 1964, 1965, 1966, 1967, 1968, 1969, 1970, 1971, 1972, 1973, 1974, 1975, 1976, 1977, 1978, 1979, 1980, 1981, 1982, 1983, 1984, 1985, 1986, 1987, 1988, 1989, 1990, 1991, 1992, 1993, 1994, 1995, 1996, 1997, 1998, 1999, 2000, 2001, 2002, 2003, 2004, 2005, 2006, 2007, 2008, 2009, 2010, 2011, 2012, 2013, 2014, 2015, 2016, 2017], \"xaxis\": \"x\", \"y\": [1186164.0, 1213239.0, 1280116.0, 1544399.0, 1228939.0, 1344197.0, 1390336.0, 1246428.0, 1418717.0, 1543348.0, 1638800.0, 1510670.0, 1402028.0, 1556404.0, 1561591.0, 1366478.0, 1452499.0, 1495368.0, 1659904.0, 1670664.0, 1735287.0, 1615353.0, 1604638.0, 1810586.0, 2013930.0, 2118385.0, 2055860.0, 2563334.0, 2641010.0, 2532132.0, 2521935.0, 2677029.0, 2672285.0, 2671270.0, 2985733.0, 3237639.0, 3017051.0, 3302606.0, 2975312.0, 3338315.0, 3222420.0, 3298071.0, 3705062.0, 4069676.0, 4043909.0, 4299865.0, 3898929.0, 4265879.0, 4211292.0, 4329304.0, 4614837.0, 4613384.0, 4484796.0, 4710222.0, 4791708.0, 4658994.0, 5201077.0], \"yaxis\": \"y\"}, {\"name\": \"Tobacco\", \"type\": \"scatter\", \"x\": [1961, 1962, 1963, 1964, 1965, 1966, 1967, 1968, 1969, 1970, 1971, 1972, 1973, 1974, 1975, 1976, 1977, 1978, 1979, 1980, 1981, 1982, 1983, 1984, 1985, 1986, 1987, 1988, 1989, 1990, 1991, 1992, 1993, 1994, 1995, 1996, 1997, 1998, 1999, 2000, 2001, 2002, 2003, 2004, 2005, 2006, 2007, 2008, 2009, 2010, 2011, 2012, 2013, 2014, 2015, 2016, 2017], \"xaxis\": \"x\", \"y\": [3561020.0, 3921729.0, 4249642.0, 4646174.0, 4338386.0, 4583890.0, 4885858.0, 4760917.0, 4671555.0, 4660128.0, 4565178.0, 4931220.0, 4946894.0, 5296176.0, 5416564.0, 5730764.0, 5580614.0, 5985926.0, 5432431.0, 5257187.0, 5980514.0, 6948084.0, 5987433.0, 6553804.0, 7048632.0, 6007544.0, 6177630.0, 6839479.0, 7065217.0, 7137504.0, 7555080.0, 8327233.0, 8339400.0, 6450889.0, 6269742.0, 7393347.0, 8944123.0, 6879301.0, 6970695.0, 6686383.0, 6105175.0, 6409521.0, 5998432.0, 6558214.0, 6721268.0, 6542254.0, 6165553.0, 6647499.0, 7142330.0, 6944832.0, 7481128.0, 7593913.0, 7606699.0, 7305105.0, 6838641.0, 6398885.0, 6501611.0], \"yaxis\": \"y\"}, {\"name\": \"Rubber\", \"type\": \"scatter\", \"x\": [1961, 1962, 1963, 1964, 1965, 1966, 1967, 1968, 1969, 1970, 1971, 1972, 1973, 1974, 1975, 1976, 1977, 1978, 1979, 1980, 1981, 1982, 1983, 1984, 1985, 1986, 1987, 1988, 1989, 1990, 1991, 1992, 1993, 1994, 1995, 1996, 1997, 1998, 1999, 2000, 2001, 2002, 2003, 2004, 2005, 2006, 2007, 2008, 2009, 2010, 2011, 2012, 2013, 2014, 2015, 2016, 2017], \"xaxis\": \"x\", \"y\": [2082019.0, 2120092.0, 2183599.0, 2250956.0, 2325253.0, 2412385.0, 2414250.0, 2617789.0, 2850436.0, 2901996.0, 2947721.0, 2971712.0, 3316656.0, 3286981.0, 3169311.0, 3464591.0, 3478057.0, 3534435.0, 3650971.0, 3601785.0, 3591083.0, 3572181.0, 3821740.0, 3869822.0, 4242001.0, 4612328.0, 4820852.0, 5110874.0, 5134102.0, 5214364.0, 5171962.0, 5407428.0, 5594534.0, 5809548.0, 6067753.0, 6335260.0, 6502153.0, 6557727.0, 6721422.0, 7083048.0, 7471708.0, 7707146.0, 8398302.0, 9248750.0, 9511138.0, 10360193.0, 10591048.0, 10737558.0, 10255513.0, 10824704.0, 11578102.0, 12645063.0, 12988701.0, 13246060.0, 13255767.0, 13480593.0, 14236366.0], \"yaxis\": \"y\"}, {\"name\": \"Vegetable textile fibres\", \"type\": \"scatter\", \"x\": [1961, 1962, 1963, 1964, 1965, 1966, 1967, 1968, 1969, 1970, 1971, 1972, 1973, 1974, 1975, 1976, 1977, 1978, 1979, 1980, 1981, 1982, 1983, 1984, 1985, 1986, 1987, 1988, 1989, 1990, 1991, 1992, 1993, 1994, 1995, 1996, 1997, 1998, 1999, 2000, 2001, 2002, 2003, 2004, 2005, 2006, 2007, 2008, 2009, 2010, 2011, 2012, 2013, 2014, 2015, 2016, 2017], \"xaxis\": \"x\", \"y\": [3382303.0, 3146312.0, 3191133.0, 3078433.0, 3214370.0, 3307027.0, 3484294.0, 2578169.0, 3443998.0, 3144392.0, 2865173.0, 3192845.0, 3420528.0, 2666855.0, 2803654.0, 3122261.0, 3218841.0, 3586218.0, 3417039.0, 3325633.0, 3330688.0, 3088595.0, 3373554.0, 3520129.0, 5310409.0, 4255601.0, 3772210.0, 3531342.0, 3459745.0, 3523420.0, 4000598.0, 3558848.0, 3374699.0, 3595613.0, 3492083.0, 3881326.0, 3951986.0, 3352816.0, 3437613.0, 3560862.0, 3849203.0, 4139388.0, 4098442.0, 4108114.0, 4355611.0, 4055941.0, 3808620.0, 3747095.0, 3783450.0, 3511987.0, 4151870.0, 4251075.0, 4174388.0, 4225602.0, 4074212.0, 4190018.0, 4374047.0], \"yaxis\": \"y\"}, {\"name\": \"World Population\", \"type\": \"scatter\", \"x\": [1961, 1962, 1963, 1964, 1965, 1966, 1967, 1968, 1969, 1970, 1971, 1972, 1973, 1974, 1975, 1976, 1977, 1978, 1979, 1980, 1981, 1982, 1983, 1984, 1985, 1986, 1987, 1988, 1989, 1990, 1991, 1992, 1993, 1994, 1995, 1996, 1997, 1998, 1999, 2000, 2001, 2002, 2003, 2004, 2005, 2006, 2007, 2008, 2009, 2010, 2011, 2012, 2013, 2014, 2015, 2016, 2017], \"xaxis\": \"x\", \"y\": [3091843507, 3150420795, 3211001009, 3273978338, 3339583597, 3407922630, 3478769962, 3551599127, 3625680627, 3700437046, 3775759617, 3851650245, 3927780238, 4003794172, 4079480606, 4154666864, 4229506060, 4304533501, 4380506100, 4458003514, 4536996762, 4617386542, 4699569304, 4784011621, 4870921740, 4960567912, 5052522147, 5145426008, 5237441558, 5327231061, 5414289444, 5498919809, 5581597546, 5663150427, 5744212979, 5824891951, 5905045788, 5984793942, 6064239055, 6143493823, 6222626606, 6301773188, 6381185114, 6461159389, 6541907027, 6623517833, 6705946610, 6789088686, 6872767093, 6956823603, 7041194301, 7125828059, 7210581976, 7295290765, 7379797139, 7464022049, 7547858925], \"yaxis\": \"y2\"}],\n",
       "                        {\"legend\": {\"font\": {\"size\": 10}}, \"template\": {\"data\": {\"bar\": [{\"error_x\": {\"color\": \"#2a3f5f\"}, \"error_y\": {\"color\": \"#2a3f5f\"}, \"marker\": {\"line\": {\"color\": \"#E5ECF6\", \"width\": 0.5}}, \"type\": \"bar\"}], \"barpolar\": [{\"marker\": {\"line\": {\"color\": \"#E5ECF6\", \"width\": 0.5}}, \"type\": \"barpolar\"}], \"carpet\": [{\"aaxis\": {\"endlinecolor\": \"#2a3f5f\", \"gridcolor\": \"white\", \"linecolor\": \"white\", \"minorgridcolor\": \"white\", \"startlinecolor\": \"#2a3f5f\"}, \"baxis\": {\"endlinecolor\": \"#2a3f5f\", \"gridcolor\": \"white\", \"linecolor\": \"white\", \"minorgridcolor\": \"white\", \"startlinecolor\": \"#2a3f5f\"}, \"type\": \"carpet\"}], \"choropleth\": [{\"colorbar\": {\"outlinewidth\": 0, \"ticks\": \"\"}, \"type\": \"choropleth\"}], \"contour\": [{\"colorbar\": {\"outlinewidth\": 0, \"ticks\": \"\"}, \"colorscale\": [[0.0, \"#0d0887\"], [0.1111111111111111, \"#46039f\"], [0.2222222222222222, \"#7201a8\"], [0.3333333333333333, \"#9c179e\"], [0.4444444444444444, \"#bd3786\"], [0.5555555555555556, \"#d8576b\"], [0.6666666666666666, \"#ed7953\"], [0.7777777777777778, \"#fb9f3a\"], [0.8888888888888888, \"#fdca26\"], [1.0, \"#f0f921\"]], \"type\": \"contour\"}], \"contourcarpet\": [{\"colorbar\": {\"outlinewidth\": 0, \"ticks\": \"\"}, \"type\": \"contourcarpet\"}], \"heatmap\": [{\"colorbar\": {\"outlinewidth\": 0, \"ticks\": \"\"}, \"colorscale\": [[0.0, \"#0d0887\"], [0.1111111111111111, \"#46039f\"], [0.2222222222222222, \"#7201a8\"], [0.3333333333333333, \"#9c179e\"], [0.4444444444444444, \"#bd3786\"], [0.5555555555555556, \"#d8576b\"], [0.6666666666666666, \"#ed7953\"], [0.7777777777777778, \"#fb9f3a\"], [0.8888888888888888, \"#fdca26\"], [1.0, \"#f0f921\"]], \"type\": \"heatmap\"}], \"heatmapgl\": [{\"colorbar\": {\"outlinewidth\": 0, \"ticks\": \"\"}, \"colorscale\": [[0.0, \"#0d0887\"], [0.1111111111111111, \"#46039f\"], [0.2222222222222222, \"#7201a8\"], [0.3333333333333333, \"#9c179e\"], [0.4444444444444444, \"#bd3786\"], [0.5555555555555556, \"#d8576b\"], [0.6666666666666666, \"#ed7953\"], [0.7777777777777778, \"#fb9f3a\"], [0.8888888888888888, \"#fdca26\"], [1.0, \"#f0f921\"]], \"type\": \"heatmapgl\"}], \"histogram\": [{\"marker\": {\"colorbar\": {\"outlinewidth\": 0, \"ticks\": \"\"}}, \"type\": \"histogram\"}], \"histogram2d\": [{\"colorbar\": {\"outlinewidth\": 0, \"ticks\": \"\"}, \"colorscale\": [[0.0, \"#0d0887\"], [0.1111111111111111, \"#46039f\"], [0.2222222222222222, \"#7201a8\"], [0.3333333333333333, \"#9c179e\"], [0.4444444444444444, \"#bd3786\"], [0.5555555555555556, \"#d8576b\"], [0.6666666666666666, \"#ed7953\"], [0.7777777777777778, \"#fb9f3a\"], [0.8888888888888888, \"#fdca26\"], [1.0, \"#f0f921\"]], \"type\": \"histogram2d\"}], \"histogram2dcontour\": [{\"colorbar\": {\"outlinewidth\": 0, \"ticks\": \"\"}, \"colorscale\": [[0.0, \"#0d0887\"], [0.1111111111111111, \"#46039f\"], [0.2222222222222222, \"#7201a8\"], [0.3333333333333333, \"#9c179e\"], [0.4444444444444444, \"#bd3786\"], [0.5555555555555556, \"#d8576b\"], [0.6666666666666666, \"#ed7953\"], [0.7777777777777778, \"#fb9f3a\"], [0.8888888888888888, \"#fdca26\"], [1.0, \"#f0f921\"]], \"type\": \"histogram2dcontour\"}], \"mesh3d\": [{\"colorbar\": {\"outlinewidth\": 0, \"ticks\": \"\"}, \"type\": \"mesh3d\"}], \"parcoords\": [{\"line\": {\"colorbar\": {\"outlinewidth\": 0, \"ticks\": \"\"}}, \"type\": \"parcoords\"}], \"pie\": [{\"automargin\": true, \"type\": \"pie\"}], \"scatter\": [{\"marker\": {\"colorbar\": {\"outlinewidth\": 0, \"ticks\": \"\"}}, \"type\": \"scatter\"}], \"scatter3d\": [{\"line\": {\"colorbar\": {\"outlinewidth\": 0, \"ticks\": \"\"}}, \"marker\": {\"colorbar\": {\"outlinewidth\": 0, \"ticks\": \"\"}}, \"type\": \"scatter3d\"}], \"scattercarpet\": [{\"marker\": {\"colorbar\": {\"outlinewidth\": 0, \"ticks\": \"\"}}, \"type\": \"scattercarpet\"}], \"scattergeo\": [{\"marker\": {\"colorbar\": {\"outlinewidth\": 0, \"ticks\": \"\"}}, \"type\": \"scattergeo\"}], \"scattergl\": [{\"marker\": {\"colorbar\": {\"outlinewidth\": 0, \"ticks\": \"\"}}, \"type\": \"scattergl\"}], \"scattermapbox\": [{\"marker\": {\"colorbar\": {\"outlinewidth\": 0, \"ticks\": \"\"}}, \"type\": \"scattermapbox\"}], \"scatterpolar\": [{\"marker\": {\"colorbar\": {\"outlinewidth\": 0, \"ticks\": \"\"}}, \"type\": \"scatterpolar\"}], \"scatterpolargl\": [{\"marker\": {\"colorbar\": {\"outlinewidth\": 0, \"ticks\": \"\"}}, \"type\": \"scatterpolargl\"}], \"scatterternary\": [{\"marker\": {\"colorbar\": {\"outlinewidth\": 0, \"ticks\": \"\"}}, \"type\": \"scatterternary\"}], \"surface\": [{\"colorbar\": {\"outlinewidth\": 0, \"ticks\": \"\"}, \"colorscale\": [[0.0, \"#0d0887\"], [0.1111111111111111, \"#46039f\"], [0.2222222222222222, \"#7201a8\"], [0.3333333333333333, \"#9c179e\"], [0.4444444444444444, \"#bd3786\"], [0.5555555555555556, \"#d8576b\"], [0.6666666666666666, \"#ed7953\"], [0.7777777777777778, \"#fb9f3a\"], [0.8888888888888888, \"#fdca26\"], [1.0, \"#f0f921\"]], \"type\": \"surface\"}], \"table\": [{\"cells\": {\"fill\": {\"color\": \"#EBF0F8\"}, \"line\": {\"color\": \"white\"}}, \"header\": {\"fill\": {\"color\": \"#C8D4E3\"}, \"line\": {\"color\": \"white\"}}, \"type\": \"table\"}]}, \"layout\": {\"annotationdefaults\": {\"arrowcolor\": \"#2a3f5f\", \"arrowhead\": 0, \"arrowwidth\": 1}, \"coloraxis\": {\"colorbar\": {\"outlinewidth\": 0, \"ticks\": \"\"}}, \"colorscale\": {\"diverging\": [[0, \"#8e0152\"], [0.1, \"#c51b7d\"], [0.2, \"#de77ae\"], [0.3, \"#f1b6da\"], [0.4, \"#fde0ef\"], [0.5, \"#f7f7f7\"], [0.6, \"#e6f5d0\"], [0.7, \"#b8e186\"], [0.8, \"#7fbc41\"], [0.9, \"#4d9221\"], [1, \"#276419\"]], \"sequential\": [[0.0, \"#0d0887\"], [0.1111111111111111, \"#46039f\"], [0.2222222222222222, \"#7201a8\"], [0.3333333333333333, \"#9c179e\"], [0.4444444444444444, \"#bd3786\"], [0.5555555555555556, \"#d8576b\"], [0.6666666666666666, \"#ed7953\"], [0.7777777777777778, \"#fb9f3a\"], [0.8888888888888888, \"#fdca26\"], [1.0, \"#f0f921\"]], \"sequentialminus\": [[0.0, \"#0d0887\"], [0.1111111111111111, \"#46039f\"], [0.2222222222222222, \"#7201a8\"], [0.3333333333333333, \"#9c179e\"], [0.4444444444444444, \"#bd3786\"], [0.5555555555555556, \"#d8576b\"], [0.6666666666666666, \"#ed7953\"], [0.7777777777777778, \"#fb9f3a\"], [0.8888888888888888, \"#fdca26\"], [1.0, \"#f0f921\"]]}, \"colorway\": [\"#636efa\", \"#EF553B\", \"#00cc96\", \"#ab63fa\", \"#FFA15A\", \"#19d3f3\", \"#FF6692\", \"#B6E880\", \"#FF97FF\", \"#FECB52\"], \"font\": {\"color\": \"#2a3f5f\"}, \"geo\": {\"bgcolor\": \"white\", \"lakecolor\": \"white\", \"landcolor\": \"#E5ECF6\", \"showlakes\": true, \"showland\": true, \"subunitcolor\": \"white\"}, \"hoverlabel\": {\"align\": \"left\"}, \"hovermode\": \"closest\", \"mapbox\": {\"style\": \"light\"}, \"paper_bgcolor\": \"white\", \"plot_bgcolor\": \"#E5ECF6\", \"polar\": {\"angularaxis\": {\"gridcolor\": \"white\", \"linecolor\": \"white\", \"ticks\": \"\"}, \"bgcolor\": \"#E5ECF6\", \"radialaxis\": {\"gridcolor\": \"white\", \"linecolor\": \"white\", \"ticks\": \"\"}}, \"scene\": {\"xaxis\": {\"backgroundcolor\": \"#E5ECF6\", \"gridcolor\": \"white\", \"gridwidth\": 2, \"linecolor\": \"white\", \"showbackground\": true, \"ticks\": \"\", \"zerolinecolor\": \"white\"}, \"yaxis\": {\"backgroundcolor\": \"#E5ECF6\", \"gridcolor\": \"white\", \"gridwidth\": 2, \"linecolor\": \"white\", \"showbackground\": true, \"ticks\": \"\", \"zerolinecolor\": \"white\"}, \"zaxis\": {\"backgroundcolor\": \"#E5ECF6\", \"gridcolor\": \"white\", \"gridwidth\": 2, \"linecolor\": \"white\", \"showbackground\": true, \"ticks\": \"\", \"zerolinecolor\": \"white\"}}, \"shapedefaults\": {\"line\": {\"color\": \"#2a3f5f\"}}, \"ternary\": {\"aaxis\": {\"gridcolor\": \"white\", \"linecolor\": \"white\", \"ticks\": \"\"}, \"baxis\": {\"gridcolor\": \"white\", \"linecolor\": \"white\", \"ticks\": \"\"}, \"bgcolor\": \"#E5ECF6\", \"caxis\": {\"gridcolor\": \"white\", \"linecolor\": \"white\", \"ticks\": \"\"}}, \"title\": {\"x\": 0.05}, \"xaxis\": {\"automargin\": true, \"gridcolor\": \"white\", \"linecolor\": \"white\", \"ticks\": \"\", \"title\": {\"standoff\": 15}, \"zerolinecolor\": \"white\", \"zerolinewidth\": 2}, \"yaxis\": {\"automargin\": true, \"gridcolor\": \"white\", \"linecolor\": \"white\", \"ticks\": \"\", \"title\": {\"standoff\": 15}, \"zerolinecolor\": \"white\", \"zerolinewidth\": 2}}}, \"title\": {\"text\": \"Production of Crops per Category\"}, \"xaxis\": {\"anchor\": \"y\", \"domain\": [0.0, 0.94]}, \"yaxis\": {\"anchor\": \"x\", \"domain\": [0.0, 1.0], \"range\": [0, 8000000000.0], \"title\": {\"text\": \"Production [tonnes]\"}}, \"yaxis2\": {\"anchor\": \"x\", \"overlaying\": \"y\", \"range\": [0, 8000000000.0], \"side\": \"right\", \"title\": {\"text\": \"World Population [people]\"}}},\n",
       "                        {\"responsive\": true}\n",
       "                    ).then(function(){\n",
       "                            \n",
       "var gd = document.getElementById('90b63945-9c93-493b-9e62-2bb4b40dab38');\n",
       "var x = new MutationObserver(function (mutations, observer) {{\n",
       "        var display = window.getComputedStyle(gd).display;\n",
       "        if (!display || display === 'none') {{\n",
       "            console.log([gd, 'removed!']);\n",
       "            Plotly.purge(gd);\n",
       "            observer.disconnect();\n",
       "        }}\n",
       "}});\n",
       "\n",
       "// Listen for the removal of the full notebook cells\n",
       "var notebookContainer = gd.closest('#notebook-container');\n",
       "if (notebookContainer) {{\n",
       "    x.observe(notebookContainer, {childList: true});\n",
       "}}\n",
       "\n",
       "// Listen for the clearing of the current output cell\n",
       "var outputEl = gd.closest('.output');\n",
       "if (outputEl) {{\n",
       "    x.observe(outputEl, {childList: true});\n",
       "}}\n",
       "\n",
       "                        })\n",
       "                };\n",
       "                });\n",
       "            </script>\n",
       "        </div>"
      ]
     },
     "metadata": {},
     "output_type": "display_data"
    }
   ],
   "source": [
    "# Create figure with secondary y-axis\n",
    "fig = make_subplots(specs=[[{\"secondary_y\": True}]])\n",
    "\n",
    "for i in range(len(parent_group_legend)):\n",
    "    fig.add_trace(go.Scatter(\n",
    "        x=df_groups_px.year,\n",
    "        y=df_groups_px.loc[:,df_groups.parent_group.unique()[i]],\n",
    "        name=parent_group_legend[i]),\n",
    "        secondary_y=False\n",
    "    )\n",
    "    \n",
    "fig.add_trace(go.Scatter(\n",
    "        x=WorldPopulation.Year,\n",
    "        y=WorldPopulation.WorldPopulation,\n",
    "        name=\"World Population\"),\n",
    "        secondary_y=True)    \n",
    "    \n",
    "fig.update_layout(\n",
    "    title=\"Production of Crops per Category\",\n",
    "    yaxis_title=\"Production [tonnes]\",\n",
    "    legend=go.layout.Legend(\n",
    "        font=dict(\n",
    "            size=10)\n",
    "))\n",
    "  \n",
    "fig.update_yaxes(title_text=\"Production [tonnes]\",  range=[0, 8e9],secondary_y=False)\n",
    "fig.update_yaxes(title_text=\"World Population [people]\", range=[0, 8e9],secondary_y=True)\n",
    "\n",
    "\n",
    "fig.show()"
   ]
  },
  {
   "cell_type": "code",
   "execution_count": 533,
   "metadata": {},
   "outputs": [
    {
     "data": {
      "text/plain": [
       "'AllProds.html'"
      ]
     },
     "execution_count": 533,
     "metadata": {},
     "output_type": "execute_result"
    }
   ],
   "source": [
    "# Save the figure in html format for the datastory\n",
    "plotly.offline.plot(fig,filename='AllProds.html')"
   ]
  },
  {
   "cell_type": "markdown",
   "metadata": {},
   "source": [
    "**Plot the indexed evolution of the production for each grop of crops and the world population :**"
   ]
  },
  {
   "cell_type": "code",
   "execution_count": 534,
   "metadata": {},
   "outputs": [],
   "source": [
    "# Compute the indexed production\n",
    "df_groups_px_norm = df_groups_norm.loc[:,list_parent_group]/df_groups_norm.loc[:,list_parent_group].loc[0,:]"
   ]
  },
  {
   "cell_type": "code",
   "execution_count": 535,
   "metadata": {},
   "outputs": [],
   "source": [
    "# Compute the indexed world population : \n",
    "WorldPopulation_norm = WorldPopulation.loc[:,\"WorldPopulation\"]/WorldPopulation.loc[:,\"WorldPopulation\"][0]"
   ]
  },
  {
   "cell_type": "code",
   "execution_count": 536,
   "metadata": {},
   "outputs": [
    {
     "data": {
      "application/vnd.plotly.v1+json": {
       "config": {
        "plotlyServerURL": "https://plot.ly"
       },
       "data": [
        {
         "mode": "lines",
         "name": "Vegetables",
         "showlegend": true,
         "type": "scatter",
         "x": [
          1961,
          1962,
          1963,
          1964,
          1965,
          1966,
          1967,
          1968,
          1969,
          1970,
          1971,
          1972,
          1973,
          1974,
          1975,
          1976,
          1977,
          1978,
          1979,
          1980,
          1981,
          1982,
          1983,
          1984,
          1985,
          1986,
          1987,
          1988,
          1989,
          1990,
          1991,
          1992,
          1993,
          1994,
          1995,
          1996,
          1997,
          1998,
          1999,
          2000,
          2001,
          2002,
          2003,
          2004,
          2005,
          2006,
          2007,
          2008,
          2009,
          2010,
          2011,
          2012,
          2013,
          2014,
          2015,
          2016,
          2017
         ],
         "y": [
          100,
          99.5715459616944,
          101.75940958370018,
          104.32249634501206,
          105.03702713390743,
          108.82565505324793,
          112.45864277423267,
          115.41769143716904,
          113.03362878142413,
          118.03724636071924,
          115.39755544052066,
          113.04604959997717,
          125.55973443069463,
          120.87978008591138,
          120.23911359750106,
          120.28298978942607,
          125.26017308264453,
          131.63507413881075,
          129.97892357448734,
          121.64233666261275,
          126.22818677966721,
          129.54400454462115,
          131.98617473266827,
          139.55158725093622,
          137.71166514586858,
          141.03241055593116,
          143.65591722583446,
          141.98998971652844,
          146.41504299319504,
          146.21579961937118,
          144.5027966356541,
          148.22484540784794,
          158.82460080925765,
          157.351644605369,
          165.0641472029982,
          175.53002076882908,
          173.11748812222675,
          178.13856190974573,
          187.4691521597566,
          203.20190220450075,
          203.64407825970017,
          207.7297946463653,
          212.0632021147378,
          218.14674502978465,
          219.75745535796355,
          220.13958813379327,
          237.22553042171208,
          245.40827605623932,
          250.92925330590194,
          255.44770522643893,
          269.6552930129577,
          276.6992302728479,
          282.47662035171845,
          291.5945787741916,
          294.98612443915937,
          299.4032924983773,
          306.45961927050973
         ]
        },
        {
         "mode": "lines",
         "name": "Fruit and nuts",
         "showlegend": true,
         "type": "scatter",
         "x": [
          1961,
          1962,
          1963,
          1964,
          1965,
          1966,
          1967,
          1968,
          1969,
          1970,
          1971,
          1972,
          1973,
          1974,
          1975,
          1976,
          1977,
          1978,
          1979,
          1980,
          1981,
          1982,
          1983,
          1984,
          1985,
          1986,
          1987,
          1988,
          1989,
          1990,
          1991,
          1992,
          1993,
          1994,
          1995,
          1996,
          1997,
          1998,
          1999,
          2000,
          2001,
          2002,
          2003,
          2004,
          2005,
          2006,
          2007,
          2008,
          2009,
          2010,
          2011,
          2012,
          2013,
          2014,
          2015,
          2016,
          2017
         ],
         "y": [
          100,
          109.64005580220612,
          107.2901119802139,
          112.35402286172264,
          116.2956396960827,
          117.65089563375932,
          122.27578262970293,
          125.50089318009279,
          126.35553706543385,
          130.3680818128077,
          134.18587013857243,
          133.33302361047333,
          142.9400138273514,
          142.34652419222175,
          146.81809268790425,
          151.88666491568173,
          148.21317678045133,
          153.37560847105735,
          164.06819677752347,
          168.74631097335484,
          168.86953640089743,
          176.6057107961865,
          176.4910070537848,
          176.2206251983656,
          194.22611957165557,
          205.93107063661503,
          207.6546246074185,
          207.6010124072015,
          212.22282508507936,
          212.3800990115424,
          213.0188233430795,
          229.55166148364924,
          237.42689283008875,
          241.64047544739725,
          251.67670537368681,
          266.08834156576006,
          281.44546260006547,
          280.775055583712,
          300.11100722246147,
          309.11737780482304,
          317.19512655937535,
          327.00545896359523,
          333.86562169687807,
          347.7457036960569,
          358.7458679904256,
          372.7858083276739,
          383.00602035092106,
          393.22831602695703,
          402.2947544123725,
          411.34055471302213,
          424.0999023039701,
          433.8548587413637,
          450.7588056758537,
          456.6145557782482,
          462.672144757974,
          468.85212766788686,
          475.06947731445763
         ]
        },
        {
         "mode": "lines",
         "name": "Coffee, tea, mate",
         "showlegend": true,
         "type": "scatter",
         "x": [
          1961,
          1962,
          1963,
          1964,
          1965,
          1966,
          1967,
          1968,
          1969,
          1970,
          1971,
          1972,
          1973,
          1974,
          1975,
          1976,
          1977,
          1978,
          1979,
          1980,
          1981,
          1982,
          1983,
          1984,
          1985,
          1986,
          1987,
          1988,
          1989,
          1990,
          1991,
          1992,
          1993,
          1994,
          1995,
          1996,
          1997,
          1998,
          1999,
          2000,
          2001,
          2002,
          2003,
          2004,
          2005,
          2006,
          2007,
          2008,
          2009,
          2010,
          2011,
          2012,
          2013,
          2014,
          2015,
          2016,
          2017
         ],
         "y": [
          100,
          102.84401569020318,
          98.5473736937434,
          93.12600801207013,
          110.06632764793352,
          98.81745740789809,
          104.39373783277253,
          98.90647704848017,
          104.04838215953238,
          100.81006965491959,
          113.28018470592363,
          113.27257735301626,
          110.01726551506769,
          118.39460957794468,
          118.85477124704931,
          103.05918429818162,
          123.67204051285961,
          130.48529466922685,
          133.99780460566993,
          134.88154307969845,
          154.57186785770892,
          140.3989156724174,
          152.61600683845066,
          151.19651713302915,
          166.94335955223394,
          156.87205612078841,
          174.82123476865783,
          170.12940364402792,
          175.83322444080662,
          179.32605810263243,
          185.60569350625465,
          190.6925625194343,
          187.23761438252492,
          185.8997487002467,
          187.07925137597806,
          204.74883333756804,
          204.8859774253693,
          223.78604493873584,
          230.9846878958697,
          242.34836413176964,
          248.69953587585286,
          256.9877544304135,
          252.25333422867186,
          263.9375930879864,
          263.183845067713,
          278.8612836251048,
          289.20195994448903,
          296.5368395517016,
          287.3589841779159,
          305.06569546632016,
          320.06161804615346,
          334.8121694658095,
          343.71771790302034,
          348.2623777530148,
          366.4647315254754,
          382.0411117684993,
          395.8932695949077
         ]
        },
        {
         "mode": "lines",
         "name": "Cereals",
         "showlegend": true,
         "type": "scatter",
         "x": [
          1961,
          1962,
          1963,
          1964,
          1965,
          1966,
          1967,
          1968,
          1969,
          1970,
          1971,
          1972,
          1973,
          1974,
          1975,
          1976,
          1977,
          1978,
          1979,
          1980,
          1981,
          1982,
          1983,
          1984,
          1985,
          1986,
          1987,
          1988,
          1989,
          1990,
          1991,
          1992,
          1993,
          1994,
          1995,
          1996,
          1997,
          1998,
          1999,
          2000,
          2001,
          2002,
          2003,
          2004,
          2005,
          2006,
          2007,
          2008,
          2009,
          2010,
          2011,
          2012,
          2013,
          2014,
          2015,
          2016,
          2017
         ],
         "y": [
          100,
          106.50623808425921,
          108.49104705294633,
          114.25512970705513,
          114.06193698192313,
          123.19041841594074,
          128.4438613602885,
          132.6812557072069,
          133.8083712565727,
          136.39845318401842,
          148.74016996658014,
          144.01399732232,
          155.13270034249362,
          151.83314168302715,
          155.9408433467918,
          167.66625767507273,
          166.9448796822498,
          181.3970735034247,
          176.36129803396307,
          177.71324676835823,
          187.25848960933723,
          194.09728535321716,
          186.52434331388605,
          205.02247837039684,
          208.894356869335,
          210.4528675470052,
          203.04292683643354,
          198.13754243008174,
          214.53163471398838,
          223.84974312618638,
          216.86606556874204,
          225.97529950370608,
          218.44485656900687,
          223.44792154342895,
          217.75032092845822,
          236.52651374100296,
          240.36458970537598,
          239.24713454110707,
          238.90973580195248,
          236.61168464435343,
          241.92281098508354,
          236.02854037638727,
          238.35033000094614,
          262.721526666418,
          260.3090880839208,
          259.1726112247412,
          269.7972885357883,
          289.7822499798749,
          286.27904294181326,
          283.1995028852671,
          297.36819718577186,
          294.37211376438984,
          318.03902707792014,
          323.28085804422216,
          327.93570065743853,
          333.73542303930935,
          341.9065154143729
         ]
        },
        {
         "mode": "lines",
         "name": "Oil seeds",
         "showlegend": true,
         "type": "scatter",
         "x": [
          1961,
          1962,
          1963,
          1964,
          1965,
          1966,
          1967,
          1968,
          1969,
          1970,
          1971,
          1972,
          1973,
          1974,
          1975,
          1976,
          1977,
          1978,
          1979,
          1980,
          1981,
          1982,
          1983,
          1984,
          1985,
          1986,
          1987,
          1988,
          1989,
          1990,
          1991,
          1992,
          1993,
          1994,
          1995,
          1996,
          1997,
          1998,
          1999,
          2000,
          2001,
          2002,
          2003,
          2004,
          2005,
          2006,
          2007,
          2008,
          2009,
          2010,
          2011,
          2012,
          2013,
          2014,
          2015,
          2016,
          2017
         ],
         "y": [
          100,
          97.54409301049088,
          110.19313874696198,
          120.42405613311165,
          116.42638506813721,
          127.4258264247089,
          133.66600437598333,
          141.13193255617244,
          138.37342312736934,
          141.2108825936019,
          150.11261018509614,
          152.09800566722714,
          162.25970008383288,
          154.7231682723334,
          178.90434170880522,
          179.92709153248765,
          192.24369515655033,
          192.4120702382097,
          201.05007147869412,
          196.50143912909118,
          227.72362004159868,
          227.95815231564882,
          200.42895197904542,
          222.73390391203014,
          228.53857415461292,
          229.68183290039238,
          236.56725299048605,
          231.83152648906446,
          247.10753194376625,
          255.17110386791848,
          252.7826175855076,
          287.3088656424353,
          287.9025321793799,
          280.5096702934002,
          282.67040080855674,
          299.9394027872542,
          326.413709305791,
          337.98183333615367,
          341.6181951936609,
          334.5420725648662,
          327.0861392172688,
          348.54856049082457,
          342.68537207396014,
          370.58678916781827,
          384.88845228079884,
          385.6185681075075,
          380.04179073285786,
          382.5005028151307,
          382.34110879343734,
          411.1341630490486,
          448.2526708354756,
          427.495640278869,
          452.24381449207084,
          484.53387130524044,
          473.9141994729013,
          505.06758287853506,
          539.1536437810639
         ]
        },
        {
         "mode": "lines",
         "name": "Cocoa",
         "showlegend": true,
         "type": "scatter",
         "x": [
          1961,
          1962,
          1963,
          1964,
          1965,
          1966,
          1967,
          1968,
          1969,
          1970,
          1971,
          1972,
          1973,
          1974,
          1975,
          1976,
          1977,
          1978,
          1979,
          1980,
          1981,
          1982,
          1983,
          1984,
          1985,
          1986,
          1987,
          1988,
          1989,
          1990,
          1991,
          1992,
          1993,
          1994,
          1995,
          1996,
          1997,
          1998,
          1999,
          2000,
          2001,
          2002,
          2003,
          2004,
          2005,
          2006,
          2007,
          2008,
          2009,
          2010,
          2011,
          2012,
          2013,
          2014,
          2015,
          2016,
          2017
         ],
         "y": [
          100,
          102.28256800914546,
          107.92065852613972,
          130.20113576200256,
          103.60616238563975,
          113.32303121659399,
          117.2127968813756,
          105.08057907675499,
          119.60546770935554,
          130.1125308136143,
          138.15964740120253,
          127.35759979227154,
          118.19849531767952,
          131.21322178046205,
          131.65051375695097,
          115.20143926135003,
          122.45347186392439,
          126.06755895474824,
          139.93882802040864,
          140.8459538478659,
          146.29402005119024,
          136.18293929001385,
          135.27960720440007,
          152.64213043053067,
          169.7851224619867,
          178.59124033438886,
          173.3200468063438,
          216.10283232335496,
          222.65133657740415,
          213.4723360344775,
          212.6126741327506,
          225.68793185427984,
          225.2879871586054,
          225.2024172036919,
          251.71333812187856,
          272.95036774004274,
          254.3536138341747,
          278.4274349921259,
          250.8347918163087,
          281.43789560296887,
          271.6673242485862,
          278.0451101196799,
          312.35663871100456,
          343.09555845566047,
          340.9232618760981,
          362.50172826017314,
          328.70066871022897,
          359.6365258092473,
          355.0345483423877,
          364.9835941741614,
          389.055560613878,
          388.9330649050215,
          378.0924054346616,
          397.0970287413882,
          403.96673647151664,
          392.778233026799,
          438.4787432429243
         ]
        },
        {
         "mode": "lines",
         "name": "Tobacco",
         "showlegend": true,
         "type": "scatter",
         "x": [
          1961,
          1962,
          1963,
          1964,
          1965,
          1966,
          1967,
          1968,
          1969,
          1970,
          1971,
          1972,
          1973,
          1974,
          1975,
          1976,
          1977,
          1978,
          1979,
          1980,
          1981,
          1982,
          1983,
          1984,
          1985,
          1986,
          1987,
          1988,
          1989,
          1990,
          1991,
          1992,
          1993,
          1994,
          1995,
          1996,
          1997,
          1998,
          1999,
          2000,
          2001,
          2002,
          2003,
          2004,
          2005,
          2006,
          2007,
          2008,
          2009,
          2010,
          2011,
          2012,
          2013,
          2014,
          2015,
          2016,
          2017
         ],
         "y": [
          100,
          110.12937304480177,
          119.33777400857058,
          130.47312286929028,
          121.82986897012653,
          128.72407343963246,
          137.20389101998865,
          133.6953176337117,
          131.18586809397308,
          130.86497688864426,
          128.19860601737705,
          138.47773952406894,
          138.9178943111805,
          148.72637615065346,
          152.1070929115815,
          160.9304075798507,
          156.7139190456667,
          168.09582647668364,
          152.55266749414494,
          147.63149322385158,
          167.9438475492977,
          195.11499514184138,
          168.13814581215493,
          184.04288658867404,
          197.93856816305438,
          168.70289973097596,
          173.47922786168007,
          192.0651667218943,
          198.40430550797242,
          200.43425760035046,
          212.16056073821545,
          233.8440390674582,
          234.18571083565945,
          181.15284384811093,
          176.06590246614735,
          207.61880023139437,
          251.1674464058051,
          193.1834418228485,
          195.74995366496117,
          187.7659490820046,
          171.44455801989318,
          179.99115421985837,
          168.44701798922782,
          184.16672751065707,
          188.7455841303896,
          183.71854131681374,
          173.1400834592336,
          186.67401474858326,
          200.56978056848882,
          195.02367299256954,
          210.08385237937443,
          213.25106289770906,
          213.61011732593468,
          205.1408023543816,
          192.04163413853334,
          179.69247575132968,
          182.5772110238078
         ]
        },
        {
         "mode": "lines",
         "name": "Rubber",
         "showlegend": true,
         "type": "scatter",
         "x": [
          1961,
          1962,
          1963,
          1964,
          1965,
          1966,
          1967,
          1968,
          1969,
          1970,
          1971,
          1972,
          1973,
          1974,
          1975,
          1976,
          1977,
          1978,
          1979,
          1980,
          1981,
          1982,
          1983,
          1984,
          1985,
          1986,
          1987,
          1988,
          1989,
          1990,
          1991,
          1992,
          1993,
          1994,
          1995,
          1996,
          1997,
          1998,
          1999,
          2000,
          2001,
          2002,
          2003,
          2004,
          2005,
          2006,
          2007,
          2008,
          2009,
          2010,
          2011,
          2012,
          2013,
          2014,
          2015,
          2016,
          2017
         ],
         "y": [
          100,
          101.82865766354678,
          104.87891801179528,
          108.11409502026639,
          111.68260232015174,
          115.86757853794802,
          115.95715504997793,
          125.73319455778262,
          136.90730007747288,
          139.38374241541504,
          141.5799279449419,
          142.73222290478617,
          159.29998717590954,
          157.87468798315481,
          152.22296242253313,
          166.4053498070863,
          167.0521258451532,
          169.75997817503105,
          175.35723737391447,
          172.99481897139268,
          172.4807986862752,
          171.57292993003426,
          183.559323906266,
          185.86871685609017,
          203.74458638465836,
          221.53150379511425,
          231.5469743551812,
          245.47681841520176,
          246.59246625511102,
          250.447474302588,
          248.41089346446887,
          259.72039640368314,
          268.70715396929614,
          279.03434118516685,
          291.4360051469271,
          304.2844469719056,
          312.30036805619926,
          314.96960402378653,
          322.83192420434204,
          340.2009299626949,
          358.8683868879198,
          370.17654497869614,
          403.37297594306295,
          444.2202496711126,
          456.822824383447,
          497.60319190170696,
          508.6912271213663,
          515.72814657311,
          492.57537995570647,
          519.9137952151253,
          556.0997281965247,
          607.3461865621783,
          623.8512232597301,
          636.2122535865427,
          636.6784837218104,
          647.4769442545913,
          683.7769492017123
         ]
        },
        {
         "mode": "lines",
         "name": "Vegetable textile fibres",
         "showlegend": true,
         "type": "scatter",
         "x": [
          1961,
          1962,
          1963,
          1964,
          1965,
          1966,
          1967,
          1968,
          1969,
          1970,
          1971,
          1972,
          1973,
          1974,
          1975,
          1976,
          1977,
          1978,
          1979,
          1980,
          1981,
          1982,
          1983,
          1984,
          1985,
          1986,
          1987,
          1988,
          1989,
          1990,
          1991,
          1992,
          1993,
          1994,
          1995,
          1996,
          1997,
          1998,
          1999,
          2000,
          2001,
          2002,
          2003,
          2004,
          2005,
          2006,
          2007,
          2008,
          2009,
          2010,
          2011,
          2012,
          2013,
          2014,
          2015,
          2016,
          2017
         ],
         "y": [
          100,
          93.02277176231698,
          94.34793393732022,
          91.01588473888945,
          95.0349510377988,
          97.77441583441815,
          103.01543061044501,
          76.22525243894471,
          101.82405301949589,
          92.96600570676252,
          84.71071338079409,
          94.39855033685627,
          101.13014712165054,
          78.84731202378971,
          82.89186391639069,
          92.31168821953563,
          95.16713907654045,
          106.0288803220764,
          101.02699255507268,
          98.32451439152554,
          98.473968772165,
          91.31633091417297,
          99.74133009372608,
          104.07491581919184,
          157.00571474524904,
          125.81962644978879,
          111.52785542868276,
          104.40643549676064,
          102.28962337200423,
          104.17221638629064,
          118.28029599950094,
          105.21966837388608,
          99.77518276748121,
          106.30664964079209,
          103.24571748894171,
          114.75394132341188,
          116.84305043043157,
          99.1281975624301,
          101.63527631912339,
          105.2792136009104,
          113.80420382207035,
          122.38371310908573,
          121.17311784307911,
          121.45907684793467,
          128.77648749978934,
          119.91654798520418,
          112.60434088844198,
          110.78531403011498,
          111.86017337890782,
          103.83419226485621,
          122.75275160149756,
          125.68581230008074,
          123.41851099679715,
          124.93268639740438,
          120.45674204824346,
          123.88062216779514,
          129.32155989572783
         ]
        },
        {
         "mode": "lines",
         "name": "Vegetable textile fibres",
         "showlegend": true,
         "type": "scatter",
         "x": [
          1961,
          1962,
          1963,
          1964,
          1965,
          1966,
          1967,
          1968,
          1969,
          1970,
          1971,
          1972,
          1973,
          1974,
          1975,
          1976,
          1977,
          1978,
          1979,
          1980,
          1981,
          1982,
          1983,
          1984,
          1985,
          1986,
          1987,
          1988,
          1989,
          1990,
          1991,
          1992,
          1993,
          1994,
          1995,
          1996,
          1997,
          1998,
          1999,
          2000,
          2001,
          2002,
          2003,
          2004,
          2005,
          2006,
          2007,
          2008,
          2009,
          2010,
          2011,
          2012,
          2013,
          2014,
          2015,
          2016,
          2017
         ],
         "y": [
          100,
          101.89457480197103,
          103.85393056699748,
          105.89081661434814,
          108.01269823130153,
          110.22299874765298,
          112.51442558861694,
          114.86995117828904,
          117.26598124359727,
          119.68384032445792,
          122.12001055200884,
          124.57455353997643,
          127.03683834927031,
          129.49536944335392,
          131.94330815139796,
          134.37506958530548,
          136.79560593620948,
          139.2222307259227,
          141.6794249153439,
          144.1859364455861,
          146.7408279794285,
          149.34088777605135,
          151.998938282616,
          154.73006994593663,
          157.54101813277833,
          160.44045892908773,
          163.4145497843271,
          166.4193545485289,
          169.39542852483703,
          172.2995050991111,
          175.11524861274293,
          177.85246234326956,
          180.5265219071775,
          183.1642000695865,
          185.78601944098978,
          188.39543262174556,
          190.9878612753475,
          193.56716885735963,
          196.13667513476773,
          198.70002505272336,
          201.25942958988188,
          203.8192804303533,
          206.387713335195,
          208.97433438567626,
          211.58596844209555,
          214.22552008224912,
          216.89152749217718,
          219.580605248272,
          222.287029645579,
          225.0056830900271,
          227.73449836832248,
          230.47182183920282,
          233.21303163226366,
          235.952781843043,
          238.68598531238666,
          241.4100853455647,
          244.1216351316451
         ]
        }
       ],
       "layout": {
        "legend": {
         "font": {
          "size": 10
         }
        },
        "template": {
         "data": {
          "bar": [
           {
            "error_x": {
             "color": "#2a3f5f"
            },
            "error_y": {
             "color": "#2a3f5f"
            },
            "marker": {
             "line": {
              "color": "#E5ECF6",
              "width": 0.5
             }
            },
            "type": "bar"
           }
          ],
          "barpolar": [
           {
            "marker": {
             "line": {
              "color": "#E5ECF6",
              "width": 0.5
             }
            },
            "type": "barpolar"
           }
          ],
          "carpet": [
           {
            "aaxis": {
             "endlinecolor": "#2a3f5f",
             "gridcolor": "white",
             "linecolor": "white",
             "minorgridcolor": "white",
             "startlinecolor": "#2a3f5f"
            },
            "baxis": {
             "endlinecolor": "#2a3f5f",
             "gridcolor": "white",
             "linecolor": "white",
             "minorgridcolor": "white",
             "startlinecolor": "#2a3f5f"
            },
            "type": "carpet"
           }
          ],
          "choropleth": [
           {
            "colorbar": {
             "outlinewidth": 0,
             "ticks": ""
            },
            "type": "choropleth"
           }
          ],
          "contour": [
           {
            "colorbar": {
             "outlinewidth": 0,
             "ticks": ""
            },
            "colorscale": [
             [
              0,
              "#0d0887"
             ],
             [
              0.1111111111111111,
              "#46039f"
             ],
             [
              0.2222222222222222,
              "#7201a8"
             ],
             [
              0.3333333333333333,
              "#9c179e"
             ],
             [
              0.4444444444444444,
              "#bd3786"
             ],
             [
              0.5555555555555556,
              "#d8576b"
             ],
             [
              0.6666666666666666,
              "#ed7953"
             ],
             [
              0.7777777777777778,
              "#fb9f3a"
             ],
             [
              0.8888888888888888,
              "#fdca26"
             ],
             [
              1,
              "#f0f921"
             ]
            ],
            "type": "contour"
           }
          ],
          "contourcarpet": [
           {
            "colorbar": {
             "outlinewidth": 0,
             "ticks": ""
            },
            "type": "contourcarpet"
           }
          ],
          "heatmap": [
           {
            "colorbar": {
             "outlinewidth": 0,
             "ticks": ""
            },
            "colorscale": [
             [
              0,
              "#0d0887"
             ],
             [
              0.1111111111111111,
              "#46039f"
             ],
             [
              0.2222222222222222,
              "#7201a8"
             ],
             [
              0.3333333333333333,
              "#9c179e"
             ],
             [
              0.4444444444444444,
              "#bd3786"
             ],
             [
              0.5555555555555556,
              "#d8576b"
             ],
             [
              0.6666666666666666,
              "#ed7953"
             ],
             [
              0.7777777777777778,
              "#fb9f3a"
             ],
             [
              0.8888888888888888,
              "#fdca26"
             ],
             [
              1,
              "#f0f921"
             ]
            ],
            "type": "heatmap"
           }
          ],
          "heatmapgl": [
           {
            "colorbar": {
             "outlinewidth": 0,
             "ticks": ""
            },
            "colorscale": [
             [
              0,
              "#0d0887"
             ],
             [
              0.1111111111111111,
              "#46039f"
             ],
             [
              0.2222222222222222,
              "#7201a8"
             ],
             [
              0.3333333333333333,
              "#9c179e"
             ],
             [
              0.4444444444444444,
              "#bd3786"
             ],
             [
              0.5555555555555556,
              "#d8576b"
             ],
             [
              0.6666666666666666,
              "#ed7953"
             ],
             [
              0.7777777777777778,
              "#fb9f3a"
             ],
             [
              0.8888888888888888,
              "#fdca26"
             ],
             [
              1,
              "#f0f921"
             ]
            ],
            "type": "heatmapgl"
           }
          ],
          "histogram": [
           {
            "marker": {
             "colorbar": {
              "outlinewidth": 0,
              "ticks": ""
             }
            },
            "type": "histogram"
           }
          ],
          "histogram2d": [
           {
            "colorbar": {
             "outlinewidth": 0,
             "ticks": ""
            },
            "colorscale": [
             [
              0,
              "#0d0887"
             ],
             [
              0.1111111111111111,
              "#46039f"
             ],
             [
              0.2222222222222222,
              "#7201a8"
             ],
             [
              0.3333333333333333,
              "#9c179e"
             ],
             [
              0.4444444444444444,
              "#bd3786"
             ],
             [
              0.5555555555555556,
              "#d8576b"
             ],
             [
              0.6666666666666666,
              "#ed7953"
             ],
             [
              0.7777777777777778,
              "#fb9f3a"
             ],
             [
              0.8888888888888888,
              "#fdca26"
             ],
             [
              1,
              "#f0f921"
             ]
            ],
            "type": "histogram2d"
           }
          ],
          "histogram2dcontour": [
           {
            "colorbar": {
             "outlinewidth": 0,
             "ticks": ""
            },
            "colorscale": [
             [
              0,
              "#0d0887"
             ],
             [
              0.1111111111111111,
              "#46039f"
             ],
             [
              0.2222222222222222,
              "#7201a8"
             ],
             [
              0.3333333333333333,
              "#9c179e"
             ],
             [
              0.4444444444444444,
              "#bd3786"
             ],
             [
              0.5555555555555556,
              "#d8576b"
             ],
             [
              0.6666666666666666,
              "#ed7953"
             ],
             [
              0.7777777777777778,
              "#fb9f3a"
             ],
             [
              0.8888888888888888,
              "#fdca26"
             ],
             [
              1,
              "#f0f921"
             ]
            ],
            "type": "histogram2dcontour"
           }
          ],
          "mesh3d": [
           {
            "colorbar": {
             "outlinewidth": 0,
             "ticks": ""
            },
            "type": "mesh3d"
           }
          ],
          "parcoords": [
           {
            "line": {
             "colorbar": {
              "outlinewidth": 0,
              "ticks": ""
             }
            },
            "type": "parcoords"
           }
          ],
          "pie": [
           {
            "automargin": true,
            "type": "pie"
           }
          ],
          "scatter": [
           {
            "marker": {
             "colorbar": {
              "outlinewidth": 0,
              "ticks": ""
             }
            },
            "type": "scatter"
           }
          ],
          "scatter3d": [
           {
            "line": {
             "colorbar": {
              "outlinewidth": 0,
              "ticks": ""
             }
            },
            "marker": {
             "colorbar": {
              "outlinewidth": 0,
              "ticks": ""
             }
            },
            "type": "scatter3d"
           }
          ],
          "scattercarpet": [
           {
            "marker": {
             "colorbar": {
              "outlinewidth": 0,
              "ticks": ""
             }
            },
            "type": "scattercarpet"
           }
          ],
          "scattergeo": [
           {
            "marker": {
             "colorbar": {
              "outlinewidth": 0,
              "ticks": ""
             }
            },
            "type": "scattergeo"
           }
          ],
          "scattergl": [
           {
            "marker": {
             "colorbar": {
              "outlinewidth": 0,
              "ticks": ""
             }
            },
            "type": "scattergl"
           }
          ],
          "scattermapbox": [
           {
            "marker": {
             "colorbar": {
              "outlinewidth": 0,
              "ticks": ""
             }
            },
            "type": "scattermapbox"
           }
          ],
          "scatterpolar": [
           {
            "marker": {
             "colorbar": {
              "outlinewidth": 0,
              "ticks": ""
             }
            },
            "type": "scatterpolar"
           }
          ],
          "scatterpolargl": [
           {
            "marker": {
             "colorbar": {
              "outlinewidth": 0,
              "ticks": ""
             }
            },
            "type": "scatterpolargl"
           }
          ],
          "scatterternary": [
           {
            "marker": {
             "colorbar": {
              "outlinewidth": 0,
              "ticks": ""
             }
            },
            "type": "scatterternary"
           }
          ],
          "surface": [
           {
            "colorbar": {
             "outlinewidth": 0,
             "ticks": ""
            },
            "colorscale": [
             [
              0,
              "#0d0887"
             ],
             [
              0.1111111111111111,
              "#46039f"
             ],
             [
              0.2222222222222222,
              "#7201a8"
             ],
             [
              0.3333333333333333,
              "#9c179e"
             ],
             [
              0.4444444444444444,
              "#bd3786"
             ],
             [
              0.5555555555555556,
              "#d8576b"
             ],
             [
              0.6666666666666666,
              "#ed7953"
             ],
             [
              0.7777777777777778,
              "#fb9f3a"
             ],
             [
              0.8888888888888888,
              "#fdca26"
             ],
             [
              1,
              "#f0f921"
             ]
            ],
            "type": "surface"
           }
          ],
          "table": [
           {
            "cells": {
             "fill": {
              "color": "#EBF0F8"
             },
             "line": {
              "color": "white"
             }
            },
            "header": {
             "fill": {
              "color": "#C8D4E3"
             },
             "line": {
              "color": "white"
             }
            },
            "type": "table"
           }
          ]
         },
         "layout": {
          "annotationdefaults": {
           "arrowcolor": "#2a3f5f",
           "arrowhead": 0,
           "arrowwidth": 1
          },
          "coloraxis": {
           "colorbar": {
            "outlinewidth": 0,
            "ticks": ""
           }
          },
          "colorscale": {
           "diverging": [
            [
             0,
             "#8e0152"
            ],
            [
             0.1,
             "#c51b7d"
            ],
            [
             0.2,
             "#de77ae"
            ],
            [
             0.3,
             "#f1b6da"
            ],
            [
             0.4,
             "#fde0ef"
            ],
            [
             0.5,
             "#f7f7f7"
            ],
            [
             0.6,
             "#e6f5d0"
            ],
            [
             0.7,
             "#b8e186"
            ],
            [
             0.8,
             "#7fbc41"
            ],
            [
             0.9,
             "#4d9221"
            ],
            [
             1,
             "#276419"
            ]
           ],
           "sequential": [
            [
             0,
             "#0d0887"
            ],
            [
             0.1111111111111111,
             "#46039f"
            ],
            [
             0.2222222222222222,
             "#7201a8"
            ],
            [
             0.3333333333333333,
             "#9c179e"
            ],
            [
             0.4444444444444444,
             "#bd3786"
            ],
            [
             0.5555555555555556,
             "#d8576b"
            ],
            [
             0.6666666666666666,
             "#ed7953"
            ],
            [
             0.7777777777777778,
             "#fb9f3a"
            ],
            [
             0.8888888888888888,
             "#fdca26"
            ],
            [
             1,
             "#f0f921"
            ]
           ],
           "sequentialminus": [
            [
             0,
             "#0d0887"
            ],
            [
             0.1111111111111111,
             "#46039f"
            ],
            [
             0.2222222222222222,
             "#7201a8"
            ],
            [
             0.3333333333333333,
             "#9c179e"
            ],
            [
             0.4444444444444444,
             "#bd3786"
            ],
            [
             0.5555555555555556,
             "#d8576b"
            ],
            [
             0.6666666666666666,
             "#ed7953"
            ],
            [
             0.7777777777777778,
             "#fb9f3a"
            ],
            [
             0.8888888888888888,
             "#fdca26"
            ],
            [
             1,
             "#f0f921"
            ]
           ]
          },
          "colorway": [
           "#636efa",
           "#EF553B",
           "#00cc96",
           "#ab63fa",
           "#FFA15A",
           "#19d3f3",
           "#FF6692",
           "#B6E880",
           "#FF97FF",
           "#FECB52"
          ],
          "font": {
           "color": "#2a3f5f"
          },
          "geo": {
           "bgcolor": "white",
           "lakecolor": "white",
           "landcolor": "#E5ECF6",
           "showlakes": true,
           "showland": true,
           "subunitcolor": "white"
          },
          "hoverlabel": {
           "align": "left"
          },
          "hovermode": "closest",
          "mapbox": {
           "style": "light"
          },
          "paper_bgcolor": "white",
          "plot_bgcolor": "#E5ECF6",
          "polar": {
           "angularaxis": {
            "gridcolor": "white",
            "linecolor": "white",
            "ticks": ""
           },
           "bgcolor": "#E5ECF6",
           "radialaxis": {
            "gridcolor": "white",
            "linecolor": "white",
            "ticks": ""
           }
          },
          "scene": {
           "xaxis": {
            "backgroundcolor": "#E5ECF6",
            "gridcolor": "white",
            "gridwidth": 2,
            "linecolor": "white",
            "showbackground": true,
            "ticks": "",
            "zerolinecolor": "white"
           },
           "yaxis": {
            "backgroundcolor": "#E5ECF6",
            "gridcolor": "white",
            "gridwidth": 2,
            "linecolor": "white",
            "showbackground": true,
            "ticks": "",
            "zerolinecolor": "white"
           },
           "zaxis": {
            "backgroundcolor": "#E5ECF6",
            "gridcolor": "white",
            "gridwidth": 2,
            "linecolor": "white",
            "showbackground": true,
            "ticks": "",
            "zerolinecolor": "white"
           }
          },
          "shapedefaults": {
           "line": {
            "color": "#2a3f5f"
           }
          },
          "ternary": {
           "aaxis": {
            "gridcolor": "white",
            "linecolor": "white",
            "ticks": ""
           },
           "baxis": {
            "gridcolor": "white",
            "linecolor": "white",
            "ticks": ""
           },
           "bgcolor": "#E5ECF6",
           "caxis": {
            "gridcolor": "white",
            "linecolor": "white",
            "ticks": ""
           }
          },
          "title": {
           "x": 0.05
          },
          "xaxis": {
           "automargin": true,
           "gridcolor": "white",
           "linecolor": "white",
           "ticks": "",
           "title": {
            "standoff": 15
           },
           "zerolinecolor": "white",
           "zerolinewidth": 2
          },
          "yaxis": {
           "automargin": true,
           "gridcolor": "white",
           "linecolor": "white",
           "ticks": "",
           "title": {
            "standoff": 15
           },
           "zerolinecolor": "white",
           "zerolinewidth": 2
          }
         }
        },
        "title": {
         "text": "Indexed Production of Crops per Category and world population"
        },
        "yaxis": {
         "title": {
          "text": "Indexed production or world population[%]"
         }
        }
       }
      },
      "text/html": [
       "<div>\n",
       "        \n",
       "        \n",
       "            <div id=\"4b30b76d-db4f-474a-bd16-4d40207b42a2\" class=\"plotly-graph-div\" style=\"height:525px; width:100%;\"></div>\n",
       "            <script type=\"text/javascript\">\n",
       "                require([\"plotly\"], function(Plotly) {\n",
       "                    window.PLOTLYENV=window.PLOTLYENV || {};\n",
       "                    \n",
       "                if (document.getElementById(\"4b30b76d-db4f-474a-bd16-4d40207b42a2\")) {\n",
       "                    Plotly.newPlot(\n",
       "                        '4b30b76d-db4f-474a-bd16-4d40207b42a2',\n",
       "                        [{\"mode\": \"lines\", \"name\": \"Vegetables\", \"showlegend\": true, \"type\": \"scatter\", \"x\": [1961, 1962, 1963, 1964, 1965, 1966, 1967, 1968, 1969, 1970, 1971, 1972, 1973, 1974, 1975, 1976, 1977, 1978, 1979, 1980, 1981, 1982, 1983, 1984, 1985, 1986, 1987, 1988, 1989, 1990, 1991, 1992, 1993, 1994, 1995, 1996, 1997, 1998, 1999, 2000, 2001, 2002, 2003, 2004, 2005, 2006, 2007, 2008, 2009, 2010, 2011, 2012, 2013, 2014, 2015, 2016, 2017], \"y\": [100.0, 99.5715459616944, 101.75940958370018, 104.32249634501206, 105.03702713390743, 108.82565505324793, 112.45864277423267, 115.41769143716904, 113.03362878142413, 118.03724636071924, 115.39755544052066, 113.04604959997717, 125.55973443069463, 120.87978008591138, 120.23911359750106, 120.28298978942607, 125.26017308264453, 131.63507413881075, 129.97892357448734, 121.64233666261275, 126.22818677966721, 129.54400454462115, 131.98617473266827, 139.55158725093622, 137.71166514586858, 141.03241055593116, 143.65591722583446, 141.98998971652844, 146.41504299319504, 146.21579961937118, 144.5027966356541, 148.22484540784794, 158.82460080925765, 157.351644605369, 165.0641472029982, 175.53002076882908, 173.11748812222675, 178.13856190974573, 187.4691521597566, 203.20190220450075, 203.64407825970017, 207.7297946463653, 212.0632021147378, 218.14674502978465, 219.75745535796355, 220.13958813379327, 237.22553042171208, 245.40827605623932, 250.92925330590194, 255.44770522643893, 269.6552930129577, 276.6992302728479, 282.47662035171845, 291.5945787741916, 294.98612443915937, 299.4032924983773, 306.45961927050973]}, {\"mode\": \"lines\", \"name\": \"Fruit and nuts\", \"showlegend\": true, \"type\": \"scatter\", \"x\": [1961, 1962, 1963, 1964, 1965, 1966, 1967, 1968, 1969, 1970, 1971, 1972, 1973, 1974, 1975, 1976, 1977, 1978, 1979, 1980, 1981, 1982, 1983, 1984, 1985, 1986, 1987, 1988, 1989, 1990, 1991, 1992, 1993, 1994, 1995, 1996, 1997, 1998, 1999, 2000, 2001, 2002, 2003, 2004, 2005, 2006, 2007, 2008, 2009, 2010, 2011, 2012, 2013, 2014, 2015, 2016, 2017], \"y\": [100.0, 109.64005580220612, 107.2901119802139, 112.35402286172264, 116.2956396960827, 117.65089563375932, 122.27578262970293, 125.50089318009279, 126.35553706543385, 130.3680818128077, 134.18587013857243, 133.33302361047333, 142.9400138273514, 142.34652419222175, 146.81809268790425, 151.88666491568173, 148.21317678045133, 153.37560847105735, 164.06819677752347, 168.74631097335484, 168.86953640089743, 176.6057107961865, 176.4910070537848, 176.2206251983656, 194.22611957165557, 205.93107063661503, 207.6546246074185, 207.6010124072015, 212.22282508507936, 212.3800990115424, 213.0188233430795, 229.55166148364924, 237.42689283008875, 241.64047544739725, 251.67670537368681, 266.08834156576006, 281.44546260006547, 280.775055583712, 300.11100722246147, 309.11737780482304, 317.19512655937535, 327.00545896359523, 333.86562169687807, 347.7457036960569, 358.7458679904256, 372.7858083276739, 383.00602035092106, 393.22831602695703, 402.2947544123725, 411.34055471302213, 424.0999023039701, 433.8548587413637, 450.7588056758537, 456.6145557782482, 462.672144757974, 468.85212766788686, 475.06947731445763]}, {\"mode\": \"lines\", \"name\": \"Coffee, tea, mate\", \"showlegend\": true, \"type\": \"scatter\", \"x\": [1961, 1962, 1963, 1964, 1965, 1966, 1967, 1968, 1969, 1970, 1971, 1972, 1973, 1974, 1975, 1976, 1977, 1978, 1979, 1980, 1981, 1982, 1983, 1984, 1985, 1986, 1987, 1988, 1989, 1990, 1991, 1992, 1993, 1994, 1995, 1996, 1997, 1998, 1999, 2000, 2001, 2002, 2003, 2004, 2005, 2006, 2007, 2008, 2009, 2010, 2011, 2012, 2013, 2014, 2015, 2016, 2017], \"y\": [100.0, 102.84401569020318, 98.5473736937434, 93.12600801207013, 110.06632764793352, 98.81745740789809, 104.39373783277253, 98.90647704848017, 104.04838215953238, 100.81006965491959, 113.28018470592363, 113.27257735301626, 110.01726551506769, 118.39460957794468, 118.85477124704931, 103.05918429818162, 123.67204051285961, 130.48529466922685, 133.99780460566993, 134.88154307969845, 154.57186785770892, 140.3989156724174, 152.61600683845066, 151.19651713302915, 166.94335955223394, 156.87205612078841, 174.82123476865783, 170.12940364402792, 175.83322444080662, 179.32605810263243, 185.60569350625465, 190.6925625194343, 187.23761438252492, 185.8997487002467, 187.07925137597806, 204.74883333756804, 204.8859774253693, 223.78604493873584, 230.9846878958697, 242.34836413176964, 248.69953587585286, 256.9877544304135, 252.25333422867186, 263.9375930879864, 263.183845067713, 278.8612836251048, 289.20195994448903, 296.5368395517016, 287.3589841779159, 305.06569546632016, 320.06161804615346, 334.8121694658095, 343.71771790302034, 348.2623777530148, 366.4647315254754, 382.0411117684993, 395.8932695949077]}, {\"mode\": \"lines\", \"name\": \"Cereals\", \"showlegend\": true, \"type\": \"scatter\", \"x\": [1961, 1962, 1963, 1964, 1965, 1966, 1967, 1968, 1969, 1970, 1971, 1972, 1973, 1974, 1975, 1976, 1977, 1978, 1979, 1980, 1981, 1982, 1983, 1984, 1985, 1986, 1987, 1988, 1989, 1990, 1991, 1992, 1993, 1994, 1995, 1996, 1997, 1998, 1999, 2000, 2001, 2002, 2003, 2004, 2005, 2006, 2007, 2008, 2009, 2010, 2011, 2012, 2013, 2014, 2015, 2016, 2017], \"y\": [100.0, 106.50623808425921, 108.49104705294633, 114.25512970705513, 114.06193698192313, 123.19041841594074, 128.4438613602885, 132.6812557072069, 133.8083712565727, 136.39845318401842, 148.74016996658014, 144.01399732232, 155.13270034249362, 151.83314168302715, 155.9408433467918, 167.66625767507273, 166.9448796822498, 181.3970735034247, 176.36129803396307, 177.71324676835823, 187.25848960933723, 194.09728535321716, 186.52434331388605, 205.02247837039684, 208.894356869335, 210.4528675470052, 203.04292683643354, 198.13754243008174, 214.53163471398838, 223.84974312618638, 216.86606556874204, 225.97529950370608, 218.44485656900687, 223.44792154342895, 217.75032092845822, 236.52651374100296, 240.36458970537598, 239.24713454110707, 238.90973580195248, 236.61168464435343, 241.92281098508354, 236.02854037638727, 238.35033000094614, 262.721526666418, 260.3090880839208, 259.1726112247412, 269.7972885357883, 289.7822499798749, 286.27904294181326, 283.1995028852671, 297.36819718577186, 294.37211376438984, 318.03902707792014, 323.28085804422216, 327.93570065743853, 333.73542303930935, 341.9065154143729]}, {\"mode\": \"lines\", \"name\": \"Oil seeds\", \"showlegend\": true, \"type\": \"scatter\", \"x\": [1961, 1962, 1963, 1964, 1965, 1966, 1967, 1968, 1969, 1970, 1971, 1972, 1973, 1974, 1975, 1976, 1977, 1978, 1979, 1980, 1981, 1982, 1983, 1984, 1985, 1986, 1987, 1988, 1989, 1990, 1991, 1992, 1993, 1994, 1995, 1996, 1997, 1998, 1999, 2000, 2001, 2002, 2003, 2004, 2005, 2006, 2007, 2008, 2009, 2010, 2011, 2012, 2013, 2014, 2015, 2016, 2017], \"y\": [100.0, 97.54409301049088, 110.19313874696198, 120.42405613311165, 116.42638506813721, 127.4258264247089, 133.66600437598333, 141.13193255617244, 138.37342312736934, 141.2108825936019, 150.11261018509614, 152.09800566722714, 162.25970008383288, 154.7231682723334, 178.90434170880522, 179.92709153248765, 192.24369515655033, 192.4120702382097, 201.05007147869412, 196.50143912909118, 227.72362004159868, 227.95815231564882, 200.42895197904542, 222.73390391203014, 228.53857415461292, 229.68183290039238, 236.56725299048605, 231.83152648906446, 247.10753194376625, 255.17110386791848, 252.7826175855076, 287.3088656424353, 287.9025321793799, 280.5096702934002, 282.67040080855674, 299.9394027872542, 326.413709305791, 337.98183333615367, 341.6181951936609, 334.5420725648662, 327.0861392172688, 348.54856049082457, 342.68537207396014, 370.58678916781827, 384.88845228079884, 385.6185681075075, 380.04179073285786, 382.5005028151307, 382.34110879343734, 411.1341630490486, 448.2526708354756, 427.495640278869, 452.24381449207084, 484.53387130524044, 473.9141994729013, 505.06758287853506, 539.1536437810639]}, {\"mode\": \"lines\", \"name\": \"Cocoa\", \"showlegend\": true, \"type\": \"scatter\", \"x\": [1961, 1962, 1963, 1964, 1965, 1966, 1967, 1968, 1969, 1970, 1971, 1972, 1973, 1974, 1975, 1976, 1977, 1978, 1979, 1980, 1981, 1982, 1983, 1984, 1985, 1986, 1987, 1988, 1989, 1990, 1991, 1992, 1993, 1994, 1995, 1996, 1997, 1998, 1999, 2000, 2001, 2002, 2003, 2004, 2005, 2006, 2007, 2008, 2009, 2010, 2011, 2012, 2013, 2014, 2015, 2016, 2017], \"y\": [100.0, 102.28256800914546, 107.92065852613972, 130.20113576200256, 103.60616238563975, 113.32303121659399, 117.2127968813756, 105.08057907675499, 119.60546770935554, 130.1125308136143, 138.15964740120253, 127.35759979227154, 118.19849531767952, 131.21322178046205, 131.65051375695097, 115.20143926135003, 122.45347186392439, 126.06755895474824, 139.93882802040864, 140.8459538478659, 146.29402005119024, 136.18293929001385, 135.27960720440007, 152.64213043053067, 169.7851224619867, 178.59124033438886, 173.3200468063438, 216.10283232335496, 222.65133657740415, 213.4723360344775, 212.6126741327506, 225.68793185427984, 225.2879871586054, 225.2024172036919, 251.71333812187856, 272.95036774004274, 254.3536138341747, 278.4274349921259, 250.8347918163087, 281.43789560296887, 271.6673242485862, 278.0451101196799, 312.35663871100456, 343.09555845566047, 340.9232618760981, 362.50172826017314, 328.70066871022897, 359.6365258092473, 355.0345483423877, 364.9835941741614, 389.055560613878, 388.9330649050215, 378.0924054346616, 397.0970287413882, 403.96673647151664, 392.778233026799, 438.4787432429243]}, {\"mode\": \"lines\", \"name\": \"Tobacco\", \"showlegend\": true, \"type\": \"scatter\", \"x\": [1961, 1962, 1963, 1964, 1965, 1966, 1967, 1968, 1969, 1970, 1971, 1972, 1973, 1974, 1975, 1976, 1977, 1978, 1979, 1980, 1981, 1982, 1983, 1984, 1985, 1986, 1987, 1988, 1989, 1990, 1991, 1992, 1993, 1994, 1995, 1996, 1997, 1998, 1999, 2000, 2001, 2002, 2003, 2004, 2005, 2006, 2007, 2008, 2009, 2010, 2011, 2012, 2013, 2014, 2015, 2016, 2017], \"y\": [100.0, 110.12937304480177, 119.33777400857058, 130.47312286929028, 121.82986897012653, 128.72407343963246, 137.20389101998865, 133.6953176337117, 131.18586809397308, 130.86497688864426, 128.19860601737705, 138.47773952406894, 138.9178943111805, 148.72637615065346, 152.1070929115815, 160.9304075798507, 156.7139190456667, 168.09582647668364, 152.55266749414494, 147.63149322385158, 167.9438475492977, 195.11499514184138, 168.13814581215493, 184.04288658867404, 197.93856816305438, 168.70289973097596, 173.47922786168007, 192.0651667218943, 198.40430550797242, 200.43425760035046, 212.16056073821545, 233.8440390674582, 234.18571083565945, 181.15284384811093, 176.06590246614735, 207.61880023139437, 251.1674464058051, 193.1834418228485, 195.74995366496117, 187.7659490820046, 171.44455801989318, 179.99115421985837, 168.44701798922782, 184.16672751065707, 188.7455841303896, 183.71854131681374, 173.1400834592336, 186.67401474858326, 200.56978056848882, 195.02367299256954, 210.08385237937443, 213.25106289770906, 213.61011732593468, 205.1408023543816, 192.04163413853334, 179.69247575132968, 182.5772110238078]}, {\"mode\": \"lines\", \"name\": \"Rubber\", \"showlegend\": true, \"type\": \"scatter\", \"x\": [1961, 1962, 1963, 1964, 1965, 1966, 1967, 1968, 1969, 1970, 1971, 1972, 1973, 1974, 1975, 1976, 1977, 1978, 1979, 1980, 1981, 1982, 1983, 1984, 1985, 1986, 1987, 1988, 1989, 1990, 1991, 1992, 1993, 1994, 1995, 1996, 1997, 1998, 1999, 2000, 2001, 2002, 2003, 2004, 2005, 2006, 2007, 2008, 2009, 2010, 2011, 2012, 2013, 2014, 2015, 2016, 2017], \"y\": [100.0, 101.82865766354678, 104.87891801179528, 108.11409502026639, 111.68260232015174, 115.86757853794802, 115.95715504997793, 125.73319455778262, 136.90730007747288, 139.38374241541504, 141.5799279449419, 142.73222290478617, 159.29998717590954, 157.87468798315481, 152.22296242253313, 166.4053498070863, 167.0521258451532, 169.75997817503105, 175.35723737391447, 172.99481897139268, 172.4807986862752, 171.57292993003426, 183.559323906266, 185.86871685609017, 203.74458638465836, 221.53150379511425, 231.5469743551812, 245.47681841520176, 246.59246625511102, 250.447474302588, 248.41089346446887, 259.72039640368314, 268.70715396929614, 279.03434118516685, 291.4360051469271, 304.2844469719056, 312.30036805619926, 314.96960402378653, 322.83192420434204, 340.2009299626949, 358.8683868879198, 370.17654497869614, 403.37297594306295, 444.2202496711126, 456.822824383447, 497.60319190170696, 508.6912271213663, 515.72814657311, 492.57537995570647, 519.9137952151253, 556.0997281965247, 607.3461865621783, 623.8512232597301, 636.2122535865427, 636.6784837218104, 647.4769442545913, 683.7769492017123]}, {\"mode\": \"lines\", \"name\": \"Vegetable textile fibres\", \"showlegend\": true, \"type\": \"scatter\", \"x\": [1961, 1962, 1963, 1964, 1965, 1966, 1967, 1968, 1969, 1970, 1971, 1972, 1973, 1974, 1975, 1976, 1977, 1978, 1979, 1980, 1981, 1982, 1983, 1984, 1985, 1986, 1987, 1988, 1989, 1990, 1991, 1992, 1993, 1994, 1995, 1996, 1997, 1998, 1999, 2000, 2001, 2002, 2003, 2004, 2005, 2006, 2007, 2008, 2009, 2010, 2011, 2012, 2013, 2014, 2015, 2016, 2017], \"y\": [100.0, 93.02277176231698, 94.34793393732022, 91.01588473888945, 95.0349510377988, 97.77441583441815, 103.01543061044501, 76.22525243894471, 101.82405301949589, 92.96600570676252, 84.71071338079409, 94.39855033685627, 101.13014712165054, 78.84731202378971, 82.89186391639069, 92.31168821953563, 95.16713907654045, 106.0288803220764, 101.02699255507268, 98.32451439152554, 98.473968772165, 91.31633091417297, 99.74133009372608, 104.07491581919184, 157.00571474524904, 125.81962644978879, 111.52785542868276, 104.40643549676064, 102.28962337200423, 104.17221638629064, 118.28029599950094, 105.21966837388608, 99.77518276748121, 106.30664964079209, 103.24571748894171, 114.75394132341188, 116.84305043043157, 99.1281975624301, 101.63527631912339, 105.2792136009104, 113.80420382207035, 122.38371310908573, 121.17311784307911, 121.45907684793467, 128.77648749978934, 119.91654798520418, 112.60434088844198, 110.78531403011498, 111.86017337890782, 103.83419226485621, 122.75275160149756, 125.68581230008074, 123.41851099679715, 124.93268639740438, 120.45674204824346, 123.88062216779514, 129.32155989572783]}, {\"mode\": \"lines\", \"name\": \"Vegetable textile fibres\", \"showlegend\": true, \"type\": \"scatter\", \"x\": [1961, 1962, 1963, 1964, 1965, 1966, 1967, 1968, 1969, 1970, 1971, 1972, 1973, 1974, 1975, 1976, 1977, 1978, 1979, 1980, 1981, 1982, 1983, 1984, 1985, 1986, 1987, 1988, 1989, 1990, 1991, 1992, 1993, 1994, 1995, 1996, 1997, 1998, 1999, 2000, 2001, 2002, 2003, 2004, 2005, 2006, 2007, 2008, 2009, 2010, 2011, 2012, 2013, 2014, 2015, 2016, 2017], \"y\": [100.0, 101.89457480197103, 103.85393056699748, 105.89081661434814, 108.01269823130153, 110.22299874765298, 112.51442558861694, 114.86995117828904, 117.26598124359727, 119.68384032445792, 122.12001055200884, 124.57455353997643, 127.03683834927031, 129.49536944335392, 131.94330815139796, 134.37506958530548, 136.79560593620948, 139.2222307259227, 141.6794249153439, 144.1859364455861, 146.7408279794285, 149.34088777605135, 151.998938282616, 154.73006994593663, 157.54101813277833, 160.44045892908773, 163.4145497843271, 166.4193545485289, 169.39542852483703, 172.2995050991111, 175.11524861274293, 177.85246234326956, 180.5265219071775, 183.1642000695865, 185.78601944098978, 188.39543262174556, 190.9878612753475, 193.56716885735963, 196.13667513476773, 198.70002505272336, 201.25942958988188, 203.8192804303533, 206.387713335195, 208.97433438567626, 211.58596844209555, 214.22552008224912, 216.89152749217718, 219.580605248272, 222.287029645579, 225.0056830900271, 227.73449836832248, 230.47182183920282, 233.21303163226366, 235.952781843043, 238.68598531238666, 241.4100853455647, 244.1216351316451]}],\n",
       "                        {\"legend\": {\"font\": {\"size\": 10}}, \"template\": {\"data\": {\"bar\": [{\"error_x\": {\"color\": \"#2a3f5f\"}, \"error_y\": {\"color\": \"#2a3f5f\"}, \"marker\": {\"line\": {\"color\": \"#E5ECF6\", \"width\": 0.5}}, \"type\": \"bar\"}], \"barpolar\": [{\"marker\": {\"line\": {\"color\": \"#E5ECF6\", \"width\": 0.5}}, \"type\": \"barpolar\"}], \"carpet\": [{\"aaxis\": {\"endlinecolor\": \"#2a3f5f\", \"gridcolor\": \"white\", \"linecolor\": \"white\", \"minorgridcolor\": \"white\", \"startlinecolor\": \"#2a3f5f\"}, \"baxis\": {\"endlinecolor\": \"#2a3f5f\", \"gridcolor\": \"white\", \"linecolor\": \"white\", \"minorgridcolor\": \"white\", \"startlinecolor\": \"#2a3f5f\"}, \"type\": \"carpet\"}], \"choropleth\": [{\"colorbar\": {\"outlinewidth\": 0, \"ticks\": \"\"}, \"type\": \"choropleth\"}], \"contour\": [{\"colorbar\": {\"outlinewidth\": 0, \"ticks\": \"\"}, \"colorscale\": [[0.0, \"#0d0887\"], [0.1111111111111111, \"#46039f\"], [0.2222222222222222, \"#7201a8\"], [0.3333333333333333, \"#9c179e\"], [0.4444444444444444, \"#bd3786\"], [0.5555555555555556, \"#d8576b\"], [0.6666666666666666, \"#ed7953\"], [0.7777777777777778, \"#fb9f3a\"], [0.8888888888888888, \"#fdca26\"], [1.0, \"#f0f921\"]], \"type\": \"contour\"}], \"contourcarpet\": [{\"colorbar\": {\"outlinewidth\": 0, \"ticks\": \"\"}, \"type\": \"contourcarpet\"}], \"heatmap\": [{\"colorbar\": {\"outlinewidth\": 0, \"ticks\": \"\"}, \"colorscale\": [[0.0, \"#0d0887\"], [0.1111111111111111, \"#46039f\"], [0.2222222222222222, \"#7201a8\"], [0.3333333333333333, \"#9c179e\"], [0.4444444444444444, \"#bd3786\"], [0.5555555555555556, \"#d8576b\"], [0.6666666666666666, \"#ed7953\"], [0.7777777777777778, \"#fb9f3a\"], [0.8888888888888888, \"#fdca26\"], [1.0, \"#f0f921\"]], \"type\": \"heatmap\"}], \"heatmapgl\": [{\"colorbar\": {\"outlinewidth\": 0, \"ticks\": \"\"}, \"colorscale\": [[0.0, \"#0d0887\"], [0.1111111111111111, \"#46039f\"], [0.2222222222222222, \"#7201a8\"], [0.3333333333333333, \"#9c179e\"], [0.4444444444444444, \"#bd3786\"], [0.5555555555555556, \"#d8576b\"], [0.6666666666666666, \"#ed7953\"], [0.7777777777777778, \"#fb9f3a\"], [0.8888888888888888, \"#fdca26\"], [1.0, \"#f0f921\"]], \"type\": \"heatmapgl\"}], \"histogram\": [{\"marker\": {\"colorbar\": {\"outlinewidth\": 0, \"ticks\": \"\"}}, \"type\": \"histogram\"}], \"histogram2d\": [{\"colorbar\": {\"outlinewidth\": 0, \"ticks\": \"\"}, \"colorscale\": [[0.0, \"#0d0887\"], [0.1111111111111111, \"#46039f\"], [0.2222222222222222, \"#7201a8\"], [0.3333333333333333, \"#9c179e\"], [0.4444444444444444, \"#bd3786\"], [0.5555555555555556, \"#d8576b\"], [0.6666666666666666, \"#ed7953\"], [0.7777777777777778, \"#fb9f3a\"], [0.8888888888888888, \"#fdca26\"], [1.0, \"#f0f921\"]], \"type\": \"histogram2d\"}], \"histogram2dcontour\": [{\"colorbar\": {\"outlinewidth\": 0, \"ticks\": \"\"}, \"colorscale\": [[0.0, \"#0d0887\"], [0.1111111111111111, \"#46039f\"], [0.2222222222222222, \"#7201a8\"], [0.3333333333333333, \"#9c179e\"], [0.4444444444444444, \"#bd3786\"], [0.5555555555555556, \"#d8576b\"], [0.6666666666666666, \"#ed7953\"], [0.7777777777777778, \"#fb9f3a\"], [0.8888888888888888, \"#fdca26\"], [1.0, \"#f0f921\"]], \"type\": \"histogram2dcontour\"}], \"mesh3d\": [{\"colorbar\": {\"outlinewidth\": 0, \"ticks\": \"\"}, \"type\": \"mesh3d\"}], \"parcoords\": [{\"line\": {\"colorbar\": {\"outlinewidth\": 0, \"ticks\": \"\"}}, \"type\": \"parcoords\"}], \"pie\": [{\"automargin\": true, \"type\": \"pie\"}], \"scatter\": [{\"marker\": {\"colorbar\": {\"outlinewidth\": 0, \"ticks\": \"\"}}, \"type\": \"scatter\"}], \"scatter3d\": [{\"line\": {\"colorbar\": {\"outlinewidth\": 0, \"ticks\": \"\"}}, \"marker\": {\"colorbar\": {\"outlinewidth\": 0, \"ticks\": \"\"}}, \"type\": \"scatter3d\"}], \"scattercarpet\": [{\"marker\": {\"colorbar\": {\"outlinewidth\": 0, \"ticks\": \"\"}}, \"type\": \"scattercarpet\"}], \"scattergeo\": [{\"marker\": {\"colorbar\": {\"outlinewidth\": 0, \"ticks\": \"\"}}, \"type\": \"scattergeo\"}], \"scattergl\": [{\"marker\": {\"colorbar\": {\"outlinewidth\": 0, \"ticks\": \"\"}}, \"type\": \"scattergl\"}], \"scattermapbox\": [{\"marker\": {\"colorbar\": {\"outlinewidth\": 0, \"ticks\": \"\"}}, \"type\": \"scattermapbox\"}], \"scatterpolar\": [{\"marker\": {\"colorbar\": {\"outlinewidth\": 0, \"ticks\": \"\"}}, \"type\": \"scatterpolar\"}], \"scatterpolargl\": [{\"marker\": {\"colorbar\": {\"outlinewidth\": 0, \"ticks\": \"\"}}, \"type\": \"scatterpolargl\"}], \"scatterternary\": [{\"marker\": {\"colorbar\": {\"outlinewidth\": 0, \"ticks\": \"\"}}, \"type\": \"scatterternary\"}], \"surface\": [{\"colorbar\": {\"outlinewidth\": 0, \"ticks\": \"\"}, \"colorscale\": [[0.0, \"#0d0887\"], [0.1111111111111111, \"#46039f\"], [0.2222222222222222, \"#7201a8\"], [0.3333333333333333, \"#9c179e\"], [0.4444444444444444, \"#bd3786\"], [0.5555555555555556, \"#d8576b\"], [0.6666666666666666, \"#ed7953\"], [0.7777777777777778, \"#fb9f3a\"], [0.8888888888888888, \"#fdca26\"], [1.0, \"#f0f921\"]], \"type\": \"surface\"}], \"table\": [{\"cells\": {\"fill\": {\"color\": \"#EBF0F8\"}, \"line\": {\"color\": \"white\"}}, \"header\": {\"fill\": {\"color\": \"#C8D4E3\"}, \"line\": {\"color\": \"white\"}}, \"type\": \"table\"}]}, \"layout\": {\"annotationdefaults\": {\"arrowcolor\": \"#2a3f5f\", \"arrowhead\": 0, \"arrowwidth\": 1}, \"coloraxis\": {\"colorbar\": {\"outlinewidth\": 0, \"ticks\": \"\"}}, \"colorscale\": {\"diverging\": [[0, \"#8e0152\"], [0.1, \"#c51b7d\"], [0.2, \"#de77ae\"], [0.3, \"#f1b6da\"], [0.4, \"#fde0ef\"], [0.5, \"#f7f7f7\"], [0.6, \"#e6f5d0\"], [0.7, \"#b8e186\"], [0.8, \"#7fbc41\"], [0.9, \"#4d9221\"], [1, \"#276419\"]], \"sequential\": [[0.0, \"#0d0887\"], [0.1111111111111111, \"#46039f\"], [0.2222222222222222, \"#7201a8\"], [0.3333333333333333, \"#9c179e\"], [0.4444444444444444, \"#bd3786\"], [0.5555555555555556, \"#d8576b\"], [0.6666666666666666, \"#ed7953\"], [0.7777777777777778, \"#fb9f3a\"], [0.8888888888888888, \"#fdca26\"], [1.0, \"#f0f921\"]], \"sequentialminus\": [[0.0, \"#0d0887\"], [0.1111111111111111, \"#46039f\"], [0.2222222222222222, \"#7201a8\"], [0.3333333333333333, \"#9c179e\"], [0.4444444444444444, \"#bd3786\"], [0.5555555555555556, \"#d8576b\"], [0.6666666666666666, \"#ed7953\"], [0.7777777777777778, \"#fb9f3a\"], [0.8888888888888888, \"#fdca26\"], [1.0, \"#f0f921\"]]}, \"colorway\": [\"#636efa\", \"#EF553B\", \"#00cc96\", \"#ab63fa\", \"#FFA15A\", \"#19d3f3\", \"#FF6692\", \"#B6E880\", \"#FF97FF\", \"#FECB52\"], \"font\": {\"color\": \"#2a3f5f\"}, \"geo\": {\"bgcolor\": \"white\", \"lakecolor\": \"white\", \"landcolor\": \"#E5ECF6\", \"showlakes\": true, \"showland\": true, \"subunitcolor\": \"white\"}, \"hoverlabel\": {\"align\": \"left\"}, \"hovermode\": \"closest\", \"mapbox\": {\"style\": \"light\"}, \"paper_bgcolor\": \"white\", \"plot_bgcolor\": \"#E5ECF6\", \"polar\": {\"angularaxis\": {\"gridcolor\": \"white\", \"linecolor\": \"white\", \"ticks\": \"\"}, \"bgcolor\": \"#E5ECF6\", \"radialaxis\": {\"gridcolor\": \"white\", \"linecolor\": \"white\", \"ticks\": \"\"}}, \"scene\": {\"xaxis\": {\"backgroundcolor\": \"#E5ECF6\", \"gridcolor\": \"white\", \"gridwidth\": 2, \"linecolor\": \"white\", \"showbackground\": true, \"ticks\": \"\", \"zerolinecolor\": \"white\"}, \"yaxis\": {\"backgroundcolor\": \"#E5ECF6\", \"gridcolor\": \"white\", \"gridwidth\": 2, \"linecolor\": \"white\", \"showbackground\": true, \"ticks\": \"\", \"zerolinecolor\": \"white\"}, \"zaxis\": {\"backgroundcolor\": \"#E5ECF6\", \"gridcolor\": \"white\", \"gridwidth\": 2, \"linecolor\": \"white\", \"showbackground\": true, \"ticks\": \"\", \"zerolinecolor\": \"white\"}}, \"shapedefaults\": {\"line\": {\"color\": \"#2a3f5f\"}}, \"ternary\": {\"aaxis\": {\"gridcolor\": \"white\", \"linecolor\": \"white\", \"ticks\": \"\"}, \"baxis\": {\"gridcolor\": \"white\", \"linecolor\": \"white\", \"ticks\": \"\"}, \"bgcolor\": \"#E5ECF6\", \"caxis\": {\"gridcolor\": \"white\", \"linecolor\": \"white\", \"ticks\": \"\"}}, \"title\": {\"x\": 0.05}, \"xaxis\": {\"automargin\": true, \"gridcolor\": \"white\", \"linecolor\": \"white\", \"ticks\": \"\", \"title\": {\"standoff\": 15}, \"zerolinecolor\": \"white\", \"zerolinewidth\": 2}, \"yaxis\": {\"automargin\": true, \"gridcolor\": \"white\", \"linecolor\": \"white\", \"ticks\": \"\", \"title\": {\"standoff\": 15}, \"zerolinecolor\": \"white\", \"zerolinewidth\": 2}}}, \"title\": {\"text\": \"Indexed Production of Crops per Category and world population\"}, \"yaxis\": {\"title\": {\"text\": \"Indexed production or world population[%]\"}}},\n",
       "                        {\"responsive\": true}\n",
       "                    ).then(function(){\n",
       "                            \n",
       "var gd = document.getElementById('4b30b76d-db4f-474a-bd16-4d40207b42a2');\n",
       "var x = new MutationObserver(function (mutations, observer) {{\n",
       "        var display = window.getComputedStyle(gd).display;\n",
       "        if (!display || display === 'none') {{\n",
       "            console.log([gd, 'removed!']);\n",
       "            Plotly.purge(gd);\n",
       "            observer.disconnect();\n",
       "        }}\n",
       "}});\n",
       "\n",
       "// Listen for the removal of the full notebook cells\n",
       "var notebookContainer = gd.closest('#notebook-container');\n",
       "if (notebookContainer) {{\n",
       "    x.observe(notebookContainer, {childList: true});\n",
       "}}\n",
       "\n",
       "// Listen for the clearing of the current output cell\n",
       "var outputEl = gd.closest('.output');\n",
       "if (outputEl) {{\n",
       "    x.observe(outputEl, {childList: true});\n",
       "}}\n",
       "\n",
       "                        })\n",
       "                };\n",
       "                });\n",
       "            </script>\n",
       "        </div>"
      ]
     },
     "metadata": {},
     "output_type": "display_data"
    }
   ],
   "source": [
    "fig = go.Figure()\n",
    "for i in range(len(parent_group_legend)):\n",
    "    fig.add_trace(go.Scatter(\n",
    "        x=df_groups_px.year,\n",
    "        y=100*(df_groups_px_norm.loc[:,df_groups.parent_group.unique()[i]]),\n",
    "        mode='lines',\n",
    "        showlegend=True,\n",
    "        name=parent_group_legend[i],\n",
    "    ))    \n",
    "fig.add_trace(go.Scatter(\n",
    "        x=df_groups_px.year,\n",
    "        y=100*WorldPopulation_norm,\n",
    "        mode='lines',\n",
    "        showlegend=True,\n",
    "        name=parent_group_legend[i],\n",
    "    ))    \n",
    "    \n",
    "    \n",
    "fig.update_layout(\n",
    "    title=\"Indexed Production of Crops per Category and world population\",\n",
    "    yaxis_title=\"Indexed production or world population[%]\",\n",
    "    legend=go.layout.Legend(\n",
    "        font=dict(\n",
    "            size=10)\n",
    "))\n",
    "fig.show()"
   ]
  },
  {
   "cell_type": "code",
   "execution_count": 537,
   "metadata": {},
   "outputs": [
    {
     "data": {
      "text/plain": [
       "'IndexedProds.html'"
      ]
     },
     "execution_count": 537,
     "metadata": {},
     "output_type": "execute_result"
    }
   ],
   "source": [
    "# Save the figure for the data story :\n",
    "plotly.offline.plot(fig,filename='IndexedProds.html')"
   ]
  },
  {
   "cell_type": "markdown",
   "metadata": {},
   "source": [
    "**Scatter plot for each crop :**"
   ]
  },
  {
   "cell_type": "code",
   "execution_count": 538,
   "metadata": {},
   "outputs": [],
   "source": [
    "# CREATION YEAR DF = 2016\n",
    "df_year=df_world[df_world.year==2016] # For the VPQ\n",
    "\n",
    "df_year_unique=df_world_unique[df_world_unique.year==2016] # For the production"
   ]
  },
  {
   "cell_type": "code",
   "execution_count": 539,
   "metadata": {},
   "outputs": [],
   "source": [
    "# DF for the VPQ\n",
    "df_crops_prod = df_year.groupby(['parent_group','parent_description','item_crops']).sum().reset_index()\n",
    "df_crops_prod['import_vpq'] = df_crops_prod.import_v/df_crops_prod.import_q"
   ]
  },
  {
   "cell_type": "code",
   "execution_count": 540,
   "metadata": {},
   "outputs": [],
   "source": [
    "# DF for the production\n",
    "df_crops_prod_unique = df_year_unique.groupby(['parent_group','parent_description','item_crops']).sum().reset_index() # Keep only the production value"
   ]
  },
  {
   "cell_type": "code",
   "execution_count": 541,
   "metadata": {},
   "outputs": [],
   "source": [
    "list_crops = ['Avocados','Coffee, green','Tobacco, unmanufactured','Wheat']"
   ]
  },
  {
   "cell_type": "code",
   "execution_count": 542,
   "metadata": {},
   "outputs": [
    {
     "data": {
      "application/vnd.plotly.v1+json": {
       "config": {
        "plotlyServerURL": "https://plot.ly"
       },
       "data": [
        {
         "mode": "markers",
         "name": "Vegetables",
         "text": [
          "Artichokes",
          "Asparagus",
          "Bambara beans",
          "Beans, dry",
          "Beans, green",
          "Broad beans, horse beans, dry",
          "Cabbages and other brassicas",
          "Carrots and turnips",
          "Cassava",
          "Cauliflowers and broccoli",
          "Chick peas",
          "Chillies and peppers, green",
          "Cucumbers and gherkins",
          "Eggplants (aubergines)",
          "Garlic",
          "Lentils",
          "Maize, green",
          "Mushrooms and truffles",
          "Olives",
          "Onions, dry",
          "Onions, shallots, green",
          "Peas, dry",
          "Peas, green",
          "Potatoes",
          "Pulses, nes",
          "Pumpkins, squash and gourds",
          "Roots and tubers, nes",
          "Spinach",
          "Sweet potatoes",
          "Tomatoes",
          "Vegetables, fresh nes"
         ],
         "type": "scatter",
         "x": [
          1400435,
          8744520,
          62682,
          28601308,
          23566737,
          4538582,
          71019060,
          40758629,
          293816183,
          25004738,
          11262489,
          34513860,
          80259066,
          50892545,
          27247927,
          6556557,
          7701015,
          8177556,
          20344598,
          91407675,
          2022934,
          14667881,
          19789451,
          374245908,
          3835085,
          24039005,
          8934045,
          26732265,
          104940770,
          179469299,
          289490605
         ],
         "y": [
          1.1825081938933932,
          3.921480410047682,
          0,
          0.9850345785977292,
          1.6082058072127585,
          0.7118822600606877,
          0.6675880656506924,
          0.4726864699054576,
          0.21642853418682903,
          1.0401437777319342,
          0.8763571683773091,
          1.6048100015974354,
          0.9052730030868692,
          0.7871885430079744,
          1.5545691874630112,
          0.9000925731998493,
          0.8389127622216062,
          2.1230629962554324,
          3.0258878650661822,
          0.4451874977255388,
          0.2869896118097321,
          0.4290802734695642,
          1.4301619670440429,
          0.5455347287938761,
          0.6855204434206738,
          0.8699176801942946,
          0.44249268088665833,
          1.6286061240372487,
          0.7141835393110703,
          1.061307973447703,
          1.1873089357367779
         ]
        },
        {
         "mode": "markers",
         "name": "Fruit and nuts",
         "text": [
          "Almonds, with shell",
          "Apples",
          "Apricots",
          "Avocados",
          "Bananas",
          "Blueberries",
          "Brazil nuts, with shell",
          "Cashew nuts, with shell",
          "Cherries",
          "Cherries, sour",
          "Chestnut",
          "Coconuts",
          "Cranberries",
          "Currants",
          "Dates",
          "Figs",
          "Fruit, citrus nes",
          "Fruit, fresh nes",
          "Fruit, tropical fresh nes",
          "Gooseberries",
          "Grapefruit (inc. pomelos)",
          "Grapes",
          "Hazelnuts, with shell",
          "Kola nuts",
          "Lemons and limes",
          "Mangoes, mangosteens, guavas",
          "Melons, other (inc.cantaloupes)",
          "Nuts, nes",
          "Oranges",
          "Papayas",
          "Peaches and nectarines",
          "Pears",
          "Persimmons",
          "Pineapples",
          "Pistachios",
          "Plantains and others",
          "Plums and sloes",
          "Quinces",
          "Strawberries",
          "Tangerines, mandarins, clementines, satsumas",
          "Walnuts, with shell",
          "Watermelons"
         ],
         "type": "scatter",
         "x": [
          2145425,
          85099369,
          3764339,
          5495334,
          111931392,
          556882,
          6134,
          4087432,
          2076340,
          1070028,
          2183987,
          59339618,
          724878,
          657934,
          8062365,
          1075760,
          13646419,
          33105095,
          20777640,
          12698,
          8962193,
          74991623,
          743243,
          266026,
          16922097,
          43198369,
          31245016,
          968431,
          73337481,
          12973117,
          24490604,
          23490758,
          5363773,
          26157670,
          1166714,
          32486225,
          11873768,
          436343,
          9055955,
          32197990,
          3762177,
          117349894
         ],
         "y": [
          6.831982183173133,
          0.8398315679845064,
          1.7248644336338481,
          2.352900050710361,
          0.6127698071620273,
          5.996197622460164,
          7.044117647058823,
          1.8677162227290869,
          4.328486650591572,
          0.7210886712316893,
          2.7837789563353574,
          0.7152392189110758,
          1.074096924453219,
          3.186534814413438,
          0.953765343898162,
          3.77554975773388,
          1.7653593008808353,
          0.9425977571787365,
          2.227641146544236,
          2.5208333333333335,
          0.9469157049450682,
          2.5374917155396637,
          9.090297769231624,
          0.15719862959126762,
          1.0441623472716604,
          0.9291279260122445,
          0.7359107888094653,
          4.247651405870582,
          0.7650352529822401,
          0.6027907378607223,
          1.060261995252435,
          0.9384363286936388,
          1.0268680854191936,
          0.8468735270775793,
          7.892579537933476,
          0.1496051822781219,
          1.6337546930648494,
          0.7908534568309626,
          2.7859913878985205,
          1.034099262619201,
          4.384633746895264,
          0.3588355401559213
         ]
        },
        {
         "mode": "markers",
         "name": "Coffee, tea, mate",
         "text": [
          "Anise, badian, fennel, coriander",
          "Chillies and peppers, dry",
          "Cloves",
          "Coffee, green",
          "Ginger",
          "Maté",
          "Nutmeg, mace and cardamoms",
          "Pepper (piper spp.)",
          "Tea",
          "Vanilla"
         ],
         "type": "scatter",
         "x": [
          1198897,
          3732433,
          182785,
          9316151,
          3160456,
          1003390,
          124231,
          621594,
          5913119,
          7594
         ],
         "y": [
          1.8166150688844969,
          2.227946429928705,
          8.964647095565272,
          3.6703956600413115,
          0.8332998762086387,
          12.517273576097105,
          8.65947187141217,
          7.1180275058852684,
          3.292888181541818,
          38.11594202898551
         ]
        },
        {
         "mode": "markers",
         "name": "Cereals",
         "text": [
          "Barley",
          "Buckwheat",
          "Canary seed",
          "Fonio",
          "Grain, mixed",
          "Maize",
          "Millet",
          "Oats",
          "Rice, paddy",
          "Rye",
          "Sorghum",
          "Triticale",
          "Wheat"
         ],
         "type": "scatter",
         "x": [
          145779756,
          3001399,
          220434,
          545960,
          409429,
          1100210474,
          26704099,
          23666091,
          756154062,
          13303940,
          62324822,
          15517785,
          749014840
         ],
         "y": [
          0.4197913610017646,
          0.6856036209315253,
          0.6884709107523607,
          0,
          0.619229306328151,
          0.2267263438895246,
          0.35511631994024734,
          0.3027725607487495,
          0.5018795383755106,
          0.2197114244300962,
          0.23201041063913325,
          0.16139843466069362,
          0.22158443875029837
         ]
        },
        {
         "mode": "markers",
         "name": "Oil seeds",
         "text": [
          "Castor oil seed",
          "Chicory roots",
          "Groundnuts, with shell",
          "Hops",
          "Linseed",
          "Mustard seed",
          "Oilseeds nes",
          "Poppy seed",
          "Rapeseed",
          "Safflower seed",
          "Sesame seed",
          "Soybeans",
          "Sugar beet",
          "Sunflower seed"
         ],
         "type": "scatter",
         "x": [
          1596088,
          457897,
          44035948,
          142730,
          2931858,
          684106,
          1471954,
          83689,
          68085491,
          618211,
          5631446,
          335508757,
          275910760,
          47515481
         ],
         "y": [
          1.0933891576486436,
          1.2079767283325376,
          1.080428286038444,
          10.809833562375935,
          0.5172633942621777,
          1.0128797092962145,
          2.062298567516468,
          1.7620244328097732,
          0.47190632413495504,
          1.4035925420645747,
          1.1807608169174513,
          0.42969056913424003,
          0.1467659769171032,
          0.6993373590694916
         ]
        },
        {
         "mode": "markers",
         "name": "Cocoa",
         "text": [
          "Cocoa, beans"
         ],
         "type": "scatter",
         "x": [
          4658994
         ],
         "y": [
          3.596103098516383
         ]
        },
        {
         "mode": "markers",
         "name": "Tobacco",
         "text": [
          "Tobacco, unmanufactured"
         ],
         "type": "scatter",
         "x": [
          6398885
         ],
         "y": [
          10.068321790465678
         ]
        },
        {
         "mode": "markers",
         "name": "Rubber",
         "text": [
          "Rubber, natural"
         ],
         "type": "scatter",
         "x": [
          13480593
         ],
         "y": [
          1.3435377659511365
         ]
        },
        {
         "mode": "markers",
         "name": "Vegetable textile fibres",
         "text": [
          "Flax fibre and tow",
          "Jute",
          "Manila fibre (abaca)"
         ],
         "type": "scatter",
         "x": [
          815400,
          3307216,
          67402
         ],
         "y": [
          0.7519053941092589,
          0.7620114133833646,
          2.760330578512397
         ]
        }
       ],
       "layout": {
        "annotations": [
         {
          "text": "Wheat",
          "x": 8.874491558774862,
          "y": -0.6544608180970325
         },
         {
          "text": "Avocados",
          "x": 6.739994093474477,
          "y": 0.37160346972975306
         },
         {
          "text": "Tobacco, unmanufactured",
          "x": 6.806104305150462,
          "y": 1.0029570102161827
         },
         {
          "text": "Coffee, green",
          "x": 6.969188500594688,
          "y": 0.5647129229270166
         }
        ],
        "legend": {
         "font": {
          "size": 10
         }
        },
        "template": {
         "data": {
          "bar": [
           {
            "error_x": {
             "color": "#2a3f5f"
            },
            "error_y": {
             "color": "#2a3f5f"
            },
            "marker": {
             "line": {
              "color": "#E5ECF6",
              "width": 0.5
             }
            },
            "type": "bar"
           }
          ],
          "barpolar": [
           {
            "marker": {
             "line": {
              "color": "#E5ECF6",
              "width": 0.5
             }
            },
            "type": "barpolar"
           }
          ],
          "carpet": [
           {
            "aaxis": {
             "endlinecolor": "#2a3f5f",
             "gridcolor": "white",
             "linecolor": "white",
             "minorgridcolor": "white",
             "startlinecolor": "#2a3f5f"
            },
            "baxis": {
             "endlinecolor": "#2a3f5f",
             "gridcolor": "white",
             "linecolor": "white",
             "minorgridcolor": "white",
             "startlinecolor": "#2a3f5f"
            },
            "type": "carpet"
           }
          ],
          "choropleth": [
           {
            "colorbar": {
             "outlinewidth": 0,
             "ticks": ""
            },
            "type": "choropleth"
           }
          ],
          "contour": [
           {
            "colorbar": {
             "outlinewidth": 0,
             "ticks": ""
            },
            "colorscale": [
             [
              0,
              "#0d0887"
             ],
             [
              0.1111111111111111,
              "#46039f"
             ],
             [
              0.2222222222222222,
              "#7201a8"
             ],
             [
              0.3333333333333333,
              "#9c179e"
             ],
             [
              0.4444444444444444,
              "#bd3786"
             ],
             [
              0.5555555555555556,
              "#d8576b"
             ],
             [
              0.6666666666666666,
              "#ed7953"
             ],
             [
              0.7777777777777778,
              "#fb9f3a"
             ],
             [
              0.8888888888888888,
              "#fdca26"
             ],
             [
              1,
              "#f0f921"
             ]
            ],
            "type": "contour"
           }
          ],
          "contourcarpet": [
           {
            "colorbar": {
             "outlinewidth": 0,
             "ticks": ""
            },
            "type": "contourcarpet"
           }
          ],
          "heatmap": [
           {
            "colorbar": {
             "outlinewidth": 0,
             "ticks": ""
            },
            "colorscale": [
             [
              0,
              "#0d0887"
             ],
             [
              0.1111111111111111,
              "#46039f"
             ],
             [
              0.2222222222222222,
              "#7201a8"
             ],
             [
              0.3333333333333333,
              "#9c179e"
             ],
             [
              0.4444444444444444,
              "#bd3786"
             ],
             [
              0.5555555555555556,
              "#d8576b"
             ],
             [
              0.6666666666666666,
              "#ed7953"
             ],
             [
              0.7777777777777778,
              "#fb9f3a"
             ],
             [
              0.8888888888888888,
              "#fdca26"
             ],
             [
              1,
              "#f0f921"
             ]
            ],
            "type": "heatmap"
           }
          ],
          "heatmapgl": [
           {
            "colorbar": {
             "outlinewidth": 0,
             "ticks": ""
            },
            "colorscale": [
             [
              0,
              "#0d0887"
             ],
             [
              0.1111111111111111,
              "#46039f"
             ],
             [
              0.2222222222222222,
              "#7201a8"
             ],
             [
              0.3333333333333333,
              "#9c179e"
             ],
             [
              0.4444444444444444,
              "#bd3786"
             ],
             [
              0.5555555555555556,
              "#d8576b"
             ],
             [
              0.6666666666666666,
              "#ed7953"
             ],
             [
              0.7777777777777778,
              "#fb9f3a"
             ],
             [
              0.8888888888888888,
              "#fdca26"
             ],
             [
              1,
              "#f0f921"
             ]
            ],
            "type": "heatmapgl"
           }
          ],
          "histogram": [
           {
            "marker": {
             "colorbar": {
              "outlinewidth": 0,
              "ticks": ""
             }
            },
            "type": "histogram"
           }
          ],
          "histogram2d": [
           {
            "colorbar": {
             "outlinewidth": 0,
             "ticks": ""
            },
            "colorscale": [
             [
              0,
              "#0d0887"
             ],
             [
              0.1111111111111111,
              "#46039f"
             ],
             [
              0.2222222222222222,
              "#7201a8"
             ],
             [
              0.3333333333333333,
              "#9c179e"
             ],
             [
              0.4444444444444444,
              "#bd3786"
             ],
             [
              0.5555555555555556,
              "#d8576b"
             ],
             [
              0.6666666666666666,
              "#ed7953"
             ],
             [
              0.7777777777777778,
              "#fb9f3a"
             ],
             [
              0.8888888888888888,
              "#fdca26"
             ],
             [
              1,
              "#f0f921"
             ]
            ],
            "type": "histogram2d"
           }
          ],
          "histogram2dcontour": [
           {
            "colorbar": {
             "outlinewidth": 0,
             "ticks": ""
            },
            "colorscale": [
             [
              0,
              "#0d0887"
             ],
             [
              0.1111111111111111,
              "#46039f"
             ],
             [
              0.2222222222222222,
              "#7201a8"
             ],
             [
              0.3333333333333333,
              "#9c179e"
             ],
             [
              0.4444444444444444,
              "#bd3786"
             ],
             [
              0.5555555555555556,
              "#d8576b"
             ],
             [
              0.6666666666666666,
              "#ed7953"
             ],
             [
              0.7777777777777778,
              "#fb9f3a"
             ],
             [
              0.8888888888888888,
              "#fdca26"
             ],
             [
              1,
              "#f0f921"
             ]
            ],
            "type": "histogram2dcontour"
           }
          ],
          "mesh3d": [
           {
            "colorbar": {
             "outlinewidth": 0,
             "ticks": ""
            },
            "type": "mesh3d"
           }
          ],
          "parcoords": [
           {
            "line": {
             "colorbar": {
              "outlinewidth": 0,
              "ticks": ""
             }
            },
            "type": "parcoords"
           }
          ],
          "pie": [
           {
            "automargin": true,
            "type": "pie"
           }
          ],
          "scatter": [
           {
            "marker": {
             "colorbar": {
              "outlinewidth": 0,
              "ticks": ""
             }
            },
            "type": "scatter"
           }
          ],
          "scatter3d": [
           {
            "line": {
             "colorbar": {
              "outlinewidth": 0,
              "ticks": ""
             }
            },
            "marker": {
             "colorbar": {
              "outlinewidth": 0,
              "ticks": ""
             }
            },
            "type": "scatter3d"
           }
          ],
          "scattercarpet": [
           {
            "marker": {
             "colorbar": {
              "outlinewidth": 0,
              "ticks": ""
             }
            },
            "type": "scattercarpet"
           }
          ],
          "scattergeo": [
           {
            "marker": {
             "colorbar": {
              "outlinewidth": 0,
              "ticks": ""
             }
            },
            "type": "scattergeo"
           }
          ],
          "scattergl": [
           {
            "marker": {
             "colorbar": {
              "outlinewidth": 0,
              "ticks": ""
             }
            },
            "type": "scattergl"
           }
          ],
          "scattermapbox": [
           {
            "marker": {
             "colorbar": {
              "outlinewidth": 0,
              "ticks": ""
             }
            },
            "type": "scattermapbox"
           }
          ],
          "scatterpolar": [
           {
            "marker": {
             "colorbar": {
              "outlinewidth": 0,
              "ticks": ""
             }
            },
            "type": "scatterpolar"
           }
          ],
          "scatterpolargl": [
           {
            "marker": {
             "colorbar": {
              "outlinewidth": 0,
              "ticks": ""
             }
            },
            "type": "scatterpolargl"
           }
          ],
          "scatterternary": [
           {
            "marker": {
             "colorbar": {
              "outlinewidth": 0,
              "ticks": ""
             }
            },
            "type": "scatterternary"
           }
          ],
          "surface": [
           {
            "colorbar": {
             "outlinewidth": 0,
             "ticks": ""
            },
            "colorscale": [
             [
              0,
              "#0d0887"
             ],
             [
              0.1111111111111111,
              "#46039f"
             ],
             [
              0.2222222222222222,
              "#7201a8"
             ],
             [
              0.3333333333333333,
              "#9c179e"
             ],
             [
              0.4444444444444444,
              "#bd3786"
             ],
             [
              0.5555555555555556,
              "#d8576b"
             ],
             [
              0.6666666666666666,
              "#ed7953"
             ],
             [
              0.7777777777777778,
              "#fb9f3a"
             ],
             [
              0.8888888888888888,
              "#fdca26"
             ],
             [
              1,
              "#f0f921"
             ]
            ],
            "type": "surface"
           }
          ],
          "table": [
           {
            "cells": {
             "fill": {
              "color": "#EBF0F8"
             },
             "line": {
              "color": "white"
             }
            },
            "header": {
             "fill": {
              "color": "#C8D4E3"
             },
             "line": {
              "color": "white"
             }
            },
            "type": "table"
           }
          ]
         },
         "layout": {
          "annotationdefaults": {
           "arrowcolor": "#2a3f5f",
           "arrowhead": 0,
           "arrowwidth": 1
          },
          "coloraxis": {
           "colorbar": {
            "outlinewidth": 0,
            "ticks": ""
           }
          },
          "colorscale": {
           "diverging": [
            [
             0,
             "#8e0152"
            ],
            [
             0.1,
             "#c51b7d"
            ],
            [
             0.2,
             "#de77ae"
            ],
            [
             0.3,
             "#f1b6da"
            ],
            [
             0.4,
             "#fde0ef"
            ],
            [
             0.5,
             "#f7f7f7"
            ],
            [
             0.6,
             "#e6f5d0"
            ],
            [
             0.7,
             "#b8e186"
            ],
            [
             0.8,
             "#7fbc41"
            ],
            [
             0.9,
             "#4d9221"
            ],
            [
             1,
             "#276419"
            ]
           ],
           "sequential": [
            [
             0,
             "#0d0887"
            ],
            [
             0.1111111111111111,
             "#46039f"
            ],
            [
             0.2222222222222222,
             "#7201a8"
            ],
            [
             0.3333333333333333,
             "#9c179e"
            ],
            [
             0.4444444444444444,
             "#bd3786"
            ],
            [
             0.5555555555555556,
             "#d8576b"
            ],
            [
             0.6666666666666666,
             "#ed7953"
            ],
            [
             0.7777777777777778,
             "#fb9f3a"
            ],
            [
             0.8888888888888888,
             "#fdca26"
            ],
            [
             1,
             "#f0f921"
            ]
           ],
           "sequentialminus": [
            [
             0,
             "#0d0887"
            ],
            [
             0.1111111111111111,
             "#46039f"
            ],
            [
             0.2222222222222222,
             "#7201a8"
            ],
            [
             0.3333333333333333,
             "#9c179e"
            ],
            [
             0.4444444444444444,
             "#bd3786"
            ],
            [
             0.5555555555555556,
             "#d8576b"
            ],
            [
             0.6666666666666666,
             "#ed7953"
            ],
            [
             0.7777777777777778,
             "#fb9f3a"
            ],
            [
             0.8888888888888888,
             "#fdca26"
            ],
            [
             1,
             "#f0f921"
            ]
           ]
          },
          "colorway": [
           "#636efa",
           "#EF553B",
           "#00cc96",
           "#ab63fa",
           "#FFA15A",
           "#19d3f3",
           "#FF6692",
           "#B6E880",
           "#FF97FF",
           "#FECB52"
          ],
          "font": {
           "color": "#2a3f5f"
          },
          "geo": {
           "bgcolor": "white",
           "lakecolor": "white",
           "landcolor": "#E5ECF6",
           "showlakes": true,
           "showland": true,
           "subunitcolor": "white"
          },
          "hoverlabel": {
           "align": "left"
          },
          "hovermode": "closest",
          "mapbox": {
           "style": "light"
          },
          "paper_bgcolor": "white",
          "plot_bgcolor": "#E5ECF6",
          "polar": {
           "angularaxis": {
            "gridcolor": "white",
            "linecolor": "white",
            "ticks": ""
           },
           "bgcolor": "#E5ECF6",
           "radialaxis": {
            "gridcolor": "white",
            "linecolor": "white",
            "ticks": ""
           }
          },
          "scene": {
           "xaxis": {
            "backgroundcolor": "#E5ECF6",
            "gridcolor": "white",
            "gridwidth": 2,
            "linecolor": "white",
            "showbackground": true,
            "ticks": "",
            "zerolinecolor": "white"
           },
           "yaxis": {
            "backgroundcolor": "#E5ECF6",
            "gridcolor": "white",
            "gridwidth": 2,
            "linecolor": "white",
            "showbackground": true,
            "ticks": "",
            "zerolinecolor": "white"
           },
           "zaxis": {
            "backgroundcolor": "#E5ECF6",
            "gridcolor": "white",
            "gridwidth": 2,
            "linecolor": "white",
            "showbackground": true,
            "ticks": "",
            "zerolinecolor": "white"
           }
          },
          "shapedefaults": {
           "line": {
            "color": "#2a3f5f"
           }
          },
          "ternary": {
           "aaxis": {
            "gridcolor": "white",
            "linecolor": "white",
            "ticks": ""
           },
           "baxis": {
            "gridcolor": "white",
            "linecolor": "white",
            "ticks": ""
           },
           "bgcolor": "#E5ECF6",
           "caxis": {
            "gridcolor": "white",
            "linecolor": "white",
            "ticks": ""
           }
          },
          "title": {
           "x": 0.05
          },
          "xaxis": {
           "automargin": true,
           "gridcolor": "white",
           "linecolor": "white",
           "ticks": "",
           "title": {
            "standoff": 15
           },
           "zerolinecolor": "white",
           "zerolinewidth": 2
          },
          "yaxis": {
           "automargin": true,
           "gridcolor": "white",
           "linecolor": "white",
           "ticks": "",
           "title": {
            "standoff": 15
           },
           "zerolinecolor": "white",
           "zerolinewidth": 2
          }
         }
        },
        "title": {
         "text": "Worldwide Production in 2016 "
        },
        "xaxis": {
         "title": {
          "text": "Production [tones]"
         },
         "type": "log"
        },
        "yaxis": {
         "title": {
          "text": "VPQ [$/tonne]"
         },
         "type": "log"
        }
       }
      },
      "text/html": [
       "<div>\n",
       "        \n",
       "        \n",
       "            <div id=\"47fd9d44-e4f6-4095-8938-6a4a26a180fc\" class=\"plotly-graph-div\" style=\"height:525px; width:100%;\"></div>\n",
       "            <script type=\"text/javascript\">\n",
       "                require([\"plotly\"], function(Plotly) {\n",
       "                    window.PLOTLYENV=window.PLOTLYENV || {};\n",
       "                    \n",
       "                if (document.getElementById(\"47fd9d44-e4f6-4095-8938-6a4a26a180fc\")) {\n",
       "                    Plotly.newPlot(\n",
       "                        '47fd9d44-e4f6-4095-8938-6a4a26a180fc',\n",
       "                        [{\"mode\": \"markers\", \"name\": \"Vegetables\", \"text\": [\"Artichokes\", \"Asparagus\", \"Bambara beans\", \"Beans, dry\", \"Beans, green\", \"Broad beans, horse beans, dry\", \"Cabbages and other brassicas\", \"Carrots and turnips\", \"Cassava\", \"Cauliflowers and broccoli\", \"Chick peas\", \"Chillies and peppers, green\", \"Cucumbers and gherkins\", \"Eggplants (aubergines)\", \"Garlic\", \"Lentils\", \"Maize, green\", \"Mushrooms and truffles\", \"Olives\", \"Onions, dry\", \"Onions, shallots, green\", \"Peas, dry\", \"Peas, green\", \"Potatoes\", \"Pulses, nes\", \"Pumpkins, squash and gourds\", \"Roots and tubers, nes\", \"Spinach\", \"Sweet potatoes\", \"Tomatoes\", \"Vegetables, fresh nes\"], \"type\": \"scatter\", \"x\": [1400435.0, 8744520.0, 62682.0, 28601308.0, 23566737.0, 4538582.0, 71019060.0, 40758629.0, 293816183.0, 25004738.0, 11262489.0, 34513860.0, 80259066.0, 50892545.0, 27247927.0, 6556557.0, 7701015.0, 8177556.0, 20344598.0, 91407675.0, 2022934.0, 14667881.0, 19789451.0, 374245908.0, 3835085.0, 24039005.0, 8934045.0, 26732265.0, 104940770.0, 179469299.0, 289490605.0], \"y\": [1.1825081938933932, 3.921480410047682, 0.0, 0.9850345785977292, 1.6082058072127585, 0.7118822600606877, 0.6675880656506924, 0.4726864699054576, 0.21642853418682903, 1.0401437777319342, 0.8763571683773091, 1.6048100015974354, 0.9052730030868692, 0.7871885430079744, 1.5545691874630112, 0.9000925731998493, 0.8389127622216062, 2.1230629962554324, 3.0258878650661822, 0.4451874977255388, 0.2869896118097321, 0.4290802734695642, 1.4301619670440429, 0.5455347287938761, 0.6855204434206738, 0.8699176801942946, 0.44249268088665833, 1.6286061240372487, 0.7141835393110703, 1.061307973447703, 1.1873089357367779]}, {\"mode\": \"markers\", \"name\": \"Fruit and nuts\", \"text\": [\"Almonds, with shell\", \"Apples\", \"Apricots\", \"Avocados\", \"Bananas\", \"Blueberries\", \"Brazil nuts, with shell\", \"Cashew nuts, with shell\", \"Cherries\", \"Cherries, sour\", \"Chestnut\", \"Coconuts\", \"Cranberries\", \"Currants\", \"Dates\", \"Figs\", \"Fruit, citrus nes\", \"Fruit, fresh nes\", \"Fruit, tropical fresh nes\", \"Gooseberries\", \"Grapefruit (inc. pomelos)\", \"Grapes\", \"Hazelnuts, with shell\", \"Kola nuts\", \"Lemons and limes\", \"Mangoes, mangosteens, guavas\", \"Melons, other (inc.cantaloupes)\", \"Nuts, nes\", \"Oranges\", \"Papayas\", \"Peaches and nectarines\", \"Pears\", \"Persimmons\", \"Pineapples\", \"Pistachios\", \"Plantains and others\", \"Plums and sloes\", \"Quinces\", \"Strawberries\", \"Tangerines, mandarins, clementines, satsumas\", \"Walnuts, with shell\", \"Watermelons\"], \"type\": \"scatter\", \"x\": [2145425.0, 85099369.0, 3764339.0, 5495334.0, 111931392.0, 556882.0, 6134.0, 4087432.0, 2076340.0, 1070028.0, 2183987.0, 59339618.0, 724878.0, 657934.0, 8062365.0, 1075760.0, 13646419.0, 33105095.0, 20777640.0, 12698.0, 8962193.0, 74991623.0, 743243.0, 266026.0, 16922097.0, 43198369.0, 31245016.0, 968431.0, 73337481.0, 12973117.0, 24490604.0, 23490758.0, 5363773.0, 26157670.0, 1166714.0, 32486225.0, 11873768.0, 436343.0, 9055955.0, 32197990.0, 3762177.0, 117349894.0], \"y\": [6.831982183173133, 0.8398315679845064, 1.7248644336338481, 2.352900050710361, 0.6127698071620273, 5.996197622460164, 7.044117647058823, 1.8677162227290869, 4.328486650591572, 0.7210886712316893, 2.7837789563353574, 0.7152392189110758, 1.074096924453219, 3.186534814413438, 0.953765343898162, 3.77554975773388, 1.7653593008808353, 0.9425977571787365, 2.227641146544236, 2.5208333333333335, 0.9469157049450682, 2.5374917155396637, 9.090297769231624, 0.15719862959126762, 1.0441623472716604, 0.9291279260122445, 0.7359107888094653, 4.247651405870582, 0.7650352529822401, 0.6027907378607223, 1.060261995252435, 0.9384363286936388, 1.0268680854191936, 0.8468735270775793, 7.892579537933476, 0.1496051822781219, 1.6337546930648494, 0.7908534568309626, 2.7859913878985205, 1.034099262619201, 4.384633746895264, 0.3588355401559213]}, {\"mode\": \"markers\", \"name\": \"Coffee, tea, mate\", \"text\": [\"Anise, badian, fennel, coriander\", \"Chillies and peppers, dry\", \"Cloves\", \"Coffee, green\", \"Ginger\", \"Mat\\u00e9\", \"Nutmeg, mace and cardamoms\", \"Pepper (piper spp.)\", \"Tea\", \"Vanilla\"], \"type\": \"scatter\", \"x\": [1198897.0, 3732433.0, 182785.0, 9316151.0, 3160456.0, 1003390.0, 124231.0, 621594.0, 5913119.0, 7594.0], \"y\": [1.8166150688844969, 2.227946429928705, 8.964647095565272, 3.6703956600413115, 0.8332998762086387, 12.517273576097105, 8.65947187141217, 7.1180275058852684, 3.292888181541818, 38.11594202898551]}, {\"mode\": \"markers\", \"name\": \"Cereals\", \"text\": [\"Barley\", \"Buckwheat\", \"Canary seed\", \"Fonio\", \"Grain, mixed\", \"Maize\", \"Millet\", \"Oats\", \"Rice, paddy\", \"Rye\", \"Sorghum\", \"Triticale\", \"Wheat\"], \"type\": \"scatter\", \"x\": [145779756.0, 3001399.0, 220434.0, 545960.0, 409429.0, 1100210474.0, 26704099.0, 23666091.0, 756154062.0, 13303940.0, 62324822.0, 15517785.0, 749014840.0], \"y\": [0.4197913610017646, 0.6856036209315253, 0.6884709107523607, 0.0, 0.619229306328151, 0.2267263438895246, 0.35511631994024734, 0.3027725607487495, 0.5018795383755106, 0.2197114244300962, 0.23201041063913325, 0.16139843466069362, 0.22158443875029837]}, {\"mode\": \"markers\", \"name\": \"Oil seeds\", \"text\": [\"Castor oil seed\", \"Chicory roots\", \"Groundnuts, with shell\", \"Hops\", \"Linseed\", \"Mustard seed\", \"Oilseeds nes\", \"Poppy seed\", \"Rapeseed\", \"Safflower seed\", \"Sesame seed\", \"Soybeans\", \"Sugar beet\", \"Sunflower seed\"], \"type\": \"scatter\", \"x\": [1596088.0, 457897.0, 44035948.0, 142730.0, 2931858.0, 684106.0, 1471954.0, 83689.0, 68085491.0, 618211.0, 5631446.0, 335508757.0, 275910760.0, 47515481.0], \"y\": [1.0933891576486436, 1.2079767283325376, 1.080428286038444, 10.809833562375935, 0.5172633942621777, 1.0128797092962145, 2.062298567516468, 1.7620244328097732, 0.47190632413495504, 1.4035925420645747, 1.1807608169174513, 0.42969056913424003, 0.1467659769171032, 0.6993373590694916]}, {\"mode\": \"markers\", \"name\": \"Cocoa\", \"text\": [\"Cocoa, beans\"], \"type\": \"scatter\", \"x\": [4658994.0], \"y\": [3.596103098516383]}, {\"mode\": \"markers\", \"name\": \"Tobacco\", \"text\": [\"Tobacco, unmanufactured\"], \"type\": \"scatter\", \"x\": [6398885.0], \"y\": [10.068321790465678]}, {\"mode\": \"markers\", \"name\": \"Rubber\", \"text\": [\"Rubber, natural\"], \"type\": \"scatter\", \"x\": [13480593.0], \"y\": [1.3435377659511365]}, {\"mode\": \"markers\", \"name\": \"Vegetable textile fibres\", \"text\": [\"Flax fibre and tow\", \"Jute\", \"Manila fibre (abaca)\"], \"type\": \"scatter\", \"x\": [815400.0, 3307216.0, 67402.0], \"y\": [0.7519053941092589, 0.7620114133833646, 2.760330578512397]}],\n",
       "                        {\"annotations\": [{\"text\": \"Wheat\", \"x\": 8.874491558774862, \"y\": -0.6544608180970325}, {\"text\": \"Avocados\", \"x\": 6.739994093474477, \"y\": 0.37160346972975306}, {\"text\": \"Tobacco, unmanufactured\", \"x\": 6.806104305150462, \"y\": 1.0029570102161827}, {\"text\": \"Coffee, green\", \"x\": 6.969188500594688, \"y\": 0.5647129229270166}], \"legend\": {\"font\": {\"size\": 10}}, \"template\": {\"data\": {\"bar\": [{\"error_x\": {\"color\": \"#2a3f5f\"}, \"error_y\": {\"color\": \"#2a3f5f\"}, \"marker\": {\"line\": {\"color\": \"#E5ECF6\", \"width\": 0.5}}, \"type\": \"bar\"}], \"barpolar\": [{\"marker\": {\"line\": {\"color\": \"#E5ECF6\", \"width\": 0.5}}, \"type\": \"barpolar\"}], \"carpet\": [{\"aaxis\": {\"endlinecolor\": \"#2a3f5f\", \"gridcolor\": \"white\", \"linecolor\": \"white\", \"minorgridcolor\": \"white\", \"startlinecolor\": \"#2a3f5f\"}, \"baxis\": {\"endlinecolor\": \"#2a3f5f\", \"gridcolor\": \"white\", \"linecolor\": \"white\", \"minorgridcolor\": \"white\", \"startlinecolor\": \"#2a3f5f\"}, \"type\": \"carpet\"}], \"choropleth\": [{\"colorbar\": {\"outlinewidth\": 0, \"ticks\": \"\"}, \"type\": \"choropleth\"}], \"contour\": [{\"colorbar\": {\"outlinewidth\": 0, \"ticks\": \"\"}, \"colorscale\": [[0.0, \"#0d0887\"], [0.1111111111111111, \"#46039f\"], [0.2222222222222222, \"#7201a8\"], [0.3333333333333333, \"#9c179e\"], [0.4444444444444444, \"#bd3786\"], [0.5555555555555556, \"#d8576b\"], [0.6666666666666666, \"#ed7953\"], [0.7777777777777778, \"#fb9f3a\"], [0.8888888888888888, \"#fdca26\"], [1.0, \"#f0f921\"]], \"type\": \"contour\"}], \"contourcarpet\": [{\"colorbar\": {\"outlinewidth\": 0, \"ticks\": \"\"}, \"type\": \"contourcarpet\"}], \"heatmap\": [{\"colorbar\": {\"outlinewidth\": 0, \"ticks\": \"\"}, \"colorscale\": [[0.0, \"#0d0887\"], [0.1111111111111111, \"#46039f\"], [0.2222222222222222, \"#7201a8\"], [0.3333333333333333, \"#9c179e\"], [0.4444444444444444, \"#bd3786\"], [0.5555555555555556, \"#d8576b\"], [0.6666666666666666, \"#ed7953\"], [0.7777777777777778, \"#fb9f3a\"], [0.8888888888888888, \"#fdca26\"], [1.0, \"#f0f921\"]], \"type\": \"heatmap\"}], \"heatmapgl\": [{\"colorbar\": {\"outlinewidth\": 0, \"ticks\": \"\"}, \"colorscale\": [[0.0, \"#0d0887\"], [0.1111111111111111, \"#46039f\"], [0.2222222222222222, \"#7201a8\"], [0.3333333333333333, \"#9c179e\"], [0.4444444444444444, \"#bd3786\"], [0.5555555555555556, \"#d8576b\"], [0.6666666666666666, \"#ed7953\"], [0.7777777777777778, \"#fb9f3a\"], [0.8888888888888888, \"#fdca26\"], [1.0, \"#f0f921\"]], \"type\": \"heatmapgl\"}], \"histogram\": [{\"marker\": {\"colorbar\": {\"outlinewidth\": 0, \"ticks\": \"\"}}, \"type\": \"histogram\"}], \"histogram2d\": [{\"colorbar\": {\"outlinewidth\": 0, \"ticks\": \"\"}, \"colorscale\": [[0.0, \"#0d0887\"], [0.1111111111111111, \"#46039f\"], [0.2222222222222222, \"#7201a8\"], [0.3333333333333333, \"#9c179e\"], [0.4444444444444444, \"#bd3786\"], [0.5555555555555556, \"#d8576b\"], [0.6666666666666666, \"#ed7953\"], [0.7777777777777778, \"#fb9f3a\"], [0.8888888888888888, \"#fdca26\"], [1.0, \"#f0f921\"]], \"type\": \"histogram2d\"}], \"histogram2dcontour\": [{\"colorbar\": {\"outlinewidth\": 0, \"ticks\": \"\"}, \"colorscale\": [[0.0, \"#0d0887\"], [0.1111111111111111, \"#46039f\"], [0.2222222222222222, \"#7201a8\"], [0.3333333333333333, \"#9c179e\"], [0.4444444444444444, \"#bd3786\"], [0.5555555555555556, \"#d8576b\"], [0.6666666666666666, \"#ed7953\"], [0.7777777777777778, \"#fb9f3a\"], [0.8888888888888888, \"#fdca26\"], [1.0, \"#f0f921\"]], \"type\": \"histogram2dcontour\"}], \"mesh3d\": [{\"colorbar\": {\"outlinewidth\": 0, \"ticks\": \"\"}, \"type\": \"mesh3d\"}], \"parcoords\": [{\"line\": {\"colorbar\": {\"outlinewidth\": 0, \"ticks\": \"\"}}, \"type\": \"parcoords\"}], \"pie\": [{\"automargin\": true, \"type\": \"pie\"}], \"scatter\": [{\"marker\": {\"colorbar\": {\"outlinewidth\": 0, \"ticks\": \"\"}}, \"type\": \"scatter\"}], \"scatter3d\": [{\"line\": {\"colorbar\": {\"outlinewidth\": 0, \"ticks\": \"\"}}, \"marker\": {\"colorbar\": {\"outlinewidth\": 0, \"ticks\": \"\"}}, \"type\": \"scatter3d\"}], \"scattercarpet\": [{\"marker\": {\"colorbar\": {\"outlinewidth\": 0, \"ticks\": \"\"}}, \"type\": \"scattercarpet\"}], \"scattergeo\": [{\"marker\": {\"colorbar\": {\"outlinewidth\": 0, \"ticks\": \"\"}}, \"type\": \"scattergeo\"}], \"scattergl\": [{\"marker\": {\"colorbar\": {\"outlinewidth\": 0, \"ticks\": \"\"}}, \"type\": \"scattergl\"}], \"scattermapbox\": [{\"marker\": {\"colorbar\": {\"outlinewidth\": 0, \"ticks\": \"\"}}, \"type\": \"scattermapbox\"}], \"scatterpolar\": [{\"marker\": {\"colorbar\": {\"outlinewidth\": 0, \"ticks\": \"\"}}, \"type\": \"scatterpolar\"}], \"scatterpolargl\": [{\"marker\": {\"colorbar\": {\"outlinewidth\": 0, \"ticks\": \"\"}}, \"type\": \"scatterpolargl\"}], \"scatterternary\": [{\"marker\": {\"colorbar\": {\"outlinewidth\": 0, \"ticks\": \"\"}}, \"type\": \"scatterternary\"}], \"surface\": [{\"colorbar\": {\"outlinewidth\": 0, \"ticks\": \"\"}, \"colorscale\": [[0.0, \"#0d0887\"], [0.1111111111111111, \"#46039f\"], [0.2222222222222222, \"#7201a8\"], [0.3333333333333333, \"#9c179e\"], [0.4444444444444444, \"#bd3786\"], [0.5555555555555556, \"#d8576b\"], [0.6666666666666666, \"#ed7953\"], [0.7777777777777778, \"#fb9f3a\"], [0.8888888888888888, \"#fdca26\"], [1.0, \"#f0f921\"]], \"type\": \"surface\"}], \"table\": [{\"cells\": {\"fill\": {\"color\": \"#EBF0F8\"}, \"line\": {\"color\": \"white\"}}, \"header\": {\"fill\": {\"color\": \"#C8D4E3\"}, \"line\": {\"color\": \"white\"}}, \"type\": \"table\"}]}, \"layout\": {\"annotationdefaults\": {\"arrowcolor\": \"#2a3f5f\", \"arrowhead\": 0, \"arrowwidth\": 1}, \"coloraxis\": {\"colorbar\": {\"outlinewidth\": 0, \"ticks\": \"\"}}, \"colorscale\": {\"diverging\": [[0, \"#8e0152\"], [0.1, \"#c51b7d\"], [0.2, \"#de77ae\"], [0.3, \"#f1b6da\"], [0.4, \"#fde0ef\"], [0.5, \"#f7f7f7\"], [0.6, \"#e6f5d0\"], [0.7, \"#b8e186\"], [0.8, \"#7fbc41\"], [0.9, \"#4d9221\"], [1, \"#276419\"]], \"sequential\": [[0.0, \"#0d0887\"], [0.1111111111111111, \"#46039f\"], [0.2222222222222222, \"#7201a8\"], [0.3333333333333333, \"#9c179e\"], [0.4444444444444444, \"#bd3786\"], [0.5555555555555556, \"#d8576b\"], [0.6666666666666666, \"#ed7953\"], [0.7777777777777778, \"#fb9f3a\"], [0.8888888888888888, \"#fdca26\"], [1.0, \"#f0f921\"]], \"sequentialminus\": [[0.0, \"#0d0887\"], [0.1111111111111111, \"#46039f\"], [0.2222222222222222, \"#7201a8\"], [0.3333333333333333, \"#9c179e\"], [0.4444444444444444, \"#bd3786\"], [0.5555555555555556, \"#d8576b\"], [0.6666666666666666, \"#ed7953\"], [0.7777777777777778, \"#fb9f3a\"], [0.8888888888888888, \"#fdca26\"], [1.0, \"#f0f921\"]]}, \"colorway\": [\"#636efa\", \"#EF553B\", \"#00cc96\", \"#ab63fa\", \"#FFA15A\", \"#19d3f3\", \"#FF6692\", \"#B6E880\", \"#FF97FF\", \"#FECB52\"], \"font\": {\"color\": \"#2a3f5f\"}, \"geo\": {\"bgcolor\": \"white\", \"lakecolor\": \"white\", \"landcolor\": \"#E5ECF6\", \"showlakes\": true, \"showland\": true, \"subunitcolor\": \"white\"}, \"hoverlabel\": {\"align\": \"left\"}, \"hovermode\": \"closest\", \"mapbox\": {\"style\": \"light\"}, \"paper_bgcolor\": \"white\", \"plot_bgcolor\": \"#E5ECF6\", \"polar\": {\"angularaxis\": {\"gridcolor\": \"white\", \"linecolor\": \"white\", \"ticks\": \"\"}, \"bgcolor\": \"#E5ECF6\", \"radialaxis\": {\"gridcolor\": \"white\", \"linecolor\": \"white\", \"ticks\": \"\"}}, \"scene\": {\"xaxis\": {\"backgroundcolor\": \"#E5ECF6\", \"gridcolor\": \"white\", \"gridwidth\": 2, \"linecolor\": \"white\", \"showbackground\": true, \"ticks\": \"\", \"zerolinecolor\": \"white\"}, \"yaxis\": {\"backgroundcolor\": \"#E5ECF6\", \"gridcolor\": \"white\", \"gridwidth\": 2, \"linecolor\": \"white\", \"showbackground\": true, \"ticks\": \"\", \"zerolinecolor\": \"white\"}, \"zaxis\": {\"backgroundcolor\": \"#E5ECF6\", \"gridcolor\": \"white\", \"gridwidth\": 2, \"linecolor\": \"white\", \"showbackground\": true, \"ticks\": \"\", \"zerolinecolor\": \"white\"}}, \"shapedefaults\": {\"line\": {\"color\": \"#2a3f5f\"}}, \"ternary\": {\"aaxis\": {\"gridcolor\": \"white\", \"linecolor\": \"white\", \"ticks\": \"\"}, \"baxis\": {\"gridcolor\": \"white\", \"linecolor\": \"white\", \"ticks\": \"\"}, \"bgcolor\": \"#E5ECF6\", \"caxis\": {\"gridcolor\": \"white\", \"linecolor\": \"white\", \"ticks\": \"\"}}, \"title\": {\"x\": 0.05}, \"xaxis\": {\"automargin\": true, \"gridcolor\": \"white\", \"linecolor\": \"white\", \"ticks\": \"\", \"title\": {\"standoff\": 15}, \"zerolinecolor\": \"white\", \"zerolinewidth\": 2}, \"yaxis\": {\"automargin\": true, \"gridcolor\": \"white\", \"linecolor\": \"white\", \"ticks\": \"\", \"title\": {\"standoff\": 15}, \"zerolinecolor\": \"white\", \"zerolinewidth\": 2}}}, \"title\": {\"text\": \"Worldwide Production in 2016 \"}, \"xaxis\": {\"title\": {\"text\": \"Production [tones]\"}, \"type\": \"log\"}, \"yaxis\": {\"title\": {\"text\": \"VPQ [$/tonne]\"}, \"type\": \"log\"}},\n",
       "                        {\"responsive\": true}\n",
       "                    ).then(function(){\n",
       "                            \n",
       "var gd = document.getElementById('47fd9d44-e4f6-4095-8938-6a4a26a180fc');\n",
       "var x = new MutationObserver(function (mutations, observer) {{\n",
       "        var display = window.getComputedStyle(gd).display;\n",
       "        if (!display || display === 'none') {{\n",
       "            console.log([gd, 'removed!']);\n",
       "            Plotly.purge(gd);\n",
       "            observer.disconnect();\n",
       "        }}\n",
       "}});\n",
       "\n",
       "// Listen for the removal of the full notebook cells\n",
       "var notebookContainer = gd.closest('#notebook-container');\n",
       "if (notebookContainer) {{\n",
       "    x.observe(notebookContainer, {childList: true});\n",
       "}}\n",
       "\n",
       "// Listen for the clearing of the current output cell\n",
       "var outputEl = gd.closest('.output');\n",
       "if (outputEl) {{\n",
       "    x.observe(outputEl, {childList: true});\n",
       "}}\n",
       "\n",
       "                        })\n",
       "                };\n",
       "                });\n",
       "            </script>\n",
       "        </div>"
      ]
     },
     "metadata": {},
     "output_type": "display_data"
    }
   ],
   "source": [
    "fig = go.Figure()\n",
    "for i in range(len(parent_group_legend)):\n",
    "    fig.add_trace(go.Scatter(\n",
    "        x=df_crops_prod_unique[df_crops_prod_unique.parent_group==df_groups.parent_group.unique()[i]].production,\n",
    "        y=df_crops_prod[df_crops_prod.parent_group==df_groups.parent_group.unique()[i]].import_vpq,\n",
    "        mode='markers',\n",
    "        text=df_crops_prod[df_crops_prod.parent_group==df_groups.parent_group.unique()[i]].item_crops,\n",
    "        name=parent_group_legend[i]\n",
    "    ))\n",
    "\n",
    "# Transform the axis in log\n",
    "fig.update_xaxes(type=\"log\")\n",
    "fig.update_yaxes(type=\"log\")\n",
    "\n",
    "# Add the annotation to highlight our crop\n",
    "fig.add_annotation(\n",
    "    go.layout.Annotation(\n",
    "            x=math.log10(749016800),\n",
    "            y=math.log10(0.2215844),\n",
    "            text=\"Wheat\")\n",
    ")\n",
    "\n",
    "fig.add_annotation(\n",
    "    go.layout.Annotation(\n",
    "            x=math.log10(5495334),\n",
    "            y=math.log10(2.3529),\n",
    "            text=\"Avocados\")\n",
    ")\n",
    "\n",
    "fig.add_annotation(\n",
    "    go.layout.Annotation(\n",
    "            x=math.log10(6398885.0),\n",
    "            y=math.log10(10.06832),\n",
    "            text=\"Tobacco, unmanufactured\")\n",
    ")\n",
    "\n",
    "fig.add_annotation(\n",
    "    go.layout.Annotation(\n",
    "            x=math.log10(9315121.0),\n",
    "            y=math.log10(3.670396),\n",
    "            text=\"Coffee, green\")\n",
    ")\n",
    "\n",
    "fig.update_layout(\n",
    "    title=\"Worldwide Production in 2016 \",\n",
    "    xaxis_title=\"Production [tones]\",\n",
    "    yaxis_title=\"VPQ [$/tonne]\",\n",
    "    legend=go.layout.Legend(\n",
    "        font=dict(\n",
    "            size=10)\n",
    "))\n",
    "fig.show()"
   ]
  },
  {
   "cell_type": "code",
   "execution_count": 543,
   "metadata": {},
   "outputs": [
    {
     "data": {
      "text/plain": [
       "'WorldwideProds.html'"
      ]
     },
     "execution_count": 543,
     "metadata": {},
     "output_type": "execute_result"
    }
   ],
   "source": [
    "# Save the figure for the data story :\n",
    "plotly.offline.plot(fig,filename='WorldwideProds.html')"
   ]
  },
  {
   "cell_type": "markdown",
   "metadata": {},
   "source": [
    "## Data Story Wheat"
   ]
  },
  {
   "cell_type": "code",
   "execution_count": 544,
   "metadata": {},
   "outputs": [],
   "source": [
    "# load the specific dataset for the wheat\n",
    "df_wheat = pd.read_pickle(\"data/wheat_df.pkl\")"
   ]
  },
  {
   "cell_type": "code",
   "execution_count": 545,
   "metadata": {},
   "outputs": [],
   "source": [
    "df_wheat_production = df_wheat.dropna(subset=['production','Country']).drop_duplicates(subset=['Country','year'])"
   ]
  },
  {
   "cell_type": "code",
   "execution_count": 546,
   "metadata": {},
   "outputs": [
    {
     "data": {
      "application/vnd.plotly.v1+json": {
       "config": {
        "plotlyServerURL": "https://plot.ly"
       },
       "data": [
        {
         "mode": "lines",
         "name": "Wheat Production",
         "showlegend": true,
         "type": "scatter",
         "x": [
          1961,
          1962,
          1963,
          1964,
          1965,
          1966,
          1967,
          1968,
          1969,
          1970,
          1971,
          1972,
          1973,
          1974,
          1975,
          1976,
          1977,
          1978,
          1979,
          1980,
          1981,
          1982,
          1983,
          1984,
          1985,
          1986,
          1987,
          1988,
          1989,
          1990,
          1991,
          1992,
          1993,
          1994,
          1995,
          1996,
          1997,
          1998,
          1999,
          2000,
          2001,
          2002,
          2003,
          2004,
          2005,
          2006,
          2007,
          2008,
          2009,
          2010,
          2011,
          2012,
          2013,
          2014,
          2015,
          2016,
          2017
         ],
         "y": [
          222357231,
          250319146,
          233339473,
          268791657,
          263645963,
          303785460,
          294295876,
          326843941,
          308640283,
          310740954,
          347525581,
          343001429,
          369334126,
          358825442,
          355806146,
          419868031,
          382276677,
          443844880,
          422999301,
          440187901,
          449633986,
          476768609,
          489555281,
          512330225,
          499527392,
          528685222,
          505075847,
          500656538,
          538206114,
          591330111,
          547820731,
          565111948,
          564739766,
          525435323,
          544357532,
          578616933,
          614651780,
          596175815,
          584763437,
          584999159,
          588243663,
          591981085,
          550094673,
          634872610,
          626942338,
          614538222,
          606681084,
          680953899,
          684127034,
          640258977,
          697614006,
          672694663,
          710947981,
          726302080,
          751863361,
          749014840,
          771718577
         ]
        }
       ],
       "layout": {
        "template": {
         "data": {
          "bar": [
           {
            "error_x": {
             "color": "#2a3f5f"
            },
            "error_y": {
             "color": "#2a3f5f"
            },
            "marker": {
             "line": {
              "color": "#E5ECF6",
              "width": 0.5
             }
            },
            "type": "bar"
           }
          ],
          "barpolar": [
           {
            "marker": {
             "line": {
              "color": "#E5ECF6",
              "width": 0.5
             }
            },
            "type": "barpolar"
           }
          ],
          "carpet": [
           {
            "aaxis": {
             "endlinecolor": "#2a3f5f",
             "gridcolor": "white",
             "linecolor": "white",
             "minorgridcolor": "white",
             "startlinecolor": "#2a3f5f"
            },
            "baxis": {
             "endlinecolor": "#2a3f5f",
             "gridcolor": "white",
             "linecolor": "white",
             "minorgridcolor": "white",
             "startlinecolor": "#2a3f5f"
            },
            "type": "carpet"
           }
          ],
          "choropleth": [
           {
            "colorbar": {
             "outlinewidth": 0,
             "ticks": ""
            },
            "type": "choropleth"
           }
          ],
          "contour": [
           {
            "colorbar": {
             "outlinewidth": 0,
             "ticks": ""
            },
            "colorscale": [
             [
              0,
              "#0d0887"
             ],
             [
              0.1111111111111111,
              "#46039f"
             ],
             [
              0.2222222222222222,
              "#7201a8"
             ],
             [
              0.3333333333333333,
              "#9c179e"
             ],
             [
              0.4444444444444444,
              "#bd3786"
             ],
             [
              0.5555555555555556,
              "#d8576b"
             ],
             [
              0.6666666666666666,
              "#ed7953"
             ],
             [
              0.7777777777777778,
              "#fb9f3a"
             ],
             [
              0.8888888888888888,
              "#fdca26"
             ],
             [
              1,
              "#f0f921"
             ]
            ],
            "type": "contour"
           }
          ],
          "contourcarpet": [
           {
            "colorbar": {
             "outlinewidth": 0,
             "ticks": ""
            },
            "type": "contourcarpet"
           }
          ],
          "heatmap": [
           {
            "colorbar": {
             "outlinewidth": 0,
             "ticks": ""
            },
            "colorscale": [
             [
              0,
              "#0d0887"
             ],
             [
              0.1111111111111111,
              "#46039f"
             ],
             [
              0.2222222222222222,
              "#7201a8"
             ],
             [
              0.3333333333333333,
              "#9c179e"
             ],
             [
              0.4444444444444444,
              "#bd3786"
             ],
             [
              0.5555555555555556,
              "#d8576b"
             ],
             [
              0.6666666666666666,
              "#ed7953"
             ],
             [
              0.7777777777777778,
              "#fb9f3a"
             ],
             [
              0.8888888888888888,
              "#fdca26"
             ],
             [
              1,
              "#f0f921"
             ]
            ],
            "type": "heatmap"
           }
          ],
          "heatmapgl": [
           {
            "colorbar": {
             "outlinewidth": 0,
             "ticks": ""
            },
            "colorscale": [
             [
              0,
              "#0d0887"
             ],
             [
              0.1111111111111111,
              "#46039f"
             ],
             [
              0.2222222222222222,
              "#7201a8"
             ],
             [
              0.3333333333333333,
              "#9c179e"
             ],
             [
              0.4444444444444444,
              "#bd3786"
             ],
             [
              0.5555555555555556,
              "#d8576b"
             ],
             [
              0.6666666666666666,
              "#ed7953"
             ],
             [
              0.7777777777777778,
              "#fb9f3a"
             ],
             [
              0.8888888888888888,
              "#fdca26"
             ],
             [
              1,
              "#f0f921"
             ]
            ],
            "type": "heatmapgl"
           }
          ],
          "histogram": [
           {
            "marker": {
             "colorbar": {
              "outlinewidth": 0,
              "ticks": ""
             }
            },
            "type": "histogram"
           }
          ],
          "histogram2d": [
           {
            "colorbar": {
             "outlinewidth": 0,
             "ticks": ""
            },
            "colorscale": [
             [
              0,
              "#0d0887"
             ],
             [
              0.1111111111111111,
              "#46039f"
             ],
             [
              0.2222222222222222,
              "#7201a8"
             ],
             [
              0.3333333333333333,
              "#9c179e"
             ],
             [
              0.4444444444444444,
              "#bd3786"
             ],
             [
              0.5555555555555556,
              "#d8576b"
             ],
             [
              0.6666666666666666,
              "#ed7953"
             ],
             [
              0.7777777777777778,
              "#fb9f3a"
             ],
             [
              0.8888888888888888,
              "#fdca26"
             ],
             [
              1,
              "#f0f921"
             ]
            ],
            "type": "histogram2d"
           }
          ],
          "histogram2dcontour": [
           {
            "colorbar": {
             "outlinewidth": 0,
             "ticks": ""
            },
            "colorscale": [
             [
              0,
              "#0d0887"
             ],
             [
              0.1111111111111111,
              "#46039f"
             ],
             [
              0.2222222222222222,
              "#7201a8"
             ],
             [
              0.3333333333333333,
              "#9c179e"
             ],
             [
              0.4444444444444444,
              "#bd3786"
             ],
             [
              0.5555555555555556,
              "#d8576b"
             ],
             [
              0.6666666666666666,
              "#ed7953"
             ],
             [
              0.7777777777777778,
              "#fb9f3a"
             ],
             [
              0.8888888888888888,
              "#fdca26"
             ],
             [
              1,
              "#f0f921"
             ]
            ],
            "type": "histogram2dcontour"
           }
          ],
          "mesh3d": [
           {
            "colorbar": {
             "outlinewidth": 0,
             "ticks": ""
            },
            "type": "mesh3d"
           }
          ],
          "parcoords": [
           {
            "line": {
             "colorbar": {
              "outlinewidth": 0,
              "ticks": ""
             }
            },
            "type": "parcoords"
           }
          ],
          "pie": [
           {
            "automargin": true,
            "type": "pie"
           }
          ],
          "scatter": [
           {
            "marker": {
             "colorbar": {
              "outlinewidth": 0,
              "ticks": ""
             }
            },
            "type": "scatter"
           }
          ],
          "scatter3d": [
           {
            "line": {
             "colorbar": {
              "outlinewidth": 0,
              "ticks": ""
             }
            },
            "marker": {
             "colorbar": {
              "outlinewidth": 0,
              "ticks": ""
             }
            },
            "type": "scatter3d"
           }
          ],
          "scattercarpet": [
           {
            "marker": {
             "colorbar": {
              "outlinewidth": 0,
              "ticks": ""
             }
            },
            "type": "scattercarpet"
           }
          ],
          "scattergeo": [
           {
            "marker": {
             "colorbar": {
              "outlinewidth": 0,
              "ticks": ""
             }
            },
            "type": "scattergeo"
           }
          ],
          "scattergl": [
           {
            "marker": {
             "colorbar": {
              "outlinewidth": 0,
              "ticks": ""
             }
            },
            "type": "scattergl"
           }
          ],
          "scattermapbox": [
           {
            "marker": {
             "colorbar": {
              "outlinewidth": 0,
              "ticks": ""
             }
            },
            "type": "scattermapbox"
           }
          ],
          "scatterpolar": [
           {
            "marker": {
             "colorbar": {
              "outlinewidth": 0,
              "ticks": ""
             }
            },
            "type": "scatterpolar"
           }
          ],
          "scatterpolargl": [
           {
            "marker": {
             "colorbar": {
              "outlinewidth": 0,
              "ticks": ""
             }
            },
            "type": "scatterpolargl"
           }
          ],
          "scatterternary": [
           {
            "marker": {
             "colorbar": {
              "outlinewidth": 0,
              "ticks": ""
             }
            },
            "type": "scatterternary"
           }
          ],
          "surface": [
           {
            "colorbar": {
             "outlinewidth": 0,
             "ticks": ""
            },
            "colorscale": [
             [
              0,
              "#0d0887"
             ],
             [
              0.1111111111111111,
              "#46039f"
             ],
             [
              0.2222222222222222,
              "#7201a8"
             ],
             [
              0.3333333333333333,
              "#9c179e"
             ],
             [
              0.4444444444444444,
              "#bd3786"
             ],
             [
              0.5555555555555556,
              "#d8576b"
             ],
             [
              0.6666666666666666,
              "#ed7953"
             ],
             [
              0.7777777777777778,
              "#fb9f3a"
             ],
             [
              0.8888888888888888,
              "#fdca26"
             ],
             [
              1,
              "#f0f921"
             ]
            ],
            "type": "surface"
           }
          ],
          "table": [
           {
            "cells": {
             "fill": {
              "color": "#EBF0F8"
             },
             "line": {
              "color": "white"
             }
            },
            "header": {
             "fill": {
              "color": "#C8D4E3"
             },
             "line": {
              "color": "white"
             }
            },
            "type": "table"
           }
          ]
         },
         "layout": {
          "annotationdefaults": {
           "arrowcolor": "#2a3f5f",
           "arrowhead": 0,
           "arrowwidth": 1
          },
          "coloraxis": {
           "colorbar": {
            "outlinewidth": 0,
            "ticks": ""
           }
          },
          "colorscale": {
           "diverging": [
            [
             0,
             "#8e0152"
            ],
            [
             0.1,
             "#c51b7d"
            ],
            [
             0.2,
             "#de77ae"
            ],
            [
             0.3,
             "#f1b6da"
            ],
            [
             0.4,
             "#fde0ef"
            ],
            [
             0.5,
             "#f7f7f7"
            ],
            [
             0.6,
             "#e6f5d0"
            ],
            [
             0.7,
             "#b8e186"
            ],
            [
             0.8,
             "#7fbc41"
            ],
            [
             0.9,
             "#4d9221"
            ],
            [
             1,
             "#276419"
            ]
           ],
           "sequential": [
            [
             0,
             "#0d0887"
            ],
            [
             0.1111111111111111,
             "#46039f"
            ],
            [
             0.2222222222222222,
             "#7201a8"
            ],
            [
             0.3333333333333333,
             "#9c179e"
            ],
            [
             0.4444444444444444,
             "#bd3786"
            ],
            [
             0.5555555555555556,
             "#d8576b"
            ],
            [
             0.6666666666666666,
             "#ed7953"
            ],
            [
             0.7777777777777778,
             "#fb9f3a"
            ],
            [
             0.8888888888888888,
             "#fdca26"
            ],
            [
             1,
             "#f0f921"
            ]
           ],
           "sequentialminus": [
            [
             0,
             "#0d0887"
            ],
            [
             0.1111111111111111,
             "#46039f"
            ],
            [
             0.2222222222222222,
             "#7201a8"
            ],
            [
             0.3333333333333333,
             "#9c179e"
            ],
            [
             0.4444444444444444,
             "#bd3786"
            ],
            [
             0.5555555555555556,
             "#d8576b"
            ],
            [
             0.6666666666666666,
             "#ed7953"
            ],
            [
             0.7777777777777778,
             "#fb9f3a"
            ],
            [
             0.8888888888888888,
             "#fdca26"
            ],
            [
             1,
             "#f0f921"
            ]
           ]
          },
          "colorway": [
           "#636efa",
           "#EF553B",
           "#00cc96",
           "#ab63fa",
           "#FFA15A",
           "#19d3f3",
           "#FF6692",
           "#B6E880",
           "#FF97FF",
           "#FECB52"
          ],
          "font": {
           "color": "#2a3f5f"
          },
          "geo": {
           "bgcolor": "white",
           "lakecolor": "white",
           "landcolor": "#E5ECF6",
           "showlakes": true,
           "showland": true,
           "subunitcolor": "white"
          },
          "hoverlabel": {
           "align": "left"
          },
          "hovermode": "closest",
          "mapbox": {
           "style": "light"
          },
          "paper_bgcolor": "white",
          "plot_bgcolor": "#E5ECF6",
          "polar": {
           "angularaxis": {
            "gridcolor": "white",
            "linecolor": "white",
            "ticks": ""
           },
           "bgcolor": "#E5ECF6",
           "radialaxis": {
            "gridcolor": "white",
            "linecolor": "white",
            "ticks": ""
           }
          },
          "scene": {
           "xaxis": {
            "backgroundcolor": "#E5ECF6",
            "gridcolor": "white",
            "gridwidth": 2,
            "linecolor": "white",
            "showbackground": true,
            "ticks": "",
            "zerolinecolor": "white"
           },
           "yaxis": {
            "backgroundcolor": "#E5ECF6",
            "gridcolor": "white",
            "gridwidth": 2,
            "linecolor": "white",
            "showbackground": true,
            "ticks": "",
            "zerolinecolor": "white"
           },
           "zaxis": {
            "backgroundcolor": "#E5ECF6",
            "gridcolor": "white",
            "gridwidth": 2,
            "linecolor": "white",
            "showbackground": true,
            "ticks": "",
            "zerolinecolor": "white"
           }
          },
          "shapedefaults": {
           "line": {
            "color": "#2a3f5f"
           }
          },
          "ternary": {
           "aaxis": {
            "gridcolor": "white",
            "linecolor": "white",
            "ticks": ""
           },
           "baxis": {
            "gridcolor": "white",
            "linecolor": "white",
            "ticks": ""
           },
           "bgcolor": "#E5ECF6",
           "caxis": {
            "gridcolor": "white",
            "linecolor": "white",
            "ticks": ""
           }
          },
          "title": {
           "x": 0.05
          },
          "xaxis": {
           "automargin": true,
           "gridcolor": "white",
           "linecolor": "white",
           "ticks": "",
           "title": {
            "standoff": 15
           },
           "zerolinecolor": "white",
           "zerolinewidth": 2
          },
          "yaxis": {
           "automargin": true,
           "gridcolor": "white",
           "linecolor": "white",
           "ticks": "",
           "title": {
            "standoff": 15
           },
           "zerolinecolor": "white",
           "zerolinewidth": 2
          }
         }
        }
       }
      },
      "text/html": [
       "<div>\n",
       "        \n",
       "        \n",
       "            <div id=\"8014347b-03e8-4de6-92c2-32cc9dcb1938\" class=\"plotly-graph-div\" style=\"height:525px; width:100%;\"></div>\n",
       "            <script type=\"text/javascript\">\n",
       "                require([\"plotly\"], function(Plotly) {\n",
       "                    window.PLOTLYENV=window.PLOTLYENV || {};\n",
       "                    \n",
       "                if (document.getElementById(\"8014347b-03e8-4de6-92c2-32cc9dcb1938\")) {\n",
       "                    Plotly.newPlot(\n",
       "                        '8014347b-03e8-4de6-92c2-32cc9dcb1938',\n",
       "                        [{\"mode\": \"lines\", \"name\": \"Wheat Production\", \"showlegend\": true, \"type\": \"scatter\", \"x\": [1961.0, 1962.0, 1963.0, 1964.0, 1965.0, 1966.0, 1967.0, 1968.0, 1969.0, 1970.0, 1971.0, 1972.0, 1973.0, 1974.0, 1975.0, 1976.0, 1977.0, 1978.0, 1979.0, 1980.0, 1981.0, 1982.0, 1983.0, 1984.0, 1985.0, 1986.0, 1987.0, 1988.0, 1989.0, 1990.0, 1991.0, 1992.0, 1993.0, 1994.0, 1995.0, 1996.0, 1997.0, 1998.0, 1999.0, 2000.0, 2001.0, 2002.0, 2003.0, 2004.0, 2005.0, 2006.0, 2007.0, 2008.0, 2009.0, 2010.0, 2011.0, 2012.0, 2013.0, 2014.0, 2015.0, 2016.0, 2017.0], \"y\": [222357231.0, 250319146.0, 233339473.0, 268791657.0, 263645963.0, 303785460.0, 294295876.0, 326843941.0, 308640283.0, 310740954.0, 347525581.0, 343001429.0, 369334126.0, 358825442.0, 355806146.0, 419868031.0, 382276677.0, 443844880.0, 422999301.0, 440187901.0, 449633986.0, 476768609.0, 489555281.0, 512330225.0, 499527392.0, 528685222.0, 505075847.0, 500656538.0, 538206114.0, 591330111.0, 547820731.0, 565111948.0, 564739766.0, 525435323.0, 544357532.0, 578616933.0, 614651780.0, 596175815.0, 584763437.0, 584999159.0, 588243663.0, 591981085.0, 550094673.0, 634872610.0, 626942338.0, 614538222.0, 606681084.0, 680953899.0, 684127034.0, 640258977.0, 697614006.0, 672694663.0, 710947981.0, 726302080.0, 751863361.0, 749014840.0, 771718577.0]}],\n",
       "                        {\"template\": {\"data\": {\"bar\": [{\"error_x\": {\"color\": \"#2a3f5f\"}, \"error_y\": {\"color\": \"#2a3f5f\"}, \"marker\": {\"line\": {\"color\": \"#E5ECF6\", \"width\": 0.5}}, \"type\": \"bar\"}], \"barpolar\": [{\"marker\": {\"line\": {\"color\": \"#E5ECF6\", \"width\": 0.5}}, \"type\": \"barpolar\"}], \"carpet\": [{\"aaxis\": {\"endlinecolor\": \"#2a3f5f\", \"gridcolor\": \"white\", \"linecolor\": \"white\", \"minorgridcolor\": \"white\", \"startlinecolor\": \"#2a3f5f\"}, \"baxis\": {\"endlinecolor\": \"#2a3f5f\", \"gridcolor\": \"white\", \"linecolor\": \"white\", \"minorgridcolor\": \"white\", \"startlinecolor\": \"#2a3f5f\"}, \"type\": \"carpet\"}], \"choropleth\": [{\"colorbar\": {\"outlinewidth\": 0, \"ticks\": \"\"}, \"type\": \"choropleth\"}], \"contour\": [{\"colorbar\": {\"outlinewidth\": 0, \"ticks\": \"\"}, \"colorscale\": [[0.0, \"#0d0887\"], [0.1111111111111111, \"#46039f\"], [0.2222222222222222, \"#7201a8\"], [0.3333333333333333, \"#9c179e\"], [0.4444444444444444, \"#bd3786\"], [0.5555555555555556, \"#d8576b\"], [0.6666666666666666, \"#ed7953\"], [0.7777777777777778, \"#fb9f3a\"], [0.8888888888888888, \"#fdca26\"], [1.0, \"#f0f921\"]], \"type\": \"contour\"}], \"contourcarpet\": [{\"colorbar\": {\"outlinewidth\": 0, \"ticks\": \"\"}, \"type\": \"contourcarpet\"}], \"heatmap\": [{\"colorbar\": {\"outlinewidth\": 0, \"ticks\": \"\"}, \"colorscale\": [[0.0, \"#0d0887\"], [0.1111111111111111, \"#46039f\"], [0.2222222222222222, \"#7201a8\"], [0.3333333333333333, \"#9c179e\"], [0.4444444444444444, \"#bd3786\"], [0.5555555555555556, \"#d8576b\"], [0.6666666666666666, \"#ed7953\"], [0.7777777777777778, \"#fb9f3a\"], [0.8888888888888888, \"#fdca26\"], [1.0, \"#f0f921\"]], \"type\": \"heatmap\"}], \"heatmapgl\": [{\"colorbar\": {\"outlinewidth\": 0, \"ticks\": \"\"}, \"colorscale\": [[0.0, \"#0d0887\"], [0.1111111111111111, \"#46039f\"], [0.2222222222222222, \"#7201a8\"], [0.3333333333333333, \"#9c179e\"], [0.4444444444444444, \"#bd3786\"], [0.5555555555555556, \"#d8576b\"], [0.6666666666666666, \"#ed7953\"], [0.7777777777777778, \"#fb9f3a\"], [0.8888888888888888, \"#fdca26\"], [1.0, \"#f0f921\"]], \"type\": \"heatmapgl\"}], \"histogram\": [{\"marker\": {\"colorbar\": {\"outlinewidth\": 0, \"ticks\": \"\"}}, \"type\": \"histogram\"}], \"histogram2d\": [{\"colorbar\": {\"outlinewidth\": 0, \"ticks\": \"\"}, \"colorscale\": [[0.0, \"#0d0887\"], [0.1111111111111111, \"#46039f\"], [0.2222222222222222, \"#7201a8\"], [0.3333333333333333, \"#9c179e\"], [0.4444444444444444, \"#bd3786\"], [0.5555555555555556, \"#d8576b\"], [0.6666666666666666, \"#ed7953\"], [0.7777777777777778, \"#fb9f3a\"], [0.8888888888888888, \"#fdca26\"], [1.0, \"#f0f921\"]], \"type\": \"histogram2d\"}], \"histogram2dcontour\": [{\"colorbar\": {\"outlinewidth\": 0, \"ticks\": \"\"}, \"colorscale\": [[0.0, \"#0d0887\"], [0.1111111111111111, \"#46039f\"], [0.2222222222222222, \"#7201a8\"], [0.3333333333333333, \"#9c179e\"], [0.4444444444444444, \"#bd3786\"], [0.5555555555555556, \"#d8576b\"], [0.6666666666666666, \"#ed7953\"], [0.7777777777777778, \"#fb9f3a\"], [0.8888888888888888, \"#fdca26\"], [1.0, \"#f0f921\"]], \"type\": \"histogram2dcontour\"}], \"mesh3d\": [{\"colorbar\": {\"outlinewidth\": 0, \"ticks\": \"\"}, \"type\": \"mesh3d\"}], \"parcoords\": [{\"line\": {\"colorbar\": {\"outlinewidth\": 0, \"ticks\": \"\"}}, \"type\": \"parcoords\"}], \"pie\": [{\"automargin\": true, \"type\": \"pie\"}], \"scatter\": [{\"marker\": {\"colorbar\": {\"outlinewidth\": 0, \"ticks\": \"\"}}, \"type\": \"scatter\"}], \"scatter3d\": [{\"line\": {\"colorbar\": {\"outlinewidth\": 0, \"ticks\": \"\"}}, \"marker\": {\"colorbar\": {\"outlinewidth\": 0, \"ticks\": \"\"}}, \"type\": \"scatter3d\"}], \"scattercarpet\": [{\"marker\": {\"colorbar\": {\"outlinewidth\": 0, \"ticks\": \"\"}}, \"type\": \"scattercarpet\"}], \"scattergeo\": [{\"marker\": {\"colorbar\": {\"outlinewidth\": 0, \"ticks\": \"\"}}, \"type\": \"scattergeo\"}], \"scattergl\": [{\"marker\": {\"colorbar\": {\"outlinewidth\": 0, \"ticks\": \"\"}}, \"type\": \"scattergl\"}], \"scattermapbox\": [{\"marker\": {\"colorbar\": {\"outlinewidth\": 0, \"ticks\": \"\"}}, \"type\": \"scattermapbox\"}], \"scatterpolar\": [{\"marker\": {\"colorbar\": {\"outlinewidth\": 0, \"ticks\": \"\"}}, \"type\": \"scatterpolar\"}], \"scatterpolargl\": [{\"marker\": {\"colorbar\": {\"outlinewidth\": 0, \"ticks\": \"\"}}, \"type\": \"scatterpolargl\"}], \"scatterternary\": [{\"marker\": {\"colorbar\": {\"outlinewidth\": 0, \"ticks\": \"\"}}, \"type\": \"scatterternary\"}], \"surface\": [{\"colorbar\": {\"outlinewidth\": 0, \"ticks\": \"\"}, \"colorscale\": [[0.0, \"#0d0887\"], [0.1111111111111111, \"#46039f\"], [0.2222222222222222, \"#7201a8\"], [0.3333333333333333, \"#9c179e\"], [0.4444444444444444, \"#bd3786\"], [0.5555555555555556, \"#d8576b\"], [0.6666666666666666, \"#ed7953\"], [0.7777777777777778, \"#fb9f3a\"], [0.8888888888888888, \"#fdca26\"], [1.0, \"#f0f921\"]], \"type\": \"surface\"}], \"table\": [{\"cells\": {\"fill\": {\"color\": \"#EBF0F8\"}, \"line\": {\"color\": \"white\"}}, \"header\": {\"fill\": {\"color\": \"#C8D4E3\"}, \"line\": {\"color\": \"white\"}}, \"type\": \"table\"}]}, \"layout\": {\"annotationdefaults\": {\"arrowcolor\": \"#2a3f5f\", \"arrowhead\": 0, \"arrowwidth\": 1}, \"coloraxis\": {\"colorbar\": {\"outlinewidth\": 0, \"ticks\": \"\"}}, \"colorscale\": {\"diverging\": [[0, \"#8e0152\"], [0.1, \"#c51b7d\"], [0.2, \"#de77ae\"], [0.3, \"#f1b6da\"], [0.4, \"#fde0ef\"], [0.5, \"#f7f7f7\"], [0.6, \"#e6f5d0\"], [0.7, \"#b8e186\"], [0.8, \"#7fbc41\"], [0.9, \"#4d9221\"], [1, \"#276419\"]], \"sequential\": [[0.0, \"#0d0887\"], [0.1111111111111111, \"#46039f\"], [0.2222222222222222, \"#7201a8\"], [0.3333333333333333, \"#9c179e\"], [0.4444444444444444, \"#bd3786\"], [0.5555555555555556, \"#d8576b\"], [0.6666666666666666, \"#ed7953\"], [0.7777777777777778, \"#fb9f3a\"], [0.8888888888888888, \"#fdca26\"], [1.0, \"#f0f921\"]], \"sequentialminus\": [[0.0, \"#0d0887\"], [0.1111111111111111, \"#46039f\"], [0.2222222222222222, \"#7201a8\"], [0.3333333333333333, \"#9c179e\"], [0.4444444444444444, \"#bd3786\"], [0.5555555555555556, \"#d8576b\"], [0.6666666666666666, \"#ed7953\"], [0.7777777777777778, \"#fb9f3a\"], [0.8888888888888888, \"#fdca26\"], [1.0, \"#f0f921\"]]}, \"colorway\": [\"#636efa\", \"#EF553B\", \"#00cc96\", \"#ab63fa\", \"#FFA15A\", \"#19d3f3\", \"#FF6692\", \"#B6E880\", \"#FF97FF\", \"#FECB52\"], \"font\": {\"color\": \"#2a3f5f\"}, \"geo\": {\"bgcolor\": \"white\", \"lakecolor\": \"white\", \"landcolor\": \"#E5ECF6\", \"showlakes\": true, \"showland\": true, \"subunitcolor\": \"white\"}, \"hoverlabel\": {\"align\": \"left\"}, \"hovermode\": \"closest\", \"mapbox\": {\"style\": \"light\"}, \"paper_bgcolor\": \"white\", \"plot_bgcolor\": \"#E5ECF6\", \"polar\": {\"angularaxis\": {\"gridcolor\": \"white\", \"linecolor\": \"white\", \"ticks\": \"\"}, \"bgcolor\": \"#E5ECF6\", \"radialaxis\": {\"gridcolor\": \"white\", \"linecolor\": \"white\", \"ticks\": \"\"}}, \"scene\": {\"xaxis\": {\"backgroundcolor\": \"#E5ECF6\", \"gridcolor\": \"white\", \"gridwidth\": 2, \"linecolor\": \"white\", \"showbackground\": true, \"ticks\": \"\", \"zerolinecolor\": \"white\"}, \"yaxis\": {\"backgroundcolor\": \"#E5ECF6\", \"gridcolor\": \"white\", \"gridwidth\": 2, \"linecolor\": \"white\", \"showbackground\": true, \"ticks\": \"\", \"zerolinecolor\": \"white\"}, \"zaxis\": {\"backgroundcolor\": \"#E5ECF6\", \"gridcolor\": \"white\", \"gridwidth\": 2, \"linecolor\": \"white\", \"showbackground\": true, \"ticks\": \"\", \"zerolinecolor\": \"white\"}}, \"shapedefaults\": {\"line\": {\"color\": \"#2a3f5f\"}}, \"ternary\": {\"aaxis\": {\"gridcolor\": \"white\", \"linecolor\": \"white\", \"ticks\": \"\"}, \"baxis\": {\"gridcolor\": \"white\", \"linecolor\": \"white\", \"ticks\": \"\"}, \"bgcolor\": \"#E5ECF6\", \"caxis\": {\"gridcolor\": \"white\", \"linecolor\": \"white\", \"ticks\": \"\"}}, \"title\": {\"x\": 0.05}, \"xaxis\": {\"automargin\": true, \"gridcolor\": \"white\", \"linecolor\": \"white\", \"ticks\": \"\", \"title\": {\"standoff\": 15}, \"zerolinecolor\": \"white\", \"zerolinewidth\": 2}, \"yaxis\": {\"automargin\": true, \"gridcolor\": \"white\", \"linecolor\": \"white\", \"ticks\": \"\", \"title\": {\"standoff\": 15}, \"zerolinecolor\": \"white\", \"zerolinewidth\": 2}}}},\n",
       "                        {\"responsive\": true}\n",
       "                    ).then(function(){\n",
       "                            \n",
       "var gd = document.getElementById('8014347b-03e8-4de6-92c2-32cc9dcb1938');\n",
       "var x = new MutationObserver(function (mutations, observer) {{\n",
       "        var display = window.getComputedStyle(gd).display;\n",
       "        if (!display || display === 'none') {{\n",
       "            console.log([gd, 'removed!']);\n",
       "            Plotly.purge(gd);\n",
       "            observer.disconnect();\n",
       "        }}\n",
       "}});\n",
       "\n",
       "// Listen for the removal of the full notebook cells\n",
       "var notebookContainer = gd.closest('#notebook-container');\n",
       "if (notebookContainer) {{\n",
       "    x.observe(notebookContainer, {childList: true});\n",
       "}}\n",
       "\n",
       "// Listen for the clearing of the current output cell\n",
       "var outputEl = gd.closest('.output');\n",
       "if (outputEl) {{\n",
       "    x.observe(outputEl, {childList: true});\n",
       "}}\n",
       "\n",
       "                        })\n",
       "                };\n",
       "                });\n",
       "            </script>\n",
       "        </div>"
      ]
     },
     "metadata": {},
     "output_type": "display_data"
    }
   ],
   "source": [
    "# Notice that we have the same production than the scatter plot for the year 2016, so it's correct\n",
    "fig = go.Figure()\n",
    "fig.add_trace(go.Scatter(\n",
    "    x=df_wheat_production.groupby(['year']).sum().reset_index().year,\n",
    "    y=df_wheat_production.groupby(['year']).sum().reset_index().production,\n",
    "    mode='lines',\n",
    "    showlegend=True,\n",
    "    name=\"Wheat Production\",\n",
    "    ))"
   ]
  },
  {
   "cell_type": "markdown",
   "metadata": {},
   "source": [
    "**Time serie plot for the import and export VPQ :**"
   ]
  },
  {
   "cell_type": "code",
   "execution_count": 547,
   "metadata": {},
   "outputs": [
    {
     "data": {
      "text/html": [
       "<div>\n",
       "<style scoped>\n",
       "    .dataframe tbody tr th:only-of-type {\n",
       "        vertical-align: middle;\n",
       "    }\n",
       "\n",
       "    .dataframe tbody tr th {\n",
       "        vertical-align: top;\n",
       "    }\n",
       "\n",
       "    .dataframe thead th {\n",
       "        text-align: right;\n",
       "    }\n",
       "</style>\n",
       "<table border=\"1\" class=\"dataframe\">\n",
       "  <thead>\n",
       "    <tr style=\"text-align: right;\">\n",
       "      <th></th>\n",
       "      <th>year</th>\n",
       "      <th>area_code</th>\n",
       "      <th>area_harvested</th>\n",
       "      <th>production</th>\n",
       "      <th>yield</th>\n",
       "      <th>export_q</th>\n",
       "      <th>export_v</th>\n",
       "      <th>import_q</th>\n",
       "      <th>import_v</th>\n",
       "      <th>import_vpq</th>\n",
       "      <th>export_vpq</th>\n",
       "    </tr>\n",
       "  </thead>\n",
       "  <tbody>\n",
       "    <tr>\n",
       "      <td>0</td>\n",
       "      <td>1961.0</td>\n",
       "      <td>109028.0</td>\n",
       "      <td>816837800.0</td>\n",
       "      <td>8.894289e+08</td>\n",
       "      <td>5190800.0</td>\n",
       "      <td>45766402.0</td>\n",
       "      <td>3007811.0</td>\n",
       "      <td>45537308.0</td>\n",
       "      <td>3354361.0</td>\n",
       "      <td>0.073662</td>\n",
       "      <td>0.065721</td>\n",
       "    </tr>\n",
       "    <tr>\n",
       "      <td>1</td>\n",
       "      <td>1962.0</td>\n",
       "      <td>109028.0</td>\n",
       "      <td>830218072.0</td>\n",
       "      <td>1.001277e+09</td>\n",
       "      <td>5542520.0</td>\n",
       "      <td>44480428.0</td>\n",
       "      <td>3019104.0</td>\n",
       "      <td>41321775.0</td>\n",
       "      <td>3155407.0</td>\n",
       "      <td>0.076362</td>\n",
       "      <td>0.067875</td>\n",
       "    </tr>\n",
       "    <tr>\n",
       "      <td>2</td>\n",
       "      <td>1963.0</td>\n",
       "      <td>109028.0</td>\n",
       "      <td>824520960.0</td>\n",
       "      <td>9.333579e+08</td>\n",
       "      <td>5345416.0</td>\n",
       "      <td>49214725.0</td>\n",
       "      <td>3305830.0</td>\n",
       "      <td>49545739.0</td>\n",
       "      <td>3700308.0</td>\n",
       "      <td>0.074685</td>\n",
       "      <td>0.067172</td>\n",
       "    </tr>\n",
       "    <tr>\n",
       "      <td>3</td>\n",
       "      <td>1964.0</td>\n",
       "      <td>109028.0</td>\n",
       "      <td>866156708.0</td>\n",
       "      <td>1.075167e+09</td>\n",
       "      <td>5745152.0</td>\n",
       "      <td>58831852.0</td>\n",
       "      <td>3967881.0</td>\n",
       "      <td>55352964.0</td>\n",
       "      <td>4270788.0</td>\n",
       "      <td>0.077156</td>\n",
       "      <td>0.067444</td>\n",
       "    </tr>\n",
       "    <tr>\n",
       "      <td>4</td>\n",
       "      <td>1965.0</td>\n",
       "      <td>109028.0</td>\n",
       "      <td>867919048.0</td>\n",
       "      <td>1.054584e+09</td>\n",
       "      <td>5936720.0</td>\n",
       "      <td>56153716.0</td>\n",
       "      <td>3550790.0</td>\n",
       "      <td>56172880.0</td>\n",
       "      <td>4108793.0</td>\n",
       "      <td>0.073145</td>\n",
       "      <td>0.063233</td>\n",
       "    </tr>\n",
       "  </tbody>\n",
       "</table>\n",
       "</div>"
      ],
      "text/plain": [
       "     year  area_code  area_harvested    production      yield    export_q  \\\n",
       "0  1961.0   109028.0     816837800.0  8.894289e+08  5190800.0  45766402.0   \n",
       "1  1962.0   109028.0     830218072.0  1.001277e+09  5542520.0  44480428.0   \n",
       "2  1963.0   109028.0     824520960.0  9.333579e+08  5345416.0  49214725.0   \n",
       "3  1964.0   109028.0     866156708.0  1.075167e+09  5745152.0  58831852.0   \n",
       "4  1965.0   109028.0     867919048.0  1.054584e+09  5936720.0  56153716.0   \n",
       "\n",
       "    export_v    import_q   import_v  import_vpq  export_vpq  \n",
       "0  3007811.0  45537308.0  3354361.0    0.073662    0.065721  \n",
       "1  3019104.0  41321775.0  3155407.0    0.076362    0.067875  \n",
       "2  3305830.0  49545739.0  3700308.0    0.074685    0.067172  \n",
       "3  3967881.0  55352964.0  4270788.0    0.077156    0.067444  \n",
       "4  3550790.0  56172880.0  4108793.0    0.073145    0.063233  "
      ]
     },
     "execution_count": 547,
     "metadata": {},
     "output_type": "execute_result"
    }
   ],
   "source": [
    "df_wheat_trades_vpq = df_wheat.dropna(subset=['Country']).groupby(['year']).sum().reset_index()\n",
    "df_wheat_trades_vpq['import_vpq'] = df_wheat_trades_vpq.import_v/df_wheat_trades_vpq.import_q\n",
    "df_wheat_trades_vpq['export_vpq'] = df_wheat_trades_vpq.export_v/df_wheat_trades_vpq.export_q\n",
    "df_wheat_trades_vpq.head()"
   ]
  },
  {
   "cell_type": "code",
   "execution_count": 549,
   "metadata": {},
   "outputs": [
    {
     "data": {
      "application/vnd.plotly.v1+json": {
       "config": {
        "plotlyServerURL": "https://plot.ly"
       },
       "data": [
        {
         "mode": "lines",
         "name": "Import VPQ",
         "showlegend": true,
         "type": "scatter",
         "x": [
          1961,
          1962,
          1963,
          1964,
          1965,
          1966,
          1967,
          1968,
          1969,
          1970,
          1971,
          1972,
          1973,
          1974,
          1975,
          1976,
          1977,
          1978,
          1979,
          1980,
          1981,
          1982,
          1983,
          1984,
          1985,
          1986,
          1987,
          1988,
          1989,
          1990,
          1991,
          1992,
          1993,
          1994,
          1995,
          1996,
          1997,
          1998,
          1999,
          2000,
          2001,
          2002,
          2003,
          2004,
          2005,
          2006,
          2007,
          2008,
          2009,
          2010,
          2011,
          2012,
          2013,
          2014,
          2015,
          2016,
          2017
         ],
         "y": [
          0.07366182032543514,
          0.07636184554027507,
          0.0746846868103027,
          0.0771555431069599,
          0.07314549298522703,
          0.07382118310540624,
          0.0765786959672604,
          0.07552137507445368,
          0.07486002549688144,
          0.07366950434459485,
          0.07668849367617195,
          0.07709005030042675,
          0.10884817194872769,
          0.19219324791516887,
          0.192712483703485,
          0.17504887435014793,
          0.1521365441561395,
          0.15828418273120184,
          0.18756164755449445,
          0.21645683399851448,
          0.21971523067353949,
          0.19821351387799355,
          0.19005664067279718,
          0.18047344339968754,
          0.16520586605341595,
          0.1516769701778434,
          0.13169794339510232,
          0.15380837539109296,
          0.18760933449438796,
          0.18505904280293564,
          0.15139551656882852,
          0.17026611703217306,
          0.16623650302045478,
          0.16302248681096343,
          0.19617095836396442,
          0.22226214781052145,
          0.19018608493252553,
          0.1652511431564602,
          0.1464158654754862,
          0.14696729176898038,
          0.1480744380530311,
          0.14466392081150875,
          0.16563821758160105,
          0.19029319720799684,
          0.17668179307123008,
          0.19002366881410526,
          0.2712103188277974,
          0.39558017985661187,
          0.2575083841143429,
          0.2584641024906383,
          0.352489442184152,
          0.32855958792699214,
          0.3415711952891761,
          0.3143501903459755,
          0.2671075066969706,
          0.22475451578968725,
          0.2395917322539012
         ]
        },
        {
         "mode": "lines",
         "name": "Export VPQ",
         "showlegend": true,
         "type": "scatter",
         "x": [
          1961,
          1962,
          1963,
          1964,
          1965,
          1966,
          1967,
          1968,
          1969,
          1970,
          1971,
          1972,
          1973,
          1974,
          1975,
          1976,
          1977,
          1978,
          1979,
          1980,
          1981,
          1982,
          1983,
          1984,
          1985,
          1986,
          1987,
          1988,
          1989,
          1990,
          1991,
          1992,
          1993,
          1994,
          1995,
          1996,
          1997,
          1998,
          1999,
          2000,
          2001,
          2002,
          2003,
          2004,
          2005,
          2006,
          2007,
          2008,
          2009,
          2010,
          2011,
          2012,
          2013,
          2014,
          2015,
          2016,
          2017
         ],
         "y": [
          0.06572094087710893,
          0.06787488645567889,
          0.0671715629824204,
          0.06744443469160209,
          0.06323339313822081,
          0.06477622305884478,
          0.06879801790248609,
          0.06589931253009736,
          0.0664951200779952,
          0.06384220262689456,
          0.06947638839676484,
          0.07024236795119143,
          0.10704278235174917,
          0.17177797630791483,
          0.1713724248609582,
          0.15505702040062352,
          0.12915093798119062,
          0.1352589795991713,
          0.16704265933387466,
          0.1913564113811139,
          0.193514448545086,
          0.17482805171957197,
          0.16204417207068197,
          0.15901377894653684,
          0.14696912682768448,
          0.13765306233811778,
          0.11737307404476559,
          0.14225998844274912,
          0.1737029552930689,
          0.16715052544889192,
          0.1357010157341422,
          0.15905545523757514,
          0.146231076168148,
          0.13983773424896276,
          0.1731858161208361,
          0.20906464926670643,
          0.1722108165416587,
          0.14574282650217688,
          0.13092765105682647,
          0.12533164265763522,
          0.13263636651826505,
          0.13135790202236902,
          0.1503021227627995,
          0.16771608683126615,
          0.15191311657441903,
          0.16645671000769938,
          0.24812863415311812,
          0.34577727012284803,
          0.22256226086950842,
          0.23119005553748995,
          0.3214633636723868,
          0.30306346073697615,
          0.31226128836719697,
          0.2831000686954534,
          0.2367888094420572,
          0.20065601888277843,
          0.20593953355609135
         ]
        }
       ],
       "layout": {
        "template": {
         "data": {
          "bar": [
           {
            "error_x": {
             "color": "#2a3f5f"
            },
            "error_y": {
             "color": "#2a3f5f"
            },
            "marker": {
             "line": {
              "color": "#E5ECF6",
              "width": 0.5
             }
            },
            "type": "bar"
           }
          ],
          "barpolar": [
           {
            "marker": {
             "line": {
              "color": "#E5ECF6",
              "width": 0.5
             }
            },
            "type": "barpolar"
           }
          ],
          "carpet": [
           {
            "aaxis": {
             "endlinecolor": "#2a3f5f",
             "gridcolor": "white",
             "linecolor": "white",
             "minorgridcolor": "white",
             "startlinecolor": "#2a3f5f"
            },
            "baxis": {
             "endlinecolor": "#2a3f5f",
             "gridcolor": "white",
             "linecolor": "white",
             "minorgridcolor": "white",
             "startlinecolor": "#2a3f5f"
            },
            "type": "carpet"
           }
          ],
          "choropleth": [
           {
            "colorbar": {
             "outlinewidth": 0,
             "ticks": ""
            },
            "type": "choropleth"
           }
          ],
          "contour": [
           {
            "colorbar": {
             "outlinewidth": 0,
             "ticks": ""
            },
            "colorscale": [
             [
              0,
              "#0d0887"
             ],
             [
              0.1111111111111111,
              "#46039f"
             ],
             [
              0.2222222222222222,
              "#7201a8"
             ],
             [
              0.3333333333333333,
              "#9c179e"
             ],
             [
              0.4444444444444444,
              "#bd3786"
             ],
             [
              0.5555555555555556,
              "#d8576b"
             ],
             [
              0.6666666666666666,
              "#ed7953"
             ],
             [
              0.7777777777777778,
              "#fb9f3a"
             ],
             [
              0.8888888888888888,
              "#fdca26"
             ],
             [
              1,
              "#f0f921"
             ]
            ],
            "type": "contour"
           }
          ],
          "contourcarpet": [
           {
            "colorbar": {
             "outlinewidth": 0,
             "ticks": ""
            },
            "type": "contourcarpet"
           }
          ],
          "heatmap": [
           {
            "colorbar": {
             "outlinewidth": 0,
             "ticks": ""
            },
            "colorscale": [
             [
              0,
              "#0d0887"
             ],
             [
              0.1111111111111111,
              "#46039f"
             ],
             [
              0.2222222222222222,
              "#7201a8"
             ],
             [
              0.3333333333333333,
              "#9c179e"
             ],
             [
              0.4444444444444444,
              "#bd3786"
             ],
             [
              0.5555555555555556,
              "#d8576b"
             ],
             [
              0.6666666666666666,
              "#ed7953"
             ],
             [
              0.7777777777777778,
              "#fb9f3a"
             ],
             [
              0.8888888888888888,
              "#fdca26"
             ],
             [
              1,
              "#f0f921"
             ]
            ],
            "type": "heatmap"
           }
          ],
          "heatmapgl": [
           {
            "colorbar": {
             "outlinewidth": 0,
             "ticks": ""
            },
            "colorscale": [
             [
              0,
              "#0d0887"
             ],
             [
              0.1111111111111111,
              "#46039f"
             ],
             [
              0.2222222222222222,
              "#7201a8"
             ],
             [
              0.3333333333333333,
              "#9c179e"
             ],
             [
              0.4444444444444444,
              "#bd3786"
             ],
             [
              0.5555555555555556,
              "#d8576b"
             ],
             [
              0.6666666666666666,
              "#ed7953"
             ],
             [
              0.7777777777777778,
              "#fb9f3a"
             ],
             [
              0.8888888888888888,
              "#fdca26"
             ],
             [
              1,
              "#f0f921"
             ]
            ],
            "type": "heatmapgl"
           }
          ],
          "histogram": [
           {
            "marker": {
             "colorbar": {
              "outlinewidth": 0,
              "ticks": ""
             }
            },
            "type": "histogram"
           }
          ],
          "histogram2d": [
           {
            "colorbar": {
             "outlinewidth": 0,
             "ticks": ""
            },
            "colorscale": [
             [
              0,
              "#0d0887"
             ],
             [
              0.1111111111111111,
              "#46039f"
             ],
             [
              0.2222222222222222,
              "#7201a8"
             ],
             [
              0.3333333333333333,
              "#9c179e"
             ],
             [
              0.4444444444444444,
              "#bd3786"
             ],
             [
              0.5555555555555556,
              "#d8576b"
             ],
             [
              0.6666666666666666,
              "#ed7953"
             ],
             [
              0.7777777777777778,
              "#fb9f3a"
             ],
             [
              0.8888888888888888,
              "#fdca26"
             ],
             [
              1,
              "#f0f921"
             ]
            ],
            "type": "histogram2d"
           }
          ],
          "histogram2dcontour": [
           {
            "colorbar": {
             "outlinewidth": 0,
             "ticks": ""
            },
            "colorscale": [
             [
              0,
              "#0d0887"
             ],
             [
              0.1111111111111111,
              "#46039f"
             ],
             [
              0.2222222222222222,
              "#7201a8"
             ],
             [
              0.3333333333333333,
              "#9c179e"
             ],
             [
              0.4444444444444444,
              "#bd3786"
             ],
             [
              0.5555555555555556,
              "#d8576b"
             ],
             [
              0.6666666666666666,
              "#ed7953"
             ],
             [
              0.7777777777777778,
              "#fb9f3a"
             ],
             [
              0.8888888888888888,
              "#fdca26"
             ],
             [
              1,
              "#f0f921"
             ]
            ],
            "type": "histogram2dcontour"
           }
          ],
          "mesh3d": [
           {
            "colorbar": {
             "outlinewidth": 0,
             "ticks": ""
            },
            "type": "mesh3d"
           }
          ],
          "parcoords": [
           {
            "line": {
             "colorbar": {
              "outlinewidth": 0,
              "ticks": ""
             }
            },
            "type": "parcoords"
           }
          ],
          "pie": [
           {
            "automargin": true,
            "type": "pie"
           }
          ],
          "scatter": [
           {
            "marker": {
             "colorbar": {
              "outlinewidth": 0,
              "ticks": ""
             }
            },
            "type": "scatter"
           }
          ],
          "scatter3d": [
           {
            "line": {
             "colorbar": {
              "outlinewidth": 0,
              "ticks": ""
             }
            },
            "marker": {
             "colorbar": {
              "outlinewidth": 0,
              "ticks": ""
             }
            },
            "type": "scatter3d"
           }
          ],
          "scattercarpet": [
           {
            "marker": {
             "colorbar": {
              "outlinewidth": 0,
              "ticks": ""
             }
            },
            "type": "scattercarpet"
           }
          ],
          "scattergeo": [
           {
            "marker": {
             "colorbar": {
              "outlinewidth": 0,
              "ticks": ""
             }
            },
            "type": "scattergeo"
           }
          ],
          "scattergl": [
           {
            "marker": {
             "colorbar": {
              "outlinewidth": 0,
              "ticks": ""
             }
            },
            "type": "scattergl"
           }
          ],
          "scattermapbox": [
           {
            "marker": {
             "colorbar": {
              "outlinewidth": 0,
              "ticks": ""
             }
            },
            "type": "scattermapbox"
           }
          ],
          "scatterpolar": [
           {
            "marker": {
             "colorbar": {
              "outlinewidth": 0,
              "ticks": ""
             }
            },
            "type": "scatterpolar"
           }
          ],
          "scatterpolargl": [
           {
            "marker": {
             "colorbar": {
              "outlinewidth": 0,
              "ticks": ""
             }
            },
            "type": "scatterpolargl"
           }
          ],
          "scatterternary": [
           {
            "marker": {
             "colorbar": {
              "outlinewidth": 0,
              "ticks": ""
             }
            },
            "type": "scatterternary"
           }
          ],
          "surface": [
           {
            "colorbar": {
             "outlinewidth": 0,
             "ticks": ""
            },
            "colorscale": [
             [
              0,
              "#0d0887"
             ],
             [
              0.1111111111111111,
              "#46039f"
             ],
             [
              0.2222222222222222,
              "#7201a8"
             ],
             [
              0.3333333333333333,
              "#9c179e"
             ],
             [
              0.4444444444444444,
              "#bd3786"
             ],
             [
              0.5555555555555556,
              "#d8576b"
             ],
             [
              0.6666666666666666,
              "#ed7953"
             ],
             [
              0.7777777777777778,
              "#fb9f3a"
             ],
             [
              0.8888888888888888,
              "#fdca26"
             ],
             [
              1,
              "#f0f921"
             ]
            ],
            "type": "surface"
           }
          ],
          "table": [
           {
            "cells": {
             "fill": {
              "color": "#EBF0F8"
             },
             "line": {
              "color": "white"
             }
            },
            "header": {
             "fill": {
              "color": "#C8D4E3"
             },
             "line": {
              "color": "white"
             }
            },
            "type": "table"
           }
          ]
         },
         "layout": {
          "annotationdefaults": {
           "arrowcolor": "#2a3f5f",
           "arrowhead": 0,
           "arrowwidth": 1
          },
          "coloraxis": {
           "colorbar": {
            "outlinewidth": 0,
            "ticks": ""
           }
          },
          "colorscale": {
           "diverging": [
            [
             0,
             "#8e0152"
            ],
            [
             0.1,
             "#c51b7d"
            ],
            [
             0.2,
             "#de77ae"
            ],
            [
             0.3,
             "#f1b6da"
            ],
            [
             0.4,
             "#fde0ef"
            ],
            [
             0.5,
             "#f7f7f7"
            ],
            [
             0.6,
             "#e6f5d0"
            ],
            [
             0.7,
             "#b8e186"
            ],
            [
             0.8,
             "#7fbc41"
            ],
            [
             0.9,
             "#4d9221"
            ],
            [
             1,
             "#276419"
            ]
           ],
           "sequential": [
            [
             0,
             "#0d0887"
            ],
            [
             0.1111111111111111,
             "#46039f"
            ],
            [
             0.2222222222222222,
             "#7201a8"
            ],
            [
             0.3333333333333333,
             "#9c179e"
            ],
            [
             0.4444444444444444,
             "#bd3786"
            ],
            [
             0.5555555555555556,
             "#d8576b"
            ],
            [
             0.6666666666666666,
             "#ed7953"
            ],
            [
             0.7777777777777778,
             "#fb9f3a"
            ],
            [
             0.8888888888888888,
             "#fdca26"
            ],
            [
             1,
             "#f0f921"
            ]
           ],
           "sequentialminus": [
            [
             0,
             "#0d0887"
            ],
            [
             0.1111111111111111,
             "#46039f"
            ],
            [
             0.2222222222222222,
             "#7201a8"
            ],
            [
             0.3333333333333333,
             "#9c179e"
            ],
            [
             0.4444444444444444,
             "#bd3786"
            ],
            [
             0.5555555555555556,
             "#d8576b"
            ],
            [
             0.6666666666666666,
             "#ed7953"
            ],
            [
             0.7777777777777778,
             "#fb9f3a"
            ],
            [
             0.8888888888888888,
             "#fdca26"
            ],
            [
             1,
             "#f0f921"
            ]
           ]
          },
          "colorway": [
           "#636efa",
           "#EF553B",
           "#00cc96",
           "#ab63fa",
           "#FFA15A",
           "#19d3f3",
           "#FF6692",
           "#B6E880",
           "#FF97FF",
           "#FECB52"
          ],
          "font": {
           "color": "#2a3f5f"
          },
          "geo": {
           "bgcolor": "white",
           "lakecolor": "white",
           "landcolor": "#E5ECF6",
           "showlakes": true,
           "showland": true,
           "subunitcolor": "white"
          },
          "hoverlabel": {
           "align": "left"
          },
          "hovermode": "closest",
          "mapbox": {
           "style": "light"
          },
          "paper_bgcolor": "white",
          "plot_bgcolor": "#E5ECF6",
          "polar": {
           "angularaxis": {
            "gridcolor": "white",
            "linecolor": "white",
            "ticks": ""
           },
           "bgcolor": "#E5ECF6",
           "radialaxis": {
            "gridcolor": "white",
            "linecolor": "white",
            "ticks": ""
           }
          },
          "scene": {
           "xaxis": {
            "backgroundcolor": "#E5ECF6",
            "gridcolor": "white",
            "gridwidth": 2,
            "linecolor": "white",
            "showbackground": true,
            "ticks": "",
            "zerolinecolor": "white"
           },
           "yaxis": {
            "backgroundcolor": "#E5ECF6",
            "gridcolor": "white",
            "gridwidth": 2,
            "linecolor": "white",
            "showbackground": true,
            "ticks": "",
            "zerolinecolor": "white"
           },
           "zaxis": {
            "backgroundcolor": "#E5ECF6",
            "gridcolor": "white",
            "gridwidth": 2,
            "linecolor": "white",
            "showbackground": true,
            "ticks": "",
            "zerolinecolor": "white"
           }
          },
          "shapedefaults": {
           "line": {
            "color": "#2a3f5f"
           }
          },
          "ternary": {
           "aaxis": {
            "gridcolor": "white",
            "linecolor": "white",
            "ticks": ""
           },
           "baxis": {
            "gridcolor": "white",
            "linecolor": "white",
            "ticks": ""
           },
           "bgcolor": "#E5ECF6",
           "caxis": {
            "gridcolor": "white",
            "linecolor": "white",
            "ticks": ""
           }
          },
          "title": {
           "x": 0.05
          },
          "xaxis": {
           "automargin": true,
           "gridcolor": "white",
           "linecolor": "white",
           "ticks": "",
           "title": {
            "standoff": 15
           },
           "zerolinecolor": "white",
           "zerolinewidth": 2
          },
          "yaxis": {
           "automargin": true,
           "gridcolor": "white",
           "linecolor": "white",
           "ticks": "",
           "title": {
            "standoff": 15
           },
           "zerolinecolor": "white",
           "zerolinewidth": 2
          }
         }
        },
        "title": {
         "text": "Import and Export Value per Quantity for the Wheat"
        },
        "xaxis": {
         "title": {
          "text": "Year"
         }
        },
        "yaxis": {
         "title": {
          "text": "VPQ [1000$/tonne]"
         }
        }
       }
      },
      "text/html": [
       "<div>\n",
       "        \n",
       "        \n",
       "            <div id=\"acee32e6-c9f7-4614-a4f6-92653daa9566\" class=\"plotly-graph-div\" style=\"height:525px; width:100%;\"></div>\n",
       "            <script type=\"text/javascript\">\n",
       "                require([\"plotly\"], function(Plotly) {\n",
       "                    window.PLOTLYENV=window.PLOTLYENV || {};\n",
       "                    \n",
       "                if (document.getElementById(\"acee32e6-c9f7-4614-a4f6-92653daa9566\")) {\n",
       "                    Plotly.newPlot(\n",
       "                        'acee32e6-c9f7-4614-a4f6-92653daa9566',\n",
       "                        [{\"mode\": \"lines\", \"name\": \"Import VPQ\", \"showlegend\": true, \"type\": \"scatter\", \"x\": [1961.0, 1962.0, 1963.0, 1964.0, 1965.0, 1966.0, 1967.0, 1968.0, 1969.0, 1970.0, 1971.0, 1972.0, 1973.0, 1974.0, 1975.0, 1976.0, 1977.0, 1978.0, 1979.0, 1980.0, 1981.0, 1982.0, 1983.0, 1984.0, 1985.0, 1986.0, 1987.0, 1988.0, 1989.0, 1990.0, 1991.0, 1992.0, 1993.0, 1994.0, 1995.0, 1996.0, 1997.0, 1998.0, 1999.0, 2000.0, 2001.0, 2002.0, 2003.0, 2004.0, 2005.0, 2006.0, 2007.0, 2008.0, 2009.0, 2010.0, 2011.0, 2012.0, 2013.0, 2014.0, 2015.0, 2016.0, 2017.0], \"y\": [0.07366182032543514, 0.07636184554027507, 0.0746846868103027, 0.0771555431069599, 0.07314549298522703, 0.07382118310540624, 0.0765786959672604, 0.07552137507445368, 0.07486002549688144, 0.07366950434459485, 0.07668849367617195, 0.07709005030042675, 0.10884817194872769, 0.19219324791516887, 0.192712483703485, 0.17504887435014793, 0.1521365441561395, 0.15828418273120184, 0.18756164755449445, 0.21645683399851448, 0.21971523067353949, 0.19821351387799355, 0.19005664067279718, 0.18047344339968754, 0.16520586605341595, 0.1516769701778434, 0.13169794339510232, 0.15380837539109296, 0.18760933449438796, 0.18505904280293564, 0.15139551656882852, 0.17026611703217306, 0.16623650302045478, 0.16302248681096343, 0.19617095836396442, 0.22226214781052145, 0.19018608493252553, 0.1652511431564602, 0.1464158654754862, 0.14696729176898038, 0.1480744380530311, 0.14466392081150875, 0.16563821758160105, 0.19029319720799684, 0.17668179307123008, 0.19002366881410526, 0.2712103188277974, 0.39558017985661187, 0.2575083841143429, 0.2584641024906383, 0.352489442184152, 0.32855958792699214, 0.3415711952891761, 0.3143501903459755, 0.2671075066969706, 0.22475451578968725, 0.2395917322539012]}, {\"mode\": \"lines\", \"name\": \"Export VPQ\", \"showlegend\": true, \"type\": \"scatter\", \"x\": [1961.0, 1962.0, 1963.0, 1964.0, 1965.0, 1966.0, 1967.0, 1968.0, 1969.0, 1970.0, 1971.0, 1972.0, 1973.0, 1974.0, 1975.0, 1976.0, 1977.0, 1978.0, 1979.0, 1980.0, 1981.0, 1982.0, 1983.0, 1984.0, 1985.0, 1986.0, 1987.0, 1988.0, 1989.0, 1990.0, 1991.0, 1992.0, 1993.0, 1994.0, 1995.0, 1996.0, 1997.0, 1998.0, 1999.0, 2000.0, 2001.0, 2002.0, 2003.0, 2004.0, 2005.0, 2006.0, 2007.0, 2008.0, 2009.0, 2010.0, 2011.0, 2012.0, 2013.0, 2014.0, 2015.0, 2016.0, 2017.0], \"y\": [0.06572094087710893, 0.06787488645567889, 0.0671715629824204, 0.06744443469160209, 0.06323339313822081, 0.06477622305884478, 0.06879801790248609, 0.06589931253009736, 0.0664951200779952, 0.06384220262689456, 0.06947638839676484, 0.07024236795119143, 0.10704278235174917, 0.17177797630791483, 0.1713724248609582, 0.15505702040062352, 0.12915093798119062, 0.1352589795991713, 0.16704265933387466, 0.1913564113811139, 0.193514448545086, 0.17482805171957197, 0.16204417207068197, 0.15901377894653684, 0.14696912682768448, 0.13765306233811778, 0.11737307404476559, 0.14225998844274912, 0.1737029552930689, 0.16715052544889192, 0.1357010157341422, 0.15905545523757514, 0.146231076168148, 0.13983773424896276, 0.1731858161208361, 0.20906464926670643, 0.1722108165416587, 0.14574282650217688, 0.13092765105682647, 0.12533164265763522, 0.13263636651826505, 0.13135790202236902, 0.1503021227627995, 0.16771608683126615, 0.15191311657441903, 0.16645671000769938, 0.24812863415311812, 0.34577727012284803, 0.22256226086950842, 0.23119005553748995, 0.3214633636723868, 0.30306346073697615, 0.31226128836719697, 0.2831000686954534, 0.2367888094420572, 0.20065601888277843, 0.20593953355609135]}],\n",
       "                        {\"template\": {\"data\": {\"bar\": [{\"error_x\": {\"color\": \"#2a3f5f\"}, \"error_y\": {\"color\": \"#2a3f5f\"}, \"marker\": {\"line\": {\"color\": \"#E5ECF6\", \"width\": 0.5}}, \"type\": \"bar\"}], \"barpolar\": [{\"marker\": {\"line\": {\"color\": \"#E5ECF6\", \"width\": 0.5}}, \"type\": \"barpolar\"}], \"carpet\": [{\"aaxis\": {\"endlinecolor\": \"#2a3f5f\", \"gridcolor\": \"white\", \"linecolor\": \"white\", \"minorgridcolor\": \"white\", \"startlinecolor\": \"#2a3f5f\"}, \"baxis\": {\"endlinecolor\": \"#2a3f5f\", \"gridcolor\": \"white\", \"linecolor\": \"white\", \"minorgridcolor\": \"white\", \"startlinecolor\": \"#2a3f5f\"}, \"type\": \"carpet\"}], \"choropleth\": [{\"colorbar\": {\"outlinewidth\": 0, \"ticks\": \"\"}, \"type\": \"choropleth\"}], \"contour\": [{\"colorbar\": {\"outlinewidth\": 0, \"ticks\": \"\"}, \"colorscale\": [[0.0, \"#0d0887\"], [0.1111111111111111, \"#46039f\"], [0.2222222222222222, \"#7201a8\"], [0.3333333333333333, \"#9c179e\"], [0.4444444444444444, \"#bd3786\"], [0.5555555555555556, \"#d8576b\"], [0.6666666666666666, \"#ed7953\"], [0.7777777777777778, \"#fb9f3a\"], [0.8888888888888888, \"#fdca26\"], [1.0, \"#f0f921\"]], \"type\": \"contour\"}], \"contourcarpet\": [{\"colorbar\": {\"outlinewidth\": 0, \"ticks\": \"\"}, \"type\": \"contourcarpet\"}], \"heatmap\": [{\"colorbar\": {\"outlinewidth\": 0, \"ticks\": \"\"}, \"colorscale\": [[0.0, \"#0d0887\"], [0.1111111111111111, \"#46039f\"], [0.2222222222222222, \"#7201a8\"], [0.3333333333333333, \"#9c179e\"], [0.4444444444444444, \"#bd3786\"], [0.5555555555555556, \"#d8576b\"], [0.6666666666666666, \"#ed7953\"], [0.7777777777777778, \"#fb9f3a\"], [0.8888888888888888, \"#fdca26\"], [1.0, \"#f0f921\"]], \"type\": \"heatmap\"}], \"heatmapgl\": [{\"colorbar\": {\"outlinewidth\": 0, \"ticks\": \"\"}, \"colorscale\": [[0.0, \"#0d0887\"], [0.1111111111111111, \"#46039f\"], [0.2222222222222222, \"#7201a8\"], [0.3333333333333333, \"#9c179e\"], [0.4444444444444444, \"#bd3786\"], [0.5555555555555556, \"#d8576b\"], [0.6666666666666666, \"#ed7953\"], [0.7777777777777778, \"#fb9f3a\"], [0.8888888888888888, \"#fdca26\"], [1.0, \"#f0f921\"]], \"type\": \"heatmapgl\"}], \"histogram\": [{\"marker\": {\"colorbar\": {\"outlinewidth\": 0, \"ticks\": \"\"}}, \"type\": \"histogram\"}], \"histogram2d\": [{\"colorbar\": {\"outlinewidth\": 0, \"ticks\": \"\"}, \"colorscale\": [[0.0, \"#0d0887\"], [0.1111111111111111, \"#46039f\"], [0.2222222222222222, \"#7201a8\"], [0.3333333333333333, \"#9c179e\"], [0.4444444444444444, \"#bd3786\"], [0.5555555555555556, \"#d8576b\"], [0.6666666666666666, \"#ed7953\"], [0.7777777777777778, \"#fb9f3a\"], [0.8888888888888888, \"#fdca26\"], [1.0, \"#f0f921\"]], \"type\": \"histogram2d\"}], \"histogram2dcontour\": [{\"colorbar\": {\"outlinewidth\": 0, \"ticks\": \"\"}, \"colorscale\": [[0.0, \"#0d0887\"], [0.1111111111111111, \"#46039f\"], [0.2222222222222222, \"#7201a8\"], [0.3333333333333333, \"#9c179e\"], [0.4444444444444444, \"#bd3786\"], [0.5555555555555556, \"#d8576b\"], [0.6666666666666666, \"#ed7953\"], [0.7777777777777778, \"#fb9f3a\"], [0.8888888888888888, \"#fdca26\"], [1.0, \"#f0f921\"]], \"type\": \"histogram2dcontour\"}], \"mesh3d\": [{\"colorbar\": {\"outlinewidth\": 0, \"ticks\": \"\"}, \"type\": \"mesh3d\"}], \"parcoords\": [{\"line\": {\"colorbar\": {\"outlinewidth\": 0, \"ticks\": \"\"}}, \"type\": \"parcoords\"}], \"pie\": [{\"automargin\": true, \"type\": \"pie\"}], \"scatter\": [{\"marker\": {\"colorbar\": {\"outlinewidth\": 0, \"ticks\": \"\"}}, \"type\": \"scatter\"}], \"scatter3d\": [{\"line\": {\"colorbar\": {\"outlinewidth\": 0, \"ticks\": \"\"}}, \"marker\": {\"colorbar\": {\"outlinewidth\": 0, \"ticks\": \"\"}}, \"type\": \"scatter3d\"}], \"scattercarpet\": [{\"marker\": {\"colorbar\": {\"outlinewidth\": 0, \"ticks\": \"\"}}, \"type\": \"scattercarpet\"}], \"scattergeo\": [{\"marker\": {\"colorbar\": {\"outlinewidth\": 0, \"ticks\": \"\"}}, \"type\": \"scattergeo\"}], \"scattergl\": [{\"marker\": {\"colorbar\": {\"outlinewidth\": 0, \"ticks\": \"\"}}, \"type\": \"scattergl\"}], \"scattermapbox\": [{\"marker\": {\"colorbar\": {\"outlinewidth\": 0, \"ticks\": \"\"}}, \"type\": \"scattermapbox\"}], \"scatterpolar\": [{\"marker\": {\"colorbar\": {\"outlinewidth\": 0, \"ticks\": \"\"}}, \"type\": \"scatterpolar\"}], \"scatterpolargl\": [{\"marker\": {\"colorbar\": {\"outlinewidth\": 0, \"ticks\": \"\"}}, \"type\": \"scatterpolargl\"}], \"scatterternary\": [{\"marker\": {\"colorbar\": {\"outlinewidth\": 0, \"ticks\": \"\"}}, \"type\": \"scatterternary\"}], \"surface\": [{\"colorbar\": {\"outlinewidth\": 0, \"ticks\": \"\"}, \"colorscale\": [[0.0, \"#0d0887\"], [0.1111111111111111, \"#46039f\"], [0.2222222222222222, \"#7201a8\"], [0.3333333333333333, \"#9c179e\"], [0.4444444444444444, \"#bd3786\"], [0.5555555555555556, \"#d8576b\"], [0.6666666666666666, \"#ed7953\"], [0.7777777777777778, \"#fb9f3a\"], [0.8888888888888888, \"#fdca26\"], [1.0, \"#f0f921\"]], \"type\": \"surface\"}], \"table\": [{\"cells\": {\"fill\": {\"color\": \"#EBF0F8\"}, \"line\": {\"color\": \"white\"}}, \"header\": {\"fill\": {\"color\": \"#C8D4E3\"}, \"line\": {\"color\": \"white\"}}, \"type\": \"table\"}]}, \"layout\": {\"annotationdefaults\": {\"arrowcolor\": \"#2a3f5f\", \"arrowhead\": 0, \"arrowwidth\": 1}, \"coloraxis\": {\"colorbar\": {\"outlinewidth\": 0, \"ticks\": \"\"}}, \"colorscale\": {\"diverging\": [[0, \"#8e0152\"], [0.1, \"#c51b7d\"], [0.2, \"#de77ae\"], [0.3, \"#f1b6da\"], [0.4, \"#fde0ef\"], [0.5, \"#f7f7f7\"], [0.6, \"#e6f5d0\"], [0.7, \"#b8e186\"], [0.8, \"#7fbc41\"], [0.9, \"#4d9221\"], [1, \"#276419\"]], \"sequential\": [[0.0, \"#0d0887\"], [0.1111111111111111, \"#46039f\"], [0.2222222222222222, \"#7201a8\"], [0.3333333333333333, \"#9c179e\"], [0.4444444444444444, \"#bd3786\"], [0.5555555555555556, \"#d8576b\"], [0.6666666666666666, \"#ed7953\"], [0.7777777777777778, \"#fb9f3a\"], [0.8888888888888888, \"#fdca26\"], [1.0, \"#f0f921\"]], \"sequentialminus\": [[0.0, \"#0d0887\"], [0.1111111111111111, \"#46039f\"], [0.2222222222222222, \"#7201a8\"], [0.3333333333333333, \"#9c179e\"], [0.4444444444444444, \"#bd3786\"], [0.5555555555555556, \"#d8576b\"], [0.6666666666666666, \"#ed7953\"], [0.7777777777777778, \"#fb9f3a\"], [0.8888888888888888, \"#fdca26\"], [1.0, \"#f0f921\"]]}, \"colorway\": [\"#636efa\", \"#EF553B\", \"#00cc96\", \"#ab63fa\", \"#FFA15A\", \"#19d3f3\", \"#FF6692\", \"#B6E880\", \"#FF97FF\", \"#FECB52\"], \"font\": {\"color\": \"#2a3f5f\"}, \"geo\": {\"bgcolor\": \"white\", \"lakecolor\": \"white\", \"landcolor\": \"#E5ECF6\", \"showlakes\": true, \"showland\": true, \"subunitcolor\": \"white\"}, \"hoverlabel\": {\"align\": \"left\"}, \"hovermode\": \"closest\", \"mapbox\": {\"style\": \"light\"}, \"paper_bgcolor\": \"white\", \"plot_bgcolor\": \"#E5ECF6\", \"polar\": {\"angularaxis\": {\"gridcolor\": \"white\", \"linecolor\": \"white\", \"ticks\": \"\"}, \"bgcolor\": \"#E5ECF6\", \"radialaxis\": {\"gridcolor\": \"white\", \"linecolor\": \"white\", \"ticks\": \"\"}}, \"scene\": {\"xaxis\": {\"backgroundcolor\": \"#E5ECF6\", \"gridcolor\": \"white\", \"gridwidth\": 2, \"linecolor\": \"white\", \"showbackground\": true, \"ticks\": \"\", \"zerolinecolor\": \"white\"}, \"yaxis\": {\"backgroundcolor\": \"#E5ECF6\", \"gridcolor\": \"white\", \"gridwidth\": 2, \"linecolor\": \"white\", \"showbackground\": true, \"ticks\": \"\", \"zerolinecolor\": \"white\"}, \"zaxis\": {\"backgroundcolor\": \"#E5ECF6\", \"gridcolor\": \"white\", \"gridwidth\": 2, \"linecolor\": \"white\", \"showbackground\": true, \"ticks\": \"\", \"zerolinecolor\": \"white\"}}, \"shapedefaults\": {\"line\": {\"color\": \"#2a3f5f\"}}, \"ternary\": {\"aaxis\": {\"gridcolor\": \"white\", \"linecolor\": \"white\", \"ticks\": \"\"}, \"baxis\": {\"gridcolor\": \"white\", \"linecolor\": \"white\", \"ticks\": \"\"}, \"bgcolor\": \"#E5ECF6\", \"caxis\": {\"gridcolor\": \"white\", \"linecolor\": \"white\", \"ticks\": \"\"}}, \"title\": {\"x\": 0.05}, \"xaxis\": {\"automargin\": true, \"gridcolor\": \"white\", \"linecolor\": \"white\", \"ticks\": \"\", \"title\": {\"standoff\": 15}, \"zerolinecolor\": \"white\", \"zerolinewidth\": 2}, \"yaxis\": {\"automargin\": true, \"gridcolor\": \"white\", \"linecolor\": \"white\", \"ticks\": \"\", \"title\": {\"standoff\": 15}, \"zerolinecolor\": \"white\", \"zerolinewidth\": 2}}}, \"title\": {\"text\": \"Import and Export Value per Quantity for the Wheat\"}, \"xaxis\": {\"title\": {\"text\": \"Year\"}}, \"yaxis\": {\"title\": {\"text\": \"VPQ [1000$/tonne]\"}}},\n",
       "                        {\"responsive\": true}\n",
       "                    ).then(function(){\n",
       "                            \n",
       "var gd = document.getElementById('acee32e6-c9f7-4614-a4f6-92653daa9566');\n",
       "var x = new MutationObserver(function (mutations, observer) {{\n",
       "        var display = window.getComputedStyle(gd).display;\n",
       "        if (!display || display === 'none') {{\n",
       "            console.log([gd, 'removed!']);\n",
       "            Plotly.purge(gd);\n",
       "            observer.disconnect();\n",
       "        }}\n",
       "}});\n",
       "\n",
       "// Listen for the removal of the full notebook cells\n",
       "var notebookContainer = gd.closest('#notebook-container');\n",
       "if (notebookContainer) {{\n",
       "    x.observe(notebookContainer, {childList: true});\n",
       "}}\n",
       "\n",
       "// Listen for the clearing of the current output cell\n",
       "var outputEl = gd.closest('.output');\n",
       "if (outputEl) {{\n",
       "    x.observe(outputEl, {childList: true});\n",
       "}}\n",
       "\n",
       "                        })\n",
       "                };\n",
       "                });\n",
       "            </script>\n",
       "        </div>"
      ]
     },
     "metadata": {},
     "output_type": "display_data"
    }
   ],
   "source": [
    "fig = go.Figure()\n",
    "fig.add_trace(go.Scatter(\n",
    "    x=df_wheat_trades_vpq.year,\n",
    "    y=df_wheat_trades_vpq.import_vpq,\n",
    "    mode='lines',\n",
    "    showlegend=True,\n",
    "    name=\"Import VPQ\",\n",
    "    ))\n",
    "fig.add_trace(go.Scatter(\n",
    "    x=df_wheat_trades_vpq.year,\n",
    "    y=df_wheat_trades_vpq.export_vpq,\n",
    "    mode='lines',\n",
    "    showlegend=True,\n",
    "    name=\"Export VPQ\",\n",
    "    ))\n",
    "# Set x-axis title\n",
    "fig.update_layout(\n",
    "    title=\"Import and Export Value per Quantity for the Wheat\",\n",
    "    xaxis_title=\"Year\",\n",
    "    yaxis_title=\"VPQ [1000$/tonne]\")\n",
    "fig.show()"
   ]
  },
  {
   "cell_type": "code",
   "execution_count": 550,
   "metadata": {},
   "outputs": [
    {
     "data": {
      "text/plain": [
       "'ImportExportVPQ.html'"
      ]
     },
     "execution_count": 550,
     "metadata": {},
     "output_type": "execute_result"
    }
   ],
   "source": [
    "# Save the figure for the data story :\n",
    "plotly.offline.plot(fig,filename='ImportExportVPQ.html')"
   ]
  },
  {
   "cell_type": "markdown",
   "metadata": {},
   "source": [
    "**Time serie plot for the import and export VPQ and the oil price:**"
   ]
  },
  {
   "cell_type": "code",
   "execution_count": 551,
   "metadata": {},
   "outputs": [],
   "source": [
    "# Array with the oil price\n",
    "oil_price=[1.57,1.52,1.5,1.45,1.42,1.36,1.33,1.32,1.27,1.21,1.7,1.82,2.7,11,10.43,11.6,12.5,12.79,29.19,35.52,34,32.38,29.04,28.2,27.01,13.53,17.73,14.24,17.31,22.26,18.62,18.44,16.33,15.53,16.86,20.29,18.86,12.28,17.44,27.6,23.12,24.36,28.1,36.05,50.59,61,69.04,94.1,60.86,77.38,107.46,109.45,105.87,96.29,49.49,40.68,52.52,0]\n",
    "\n",
    "# https://fr.statista.com/statistiques/564926/prix-annuel-du-petrole-de-l-opep-1960/"
   ]
  },
  {
   "cell_type": "code",
   "execution_count": 552,
   "metadata": {},
   "outputs": [
    {
     "data": {
      "application/vnd.plotly.v1+json": {
       "config": {
        "plotlyServerURL": "https://plot.ly"
       },
       "data": [
        {
         "name": "Export VPQ",
         "type": "scatter",
         "x": [
          1961,
          1962,
          1963,
          1964,
          1965,
          1966,
          1967,
          1968,
          1969,
          1970,
          1971,
          1972,
          1973,
          1974,
          1975,
          1976,
          1977,
          1978,
          1979,
          1980,
          1981,
          1982,
          1983,
          1984,
          1985,
          1986,
          1987,
          1988,
          1989,
          1990,
          1991,
          1992,
          1993,
          1994,
          1995,
          1996,
          1997,
          1998,
          1999,
          2000,
          2001,
          2002,
          2003,
          2004,
          2005,
          2006,
          2007,
          2008,
          2009,
          2010,
          2011,
          2012,
          2013,
          2014,
          2015,
          2016,
          2017
         ],
         "xaxis": "x",
         "y": [
          0.06572094087710893,
          0.06787488645567889,
          0.0671715629824204,
          0.06744443469160209,
          0.06323339313822081,
          0.06477622305884478,
          0.06879801790248609,
          0.06589931253009736,
          0.0664951200779952,
          0.06384220262689456,
          0.06947638839676484,
          0.07024236795119143,
          0.10704278235174917,
          0.17177797630791483,
          0.1713724248609582,
          0.15505702040062352,
          0.12915093798119062,
          0.1352589795991713,
          0.16704265933387466,
          0.1913564113811139,
          0.193514448545086,
          0.17482805171957197,
          0.16204417207068197,
          0.15901377894653684,
          0.14696912682768448,
          0.13765306233811778,
          0.11737307404476559,
          0.14225998844274912,
          0.1737029552930689,
          0.16715052544889192,
          0.1357010157341422,
          0.15905545523757514,
          0.146231076168148,
          0.13983773424896276,
          0.1731858161208361,
          0.20906464926670643,
          0.1722108165416587,
          0.14574282650217688,
          0.13092765105682647,
          0.12533164265763522,
          0.13263636651826505,
          0.13135790202236902,
          0.1503021227627995,
          0.16771608683126615,
          0.15191311657441903,
          0.16645671000769938,
          0.24812863415311812,
          0.34577727012284803,
          0.22256226086950842,
          0.23119005553748995,
          0.3214633636723868,
          0.30306346073697615,
          0.31226128836719697,
          0.2831000686954534,
          0.2367888094420572,
          0.20065601888277843,
          0.20593953355609135
         ],
         "yaxis": "y"
        },
        {
         "name": "Import VPQ",
         "type": "scatter",
         "x": [
          1961,
          1962,
          1963,
          1964,
          1965,
          1966,
          1967,
          1968,
          1969,
          1970,
          1971,
          1972,
          1973,
          1974,
          1975,
          1976,
          1977,
          1978,
          1979,
          1980,
          1981,
          1982,
          1983,
          1984,
          1985,
          1986,
          1987,
          1988,
          1989,
          1990,
          1991,
          1992,
          1993,
          1994,
          1995,
          1996,
          1997,
          1998,
          1999,
          2000,
          2001,
          2002,
          2003,
          2004,
          2005,
          2006,
          2007,
          2008,
          2009,
          2010,
          2011,
          2012,
          2013,
          2014,
          2015,
          2016,
          2017
         ],
         "xaxis": "x",
         "y": [
          0.07366182032543514,
          0.07636184554027507,
          0.0746846868103027,
          0.0771555431069599,
          0.07314549298522703,
          0.07382118310540624,
          0.0765786959672604,
          0.07552137507445368,
          0.07486002549688144,
          0.07366950434459485,
          0.07668849367617195,
          0.07709005030042675,
          0.10884817194872769,
          0.19219324791516887,
          0.192712483703485,
          0.17504887435014793,
          0.1521365441561395,
          0.15828418273120184,
          0.18756164755449445,
          0.21645683399851448,
          0.21971523067353949,
          0.19821351387799355,
          0.19005664067279718,
          0.18047344339968754,
          0.16520586605341595,
          0.1516769701778434,
          0.13169794339510232,
          0.15380837539109296,
          0.18760933449438796,
          0.18505904280293564,
          0.15139551656882852,
          0.17026611703217306,
          0.16623650302045478,
          0.16302248681096343,
          0.19617095836396442,
          0.22226214781052145,
          0.19018608493252553,
          0.1652511431564602,
          0.1464158654754862,
          0.14696729176898038,
          0.1480744380530311,
          0.14466392081150875,
          0.16563821758160105,
          0.19029319720799684,
          0.17668179307123008,
          0.19002366881410526,
          0.2712103188277974,
          0.39558017985661187,
          0.2575083841143429,
          0.2584641024906383,
          0.352489442184152,
          0.32855958792699214,
          0.3415711952891761,
          0.3143501903459755,
          0.2671075066969706,
          0.22475451578968725,
          0.2395917322539012
         ],
         "yaxis": "y"
        },
        {
         "name": "Oil Price",
         "type": "scatter",
         "x": [
          1961,
          1962,
          1963,
          1964,
          1965,
          1966,
          1967,
          1968,
          1969,
          1970,
          1971,
          1972,
          1973,
          1974,
          1975,
          1976,
          1977,
          1978,
          1979,
          1980,
          1981,
          1982,
          1983,
          1984,
          1985,
          1986,
          1987,
          1988,
          1989,
          1990,
          1991,
          1992,
          1993,
          1994,
          1995,
          1996,
          1997,
          1998,
          1999,
          2000,
          2001,
          2002,
          2003,
          2004,
          2005,
          2006,
          2007,
          2008,
          2009,
          2010,
          2011,
          2012,
          2013,
          2014,
          2015,
          2016,
          2017
         ],
         "xaxis": "x",
         "y": [
          1.57,
          1.52,
          1.5,
          1.45,
          1.42,
          1.36,
          1.33,
          1.32,
          1.27,
          1.21,
          1.7,
          1.82,
          2.7,
          11,
          10.43,
          11.6,
          12.5,
          12.79,
          29.19,
          35.52,
          34,
          32.38,
          29.04,
          28.2,
          27.01,
          13.53,
          17.73,
          14.24,
          17.31,
          22.26,
          18.62,
          18.44,
          16.33,
          15.53,
          16.86,
          20.29,
          18.86,
          12.28,
          17.44,
          27.6,
          23.12,
          24.36,
          28.1,
          36.05,
          50.59,
          61,
          69.04,
          94.1,
          60.86,
          77.38,
          107.46,
          109.45,
          105.87,
          96.29,
          49.49,
          40.68,
          52.52,
          0
         ],
         "yaxis": "y2"
        }
       ],
       "layout": {
        "template": {
         "data": {
          "bar": [
           {
            "error_x": {
             "color": "#2a3f5f"
            },
            "error_y": {
             "color": "#2a3f5f"
            },
            "marker": {
             "line": {
              "color": "#E5ECF6",
              "width": 0.5
             }
            },
            "type": "bar"
           }
          ],
          "barpolar": [
           {
            "marker": {
             "line": {
              "color": "#E5ECF6",
              "width": 0.5
             }
            },
            "type": "barpolar"
           }
          ],
          "carpet": [
           {
            "aaxis": {
             "endlinecolor": "#2a3f5f",
             "gridcolor": "white",
             "linecolor": "white",
             "minorgridcolor": "white",
             "startlinecolor": "#2a3f5f"
            },
            "baxis": {
             "endlinecolor": "#2a3f5f",
             "gridcolor": "white",
             "linecolor": "white",
             "minorgridcolor": "white",
             "startlinecolor": "#2a3f5f"
            },
            "type": "carpet"
           }
          ],
          "choropleth": [
           {
            "colorbar": {
             "outlinewidth": 0,
             "ticks": ""
            },
            "type": "choropleth"
           }
          ],
          "contour": [
           {
            "colorbar": {
             "outlinewidth": 0,
             "ticks": ""
            },
            "colorscale": [
             [
              0,
              "#0d0887"
             ],
             [
              0.1111111111111111,
              "#46039f"
             ],
             [
              0.2222222222222222,
              "#7201a8"
             ],
             [
              0.3333333333333333,
              "#9c179e"
             ],
             [
              0.4444444444444444,
              "#bd3786"
             ],
             [
              0.5555555555555556,
              "#d8576b"
             ],
             [
              0.6666666666666666,
              "#ed7953"
             ],
             [
              0.7777777777777778,
              "#fb9f3a"
             ],
             [
              0.8888888888888888,
              "#fdca26"
             ],
             [
              1,
              "#f0f921"
             ]
            ],
            "type": "contour"
           }
          ],
          "contourcarpet": [
           {
            "colorbar": {
             "outlinewidth": 0,
             "ticks": ""
            },
            "type": "contourcarpet"
           }
          ],
          "heatmap": [
           {
            "colorbar": {
             "outlinewidth": 0,
             "ticks": ""
            },
            "colorscale": [
             [
              0,
              "#0d0887"
             ],
             [
              0.1111111111111111,
              "#46039f"
             ],
             [
              0.2222222222222222,
              "#7201a8"
             ],
             [
              0.3333333333333333,
              "#9c179e"
             ],
             [
              0.4444444444444444,
              "#bd3786"
             ],
             [
              0.5555555555555556,
              "#d8576b"
             ],
             [
              0.6666666666666666,
              "#ed7953"
             ],
             [
              0.7777777777777778,
              "#fb9f3a"
             ],
             [
              0.8888888888888888,
              "#fdca26"
             ],
             [
              1,
              "#f0f921"
             ]
            ],
            "type": "heatmap"
           }
          ],
          "heatmapgl": [
           {
            "colorbar": {
             "outlinewidth": 0,
             "ticks": ""
            },
            "colorscale": [
             [
              0,
              "#0d0887"
             ],
             [
              0.1111111111111111,
              "#46039f"
             ],
             [
              0.2222222222222222,
              "#7201a8"
             ],
             [
              0.3333333333333333,
              "#9c179e"
             ],
             [
              0.4444444444444444,
              "#bd3786"
             ],
             [
              0.5555555555555556,
              "#d8576b"
             ],
             [
              0.6666666666666666,
              "#ed7953"
             ],
             [
              0.7777777777777778,
              "#fb9f3a"
             ],
             [
              0.8888888888888888,
              "#fdca26"
             ],
             [
              1,
              "#f0f921"
             ]
            ],
            "type": "heatmapgl"
           }
          ],
          "histogram": [
           {
            "marker": {
             "colorbar": {
              "outlinewidth": 0,
              "ticks": ""
             }
            },
            "type": "histogram"
           }
          ],
          "histogram2d": [
           {
            "colorbar": {
             "outlinewidth": 0,
             "ticks": ""
            },
            "colorscale": [
             [
              0,
              "#0d0887"
             ],
             [
              0.1111111111111111,
              "#46039f"
             ],
             [
              0.2222222222222222,
              "#7201a8"
             ],
             [
              0.3333333333333333,
              "#9c179e"
             ],
             [
              0.4444444444444444,
              "#bd3786"
             ],
             [
              0.5555555555555556,
              "#d8576b"
             ],
             [
              0.6666666666666666,
              "#ed7953"
             ],
             [
              0.7777777777777778,
              "#fb9f3a"
             ],
             [
              0.8888888888888888,
              "#fdca26"
             ],
             [
              1,
              "#f0f921"
             ]
            ],
            "type": "histogram2d"
           }
          ],
          "histogram2dcontour": [
           {
            "colorbar": {
             "outlinewidth": 0,
             "ticks": ""
            },
            "colorscale": [
             [
              0,
              "#0d0887"
             ],
             [
              0.1111111111111111,
              "#46039f"
             ],
             [
              0.2222222222222222,
              "#7201a8"
             ],
             [
              0.3333333333333333,
              "#9c179e"
             ],
             [
              0.4444444444444444,
              "#bd3786"
             ],
             [
              0.5555555555555556,
              "#d8576b"
             ],
             [
              0.6666666666666666,
              "#ed7953"
             ],
             [
              0.7777777777777778,
              "#fb9f3a"
             ],
             [
              0.8888888888888888,
              "#fdca26"
             ],
             [
              1,
              "#f0f921"
             ]
            ],
            "type": "histogram2dcontour"
           }
          ],
          "mesh3d": [
           {
            "colorbar": {
             "outlinewidth": 0,
             "ticks": ""
            },
            "type": "mesh3d"
           }
          ],
          "parcoords": [
           {
            "line": {
             "colorbar": {
              "outlinewidth": 0,
              "ticks": ""
             }
            },
            "type": "parcoords"
           }
          ],
          "pie": [
           {
            "automargin": true,
            "type": "pie"
           }
          ],
          "scatter": [
           {
            "marker": {
             "colorbar": {
              "outlinewidth": 0,
              "ticks": ""
             }
            },
            "type": "scatter"
           }
          ],
          "scatter3d": [
           {
            "line": {
             "colorbar": {
              "outlinewidth": 0,
              "ticks": ""
             }
            },
            "marker": {
             "colorbar": {
              "outlinewidth": 0,
              "ticks": ""
             }
            },
            "type": "scatter3d"
           }
          ],
          "scattercarpet": [
           {
            "marker": {
             "colorbar": {
              "outlinewidth": 0,
              "ticks": ""
             }
            },
            "type": "scattercarpet"
           }
          ],
          "scattergeo": [
           {
            "marker": {
             "colorbar": {
              "outlinewidth": 0,
              "ticks": ""
             }
            },
            "type": "scattergeo"
           }
          ],
          "scattergl": [
           {
            "marker": {
             "colorbar": {
              "outlinewidth": 0,
              "ticks": ""
             }
            },
            "type": "scattergl"
           }
          ],
          "scattermapbox": [
           {
            "marker": {
             "colorbar": {
              "outlinewidth": 0,
              "ticks": ""
             }
            },
            "type": "scattermapbox"
           }
          ],
          "scatterpolar": [
           {
            "marker": {
             "colorbar": {
              "outlinewidth": 0,
              "ticks": ""
             }
            },
            "type": "scatterpolar"
           }
          ],
          "scatterpolargl": [
           {
            "marker": {
             "colorbar": {
              "outlinewidth": 0,
              "ticks": ""
             }
            },
            "type": "scatterpolargl"
           }
          ],
          "scatterternary": [
           {
            "marker": {
             "colorbar": {
              "outlinewidth": 0,
              "ticks": ""
             }
            },
            "type": "scatterternary"
           }
          ],
          "surface": [
           {
            "colorbar": {
             "outlinewidth": 0,
             "ticks": ""
            },
            "colorscale": [
             [
              0,
              "#0d0887"
             ],
             [
              0.1111111111111111,
              "#46039f"
             ],
             [
              0.2222222222222222,
              "#7201a8"
             ],
             [
              0.3333333333333333,
              "#9c179e"
             ],
             [
              0.4444444444444444,
              "#bd3786"
             ],
             [
              0.5555555555555556,
              "#d8576b"
             ],
             [
              0.6666666666666666,
              "#ed7953"
             ],
             [
              0.7777777777777778,
              "#fb9f3a"
             ],
             [
              0.8888888888888888,
              "#fdca26"
             ],
             [
              1,
              "#f0f921"
             ]
            ],
            "type": "surface"
           }
          ],
          "table": [
           {
            "cells": {
             "fill": {
              "color": "#EBF0F8"
             },
             "line": {
              "color": "white"
             }
            },
            "header": {
             "fill": {
              "color": "#C8D4E3"
             },
             "line": {
              "color": "white"
             }
            },
            "type": "table"
           }
          ]
         },
         "layout": {
          "annotationdefaults": {
           "arrowcolor": "#2a3f5f",
           "arrowhead": 0,
           "arrowwidth": 1
          },
          "coloraxis": {
           "colorbar": {
            "outlinewidth": 0,
            "ticks": ""
           }
          },
          "colorscale": {
           "diverging": [
            [
             0,
             "#8e0152"
            ],
            [
             0.1,
             "#c51b7d"
            ],
            [
             0.2,
             "#de77ae"
            ],
            [
             0.3,
             "#f1b6da"
            ],
            [
             0.4,
             "#fde0ef"
            ],
            [
             0.5,
             "#f7f7f7"
            ],
            [
             0.6,
             "#e6f5d0"
            ],
            [
             0.7,
             "#b8e186"
            ],
            [
             0.8,
             "#7fbc41"
            ],
            [
             0.9,
             "#4d9221"
            ],
            [
             1,
             "#276419"
            ]
           ],
           "sequential": [
            [
             0,
             "#0d0887"
            ],
            [
             0.1111111111111111,
             "#46039f"
            ],
            [
             0.2222222222222222,
             "#7201a8"
            ],
            [
             0.3333333333333333,
             "#9c179e"
            ],
            [
             0.4444444444444444,
             "#bd3786"
            ],
            [
             0.5555555555555556,
             "#d8576b"
            ],
            [
             0.6666666666666666,
             "#ed7953"
            ],
            [
             0.7777777777777778,
             "#fb9f3a"
            ],
            [
             0.8888888888888888,
             "#fdca26"
            ],
            [
             1,
             "#f0f921"
            ]
           ],
           "sequentialminus": [
            [
             0,
             "#0d0887"
            ],
            [
             0.1111111111111111,
             "#46039f"
            ],
            [
             0.2222222222222222,
             "#7201a8"
            ],
            [
             0.3333333333333333,
             "#9c179e"
            ],
            [
             0.4444444444444444,
             "#bd3786"
            ],
            [
             0.5555555555555556,
             "#d8576b"
            ],
            [
             0.6666666666666666,
             "#ed7953"
            ],
            [
             0.7777777777777778,
             "#fb9f3a"
            ],
            [
             0.8888888888888888,
             "#fdca26"
            ],
            [
             1,
             "#f0f921"
            ]
           ]
          },
          "colorway": [
           "#636efa",
           "#EF553B",
           "#00cc96",
           "#ab63fa",
           "#FFA15A",
           "#19d3f3",
           "#FF6692",
           "#B6E880",
           "#FF97FF",
           "#FECB52"
          ],
          "font": {
           "color": "#2a3f5f"
          },
          "geo": {
           "bgcolor": "white",
           "lakecolor": "white",
           "landcolor": "#E5ECF6",
           "showlakes": true,
           "showland": true,
           "subunitcolor": "white"
          },
          "hoverlabel": {
           "align": "left"
          },
          "hovermode": "closest",
          "mapbox": {
           "style": "light"
          },
          "paper_bgcolor": "white",
          "plot_bgcolor": "#E5ECF6",
          "polar": {
           "angularaxis": {
            "gridcolor": "white",
            "linecolor": "white",
            "ticks": ""
           },
           "bgcolor": "#E5ECF6",
           "radialaxis": {
            "gridcolor": "white",
            "linecolor": "white",
            "ticks": ""
           }
          },
          "scene": {
           "xaxis": {
            "backgroundcolor": "#E5ECF6",
            "gridcolor": "white",
            "gridwidth": 2,
            "linecolor": "white",
            "showbackground": true,
            "ticks": "",
            "zerolinecolor": "white"
           },
           "yaxis": {
            "backgroundcolor": "#E5ECF6",
            "gridcolor": "white",
            "gridwidth": 2,
            "linecolor": "white",
            "showbackground": true,
            "ticks": "",
            "zerolinecolor": "white"
           },
           "zaxis": {
            "backgroundcolor": "#E5ECF6",
            "gridcolor": "white",
            "gridwidth": 2,
            "linecolor": "white",
            "showbackground": true,
            "ticks": "",
            "zerolinecolor": "white"
           }
          },
          "shapedefaults": {
           "line": {
            "color": "#2a3f5f"
           }
          },
          "ternary": {
           "aaxis": {
            "gridcolor": "white",
            "linecolor": "white",
            "ticks": ""
           },
           "baxis": {
            "gridcolor": "white",
            "linecolor": "white",
            "ticks": ""
           },
           "bgcolor": "#E5ECF6",
           "caxis": {
            "gridcolor": "white",
            "linecolor": "white",
            "ticks": ""
           }
          },
          "title": {
           "x": 0.05
          },
          "xaxis": {
           "automargin": true,
           "gridcolor": "white",
           "linecolor": "white",
           "ticks": "",
           "title": {
            "standoff": 15
           },
           "zerolinecolor": "white",
           "zerolinewidth": 2
          },
          "yaxis": {
           "automargin": true,
           "gridcolor": "white",
           "linecolor": "white",
           "ticks": "",
           "title": {
            "standoff": 15
           },
           "zerolinecolor": "white",
           "zerolinewidth": 2
          }
         }
        },
        "title": {
         "text": "Import and Export VPQ and Crude oil price per baril"
        },
        "xaxis": {
         "anchor": "y",
         "domain": [
          0,
          0.94
         ],
         "title": {
          "text": "Year"
         }
        },
        "yaxis": {
         "anchor": "x",
         "domain": [
          0,
          1
         ],
         "title": {
          "text": "VPQ [1000$/tonne]"
         }
        },
        "yaxis2": {
         "anchor": "x",
         "overlaying": "y",
         "side": "right",
         "title": {
          "text": "Oil price [$/baril]"
         }
        }
       }
      },
      "text/html": [
       "<div>\n",
       "        \n",
       "        \n",
       "            <div id=\"da18de12-3e5d-47d5-8649-11be0455a1f9\" class=\"plotly-graph-div\" style=\"height:525px; width:100%;\"></div>\n",
       "            <script type=\"text/javascript\">\n",
       "                require([\"plotly\"], function(Plotly) {\n",
       "                    window.PLOTLYENV=window.PLOTLYENV || {};\n",
       "                    \n",
       "                if (document.getElementById(\"da18de12-3e5d-47d5-8649-11be0455a1f9\")) {\n",
       "                    Plotly.newPlot(\n",
       "                        'da18de12-3e5d-47d5-8649-11be0455a1f9',\n",
       "                        [{\"name\": \"Export VPQ\", \"type\": \"scatter\", \"x\": [1961.0, 1962.0, 1963.0, 1964.0, 1965.0, 1966.0, 1967.0, 1968.0, 1969.0, 1970.0, 1971.0, 1972.0, 1973.0, 1974.0, 1975.0, 1976.0, 1977.0, 1978.0, 1979.0, 1980.0, 1981.0, 1982.0, 1983.0, 1984.0, 1985.0, 1986.0, 1987.0, 1988.0, 1989.0, 1990.0, 1991.0, 1992.0, 1993.0, 1994.0, 1995.0, 1996.0, 1997.0, 1998.0, 1999.0, 2000.0, 2001.0, 2002.0, 2003.0, 2004.0, 2005.0, 2006.0, 2007.0, 2008.0, 2009.0, 2010.0, 2011.0, 2012.0, 2013.0, 2014.0, 2015.0, 2016.0, 2017.0], \"xaxis\": \"x\", \"y\": [0.06572094087710893, 0.06787488645567889, 0.0671715629824204, 0.06744443469160209, 0.06323339313822081, 0.06477622305884478, 0.06879801790248609, 0.06589931253009736, 0.0664951200779952, 0.06384220262689456, 0.06947638839676484, 0.07024236795119143, 0.10704278235174917, 0.17177797630791483, 0.1713724248609582, 0.15505702040062352, 0.12915093798119062, 0.1352589795991713, 0.16704265933387466, 0.1913564113811139, 0.193514448545086, 0.17482805171957197, 0.16204417207068197, 0.15901377894653684, 0.14696912682768448, 0.13765306233811778, 0.11737307404476559, 0.14225998844274912, 0.1737029552930689, 0.16715052544889192, 0.1357010157341422, 0.15905545523757514, 0.146231076168148, 0.13983773424896276, 0.1731858161208361, 0.20906464926670643, 0.1722108165416587, 0.14574282650217688, 0.13092765105682647, 0.12533164265763522, 0.13263636651826505, 0.13135790202236902, 0.1503021227627995, 0.16771608683126615, 0.15191311657441903, 0.16645671000769938, 0.24812863415311812, 0.34577727012284803, 0.22256226086950842, 0.23119005553748995, 0.3214633636723868, 0.30306346073697615, 0.31226128836719697, 0.2831000686954534, 0.2367888094420572, 0.20065601888277843, 0.20593953355609135], \"yaxis\": \"y\"}, {\"name\": \"Import VPQ\", \"type\": \"scatter\", \"x\": [1961.0, 1962.0, 1963.0, 1964.0, 1965.0, 1966.0, 1967.0, 1968.0, 1969.0, 1970.0, 1971.0, 1972.0, 1973.0, 1974.0, 1975.0, 1976.0, 1977.0, 1978.0, 1979.0, 1980.0, 1981.0, 1982.0, 1983.0, 1984.0, 1985.0, 1986.0, 1987.0, 1988.0, 1989.0, 1990.0, 1991.0, 1992.0, 1993.0, 1994.0, 1995.0, 1996.0, 1997.0, 1998.0, 1999.0, 2000.0, 2001.0, 2002.0, 2003.0, 2004.0, 2005.0, 2006.0, 2007.0, 2008.0, 2009.0, 2010.0, 2011.0, 2012.0, 2013.0, 2014.0, 2015.0, 2016.0, 2017.0], \"xaxis\": \"x\", \"y\": [0.07366182032543514, 0.07636184554027507, 0.0746846868103027, 0.0771555431069599, 0.07314549298522703, 0.07382118310540624, 0.0765786959672604, 0.07552137507445368, 0.07486002549688144, 0.07366950434459485, 0.07668849367617195, 0.07709005030042675, 0.10884817194872769, 0.19219324791516887, 0.192712483703485, 0.17504887435014793, 0.1521365441561395, 0.15828418273120184, 0.18756164755449445, 0.21645683399851448, 0.21971523067353949, 0.19821351387799355, 0.19005664067279718, 0.18047344339968754, 0.16520586605341595, 0.1516769701778434, 0.13169794339510232, 0.15380837539109296, 0.18760933449438796, 0.18505904280293564, 0.15139551656882852, 0.17026611703217306, 0.16623650302045478, 0.16302248681096343, 0.19617095836396442, 0.22226214781052145, 0.19018608493252553, 0.1652511431564602, 0.1464158654754862, 0.14696729176898038, 0.1480744380530311, 0.14466392081150875, 0.16563821758160105, 0.19029319720799684, 0.17668179307123008, 0.19002366881410526, 0.2712103188277974, 0.39558017985661187, 0.2575083841143429, 0.2584641024906383, 0.352489442184152, 0.32855958792699214, 0.3415711952891761, 0.3143501903459755, 0.2671075066969706, 0.22475451578968725, 0.2395917322539012], \"yaxis\": \"y\"}, {\"name\": \"Oil Price\", \"type\": \"scatter\", \"x\": [1961.0, 1962.0, 1963.0, 1964.0, 1965.0, 1966.0, 1967.0, 1968.0, 1969.0, 1970.0, 1971.0, 1972.0, 1973.0, 1974.0, 1975.0, 1976.0, 1977.0, 1978.0, 1979.0, 1980.0, 1981.0, 1982.0, 1983.0, 1984.0, 1985.0, 1986.0, 1987.0, 1988.0, 1989.0, 1990.0, 1991.0, 1992.0, 1993.0, 1994.0, 1995.0, 1996.0, 1997.0, 1998.0, 1999.0, 2000.0, 2001.0, 2002.0, 2003.0, 2004.0, 2005.0, 2006.0, 2007.0, 2008.0, 2009.0, 2010.0, 2011.0, 2012.0, 2013.0, 2014.0, 2015.0, 2016.0, 2017.0], \"xaxis\": \"x\", \"y\": [1.57, 1.52, 1.5, 1.45, 1.42, 1.36, 1.33, 1.32, 1.27, 1.21, 1.7, 1.82, 2.7, 11, 10.43, 11.6, 12.5, 12.79, 29.19, 35.52, 34, 32.38, 29.04, 28.2, 27.01, 13.53, 17.73, 14.24, 17.31, 22.26, 18.62, 18.44, 16.33, 15.53, 16.86, 20.29, 18.86, 12.28, 17.44, 27.6, 23.12, 24.36, 28.1, 36.05, 50.59, 61, 69.04, 94.1, 60.86, 77.38, 107.46, 109.45, 105.87, 96.29, 49.49, 40.68, 52.52, 0], \"yaxis\": \"y2\"}],\n",
       "                        {\"template\": {\"data\": {\"bar\": [{\"error_x\": {\"color\": \"#2a3f5f\"}, \"error_y\": {\"color\": \"#2a3f5f\"}, \"marker\": {\"line\": {\"color\": \"#E5ECF6\", \"width\": 0.5}}, \"type\": \"bar\"}], \"barpolar\": [{\"marker\": {\"line\": {\"color\": \"#E5ECF6\", \"width\": 0.5}}, \"type\": \"barpolar\"}], \"carpet\": [{\"aaxis\": {\"endlinecolor\": \"#2a3f5f\", \"gridcolor\": \"white\", \"linecolor\": \"white\", \"minorgridcolor\": \"white\", \"startlinecolor\": \"#2a3f5f\"}, \"baxis\": {\"endlinecolor\": \"#2a3f5f\", \"gridcolor\": \"white\", \"linecolor\": \"white\", \"minorgridcolor\": \"white\", \"startlinecolor\": \"#2a3f5f\"}, \"type\": \"carpet\"}], \"choropleth\": [{\"colorbar\": {\"outlinewidth\": 0, \"ticks\": \"\"}, \"type\": \"choropleth\"}], \"contour\": [{\"colorbar\": {\"outlinewidth\": 0, \"ticks\": \"\"}, \"colorscale\": [[0.0, \"#0d0887\"], [0.1111111111111111, \"#46039f\"], [0.2222222222222222, \"#7201a8\"], [0.3333333333333333, \"#9c179e\"], [0.4444444444444444, \"#bd3786\"], [0.5555555555555556, \"#d8576b\"], [0.6666666666666666, \"#ed7953\"], [0.7777777777777778, \"#fb9f3a\"], [0.8888888888888888, \"#fdca26\"], [1.0, \"#f0f921\"]], \"type\": \"contour\"}], \"contourcarpet\": [{\"colorbar\": {\"outlinewidth\": 0, \"ticks\": \"\"}, \"type\": \"contourcarpet\"}], \"heatmap\": [{\"colorbar\": {\"outlinewidth\": 0, \"ticks\": \"\"}, \"colorscale\": [[0.0, \"#0d0887\"], [0.1111111111111111, \"#46039f\"], [0.2222222222222222, \"#7201a8\"], [0.3333333333333333, \"#9c179e\"], [0.4444444444444444, \"#bd3786\"], [0.5555555555555556, \"#d8576b\"], [0.6666666666666666, \"#ed7953\"], [0.7777777777777778, \"#fb9f3a\"], [0.8888888888888888, \"#fdca26\"], [1.0, \"#f0f921\"]], \"type\": \"heatmap\"}], \"heatmapgl\": [{\"colorbar\": {\"outlinewidth\": 0, \"ticks\": \"\"}, \"colorscale\": [[0.0, \"#0d0887\"], [0.1111111111111111, \"#46039f\"], [0.2222222222222222, \"#7201a8\"], [0.3333333333333333, \"#9c179e\"], [0.4444444444444444, \"#bd3786\"], [0.5555555555555556, \"#d8576b\"], [0.6666666666666666, \"#ed7953\"], [0.7777777777777778, \"#fb9f3a\"], [0.8888888888888888, \"#fdca26\"], [1.0, \"#f0f921\"]], \"type\": \"heatmapgl\"}], \"histogram\": [{\"marker\": {\"colorbar\": {\"outlinewidth\": 0, \"ticks\": \"\"}}, \"type\": \"histogram\"}], \"histogram2d\": [{\"colorbar\": {\"outlinewidth\": 0, \"ticks\": \"\"}, \"colorscale\": [[0.0, \"#0d0887\"], [0.1111111111111111, \"#46039f\"], [0.2222222222222222, \"#7201a8\"], [0.3333333333333333, \"#9c179e\"], [0.4444444444444444, \"#bd3786\"], [0.5555555555555556, \"#d8576b\"], [0.6666666666666666, \"#ed7953\"], [0.7777777777777778, \"#fb9f3a\"], [0.8888888888888888, \"#fdca26\"], [1.0, \"#f0f921\"]], \"type\": \"histogram2d\"}], \"histogram2dcontour\": [{\"colorbar\": {\"outlinewidth\": 0, \"ticks\": \"\"}, \"colorscale\": [[0.0, \"#0d0887\"], [0.1111111111111111, \"#46039f\"], [0.2222222222222222, \"#7201a8\"], [0.3333333333333333, \"#9c179e\"], [0.4444444444444444, \"#bd3786\"], [0.5555555555555556, \"#d8576b\"], [0.6666666666666666, \"#ed7953\"], [0.7777777777777778, \"#fb9f3a\"], [0.8888888888888888, \"#fdca26\"], [1.0, \"#f0f921\"]], \"type\": \"histogram2dcontour\"}], \"mesh3d\": [{\"colorbar\": {\"outlinewidth\": 0, \"ticks\": \"\"}, \"type\": \"mesh3d\"}], \"parcoords\": [{\"line\": {\"colorbar\": {\"outlinewidth\": 0, \"ticks\": \"\"}}, \"type\": \"parcoords\"}], \"pie\": [{\"automargin\": true, \"type\": \"pie\"}], \"scatter\": [{\"marker\": {\"colorbar\": {\"outlinewidth\": 0, \"ticks\": \"\"}}, \"type\": \"scatter\"}], \"scatter3d\": [{\"line\": {\"colorbar\": {\"outlinewidth\": 0, \"ticks\": \"\"}}, \"marker\": {\"colorbar\": {\"outlinewidth\": 0, \"ticks\": \"\"}}, \"type\": \"scatter3d\"}], \"scattercarpet\": [{\"marker\": {\"colorbar\": {\"outlinewidth\": 0, \"ticks\": \"\"}}, \"type\": \"scattercarpet\"}], \"scattergeo\": [{\"marker\": {\"colorbar\": {\"outlinewidth\": 0, \"ticks\": \"\"}}, \"type\": \"scattergeo\"}], \"scattergl\": [{\"marker\": {\"colorbar\": {\"outlinewidth\": 0, \"ticks\": \"\"}}, \"type\": \"scattergl\"}], \"scattermapbox\": [{\"marker\": {\"colorbar\": {\"outlinewidth\": 0, \"ticks\": \"\"}}, \"type\": \"scattermapbox\"}], \"scatterpolar\": [{\"marker\": {\"colorbar\": {\"outlinewidth\": 0, \"ticks\": \"\"}}, \"type\": \"scatterpolar\"}], \"scatterpolargl\": [{\"marker\": {\"colorbar\": {\"outlinewidth\": 0, \"ticks\": \"\"}}, \"type\": \"scatterpolargl\"}], \"scatterternary\": [{\"marker\": {\"colorbar\": {\"outlinewidth\": 0, \"ticks\": \"\"}}, \"type\": \"scatterternary\"}], \"surface\": [{\"colorbar\": {\"outlinewidth\": 0, \"ticks\": \"\"}, \"colorscale\": [[0.0, \"#0d0887\"], [0.1111111111111111, \"#46039f\"], [0.2222222222222222, \"#7201a8\"], [0.3333333333333333, \"#9c179e\"], [0.4444444444444444, \"#bd3786\"], [0.5555555555555556, \"#d8576b\"], [0.6666666666666666, \"#ed7953\"], [0.7777777777777778, \"#fb9f3a\"], [0.8888888888888888, \"#fdca26\"], [1.0, \"#f0f921\"]], \"type\": \"surface\"}], \"table\": [{\"cells\": {\"fill\": {\"color\": \"#EBF0F8\"}, \"line\": {\"color\": \"white\"}}, \"header\": {\"fill\": {\"color\": \"#C8D4E3\"}, \"line\": {\"color\": \"white\"}}, \"type\": \"table\"}]}, \"layout\": {\"annotationdefaults\": {\"arrowcolor\": \"#2a3f5f\", \"arrowhead\": 0, \"arrowwidth\": 1}, \"coloraxis\": {\"colorbar\": {\"outlinewidth\": 0, \"ticks\": \"\"}}, \"colorscale\": {\"diverging\": [[0, \"#8e0152\"], [0.1, \"#c51b7d\"], [0.2, \"#de77ae\"], [0.3, \"#f1b6da\"], [0.4, \"#fde0ef\"], [0.5, \"#f7f7f7\"], [0.6, \"#e6f5d0\"], [0.7, \"#b8e186\"], [0.8, \"#7fbc41\"], [0.9, \"#4d9221\"], [1, \"#276419\"]], \"sequential\": [[0.0, \"#0d0887\"], [0.1111111111111111, \"#46039f\"], [0.2222222222222222, \"#7201a8\"], [0.3333333333333333, \"#9c179e\"], [0.4444444444444444, \"#bd3786\"], [0.5555555555555556, \"#d8576b\"], [0.6666666666666666, \"#ed7953\"], [0.7777777777777778, \"#fb9f3a\"], [0.8888888888888888, \"#fdca26\"], [1.0, \"#f0f921\"]], \"sequentialminus\": [[0.0, \"#0d0887\"], [0.1111111111111111, \"#46039f\"], [0.2222222222222222, \"#7201a8\"], [0.3333333333333333, \"#9c179e\"], [0.4444444444444444, \"#bd3786\"], [0.5555555555555556, \"#d8576b\"], [0.6666666666666666, \"#ed7953\"], [0.7777777777777778, \"#fb9f3a\"], [0.8888888888888888, \"#fdca26\"], [1.0, \"#f0f921\"]]}, \"colorway\": [\"#636efa\", \"#EF553B\", \"#00cc96\", \"#ab63fa\", \"#FFA15A\", \"#19d3f3\", \"#FF6692\", \"#B6E880\", \"#FF97FF\", \"#FECB52\"], \"font\": {\"color\": \"#2a3f5f\"}, \"geo\": {\"bgcolor\": \"white\", \"lakecolor\": \"white\", \"landcolor\": \"#E5ECF6\", \"showlakes\": true, \"showland\": true, \"subunitcolor\": \"white\"}, \"hoverlabel\": {\"align\": \"left\"}, \"hovermode\": \"closest\", \"mapbox\": {\"style\": \"light\"}, \"paper_bgcolor\": \"white\", \"plot_bgcolor\": \"#E5ECF6\", \"polar\": {\"angularaxis\": {\"gridcolor\": \"white\", \"linecolor\": \"white\", \"ticks\": \"\"}, \"bgcolor\": \"#E5ECF6\", \"radialaxis\": {\"gridcolor\": \"white\", \"linecolor\": \"white\", \"ticks\": \"\"}}, \"scene\": {\"xaxis\": {\"backgroundcolor\": \"#E5ECF6\", \"gridcolor\": \"white\", \"gridwidth\": 2, \"linecolor\": \"white\", \"showbackground\": true, \"ticks\": \"\", \"zerolinecolor\": \"white\"}, \"yaxis\": {\"backgroundcolor\": \"#E5ECF6\", \"gridcolor\": \"white\", \"gridwidth\": 2, \"linecolor\": \"white\", \"showbackground\": true, \"ticks\": \"\", \"zerolinecolor\": \"white\"}, \"zaxis\": {\"backgroundcolor\": \"#E5ECF6\", \"gridcolor\": \"white\", \"gridwidth\": 2, \"linecolor\": \"white\", \"showbackground\": true, \"ticks\": \"\", \"zerolinecolor\": \"white\"}}, \"shapedefaults\": {\"line\": {\"color\": \"#2a3f5f\"}}, \"ternary\": {\"aaxis\": {\"gridcolor\": \"white\", \"linecolor\": \"white\", \"ticks\": \"\"}, \"baxis\": {\"gridcolor\": \"white\", \"linecolor\": \"white\", \"ticks\": \"\"}, \"bgcolor\": \"#E5ECF6\", \"caxis\": {\"gridcolor\": \"white\", \"linecolor\": \"white\", \"ticks\": \"\"}}, \"title\": {\"x\": 0.05}, \"xaxis\": {\"automargin\": true, \"gridcolor\": \"white\", \"linecolor\": \"white\", \"ticks\": \"\", \"title\": {\"standoff\": 15}, \"zerolinecolor\": \"white\", \"zerolinewidth\": 2}, \"yaxis\": {\"automargin\": true, \"gridcolor\": \"white\", \"linecolor\": \"white\", \"ticks\": \"\", \"title\": {\"standoff\": 15}, \"zerolinecolor\": \"white\", \"zerolinewidth\": 2}}}, \"title\": {\"text\": \"Import and Export VPQ and Crude oil price per baril\"}, \"xaxis\": {\"anchor\": \"y\", \"domain\": [0.0, 0.94], \"title\": {\"text\": \"Year\"}}, \"yaxis\": {\"anchor\": \"x\", \"domain\": [0.0, 1.0], \"title\": {\"text\": \"VPQ [1000$/tonne]\"}}, \"yaxis2\": {\"anchor\": \"x\", \"overlaying\": \"y\", \"side\": \"right\", \"title\": {\"text\": \"Oil price [$/baril]\"}}},\n",
       "                        {\"responsive\": true}\n",
       "                    ).then(function(){\n",
       "                            \n",
       "var gd = document.getElementById('da18de12-3e5d-47d5-8649-11be0455a1f9');\n",
       "var x = new MutationObserver(function (mutations, observer) {{\n",
       "        var display = window.getComputedStyle(gd).display;\n",
       "        if (!display || display === 'none') {{\n",
       "            console.log([gd, 'removed!']);\n",
       "            Plotly.purge(gd);\n",
       "            observer.disconnect();\n",
       "        }}\n",
       "}});\n",
       "\n",
       "// Listen for the removal of the full notebook cells\n",
       "var notebookContainer = gd.closest('#notebook-container');\n",
       "if (notebookContainer) {{\n",
       "    x.observe(notebookContainer, {childList: true});\n",
       "}}\n",
       "\n",
       "// Listen for the clearing of the current output cell\n",
       "var outputEl = gd.closest('.output');\n",
       "if (outputEl) {{\n",
       "    x.observe(outputEl, {childList: true});\n",
       "}}\n",
       "\n",
       "                        })\n",
       "                };\n",
       "                });\n",
       "            </script>\n",
       "        </div>"
      ]
     },
     "metadata": {},
     "output_type": "display_data"
    }
   ],
   "source": [
    "# Create figure with secondary y-axis\n",
    "fig = make_subplots(specs=[[{\"secondary_y\": True}]])\n",
    "\n",
    "# Add traces\n",
    "fig.add_trace(\n",
    "    go.Scatter(x=df_wheat_trades_vpq.year, y=df_wheat_trades_vpq.export_vpq, name=\"Export VPQ\"),\n",
    "    secondary_y=False\n",
    ")\n",
    "fig.add_trace(\n",
    "    go.Scatter(x=df_wheat_trades_vpq.year, y=df_wheat_trades_vpq.import_vpq, name=\"Import VPQ\"),\n",
    "    secondary_y=False\n",
    ")\n",
    "fig.add_trace(\n",
    "    go.Scatter(x=df_wheat_trades_vpq.year, y=oil_price, name=\"Oil Price\"),\n",
    "    secondary_y=True\n",
    ")\n",
    "\n",
    "fig.update_layout(\n",
    "    title=\"Import and Export VPQ and Crude oil price per baril\")    \n",
    "# Set x-axis title\n",
    "fig.update_xaxes(title_text=\"Year\")\n",
    "# Set y-axes titles\n",
    "fig.update_yaxes(title_text=\"VPQ [1000$/tonne]\", secondary_y=False)\n",
    "fig.update_yaxes(title_text=\"Oil price [$/baril]\", secondary_y=True)\n",
    "\n",
    "fig.show()"
   ]
  },
  {
   "cell_type": "code",
   "execution_count": 553,
   "metadata": {},
   "outputs": [
    {
     "data": {
      "text/plain": [
       "'ImportExportVPQOil.html'"
      ]
     },
     "execution_count": 553,
     "metadata": {},
     "output_type": "execute_result"
    }
   ],
   "source": [
    "# Save the figure for the data story :\n",
    "plotly.offline.plot(fig,filename='ImportExportVPQOil.html')"
   ]
  },
  {
   "cell_type": "markdown",
   "metadata": {},
   "source": [
    "**Pearson correlation coefficient between oil and vpq**"
   ]
  },
  {
   "cell_type": "code",
   "execution_count": 554,
   "metadata": {},
   "outputs": [
    {
     "data": {
      "text/plain": [
       "0.9086332872456037"
      ]
     },
     "execution_count": 554,
     "metadata": {},
     "output_type": "execute_result"
    }
   ],
   "source": [
    "# Export VPQ\n",
    "pd.Series(oil_price).corr(df_wheat_trades_vpq.export_vpq,'pearson')"
   ]
  },
  {
   "cell_type": "code",
   "execution_count": 555,
   "metadata": {},
   "outputs": [
    {
     "data": {
      "text/plain": [
       "0.9085604354736667"
      ]
     },
     "execution_count": 555,
     "metadata": {},
     "output_type": "execute_result"
    }
   ],
   "source": [
    "# Import VPQ \n",
    "pd.Series(oil_price).corr(df_wheat_trades_vpq.import_vpq,'pearson')"
   ]
  },
  {
   "cell_type": "markdown",
   "metadata": {},
   "source": [
    "**Horizontal bar plot to display the biggest importer and exporter (Biggest actors in the wheat market)**"
   ]
  },
  {
   "cell_type": "code",
   "execution_count": 556,
   "metadata": {
    "scrolled": false
   },
   "outputs": [
    {
     "data": {
      "text/plain": [
       "array(['Bran, wheat', 'Bulgur', 'Flour, wheat', 'Wheat'], dtype=object)"
      ]
     },
     "execution_count": 556,
     "metadata": {},
     "output_type": "execute_result"
    }
   ],
   "source": [
    "# Print trades item for wheat\n",
    "df_wheat.item_trades.unique()"
   ]
  },
  {
   "cell_type": "code",
   "execution_count": 557,
   "metadata": {},
   "outputs": [],
   "source": [
    "# Creation of the dataframe for the wheat for 2016\n",
    "df_wheat_trades = df_wheat[df_wheat.year==2016].groupby(['Country','item_trades']).sum().reset_index()"
   ]
  },
  {
   "cell_type": "code",
   "execution_count": 558,
   "metadata": {},
   "outputs": [
    {
     "data": {
      "text/html": [
       "<div>\n",
       "<style scoped>\n",
       "    .dataframe tbody tr th:only-of-type {\n",
       "        vertical-align: middle;\n",
       "    }\n",
       "\n",
       "    .dataframe tbody tr th {\n",
       "        vertical-align: top;\n",
       "    }\n",
       "\n",
       "    .dataframe thead th {\n",
       "        text-align: right;\n",
       "    }\n",
       "</style>\n",
       "<table border=\"1\" class=\"dataframe\">\n",
       "  <thead>\n",
       "    <tr style=\"text-align: right;\">\n",
       "      <th></th>\n",
       "      <th>Country</th>\n",
       "      <th>item_trades</th>\n",
       "      <th>area_code</th>\n",
       "      <th>year</th>\n",
       "      <th>area_harvested</th>\n",
       "      <th>production</th>\n",
       "      <th>yield</th>\n",
       "      <th>export_q</th>\n",
       "      <th>export_v</th>\n",
       "      <th>import_q</th>\n",
       "      <th>import_v</th>\n",
       "    </tr>\n",
       "  </thead>\n",
       "  <tbody>\n",
       "    <tr>\n",
       "      <td>0</td>\n",
       "      <td>Afghanistan</td>\n",
       "      <td>Bran, wheat</td>\n",
       "      <td>2.0</td>\n",
       "      <td>2016.0</td>\n",
       "      <td>2300210.0</td>\n",
       "      <td>4555110.0</td>\n",
       "      <td>19803.0</td>\n",
       "      <td>89.0</td>\n",
       "      <td>43.0</td>\n",
       "      <td>236.0</td>\n",
       "      <td>25.0</td>\n",
       "    </tr>\n",
       "    <tr>\n",
       "      <td>1</td>\n",
       "      <td>Afghanistan</td>\n",
       "      <td>Bulgur</td>\n",
       "      <td>2.0</td>\n",
       "      <td>2016.0</td>\n",
       "      <td>2300210.0</td>\n",
       "      <td>4555110.0</td>\n",
       "      <td>19803.0</td>\n",
       "      <td>0.0</td>\n",
       "      <td>0.0</td>\n",
       "      <td>0.0</td>\n",
       "      <td>0.0</td>\n",
       "    </tr>\n",
       "    <tr>\n",
       "      <td>2</td>\n",
       "      <td>Afghanistan</td>\n",
       "      <td>Flour, wheat</td>\n",
       "      <td>2.0</td>\n",
       "      <td>2016.0</td>\n",
       "      <td>2300210.0</td>\n",
       "      <td>4555110.0</td>\n",
       "      <td>19803.0</td>\n",
       "      <td>0.0</td>\n",
       "      <td>0.0</td>\n",
       "      <td>2056484.0</td>\n",
       "      <td>563561.0</td>\n",
       "    </tr>\n",
       "    <tr>\n",
       "      <td>3</td>\n",
       "      <td>Afghanistan</td>\n",
       "      <td>Wheat</td>\n",
       "      <td>2.0</td>\n",
       "      <td>2016.0</td>\n",
       "      <td>2300210.0</td>\n",
       "      <td>4555110.0</td>\n",
       "      <td>19803.0</td>\n",
       "      <td>0.0</td>\n",
       "      <td>0.0</td>\n",
       "      <td>258473.0</td>\n",
       "      <td>44738.0</td>\n",
       "    </tr>\n",
       "    <tr>\n",
       "      <td>4</td>\n",
       "      <td>Albania</td>\n",
       "      <td>Bran, wheat</td>\n",
       "      <td>3.0</td>\n",
       "      <td>2016.0</td>\n",
       "      <td>70512.0</td>\n",
       "      <td>275000.0</td>\n",
       "      <td>39000.0</td>\n",
       "      <td>0.0</td>\n",
       "      <td>0.0</td>\n",
       "      <td>25010.0</td>\n",
       "      <td>3244.0</td>\n",
       "    </tr>\n",
       "  </tbody>\n",
       "</table>\n",
       "</div>"
      ],
      "text/plain": [
       "       Country   item_trades  area_code    year  area_harvested  production  \\\n",
       "0  Afghanistan   Bran, wheat        2.0  2016.0       2300210.0   4555110.0   \n",
       "1  Afghanistan        Bulgur        2.0  2016.0       2300210.0   4555110.0   \n",
       "2  Afghanistan  Flour, wheat        2.0  2016.0       2300210.0   4555110.0   \n",
       "3  Afghanistan         Wheat        2.0  2016.0       2300210.0   4555110.0   \n",
       "4      Albania   Bran, wheat        3.0  2016.0         70512.0    275000.0   \n",
       "\n",
       "     yield  export_q  export_v   import_q  import_v  \n",
       "0  19803.0      89.0      43.0      236.0      25.0  \n",
       "1  19803.0       0.0       0.0        0.0       0.0  \n",
       "2  19803.0       0.0       0.0  2056484.0  563561.0  \n",
       "3  19803.0       0.0       0.0   258473.0   44738.0  \n",
       "4  39000.0       0.0       0.0    25010.0    3244.0  "
      ]
     },
     "execution_count": 558,
     "metadata": {},
     "output_type": "execute_result"
    }
   ],
   "source": [
    "# Snapshot of the dataframe\n",
    "df_wheat_trades.head()"
   ]
  },
  {
   "cell_type": "code",
   "execution_count": 559,
   "metadata": {},
   "outputs": [],
   "source": [
    "# Extraction of the 50 biggest \"players\"\n",
    "df_big_players = df_wheat_trades.groupby(['Country']).sum().reset_index()\n",
    "df_big_players['tot_fluxes'] = df_big_players.import_q + df_big_players.export_q\n",
    "df_big_players = df_big_players.sort_values(by='tot_fluxes',ascending=False).head(50)"
   ]
  },
  {
   "cell_type": "code",
   "execution_count": 560,
   "metadata": {},
   "outputs": [],
   "source": [
    "# Create a new dataframe which contains only the countries of interesst\n",
    "df_wheat_trades = df_wheat_trades[df_wheat_trades.Country.isin(df_big_players.Country.values)]"
   ]
  },
  {
   "cell_type": "code",
   "execution_count": 561,
   "metadata": {},
   "outputs": [],
   "source": [
    "df_import_export = df_wheat_trades.pivot(index='Country', columns='item_trades', values=['import_q','export_q'])#.plot.bar(stacked=True,figsize=(20,7))"
   ]
  },
  {
   "cell_type": "code",
   "execution_count": 562,
   "metadata": {},
   "outputs": [],
   "source": [
    "# deal with index to flatten\n",
    "df_import_export.columns = [' '.join(col).strip() for col in df_import_export.columns.values]\n",
    "# rename columns according to our nomenclature\n",
    "df_import_export.rename(columns= {'import_q Bran, wheat': 'import_q_bran', \n",
    "                    'import_q Bulgur': 'import_q_bulgur',\\\n",
    "                   'import_q Flour, wheat':'import_q_flour_wheat',\n",
    "                   'import_q Wheat':'import_q_wheat',\n",
    "                   'export_q Bran, wheat': 'export_q_bran', \n",
    "                    'export_q Bulgur': 'export_q_bulgur',\\\n",
    "                   'export_q Flour, wheat':'export_q_flour_wheat',\n",
    "                   'export_q Wheat':'export_q_wheat'}, inplace=True)"
   ]
  },
  {
   "cell_type": "code",
   "execution_count": 563,
   "metadata": {},
   "outputs": [],
   "source": [
    "# Attribute negative value for the exportation (out flow)\n",
    "df_import_export.loc[:,'export_q_flour_wheat'] = -1*df_import_export.loc[:,'export_q_flour_wheat']\n",
    "df_import_export.loc[:,'export_q_wheat'] = -1*df_import_export.loc[:,'export_q_wheat']\n",
    "df_import_export.loc[:,'export_q_bulgur'] = -1*df_import_export.loc[:,'export_q_bulgur']\n",
    "df_import_export.loc[:,'export_q_bran'] = -1*df_import_export.loc[:,'export_q_bran']\n",
    "df_import_export.reset_index(inplace=True)"
   ]
  },
  {
   "cell_type": "code",
   "execution_count": 564,
   "metadata": {},
   "outputs": [
    {
     "data": {
      "application/vnd.plotly.v1+json": {
       "config": {
        "plotlyServerURL": "https://plot.ly"
       },
       "data": [
        {
         "name": "Import Q Bran",
         "orientation": "h",
         "type": "bar",
         "x": [
          236,
          0,
          65,
          1754,
          14379,
          1827,
          132885,
          1802,
          679,
          122429,
          62318,
          25954,
          6275,
          44039,
          0,
          22695,
          303172,
          3756,
          945,
          5659,
          4632,
          73837,
          66468,
          117,
          1975,
          24326,
          4638,
          137400,
          40646,
          334073,
          431661,
          2,
          32488,
          70427,
          123246,
          56992,
          72241,
          61052,
          115089,
          64663,
          0,
          66444,
          102394,
          1348918,
          104,
          155130,
          59965,
          160888,
          350000,
          11429
         ],
         "y": [
          "Afghanistan",
          "Algeria",
          "Argentina",
          "Australia",
          "Austria",
          "Bangladesh",
          "Belgium",
          "Brazil",
          "Bulgaria",
          "Canada",
          "China, mainland",
          "Colombia",
          "Czechia",
          "Egypt",
          "Ethiopia",
          "France",
          "Germany",
          "Hungary",
          "India",
          "Indonesia",
          "Iraq",
          "Italy",
          "Japan",
          "Jordan",
          "Kazakhstan",
          "Latvia",
          "Lithuania",
          "Malaysia",
          "Mexico",
          "Morocco",
          "Netherlands",
          "Nigeria",
          "Philippines",
          "Poland",
          "Republic of Korea",
          "Romania",
          "Russian Federation",
          "Saudi Arabia",
          "South Africa",
          "Spain",
          "Sudan",
          "Thailand",
          "Tunisia",
          "Turkey",
          "Ukraine",
          "United Kingdom",
          "United States of America",
          "Uzbekistan",
          "Viet Nam",
          "Yemen"
         ]
        },
        {
         "name": "Import Q Bulgur",
         "orientation": "h",
         "type": "bar",
         "x": [
          0,
          0,
          0,
          2116,
          0,
          0,
          0,
          0,
          0,
          0,
          0,
          0,
          0,
          0,
          0,
          0,
          0,
          0,
          0,
          0,
          0,
          0,
          0,
          0,
          0,
          0,
          0,
          0,
          0,
          0,
          0,
          0,
          0,
          0,
          0,
          0,
          0,
          0,
          0,
          0,
          0,
          0,
          0,
          0,
          0,
          0,
          31307,
          0,
          1,
          0
         ],
         "y": [
          "Afghanistan",
          "Algeria",
          "Argentina",
          "Australia",
          "Austria",
          "Bangladesh",
          "Belgium",
          "Brazil",
          "Bulgaria",
          "Canada",
          "China, mainland",
          "Colombia",
          "Czechia",
          "Egypt",
          "Ethiopia",
          "France",
          "Germany",
          "Hungary",
          "India",
          "Indonesia",
          "Iraq",
          "Italy",
          "Japan",
          "Jordan",
          "Kazakhstan",
          "Latvia",
          "Lithuania",
          "Malaysia",
          "Mexico",
          "Morocco",
          "Netherlands",
          "Nigeria",
          "Philippines",
          "Poland",
          "Republic of Korea",
          "Romania",
          "Russian Federation",
          "Saudi Arabia",
          "South Africa",
          "Spain",
          "Sudan",
          "Thailand",
          "Tunisia",
          "Turkey",
          "Ukraine",
          "United Kingdom",
          "United States of America",
          "Uzbekistan",
          "Viet Nam",
          "Yemen"
         ]
        },
        {
         "name": "Import Q Flour Wheat",
         "orientation": "h",
         "type": "bar",
         "x": [
          2056484,
          0,
          94,
          20158,
          90663,
          269,
          182408,
          386898,
          13515,
          147511,
          37362,
          714,
          75575,
          22293,
          31809,
          345110,
          176001,
          44510,
          2383,
          148159,
          1461058,
          40093,
          3139,
          9105,
          3379,
          20608,
          36180,
          213033,
          203179,
          383,
          471262,
          1087,
          186847,
          90345,
          25876,
          127629,
          42518,
          163188,
          44025,
          94602,
          548604,
          156467,
          14,
          67585,
          3169,
          103156,
          298051,
          728636,
          32837,
          173723
         ],
         "y": [
          "Afghanistan",
          "Algeria",
          "Argentina",
          "Australia",
          "Austria",
          "Bangladesh",
          "Belgium",
          "Brazil",
          "Bulgaria",
          "Canada",
          "China, mainland",
          "Colombia",
          "Czechia",
          "Egypt",
          "Ethiopia",
          "France",
          "Germany",
          "Hungary",
          "India",
          "Indonesia",
          "Iraq",
          "Italy",
          "Japan",
          "Jordan",
          "Kazakhstan",
          "Latvia",
          "Lithuania",
          "Malaysia",
          "Mexico",
          "Morocco",
          "Netherlands",
          "Nigeria",
          "Philippines",
          "Poland",
          "Republic of Korea",
          "Romania",
          "Russian Federation",
          "Saudi Arabia",
          "South Africa",
          "Spain",
          "Sudan",
          "Thailand",
          "Tunisia",
          "Turkey",
          "Ukraine",
          "United Kingdom",
          "United States of America",
          "Uzbekistan",
          "Viet Nam",
          "Yemen"
         ]
        },
        {
         "name": "Import Q Wheat",
         "orientation": "h",
         "type": "bar",
         "x": [
          258473,
          8225654,
          2922,
          991,
          922677,
          5517718,
          4360987,
          6866327,
          27881,
          115051,
          3374289,
          2095562,
          37570,
          11138437,
          2475980,
          936885,
          4781619,
          190354,
          1910833,
          10534672,
          1500000,
          7652728,
          5446645,
          1923684,
          29921,
          566811,
          83953,
          1443190,
          4683803,
          6288066,
          4799279,
          4240715,
          4626204,
          814078,
          4435406,
          2155963,
          579923,
          2552983,
          1589756,
          7031736,
          1656284,
          4576536,
          2141805,
          4225784,
          2507,
          1472283,
          2210889,
          1686094,
          4743795,
          2785007
         ],
         "y": [
          "Afghanistan",
          "Algeria",
          "Argentina",
          "Australia",
          "Austria",
          "Bangladesh",
          "Belgium",
          "Brazil",
          "Bulgaria",
          "Canada",
          "China, mainland",
          "Colombia",
          "Czechia",
          "Egypt",
          "Ethiopia",
          "France",
          "Germany",
          "Hungary",
          "India",
          "Indonesia",
          "Iraq",
          "Italy",
          "Japan",
          "Jordan",
          "Kazakhstan",
          "Latvia",
          "Lithuania",
          "Malaysia",
          "Mexico",
          "Morocco",
          "Netherlands",
          "Nigeria",
          "Philippines",
          "Poland",
          "Republic of Korea",
          "Romania",
          "Russian Federation",
          "Saudi Arabia",
          "South Africa",
          "Spain",
          "Sudan",
          "Thailand",
          "Tunisia",
          "Turkey",
          "Ukraine",
          "United Kingdom",
          "United States of America",
          "Uzbekistan",
          "Viet Nam",
          "Yemen"
         ]
        },
        {
         "name": "Export Q Flour Wheat",
         "orientation": "h",
         "type": "bar",
         "x": [
          0,
          -2383,
          -596508,
          -35524,
          -96117,
          -63,
          -496590,
          -3283,
          -45033,
          -245675,
          -102215,
          -1468,
          -49399,
          -198415,
          -9,
          -430154,
          -869947,
          -198699,
          -193961,
          -72281,
          0,
          -272608,
          -158861,
          -4201,
          -2394972,
          -63177,
          -13751,
          -71448,
          -91960,
          -21617,
          -95075,
          -131,
          -33468,
          -132996,
          -23505,
          -60612,
          -244309,
          -136,
          -82159,
          -201462,
          0,
          -17476,
          -31504,
          -3573953,
          -372958,
          -236073,
          -364645,
          0,
          -117505,
          -23
         ],
         "y": [
          "Afghanistan",
          "Algeria",
          "Argentina",
          "Australia",
          "Austria",
          "Bangladesh",
          "Belgium",
          "Brazil",
          "Bulgaria",
          "Canada",
          "China, mainland",
          "Colombia",
          "Czechia",
          "Egypt",
          "Ethiopia",
          "France",
          "Germany",
          "Hungary",
          "India",
          "Indonesia",
          "Iraq",
          "Italy",
          "Japan",
          "Jordan",
          "Kazakhstan",
          "Latvia",
          "Lithuania",
          "Malaysia",
          "Mexico",
          "Morocco",
          "Netherlands",
          "Nigeria",
          "Philippines",
          "Poland",
          "Republic of Korea",
          "Romania",
          "Russian Federation",
          "Saudi Arabia",
          "South Africa",
          "Spain",
          "Sudan",
          "Thailand",
          "Tunisia",
          "Turkey",
          "Ukraine",
          "United Kingdom",
          "United States of America",
          "Uzbekistan",
          "Viet Nam",
          "Yemen"
         ]
        },
        {
         "name": "Export Q Wheat",
         "orientation": "h",
         "type": "bar",
         "x": [
          0,
          0,
          -10266234,
          -16148016,
          -741327,
          -1,
          -802544,
          -713313,
          -4414160,
          -19702348,
          -10535,
          0,
          -2865356,
          -35966,
          0,
          -18343653,
          -10170166,
          -2530263,
          -198965,
          -19076,
          0,
          -454141,
          0,
          -626,
          -4448039,
          -2225721,
          -3253830,
          -3622,
          -1517088,
          -160,
          -448515,
          -21,
          0,
          -4401721,
          -1,
          -6993999,
          -25326784,
          -2,
          -52557,
          -287117,
          0,
          -37,
          0,
          -26503,
          -17920945,
          -2912722,
          -24041586,
          -30342,
          -4189,
          -81
         ],
         "y": [
          "Afghanistan",
          "Algeria",
          "Argentina",
          "Australia",
          "Austria",
          "Bangladesh",
          "Belgium",
          "Brazil",
          "Bulgaria",
          "Canada",
          "China, mainland",
          "Colombia",
          "Czechia",
          "Egypt",
          "Ethiopia",
          "France",
          "Germany",
          "Hungary",
          "India",
          "Indonesia",
          "Iraq",
          "Italy",
          "Japan",
          "Jordan",
          "Kazakhstan",
          "Latvia",
          "Lithuania",
          "Malaysia",
          "Mexico",
          "Morocco",
          "Netherlands",
          "Nigeria",
          "Philippines",
          "Poland",
          "Republic of Korea",
          "Romania",
          "Russian Federation",
          "Saudi Arabia",
          "South Africa",
          "Spain",
          "Sudan",
          "Thailand",
          "Tunisia",
          "Turkey",
          "Ukraine",
          "United Kingdom",
          "United States of America",
          "Uzbekistan",
          "Viet Nam",
          "Yemen"
         ]
        },
        {
         "name": "Export Q Bulgur",
         "orientation": "h",
         "type": "bar",
         "x": [
          0,
          0,
          0,
          0,
          0,
          0,
          0,
          0,
          0,
          0,
          0,
          0,
          0,
          0,
          0,
          0,
          0,
          0,
          0,
          0,
          0,
          0,
          0,
          0,
          0,
          0,
          0,
          0,
          0,
          0,
          0,
          -3,
          0,
          0,
          0,
          0,
          0,
          0,
          0,
          0,
          0,
          0,
          0,
          0,
          0,
          0,
          -10618,
          0,
          0,
          0
         ],
         "y": [
          "Afghanistan",
          "Algeria",
          "Argentina",
          "Australia",
          "Austria",
          "Bangladesh",
          "Belgium",
          "Brazil",
          "Bulgaria",
          "Canada",
          "China, mainland",
          "Colombia",
          "Czechia",
          "Egypt",
          "Ethiopia",
          "France",
          "Germany",
          "Hungary",
          "India",
          "Indonesia",
          "Iraq",
          "Italy",
          "Japan",
          "Jordan",
          "Kazakhstan",
          "Latvia",
          "Lithuania",
          "Malaysia",
          "Mexico",
          "Morocco",
          "Netherlands",
          "Nigeria",
          "Philippines",
          "Poland",
          "Republic of Korea",
          "Romania",
          "Russian Federation",
          "Saudi Arabia",
          "South Africa",
          "Spain",
          "Sudan",
          "Thailand",
          "Tunisia",
          "Turkey",
          "Ukraine",
          "United Kingdom",
          "United States of America",
          "Uzbekistan",
          "Viet Nam",
          "Yemen"
         ]
        },
        {
         "name": "Export Q bran",
         "orientation": "h",
         "type": "bar",
         "x": [
          -89,
          0,
          -72826,
          -56818,
          -67598,
          0,
          -124753,
          0,
          -77764,
          -39472,
          -1467,
          -3,
          -101430,
          -25,
          0,
          -452180,
          -403475,
          -67201,
          -1525,
          -549762,
          0,
          -193758,
          -7774,
          -6,
          -249455,
          -47690,
          -23398,
          -11606,
          -57,
          0,
          -130992,
          -122849,
          0,
          -139792,
          -99,
          -1949,
          -753339,
          -532,
          -1484,
          -19601,
          0,
          0,
          0,
          -44661,
          -514027,
          -25463,
          -203710,
          0,
          -3214,
          -41202
         ],
         "y": [
          "Afghanistan",
          "Algeria",
          "Argentina",
          "Australia",
          "Austria",
          "Bangladesh",
          "Belgium",
          "Brazil",
          "Bulgaria",
          "Canada",
          "China, mainland",
          "Colombia",
          "Czechia",
          "Egypt",
          "Ethiopia",
          "France",
          "Germany",
          "Hungary",
          "India",
          "Indonesia",
          "Iraq",
          "Italy",
          "Japan",
          "Jordan",
          "Kazakhstan",
          "Latvia",
          "Lithuania",
          "Malaysia",
          "Mexico",
          "Morocco",
          "Netherlands",
          "Nigeria",
          "Philippines",
          "Poland",
          "Republic of Korea",
          "Romania",
          "Russian Federation",
          "Saudi Arabia",
          "South Africa",
          "Spain",
          "Sudan",
          "Thailand",
          "Tunisia",
          "Turkey",
          "Ukraine",
          "United Kingdom",
          "United States of America",
          "Uzbekistan",
          "Viet Nam",
          "Yemen"
         ]
        }
       ],
       "layout": {
        "barmode": "relative",
        "template": {
         "data": {
          "bar": [
           {
            "error_x": {
             "color": "#2a3f5f"
            },
            "error_y": {
             "color": "#2a3f5f"
            },
            "marker": {
             "line": {
              "color": "#E5ECF6",
              "width": 0.5
             }
            },
            "type": "bar"
           }
          ],
          "barpolar": [
           {
            "marker": {
             "line": {
              "color": "#E5ECF6",
              "width": 0.5
             }
            },
            "type": "barpolar"
           }
          ],
          "carpet": [
           {
            "aaxis": {
             "endlinecolor": "#2a3f5f",
             "gridcolor": "white",
             "linecolor": "white",
             "minorgridcolor": "white",
             "startlinecolor": "#2a3f5f"
            },
            "baxis": {
             "endlinecolor": "#2a3f5f",
             "gridcolor": "white",
             "linecolor": "white",
             "minorgridcolor": "white",
             "startlinecolor": "#2a3f5f"
            },
            "type": "carpet"
           }
          ],
          "choropleth": [
           {
            "colorbar": {
             "outlinewidth": 0,
             "ticks": ""
            },
            "type": "choropleth"
           }
          ],
          "contour": [
           {
            "colorbar": {
             "outlinewidth": 0,
             "ticks": ""
            },
            "colorscale": [
             [
              0,
              "#0d0887"
             ],
             [
              0.1111111111111111,
              "#46039f"
             ],
             [
              0.2222222222222222,
              "#7201a8"
             ],
             [
              0.3333333333333333,
              "#9c179e"
             ],
             [
              0.4444444444444444,
              "#bd3786"
             ],
             [
              0.5555555555555556,
              "#d8576b"
             ],
             [
              0.6666666666666666,
              "#ed7953"
             ],
             [
              0.7777777777777778,
              "#fb9f3a"
             ],
             [
              0.8888888888888888,
              "#fdca26"
             ],
             [
              1,
              "#f0f921"
             ]
            ],
            "type": "contour"
           }
          ],
          "contourcarpet": [
           {
            "colorbar": {
             "outlinewidth": 0,
             "ticks": ""
            },
            "type": "contourcarpet"
           }
          ],
          "heatmap": [
           {
            "colorbar": {
             "outlinewidth": 0,
             "ticks": ""
            },
            "colorscale": [
             [
              0,
              "#0d0887"
             ],
             [
              0.1111111111111111,
              "#46039f"
             ],
             [
              0.2222222222222222,
              "#7201a8"
             ],
             [
              0.3333333333333333,
              "#9c179e"
             ],
             [
              0.4444444444444444,
              "#bd3786"
             ],
             [
              0.5555555555555556,
              "#d8576b"
             ],
             [
              0.6666666666666666,
              "#ed7953"
             ],
             [
              0.7777777777777778,
              "#fb9f3a"
             ],
             [
              0.8888888888888888,
              "#fdca26"
             ],
             [
              1,
              "#f0f921"
             ]
            ],
            "type": "heatmap"
           }
          ],
          "heatmapgl": [
           {
            "colorbar": {
             "outlinewidth": 0,
             "ticks": ""
            },
            "colorscale": [
             [
              0,
              "#0d0887"
             ],
             [
              0.1111111111111111,
              "#46039f"
             ],
             [
              0.2222222222222222,
              "#7201a8"
             ],
             [
              0.3333333333333333,
              "#9c179e"
             ],
             [
              0.4444444444444444,
              "#bd3786"
             ],
             [
              0.5555555555555556,
              "#d8576b"
             ],
             [
              0.6666666666666666,
              "#ed7953"
             ],
             [
              0.7777777777777778,
              "#fb9f3a"
             ],
             [
              0.8888888888888888,
              "#fdca26"
             ],
             [
              1,
              "#f0f921"
             ]
            ],
            "type": "heatmapgl"
           }
          ],
          "histogram": [
           {
            "marker": {
             "colorbar": {
              "outlinewidth": 0,
              "ticks": ""
             }
            },
            "type": "histogram"
           }
          ],
          "histogram2d": [
           {
            "colorbar": {
             "outlinewidth": 0,
             "ticks": ""
            },
            "colorscale": [
             [
              0,
              "#0d0887"
             ],
             [
              0.1111111111111111,
              "#46039f"
             ],
             [
              0.2222222222222222,
              "#7201a8"
             ],
             [
              0.3333333333333333,
              "#9c179e"
             ],
             [
              0.4444444444444444,
              "#bd3786"
             ],
             [
              0.5555555555555556,
              "#d8576b"
             ],
             [
              0.6666666666666666,
              "#ed7953"
             ],
             [
              0.7777777777777778,
              "#fb9f3a"
             ],
             [
              0.8888888888888888,
              "#fdca26"
             ],
             [
              1,
              "#f0f921"
             ]
            ],
            "type": "histogram2d"
           }
          ],
          "histogram2dcontour": [
           {
            "colorbar": {
             "outlinewidth": 0,
             "ticks": ""
            },
            "colorscale": [
             [
              0,
              "#0d0887"
             ],
             [
              0.1111111111111111,
              "#46039f"
             ],
             [
              0.2222222222222222,
              "#7201a8"
             ],
             [
              0.3333333333333333,
              "#9c179e"
             ],
             [
              0.4444444444444444,
              "#bd3786"
             ],
             [
              0.5555555555555556,
              "#d8576b"
             ],
             [
              0.6666666666666666,
              "#ed7953"
             ],
             [
              0.7777777777777778,
              "#fb9f3a"
             ],
             [
              0.8888888888888888,
              "#fdca26"
             ],
             [
              1,
              "#f0f921"
             ]
            ],
            "type": "histogram2dcontour"
           }
          ],
          "mesh3d": [
           {
            "colorbar": {
             "outlinewidth": 0,
             "ticks": ""
            },
            "type": "mesh3d"
           }
          ],
          "parcoords": [
           {
            "line": {
             "colorbar": {
              "outlinewidth": 0,
              "ticks": ""
             }
            },
            "type": "parcoords"
           }
          ],
          "pie": [
           {
            "automargin": true,
            "type": "pie"
           }
          ],
          "scatter": [
           {
            "marker": {
             "colorbar": {
              "outlinewidth": 0,
              "ticks": ""
             }
            },
            "type": "scatter"
           }
          ],
          "scatter3d": [
           {
            "line": {
             "colorbar": {
              "outlinewidth": 0,
              "ticks": ""
             }
            },
            "marker": {
             "colorbar": {
              "outlinewidth": 0,
              "ticks": ""
             }
            },
            "type": "scatter3d"
           }
          ],
          "scattercarpet": [
           {
            "marker": {
             "colorbar": {
              "outlinewidth": 0,
              "ticks": ""
             }
            },
            "type": "scattercarpet"
           }
          ],
          "scattergeo": [
           {
            "marker": {
             "colorbar": {
              "outlinewidth": 0,
              "ticks": ""
             }
            },
            "type": "scattergeo"
           }
          ],
          "scattergl": [
           {
            "marker": {
             "colorbar": {
              "outlinewidth": 0,
              "ticks": ""
             }
            },
            "type": "scattergl"
           }
          ],
          "scattermapbox": [
           {
            "marker": {
             "colorbar": {
              "outlinewidth": 0,
              "ticks": ""
             }
            },
            "type": "scattermapbox"
           }
          ],
          "scatterpolar": [
           {
            "marker": {
             "colorbar": {
              "outlinewidth": 0,
              "ticks": ""
             }
            },
            "type": "scatterpolar"
           }
          ],
          "scatterpolargl": [
           {
            "marker": {
             "colorbar": {
              "outlinewidth": 0,
              "ticks": ""
             }
            },
            "type": "scatterpolargl"
           }
          ],
          "scatterternary": [
           {
            "marker": {
             "colorbar": {
              "outlinewidth": 0,
              "ticks": ""
             }
            },
            "type": "scatterternary"
           }
          ],
          "surface": [
           {
            "colorbar": {
             "outlinewidth": 0,
             "ticks": ""
            },
            "colorscale": [
             [
              0,
              "#0d0887"
             ],
             [
              0.1111111111111111,
              "#46039f"
             ],
             [
              0.2222222222222222,
              "#7201a8"
             ],
             [
              0.3333333333333333,
              "#9c179e"
             ],
             [
              0.4444444444444444,
              "#bd3786"
             ],
             [
              0.5555555555555556,
              "#d8576b"
             ],
             [
              0.6666666666666666,
              "#ed7953"
             ],
             [
              0.7777777777777778,
              "#fb9f3a"
             ],
             [
              0.8888888888888888,
              "#fdca26"
             ],
             [
              1,
              "#f0f921"
             ]
            ],
            "type": "surface"
           }
          ],
          "table": [
           {
            "cells": {
             "fill": {
              "color": "#EBF0F8"
             },
             "line": {
              "color": "white"
             }
            },
            "header": {
             "fill": {
              "color": "#C8D4E3"
             },
             "line": {
              "color": "white"
             }
            },
            "type": "table"
           }
          ]
         },
         "layout": {
          "annotationdefaults": {
           "arrowcolor": "#2a3f5f",
           "arrowhead": 0,
           "arrowwidth": 1
          },
          "coloraxis": {
           "colorbar": {
            "outlinewidth": 0,
            "ticks": ""
           }
          },
          "colorscale": {
           "diverging": [
            [
             0,
             "#8e0152"
            ],
            [
             0.1,
             "#c51b7d"
            ],
            [
             0.2,
             "#de77ae"
            ],
            [
             0.3,
             "#f1b6da"
            ],
            [
             0.4,
             "#fde0ef"
            ],
            [
             0.5,
             "#f7f7f7"
            ],
            [
             0.6,
             "#e6f5d0"
            ],
            [
             0.7,
             "#b8e186"
            ],
            [
             0.8,
             "#7fbc41"
            ],
            [
             0.9,
             "#4d9221"
            ],
            [
             1,
             "#276419"
            ]
           ],
           "sequential": [
            [
             0,
             "#0d0887"
            ],
            [
             0.1111111111111111,
             "#46039f"
            ],
            [
             0.2222222222222222,
             "#7201a8"
            ],
            [
             0.3333333333333333,
             "#9c179e"
            ],
            [
             0.4444444444444444,
             "#bd3786"
            ],
            [
             0.5555555555555556,
             "#d8576b"
            ],
            [
             0.6666666666666666,
             "#ed7953"
            ],
            [
             0.7777777777777778,
             "#fb9f3a"
            ],
            [
             0.8888888888888888,
             "#fdca26"
            ],
            [
             1,
             "#f0f921"
            ]
           ],
           "sequentialminus": [
            [
             0,
             "#0d0887"
            ],
            [
             0.1111111111111111,
             "#46039f"
            ],
            [
             0.2222222222222222,
             "#7201a8"
            ],
            [
             0.3333333333333333,
             "#9c179e"
            ],
            [
             0.4444444444444444,
             "#bd3786"
            ],
            [
             0.5555555555555556,
             "#d8576b"
            ],
            [
             0.6666666666666666,
             "#ed7953"
            ],
            [
             0.7777777777777778,
             "#fb9f3a"
            ],
            [
             0.8888888888888888,
             "#fdca26"
            ],
            [
             1,
             "#f0f921"
            ]
           ]
          },
          "colorway": [
           "#636efa",
           "#EF553B",
           "#00cc96",
           "#ab63fa",
           "#FFA15A",
           "#19d3f3",
           "#FF6692",
           "#B6E880",
           "#FF97FF",
           "#FECB52"
          ],
          "font": {
           "color": "#2a3f5f"
          },
          "geo": {
           "bgcolor": "white",
           "lakecolor": "white",
           "landcolor": "#E5ECF6",
           "showlakes": true,
           "showland": true,
           "subunitcolor": "white"
          },
          "hoverlabel": {
           "align": "left"
          },
          "hovermode": "closest",
          "mapbox": {
           "style": "light"
          },
          "paper_bgcolor": "white",
          "plot_bgcolor": "#E5ECF6",
          "polar": {
           "angularaxis": {
            "gridcolor": "white",
            "linecolor": "white",
            "ticks": ""
           },
           "bgcolor": "#E5ECF6",
           "radialaxis": {
            "gridcolor": "white",
            "linecolor": "white",
            "ticks": ""
           }
          },
          "scene": {
           "xaxis": {
            "backgroundcolor": "#E5ECF6",
            "gridcolor": "white",
            "gridwidth": 2,
            "linecolor": "white",
            "showbackground": true,
            "ticks": "",
            "zerolinecolor": "white"
           },
           "yaxis": {
            "backgroundcolor": "#E5ECF6",
            "gridcolor": "white",
            "gridwidth": 2,
            "linecolor": "white",
            "showbackground": true,
            "ticks": "",
            "zerolinecolor": "white"
           },
           "zaxis": {
            "backgroundcolor": "#E5ECF6",
            "gridcolor": "white",
            "gridwidth": 2,
            "linecolor": "white",
            "showbackground": true,
            "ticks": "",
            "zerolinecolor": "white"
           }
          },
          "shapedefaults": {
           "line": {
            "color": "#2a3f5f"
           }
          },
          "ternary": {
           "aaxis": {
            "gridcolor": "white",
            "linecolor": "white",
            "ticks": ""
           },
           "baxis": {
            "gridcolor": "white",
            "linecolor": "white",
            "ticks": ""
           },
           "bgcolor": "#E5ECF6",
           "caxis": {
            "gridcolor": "white",
            "linecolor": "white",
            "ticks": ""
           }
          },
          "title": {
           "x": 0.05
          },
          "xaxis": {
           "automargin": true,
           "gridcolor": "white",
           "linecolor": "white",
           "ticks": "",
           "title": {
            "standoff": 15
           },
           "zerolinecolor": "white",
           "zerolinewidth": 2
          },
          "yaxis": {
           "automargin": true,
           "gridcolor": "white",
           "linecolor": "white",
           "ticks": "",
           "title": {
            "standoff": 15
           },
           "zerolinecolor": "white",
           "zerolinewidth": 2
          }
         }
        },
        "xaxis": {
         "title": {
          "text": "Export/Import Quantities [tonnes] (Negative values represents exportation)"
         }
        }
       }
      },
      "text/html": [
       "<div>\n",
       "        \n",
       "        \n",
       "            <div id=\"6577b859-be8d-4049-b577-eea122841a84\" class=\"plotly-graph-div\" style=\"height:525px; width:100%;\"></div>\n",
       "            <script type=\"text/javascript\">\n",
       "                require([\"plotly\"], function(Plotly) {\n",
       "                    window.PLOTLYENV=window.PLOTLYENV || {};\n",
       "                    \n",
       "                if (document.getElementById(\"6577b859-be8d-4049-b577-eea122841a84\")) {\n",
       "                    Plotly.newPlot(\n",
       "                        '6577b859-be8d-4049-b577-eea122841a84',\n",
       "                        [{\"name\": \"Import Q Bran\", \"orientation\": \"h\", \"type\": \"bar\", \"x\": [236.0, 0.0, 65.0, 1754.0, 14379.0, 1827.0, 132885.0, 1802.0, 679.0, 122429.0, 62318.0, 25954.0, 6275.0, 44039.0, 0.0, 22695.0, 303172.0, 3756.0, 945.0, 5659.0, 4632.0, 73837.0, 66468.0, 117.0, 1975.0, 24326.0, 4638.0, 137400.0, 40646.0, 334073.0, 431661.0, 2.0, 32488.0, 70427.0, 123246.0, 56992.0, 72241.0, 61052.0, 115089.0, 64663.0, 0.0, 66444.0, 102394.0, 1348918.0, 104.0, 155130.0, 59965.0, 160888.0, 350000.0, 11429.0], \"y\": [\"Afghanistan\", \"Algeria\", \"Argentina\", \"Australia\", \"Austria\", \"Bangladesh\", \"Belgium\", \"Brazil\", \"Bulgaria\", \"Canada\", \"China, mainland\", \"Colombia\", \"Czechia\", \"Egypt\", \"Ethiopia\", \"France\", \"Germany\", \"Hungary\", \"India\", \"Indonesia\", \"Iraq\", \"Italy\", \"Japan\", \"Jordan\", \"Kazakhstan\", \"Latvia\", \"Lithuania\", \"Malaysia\", \"Mexico\", \"Morocco\", \"Netherlands\", \"Nigeria\", \"Philippines\", \"Poland\", \"Republic of Korea\", \"Romania\", \"Russian Federation\", \"Saudi Arabia\", \"South Africa\", \"Spain\", \"Sudan\", \"Thailand\", \"Tunisia\", \"Turkey\", \"Ukraine\", \"United Kingdom\", \"United States of America\", \"Uzbekistan\", \"Viet Nam\", \"Yemen\"]}, {\"name\": \"Import Q Bulgur\", \"orientation\": \"h\", \"type\": \"bar\", \"x\": [0.0, 0.0, 0.0, 2116.0, 0.0, 0.0, 0.0, 0.0, 0.0, 0.0, 0.0, 0.0, 0.0, 0.0, 0.0, 0.0, 0.0, 0.0, 0.0, 0.0, 0.0, 0.0, 0.0, 0.0, 0.0, 0.0, 0.0, 0.0, 0.0, 0.0, 0.0, 0.0, 0.0, 0.0, 0.0, 0.0, 0.0, 0.0, 0.0, 0.0, 0.0, 0.0, 0.0, 0.0, 0.0, 0.0, 31307.0, 0.0, 1.0, 0.0], \"y\": [\"Afghanistan\", \"Algeria\", \"Argentina\", \"Australia\", \"Austria\", \"Bangladesh\", \"Belgium\", \"Brazil\", \"Bulgaria\", \"Canada\", \"China, mainland\", \"Colombia\", \"Czechia\", \"Egypt\", \"Ethiopia\", \"France\", \"Germany\", \"Hungary\", \"India\", \"Indonesia\", \"Iraq\", \"Italy\", \"Japan\", \"Jordan\", \"Kazakhstan\", \"Latvia\", \"Lithuania\", \"Malaysia\", \"Mexico\", \"Morocco\", \"Netherlands\", \"Nigeria\", \"Philippines\", \"Poland\", \"Republic of Korea\", \"Romania\", \"Russian Federation\", \"Saudi Arabia\", \"South Africa\", \"Spain\", \"Sudan\", \"Thailand\", \"Tunisia\", \"Turkey\", \"Ukraine\", \"United Kingdom\", \"United States of America\", \"Uzbekistan\", \"Viet Nam\", \"Yemen\"]}, {\"name\": \"Import Q Flour Wheat\", \"orientation\": \"h\", \"type\": \"bar\", \"x\": [2056484.0, 0.0, 94.0, 20158.0, 90663.0, 269.0, 182408.0, 386898.0, 13515.0, 147511.0, 37362.0, 714.0, 75575.0, 22293.0, 31809.0, 345110.0, 176001.0, 44510.0, 2383.0, 148159.0, 1461058.0, 40093.0, 3139.0, 9105.0, 3379.0, 20608.0, 36180.0, 213033.0, 203179.0, 383.0, 471262.0, 1087.0, 186847.0, 90345.0, 25876.0, 127629.0, 42518.0, 163188.0, 44025.0, 94602.0, 548604.0, 156467.0, 14.0, 67585.0, 3169.0, 103156.0, 298051.0, 728636.0, 32837.0, 173723.0], \"y\": [\"Afghanistan\", \"Algeria\", \"Argentina\", \"Australia\", \"Austria\", \"Bangladesh\", \"Belgium\", \"Brazil\", \"Bulgaria\", \"Canada\", \"China, mainland\", \"Colombia\", \"Czechia\", \"Egypt\", \"Ethiopia\", \"France\", \"Germany\", \"Hungary\", \"India\", \"Indonesia\", \"Iraq\", \"Italy\", \"Japan\", \"Jordan\", \"Kazakhstan\", \"Latvia\", \"Lithuania\", \"Malaysia\", \"Mexico\", \"Morocco\", \"Netherlands\", \"Nigeria\", \"Philippines\", \"Poland\", \"Republic of Korea\", \"Romania\", \"Russian Federation\", \"Saudi Arabia\", \"South Africa\", \"Spain\", \"Sudan\", \"Thailand\", \"Tunisia\", \"Turkey\", \"Ukraine\", \"United Kingdom\", \"United States of America\", \"Uzbekistan\", \"Viet Nam\", \"Yemen\"]}, {\"name\": \"Import Q Wheat\", \"orientation\": \"h\", \"type\": \"bar\", \"x\": [258473.0, 8225654.0, 2922.0, 991.0, 922677.0, 5517718.0, 4360987.0, 6866327.0, 27881.0, 115051.0, 3374289.0, 2095562.0, 37570.0, 11138437.0, 2475980.0, 936885.0, 4781619.0, 190354.0, 1910833.0, 10534672.0, 1500000.0, 7652728.0, 5446645.0, 1923684.0, 29921.0, 566811.0, 83953.0, 1443190.0, 4683803.0, 6288066.0, 4799279.0, 4240715.0, 4626204.0, 814078.0, 4435406.0, 2155963.0, 579923.0, 2552983.0, 1589756.0, 7031736.0, 1656284.0, 4576536.0, 2141805.0, 4225784.0, 2507.0, 1472283.0, 2210889.0, 1686094.0, 4743795.0, 2785007.0], \"y\": [\"Afghanistan\", \"Algeria\", \"Argentina\", \"Australia\", \"Austria\", \"Bangladesh\", \"Belgium\", \"Brazil\", \"Bulgaria\", \"Canada\", \"China, mainland\", \"Colombia\", \"Czechia\", \"Egypt\", \"Ethiopia\", \"France\", \"Germany\", \"Hungary\", \"India\", \"Indonesia\", \"Iraq\", \"Italy\", \"Japan\", \"Jordan\", \"Kazakhstan\", \"Latvia\", \"Lithuania\", \"Malaysia\", \"Mexico\", \"Morocco\", \"Netherlands\", \"Nigeria\", \"Philippines\", \"Poland\", \"Republic of Korea\", \"Romania\", \"Russian Federation\", \"Saudi Arabia\", \"South Africa\", \"Spain\", \"Sudan\", \"Thailand\", \"Tunisia\", \"Turkey\", \"Ukraine\", \"United Kingdom\", \"United States of America\", \"Uzbekistan\", \"Viet Nam\", \"Yemen\"]}, {\"name\": \"Export Q Flour Wheat\", \"orientation\": \"h\", \"type\": \"bar\", \"x\": [-0.0, -2383.0, -596508.0, -35524.0, -96117.0, -63.0, -496590.0, -3283.0, -45033.0, -245675.0, -102215.0, -1468.0, -49399.0, -198415.0, -9.0, -430154.0, -869947.0, -198699.0, -193961.0, -72281.0, -0.0, -272608.0, -158861.0, -4201.0, -2394972.0, -63177.0, -13751.0, -71448.0, -91960.0, -21617.0, -95075.0, -131.0, -33468.0, -132996.0, -23505.0, -60612.0, -244309.0, -136.0, -82159.0, -201462.0, -0.0, -17476.0, -31504.0, -3573953.0, -372958.0, -236073.0, -364645.0, -0.0, -117505.0, -23.0], \"y\": [\"Afghanistan\", \"Algeria\", \"Argentina\", \"Australia\", \"Austria\", \"Bangladesh\", \"Belgium\", \"Brazil\", \"Bulgaria\", \"Canada\", \"China, mainland\", \"Colombia\", \"Czechia\", \"Egypt\", \"Ethiopia\", \"France\", \"Germany\", \"Hungary\", \"India\", \"Indonesia\", \"Iraq\", \"Italy\", \"Japan\", \"Jordan\", \"Kazakhstan\", \"Latvia\", \"Lithuania\", \"Malaysia\", \"Mexico\", \"Morocco\", \"Netherlands\", \"Nigeria\", \"Philippines\", \"Poland\", \"Republic of Korea\", \"Romania\", \"Russian Federation\", \"Saudi Arabia\", \"South Africa\", \"Spain\", \"Sudan\", \"Thailand\", \"Tunisia\", \"Turkey\", \"Ukraine\", \"United Kingdom\", \"United States of America\", \"Uzbekistan\", \"Viet Nam\", \"Yemen\"]}, {\"name\": \"Export Q Wheat\", \"orientation\": \"h\", \"type\": \"bar\", \"x\": [-0.0, -0.0, -10266234.0, -16148016.0, -741327.0, -1.0, -802544.0, -713313.0, -4414160.0, -19702348.0, -10535.0, -0.0, -2865356.0, -35966.0, -0.0, -18343653.0, -10170166.0, -2530263.0, -198965.0, -19076.0, -0.0, -454141.0, -0.0, -626.0, -4448039.0, -2225721.0, -3253830.0, -3622.0, -1517088.0, -160.0, -448515.0, -21.0, -0.0, -4401721.0, -1.0, -6993999.0, -25326784.0, -2.0, -52557.0, -287117.0, -0.0, -37.0, -0.0, -26503.0, -17920945.0, -2912722.0, -24041586.0, -30342.0, -4189.0, -81.0], \"y\": [\"Afghanistan\", \"Algeria\", \"Argentina\", \"Australia\", \"Austria\", \"Bangladesh\", \"Belgium\", \"Brazil\", \"Bulgaria\", \"Canada\", \"China, mainland\", \"Colombia\", \"Czechia\", \"Egypt\", \"Ethiopia\", \"France\", \"Germany\", \"Hungary\", \"India\", \"Indonesia\", \"Iraq\", \"Italy\", \"Japan\", \"Jordan\", \"Kazakhstan\", \"Latvia\", \"Lithuania\", \"Malaysia\", \"Mexico\", \"Morocco\", \"Netherlands\", \"Nigeria\", \"Philippines\", \"Poland\", \"Republic of Korea\", \"Romania\", \"Russian Federation\", \"Saudi Arabia\", \"South Africa\", \"Spain\", \"Sudan\", \"Thailand\", \"Tunisia\", \"Turkey\", \"Ukraine\", \"United Kingdom\", \"United States of America\", \"Uzbekistan\", \"Viet Nam\", \"Yemen\"]}, {\"name\": \"Export Q Bulgur\", \"orientation\": \"h\", \"type\": \"bar\", \"x\": [-0.0, -0.0, -0.0, -0.0, -0.0, -0.0, -0.0, -0.0, -0.0, -0.0, -0.0, -0.0, -0.0, -0.0, -0.0, -0.0, -0.0, -0.0, -0.0, -0.0, -0.0, -0.0, -0.0, -0.0, -0.0, -0.0, -0.0, -0.0, -0.0, -0.0, -0.0, -3.0, -0.0, -0.0, -0.0, -0.0, -0.0, -0.0, -0.0, -0.0, -0.0, -0.0, -0.0, -0.0, -0.0, -0.0, -10618.0, -0.0, -0.0, -0.0], \"y\": [\"Afghanistan\", \"Algeria\", \"Argentina\", \"Australia\", \"Austria\", \"Bangladesh\", \"Belgium\", \"Brazil\", \"Bulgaria\", \"Canada\", \"China, mainland\", \"Colombia\", \"Czechia\", \"Egypt\", \"Ethiopia\", \"France\", \"Germany\", \"Hungary\", \"India\", \"Indonesia\", \"Iraq\", \"Italy\", \"Japan\", \"Jordan\", \"Kazakhstan\", \"Latvia\", \"Lithuania\", \"Malaysia\", \"Mexico\", \"Morocco\", \"Netherlands\", \"Nigeria\", \"Philippines\", \"Poland\", \"Republic of Korea\", \"Romania\", \"Russian Federation\", \"Saudi Arabia\", \"South Africa\", \"Spain\", \"Sudan\", \"Thailand\", \"Tunisia\", \"Turkey\", \"Ukraine\", \"United Kingdom\", \"United States of America\", \"Uzbekistan\", \"Viet Nam\", \"Yemen\"]}, {\"name\": \"Export Q bran\", \"orientation\": \"h\", \"type\": \"bar\", \"x\": [-89.0, -0.0, -72826.0, -56818.0, -67598.0, -0.0, -124753.0, -0.0, -77764.0, -39472.0, -1467.0, -3.0, -101430.0, -25.0, -0.0, -452180.0, -403475.0, -67201.0, -1525.0, -549762.0, -0.0, -193758.0, -7774.0, -6.0, -249455.0, -47690.0, -23398.0, -11606.0, -57.0, -0.0, -130992.0, -122849.0, -0.0, -139792.0, -99.0, -1949.0, -753339.0, -532.0, -1484.0, -19601.0, -0.0, -0.0, -0.0, -44661.0, -514027.0, -25463.0, -203710.0, -0.0, -3214.0, -41202.0], \"y\": [\"Afghanistan\", \"Algeria\", \"Argentina\", \"Australia\", \"Austria\", \"Bangladesh\", \"Belgium\", \"Brazil\", \"Bulgaria\", \"Canada\", \"China, mainland\", \"Colombia\", \"Czechia\", \"Egypt\", \"Ethiopia\", \"France\", \"Germany\", \"Hungary\", \"India\", \"Indonesia\", \"Iraq\", \"Italy\", \"Japan\", \"Jordan\", \"Kazakhstan\", \"Latvia\", \"Lithuania\", \"Malaysia\", \"Mexico\", \"Morocco\", \"Netherlands\", \"Nigeria\", \"Philippines\", \"Poland\", \"Republic of Korea\", \"Romania\", \"Russian Federation\", \"Saudi Arabia\", \"South Africa\", \"Spain\", \"Sudan\", \"Thailand\", \"Tunisia\", \"Turkey\", \"Ukraine\", \"United Kingdom\", \"United States of America\", \"Uzbekistan\", \"Viet Nam\", \"Yemen\"]}],\n",
       "                        {\"barmode\": \"relative\", \"template\": {\"data\": {\"bar\": [{\"error_x\": {\"color\": \"#2a3f5f\"}, \"error_y\": {\"color\": \"#2a3f5f\"}, \"marker\": {\"line\": {\"color\": \"#E5ECF6\", \"width\": 0.5}}, \"type\": \"bar\"}], \"barpolar\": [{\"marker\": {\"line\": {\"color\": \"#E5ECF6\", \"width\": 0.5}}, \"type\": \"barpolar\"}], \"carpet\": [{\"aaxis\": {\"endlinecolor\": \"#2a3f5f\", \"gridcolor\": \"white\", \"linecolor\": \"white\", \"minorgridcolor\": \"white\", \"startlinecolor\": \"#2a3f5f\"}, \"baxis\": {\"endlinecolor\": \"#2a3f5f\", \"gridcolor\": \"white\", \"linecolor\": \"white\", \"minorgridcolor\": \"white\", \"startlinecolor\": \"#2a3f5f\"}, \"type\": \"carpet\"}], \"choropleth\": [{\"colorbar\": {\"outlinewidth\": 0, \"ticks\": \"\"}, \"type\": \"choropleth\"}], \"contour\": [{\"colorbar\": {\"outlinewidth\": 0, \"ticks\": \"\"}, \"colorscale\": [[0.0, \"#0d0887\"], [0.1111111111111111, \"#46039f\"], [0.2222222222222222, \"#7201a8\"], [0.3333333333333333, \"#9c179e\"], [0.4444444444444444, \"#bd3786\"], [0.5555555555555556, \"#d8576b\"], [0.6666666666666666, \"#ed7953\"], [0.7777777777777778, \"#fb9f3a\"], [0.8888888888888888, \"#fdca26\"], [1.0, \"#f0f921\"]], \"type\": \"contour\"}], \"contourcarpet\": [{\"colorbar\": {\"outlinewidth\": 0, \"ticks\": \"\"}, \"type\": \"contourcarpet\"}], \"heatmap\": [{\"colorbar\": {\"outlinewidth\": 0, \"ticks\": \"\"}, \"colorscale\": [[0.0, \"#0d0887\"], [0.1111111111111111, \"#46039f\"], [0.2222222222222222, \"#7201a8\"], [0.3333333333333333, \"#9c179e\"], [0.4444444444444444, \"#bd3786\"], [0.5555555555555556, \"#d8576b\"], [0.6666666666666666, \"#ed7953\"], [0.7777777777777778, \"#fb9f3a\"], [0.8888888888888888, \"#fdca26\"], [1.0, \"#f0f921\"]], \"type\": \"heatmap\"}], \"heatmapgl\": [{\"colorbar\": {\"outlinewidth\": 0, \"ticks\": \"\"}, \"colorscale\": [[0.0, \"#0d0887\"], [0.1111111111111111, \"#46039f\"], [0.2222222222222222, \"#7201a8\"], [0.3333333333333333, \"#9c179e\"], [0.4444444444444444, \"#bd3786\"], [0.5555555555555556, \"#d8576b\"], [0.6666666666666666, \"#ed7953\"], [0.7777777777777778, \"#fb9f3a\"], [0.8888888888888888, \"#fdca26\"], [1.0, \"#f0f921\"]], \"type\": \"heatmapgl\"}], \"histogram\": [{\"marker\": {\"colorbar\": {\"outlinewidth\": 0, \"ticks\": \"\"}}, \"type\": \"histogram\"}], \"histogram2d\": [{\"colorbar\": {\"outlinewidth\": 0, \"ticks\": \"\"}, \"colorscale\": [[0.0, \"#0d0887\"], [0.1111111111111111, \"#46039f\"], [0.2222222222222222, \"#7201a8\"], [0.3333333333333333, \"#9c179e\"], [0.4444444444444444, \"#bd3786\"], [0.5555555555555556, \"#d8576b\"], [0.6666666666666666, \"#ed7953\"], [0.7777777777777778, \"#fb9f3a\"], [0.8888888888888888, \"#fdca26\"], [1.0, \"#f0f921\"]], \"type\": \"histogram2d\"}], \"histogram2dcontour\": [{\"colorbar\": {\"outlinewidth\": 0, \"ticks\": \"\"}, \"colorscale\": [[0.0, \"#0d0887\"], [0.1111111111111111, \"#46039f\"], [0.2222222222222222, \"#7201a8\"], [0.3333333333333333, \"#9c179e\"], [0.4444444444444444, \"#bd3786\"], [0.5555555555555556, \"#d8576b\"], [0.6666666666666666, \"#ed7953\"], [0.7777777777777778, \"#fb9f3a\"], [0.8888888888888888, \"#fdca26\"], [1.0, \"#f0f921\"]], \"type\": \"histogram2dcontour\"}], \"mesh3d\": [{\"colorbar\": {\"outlinewidth\": 0, \"ticks\": \"\"}, \"type\": \"mesh3d\"}], \"parcoords\": [{\"line\": {\"colorbar\": {\"outlinewidth\": 0, \"ticks\": \"\"}}, \"type\": \"parcoords\"}], \"pie\": [{\"automargin\": true, \"type\": \"pie\"}], \"scatter\": [{\"marker\": {\"colorbar\": {\"outlinewidth\": 0, \"ticks\": \"\"}}, \"type\": \"scatter\"}], \"scatter3d\": [{\"line\": {\"colorbar\": {\"outlinewidth\": 0, \"ticks\": \"\"}}, \"marker\": {\"colorbar\": {\"outlinewidth\": 0, \"ticks\": \"\"}}, \"type\": \"scatter3d\"}], \"scattercarpet\": [{\"marker\": {\"colorbar\": {\"outlinewidth\": 0, \"ticks\": \"\"}}, \"type\": \"scattercarpet\"}], \"scattergeo\": [{\"marker\": {\"colorbar\": {\"outlinewidth\": 0, \"ticks\": \"\"}}, \"type\": \"scattergeo\"}], \"scattergl\": [{\"marker\": {\"colorbar\": {\"outlinewidth\": 0, \"ticks\": \"\"}}, \"type\": \"scattergl\"}], \"scattermapbox\": [{\"marker\": {\"colorbar\": {\"outlinewidth\": 0, \"ticks\": \"\"}}, \"type\": \"scattermapbox\"}], \"scatterpolar\": [{\"marker\": {\"colorbar\": {\"outlinewidth\": 0, \"ticks\": \"\"}}, \"type\": \"scatterpolar\"}], \"scatterpolargl\": [{\"marker\": {\"colorbar\": {\"outlinewidth\": 0, \"ticks\": \"\"}}, \"type\": \"scatterpolargl\"}], \"scatterternary\": [{\"marker\": {\"colorbar\": {\"outlinewidth\": 0, \"ticks\": \"\"}}, \"type\": \"scatterternary\"}], \"surface\": [{\"colorbar\": {\"outlinewidth\": 0, \"ticks\": \"\"}, \"colorscale\": [[0.0, \"#0d0887\"], [0.1111111111111111, \"#46039f\"], [0.2222222222222222, \"#7201a8\"], [0.3333333333333333, \"#9c179e\"], [0.4444444444444444, \"#bd3786\"], [0.5555555555555556, \"#d8576b\"], [0.6666666666666666, \"#ed7953\"], [0.7777777777777778, \"#fb9f3a\"], [0.8888888888888888, \"#fdca26\"], [1.0, \"#f0f921\"]], \"type\": \"surface\"}], \"table\": [{\"cells\": {\"fill\": {\"color\": \"#EBF0F8\"}, \"line\": {\"color\": \"white\"}}, \"header\": {\"fill\": {\"color\": \"#C8D4E3\"}, \"line\": {\"color\": \"white\"}}, \"type\": \"table\"}]}, \"layout\": {\"annotationdefaults\": {\"arrowcolor\": \"#2a3f5f\", \"arrowhead\": 0, \"arrowwidth\": 1}, \"coloraxis\": {\"colorbar\": {\"outlinewidth\": 0, \"ticks\": \"\"}}, \"colorscale\": {\"diverging\": [[0, \"#8e0152\"], [0.1, \"#c51b7d\"], [0.2, \"#de77ae\"], [0.3, \"#f1b6da\"], [0.4, \"#fde0ef\"], [0.5, \"#f7f7f7\"], [0.6, \"#e6f5d0\"], [0.7, \"#b8e186\"], [0.8, \"#7fbc41\"], [0.9, \"#4d9221\"], [1, \"#276419\"]], \"sequential\": [[0.0, \"#0d0887\"], [0.1111111111111111, \"#46039f\"], [0.2222222222222222, \"#7201a8\"], [0.3333333333333333, \"#9c179e\"], [0.4444444444444444, \"#bd3786\"], [0.5555555555555556, \"#d8576b\"], [0.6666666666666666, \"#ed7953\"], [0.7777777777777778, \"#fb9f3a\"], [0.8888888888888888, \"#fdca26\"], [1.0, \"#f0f921\"]], \"sequentialminus\": [[0.0, \"#0d0887\"], [0.1111111111111111, \"#46039f\"], [0.2222222222222222, \"#7201a8\"], [0.3333333333333333, \"#9c179e\"], [0.4444444444444444, \"#bd3786\"], [0.5555555555555556, \"#d8576b\"], [0.6666666666666666, \"#ed7953\"], [0.7777777777777778, \"#fb9f3a\"], [0.8888888888888888, \"#fdca26\"], [1.0, \"#f0f921\"]]}, \"colorway\": [\"#636efa\", \"#EF553B\", \"#00cc96\", \"#ab63fa\", \"#FFA15A\", \"#19d3f3\", \"#FF6692\", \"#B6E880\", \"#FF97FF\", \"#FECB52\"], \"font\": {\"color\": \"#2a3f5f\"}, \"geo\": {\"bgcolor\": \"white\", \"lakecolor\": \"white\", \"landcolor\": \"#E5ECF6\", \"showlakes\": true, \"showland\": true, \"subunitcolor\": \"white\"}, \"hoverlabel\": {\"align\": \"left\"}, \"hovermode\": \"closest\", \"mapbox\": {\"style\": \"light\"}, \"paper_bgcolor\": \"white\", \"plot_bgcolor\": \"#E5ECF6\", \"polar\": {\"angularaxis\": {\"gridcolor\": \"white\", \"linecolor\": \"white\", \"ticks\": \"\"}, \"bgcolor\": \"#E5ECF6\", \"radialaxis\": {\"gridcolor\": \"white\", \"linecolor\": \"white\", \"ticks\": \"\"}}, \"scene\": {\"xaxis\": {\"backgroundcolor\": \"#E5ECF6\", \"gridcolor\": \"white\", \"gridwidth\": 2, \"linecolor\": \"white\", \"showbackground\": true, \"ticks\": \"\", \"zerolinecolor\": \"white\"}, \"yaxis\": {\"backgroundcolor\": \"#E5ECF6\", \"gridcolor\": \"white\", \"gridwidth\": 2, \"linecolor\": \"white\", \"showbackground\": true, \"ticks\": \"\", \"zerolinecolor\": \"white\"}, \"zaxis\": {\"backgroundcolor\": \"#E5ECF6\", \"gridcolor\": \"white\", \"gridwidth\": 2, \"linecolor\": \"white\", \"showbackground\": true, \"ticks\": \"\", \"zerolinecolor\": \"white\"}}, \"shapedefaults\": {\"line\": {\"color\": \"#2a3f5f\"}}, \"ternary\": {\"aaxis\": {\"gridcolor\": \"white\", \"linecolor\": \"white\", \"ticks\": \"\"}, \"baxis\": {\"gridcolor\": \"white\", \"linecolor\": \"white\", \"ticks\": \"\"}, \"bgcolor\": \"#E5ECF6\", \"caxis\": {\"gridcolor\": \"white\", \"linecolor\": \"white\", \"ticks\": \"\"}}, \"title\": {\"x\": 0.05}, \"xaxis\": {\"automargin\": true, \"gridcolor\": \"white\", \"linecolor\": \"white\", \"ticks\": \"\", \"title\": {\"standoff\": 15}, \"zerolinecolor\": \"white\", \"zerolinewidth\": 2}, \"yaxis\": {\"automargin\": true, \"gridcolor\": \"white\", \"linecolor\": \"white\", \"ticks\": \"\", \"title\": {\"standoff\": 15}, \"zerolinecolor\": \"white\", \"zerolinewidth\": 2}}}, \"xaxis\": {\"title\": {\"text\": \"Export/Import Quantities [tonnes] (Negative values represents exportation)\"}}},\n",
       "                        {\"responsive\": true}\n",
       "                    ).then(function(){\n",
       "                            \n",
       "var gd = document.getElementById('6577b859-be8d-4049-b577-eea122841a84');\n",
       "var x = new MutationObserver(function (mutations, observer) {{\n",
       "        var display = window.getComputedStyle(gd).display;\n",
       "        if (!display || display === 'none') {{\n",
       "            console.log([gd, 'removed!']);\n",
       "            Plotly.purge(gd);\n",
       "            observer.disconnect();\n",
       "        }}\n",
       "}});\n",
       "\n",
       "// Listen for the removal of the full notebook cells\n",
       "var notebookContainer = gd.closest('#notebook-container');\n",
       "if (notebookContainer) {{\n",
       "    x.observe(notebookContainer, {childList: true});\n",
       "}}\n",
       "\n",
       "// Listen for the clearing of the current output cell\n",
       "var outputEl = gd.closest('.output');\n",
       "if (outputEl) {{\n",
       "    x.observe(outputEl, {childList: true});\n",
       "}}\n",
       "\n",
       "                        })\n",
       "                };\n",
       "                });\n",
       "            </script>\n",
       "        </div>"
      ]
     },
     "metadata": {},
     "output_type": "display_data"
    }
   ],
   "source": [
    "fig = go.Figure(data=[\n",
    "    go.Bar(name='Import Q Bran', y=df_import_export.Country, x=df_import_export.import_q_bran,orientation='h'),\n",
    "    go.Bar(name='Import Q Bulgur', y=df_import_export.Country, x=df_import_export.import_q_bulgur,orientation='h'),\n",
    "    go.Bar(name='Import Q Flour Wheat', y=df_import_export.Country, x=df_import_export.import_q_flour_wheat,orientation='h'),\n",
    "    go.Bar(name='Import Q Wheat', y=df_import_export.Country, x=df_import_export.import_q_wheat,orientation='h'),\n",
    "    go.Bar(name='Export Q Flour Wheat', y=df_import_export.Country, x=df_import_export.export_q_flour_wheat,orientation='h'),\n",
    "    go.Bar(name='Export Q Wheat', y=df_import_export.Country, x=df_import_export.export_q_wheat,orientation='h'),\n",
    "    go.Bar(name='Export Q Bulgur', y=df_import_export.Country, x=df_import_export.export_q_bulgur,orientation='h'),\n",
    "    go.Bar(name='Export Q bran', y=df_import_export.Country, x=df_import_export.export_q_bran,orientation='h')\n",
    "\n",
    "])\n",
    "# Change the bar mode\n",
    "fig.update_layout(barmode='relative')\n",
    "fig.update_layout(\n",
    "    xaxis_title=\"Export/Import Quantities [tonnes] (Negative values represents exportation)\")\n",
    "fig.show()"
   ]
  },
  {
   "cell_type": "code",
   "execution_count": 565,
   "metadata": {},
   "outputs": [
    {
     "data": {
      "text/plain": [
       "'ImportExportWheat.html'"
      ]
     },
     "execution_count": 565,
     "metadata": {},
     "output_type": "execute_result"
    }
   ],
   "source": [
    "plotly.offline.plot(fig,filename='ImportExportWheat.html')"
   ]
  },
  {
   "cell_type": "markdown",
   "metadata": {},
   "source": [
    "## Coffee"
   ]
  },
  {
   "cell_type": "code",
   "execution_count": 566,
   "metadata": {},
   "outputs": [],
   "source": [
    "# load the specific dataset for the wheat\n",
    "df_coffee = pd.read_pickle(\"data/coffee_df.pkl\").dropna(subset=['Country'])"
   ]
  },
  {
   "cell_type": "code",
   "execution_count": 567,
   "metadata": {},
   "outputs": [
    {
     "data": {
      "text/plain": [
       "array(['Coffee, extracts', 'Coffee, green', 'Coffee, husks and skins',\n",
       "       'Coffee, roasted', 'Coffee, substitutes containing coffee'],\n",
       "      dtype=object)"
      ]
     },
     "execution_count": 567,
     "metadata": {},
     "output_type": "execute_result"
    }
   ],
   "source": [
    "df_coffee.item_trades.unique()"
   ]
  },
  {
   "cell_type": "code",
   "execution_count": 568,
   "metadata": {},
   "outputs": [],
   "source": [
    "# Creation of the dataframe for the wheat for 2016\n",
    "df_coffee_trades = df_coffee[df_coffee.year==2016].groupby(['Country','item_trades']).sum().reset_index()"
   ]
  },
  {
   "cell_type": "code",
   "execution_count": 569,
   "metadata": {},
   "outputs": [],
   "source": [
    "# Extraction of the 50 biggest \"players\"\n",
    "df_big_players = df_coffee_trades.groupby(['Country']).sum().reset_index()\n",
    "df_big_players['tot_fluxes'] = df_big_players.import_q + df_big_players.export_q\n",
    "df_big_players = df_big_players.sort_values(by='tot_fluxes',ascending=False).head(50)"
   ]
  },
  {
   "cell_type": "code",
   "execution_count": 570,
   "metadata": {},
   "outputs": [],
   "source": [
    "# Create a new dataframe with the countries of interest\n",
    "df_coffee_trades = df_coffee_trades[df_coffee_trades.Country.isin(df_big_players.Country.values)]"
   ]
  },
  {
   "cell_type": "code",
   "execution_count": 571,
   "metadata": {},
   "outputs": [],
   "source": [
    "df_import_export = df_coffee_trades.pivot(index='Country', columns='item_trades', values=['import_q','export_q'])#.plot.bar(stacked=True,figsize=(20,7))"
   ]
  },
  {
   "cell_type": "code",
   "execution_count": 572,
   "metadata": {},
   "outputs": [],
   "source": [
    "# deal with index to flatten\n",
    "df_import_export.columns = [' '.join(col).strip() for col in df_import_export.columns.values]\n",
    "# rename columns according to our nomenclature\n",
    "df_import_export.rename(columns= {'import_q Coffee, extracts': 'import_q_coffee_extracts', \n",
    "                    'import_q Coffee, green': 'import_q_coffee_green',\\\n",
    "                    'import_q Coffee, husks and skins':'import_q_coffee_husks_and_skins',\n",
    "                    'import_q Coffee, roasted':'import_q_coffee_roasted',\n",
    "                    'import_q Coffee, substitutes containing coffee':'import_q_coffee_substitutes_containing_coffee',\n",
    "                    'export_q Coffee, extracts': 'export_q_coffee_extracts', \n",
    "                    'export_q Coffee, green': 'export_q_coffee_green',\\\n",
    "                    'export_q Coffee, husks and skins':'export_q_coffee_husks_and_skins',\n",
    "                    'export_q Coffee, roasted':'export_q_coffee_roasted',\n",
    "                    'export_q Coffee, substitutes containing coffee':'export_q_coffee_substitutes_containing_coffee'}, inplace=True)"
   ]
  },
  {
   "cell_type": "code",
   "execution_count": 573,
   "metadata": {},
   "outputs": [],
   "source": [
    "# Attribute negative values to exportation\n",
    "df_import_export.loc[:,'export_q_coffee_extracts'] = -1*df_import_export.loc[:,'export_q_coffee_extracts']\n",
    "df_import_export.loc[:,'export_q_coffee_green'] = -1*df_import_export.loc[:,'export_q_coffee_green']\n",
    "df_import_export.loc[:,'export_q_coffee_husks_and_skins'] = -1*df_import_export.loc[:,'export_q_coffee_husks_and_skins']\n",
    "df_import_export.loc[:,'export_q_coffee_roasted'] = -1*df_import_export.loc[:,'export_q_coffee_roasted']\n",
    "df_import_export.loc[:,'export_q_coffee_substitutes_containing_coffee'] = -1*df_import_export.loc[:,'export_q_coffee_substitutes_containing_coffee']\n",
    "df_import_export.reset_index(inplace=True)"
   ]
  },
  {
   "cell_type": "code",
   "execution_count": 574,
   "metadata": {
    "scrolled": false
   },
   "outputs": [
    {
     "data": {
      "application/vnd.plotly.v1+json": {
       "config": {
        "plotlyServerURL": "https://plot.ly"
       },
       "data": [
        {
         "name": "Import Q Coffee, extracts",
         "orientation": "h",
         "type": "bar",
         "x": [
          1166,
          20309,
          8217,
          11664,
          821,
          8252,
          33376,
          24434,
          8847,
          47532,
          2556,
          759,
          18364,
          959,
          54,
          1232,
          24220,
          63212,
          11750,
          4766,
          476,
          10125,
          1883,
          13401,
          11849,
          21179,
          19176,
          12376,
          14554,
          366,
          270,
          4989,
          151578,
          31254,
          3480,
          10301,
          8175,
          63686,
          9515,
          6698,
          12339,
          6505,
          2452,
          16776,
          12618,
          193,
          41627,
          121,
          48142,
          11806
         ],
         "y": [
          "Algeria",
          "Australia",
          "Austria",
          "Belgium",
          "Brazil",
          "Bulgaria",
          "Canada",
          "China, Hong Kong SAR",
          "China, Taiwan Province of",
          "China, mainland",
          "Colombia",
          "Costa Rica",
          "Czechia",
          "Côte d'Ivoire",
          "Ethiopia",
          "Finland",
          "France",
          "Germany",
          "Greece",
          "Guatemala",
          "Honduras",
          "Hungary",
          "India",
          "Indonesia",
          "Italy",
          "Japan",
          "Malaysia",
          "Mexico",
          "Netherlands",
          "Nicaragua",
          "Pakistan",
          "Peru",
          "Philippines",
          "Poland",
          "Portugal",
          "Republic of Korea",
          "Romania",
          "Russian Federation",
          "Saudi Arabia",
          "Slovakia",
          "Spain",
          "Sweden",
          "Switzerland",
          "Thailand",
          "Turkey",
          "Uganda",
          "United Kingdom",
          "United Republic of Tanzania",
          "United States of America",
          "Viet Nam"
         ]
        },
        {
         "name": "Import Q Coffee, green",
         "orientation": "h",
         "type": "bar",
         "x": [
          138298,
          83039,
          16135,
          288740,
          14,
          32483,
          183894,
          4442,
          25558,
          50573,
          11799,
          7771,
          17624,
          235,
          13,
          71324,
          209884,
          1140989,
          49246,
          4,
          4,
          2064,
          71002,
          24659,
          580274,
          435140,
          86962,
          65669,
          166334,
          1670,
          0,
          21,
          43610,
          103554,
          53628,
          142860,
          20375,
          150932,
          44248,
          3429,
          287504,
          110652,
          151644,
          46084,
          39701,
          119,
          178347,
          5,
          1518126,
          20334
         ],
         "y": [
          "Algeria",
          "Australia",
          "Austria",
          "Belgium",
          "Brazil",
          "Bulgaria",
          "Canada",
          "China, Hong Kong SAR",
          "China, Taiwan Province of",
          "China, mainland",
          "Colombia",
          "Costa Rica",
          "Czechia",
          "Côte d'Ivoire",
          "Ethiopia",
          "Finland",
          "France",
          "Germany",
          "Greece",
          "Guatemala",
          "Honduras",
          "Hungary",
          "India",
          "Indonesia",
          "Italy",
          "Japan",
          "Malaysia",
          "Mexico",
          "Netherlands",
          "Nicaragua",
          "Pakistan",
          "Peru",
          "Philippines",
          "Poland",
          "Portugal",
          "Republic of Korea",
          "Romania",
          "Russian Federation",
          "Saudi Arabia",
          "Slovakia",
          "Spain",
          "Sweden",
          "Switzerland",
          "Thailand",
          "Turkey",
          "Uganda",
          "United Kingdom",
          "United Republic of Tanzania",
          "United States of America",
          "Viet Nam"
         ]
        },
        {
         "name": "Import Q Coffee, husks and skins",
         "orientation": "h",
         "type": "bar",
         "x": [
          57,
          0,
          0,
          48,
          0,
          13,
          0,
          26,
          1,
          0,
          0,
          0,
          0,
          0,
          51,
          0,
          724,
          6,
          121,
          0,
          0,
          0,
          0,
          0,
          1,
          0,
          119,
          0,
          21,
          0,
          101,
          1,
          0,
          568,
          26,
          0,
          0,
          1,
          195,
          38,
          18,
          18,
          0,
          0,
          0,
          10262,
          10,
          50,
          112,
          0
         ],
         "y": [
          "Algeria",
          "Australia",
          "Austria",
          "Belgium",
          "Brazil",
          "Bulgaria",
          "Canada",
          "China, Hong Kong SAR",
          "China, Taiwan Province of",
          "China, mainland",
          "Colombia",
          "Costa Rica",
          "Czechia",
          "Côte d'Ivoire",
          "Ethiopia",
          "Finland",
          "France",
          "Germany",
          "Greece",
          "Guatemala",
          "Honduras",
          "Hungary",
          "India",
          "Indonesia",
          "Italy",
          "Japan",
          "Malaysia",
          "Mexico",
          "Netherlands",
          "Nicaragua",
          "Pakistan",
          "Peru",
          "Philippines",
          "Poland",
          "Portugal",
          "Republic of Korea",
          "Romania",
          "Russian Federation",
          "Saudi Arabia",
          "Slovakia",
          "Spain",
          "Sweden",
          "Switzerland",
          "Thailand",
          "Turkey",
          "Uganda",
          "United Kingdom",
          "United Republic of Tanzania",
          "United States of America",
          "Viet Nam"
         ]
        },
        {
         "name": "Import Q Coffee, roasted",
         "orientation": "h",
         "type": "bar",
         "x": [
          343,
          15750,
          47900,
          30440,
          3007,
          6356,
          64960,
          21430,
          4796,
          33733,
          151,
          332,
          44022,
          164,
          11,
          8350,
          131937,
          77746,
          15732,
          81,
          21,
          21579,
          92,
          513,
          16122,
          7499,
          4033,
          3704,
          58573,
          30,
          39,
          218,
          1731,
          43721,
          7418,
          10095,
          29637,
          20451,
          2822,
          33598,
          27921,
          14056,
          11798,
          1350,
          3340,
          26,
          41110,
          4,
          85187,
          3313
         ],
         "y": [
          "Algeria",
          "Australia",
          "Austria",
          "Belgium",
          "Brazil",
          "Bulgaria",
          "Canada",
          "China, Hong Kong SAR",
          "China, Taiwan Province of",
          "China, mainland",
          "Colombia",
          "Costa Rica",
          "Czechia",
          "Côte d'Ivoire",
          "Ethiopia",
          "Finland",
          "France",
          "Germany",
          "Greece",
          "Guatemala",
          "Honduras",
          "Hungary",
          "India",
          "Indonesia",
          "Italy",
          "Japan",
          "Malaysia",
          "Mexico",
          "Netherlands",
          "Nicaragua",
          "Pakistan",
          "Peru",
          "Philippines",
          "Poland",
          "Portugal",
          "Republic of Korea",
          "Romania",
          "Russian Federation",
          "Saudi Arabia",
          "Slovakia",
          "Spain",
          "Sweden",
          "Switzerland",
          "Thailand",
          "Turkey",
          "Uganda",
          "United Kingdom",
          "United Republic of Tanzania",
          "United States of America",
          "Viet Nam"
         ]
        },
        {
         "name": "Import Q Coffee, substitutes containing coffee",
         "orientation": "h",
         "type": "bar",
         "x": [
          0,
          463,
          113,
          44,
          0,
          11,
          879,
          0,
          1,
          17,
          0,
          0,
          170,
          1,
          0,
          50,
          498,
          111,
          94,
          9,
          2235,
          57,
          7,
          0,
          509,
          8,
          0,
          0,
          685,
          0,
          129844,
          0,
          97,
          705,
          774,
          74,
          543,
          120,
          169,
          359,
          4997,
          61,
          9,
          0,
          0,
          0,
          653,
          0,
          61,
          24
         ],
         "y": [
          "Algeria",
          "Australia",
          "Austria",
          "Belgium",
          "Brazil",
          "Bulgaria",
          "Canada",
          "China, Hong Kong SAR",
          "China, Taiwan Province of",
          "China, mainland",
          "Colombia",
          "Costa Rica",
          "Czechia",
          "Côte d'Ivoire",
          "Ethiopia",
          "Finland",
          "France",
          "Germany",
          "Greece",
          "Guatemala",
          "Honduras",
          "Hungary",
          "India",
          "Indonesia",
          "Italy",
          "Japan",
          "Malaysia",
          "Mexico",
          "Netherlands",
          "Nicaragua",
          "Pakistan",
          "Peru",
          "Philippines",
          "Poland",
          "Portugal",
          "Republic of Korea",
          "Romania",
          "Russian Federation",
          "Saudi Arabia",
          "Slovakia",
          "Spain",
          "Sweden",
          "Switzerland",
          "Thailand",
          "Turkey",
          "Uganda",
          "United Kingdom",
          "United Republic of Tanzania",
          "United States of America",
          "Viet Nam"
         ]
        },
        {
         "name": "Export Q Coffee, extracts",
         "orientation": "h",
         "type": "bar",
         "x": [
          -9,
          -5007,
          -3375,
          -12107,
          -92222,
          -770,
          -825,
          -6709,
          -19361,
          -39655,
          -19917,
          -17,
          -17083,
          -4593,
          0,
          -43,
          -18539,
          -92755,
          -1679,
          -83,
          -15,
          -20174,
          -59579,
          -143190,
          -6017,
          -1930,
          -90252,
          -17492,
          -24491,
          -1430,
          -13,
          -116,
          -2168,
          -29869,
          -893,
          -30127,
          -6124,
          -20876,
          -830,
          -786,
          -33964,
          -4301,
          -10087,
          -34749,
          -6372,
          -93,
          -34393,
          -81,
          -43729,
          -71441
         ],
         "y": [
          "Algeria",
          "Australia",
          "Austria",
          "Belgium",
          "Brazil",
          "Bulgaria",
          "Canada",
          "China, Hong Kong SAR",
          "China, Taiwan Province of",
          "China, mainland",
          "Colombia",
          "Costa Rica",
          "Czechia",
          "Côte d'Ivoire",
          "Ethiopia",
          "Finland",
          "France",
          "Germany",
          "Greece",
          "Guatemala",
          "Honduras",
          "Hungary",
          "India",
          "Indonesia",
          "Italy",
          "Japan",
          "Malaysia",
          "Mexico",
          "Netherlands",
          "Nicaragua",
          "Pakistan",
          "Peru",
          "Philippines",
          "Poland",
          "Portugal",
          "Republic of Korea",
          "Romania",
          "Russian Federation",
          "Saudi Arabia",
          "Slovakia",
          "Spain",
          "Sweden",
          "Switzerland",
          "Thailand",
          "Turkey",
          "Uganda",
          "United Kingdom",
          "United Republic of Tanzania",
          "United States of America",
          "Viet Nam"
         ]
        },
        {
         "name": "Export Q Coffee, green",
         "orientation": "h",
         "type": "bar",
         "x": [
          0,
          -824,
          -180,
          -188781,
          -1823886,
          -1201,
          -14868,
          -263,
          -817,
          -82666,
          -734689,
          -75495,
          -1512,
          -73409,
          -159712,
          -8995,
          -4995,
          -335643,
          -6520,
          -182588,
          -309924,
          -394,
          -250415,
          -412529,
          -11655,
          -131,
          -934,
          -79916,
          -19502,
          -117657,
          0,
          -239343,
          -6,
          -3158,
          -1550,
          -155,
          -113,
          -256,
          -121,
          -84,
          -31036,
          -1318,
          -1729,
          -334,
          -19,
          -210584,
          -14677,
          -57925,
          -40628,
          -1400000
         ],
         "y": [
          "Algeria",
          "Australia",
          "Austria",
          "Belgium",
          "Brazil",
          "Bulgaria",
          "Canada",
          "China, Hong Kong SAR",
          "China, Taiwan Province of",
          "China, mainland",
          "Colombia",
          "Costa Rica",
          "Czechia",
          "Côte d'Ivoire",
          "Ethiopia",
          "Finland",
          "France",
          "Germany",
          "Greece",
          "Guatemala",
          "Honduras",
          "Hungary",
          "India",
          "Indonesia",
          "Italy",
          "Japan",
          "Malaysia",
          "Mexico",
          "Netherlands",
          "Nicaragua",
          "Pakistan",
          "Peru",
          "Philippines",
          "Poland",
          "Portugal",
          "Republic of Korea",
          "Romania",
          "Russian Federation",
          "Saudi Arabia",
          "Slovakia",
          "Spain",
          "Sweden",
          "Switzerland",
          "Thailand",
          "Turkey",
          "Uganda",
          "United Kingdom",
          "United Republic of Tanzania",
          "United States of America",
          "Viet Nam"
         ]
        },
        {
         "name": "Export Q Coffee, husks and skins",
         "orientation": "h",
         "type": "bar",
         "x": [
          0,
          0,
          0,
          -10,
          0,
          0,
          0,
          -87,
          0,
          0,
          0,
          0,
          0,
          0,
          -48,
          0,
          -100,
          -4,
          -18,
          0,
          0,
          -6,
          -395,
          -25,
          -26,
          0,
          -190,
          0,
          -2,
          0,
          -28,
          -216,
          0,
          -2,
          -111,
          0,
          0,
          0,
          -18,
          -76,
          -3,
          0,
          0,
          -2,
          0,
          -132,
          -27,
          -74,
          -98,
          -10
         ],
         "y": [
          "Algeria",
          "Australia",
          "Austria",
          "Belgium",
          "Brazil",
          "Bulgaria",
          "Canada",
          "China, Hong Kong SAR",
          "China, Taiwan Province of",
          "China, mainland",
          "Colombia",
          "Costa Rica",
          "Czechia",
          "Côte d'Ivoire",
          "Ethiopia",
          "Finland",
          "France",
          "Germany",
          "Greece",
          "Guatemala",
          "Honduras",
          "Hungary",
          "India",
          "Indonesia",
          "Italy",
          "Japan",
          "Malaysia",
          "Mexico",
          "Netherlands",
          "Nicaragua",
          "Pakistan",
          "Peru",
          "Philippines",
          "Poland",
          "Portugal",
          "Republic of Korea",
          "Romania",
          "Russian Federation",
          "Saudi Arabia",
          "Slovakia",
          "Spain",
          "Sweden",
          "Switzerland",
          "Thailand",
          "Turkey",
          "Uganda",
          "United Kingdom",
          "United Republic of Tanzania",
          "United States of America",
          "Viet Nam"
         ]
        },
        {
         "name": "Export Q Coffee, roasted",
         "orientation": "h",
         "type": "bar",
         "x": [
          -1,
          -2870,
          -12460,
          -64380,
          -2133,
          -15036,
          -48499,
          -3933,
          -248,
          -28089,
          -4831,
          -383,
          -36370,
          -1,
          -55,
          -4572,
          -29696,
          -215472,
          -1046,
          -63,
          -95,
          -9503,
          -309,
          -2085,
          -198570,
          -2093,
          -8247,
          -9122,
          -67044,
          -400,
          0,
          -72,
          -12,
          -62233,
          -12055,
          -240,
          -1243,
          -4697,
          -107,
          -32728,
          -19487,
          -22644,
          -65815,
          -185,
          -1034,
          -24,
          -22895,
          -118,
          -88927,
          -25551
         ],
         "y": [
          "Algeria",
          "Australia",
          "Austria",
          "Belgium",
          "Brazil",
          "Bulgaria",
          "Canada",
          "China, Hong Kong SAR",
          "China, Taiwan Province of",
          "China, mainland",
          "Colombia",
          "Costa Rica",
          "Czechia",
          "Côte d'Ivoire",
          "Ethiopia",
          "Finland",
          "France",
          "Germany",
          "Greece",
          "Guatemala",
          "Honduras",
          "Hungary",
          "India",
          "Indonesia",
          "Italy",
          "Japan",
          "Malaysia",
          "Mexico",
          "Netherlands",
          "Nicaragua",
          "Pakistan",
          "Peru",
          "Philippines",
          "Poland",
          "Portugal",
          "Republic of Korea",
          "Romania",
          "Russian Federation",
          "Saudi Arabia",
          "Slovakia",
          "Spain",
          "Sweden",
          "Switzerland",
          "Thailand",
          "Turkey",
          "Uganda",
          "United Kingdom",
          "United Republic of Tanzania",
          "United States of America",
          "Viet Nam"
         ]
        },
        {
         "name": "Export Q Coffee, substitutes containing coffee",
         "orientation": "h",
         "type": "bar",
         "x": [
          0,
          -597,
          -32,
          -55,
          -35,
          -870,
          -77,
          0,
          -2,
          -2,
          -10,
          -12,
          -226,
          0,
          0,
          0,
          -60,
          -64,
          -4,
          -51,
          -40,
          -47,
          -305,
          -13,
          -331,
          0,
          0,
          -13,
          -90,
          -2962,
          -2,
          0,
          -24,
          -1161,
          -433,
          -15,
          -11,
          -1,
          -146,
          -410,
          -537,
          -344,
          -4,
          0,
          -60,
          0,
          -96,
          0,
          -695,
          -2210
         ],
         "y": [
          "Algeria",
          "Australia",
          "Austria",
          "Belgium",
          "Brazil",
          "Bulgaria",
          "Canada",
          "China, Hong Kong SAR",
          "China, Taiwan Province of",
          "China, mainland",
          "Colombia",
          "Costa Rica",
          "Czechia",
          "Côte d'Ivoire",
          "Ethiopia",
          "Finland",
          "France",
          "Germany",
          "Greece",
          "Guatemala",
          "Honduras",
          "Hungary",
          "India",
          "Indonesia",
          "Italy",
          "Japan",
          "Malaysia",
          "Mexico",
          "Netherlands",
          "Nicaragua",
          "Pakistan",
          "Peru",
          "Philippines",
          "Poland",
          "Portugal",
          "Republic of Korea",
          "Romania",
          "Russian Federation",
          "Saudi Arabia",
          "Slovakia",
          "Spain",
          "Sweden",
          "Switzerland",
          "Thailand",
          "Turkey",
          "Uganda",
          "United Kingdom",
          "United Republic of Tanzania",
          "United States of America",
          "Viet Nam"
         ]
        }
       ],
       "layout": {
        "barmode": "relative",
        "template": {
         "data": {
          "bar": [
           {
            "error_x": {
             "color": "#2a3f5f"
            },
            "error_y": {
             "color": "#2a3f5f"
            },
            "marker": {
             "line": {
              "color": "#E5ECF6",
              "width": 0.5
             }
            },
            "type": "bar"
           }
          ],
          "barpolar": [
           {
            "marker": {
             "line": {
              "color": "#E5ECF6",
              "width": 0.5
             }
            },
            "type": "barpolar"
           }
          ],
          "carpet": [
           {
            "aaxis": {
             "endlinecolor": "#2a3f5f",
             "gridcolor": "white",
             "linecolor": "white",
             "minorgridcolor": "white",
             "startlinecolor": "#2a3f5f"
            },
            "baxis": {
             "endlinecolor": "#2a3f5f",
             "gridcolor": "white",
             "linecolor": "white",
             "minorgridcolor": "white",
             "startlinecolor": "#2a3f5f"
            },
            "type": "carpet"
           }
          ],
          "choropleth": [
           {
            "colorbar": {
             "outlinewidth": 0,
             "ticks": ""
            },
            "type": "choropleth"
           }
          ],
          "contour": [
           {
            "colorbar": {
             "outlinewidth": 0,
             "ticks": ""
            },
            "colorscale": [
             [
              0,
              "#0d0887"
             ],
             [
              0.1111111111111111,
              "#46039f"
             ],
             [
              0.2222222222222222,
              "#7201a8"
             ],
             [
              0.3333333333333333,
              "#9c179e"
             ],
             [
              0.4444444444444444,
              "#bd3786"
             ],
             [
              0.5555555555555556,
              "#d8576b"
             ],
             [
              0.6666666666666666,
              "#ed7953"
             ],
             [
              0.7777777777777778,
              "#fb9f3a"
             ],
             [
              0.8888888888888888,
              "#fdca26"
             ],
             [
              1,
              "#f0f921"
             ]
            ],
            "type": "contour"
           }
          ],
          "contourcarpet": [
           {
            "colorbar": {
             "outlinewidth": 0,
             "ticks": ""
            },
            "type": "contourcarpet"
           }
          ],
          "heatmap": [
           {
            "colorbar": {
             "outlinewidth": 0,
             "ticks": ""
            },
            "colorscale": [
             [
              0,
              "#0d0887"
             ],
             [
              0.1111111111111111,
              "#46039f"
             ],
             [
              0.2222222222222222,
              "#7201a8"
             ],
             [
              0.3333333333333333,
              "#9c179e"
             ],
             [
              0.4444444444444444,
              "#bd3786"
             ],
             [
              0.5555555555555556,
              "#d8576b"
             ],
             [
              0.6666666666666666,
              "#ed7953"
             ],
             [
              0.7777777777777778,
              "#fb9f3a"
             ],
             [
              0.8888888888888888,
              "#fdca26"
             ],
             [
              1,
              "#f0f921"
             ]
            ],
            "type": "heatmap"
           }
          ],
          "heatmapgl": [
           {
            "colorbar": {
             "outlinewidth": 0,
             "ticks": ""
            },
            "colorscale": [
             [
              0,
              "#0d0887"
             ],
             [
              0.1111111111111111,
              "#46039f"
             ],
             [
              0.2222222222222222,
              "#7201a8"
             ],
             [
              0.3333333333333333,
              "#9c179e"
             ],
             [
              0.4444444444444444,
              "#bd3786"
             ],
             [
              0.5555555555555556,
              "#d8576b"
             ],
             [
              0.6666666666666666,
              "#ed7953"
             ],
             [
              0.7777777777777778,
              "#fb9f3a"
             ],
             [
              0.8888888888888888,
              "#fdca26"
             ],
             [
              1,
              "#f0f921"
             ]
            ],
            "type": "heatmapgl"
           }
          ],
          "histogram": [
           {
            "marker": {
             "colorbar": {
              "outlinewidth": 0,
              "ticks": ""
             }
            },
            "type": "histogram"
           }
          ],
          "histogram2d": [
           {
            "colorbar": {
             "outlinewidth": 0,
             "ticks": ""
            },
            "colorscale": [
             [
              0,
              "#0d0887"
             ],
             [
              0.1111111111111111,
              "#46039f"
             ],
             [
              0.2222222222222222,
              "#7201a8"
             ],
             [
              0.3333333333333333,
              "#9c179e"
             ],
             [
              0.4444444444444444,
              "#bd3786"
             ],
             [
              0.5555555555555556,
              "#d8576b"
             ],
             [
              0.6666666666666666,
              "#ed7953"
             ],
             [
              0.7777777777777778,
              "#fb9f3a"
             ],
             [
              0.8888888888888888,
              "#fdca26"
             ],
             [
              1,
              "#f0f921"
             ]
            ],
            "type": "histogram2d"
           }
          ],
          "histogram2dcontour": [
           {
            "colorbar": {
             "outlinewidth": 0,
             "ticks": ""
            },
            "colorscale": [
             [
              0,
              "#0d0887"
             ],
             [
              0.1111111111111111,
              "#46039f"
             ],
             [
              0.2222222222222222,
              "#7201a8"
             ],
             [
              0.3333333333333333,
              "#9c179e"
             ],
             [
              0.4444444444444444,
              "#bd3786"
             ],
             [
              0.5555555555555556,
              "#d8576b"
             ],
             [
              0.6666666666666666,
              "#ed7953"
             ],
             [
              0.7777777777777778,
              "#fb9f3a"
             ],
             [
              0.8888888888888888,
              "#fdca26"
             ],
             [
              1,
              "#f0f921"
             ]
            ],
            "type": "histogram2dcontour"
           }
          ],
          "mesh3d": [
           {
            "colorbar": {
             "outlinewidth": 0,
             "ticks": ""
            },
            "type": "mesh3d"
           }
          ],
          "parcoords": [
           {
            "line": {
             "colorbar": {
              "outlinewidth": 0,
              "ticks": ""
             }
            },
            "type": "parcoords"
           }
          ],
          "pie": [
           {
            "automargin": true,
            "type": "pie"
           }
          ],
          "scatter": [
           {
            "marker": {
             "colorbar": {
              "outlinewidth": 0,
              "ticks": ""
             }
            },
            "type": "scatter"
           }
          ],
          "scatter3d": [
           {
            "line": {
             "colorbar": {
              "outlinewidth": 0,
              "ticks": ""
             }
            },
            "marker": {
             "colorbar": {
              "outlinewidth": 0,
              "ticks": ""
             }
            },
            "type": "scatter3d"
           }
          ],
          "scattercarpet": [
           {
            "marker": {
             "colorbar": {
              "outlinewidth": 0,
              "ticks": ""
             }
            },
            "type": "scattercarpet"
           }
          ],
          "scattergeo": [
           {
            "marker": {
             "colorbar": {
              "outlinewidth": 0,
              "ticks": ""
             }
            },
            "type": "scattergeo"
           }
          ],
          "scattergl": [
           {
            "marker": {
             "colorbar": {
              "outlinewidth": 0,
              "ticks": ""
             }
            },
            "type": "scattergl"
           }
          ],
          "scattermapbox": [
           {
            "marker": {
             "colorbar": {
              "outlinewidth": 0,
              "ticks": ""
             }
            },
            "type": "scattermapbox"
           }
          ],
          "scatterpolar": [
           {
            "marker": {
             "colorbar": {
              "outlinewidth": 0,
              "ticks": ""
             }
            },
            "type": "scatterpolar"
           }
          ],
          "scatterpolargl": [
           {
            "marker": {
             "colorbar": {
              "outlinewidth": 0,
              "ticks": ""
             }
            },
            "type": "scatterpolargl"
           }
          ],
          "scatterternary": [
           {
            "marker": {
             "colorbar": {
              "outlinewidth": 0,
              "ticks": ""
             }
            },
            "type": "scatterternary"
           }
          ],
          "surface": [
           {
            "colorbar": {
             "outlinewidth": 0,
             "ticks": ""
            },
            "colorscale": [
             [
              0,
              "#0d0887"
             ],
             [
              0.1111111111111111,
              "#46039f"
             ],
             [
              0.2222222222222222,
              "#7201a8"
             ],
             [
              0.3333333333333333,
              "#9c179e"
             ],
             [
              0.4444444444444444,
              "#bd3786"
             ],
             [
              0.5555555555555556,
              "#d8576b"
             ],
             [
              0.6666666666666666,
              "#ed7953"
             ],
             [
              0.7777777777777778,
              "#fb9f3a"
             ],
             [
              0.8888888888888888,
              "#fdca26"
             ],
             [
              1,
              "#f0f921"
             ]
            ],
            "type": "surface"
           }
          ],
          "table": [
           {
            "cells": {
             "fill": {
              "color": "#EBF0F8"
             },
             "line": {
              "color": "white"
             }
            },
            "header": {
             "fill": {
              "color": "#C8D4E3"
             },
             "line": {
              "color": "white"
             }
            },
            "type": "table"
           }
          ]
         },
         "layout": {
          "annotationdefaults": {
           "arrowcolor": "#2a3f5f",
           "arrowhead": 0,
           "arrowwidth": 1
          },
          "coloraxis": {
           "colorbar": {
            "outlinewidth": 0,
            "ticks": ""
           }
          },
          "colorscale": {
           "diverging": [
            [
             0,
             "#8e0152"
            ],
            [
             0.1,
             "#c51b7d"
            ],
            [
             0.2,
             "#de77ae"
            ],
            [
             0.3,
             "#f1b6da"
            ],
            [
             0.4,
             "#fde0ef"
            ],
            [
             0.5,
             "#f7f7f7"
            ],
            [
             0.6,
             "#e6f5d0"
            ],
            [
             0.7,
             "#b8e186"
            ],
            [
             0.8,
             "#7fbc41"
            ],
            [
             0.9,
             "#4d9221"
            ],
            [
             1,
             "#276419"
            ]
           ],
           "sequential": [
            [
             0,
             "#0d0887"
            ],
            [
             0.1111111111111111,
             "#46039f"
            ],
            [
             0.2222222222222222,
             "#7201a8"
            ],
            [
             0.3333333333333333,
             "#9c179e"
            ],
            [
             0.4444444444444444,
             "#bd3786"
            ],
            [
             0.5555555555555556,
             "#d8576b"
            ],
            [
             0.6666666666666666,
             "#ed7953"
            ],
            [
             0.7777777777777778,
             "#fb9f3a"
            ],
            [
             0.8888888888888888,
             "#fdca26"
            ],
            [
             1,
             "#f0f921"
            ]
           ],
           "sequentialminus": [
            [
             0,
             "#0d0887"
            ],
            [
             0.1111111111111111,
             "#46039f"
            ],
            [
             0.2222222222222222,
             "#7201a8"
            ],
            [
             0.3333333333333333,
             "#9c179e"
            ],
            [
             0.4444444444444444,
             "#bd3786"
            ],
            [
             0.5555555555555556,
             "#d8576b"
            ],
            [
             0.6666666666666666,
             "#ed7953"
            ],
            [
             0.7777777777777778,
             "#fb9f3a"
            ],
            [
             0.8888888888888888,
             "#fdca26"
            ],
            [
             1,
             "#f0f921"
            ]
           ]
          },
          "colorway": [
           "#636efa",
           "#EF553B",
           "#00cc96",
           "#ab63fa",
           "#FFA15A",
           "#19d3f3",
           "#FF6692",
           "#B6E880",
           "#FF97FF",
           "#FECB52"
          ],
          "font": {
           "color": "#2a3f5f"
          },
          "geo": {
           "bgcolor": "white",
           "lakecolor": "white",
           "landcolor": "#E5ECF6",
           "showlakes": true,
           "showland": true,
           "subunitcolor": "white"
          },
          "hoverlabel": {
           "align": "left"
          },
          "hovermode": "closest",
          "mapbox": {
           "style": "light"
          },
          "paper_bgcolor": "white",
          "plot_bgcolor": "#E5ECF6",
          "polar": {
           "angularaxis": {
            "gridcolor": "white",
            "linecolor": "white",
            "ticks": ""
           },
           "bgcolor": "#E5ECF6",
           "radialaxis": {
            "gridcolor": "white",
            "linecolor": "white",
            "ticks": ""
           }
          },
          "scene": {
           "xaxis": {
            "backgroundcolor": "#E5ECF6",
            "gridcolor": "white",
            "gridwidth": 2,
            "linecolor": "white",
            "showbackground": true,
            "ticks": "",
            "zerolinecolor": "white"
           },
           "yaxis": {
            "backgroundcolor": "#E5ECF6",
            "gridcolor": "white",
            "gridwidth": 2,
            "linecolor": "white",
            "showbackground": true,
            "ticks": "",
            "zerolinecolor": "white"
           },
           "zaxis": {
            "backgroundcolor": "#E5ECF6",
            "gridcolor": "white",
            "gridwidth": 2,
            "linecolor": "white",
            "showbackground": true,
            "ticks": "",
            "zerolinecolor": "white"
           }
          },
          "shapedefaults": {
           "line": {
            "color": "#2a3f5f"
           }
          },
          "ternary": {
           "aaxis": {
            "gridcolor": "white",
            "linecolor": "white",
            "ticks": ""
           },
           "baxis": {
            "gridcolor": "white",
            "linecolor": "white",
            "ticks": ""
           },
           "bgcolor": "#E5ECF6",
           "caxis": {
            "gridcolor": "white",
            "linecolor": "white",
            "ticks": ""
           }
          },
          "title": {
           "x": 0.05
          },
          "xaxis": {
           "automargin": true,
           "gridcolor": "white",
           "linecolor": "white",
           "ticks": "",
           "title": {
            "standoff": 15
           },
           "zerolinecolor": "white",
           "zerolinewidth": 2
          },
          "yaxis": {
           "automargin": true,
           "gridcolor": "white",
           "linecolor": "white",
           "ticks": "",
           "title": {
            "standoff": 15
           },
           "zerolinecolor": "white",
           "zerolinewidth": 2
          }
         }
        },
        "xaxis": {
         "title": {
          "text": "Export/Import Quantities [tonnes] (Negative values represents exportation)"
         }
        }
       }
      },
      "text/html": [
       "<div>\n",
       "        \n",
       "        \n",
       "            <div id=\"1139ad2c-545f-455c-8e61-f4f7d0e0ee44\" class=\"plotly-graph-div\" style=\"height:525px; width:100%;\"></div>\n",
       "            <script type=\"text/javascript\">\n",
       "                require([\"plotly\"], function(Plotly) {\n",
       "                    window.PLOTLYENV=window.PLOTLYENV || {};\n",
       "                    \n",
       "                if (document.getElementById(\"1139ad2c-545f-455c-8e61-f4f7d0e0ee44\")) {\n",
       "                    Plotly.newPlot(\n",
       "                        '1139ad2c-545f-455c-8e61-f4f7d0e0ee44',\n",
       "                        [{\"name\": \"Import Q Coffee, extracts\", \"orientation\": \"h\", \"type\": \"bar\", \"x\": [1166.0, 20309.0, 8217.0, 11664.0, 821.0, 8252.0, 33376.0, 24434.0, 8847.0, 47532.0, 2556.0, 759.0, 18364.0, 959.0, 54.0, 1232.0, 24220.0, 63212.0, 11750.0, 4766.0, 476.0, 10125.0, 1883.0, 13401.0, 11849.0, 21179.0, 19176.0, 12376.0, 14554.0, 366.0, 270.0, 4989.0, 151578.0, 31254.0, 3480.0, 10301.0, 8175.0, 63686.0, 9515.0, 6698.0, 12339.0, 6505.0, 2452.0, 16776.0, 12618.0, 193.0, 41627.0, 121.0, 48142.0, 11806.0], \"y\": [\"Algeria\", \"Australia\", \"Austria\", \"Belgium\", \"Brazil\", \"Bulgaria\", \"Canada\", \"China, Hong Kong SAR\", \"China, Taiwan Province of\", \"China, mainland\", \"Colombia\", \"Costa Rica\", \"Czechia\", \"C\\u00f4te d'Ivoire\", \"Ethiopia\", \"Finland\", \"France\", \"Germany\", \"Greece\", \"Guatemala\", \"Honduras\", \"Hungary\", \"India\", \"Indonesia\", \"Italy\", \"Japan\", \"Malaysia\", \"Mexico\", \"Netherlands\", \"Nicaragua\", \"Pakistan\", \"Peru\", \"Philippines\", \"Poland\", \"Portugal\", \"Republic of Korea\", \"Romania\", \"Russian Federation\", \"Saudi Arabia\", \"Slovakia\", \"Spain\", \"Sweden\", \"Switzerland\", \"Thailand\", \"Turkey\", \"Uganda\", \"United Kingdom\", \"United Republic of Tanzania\", \"United States of America\", \"Viet Nam\"]}, {\"name\": \"Import Q Coffee, green\", \"orientation\": \"h\", \"type\": \"bar\", \"x\": [138298.0, 83039.0, 16135.0, 288740.0, 14.0, 32483.0, 183894.0, 4442.0, 25558.0, 50573.0, 11799.0, 7771.0, 17624.0, 235.0, 13.0, 71324.0, 209884.0, 1140989.0, 49246.0, 4.0, 4.0, 2064.0, 71002.0, 24659.0, 580274.0, 435140.0, 86962.0, 65669.0, 166334.0, 1670.0, 0.0, 21.0, 43610.0, 103554.0, 53628.0, 142860.0, 20375.0, 150932.0, 44248.0, 3429.0, 287504.0, 110652.0, 151644.0, 46084.0, 39701.0, 119.0, 178347.0, 5.0, 1518126.0, 20334.0], \"y\": [\"Algeria\", \"Australia\", \"Austria\", \"Belgium\", \"Brazil\", \"Bulgaria\", \"Canada\", \"China, Hong Kong SAR\", \"China, Taiwan Province of\", \"China, mainland\", \"Colombia\", \"Costa Rica\", \"Czechia\", \"C\\u00f4te d'Ivoire\", \"Ethiopia\", \"Finland\", \"France\", \"Germany\", \"Greece\", \"Guatemala\", \"Honduras\", \"Hungary\", \"India\", \"Indonesia\", \"Italy\", \"Japan\", \"Malaysia\", \"Mexico\", \"Netherlands\", \"Nicaragua\", \"Pakistan\", \"Peru\", \"Philippines\", \"Poland\", \"Portugal\", \"Republic of Korea\", \"Romania\", \"Russian Federation\", \"Saudi Arabia\", \"Slovakia\", \"Spain\", \"Sweden\", \"Switzerland\", \"Thailand\", \"Turkey\", \"Uganda\", \"United Kingdom\", \"United Republic of Tanzania\", \"United States of America\", \"Viet Nam\"]}, {\"name\": \"Import Q Coffee, husks and skins\", \"orientation\": \"h\", \"type\": \"bar\", \"x\": [57.0, 0.0, 0.0, 48.0, 0.0, 13.0, 0.0, 26.0, 1.0, 0.0, 0.0, 0.0, 0.0, 0.0, 51.0, 0.0, 724.0, 6.0, 121.0, 0.0, 0.0, 0.0, 0.0, 0.0, 1.0, 0.0, 119.0, 0.0, 21.0, 0.0, 101.0, 1.0, 0.0, 568.0, 26.0, 0.0, 0.0, 1.0, 195.0, 38.0, 18.0, 18.0, 0.0, 0.0, 0.0, 10262.0, 10.0, 50.0, 112.0, 0.0], \"y\": [\"Algeria\", \"Australia\", \"Austria\", \"Belgium\", \"Brazil\", \"Bulgaria\", \"Canada\", \"China, Hong Kong SAR\", \"China, Taiwan Province of\", \"China, mainland\", \"Colombia\", \"Costa Rica\", \"Czechia\", \"C\\u00f4te d'Ivoire\", \"Ethiopia\", \"Finland\", \"France\", \"Germany\", \"Greece\", \"Guatemala\", \"Honduras\", \"Hungary\", \"India\", \"Indonesia\", \"Italy\", \"Japan\", \"Malaysia\", \"Mexico\", \"Netherlands\", \"Nicaragua\", \"Pakistan\", \"Peru\", \"Philippines\", \"Poland\", \"Portugal\", \"Republic of Korea\", \"Romania\", \"Russian Federation\", \"Saudi Arabia\", \"Slovakia\", \"Spain\", \"Sweden\", \"Switzerland\", \"Thailand\", \"Turkey\", \"Uganda\", \"United Kingdom\", \"United Republic of Tanzania\", \"United States of America\", \"Viet Nam\"]}, {\"name\": \"Import Q Coffee, roasted\", \"orientation\": \"h\", \"type\": \"bar\", \"x\": [343.0, 15750.0, 47900.0, 30440.0, 3007.0, 6356.0, 64960.0, 21430.0, 4796.0, 33733.0, 151.0, 332.0, 44022.0, 164.0, 11.0, 8350.0, 131937.0, 77746.0, 15732.0, 81.0, 21.0, 21579.0, 92.0, 513.0, 16122.0, 7499.0, 4033.0, 3704.0, 58573.0, 30.0, 39.0, 218.0, 1731.0, 43721.0, 7418.0, 10095.0, 29637.0, 20451.0, 2822.0, 33598.0, 27921.0, 14056.0, 11798.0, 1350.0, 3340.0, 26.0, 41110.0, 4.0, 85187.0, 3313.0], \"y\": [\"Algeria\", \"Australia\", \"Austria\", \"Belgium\", \"Brazil\", \"Bulgaria\", \"Canada\", \"China, Hong Kong SAR\", \"China, Taiwan Province of\", \"China, mainland\", \"Colombia\", \"Costa Rica\", \"Czechia\", \"C\\u00f4te d'Ivoire\", \"Ethiopia\", \"Finland\", \"France\", \"Germany\", \"Greece\", \"Guatemala\", \"Honduras\", \"Hungary\", \"India\", \"Indonesia\", \"Italy\", \"Japan\", \"Malaysia\", \"Mexico\", \"Netherlands\", \"Nicaragua\", \"Pakistan\", \"Peru\", \"Philippines\", \"Poland\", \"Portugal\", \"Republic of Korea\", \"Romania\", \"Russian Federation\", \"Saudi Arabia\", \"Slovakia\", \"Spain\", \"Sweden\", \"Switzerland\", \"Thailand\", \"Turkey\", \"Uganda\", \"United Kingdom\", \"United Republic of Tanzania\", \"United States of America\", \"Viet Nam\"]}, {\"name\": \"Import Q Coffee, substitutes containing coffee\", \"orientation\": \"h\", \"type\": \"bar\", \"x\": [0.0, 463.0, 113.0, 44.0, 0.0, 11.0, 879.0, 0.0, 1.0, 17.0, 0.0, 0.0, 170.0, 1.0, 0.0, 50.0, 498.0, 111.0, 94.0, 9.0, 2235.0, 57.0, 7.0, 0.0, 509.0, 8.0, 0.0, 0.0, 685.0, 0.0, 129844.0, 0.0, 97.0, 705.0, 774.0, 74.0, 543.0, 120.0, 169.0, 359.0, 4997.0, 61.0, 9.0, 0.0, 0.0, 0.0, 653.0, 0.0, 61.0, 24.0], \"y\": [\"Algeria\", \"Australia\", \"Austria\", \"Belgium\", \"Brazil\", \"Bulgaria\", \"Canada\", \"China, Hong Kong SAR\", \"China, Taiwan Province of\", \"China, mainland\", \"Colombia\", \"Costa Rica\", \"Czechia\", \"C\\u00f4te d'Ivoire\", \"Ethiopia\", \"Finland\", \"France\", \"Germany\", \"Greece\", \"Guatemala\", \"Honduras\", \"Hungary\", \"India\", \"Indonesia\", \"Italy\", \"Japan\", \"Malaysia\", \"Mexico\", \"Netherlands\", \"Nicaragua\", \"Pakistan\", \"Peru\", \"Philippines\", \"Poland\", \"Portugal\", \"Republic of Korea\", \"Romania\", \"Russian Federation\", \"Saudi Arabia\", \"Slovakia\", \"Spain\", \"Sweden\", \"Switzerland\", \"Thailand\", \"Turkey\", \"Uganda\", \"United Kingdom\", \"United Republic of Tanzania\", \"United States of America\", \"Viet Nam\"]}, {\"name\": \"Export Q Coffee, extracts\", \"orientation\": \"h\", \"type\": \"bar\", \"x\": [-9.0, -5007.0, -3375.0, -12107.0, -92222.0, -770.0, -825.0, -6709.0, -19361.0, -39655.0, -19917.0, -17.0, -17083.0, -4593.0, -0.0, -43.0, -18539.0, -92755.0, -1679.0, -83.0, -15.0, -20174.0, -59579.0, -143190.0, -6017.0, -1930.0, -90252.0, -17492.0, -24491.0, -1430.0, -13.0, -116.0, -2168.0, -29869.0, -893.0, -30127.0, -6124.0, -20876.0, -830.0, -786.0, -33964.0, -4301.0, -10087.0, -34749.0, -6372.0, -93.0, -34393.0, -81.0, -43729.0, -71441.0], \"y\": [\"Algeria\", \"Australia\", \"Austria\", \"Belgium\", \"Brazil\", \"Bulgaria\", \"Canada\", \"China, Hong Kong SAR\", \"China, Taiwan Province of\", \"China, mainland\", \"Colombia\", \"Costa Rica\", \"Czechia\", \"C\\u00f4te d'Ivoire\", \"Ethiopia\", \"Finland\", \"France\", \"Germany\", \"Greece\", \"Guatemala\", \"Honduras\", \"Hungary\", \"India\", \"Indonesia\", \"Italy\", \"Japan\", \"Malaysia\", \"Mexico\", \"Netherlands\", \"Nicaragua\", \"Pakistan\", \"Peru\", \"Philippines\", \"Poland\", \"Portugal\", \"Republic of Korea\", \"Romania\", \"Russian Federation\", \"Saudi Arabia\", \"Slovakia\", \"Spain\", \"Sweden\", \"Switzerland\", \"Thailand\", \"Turkey\", \"Uganda\", \"United Kingdom\", \"United Republic of Tanzania\", \"United States of America\", \"Viet Nam\"]}, {\"name\": \"Export Q Coffee, green\", \"orientation\": \"h\", \"type\": \"bar\", \"x\": [-0.0, -824.0, -180.0, -188781.0, -1823886.0, -1201.0, -14868.0, -263.0, -817.0, -82666.0, -734689.0, -75495.0, -1512.0, -73409.0, -159712.0, -8995.0, -4995.0, -335643.0, -6520.0, -182588.0, -309924.0, -394.0, -250415.0, -412529.0, -11655.0, -131.0, -934.0, -79916.0, -19502.0, -117657.0, -0.0, -239343.0, -6.0, -3158.0, -1550.0, -155.0, -113.0, -256.0, -121.0, -84.0, -31036.0, -1318.0, -1729.0, -334.0, -19.0, -210584.0, -14677.0, -57925.0, -40628.0, -1400000.0], \"y\": [\"Algeria\", \"Australia\", \"Austria\", \"Belgium\", \"Brazil\", \"Bulgaria\", \"Canada\", \"China, Hong Kong SAR\", \"China, Taiwan Province of\", \"China, mainland\", \"Colombia\", \"Costa Rica\", \"Czechia\", \"C\\u00f4te d'Ivoire\", \"Ethiopia\", \"Finland\", \"France\", \"Germany\", \"Greece\", \"Guatemala\", \"Honduras\", \"Hungary\", \"India\", \"Indonesia\", \"Italy\", \"Japan\", \"Malaysia\", \"Mexico\", \"Netherlands\", \"Nicaragua\", \"Pakistan\", \"Peru\", \"Philippines\", \"Poland\", \"Portugal\", \"Republic of Korea\", \"Romania\", \"Russian Federation\", \"Saudi Arabia\", \"Slovakia\", \"Spain\", \"Sweden\", \"Switzerland\", \"Thailand\", \"Turkey\", \"Uganda\", \"United Kingdom\", \"United Republic of Tanzania\", \"United States of America\", \"Viet Nam\"]}, {\"name\": \"Export Q Coffee, husks and skins\", \"orientation\": \"h\", \"type\": \"bar\", \"x\": [-0.0, -0.0, -0.0, -10.0, -0.0, -0.0, -0.0, -87.0, -0.0, -0.0, -0.0, -0.0, -0.0, -0.0, -48.0, -0.0, -100.0, -4.0, -18.0, -0.0, -0.0, -6.0, -395.0, -25.0, -26.0, -0.0, -190.0, -0.0, -2.0, -0.0, -28.0, -216.0, -0.0, -2.0, -111.0, -0.0, -0.0, -0.0, -18.0, -76.0, -3.0, -0.0, -0.0, -2.0, -0.0, -132.0, -27.0, -74.0, -98.0, -10.0], \"y\": [\"Algeria\", \"Australia\", \"Austria\", \"Belgium\", \"Brazil\", \"Bulgaria\", \"Canada\", \"China, Hong Kong SAR\", \"China, Taiwan Province of\", \"China, mainland\", \"Colombia\", \"Costa Rica\", \"Czechia\", \"C\\u00f4te d'Ivoire\", \"Ethiopia\", \"Finland\", \"France\", \"Germany\", \"Greece\", \"Guatemala\", \"Honduras\", \"Hungary\", \"India\", \"Indonesia\", \"Italy\", \"Japan\", \"Malaysia\", \"Mexico\", \"Netherlands\", \"Nicaragua\", \"Pakistan\", \"Peru\", \"Philippines\", \"Poland\", \"Portugal\", \"Republic of Korea\", \"Romania\", \"Russian Federation\", \"Saudi Arabia\", \"Slovakia\", \"Spain\", \"Sweden\", \"Switzerland\", \"Thailand\", \"Turkey\", \"Uganda\", \"United Kingdom\", \"United Republic of Tanzania\", \"United States of America\", \"Viet Nam\"]}, {\"name\": \"Export Q Coffee, roasted\", \"orientation\": \"h\", \"type\": \"bar\", \"x\": [-1.0, -2870.0, -12460.0, -64380.0, -2133.0, -15036.0, -48499.0, -3933.0, -248.0, -28089.0, -4831.0, -383.0, -36370.0, -1.0, -55.0, -4572.0, -29696.0, -215472.0, -1046.0, -63.0, -95.0, -9503.0, -309.0, -2085.0, -198570.0, -2093.0, -8247.0, -9122.0, -67044.0, -400.0, -0.0, -72.0, -12.0, -62233.0, -12055.0, -240.0, -1243.0, -4697.0, -107.0, -32728.0, -19487.0, -22644.0, -65815.0, -185.0, -1034.0, -24.0, -22895.0, -118.0, -88927.0, -25551.0], \"y\": [\"Algeria\", \"Australia\", \"Austria\", \"Belgium\", \"Brazil\", \"Bulgaria\", \"Canada\", \"China, Hong Kong SAR\", \"China, Taiwan Province of\", \"China, mainland\", \"Colombia\", \"Costa Rica\", \"Czechia\", \"C\\u00f4te d'Ivoire\", \"Ethiopia\", \"Finland\", \"France\", \"Germany\", \"Greece\", \"Guatemala\", \"Honduras\", \"Hungary\", \"India\", \"Indonesia\", \"Italy\", \"Japan\", \"Malaysia\", \"Mexico\", \"Netherlands\", \"Nicaragua\", \"Pakistan\", \"Peru\", \"Philippines\", \"Poland\", \"Portugal\", \"Republic of Korea\", \"Romania\", \"Russian Federation\", \"Saudi Arabia\", \"Slovakia\", \"Spain\", \"Sweden\", \"Switzerland\", \"Thailand\", \"Turkey\", \"Uganda\", \"United Kingdom\", \"United Republic of Tanzania\", \"United States of America\", \"Viet Nam\"]}, {\"name\": \"Export Q Coffee, substitutes containing coffee\", \"orientation\": \"h\", \"type\": \"bar\", \"x\": [-0.0, -597.0, -32.0, -55.0, -35.0, -870.0, -77.0, -0.0, -2.0, -2.0, -10.0, -12.0, -226.0, -0.0, -0.0, -0.0, -60.0, -64.0, -4.0, -51.0, -40.0, -47.0, -305.0, -13.0, -331.0, -0.0, -0.0, -13.0, -90.0, -2962.0, -2.0, -0.0, -24.0, -1161.0, -433.0, -15.0, -11.0, -1.0, -146.0, -410.0, -537.0, -344.0, -4.0, -0.0, -60.0, -0.0, -96.0, -0.0, -695.0, -2210.0], \"y\": [\"Algeria\", \"Australia\", \"Austria\", \"Belgium\", \"Brazil\", \"Bulgaria\", \"Canada\", \"China, Hong Kong SAR\", \"China, Taiwan Province of\", \"China, mainland\", \"Colombia\", \"Costa Rica\", \"Czechia\", \"C\\u00f4te d'Ivoire\", \"Ethiopia\", \"Finland\", \"France\", \"Germany\", \"Greece\", \"Guatemala\", \"Honduras\", \"Hungary\", \"India\", \"Indonesia\", \"Italy\", \"Japan\", \"Malaysia\", \"Mexico\", \"Netherlands\", \"Nicaragua\", \"Pakistan\", \"Peru\", \"Philippines\", \"Poland\", \"Portugal\", \"Republic of Korea\", \"Romania\", \"Russian Federation\", \"Saudi Arabia\", \"Slovakia\", \"Spain\", \"Sweden\", \"Switzerland\", \"Thailand\", \"Turkey\", \"Uganda\", \"United Kingdom\", \"United Republic of Tanzania\", \"United States of America\", \"Viet Nam\"]}],\n",
       "                        {\"barmode\": \"relative\", \"template\": {\"data\": {\"bar\": [{\"error_x\": {\"color\": \"#2a3f5f\"}, \"error_y\": {\"color\": \"#2a3f5f\"}, \"marker\": {\"line\": {\"color\": \"#E5ECF6\", \"width\": 0.5}}, \"type\": \"bar\"}], \"barpolar\": [{\"marker\": {\"line\": {\"color\": \"#E5ECF6\", \"width\": 0.5}}, \"type\": \"barpolar\"}], \"carpet\": [{\"aaxis\": {\"endlinecolor\": \"#2a3f5f\", \"gridcolor\": \"white\", \"linecolor\": \"white\", \"minorgridcolor\": \"white\", \"startlinecolor\": \"#2a3f5f\"}, \"baxis\": {\"endlinecolor\": \"#2a3f5f\", \"gridcolor\": \"white\", \"linecolor\": \"white\", \"minorgridcolor\": \"white\", \"startlinecolor\": \"#2a3f5f\"}, \"type\": \"carpet\"}], \"choropleth\": [{\"colorbar\": {\"outlinewidth\": 0, \"ticks\": \"\"}, \"type\": \"choropleth\"}], \"contour\": [{\"colorbar\": {\"outlinewidth\": 0, \"ticks\": \"\"}, \"colorscale\": [[0.0, \"#0d0887\"], [0.1111111111111111, \"#46039f\"], [0.2222222222222222, \"#7201a8\"], [0.3333333333333333, \"#9c179e\"], [0.4444444444444444, \"#bd3786\"], [0.5555555555555556, \"#d8576b\"], [0.6666666666666666, \"#ed7953\"], [0.7777777777777778, \"#fb9f3a\"], [0.8888888888888888, \"#fdca26\"], [1.0, \"#f0f921\"]], \"type\": \"contour\"}], \"contourcarpet\": [{\"colorbar\": {\"outlinewidth\": 0, \"ticks\": \"\"}, \"type\": \"contourcarpet\"}], \"heatmap\": [{\"colorbar\": {\"outlinewidth\": 0, \"ticks\": \"\"}, \"colorscale\": [[0.0, \"#0d0887\"], [0.1111111111111111, \"#46039f\"], [0.2222222222222222, \"#7201a8\"], [0.3333333333333333, \"#9c179e\"], [0.4444444444444444, \"#bd3786\"], [0.5555555555555556, \"#d8576b\"], [0.6666666666666666, \"#ed7953\"], [0.7777777777777778, \"#fb9f3a\"], [0.8888888888888888, \"#fdca26\"], [1.0, \"#f0f921\"]], \"type\": \"heatmap\"}], \"heatmapgl\": [{\"colorbar\": {\"outlinewidth\": 0, \"ticks\": \"\"}, \"colorscale\": [[0.0, \"#0d0887\"], [0.1111111111111111, \"#46039f\"], [0.2222222222222222, \"#7201a8\"], [0.3333333333333333, \"#9c179e\"], [0.4444444444444444, \"#bd3786\"], [0.5555555555555556, \"#d8576b\"], [0.6666666666666666, \"#ed7953\"], [0.7777777777777778, \"#fb9f3a\"], [0.8888888888888888, \"#fdca26\"], [1.0, \"#f0f921\"]], \"type\": \"heatmapgl\"}], \"histogram\": [{\"marker\": {\"colorbar\": {\"outlinewidth\": 0, \"ticks\": \"\"}}, \"type\": \"histogram\"}], \"histogram2d\": [{\"colorbar\": {\"outlinewidth\": 0, \"ticks\": \"\"}, \"colorscale\": [[0.0, \"#0d0887\"], [0.1111111111111111, \"#46039f\"], [0.2222222222222222, \"#7201a8\"], [0.3333333333333333, \"#9c179e\"], [0.4444444444444444, \"#bd3786\"], [0.5555555555555556, \"#d8576b\"], [0.6666666666666666, \"#ed7953\"], [0.7777777777777778, \"#fb9f3a\"], [0.8888888888888888, \"#fdca26\"], [1.0, \"#f0f921\"]], \"type\": \"histogram2d\"}], \"histogram2dcontour\": [{\"colorbar\": {\"outlinewidth\": 0, \"ticks\": \"\"}, \"colorscale\": [[0.0, \"#0d0887\"], [0.1111111111111111, \"#46039f\"], [0.2222222222222222, \"#7201a8\"], [0.3333333333333333, \"#9c179e\"], [0.4444444444444444, \"#bd3786\"], [0.5555555555555556, \"#d8576b\"], [0.6666666666666666, \"#ed7953\"], [0.7777777777777778, \"#fb9f3a\"], [0.8888888888888888, \"#fdca26\"], [1.0, \"#f0f921\"]], \"type\": \"histogram2dcontour\"}], \"mesh3d\": [{\"colorbar\": {\"outlinewidth\": 0, \"ticks\": \"\"}, \"type\": \"mesh3d\"}], \"parcoords\": [{\"line\": {\"colorbar\": {\"outlinewidth\": 0, \"ticks\": \"\"}}, \"type\": \"parcoords\"}], \"pie\": [{\"automargin\": true, \"type\": \"pie\"}], \"scatter\": [{\"marker\": {\"colorbar\": {\"outlinewidth\": 0, \"ticks\": \"\"}}, \"type\": \"scatter\"}], \"scatter3d\": [{\"line\": {\"colorbar\": {\"outlinewidth\": 0, \"ticks\": \"\"}}, \"marker\": {\"colorbar\": {\"outlinewidth\": 0, \"ticks\": \"\"}}, \"type\": \"scatter3d\"}], \"scattercarpet\": [{\"marker\": {\"colorbar\": {\"outlinewidth\": 0, \"ticks\": \"\"}}, \"type\": \"scattercarpet\"}], \"scattergeo\": [{\"marker\": {\"colorbar\": {\"outlinewidth\": 0, \"ticks\": \"\"}}, \"type\": \"scattergeo\"}], \"scattergl\": [{\"marker\": {\"colorbar\": {\"outlinewidth\": 0, \"ticks\": \"\"}}, \"type\": \"scattergl\"}], \"scattermapbox\": [{\"marker\": {\"colorbar\": {\"outlinewidth\": 0, \"ticks\": \"\"}}, \"type\": \"scattermapbox\"}], \"scatterpolar\": [{\"marker\": {\"colorbar\": {\"outlinewidth\": 0, \"ticks\": \"\"}}, \"type\": \"scatterpolar\"}], \"scatterpolargl\": [{\"marker\": {\"colorbar\": {\"outlinewidth\": 0, \"ticks\": \"\"}}, \"type\": \"scatterpolargl\"}], \"scatterternary\": [{\"marker\": {\"colorbar\": {\"outlinewidth\": 0, \"ticks\": \"\"}}, \"type\": \"scatterternary\"}], \"surface\": [{\"colorbar\": {\"outlinewidth\": 0, \"ticks\": \"\"}, \"colorscale\": [[0.0, \"#0d0887\"], [0.1111111111111111, \"#46039f\"], [0.2222222222222222, \"#7201a8\"], [0.3333333333333333, \"#9c179e\"], [0.4444444444444444, \"#bd3786\"], [0.5555555555555556, \"#d8576b\"], [0.6666666666666666, \"#ed7953\"], [0.7777777777777778, \"#fb9f3a\"], [0.8888888888888888, \"#fdca26\"], [1.0, \"#f0f921\"]], \"type\": \"surface\"}], \"table\": [{\"cells\": {\"fill\": {\"color\": \"#EBF0F8\"}, \"line\": {\"color\": \"white\"}}, \"header\": {\"fill\": {\"color\": \"#C8D4E3\"}, \"line\": {\"color\": \"white\"}}, \"type\": \"table\"}]}, \"layout\": {\"annotationdefaults\": {\"arrowcolor\": \"#2a3f5f\", \"arrowhead\": 0, \"arrowwidth\": 1}, \"coloraxis\": {\"colorbar\": {\"outlinewidth\": 0, \"ticks\": \"\"}}, \"colorscale\": {\"diverging\": [[0, \"#8e0152\"], [0.1, \"#c51b7d\"], [0.2, \"#de77ae\"], [0.3, \"#f1b6da\"], [0.4, \"#fde0ef\"], [0.5, \"#f7f7f7\"], [0.6, \"#e6f5d0\"], [0.7, \"#b8e186\"], [0.8, \"#7fbc41\"], [0.9, \"#4d9221\"], [1, \"#276419\"]], \"sequential\": [[0.0, \"#0d0887\"], [0.1111111111111111, \"#46039f\"], [0.2222222222222222, \"#7201a8\"], [0.3333333333333333, \"#9c179e\"], [0.4444444444444444, \"#bd3786\"], [0.5555555555555556, \"#d8576b\"], [0.6666666666666666, \"#ed7953\"], [0.7777777777777778, \"#fb9f3a\"], [0.8888888888888888, \"#fdca26\"], [1.0, \"#f0f921\"]], \"sequentialminus\": [[0.0, \"#0d0887\"], [0.1111111111111111, \"#46039f\"], [0.2222222222222222, \"#7201a8\"], [0.3333333333333333, \"#9c179e\"], [0.4444444444444444, \"#bd3786\"], [0.5555555555555556, \"#d8576b\"], [0.6666666666666666, \"#ed7953\"], [0.7777777777777778, \"#fb9f3a\"], [0.8888888888888888, \"#fdca26\"], [1.0, \"#f0f921\"]]}, \"colorway\": [\"#636efa\", \"#EF553B\", \"#00cc96\", \"#ab63fa\", \"#FFA15A\", \"#19d3f3\", \"#FF6692\", \"#B6E880\", \"#FF97FF\", \"#FECB52\"], \"font\": {\"color\": \"#2a3f5f\"}, \"geo\": {\"bgcolor\": \"white\", \"lakecolor\": \"white\", \"landcolor\": \"#E5ECF6\", \"showlakes\": true, \"showland\": true, \"subunitcolor\": \"white\"}, \"hoverlabel\": {\"align\": \"left\"}, \"hovermode\": \"closest\", \"mapbox\": {\"style\": \"light\"}, \"paper_bgcolor\": \"white\", \"plot_bgcolor\": \"#E5ECF6\", \"polar\": {\"angularaxis\": {\"gridcolor\": \"white\", \"linecolor\": \"white\", \"ticks\": \"\"}, \"bgcolor\": \"#E5ECF6\", \"radialaxis\": {\"gridcolor\": \"white\", \"linecolor\": \"white\", \"ticks\": \"\"}}, \"scene\": {\"xaxis\": {\"backgroundcolor\": \"#E5ECF6\", \"gridcolor\": \"white\", \"gridwidth\": 2, \"linecolor\": \"white\", \"showbackground\": true, \"ticks\": \"\", \"zerolinecolor\": \"white\"}, \"yaxis\": {\"backgroundcolor\": \"#E5ECF6\", \"gridcolor\": \"white\", \"gridwidth\": 2, \"linecolor\": \"white\", \"showbackground\": true, \"ticks\": \"\", \"zerolinecolor\": \"white\"}, \"zaxis\": {\"backgroundcolor\": \"#E5ECF6\", \"gridcolor\": \"white\", \"gridwidth\": 2, \"linecolor\": \"white\", \"showbackground\": true, \"ticks\": \"\", \"zerolinecolor\": \"white\"}}, \"shapedefaults\": {\"line\": {\"color\": \"#2a3f5f\"}}, \"ternary\": {\"aaxis\": {\"gridcolor\": \"white\", \"linecolor\": \"white\", \"ticks\": \"\"}, \"baxis\": {\"gridcolor\": \"white\", \"linecolor\": \"white\", \"ticks\": \"\"}, \"bgcolor\": \"#E5ECF6\", \"caxis\": {\"gridcolor\": \"white\", \"linecolor\": \"white\", \"ticks\": \"\"}}, \"title\": {\"x\": 0.05}, \"xaxis\": {\"automargin\": true, \"gridcolor\": \"white\", \"linecolor\": \"white\", \"ticks\": \"\", \"title\": {\"standoff\": 15}, \"zerolinecolor\": \"white\", \"zerolinewidth\": 2}, \"yaxis\": {\"automargin\": true, \"gridcolor\": \"white\", \"linecolor\": \"white\", \"ticks\": \"\", \"title\": {\"standoff\": 15}, \"zerolinecolor\": \"white\", \"zerolinewidth\": 2}}}, \"xaxis\": {\"title\": {\"text\": \"Export/Import Quantities [tonnes] (Negative values represents exportation)\"}}},\n",
       "                        {\"responsive\": true}\n",
       "                    ).then(function(){\n",
       "                            \n",
       "var gd = document.getElementById('1139ad2c-545f-455c-8e61-f4f7d0e0ee44');\n",
       "var x = new MutationObserver(function (mutations, observer) {{\n",
       "        var display = window.getComputedStyle(gd).display;\n",
       "        if (!display || display === 'none') {{\n",
       "            console.log([gd, 'removed!']);\n",
       "            Plotly.purge(gd);\n",
       "            observer.disconnect();\n",
       "        }}\n",
       "}});\n",
       "\n",
       "// Listen for the removal of the full notebook cells\n",
       "var notebookContainer = gd.closest('#notebook-container');\n",
       "if (notebookContainer) {{\n",
       "    x.observe(notebookContainer, {childList: true});\n",
       "}}\n",
       "\n",
       "// Listen for the clearing of the current output cell\n",
       "var outputEl = gd.closest('.output');\n",
       "if (outputEl) {{\n",
       "    x.observe(outputEl, {childList: true});\n",
       "}}\n",
       "\n",
       "                        })\n",
       "                };\n",
       "                });\n",
       "            </script>\n",
       "        </div>"
      ]
     },
     "metadata": {},
     "output_type": "display_data"
    }
   ],
   "source": [
    "# Plot the horizontal bar plot\n",
    "fig = go.Figure(data=[\n",
    "    go.Bar(name='Import Q Coffee, extracts', y=df_import_export.Country, x=df_import_export.import_q_coffee_extracts,orientation='h'),\n",
    "    go.Bar(name='Import Q Coffee, green', y=df_import_export.Country, x=df_import_export.import_q_coffee_green,orientation='h'),\n",
    "    go.Bar(name='Import Q Coffee, husks and skins', y=df_import_export.Country, x=df_import_export.import_q_coffee_husks_and_skins,orientation='h'),\n",
    "    go.Bar(name='Import Q Coffee, roasted', y=df_import_export.Country, x=df_import_export.import_q_coffee_roasted,orientation='h'),\n",
    "    go.Bar(name='Import Q Coffee, substitutes containing coffee', y=df_import_export.Country, x=df_import_export.import_q_coffee_substitutes_containing_coffee,orientation='h'),\n",
    "    go.Bar(name='Export Q Coffee, extracts', y=df_import_export.Country, x=df_import_export.export_q_coffee_extracts,orientation='h'),\n",
    "    go.Bar(name='Export Q Coffee, green', y=df_import_export.Country, x=df_import_export.export_q_coffee_green,orientation='h'),\n",
    "    go.Bar(name='Export Q Coffee, husks and skins', y=df_import_export.Country, x=df_import_export.export_q_coffee_husks_and_skins,orientation='h'),\n",
    "    go.Bar(name='Export Q Coffee, roasted', y=df_import_export.Country, x=df_import_export.export_q_coffee_roasted,orientation='h'),\n",
    "    go.Bar(name='Export Q Coffee, substitutes containing coffee', y=df_import_export.Country, x=df_import_export.export_q_coffee_substitutes_containing_coffee,orientation='h')\n",
    "\n",
    "])\n",
    "# Change the bar mode\n",
    "fig.update_layout(barmode='relative')\n",
    "fig.update_layout(\n",
    "    xaxis_title=\"Export/Import Quantities [tonnes] (Negative values represents exportation)\")\n",
    "fig.show()"
   ]
  },
  {
   "cell_type": "code",
   "execution_count": 575,
   "metadata": {},
   "outputs": [
    {
     "data": {
      "text/plain": [
       "'ImportExportCoffee.html'"
      ]
     },
     "execution_count": 575,
     "metadata": {},
     "output_type": "execute_result"
    }
   ],
   "source": [
    "plotly.offline.plot(fig,filename='ImportExportCoffee.html')"
   ]
  },
  {
   "cell_type": "code",
   "execution_count": null,
   "metadata": {},
   "outputs": [],
   "source": []
  }
 ],
 "metadata": {
  "kernelspec": {
   "display_name": "Python 3",
   "language": "python",
   "name": "python3"
  },
  "language_info": {
   "codemirror_mode": {
    "name": "ipython",
    "version": 3
   },
   "file_extension": ".py",
   "mimetype": "text/x-python",
   "name": "python",
   "nbconvert_exporter": "python",
   "pygments_lexer": "ipython3",
   "version": "3.7.3"
  }
 },
 "nbformat": 4,
 "nbformat_minor": 2
}
